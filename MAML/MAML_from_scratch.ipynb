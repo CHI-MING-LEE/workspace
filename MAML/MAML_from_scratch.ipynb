{
 "cells": [
  {
   "cell_type": "code",
   "execution_count": null,
   "metadata": {},
   "outputs": [],
   "source": [
    "# Ref:\n",
    "# https://github.com/sudharsan13296/Hands-On-Meta-Learning-With-Python/tree/master/06.%20MAML%20and%20it's%20Variants"
   ]
  },
  {
   "cell_type": "markdown",
   "metadata": {
    "ExecuteTime": {
     "end_time": "2019-07-14T03:43:50.404969Z",
     "start_time": "2019-07-14T03:43:50.292368Z"
    }
   },
   "source": [
    "![title](Algorithm.PNG)"
   ]
  },
  {
   "cell_type": "code",
   "execution_count": 1,
   "metadata": {
    "ExecuteTime": {
     "end_time": "2019-07-14T11:56:29.691161Z",
     "start_time": "2019-07-14T11:56:29.687493Z"
    }
   },
   "outputs": [],
   "source": [
    "import numpy as np"
   ]
  },
  {
   "cell_type": "code",
   "execution_count": 2,
   "metadata": {
    "ExecuteTime": {
     "end_time": "2019-07-14T11:56:31.599564Z",
     "start_time": "2019-07-14T11:56:31.594876Z"
    }
   },
   "outputs": [],
   "source": [
    "def sample_points(k):\n",
    "    x = np.random.rand(k,50)\n",
    "    y = np.random.choice([0, 1], size=k, p=[.5, .5]).reshape([-1,1])\n",
    "    return x,y"
   ]
  },
  {
   "cell_type": "code",
   "execution_count": 3,
   "metadata": {
    "ExecuteTime": {
     "end_time": "2019-07-14T11:56:32.459503Z",
     "start_time": "2019-07-14T11:56:32.444315Z"
    }
   },
   "outputs": [
    {
     "data": {
      "text/plain": [
       "(array([[0.28990196, 0.90793764, 0.23421841, 0.67913086, 0.76418995,\n",
       "         0.18841729, 0.12222369, 0.55810223, 0.24859761, 0.32549487,\n",
       "         0.39976121, 0.80769984, 0.38958264, 0.57690576, 0.49416128,\n",
       "         0.90208894, 0.62708224, 0.05897736, 0.4249155 , 0.25914113,\n",
       "         0.33541824, 0.21043635, 0.34308769, 0.13740121, 0.98087293,\n",
       "         0.460416  , 0.67733664, 0.50000008, 0.57856388, 0.82864749,\n",
       "         0.89001534, 0.0418834 , 0.3681971 , 0.22715244, 0.03816675,\n",
       "         0.90126498, 0.35985741, 0.48516955, 0.32467412, 0.7556343 ,\n",
       "         0.0679308 , 0.44552869, 0.31944692, 0.8317235 , 0.26212497,\n",
       "         0.68972078, 0.91044049, 0.05556849, 0.94329861, 0.97070162],\n",
       "        [0.58815487, 0.58490588, 0.49850777, 0.67846093, 0.12363671,\n",
       "         0.02581901, 0.40651341, 0.93896464, 0.01332282, 0.26109609,\n",
       "         0.3754193 , 0.15806783, 0.76559732, 0.68129808, 0.12001497,\n",
       "         0.7535202 , 0.47517047, 0.61089555, 0.94064037, 0.52245568,\n",
       "         0.80133887, 0.32472378, 0.51804049, 0.75281627, 0.08149981,\n",
       "         0.04176011, 0.78011301, 0.84778784, 0.13922541, 0.79450984,\n",
       "         0.99011554, 0.84633112, 0.03094929, 0.40331985, 0.29558391,\n",
       "         0.32046094, 0.37016494, 0.34837034, 0.60695609, 0.14405106,\n",
       "         0.76120627, 0.7908184 , 0.92017265, 0.74903699, 0.59761977,\n",
       "         0.53651197, 0.25206112, 0.86392305, 0.73139855, 0.51832069]]),\n",
       " array([[1],\n",
       "        [0]]))"
      ]
     },
     "execution_count": 3,
     "metadata": {},
     "output_type": "execute_result"
    }
   ],
   "source": [
    "sample_points(2)"
   ]
  },
  {
   "cell_type": "code",
   "execution_count": 4,
   "metadata": {
    "ExecuteTime": {
     "end_time": "2019-07-14T11:56:33.515969Z",
     "start_time": "2019-07-14T11:56:33.509443Z"
    }
   },
   "outputs": [
    {
     "data": {
      "text/plain": [
       "array([[6]])"
      ]
     },
     "execution_count": 4,
     "metadata": {},
     "output_type": "execute_result"
    }
   ],
   "source": [
    "np.matmul(np.array([[1, 2]]).reshape(1, 2), np.array([[2, 2]]).reshape(2, 1))"
   ]
  },
  {
   "cell_type": "code",
   "execution_count": 5,
   "metadata": {
    "ExecuteTime": {
     "end_time": "2019-07-14T11:56:34.995438Z",
     "start_time": "2019-07-14T11:56:34.981135Z"
    }
   },
   "outputs": [],
   "source": [
    "class MAML(object):\n",
    "    def __init__(self):\n",
    "        \n",
    "        #initialize number of tasks i.e number of tasks we need in each batch of tasks\n",
    "        self.num_tasks = 10\n",
    "        \n",
    "        #number of samples i.e number of shots  -number of data points (k) we need to have in each task\n",
    "        self.num_samples = 10\n",
    "\n",
    "        #number of epochs i.e training iterations\n",
    "        self.epochs = 1000\n",
    "        \n",
    "        #hyperparameter for the inner loop (inner gradient update)\n",
    "        self.alpha = 0.001\n",
    "        \n",
    "        #hyperparameter for the outer loop (outer gradient update) i.e meta optimization\n",
    "        self.beta = 0.001\n",
    "        \n",
    "        #randomly initialize our model parameter theta\n",
    "        self.theta = np.random.normal(size=50).reshape(50, 1)\n",
    "\n",
    "    #define our sigmoid activation function  \n",
    "    def sigmoid(self,a):\n",
    "        return 1.0 / (1 + np.exp(-a))\n",
    "    \n",
    "    #now let us get to the interesting part i.e training :P\n",
    "    def train(self):\n",
    "        \n",
    "        #for the number of epochs,\n",
    "        for e in range(self.epochs):        \n",
    "            \n",
    "            self.theta_ = []\n",
    "            \n",
    "            #for task i in batch of tasks\n",
    "            for i in range(self.num_tasks):\n",
    "                \n",
    "                #sample k data points and prepare our train set\n",
    "                XTrain, YTrain = sample_points(self.num_samples)\n",
    "                \n",
    "                a = np.matmul(XTrain, self.theta)\n",
    "\n",
    "                YHat = self.sigmoid(a)\n",
    "\n",
    "                #since we are performing classification, we use cross entropy loss as our loss function\n",
    "                loss = ((np.matmul(-YTrain.T, np.log(YHat)) - np.matmul((1 -YTrain.T), np.log(1 - YHat)))/self.num_samples)[0][0]\n",
    "                \n",
    "                #minimize the loss by calculating gradients\n",
    "                gradient = np.matmul(XTrain.T, (YHat - YTrain)) / self.num_samples\n",
    "\n",
    "                #update the gradients and find the optimal parameter theta' for each of tasks\n",
    "                self.theta_.append(self.theta - self.alpha*gradient)\n",
    "                \n",
    "                \n",
    "            #initialize meta gradients\n",
    "            meta_gradient = np.zeros(self.theta.shape)\n",
    "                        \n",
    "            for i in range(self.num_tasks):\n",
    "            \n",
    "                #sample k data points and prepare our test set for meta training\n",
    "                XTest, YTest = sample_points(10)\n",
    "\n",
    "                #predict the value of y\n",
    "                a = np.matmul(XTest, self.theta_[i])\n",
    "                \n",
    "                YPred = self.sigmoid(a)\n",
    "                           \n",
    "                #compute meta gradients\n",
    "                meta_gradient += np.matmul(XTest.T, (YPred - YTest)) / self.num_samples\n",
    "\n",
    "                \n",
    "            #update our randomly initialized model parameter theta with the meta gradients\n",
    "            self.theta = self.theta-self.beta*meta_gradient/self.num_tasks\n",
    "                                       \n",
    "            if e%200==0:\n",
    "                print(\"Epoch {}: Loss {}\\n\".format(e,loss))             \n",
    "                print('Updated Model Parameter Theta\\n') \n",
    "                print('Sampling Next Batch of Tasks \\n')\n",
    "                print('---------------------------------\\n')\n",
    "        return self.theta"
   ]
  },
  {
   "cell_type": "code",
   "execution_count": 6,
   "metadata": {
    "ExecuteTime": {
     "end_time": "2019-07-14T11:56:35.983098Z",
     "start_time": "2019-07-14T11:56:35.979146Z"
    }
   },
   "outputs": [],
   "source": [
    "model = MAML()"
   ]
  },
  {
   "cell_type": "code",
   "execution_count": 7,
   "metadata": {
    "ExecuteTime": {
     "end_time": "2019-07-14T11:56:38.588764Z",
     "start_time": "2019-07-14T11:56:36.545245Z"
    }
   },
   "outputs": [
    {
     "name": "stdout",
     "output_type": "stream",
     "text": [
      "Epoch 0: Loss 1.471125890239991\n",
      "\n",
      "Updated Model Parameter Theta\n",
      "\n",
      "Sampling Next Batch of Tasks \n",
      "\n",
      "---------------------------------\n",
      "\n",
      "Epoch 200: Loss 0.971124679744533\n",
      "\n",
      "Updated Model Parameter Theta\n",
      "\n",
      "Sampling Next Batch of Tasks \n",
      "\n",
      "---------------------------------\n",
      "\n",
      "Epoch 400: Loss 1.0434002569741918\n",
      "\n",
      "Updated Model Parameter Theta\n",
      "\n",
      "Sampling Next Batch of Tasks \n",
      "\n",
      "---------------------------------\n",
      "\n",
      "Epoch 600: Loss 0.5292412384581618\n",
      "\n",
      "Updated Model Parameter Theta\n",
      "\n",
      "Sampling Next Batch of Tasks \n",
      "\n",
      "---------------------------------\n",
      "\n",
      "Epoch 800: Loss 0.5666395851080482\n",
      "\n",
      "Updated Model Parameter Theta\n",
      "\n",
      "Sampling Next Batch of Tasks \n",
      "\n",
      "---------------------------------\n",
      "\n"
     ]
    },
    {
     "data": {
      "text/plain": [
       "array([[-1.03845523],\n",
       "       [ 0.02096362],\n",
       "       [ 0.45813487],\n",
       "       [ 0.38818897],\n",
       "       [ 1.06218167],\n",
       "       [ 0.99728921],\n",
       "       [ 0.22654533],\n",
       "       [ 0.03183934],\n",
       "       [-0.35730649],\n",
       "       [-0.58902643],\n",
       "       [-0.72061311],\n",
       "       [ 1.06188063],\n",
       "       [ 1.72587482],\n",
       "       [ 0.11144021],\n",
       "       [-0.43881127],\n",
       "       [-1.44020855],\n",
       "       [-1.12379434],\n",
       "       [ 0.35574965],\n",
       "       [-0.8169855 ],\n",
       "       [-0.54429624],\n",
       "       [ 0.23368033],\n",
       "       [-0.71888756],\n",
       "       [ 0.52729837],\n",
       "       [-1.78481406],\n",
       "       [-1.02497378],\n",
       "       [ 2.07476839],\n",
       "       [ 0.28599288],\n",
       "       [-1.092588  ],\n",
       "       [-0.42452784],\n",
       "       [ 1.14156754],\n",
       "       [-0.81809066],\n",
       "       [-1.28336159],\n",
       "       [ 1.97591674],\n",
       "       [-1.10784741],\n",
       "       [ 0.24784227],\n",
       "       [-0.34259046],\n",
       "       [ 0.98150067],\n",
       "       [ 0.45907924],\n",
       "       [ 1.02645133],\n",
       "       [-0.49365937],\n",
       "       [-2.47417796],\n",
       "       [ 1.64296297],\n",
       "       [-0.61929726],\n",
       "       [ 1.51158755],\n",
       "       [-0.93139109],\n",
       "       [ 0.46768184],\n",
       "       [-0.13331267],\n",
       "       [ 0.67224263],\n",
       "       [-0.72767959],\n",
       "       [ 1.2734263 ]])"
      ]
     },
     "execution_count": 7,
     "metadata": {},
     "output_type": "execute_result"
    }
   ],
   "source": [
    "model.train()"
   ]
  },
  {
   "cell_type": "code",
   "execution_count": null,
   "metadata": {},
   "outputs": [],
   "source": []
  }
 ],
 "metadata": {
  "kernelspec": {
   "display_name": "Python 3",
   "language": "python",
   "name": "python3"
  },
  "language_info": {
   "codemirror_mode": {
    "name": "ipython",
    "version": 3
   },
   "file_extension": ".py",
   "mimetype": "text/x-python",
   "name": "python",
   "nbconvert_exporter": "python",
   "pygments_lexer": "ipython3",
   "version": "3.6.6"
  },
  "toc": {
   "base_numbering": 1,
   "nav_menu": {},
   "number_sections": true,
   "sideBar": true,
   "skip_h1_title": false,
   "title_cell": "Table of Contents",
   "title_sidebar": "Contents",
   "toc_cell": false,
   "toc_position": {},
   "toc_section_display": true,
   "toc_window_display": false
  },
  "varInspector": {
   "cols": {
    "lenName": 16,
    "lenType": 16,
    "lenVar": 40
   },
   "kernels_config": {
    "python": {
     "delete_cmd_postfix": "",
     "delete_cmd_prefix": "del ",
     "library": "var_list.py",
     "varRefreshCmd": "print(var_dic_list())"
    },
    "r": {
     "delete_cmd_postfix": ") ",
     "delete_cmd_prefix": "rm(",
     "library": "var_list.r",
     "varRefreshCmd": "cat(var_dic_list()) "
    }
   },
   "types_to_exclude": [
    "module",
    "function",
    "builtin_function_or_method",
    "instance",
    "_Feature"
   ],
   "window_display": false
  }
 },
 "nbformat": 4,
 "nbformat_minor": 2
}
