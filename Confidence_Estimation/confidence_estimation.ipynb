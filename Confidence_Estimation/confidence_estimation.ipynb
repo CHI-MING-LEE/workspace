{
 "cells": [
  {
   "cell_type": "code",
   "execution_count": null,
   "metadata": {},
   "outputs": [],
   "source": [
    "\"\"\"\n",
    "Implementation of paper: Learning Confidence for Out-of-Distribution Detection in Neural Networks\n",
    "https://arxiv.org/pdf/1802.04865.pdf\n",
    "\n",
    "Ref:\n",
    "1. https://github.com/uoguelph-mlrg/confidence_estimation\n",
    "2. https://blog.csdn.net/qq_22210253/article/details/85229988\n",
    "3. http://blog.sina.com.cn/s/blog_a89e19440102x1el.html\n",
    "4. https://medium.com/@chih.sheng.huang821/%E6%A9%9F%E5%99%A8-%E6%B7%B1%E5%BA%A6%E5%AD%B8%E7%BF%92-%E5%9F%BA%E7%A4%8E%E4%BB%8B%E7%B4%B9-%E6%90%8D%E5%A4%B1%E5%87%BD%E6%95%B8-loss-function-2dcac5ebb6cb\n",
    "5. https://www.cnblogs.com/ranjiewen/p/10059490.html\n",
    "\"\"\""
   ]
  },
  {
   "cell_type": "code",
   "execution_count": 1,
   "metadata": {
    "ExecuteTime": {
     "end_time": "2019-05-13T15:38:35.428340Z",
     "start_time": "2019-05-13T15:38:34.217012Z"
    }
   },
   "outputs": [],
   "source": [
    "import csv\n",
    "import torch\n",
    "import torch.nn as nn\n",
    "import torch.nn.functional as F\n",
    "import torch.backends.cudnn as cudnn\n",
    "from torch.autograd import Variable\n",
    "from torch.optim.lr_scheduler import MultiStepLR\n",
    "from torchvision import datasets, transforms\n",
    "import torchvision\n",
    "\n",
    "import seaborn as sns  # import this after torch or it will break everything\n",
    "\n",
    "from tqdm import tqdm_notebook, tqdm\n",
    "\n",
    "import numpy as np\n",
    "import pandas as pd\n",
    "\n",
    "import matplotlib.pyplot as plt"
   ]
  },
  {
   "cell_type": "markdown",
   "metadata": {},
   "source": [
    "## Load Data (transforms)"
   ]
  },
  {
   "cell_type": "code",
   "execution_count": 2,
   "metadata": {
    "ExecuteTime": {
     "end_time": "2019-05-13T15:38:36.676902Z",
     "start_time": "2019-05-13T15:38:36.628778Z"
    }
   },
   "outputs": [],
   "source": [
    "# normalize = transforms.Normalize(mean=[x / 255.0 for x in [125.3, 123.0, 113.9]],\n",
    "#                                 std=[x / 255.0 for x in [63.0, 62.1, 66.7]])\n",
    "\n",
    "train_transform = transforms.Compose([])    \n",
    "# train_transform.transforms.append(transforms.RandomHorizontalFlip())\n",
    "train_transform.transforms.append(transforms.RandomCrop(28, padding=4))\n",
    "train_transform.transforms.append(transforms.ToTensor())\n",
    "# train_transform.transforms.append(normalize)\n",
    "# if args.cutout > 0:\n",
    "#     train_transform.transforms.append(Cutout(args.cutout))\n",
    "\n",
    "# test_transform = transforms.Compose([\n",
    "#     transforms.ToTensor(),\n",
    "#     normalize])\n",
    "\n",
    "test_transform = transforms.Compose([\n",
    "    transforms.ToTensor(),\n",
    "])\n",
    "\n",
    "# Load的時候就直接進行轉換\n",
    "mnist_train = datasets.MNIST(\n",
    "    root='./mnist/',    # 保存或者提取位置\n",
    "    train=True,  # this is training data\n",
    "    transform=train_transform,    # 转换 PIL.Image or numpy.ndarray 成\n",
    "    # torchvision.transforms.ToTensor(), torch.FloatTensor (C x H x W), 训练的时候 normalize 成 [0.0, 1.0] 区间\n",
    "    download=True          # 没下载就下载, 下载了就不用再下了\n",
    ")\n",
    "mnist_test = datasets.MNIST(\n",
    "    root='./mnist/',    # 保存或者提取位置\n",
    "    train=False,  # this is training data\n",
    "    transform=test_transform,    # 转换 PIL.Image or numpy.ndarray 成\n",
    "    # torchvision.transforms.ToTensor(), torch.FloatTensor (C x H x W), 训练的时候 normalize 成 [0.0, 1.0] 区间\n",
    "    download=True          # 没下载就下载, 下载了就不用再下了\n",
    ")"
   ]
  },
  {
   "cell_type": "code",
   "execution_count": 173,
   "metadata": {
    "ExecuteTime": {
     "end_time": "2019-05-12T17:08:14.827935Z",
     "start_time": "2019-05-12T17:08:14.662108Z"
    }
   },
   "outputs": [
    {
     "data": {
      "text/plain": [
       "<matplotlib.image.AxesImage at 0x7f464b1db7f0>"
      ]
     },
     "execution_count": 173,
     "metadata": {},
     "output_type": "execute_result"
    },
    {
     "data": {
      "image/png": "[encoded data removed]",
      "text/plain": [
       "<matplotlib.figure.Figure at 0x7f46815930b8>"
      ]
     },
     "metadata": {
      "needs_background": "light"
     },
     "output_type": "display_data"
    }
   ],
   "source": [
    "plt.imshow(mnist_train.train_data[3], cmap='gray')"
   ]
  },
  {
   "cell_type": "markdown",
   "metadata": {},
   "source": [
    "### dataloader"
   ]
  },
  {
   "cell_type": "code",
   "execution_count": 3,
   "metadata": {
    "ExecuteTime": {
     "end_time": "2019-05-13T15:38:51.648973Z",
     "start_time": "2019-05-13T15:38:51.641341Z"
    }
   },
   "outputs": [
    {
     "name": "stdout",
     "output_type": "stream",
     "text": [
      "torch.Size([60000, 28, 28]) torch.Size([60000])\n",
      "torch.Size([10000, 28, 28]) torch.Size([10000])\n"
     ]
    }
   ],
   "source": [
    "X_train, y_train = mnist_train.train_data, mnist_train.train_labels\n",
    "X_test, y_test = mnist_test.test_data, mnist_test.test_labels\n",
    "\n",
    "print(X_train.shape, y_train.shape)\n",
    "print(X_test.shape, y_test.shape)\n",
    "\n",
    "# for batch training - 50 samples, 1 channel, 28x28 (50, 1, 28, 28)\n",
    "train_loader = torch.utils.data.DataLoader(dataset=mnist_train,\n",
    "                                           batch_size=256,\n",
    "                                           shuffle=True,\n",
    "                                           num_workers=16)\n",
    "test_loader = torch.utils.data.DataLoader(dataset=mnist_test,\n",
    "                                           batch_size=256,\n",
    "                                           shuffle=True,\n",
    "                                           num_workers=2)"
   ]
  },
  {
   "cell_type": "markdown",
   "metadata": {},
   "source": [
    "### Create own loader"
   ]
  },
  {
   "cell_type": "code",
   "execution_count": 4,
   "metadata": {
    "ExecuteTime": {
     "end_time": "2019-05-13T15:38:53.729158Z",
     "start_time": "2019-05-13T15:38:53.723446Z"
    }
   },
   "outputs": [],
   "source": [
    "import torch.utils.data as Data\n",
    "\n",
    "x = torch.linspace(1, 10, 10)       # x data (torch tensor)\n",
    "y = torch.linspace(10, 1, 10)       # y data (torch tensor)\n",
    "\n",
    "# 先转换成 torch 能识别的 Dataset\n",
    "torch_dataset = Data.TensorDataset(x, y)\n",
    "\n",
    "# 把 dataset 放入 DataLoader\n",
    "loader = Data.DataLoader(\n",
    "    dataset=torch_dataset,      # torch TensorDataset format\n",
    "    batch_size=10,      # mini batch size\n",
    "    shuffle=True,               # 要不要打乱数据 (打乱比较好)\n",
    "    num_workers=2,              # 多线程来读数据\n",
    ")"
   ]
  },
  {
   "cell_type": "code",
   "execution_count": 5,
   "metadata": {
    "ExecuteTime": {
     "end_time": "2019-05-13T15:38:56.009182Z",
     "start_time": "2019-05-13T15:38:55.124093Z"
    }
   },
   "outputs": [
    {
     "name": "stdout",
     "output_type": "stream",
     "text": [
      "torch.Size([1, 28, 28])\n"
     ]
    },
    {
     "data": {
      "image/png": "[encoded data removed]",
      "text/plain": [
       "<matplotlib.figure.Figure at 0x7f991972b3c8>"
      ]
     },
     "metadata": {
      "needs_background": "light"
     },
     "output_type": "display_data"
    }
   ],
   "source": [
    "for image, label in train_loader:\n",
    "#     print(label)\n",
    "    print(image[0].shape)\n",
    "    plt.imshow(image[0].reshape(28, 28), cmap='gray')\n",
    "    break"
   ]
  },
  {
   "cell_type": "markdown",
   "metadata": {},
   "source": [
    "## Model Building"
   ]
  },
  {
   "cell_type": "code",
   "execution_count": 16,
   "metadata": {
    "ExecuteTime": {
     "end_time": "2019-05-13T16:28:30.833854Z",
     "start_time": "2019-05-13T16:28:30.818622Z"
    }
   },
   "outputs": [
    {
     "name": "stdout",
     "output_type": "stream",
     "text": [
      "CNN(\n",
      "  (conv1): Sequential(\n",
      "    (0): Conv2d(1, 16, kernel_size=(5, 5), stride=(1, 1), padding=(2, 2))\n",
      "    (1): ReLU()\n",
      "    (2): MaxPool2d(kernel_size=2, stride=2, padding=0, dilation=1, ceil_mode=False)\n",
      "  )\n",
      "  (conv2): Sequential(\n",
      "    (0): Conv2d(16, 32, kernel_size=(5, 5), stride=(1, 1), padding=(2, 2))\n",
      "    (1): ReLU()\n",
      "    (2): MaxPool2d(kernel_size=2, stride=2, padding=0, dilation=1, ceil_mode=False)\n",
      "  )\n",
      "  (classifier): Linear(in_features=1568, out_features=10, bias=True)\n",
      "  (confidence): Linear(in_features=1568, out_features=1, bias=True)\n",
      ")\n"
     ]
    }
   ],
   "source": [
    "num_classes = 10\n",
    "\n",
    "# 卷積後長寬: [(n + 2p - k) / s] + 1\n",
    "# n 原圖（input）長寬，p為padding，k是filter的kernel size， s是stride值\n",
    "class CNN(nn.Module):\n",
    "    def __init__(self):\n",
    "        super().__init__()\n",
    "        self.conv1 = nn.Sequential(  # (1, 28, 28)\n",
    "            nn.Conv2d(in_channels=1,\n",
    "                      out_channels=16,  # output feature maps (filters)\n",
    "                      kernel_size=5,\n",
    "                      stride=1,\n",
    "                      padding=2 # 上下左右都padding 2\n",
    "                     ),\n",
    "            nn.ReLU(),\n",
    "            nn.MaxPool2d(kernel_size=2) # (16, 14, 14)\n",
    "        )\n",
    "        self.conv2 = nn.Sequential(\n",
    "            nn.Conv2d(16, 32, 5, 1, 2),\n",
    "            nn.ReLU(),\n",
    "            nn.MaxPool2d(kernel_size=2) # (32, 7, 7)\n",
    "        )\n",
    "        # self.softmax = nn.Softmax()\n",
    "        \n",
    "        self.classifier = nn.Linear(32 * 7 * 7, num_classes)  # \n",
    "        self.confidence = nn.Linear(32 * 7 * 7, 1)\n",
    "             \n",
    "    def forward(self, x):\n",
    "        x = self.conv1(x)\n",
    "        x = self.conv2(x)\n",
    "        x = x.view(x.size(0), -1)  # 展平多维的卷积图成 (batch_size, 32 * 7 * 7); 寫法:x.size()[0]也可\n",
    "        pred = self.classifier(x)\n",
    "        confidence = self.confidence(x)\n",
    "        return pred, confidence\n",
    "\n",
    "cnn = CNN()\n",
    "print(cnn)  # net architecture"
   ]
  },
  {
   "cell_type": "markdown",
   "metadata": {
    "ExecuteTime": {
     "end_time": "2019-05-12T05:19:54.125557Z",
     "start_time": "2019-05-12T05:19:54.122475Z"
    }
   },
   "source": [
    "## Utils"
   ]
  },
  {
   "cell_type": "code",
   "execution_count": 13,
   "metadata": {
    "ExecuteTime": {
     "end_time": "2019-05-13T15:40:06.937195Z",
     "start_time": "2019-05-13T15:40:06.927530Z"
    }
   },
   "outputs": [],
   "source": [
    "class CSVLogger():\n",
    "    def __init__(self, filename='log.csv', fieldnames=['epoch']):\n",
    "\n",
    "        self.filename = filename\n",
    "        self.csv_file = open(filename, 'w')\n",
    "\n",
    "        # Write model configuration at top of csv\n",
    "        writer = csv.writer(self.csv_file)\n",
    "#         for arg in vars(args):\n",
    "#             writer.writerow([arg, getattr(args, arg)])\n",
    "        writer.writerow([''])\n",
    "\n",
    "        self.writer = csv.DictWriter(self.csv_file, fieldnames=fieldnames)\n",
    "        self.writer.writeheader()\n",
    "\n",
    "        self.csv_file.flush()\n",
    "\n",
    "    def writerow(self, row):\n",
    "        self.writer.writerow(row)\n",
    "        self.csv_file.flush()\n",
    "\n",
    "    def close(self):\n",
    "        self.csv_file.close()\n",
    "        \n",
    "# one hot encoding\n",
    "def encode_onehot(labels, n_classes):\n",
    "    onehot = torch.FloatTensor(labels.size()[0], n_classes)\n",
    "    labels = labels.data\n",
    "    if labels.is_cuda:\n",
    "        onehot = onehot.cuda()\n",
    "    onehot.zero_()\n",
    "    onehot.scatter_(1, labels.view(-1, 1), 1)\n",
    "    return onehot\n",
    "\n",
    "# Example\n",
    "# onehot = torch.FloatTensor(1, 10)\n",
    "# onehot.zero_()\n",
    "# onehot.scatter_(1, torch.tensor([[2]]), 1)"
   ]
  },
  {
   "cell_type": "code",
   "execution_count": 9,
   "metadata": {
    "ExecuteTime": {
     "end_time": "2019-05-13T15:39:23.742901Z",
     "start_time": "2019-05-13T15:39:23.728657Z"
    }
   },
   "outputs": [],
   "source": [
    "def plot_histograms(correct, confidence, bins=50, norm_hist=True):\n",
    "    # Plot histogram of correctly classified and misclassified examples in visdom\n",
    "    global conf_histogram\n",
    "\n",
    "    plt.figure(figsize=(6, 4))\n",
    "    sns.distplot(confidence[correct], kde=False, bins=bins, norm_hist=norm_hist, label='Correct')\n",
    "    sns.distplot(confidence[np.invert(correct)], kde=False, bins=bins, norm_hist=norm_hist, label='Incorrect')\n",
    "    plt.xlabel('Confidence')\n",
    "    plt.ylabel('Density')\n",
    "    plt.legend()\n",
    "\n",
    "    # the image buffer acts as if it where a location on disk\n",
    "#     img_buffer = BytesIO()\n",
    "#     plt.savefig(img_buffer, bbox_inches='tight', pad_inches=0)\n",
    "#     img = Image.open(img_buffer)\n",
    "#     img = img.convert('RGB')\n",
    "#     img = torch.FloatTensor(np.array(img)).permute(2, 0, 1)\n",
    "#     conf_histogram = vis.image(img, win=conf_histogram, opts=dict(title='Confidence Histogram'))\n",
    "\n",
    "def test(loader):\n",
    "    cnn.eval()    # Change model to 'eval' mode (BN uses moving mean/var).\n",
    "\n",
    "    correct = []\n",
    "    probability = []\n",
    "    confidence = []\n",
    "\n",
    "    for images, labels in loader:\n",
    "        with torch.no_grad():\n",
    "            images = Variable(images)  # .cuda()\n",
    "        labels = labels  # .cuda()\n",
    "        \n",
    "        pred, conf = cnn(images)\n",
    "        pred = torch.softmax(pred, dim=-1)\n",
    "        conf = torch.sigmoid(conf).data.view(-1)\n",
    "\n",
    "        pred_value, pred = torch.max(pred.data, 1)\n",
    "        correct.extend((pred == labels).cpu().numpy())  # 猜中label數目是多少\n",
    "        probability.extend(pred_value.cpu().numpy())  # 猜的機率是多少\n",
    "        confidence.extend(conf.cpu().numpy())  # 信心度是多少\n",
    "\n",
    "    correct = np.array(correct).astype(bool)\n",
    "    probability = np.array(probability)\n",
    "    confidence = np.array(confidence)\n",
    "\n",
    "    # plot_histograms(correct, probability)\n",
    "    plot_histograms(correct, confidence)\n",
    "\n",
    "    val_acc = np.mean(correct)\n",
    "    conf_min = np.min(confidence)\n",
    "    conf_max = np.max(confidence)\n",
    "    conf_avg = np.mean(confidence)\n",
    "\n",
    "    cnn.train()\n",
    "    return val_acc, conf_min, conf_max, conf_avg"
   ]
  },
  {
   "cell_type": "markdown",
   "metadata": {},
   "source": [
    "## Training"
   ]
  },
  {
   "cell_type": "code",
   "execution_count": 17,
   "metadata": {
    "ExecuteTime": {
     "end_time": "2019-05-13T16:28:36.310218Z",
     "start_time": "2019-05-13T16:28:36.298328Z"
    }
   },
   "outputs": [],
   "source": [
    "cnn = CNN()\n",
    "learning_rate = 0.1\n",
    "\n",
    "prediction_criterion = nn.NLLLoss()\n",
    "cnn_optimizer = torch.optim.SGD(cnn.parameters(), lr=learning_rate,\n",
    "                                momentum=0.9, nesterov=True, weight_decay=5e-4)\n",
    "# https://zhuanlan.zhihu.com/p/39020473 (Learning Rate in PyTorch)\n",
    "scheduler = MultiStepLR(cnn_optimizer, milestones=[10, 20, 25], gamma=0.2)"
   ]
  },
  {
   "cell_type": "code",
   "execution_count": 18,
   "metadata": {
    "ExecuteTime": {
     "end_time": "2019-05-13T16:42:36.338915Z",
     "start_time": "2019-05-13T16:28:37.729873Z"
    },
    "scrolled": false
   },
   "outputs": [
    {
     "data": {
      "application/vnd.jupyter.widget-view+json": {
       "model_id": "a03e0e00504a42179901d682cafe60dc",
       "version_major": 2,
       "version_minor": 0
      },
      "text/plain": [
       "HBox(children=(IntProgress(value=0, max=235), HTML(value='')))"
      ]
     },
     "metadata": {},
     "output_type": "display_data"
    },
    {
     "name": "stdout",
     "output_type": "stream",
     "text": [
      "test_acc: 0.977, conf_min: 0.098, conf_max: 0.998, conf_avg: 0.833\n"
     ]
    },
    {
     "data": {
      "application/vnd.jupyter.widget-view+json": {
       "model_id": "238e0f8bae3046fdad8b7c9bf136c5aa",
       "version_major": 2,
       "version_minor": 0
      },
      "text/plain": [
       "HBox(children=(IntProgress(value=0, max=235), HTML(value='')))"
      ]
     },
     "metadata": {},
     "output_type": "display_data"
    },
    {
     "name": "stdout",
     "output_type": "stream",
     "text": [
      "test_acc: 0.973, conf_min: 0.099, conf_max: 0.994, conf_avg: 0.684\n"
     ]
    },
    {
     "data": {
      "application/vnd.jupyter.widget-view+json": {
       "model_id": "22d32600026b4784bc6ec72860fc1086",
       "version_major": 2,
       "version_minor": 0
      },
      "text/plain": [
       "HBox(children=(IntProgress(value=0, max=235), HTML(value='')))"
      ]
     },
     "metadata": {},
     "output_type": "display_data"
    },
    {
     "name": "stdout",
     "output_type": "stream",
     "text": [
      "test_acc: 0.984, conf_min: 0.088, conf_max: 0.993, conf_avg: 0.665\n"
     ]
    },
    {
     "data": {
      "application/vnd.jupyter.widget-view+json": {
       "model_id": "e267adc95fcd4829b028f7cfc4460481",
       "version_major": 2,
       "version_minor": 0
      },
      "text/plain": [
       "HBox(children=(IntProgress(value=0, max=235), HTML(value='')))"
      ]
     },
     "metadata": {},
     "output_type": "display_data"
    },
    {
     "name": "stdout",
     "output_type": "stream",
     "text": [
      "test_acc: 0.981, conf_min: 0.041, conf_max: 0.994, conf_avg: 0.639\n"
     ]
    },
    {
     "data": {
      "application/vnd.jupyter.widget-view+json": {
       "model_id": "49c349df97454fb8835bb2e9543697ed",
       "version_major": 2,
       "version_minor": 0
      },
      "text/plain": [
       "HBox(children=(IntProgress(value=0, max=235), HTML(value='')))"
      ]
     },
     "metadata": {},
     "output_type": "display_data"
    },
    {
     "name": "stdout",
     "output_type": "stream",
     "text": [
      "test_acc: 0.986, conf_min: 0.067, conf_max: 0.996, conf_avg: 0.710\n"
     ]
    },
    {
     "data": {
      "application/vnd.jupyter.widget-view+json": {
       "model_id": "cd3b770343f34ba5b7acd0a5e299064c",
       "version_major": 2,
       "version_minor": 0
      },
      "text/plain": [
       "HBox(children=(IntProgress(value=0, max=235), HTML(value='')))"
      ]
     },
     "metadata": {},
     "output_type": "display_data"
    },
    {
     "name": "stdout",
     "output_type": "stream",
     "text": [
      "test_acc: 0.984, conf_min: 0.059, conf_max: 0.993, conf_avg: 0.654\n"
     ]
    },
    {
     "data": {
      "application/vnd.jupyter.widget-view+json": {
       "model_id": "01ef35b84c7443d0a904a77d593b356c",
       "version_major": 2,
       "version_minor": 0
      },
      "text/plain": [
       "HBox(children=(IntProgress(value=0, max=235), HTML(value='')))"
      ]
     },
     "metadata": {},
     "output_type": "display_data"
    },
    {
     "name": "stdout",
     "output_type": "stream",
     "text": [
      "test_acc: 0.990, conf_min: 0.064, conf_max: 0.991, conf_avg: 0.679\n"
     ]
    },
    {
     "data": {
      "application/vnd.jupyter.widget-view+json": {
       "model_id": "828b131291ac4e518cc17f0291189dcb",
       "version_major": 2,
       "version_minor": 0
      },
      "text/plain": [
       "HBox(children=(IntProgress(value=0, max=235), HTML(value='')))"
      ]
     },
     "metadata": {},
     "output_type": "display_data"
    },
    {
     "name": "stdout",
     "output_type": "stream",
     "text": [
      "test_acc: 0.990, conf_min: 0.130, conf_max: 0.993, conf_avg: 0.775\n"
     ]
    },
    {
     "data": {
      "application/vnd.jupyter.widget-view+json": {
       "model_id": "f2e66ef05ac64a7fa19f68c19bd84e27",
       "version_major": 2,
       "version_minor": 0
      },
      "text/plain": [
       "HBox(children=(IntProgress(value=0, max=235), HTML(value='')))"
      ]
     },
     "metadata": {},
     "output_type": "display_data"
    },
    {
     "name": "stdout",
     "output_type": "stream",
     "text": [
      "test_acc: 0.987, conf_min: 0.020, conf_max: 0.987, conf_avg: 0.604\n"
     ]
    },
    {
     "data": {
      "application/vnd.jupyter.widget-view+json": {
       "model_id": "5e3660b0f3f5438e8c43cddd453ee554",
       "version_major": 2,
       "version_minor": 0
      },
      "text/plain": [
       "HBox(children=(IntProgress(value=0, max=235), HTML(value='')))"
      ]
     },
     "metadata": {},
     "output_type": "display_data"
    },
    {
     "name": "stdout",
     "output_type": "stream",
     "text": [
      "test_acc: 0.987, conf_min: 0.048, conf_max: 0.983, conf_avg: 0.620\n"
     ]
    },
    {
     "data": {
      "application/vnd.jupyter.widget-view+json": {
       "model_id": "6cafc82792c541c39b71899c368ffd23",
       "version_major": 2,
       "version_minor": 0
      },
      "text/plain": [
       "HBox(children=(IntProgress(value=0, max=235), HTML(value='')))"
      ]
     },
     "metadata": {},
     "output_type": "display_data"
    },
    {
     "name": "stdout",
     "output_type": "stream",
     "text": [
      "test_acc: 0.986, conf_min: 0.035, conf_max: 0.997, conf_avg: 0.618\n"
     ]
    },
    {
     "data": {
      "application/vnd.jupyter.widget-view+json": {
       "model_id": "fb658738113b42238c0622cb282fbd61",
       "version_major": 2,
       "version_minor": 0
      },
      "text/plain": [
       "HBox(children=(IntProgress(value=0, max=235), HTML(value='')))"
      ]
     },
     "metadata": {},
     "output_type": "display_data"
    },
    {
     "name": "stdout",
     "output_type": "stream",
     "text": [
      "test_acc: 0.991, conf_min: 0.046, conf_max: 0.995, conf_avg: 0.677\n"
     ]
    },
    {
     "data": {
      "application/vnd.jupyter.widget-view+json": {
       "model_id": "42b52c51805d438f8707823aa5123cb0",
       "version_major": 2,
       "version_minor": 0
      },
      "text/plain": [
       "HBox(children=(IntProgress(value=0, max=235), HTML(value='')))"
      ]
     },
     "metadata": {},
     "output_type": "display_data"
    },
    {
     "name": "stdout",
     "output_type": "stream",
     "text": [
      "test_acc: 0.992, conf_min: 0.065, conf_max: 0.994, conf_avg: 0.751\n"
     ]
    },
    {
     "data": {
      "application/vnd.jupyter.widget-view+json": {
       "model_id": "392bfcef50104a0d8f8f3482556bf58d",
       "version_major": 2,
       "version_minor": 0
      },
      "text/plain": [
       "HBox(children=(IntProgress(value=0, max=235), HTML(value='')))"
      ]
     },
     "metadata": {},
     "output_type": "display_data"
    },
    {
     "name": "stdout",
     "output_type": "stream",
     "text": [
      "test_acc: 0.992, conf_min: 0.067, conf_max: 0.997, conf_avg: 0.755\n"
     ]
    },
    {
     "data": {
      "application/vnd.jupyter.widget-view+json": {
       "model_id": "501aa4d3b58947a3abd83e4478735dea",
       "version_major": 2,
       "version_minor": 0
      },
      "text/plain": [
       "HBox(children=(IntProgress(value=0, max=235), HTML(value='')))"
      ]
     },
     "metadata": {},
     "output_type": "display_data"
    },
    {
     "name": "stdout",
     "output_type": "stream",
     "text": [
      "test_acc: 0.992, conf_min: 0.049, conf_max: 0.992, conf_avg: 0.669\n"
     ]
    },
    {
     "data": {
      "application/vnd.jupyter.widget-view+json": {
       "model_id": "63f45423295343e2a23d331f669b45b7",
       "version_major": 2,
       "version_minor": 0
      },
      "text/plain": [
       "HBox(children=(IntProgress(value=0, max=235), HTML(value='')))"
      ]
     },
     "metadata": {},
     "output_type": "display_data"
    },
    {
     "name": "stdout",
     "output_type": "stream",
     "text": [
      "test_acc: 0.992, conf_min: 0.052, conf_max: 0.994, conf_avg: 0.693\n"
     ]
    },
    {
     "data": {
      "application/vnd.jupyter.widget-view+json": {
       "model_id": "e0f5c836e1c24ad7b0d2642cdce121b3",
       "version_major": 2,
       "version_minor": 0
      },
      "text/plain": [
       "HBox(children=(IntProgress(value=0, max=235), HTML(value='')))"
      ]
     },
     "metadata": {},
     "output_type": "display_data"
    },
    {
     "name": "stdout",
     "output_type": "stream",
     "text": [
      "test_acc: 0.991, conf_min: 0.039, conf_max: 0.986, conf_avg: 0.666\n"
     ]
    },
    {
     "data": {
      "application/vnd.jupyter.widget-view+json": {
       "model_id": "00347dfbaa384c34814804f631358173",
       "version_major": 2,
       "version_minor": 0
      },
      "text/plain": [
       "HBox(children=(IntProgress(value=0, max=235), HTML(value='')))"
      ]
     },
     "metadata": {},
     "output_type": "display_data"
    },
    {
     "name": "stdout",
     "output_type": "stream",
     "text": [
      "test_acc: 0.992, conf_min: 0.033, conf_max: 0.977, conf_avg: 0.556\n"
     ]
    },
    {
     "data": {
      "application/vnd.jupyter.widget-view+json": {
       "model_id": "cdd6ad55c3dc4416a8d5f39075b621ea",
       "version_major": 2,
       "version_minor": 0
      },
      "text/plain": [
       "HBox(children=(IntProgress(value=0, max=235), HTML(value='')))"
      ]
     },
     "metadata": {},
     "output_type": "display_data"
    },
    {
     "name": "stdout",
     "output_type": "stream",
     "text": [
      "test_acc: 0.991, conf_min: 0.040, conf_max: 0.987, conf_avg: 0.642\n"
     ]
    },
    {
     "data": {
      "application/vnd.jupyter.widget-view+json": {
       "model_id": "055d3a1b8f524303b73dab982884f995",
       "version_major": 2,
       "version_minor": 0
      },
      "text/plain": [
       "HBox(children=(IntProgress(value=0, max=235), HTML(value='')))"
      ]
     },
     "metadata": {},
     "output_type": "display_data"
    },
    {
     "name": "stdout",
     "output_type": "stream",
     "text": [
      "test_acc: 0.992, conf_min: 0.057, conf_max: 0.990, conf_avg: 0.661\n"
     ]
    },
    {
     "data": {
      "application/vnd.jupyter.widget-view+json": {
       "model_id": "9789288ea4314602a6d7552d91c550c3",
       "version_major": 2,
       "version_minor": 0
      },
      "text/plain": [
       "HBox(children=(IntProgress(value=0, max=235), HTML(value='')))"
      ]
     },
     "metadata": {},
     "output_type": "display_data"
    },
    {
     "name": "stdout",
     "output_type": "stream",
     "text": [
      "test_acc: 0.992, conf_min: 0.053, conf_max: 0.993, conf_avg: 0.732\n"
     ]
    },
    {
     "data": {
      "application/vnd.jupyter.widget-view+json": {
       "model_id": "c36135aa31304d66846e708781ad6670",
       "version_major": 2,
       "version_minor": 0
      },
      "text/plain": [
       "HBox(children=(IntProgress(value=0, max=235), HTML(value='')))"
      ]
     },
     "metadata": {},
     "output_type": "display_data"
    },
    {
     "name": "stdout",
     "output_type": "stream",
     "text": [
      "test_acc: 0.993, conf_min: 0.040, conf_max: 0.987, conf_avg: 0.663\n"
     ]
    },
    {
     "data": {
      "application/vnd.jupyter.widget-view+json": {
       "model_id": "3e66c3a8f0be4a1a8a7f90b85ec7163a",
       "version_major": 2,
       "version_minor": 0
      },
      "text/plain": [
       "HBox(children=(IntProgress(value=0, max=235), HTML(value='')))"
      ]
     },
     "metadata": {},
     "output_type": "display_data"
    },
    {
     "name": "stdout",
     "output_type": "stream",
     "text": [
      "test_acc: 0.993, conf_min: 0.040, conf_max: 0.987, conf_avg: 0.645\n"
     ]
    },
    {
     "data": {
      "application/vnd.jupyter.widget-view+json": {
       "model_id": "959c523b819448a79fdbcf8843d11232",
       "version_major": 2,
       "version_minor": 0
      },
      "text/plain": [
       "HBox(children=(IntProgress(value=0, max=235), HTML(value='')))"
      ]
     },
     "metadata": {},
     "output_type": "display_data"
    },
    {
     "name": "stdout",
     "output_type": "stream",
     "text": [
      "test_acc: 0.993, conf_min: 0.044, conf_max: 0.990, conf_avg: 0.658\n"
     ]
    },
    {
     "data": {
      "application/vnd.jupyter.widget-view+json": {
       "model_id": "124f702ebde142718b0f6cfdb6a61b9a",
       "version_major": 2,
       "version_minor": 0
      },
      "text/plain": [
       "HBox(children=(IntProgress(value=0, max=235), HTML(value='')))"
      ]
     },
     "metadata": {},
     "output_type": "display_data"
    },
    {
     "name": "stdout",
     "output_type": "stream",
     "text": [
      "test_acc: 0.992, conf_min: 0.047, conf_max: 0.991, conf_avg: 0.674\n"
     ]
    },
    {
     "data": {
      "application/vnd.jupyter.widget-view+json": {
       "model_id": "d66547268b994274a5dc6e95a64d6f4d",
       "version_major": 2,
       "version_minor": 0
      },
      "text/plain": [
       "HBox(children=(IntProgress(value=0, max=235), HTML(value='')))"
      ]
     },
     "metadata": {},
     "output_type": "display_data"
    },
    {
     "name": "stdout",
     "output_type": "stream",
     "text": [
      "test_acc: 0.993, conf_min: 0.036, conf_max: 0.986, conf_avg: 0.631\n"
     ]
    },
    {
     "data": {
      "application/vnd.jupyter.widget-view+json": {
       "model_id": "1c466f2dd5e5428fb4985bdeb8955b62",
       "version_major": 2,
       "version_minor": 0
      },
      "text/plain": [
       "HBox(children=(IntProgress(value=0, max=235), HTML(value='')))"
      ]
     },
     "metadata": {},
     "output_type": "display_data"
    },
    {
     "name": "stdout",
     "output_type": "stream",
     "text": [
      "test_acc: 0.994, conf_min: 0.039, conf_max: 0.988, conf_avg: 0.656\n"
     ]
    },
    {
     "data": {
      "application/vnd.jupyter.widget-view+json": {
       "model_id": "a01613a7728f46e49bf2246c9992c3d4",
       "version_major": 2,
       "version_minor": 0
      },
      "text/plain": [
       "HBox(children=(IntProgress(value=0, max=235), HTML(value='')))"
      ]
     },
     "metadata": {},
     "output_type": "display_data"
    },
    {
     "name": "stdout",
     "output_type": "stream",
     "text": [
      "test_acc: 0.993, conf_min: 0.037, conf_max: 0.987, conf_avg: 0.648\n"
     ]
    },
    {
     "data": {
      "application/vnd.jupyter.widget-view+json": {
       "model_id": "1e5d4dbd4bb442f0af01977fa8d9f10a",
       "version_major": 2,
       "version_minor": 0
      },
      "text/plain": [
       "HBox(children=(IntProgress(value=0, max=235), HTML(value='')))"
      ]
     },
     "metadata": {},
     "output_type": "display_data"
    },
    {
     "name": "stdout",
     "output_type": "stream",
     "text": [
      "test_acc: 0.993, conf_min: 0.039, conf_max: 0.987, conf_avg: 0.646\n"
     ]
    },
    {
     "data": {
      "application/vnd.jupyter.widget-view+json": {
       "model_id": "34148980fd5e4ac5bed62fbddf46e746",
       "version_major": 2,
       "version_minor": 0
      },
      "text/plain": [
       "HBox(children=(IntProgress(value=0, max=235), HTML(value='')))"
      ]
     },
     "metadata": {},
     "output_type": "display_data"
    },
    {
     "name": "stdout",
     "output_type": "stream",
     "text": [
      "test_acc: 0.993, conf_min: 0.041, conf_max: 0.988, conf_avg: 0.659\n"
     ]
    },
    {
     "data": {
      "image/png": "[encoded data removed]",
      "text/plain": [
       "<matplotlib.figure.Figure at 0x7f9919c50ef0>"
      ]
     },
     "metadata": {
      "needs_background": "light"
     },
     "output_type": "display_data"
    },
    {
     "data": {
      "image/png": "[encoded data removed]",
      "text/plain": [
       "<matplotlib.figure.Figure at 0x7f99199b04e0>"
      ]
     },
     "metadata": {
      "needs_background": "light"
     },
     "output_type": "display_data"
    },
    {
     "data": {
      "image/png": "[encoded data removed]",
      "text/plain": [
       "<matplotlib.figure.Figure at 0x7f99199acda0>"
      ]
     },
     "metadata": {
      "needs_background": "light"
     },
     "output_type": "display_data"
    },
    {
     "data": {
      "image/png": "[encoded data removed]",
      "text/plain": [
       "<matplotlib.figure.Figure at 0x7f98fd84a8d0>"
      ]
     },
     "metadata": {
      "needs_background": "light"
     },
     "output_type": "display_data"
    },
    {
     "data": {
      "image/png": "[encoded data removed]",
      "text/plain": [
       "<matplotlib.figure.Figure at 0x7f98fd54dd68>"
      ]
     },
     "metadata": {
      "needs_background": "light"
     },
     "output_type": "display_data"
    },
    {
     "data": {
      "image/png": "[encoded data removed]",
      "text/plain": [
       "<matplotlib.figure.Figure at 0x7f98fd4f7dd8>"
      ]
     },
     "metadata": {
      "needs_background": "light"
     },
     "output_type": "display_data"
    },
    {
     "data": {
      "image/png": "[encoded data removed]",
      "text/plain": [
       "<matplotlib.figure.Figure at 0x7f98fd45a208>"
      ]
     },
     "metadata": {
      "needs_background": "light"
     },
     "output_type": "display_data"
    },
    {
     "data": {
      "image/png": "[encoded data removed]",
      "text/plain": [
       "<matplotlib.figure.Figure at 0x7f98fd24cef0>"
      ]
     },
     "metadata": {
      "needs_background": "light"
     },
     "output_type": "display_data"
    },
    {
     "data": {
      "image/png": "[encoded data removed]",
      "text/plain": [
       "<matplotlib.figure.Figure at 0x7f98fd342d30>"
      ]
     },
     "metadata": {
      "needs_background": "light"
     },
     "output_type": "display_data"
    },
    {
     "data": {
      "image/png": "[encoded data removed]",
      "text/plain": [
       "<matplotlib.figure.Figure at 0x7f9919916160>"
      ]
     },
     "metadata": {
      "needs_background": "light"
     },
     "output_type": "display_data"
    },
    {
     "data": {
      "image/png": "[encoded data removed]",
      "text/plain": [
       "<matplotlib.figure.Figure at 0x7f99199512b0>"
      ]
     },
     "metadata": {
      "needs_background": "light"
     },
     "output_type": "display_data"
    },
    {
     "data": {
      "image/png": "[encoded data removed]",
      "text/plain": [
       "<matplotlib.figure.Figure at 0x7f9919951d68>"
      ]
     },
     "metadata": {
      "needs_background": "light"
     },
     "output_type": "display_data"
    },
    {
     "data": {
      "image/png": "[encoded data removed]",
      "text/plain": [
       "<matplotlib.figure.Figure at 0x7f9919c8cc18>"
      ]
     },
     "metadata": {
      "needs_background": "light"
     },
     "output_type": "display_data"
    },
    {
     "data": {
      "image/png": "[encoded data removed]",
      "text/plain": [
       "<matplotlib.figure.Figure at 0x7f99318c9668>"
      ]
     },
     "metadata": {
      "needs_background": "light"
     },
     "output_type": "display_data"
    },
    {
     "data": {
      "image/png": "[encoded data removed]",
      "text/plain": [
       "<matplotlib.figure.Figure at 0x7f98fde49048>"
      ]
     },
     "metadata": {
      "needs_background": "light"
     },
     "output_type": "display_data"
    },
    {
     "data": {
      "image/png": "[encoded data removed]",
      "text/plain": [
       "<matplotlib.figure.Figure at 0x7f99320ad940>"
      ]
     },
     "metadata": {
      "needs_background": "light"
     },
     "output_type": "display_data"
    },
    {
     "data": {
      "image/png": "[encoded data removed]",
      "text/plain": [
       "<matplotlib.figure.Figure at 0x7f98fde3a6d8>"
      ]
     },
     "metadata": {
      "needs_background": "light"
     },
     "output_type": "display_data"
    },
    {
     "data": {
      "image/png": "[encoded data removed]",
      "text/plain": [
       "<matplotlib.figure.Figure at 0x7f991993c080>"
      ]
     },
     "metadata": {
      "needs_background": "light"
     },
     "output_type": "display_data"
    },
    {
     "data": {
      "image/png": "[encoded data removed]",
      "text/plain": [
       "<matplotlib.figure.Figure at 0x7f9919f59828>"
      ]
     },
     "metadata": {
      "needs_background": "light"
     },
     "output_type": "display_data"
    },
    {
     "data": {
      "image/png": "[encoded data removed]",
      "text/plain": [
       "<matplotlib.figure.Figure at 0x7f991922ce48>"
      ]
     },
     "metadata": {
      "needs_background": "light"
     },
     "output_type": "display_data"
    },
    {
     "data": {
      "image/png": "[encoded data removed]",
      "text/plain": [
       "<matplotlib.figure.Figure at 0x7f991985e198>"
      ]
     },
     "metadata": {
      "needs_background": "light"
     },
     "output_type": "display_data"
    },
    {
     "data": {
      "image/png": "[encoded data removed]",
      "text/plain": [
       "<matplotlib.figure.Figure at 0x7f98fde1b908>"
      ]
     },
     "metadata": {
      "needs_background": "light"
     },
     "output_type": "display_data"
    },
    {
     "data": {
      "image/png": "[encoded data removed]",
      "text/plain": [
       "<matplotlib.figure.Figure at 0x7f9931427cc0>"
      ]
     },
     "metadata": {
      "needs_background": "light"
     },
     "output_type": "display_data"
    },
    {
     "data": {
      "image/png": "[encoded data removed]",
      "text/plain": [
       "<matplotlib.figure.Figure at 0x7f99313ceda0>"
      ]
     },
     "metadata": {
      "needs_background": "light"
     },
     "output_type": "display_data"
    },
    {
     "data": {
      "image/png": "[encoded data removed]",
      "text/plain": [
       "<matplotlib.figure.Figure at 0x7f991a1087b8>"
      ]
     },
     "metadata": {
      "needs_background": "light"
     },
     "output_type": "display_data"
    },
    {
     "data": {
      "image/png": "[encoded data removed]",
      "text/plain": [
       "<matplotlib.figure.Figure at 0x7f9919f5ecf8>"
      ]
     },
     "metadata": {
      "needs_background": "light"
     },
     "output_type": "display_data"
    },
    {
     "data": {
      "image/png": "[encoded data removed]",
      "text/plain": [
       "<matplotlib.figure.Figure at 0x7f98fd564b70>"
      ]
     },
     "metadata": {
      "needs_background": "light"
     },
     "output_type": "display_data"
    },
    {
     "data": {
      "image/png": "[encoded data removed]",
      "text/plain": [
       "<matplotlib.figure.Figure at 0x7f993106acf8>"
      ]
     },
     "metadata": {
      "needs_background": "light"
     },
     "output_type": "display_data"
    },
    {
     "data": {
      "image/png": "[encoded data removed]",
      "text/plain": [
       "<matplotlib.figure.Figure at 0x7f99313e31d0>"
      ]
     },
     "metadata": {
      "needs_background": "light"
     },
     "output_type": "display_data"
    },
    {
     "data": {
      "image/png": "[encoded data removed]",
      "text/plain": [
       "<matplotlib.figure.Figure at 0x7f9919f15d30>"
      ]
     },
     "metadata": {
      "needs_background": "light"
     },
     "output_type": "display_data"
    }
   ],
   "source": [
    "# __.data[0]會報錯，要用__.item()\n",
    "# .data -> Tensor, .item -> scalar\n",
    "\n",
    "csv_logger = CSVLogger(fieldnames=['epoch', 'train_acc', 'test_acc'])\n",
    "\n",
    "np.random.seed(2019)\n",
    "# Start with a reasonable guess for lambda\n",
    "epochs = 30\n",
    "lmbda = 0.1\n",
    "budget = 0.6  # budget給多才敢用hint\n",
    "\n",
    "for epoch in range(epochs):\n",
    "\n",
    "    xentropy_loss_avg = 0.\n",
    "    confidence_loss_avg = 0.\n",
    "    correct_count = 0.\n",
    "    total = 0.\n",
    "    \n",
    "    progress_bar = tqdm_notebook(train_loader)\n",
    "    for i, (images, labels) in enumerate(progress_bar):\n",
    "        progress_bar.set_description('Epoch ' + str(epoch))\n",
    "        \n",
    "        # images = Variable(images).cuda(async=True)\n",
    "        images = Variable(images)\n",
    "        # labels = Variable(labels).cuda(async=True)\n",
    "        labels = Variable(labels)\n",
    "        labels_onehot = Variable(encode_onehot(labels, num_classes))\n",
    "        \n",
    "        cnn.zero_grad()\n",
    "        \n",
    "        pred_original, confidence = cnn(images)\n",
    "        \n",
    "        pred_original = torch.softmax(pred_original, dim=-1)\n",
    "        confidence = torch.sigmoid(confidence)\n",
    "        \n",
    "        # Make sure we don't have any numerical instability\n",
    "        eps = 1e-12\n",
    "        pred_original = torch.clamp(pred_original, 0. + eps, 1. - eps)  # 等於clip\n",
    "        confidence = torch.clamp(confidence, 0. + eps, 1. - eps)\n",
    "\n",
    "        # Randomly set half of the confidences to 1 (i.e. no hints)\n",
    "        b = Variable(torch.bernoulli(torch.Tensor(confidence.size()).uniform_(0, 1)))  # .cuda()\n",
    "        conf = confidence * b + (1 - b)  # mask=0的confidence=1\n",
    "        # p_prime = p * c + y * (1 - c)\n",
    "        pred_new = pred_original * conf.expand_as(pred_original) + labels_onehot * (1 - conf.expand_as(labels_onehot))\n",
    "        pred_new = torch.log(pred_new)  # 這裡要再開log; nn.CrossEntropy = nn.LogSoftmax + nn.NLLLoss \n",
    "        \n",
    "        xentropy_loss = prediction_criterion(pred_new, labels)\n",
    "        confidence_loss = torch.mean(-torch.log(confidence))  # 信心越高，loss越低  -torch.log(torch.Tensor([0.75]))\n",
    "        \n",
    "        total_loss = xentropy_loss + (lmbda * confidence_loss)\n",
    "        \n",
    "        # if conf_loss >= budget -> increase lambda (hint is more expensive)\n",
    "        # if conf_loss < budget -> decrease lambda (hint is more affordable)\n",
    "        # budget 0.3 信心大概要平均大於0.75才不會超過\n",
    "        \n",
    "        if budget > confidence_loss.item():\n",
    "            lmbda = lmbda / 1.01\n",
    "        elif budget <= confidence_loss.item():\n",
    "            lmbda = lmbda / 0.99\n",
    "        \n",
    "        total_loss.backward()\n",
    "        cnn_optimizer.step()\n",
    "        \n",
    "        xentropy_loss_avg += xentropy_loss.item()\n",
    "        confidence_loss_avg += confidence_loss.item()\n",
    "        \n",
    "        pred_idx = torch.max(pred_original.data, 1)[1]\n",
    "        total += labels.size(0)\n",
    "        \n",
    "        correct_count += (pred_idx == labels.data).sum().item()\n",
    "        accuracy = correct_count / total\n",
    "        \n",
    "        progress_bar.set_postfix(\n",
    "            xentropy='%.3f' % (xentropy_loss_avg / (i + 1)),\n",
    "            confidence_loss='%.3f' % (confidence_loss_avg / (i + 1)),\n",
    "            acc='%.3f' % accuracy)\n",
    "    \n",
    "    test_acc, conf_min, conf_max, conf_avg = test(test_loader)\n",
    "    tqdm.write('test_acc: %.3f, conf_min: %.3f, conf_max: %.3f, conf_avg: %.3f' % (test_acc, conf_min, conf_max, conf_avg))\n",
    "\n",
    "    scheduler.step(epoch)\n",
    "\n",
    "    row = {'epoch': str(epoch), 'train_acc': str(accuracy), 'test_acc': str(test_acc)}\n",
    "    csv_logger.writerow(row)\n",
    "\n",
    "    torch.save(cnn.state_dict(), 'checkpoints/' + 'state_dict' + '.pt')\n",
    "\n",
    "csv_logger.close()"
   ]
  },
  {
   "cell_type": "code",
   "execution_count": 88,
   "metadata": {
    "ExecuteTime": {
     "end_time": "2019-05-12T05:57:24.750809Z",
     "start_time": "2019-05-12T05:57:24.744851Z"
    }
   },
   "outputs": [
    {
     "data": {
      "text/plain": [
       "534.0"
      ]
     },
     "execution_count": 88,
     "metadata": {},
     "output_type": "execute_result"
    }
   ],
   "source": [
    "60000 - correct_count"
   ]
  },
  {
   "cell_type": "markdown",
   "metadata": {},
   "source": [
    "### Predict samples"
   ]
  },
  {
   "cell_type": "code",
   "execution_count": 158,
   "metadata": {
    "ExecuteTime": {
     "end_time": "2019-05-12T15:49:22.868458Z",
     "start_time": "2019-05-12T15:49:22.842959Z"
    }
   },
   "outputs": [
    {
     "name": "stdout",
     "output_type": "stream",
     "text": [
      "Label: tensor(6)\n",
      "torch.FloatTensor\n",
      "input_shape: torch.Size([1, 1, 28, 28])\n",
      "prediction: tensor([[2.2588e-03, 5.5710e-11, 8.3192e-09, 8.5046e-11, 2.4054e-05, 5.1761e-11,\n",
      "         1.1051e-02, 9.8572e-01, 9.4519e-04, 9.2490e-12]],\n",
      "       grad_fn=<SoftmaxBackward>)\n",
      "confidence: [0.01632771]\n",
      "pred_value: tensor([0.9857])\n",
      "pred label: tensor([7])\n"
     ]
    },
    {
     "data": {
      "text/plain": [
       "CNN(\n",
       "  (conv1): Sequential(\n",
       "    (0): Conv2d(1, 16, kernel_size=(5, 5), stride=(1, 1), padding=(2, 2))\n",
       "    (1): ReLU()\n",
       "    (2): MaxPool2d(kernel_size=2, stride=2, padding=0, dilation=1, ceil_mode=False)\n",
       "  )\n",
       "  (conv2): Sequential(\n",
       "    (0): Conv2d(16, 32, kernel_size=(5, 5), stride=(1, 1), padding=(2, 2))\n",
       "    (1): ReLU()\n",
       "    (2): MaxPool2d(kernel_size=2, stride=2, padding=0, dilation=1, ceil_mode=False)\n",
       "  )\n",
       "  (classifier): Linear(in_features=1568, out_features=10, bias=True)\n",
       "  (confidence): Linear(in_features=1568, out_features=1, bias=True)\n",
       ")"
      ]
     },
     "execution_count": 158,
     "metadata": {},
     "output_type": "execute_result"
    }
   ],
   "source": [
    "cnn.eval()\n",
    "idx = 100\n",
    "# print(mnist_test.test_data[idx].shape)\n",
    "print(\"Label:\", test_loader.dataset.test_labels[idx])\n",
    "img = test_loader.dataset.test_data[idx][None, None].type(\"torch.FloatTensor\")\n",
    "print(img.type())\n",
    "# x = torch.unsqueeze(mnist_test.test_data[11:12], dim=0)\n",
    "print(\"input_shape:\", img.shape)\n",
    "\n",
    "with torch.no_grad():\n",
    "    img = Variable(img)\n",
    "pred, conf = cnn(img)\n",
    "pred = torch.softmax(pred, dim=-1)\n",
    "conf = torch.sigmoid(conf).data.view(-1)\n",
    "\n",
    "print(\"prediction:\", pred)\n",
    "print(\"confidence:\", conf.cpu().numpy())\n",
    "\n",
    "pred_value, pred = torch.max(pred.data, 1)\n",
    "print(\"pred_value:\", pred_value)\n",
    "print(\"pred label:\", pred)\n",
    "\n",
    "cnn.train()\n",
    "# correct.extend((pred == labels).cpu().numpy())  # 猜中label數目是多少\n",
    "# probability.extend(pred_value.cpu().numpy())  # 猜的機率是多少\n",
    "# confidence.extend(conf.cpu().numpy())  # 信心度是多少"
   ]
  },
  {
   "cell_type": "code",
   "execution_count": 160,
   "metadata": {
    "ExecuteTime": {
     "end_time": "2019-05-12T15:50:22.977825Z",
     "start_time": "2019-05-12T15:50:22.786999Z"
    }
   },
   "outputs": [
    {
     "data": {
      "text/plain": [
       "<matplotlib.image.AxesImage at 0x7f466498b128>"
      ]
     },
     "execution_count": 160,
     "metadata": {},
     "output_type": "execute_result"
    },
    {
     "data": {
      "image/png": "[encoded data removed]",
      "text/plain": [
       "<matplotlib.figure.Figure at 0x7f468156f390>"
      ]
     },
     "metadata": {
      "needs_background": "light"
     },
     "output_type": "display_data"
    }
   ],
   "source": [
    "plt.imshow(test_loader.dataset.test_data[idx].numpy(), cmap='gray')"
   ]
  },
  {
   "cell_type": "code",
   "execution_count": 133,
   "metadata": {
    "ExecuteTime": {
     "end_time": "2019-05-12T15:42:15.035699Z",
     "start_time": "2019-05-12T15:42:12.251810Z"
    }
   },
   "outputs": [
    {
     "data": {
      "text/plain": [
       "CNN(\n",
       "  (conv1): Sequential(\n",
       "    (0): Conv2d(1, 16, kernel_size=(5, 5), stride=(1, 1), padding=(2, 2))\n",
       "    (1): ReLU()\n",
       "    (2): MaxPool2d(kernel_size=2, stride=2, padding=0, dilation=1, ceil_mode=False)\n",
       "  )\n",
       "  (conv2): Sequential(\n",
       "    (0): Conv2d(16, 32, kernel_size=(5, 5), stride=(1, 1), padding=(2, 2))\n",
       "    (1): ReLU()\n",
       "    (2): MaxPool2d(kernel_size=2, stride=2, padding=0, dilation=1, ceil_mode=False)\n",
       "  )\n",
       "  (classifier): Linear(in_features=1568, out_features=10, bias=True)\n",
       "  (confidence): Linear(in_features=1568, out_features=1, bias=True)\n",
       ")"
      ]
     },
     "execution_count": 133,
     "metadata": {},
     "output_type": "execute_result"
    },
    {
     "data": {
      "image/png": "[encoded data removed]",
      "text/plain": [
       "<matplotlib.figure.Figure at 0x7f464a6b88d0>"
      ]
     },
     "metadata": {
      "needs_background": "light"
     },
     "output_type": "display_data"
    }
   ],
   "source": [
    "cnn.eval()    # Change model to 'eval' mode (BN uses moving mean/var).\n",
    "\n",
    "correct = []\n",
    "probability = []\n",
    "confidence = []\n",
    "\n",
    "for images, labels in test_loader:\n",
    "    with torch.no_grad():\n",
    "        images = Variable(images)  # .cuda()\n",
    "    \n",
    "    labels = labels  # .cuda()\n",
    "\n",
    "    pred, conf = cnn(images)\n",
    "    pred = torch.softmax(pred, dim=-1)\n",
    "    conf = torch.sigmoid(conf).data.view(-1)\n",
    "\n",
    "    pred_value, pred = torch.max(pred.data, 1)\n",
    "    correct.extend((pred == labels).cpu().numpy())  # 猜中label數目是多少\n",
    "    probability.extend(pred_value.cpu().numpy())  # 猜的機率是多少\n",
    "    confidence.extend(conf.cpu().numpy())  # 信心度是多少\n",
    "\n",
    "correct = np.array(correct).astype(bool)\n",
    "probability = np.array(probability)\n",
    "confidence = np.array(confidence)\n",
    "\n",
    "# plot_histograms(correct, probability)\n",
    "plot_histograms(correct, confidence)\n",
    "cnn.train()"
   ]
  },
  {
   "cell_type": "code",
   "execution_count": 19,
   "metadata": {
    "ExecuteTime": {
     "end_time": "2019-05-13T16:43:44.473280Z",
     "start_time": "2019-05-13T16:43:28.009799Z"
    }
   },
   "outputs": [
    {
     "data": {
      "text/plain": [
       "CNN(\n",
       "  (conv1): Sequential(\n",
       "    (0): Conv2d(1, 16, kernel_size=(5, 5), stride=(1, 1), padding=(2, 2))\n",
       "    (1): ReLU()\n",
       "    (2): MaxPool2d(kernel_size=2, stride=2, padding=0, dilation=1, ceil_mode=False)\n",
       "  )\n",
       "  (conv2): Sequential(\n",
       "    (0): Conv2d(16, 32, kernel_size=(5, 5), stride=(1, 1), padding=(2, 2))\n",
       "    (1): ReLU()\n",
       "    (2): MaxPool2d(kernel_size=2, stride=2, padding=0, dilation=1, ceil_mode=False)\n",
       "  )\n",
       "  (classifier): Linear(in_features=1568, out_features=10, bias=True)\n",
       "  (confidence): Linear(in_features=1568, out_features=1, bias=True)\n",
       ")"
      ]
     },
     "execution_count": 19,
     "metadata": {},
     "output_type": "execute_result"
    },
    {
     "data": {
      "image/png": "[encoded data removed]",
      "text/plain": [
       "<matplotlib.figure.Figure at 0x7f993198d748>"
      ]
     },
     "metadata": {
      "needs_background": "light"
     },
     "output_type": "display_data"
    }
   ],
   "source": [
    "cnn.eval()    # Change model to 'eval' mode (BN uses moving mean/var).\n",
    "\n",
    "correct = []\n",
    "probability = []\n",
    "confidence = []\n",
    "\n",
    "for images, labels in train_loader:\n",
    "    with torch.no_grad():\n",
    "        images = Variable(images)  # .cuda()\n",
    "    \n",
    "    labels = labels  # .cuda()\n",
    "\n",
    "    pred, conf = cnn(images)\n",
    "    pred = torch.softmax(pred, dim=-1)\n",
    "    conf = torch.sigmoid(conf).data.view(-1)\n",
    "\n",
    "    pred_value, pred = torch.max(pred.data, 1)\n",
    "    correct.extend((pred == labels).cpu().numpy())  # 猜中label數目是多少\n",
    "    probability.extend(pred_value.cpu().numpy())  # 猜的機率是多少\n",
    "    confidence.extend(conf.cpu().numpy())  # 信心度是多少\n",
    "\n",
    "correct = np.array(correct).astype(bool)\n",
    "probability = np.array(probability)\n",
    "confidence = np.array(confidence)\n",
    "\n",
    "# plot_histograms(correct, probability)\n",
    "plot_histograms(correct, confidence)\n",
    "cnn.train()"
   ]
  },
  {
   "cell_type": "code",
   "execution_count": 134,
   "metadata": {
    "ExecuteTime": {
     "end_time": "2019-05-12T15:42:18.112655Z",
     "start_time": "2019-05-12T15:42:18.105604Z"
    }
   },
   "outputs": [
    {
     "data": {
      "text/plain": [
       "array([0.9061311 , 0.9900648 , 0.8245051 , ..., 0.30977502, 0.38897344,\n",
       "       0.9333509 ], dtype=float32)"
      ]
     },
     "execution_count": 134,
     "metadata": {},
     "output_type": "execute_result"
    }
   ],
   "source": [
    "confidence"
   ]
  },
  {
   "cell_type": "code",
   "execution_count": 22,
   "metadata": {
    "ExecuteTime": {
     "end_time": "2019-05-11T18:20:25.191397Z",
     "start_time": "2019-05-11T18:20:25.181956Z"
    }
   },
   "outputs": [
    {
     "name": "stdout",
     "output_type": "stream",
     "text": [
      "tensor([0.2877])\n",
      "(tensor([4.]), tensor([2]))\n"
     ]
    }
   ],
   "source": [
    "print(-torch.log(torch.Tensor([0.75])))\n",
    "print(torch.max(torch.Tensor([[0, 1, 4, 3]]), 1))"
   ]
  },
  {
   "cell_type": "code",
   "execution_count": 32,
   "metadata": {
    "ExecuteTime": {
     "end_time": "2019-05-11T17:58:18.274719Z",
     "start_time": "2019-05-11T17:58:18.265180Z"
    }
   },
   "outputs": [
    {
     "name": "stdout",
     "output_type": "stream",
     "text": [
      "tensor([[0.2512, 0.5365, 0.1805],\n",
      "        [0.2364, 0.5587, 0.9278],\n",
      "        [0.2939, 0.5346, 0.8124]])\n",
      "tensor([[0., 1., 0.],\n",
      "        [0., 1., 1.],\n",
      "        [0., 0., 1.]])\n",
      "tensor([[7.9003e+27]])\n",
      "tensor([[7.9003e+27, 7.9003e+27, 7.9003e+27, 7.9003e+27, 7.9003e+27, 7.9003e+27,\n",
      "         7.9003e+27, 7.9003e+27, 7.9003e+27, 7.9003e+27]])\n"
     ]
    }
   ],
   "source": [
    "\"\"\"\n",
    "# torch.bernoulli\n",
    "\"\"\"\n",
    "a = torch.Tensor(3, 3).uniform_(0, 1)\n",
    "print(a)\n",
    "print(torch.bernoulli(a))\n",
    "\n",
    "\"\"\"\n",
    "# expand_as\n",
    "\"\"\"\n",
    "c = torch.Tensor(1, 1)\n",
    "print(c)\n",
    "print(c.expand_as(torch.Tensor(1, 10)))"
   ]
  },
  {
   "cell_type": "code",
   "execution_count": null,
   "metadata": {},
   "outputs": [],
   "source": []
  },
  {
   "cell_type": "code",
   "execution_count": null,
   "metadata": {},
   "outputs": [],
   "source": []
  },
  {
   "cell_type": "code",
   "execution_count": null,
   "metadata": {},
   "outputs": [],
   "source": []
  },
  {
   "cell_type": "code",
   "execution_count": null,
   "metadata": {},
   "outputs": [],
   "source": []
  },
  {
   "cell_type": "code",
   "execution_count": null,
   "metadata": {},
   "outputs": [],
   "source": []
  },
  {
   "cell_type": "code",
   "execution_count": null,
   "metadata": {},
   "outputs": [],
   "source": []
  },
  {
   "cell_type": "code",
   "execution_count": null,
   "metadata": {},
   "outputs": [],
   "source": []
  }
 ],
 "metadata": {
  "kernelspec": {
   "display_name": "Python 3",
   "language": "python",
   "name": "python3"
  },
  "language_info": {
   "codemirror_mode": {
    "name": "ipython",
    "version": 3
   },
   "file_extension": ".py",
   "mimetype": "text/x-python",
   "name": "python",
   "nbconvert_exporter": "python",
   "pygments_lexer": "ipython3",
   "version": "3.6.6"
  },
  "toc": {
   "base_numbering": 1,
   "nav_menu": {},
   "number_sections": true,
   "sideBar": true,
   "skip_h1_title": false,
   "title_cell": "Table of Contents",
   "title_sidebar": "Contents",
   "toc_cell": false,
   "toc_position": {},
   "toc_section_display": true,
   "toc_window_display": false
  },
  "varInspector": {
   "cols": {
    "lenName": 16,
    "lenType": 16,
    "lenVar": 40
   },
   "kernels_config": {
    "python": {
     "delete_cmd_postfix": "",
     "delete_cmd_prefix": "del ",
     "library": "var_list.py",
     "varRefreshCmd": "print(var_dic_list())"
    },
    "r": {
     "delete_cmd_postfix": ") ",
     "delete_cmd_prefix": "rm(",
     "library": "var_list.r",
     "varRefreshCmd": "cat(var_dic_list()) "
    }
   },
   "types_to_exclude": [
    "module",
    "function",
    "builtin_function_or_method",
    "instance",
    "_Feature"
   ],
   "window_display": false
  }
 },
 "nbformat": 4,
 "nbformat_minor": 2
}
