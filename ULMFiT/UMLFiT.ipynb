{
 "cells": [
  {
   "cell_type": "code",
   "execution_count": null,
   "metadata": {},
   "outputs": [],
   "source": [
    "# https://www.kaggle.com/c/dlinnlp-spring-2019-clf/data\n",
    "# https://github.com/prrao87/tweet-stance-prediction/blob/master/ulmfit.ipynb (Stance Analysis 立場分析)"
   ]
  },
  {
   "cell_type": "code",
   "execution_count": 1,
   "metadata": {
    "ExecuteTime": {
     "end_time": "2019-08-28T14:48:24.028368Z",
     "start_time": "2019-08-28T14:48:22.743617Z"
    }
   },
   "outputs": [
    {
     "data": {
      "text/plain": [
       "131072"
      ]
     },
     "execution_count": 1,
     "metadata": {},
     "output_type": "execute_result"
    }
   ],
   "source": [
    "from tqdm import tqdm_notebook\n",
    "import torch\n",
    "import fastai\n",
    "from fastai.text import *\n",
    "import sys\n",
    "import csv\n",
    " \n",
    "csv.field_size_limit(sys.maxsize)"
   ]
  },
  {
   "cell_type": "markdown",
   "metadata": {},
   "source": [
    "#### Define the path to train and test data for SemEval 2016 Task 6\n",
    "The full data and evaluation files for this task is available on the source page. However, these have been included along with this repository for future reference."
   ]
  },
  {
   "cell_type": "code",
   "execution_count": 2,
   "metadata": {
    "ExecuteTime": {
     "end_time": "2019-08-28T14:51:10.160202Z",
     "start_time": "2019-08-28T14:51:10.139304Z"
    }
   },
   "outputs": [],
   "source": [
    "path = Path('.')\n",
    "trainfile = 'semeval2016-task6-trainingdata.txt'\n",
    "testfile = 'SemEval2016-Task6-subtaskA-testdata.txt'\n",
    "train_orig = pd.read_csv(path/trainfile, delimiter='\\t', header=0, encoding = \"latin-1\")"
   ]
  },
  {
   "cell_type": "code",
   "execution_count": 3,
   "metadata": {
    "ExecuteTime": {
     "end_time": "2019-08-28T13:25:48.669000Z",
     "start_time": "2019-08-28T13:25:48.600622Z"
    }
   },
   "outputs": [
    {
     "data": {
      "text/html": [
       "<div>\n",
       "<style scoped>\n",
       "    .dataframe tbody tr th:only-of-type {\n",
       "        vertical-align: middle;\n",
       "    }\n",
       "\n",
       "    .dataframe tbody tr th {\n",
       "        vertical-align: top;\n",
       "    }\n",
       "\n",
       "    .dataframe thead th {\n",
       "        text-align: right;\n",
       "    }\n",
       "</style>\n",
       "<table border=\"1\" class=\"dataframe\">\n",
       "  <thead>\n",
       "    <tr style=\"text-align: right;\">\n",
       "      <th></th>\n",
       "      <th>ID</th>\n",
       "      <th>Target</th>\n",
       "      <th>Tweet</th>\n",
       "      <th>Stance</th>\n",
       "    </tr>\n",
       "  </thead>\n",
       "  <tbody>\n",
       "    <tr>\n",
       "      <th>0</th>\n",
       "      <td>101</td>\n",
       "      <td>Atheism</td>\n",
       "      <td>dear lord thank u for all of ur blessings forg...</td>\n",
       "      <td>AGAINST</td>\n",
       "    </tr>\n",
       "    <tr>\n",
       "      <th>1</th>\n",
       "      <td>102</td>\n",
       "      <td>Atheism</td>\n",
       "      <td>Blessed are the peacemakers, for they shall be...</td>\n",
       "      <td>AGAINST</td>\n",
       "    </tr>\n",
       "    <tr>\n",
       "      <th>2</th>\n",
       "      <td>103</td>\n",
       "      <td>Atheism</td>\n",
       "      <td>I am not conformed to this world. I am transfo...</td>\n",
       "      <td>AGAINST</td>\n",
       "    </tr>\n",
       "    <tr>\n",
       "      <th>3</th>\n",
       "      <td>104</td>\n",
       "      <td>Atheism</td>\n",
       "      <td>Salah should be prayed with #focus and #unders...</td>\n",
       "      <td>AGAINST</td>\n",
       "    </tr>\n",
       "    <tr>\n",
       "      <th>4</th>\n",
       "      <td>105</td>\n",
       "      <td>Atheism</td>\n",
       "      <td>And stay in your houses and do not display you...</td>\n",
       "      <td>AGAINST</td>\n",
       "    </tr>\n",
       "  </tbody>\n",
       "</table>\n",
       "</div>"
      ],
      "text/plain": [
       "    ID   Target                                              Tweet   Stance\n",
       "0  101  Atheism  dear lord thank u for all of ur blessings forg...  AGAINST\n",
       "1  102  Atheism  Blessed are the peacemakers, for they shall be...  AGAINST\n",
       "2  103  Atheism  I am not conformed to this world. I am transfo...  AGAINST\n",
       "3  104  Atheism  Salah should be prayed with #focus and #unders...  AGAINST\n",
       "4  105  Atheism  And stay in your houses and do not display you...  AGAINST"
      ]
     },
     "execution_count": 3,
     "metadata": {},
     "output_type": "execute_result"
    }
   ],
   "source": [
    "# function to remove non-ASCII chars from data\n",
    "def clean_ascii(text):\n",
    "    return ''.join(i for i in text if ord(i) < 128)\n",
    "train_orig['Tweet'] = train_orig['Tweet'].apply(clean_ascii)\n",
    "train_orig.head()"
   ]
  },
  {
   "cell_type": "code",
   "execution_count": 4,
   "metadata": {
    "ExecuteTime": {
     "end_time": "2019-08-13T15:38:00.215564Z",
     "start_time": "2019-08-13T15:38:00.191277Z"
    }
   },
   "outputs": [
    {
     "data": {
      "text/plain": [
       "(2814, 4)"
      ]
     },
     "execution_count": 4,
     "metadata": {},
     "output_type": "execute_result"
    }
   ],
   "source": [
    "train_orig.shape"
   ]
  },
  {
   "cell_type": "code",
   "execution_count": 3,
   "metadata": {
    "ExecuteTime": {
     "end_time": "2019-08-28T14:51:54.350444Z",
     "start_time": "2019-08-28T14:51:54.345588Z"
    }
   },
   "outputs": [
    {
     "name": "stdout",
     "output_type": "stream",
     "text": [
      "CPU\n",
      "PyTorch version:  1.0.0\n"
     ]
    }
   ],
   "source": [
    "# Check that the latest 1.0.0 build of PyTorch has been installed \n",
    "# alongside fastai\n",
    "import torch\n",
    "print(\"Cuda available\" if torch.cuda.is_available() is True else \"CPU\")\n",
    "print(\"PyTorch version: \", torch.__version__)"
   ]
  },
  {
   "cell_type": "code",
   "execution_count": 4,
   "metadata": {
    "ExecuteTime": {
     "end_time": "2019-08-28T14:51:58.528371Z",
     "start_time": "2019-08-28T14:51:58.370080Z"
    }
   },
   "outputs": [
    {
     "data": {
      "image/png": "[encoded data removed]",
      "text/plain": [
       "<matplotlib.figure.Figure at 0x7f57707494e0>"
      ]
     },
     "metadata": {
      "needs_background": "light"
     },
     "output_type": "display_data"
    }
   ],
   "source": [
    "# Plot value counts for each stance in the dataset\n",
    "train_orig['Stance'].value_counts().plot.bar(rot=30);"
   ]
  },
  {
   "cell_type": "code",
   "execution_count": 5,
   "metadata": {
    "ExecuteTime": {
     "end_time": "2019-08-28T14:52:02.926311Z",
     "start_time": "2019-08-28T14:52:02.920601Z"
    }
   },
   "outputs": [
    {
     "name": "stdout",
     "output_type": "stream",
     "text": [
      "SemEval 2016 Task 6 (subtask A) Tweet topics are:\n",
      "\n",
      "------------------------------------------\n",
      "Atheism\n",
      "Climate Change is a Real Concern\n",
      "Feminist Movement\n",
      "Hillary Clinton\n",
      "Legalization of Abortion\n"
     ]
    }
   ],
   "source": [
    "print(\"SemEval 2016 Task 6 (subtask A) Tweet topics are:\\n\")\n",
    "print(\"------------------------------------------\")\n",
    "for item in train_orig['Target'].unique():\n",
    "    print(item)"
   ]
  },
  {
   "cell_type": "markdown",
   "metadata": {},
   "source": [
    "#### Apply the cleaning function to the 'Tweet' column of the training data"
   ]
  },
  {
   "cell_type": "code",
   "execution_count": 9,
   "metadata": {
    "ExecuteTime": {
     "end_time": "2019-08-13T15:38:29.136123Z",
     "start_time": "2019-08-13T15:38:29.012298Z"
    }
   },
   "outputs": [
    {
     "data": {
      "text/html": [
       "<div>\n",
       "<style scoped>\n",
       "    .dataframe tbody tr th:only-of-type {\n",
       "        vertical-align: middle;\n",
       "    }\n",
       "\n",
       "    .dataframe tbody tr th {\n",
       "        vertical-align: top;\n",
       "    }\n",
       "\n",
       "    .dataframe thead th {\n",
       "        text-align: right;\n",
       "    }\n",
       "</style>\n",
       "<table border=\"1\" class=\"dataframe\">\n",
       "  <thead>\n",
       "    <tr style=\"text-align: right;\">\n",
       "      <th></th>\n",
       "      <th>ID</th>\n",
       "      <th>Target</th>\n",
       "      <th>Tweet</th>\n",
       "      <th>Stance</th>\n",
       "    </tr>\n",
       "  </thead>\n",
       "  <tbody>\n",
       "    <tr>\n",
       "      <th>0</th>\n",
       "      <td>101</td>\n",
       "      <td>Atheism</td>\n",
       "      <td>dear lord thank u for all of ur blessings forg...</td>\n",
       "      <td>AGAINST</td>\n",
       "    </tr>\n",
       "    <tr>\n",
       "      <th>1</th>\n",
       "      <td>102</td>\n",
       "      <td>Atheism</td>\n",
       "      <td>Blessed are the peacemakers, for they shall be...</td>\n",
       "      <td>AGAINST</td>\n",
       "    </tr>\n",
       "    <tr>\n",
       "      <th>2</th>\n",
       "      <td>103</td>\n",
       "      <td>Atheism</td>\n",
       "      <td>I am not conformed to this world. I am transfo...</td>\n",
       "      <td>AGAINST</td>\n",
       "    </tr>\n",
       "    <tr>\n",
       "      <th>3</th>\n",
       "      <td>104</td>\n",
       "      <td>Atheism</td>\n",
       "      <td>Salah should be prayed with #focus and #unders...</td>\n",
       "      <td>AGAINST</td>\n",
       "    </tr>\n",
       "    <tr>\n",
       "      <th>4</th>\n",
       "      <td>105</td>\n",
       "      <td>Atheism</td>\n",
       "      <td>And stay in your houses and do not display you...</td>\n",
       "      <td>AGAINST</td>\n",
       "    </tr>\n",
       "  </tbody>\n",
       "</table>\n",
       "</div>"
      ],
      "text/plain": [
       "    ID   Target                                              Tweet   Stance\n",
       "0  101  Atheism  dear lord thank u for all of ur blessings forg...  AGAINST\n",
       "1  102  Atheism  Blessed are the peacemakers, for they shall be...  AGAINST\n",
       "2  103  Atheism  I am not conformed to this world. I am transfo...  AGAINST\n",
       "3  104  Atheism  Salah should be prayed with #focus and #unders...  AGAINST\n",
       "4  105  Atheism  And stay in your houses and do not display you...  AGAINST"
      ]
     },
     "execution_count": 9,
     "metadata": {},
     "output_type": "execute_result"
    }
   ],
   "source": [
    "train_orig['Tweet'] = train_orig['Tweet'].apply(clean_ascii)\n",
    "train_orig.head()"
   ]
  },
  {
   "cell_type": "markdown",
   "metadata": {},
   "source": [
    "#### Store the relevant information from training data\n",
    "ULMFit __requires just the stance and the text data (i.e. tweets)__ for the language-model finetuning and classification steps, hence these are stored in a DataFrame."
   ]
  },
  {
   "cell_type": "code",
   "execution_count": 10,
   "metadata": {
    "ExecuteTime": {
     "end_time": "2019-08-13T15:38:30.899410Z",
     "start_time": "2019-08-13T15:38:30.889285Z"
    }
   },
   "outputs": [
    {
     "data": {
      "text/html": [
       "<div>\n",
       "<style scoped>\n",
       "    .dataframe tbody tr th:only-of-type {\n",
       "        vertical-align: middle;\n",
       "    }\n",
       "\n",
       "    .dataframe tbody tr th {\n",
       "        vertical-align: top;\n",
       "    }\n",
       "\n",
       "    .dataframe thead th {\n",
       "        text-align: right;\n",
       "    }\n",
       "</style>\n",
       "<table border=\"1\" class=\"dataframe\">\n",
       "  <thead>\n",
       "    <tr style=\"text-align: right;\">\n",
       "      <th></th>\n",
       "      <th>Stance</th>\n",
       "      <th>Tweet</th>\n",
       "    </tr>\n",
       "  </thead>\n",
       "  <tbody>\n",
       "    <tr>\n",
       "      <th>2809</th>\n",
       "      <td>AGAINST</td>\n",
       "      <td>There's a law protecting unborn eagles, but no...</td>\n",
       "    </tr>\n",
       "    <tr>\n",
       "      <th>2810</th>\n",
       "      <td>AGAINST</td>\n",
       "      <td>I am 1 in 3... I have had an abortion #Abortio...</td>\n",
       "    </tr>\n",
       "    <tr>\n",
       "      <th>2811</th>\n",
       "      <td>AGAINST</td>\n",
       "      <td>How dare you say my sexual preference is a cho...</td>\n",
       "    </tr>\n",
       "    <tr>\n",
       "      <th>2812</th>\n",
       "      <td>AGAINST</td>\n",
       "      <td>Equal rights for those 'born that way', no rig...</td>\n",
       "    </tr>\n",
       "    <tr>\n",
       "      <th>2813</th>\n",
       "      <td>AGAINST</td>\n",
       "      <td>#POTUS seals his legacy w/ 1/2 doz wins. The #...</td>\n",
       "    </tr>\n",
       "  </tbody>\n",
       "</table>\n",
       "</div>"
      ],
      "text/plain": [
       "       Stance                                              Tweet\n",
       "2809  AGAINST  There's a law protecting unborn eagles, but no...\n",
       "2810  AGAINST  I am 1 in 3... I have had an abortion #Abortio...\n",
       "2811  AGAINST  How dare you say my sexual preference is a cho...\n",
       "2812  AGAINST  Equal rights for those 'born that way', no rig...\n",
       "2813  AGAINST  #POTUS seals his legacy w/ 1/2 doz wins. The #..."
      ]
     },
     "execution_count": 10,
     "metadata": {},
     "output_type": "execute_result"
    }
   ],
   "source": [
    "train = pd.concat([train_orig['Stance'], train_orig['Tweet']], axis=1)\n",
    "train.tail()"
   ]
  },
  {
   "cell_type": "code",
   "execution_count": 11,
   "metadata": {
    "ExecuteTime": {
     "end_time": "2019-08-13T15:38:33.009473Z",
     "start_time": "2019-08-13T15:38:32.992223Z"
    }
   },
   "outputs": [],
   "source": [
    "# Write train to csv\n",
    "train.to_csv(path/'train.csv', index=False, header=False)"
   ]
  },
  {
   "cell_type": "markdown",
   "metadata": {},
   "source": [
    "### Experiment"
   ]
  },
  {
   "cell_type": "markdown",
   "metadata": {
    "ExecuteTime": {
     "end_time": "2019-08-10T16:34:55.714616Z",
     "start_time": "2019-08-10T16:34:55.712085Z"
    }
   },
   "source": [
    "#### Preprocess data for language model fine-tuning"
   ]
  },
  {
   "cell_type": "markdown",
   "metadata": {},
   "source": [
    "The `TextLMDataBunch`\n",
    "<a href=\"https://docs.fast.ai/text.data.html#TextLMDataBunch\">[source]</a>\n",
    "class returns a __\"Databunch\"__ type of object that is a custom object defined in `fastai.text's API`. Note that according to this class definition, a significant amount of data pre-processing is going on under the hood.\n",
    "\n",
    "- Initialize the language model with the pre-trained vocabulary's weights\n",
    "- Create a custom data loader that \"batchifies\" the target task's vocabulary, i.e. split it up into batches for processing on the GPU\n",
    "- Introduce randomness into the batches, but without breaking up the sentence sequences using techniques borrowed from language modeling.\n",
    "- Tokenize the target task's vocabulary and increase the efficiency of tokenization (for large tasks) using multi-threading"
   ]
  },
  {
   "cell_type": "code",
   "execution_count": 7,
   "metadata": {
    "ExecuteTime": {
     "end_time": "2019-08-28T15:00:47.031078Z",
     "start_time": "2019-08-28T15:00:45.900964Z"
    }
   },
   "outputs": [],
   "source": [
    "# Language model data (Create a TextDataBunch suitable for training a language model)\n",
    "data_lm = TextLMDataBunch.from_csv(path, 'train.csv', min_freq=1)\n",
    "# All the texts in the datasets are concatenated and the labels are ignored. \n",
    "# Instead, the target is the next word in the sentence."
   ]
  },
  {
   "cell_type": "code",
   "execution_count": 15,
   "metadata": {
    "ExecuteTime": {
     "end_time": "2019-08-28T15:05:00.051720Z",
     "start_time": "2019-08-28T15:05:00.045383Z"
    }
   },
   "outputs": [
    {
     "name": "stdout",
     "output_type": "stream",
     "text": [
      "FlattenedLoss of CrossEntropyLoss()\n",
      "<bound method DataBunch.one_item of TextLMDataBunch;\n",
      "\n",
      "Train: LabelList (2250 items)\n",
      "x: LMTextList\n",
      "xxbos xxmaj is the new xxmaj pahiatua plant going to be primarily coalfired ? xxmaj large companies like @fonterra should be taking the lead against # semst,xxbos xxmaj world xxmaj futures xxmaj council man at # fsds15 points out absurdity of cost benefit analysis discounting future lives # sustainability # semst,xxbos xxmaj lord , xxmaj you are my xxmaj hope ! xxmaj in xxmaj you i will always trust . # semst,xxbos xxup rt @abhinav_khanal : 700 people dead in xxmaj pakistan due to heatwave . # semst,xxbos xxmaj if you need me i 'll be screaming like a little baby from now until about ten minutes after @hillaryclinton arrives in # ptown . # semst\n",
      "y: LMLabelList\n",
      ",,,,\n",
      "Path: .;\n",
      "\n",
      "Valid: LabelList (563 items)\n",
      "x: LMTextList\n",
      "xxbos xxunk xxunk xxunk xxunk xxmaj both are xxunk stupid and useless anyway . # liberalism # democracy # semst,xxbos xxmaj so xxunk are against health rights ? # semst,xxbos xxmaj the xxunk goal of xxmaj feminism has gone from \" xxmaj xxunk more female characters \" to \" xxmaj replace all male characters # semst,xxbos @prolifeliberty xxmaj yes , your xxunk is horrible . xxmaj we were talking about abortion , not death . # semst,xxbos xxmaj souls are so xxup connected to their creator no matter how hard you tried to xxup xxunk # islam # semst\n",
      "y: LMLabelList\n",
      ",,,,\n",
      "Path: .;\n",
      "\n",
      "Test: None>\n",
      "LabelLists;\n",
      "\n",
      "Train: LabelList (2250 items)\n",
      "x: LMTextList\n",
      "xxbos xxmaj is the new xxmaj pahiatua plant going to be primarily coalfired ? xxmaj large companies like @fonterra should be taking the lead against # semst,xxbos xxmaj world xxmaj futures xxmaj council man at # fsds15 points out absurdity of cost benefit analysis discounting future lives # sustainability # semst,xxbos xxmaj lord , xxmaj you are my xxmaj hope ! xxmaj in xxmaj you i will always trust . # semst,xxbos xxup rt @abhinav_khanal : 700 people dead in xxmaj pakistan due to heatwave . # semst,xxbos xxmaj if you need me i 'll be screaming like a little baby from now until about ten minutes after @hillaryclinton arrives in # ptown . # semst\n",
      "y: LMLabelList\n",
      ",,,,\n",
      "Path: .;\n",
      "\n",
      "Valid: LabelList (563 items)\n",
      "x: LMTextList\n",
      "xxbos xxunk xxunk xxunk xxunk xxmaj both are xxunk stupid and useless anyway . # liberalism # democracy # semst,xxbos xxmaj so xxunk are against health rights ? # semst,xxbos xxmaj the xxunk goal of xxmaj feminism has gone from \" xxmaj xxunk more female characters \" to \" xxmaj replace all male characters # semst,xxbos @prolifeliberty xxmaj yes , your xxunk is horrible . xxmaj we were talking about abortion , not death . # semst,xxbos xxmaj souls are so xxup connected to their creator no matter how hard you tried to xxup xxunk # islam # semst\n",
      "y: LMLabelList\n",
      ",,,,\n",
      "Path: .;\n",
      "\n",
      "Test: None\n"
     ]
    }
   ],
   "source": [
    "print(data_lm.loss_func)\n",
    "print(data_lm.one_item)\n",
    "# https://github.com/fastai/fastai/blob/4cd2e454a735e208c60b2ff7f82bbb4b62e85725/fastai/text/transform.py#L19\n",
    "# xxmaj: 首字大寫、xxup: 整字大寫，詳細參考上網址\n",
    "print(data_lm.label_list)  # None 因為是LM model"
   ]
  },
  {
   "cell_type": "markdown",
   "metadata": {},
   "source": [
    "Note that in this case, we specify a minimum word frequency of 1 (i.e. words that appear just once in the data are given the tag <unk> during tokenization."
   ]
  },
  {
   "cell_type": "code",
   "execution_count": 13,
   "metadata": {
    "ExecuteTime": {
     "end_time": "2019-08-13T15:38:37.269724Z",
     "start_time": "2019-08-13T15:38:37.179237Z"
    }
   },
   "outputs": [],
   "source": [
    "# Save the language and classifier model data for re-use\n",
    "data_lm.save()"
   ]
  },
  {
   "cell_type": "code",
   "execution_count": 8,
   "metadata": {
    "ExecuteTime": {
     "end_time": "2019-08-11T03:09:27.625726Z",
     "start_time": "2019-08-11T03:09:27.622534Z"
    }
   },
   "outputs": [],
   "source": [
    "# # Reload LM and clas data from file if doing so for large cases\n",
    "# data_lm = TextLMDataBunch.load(path)\n",
    "# data_clas = TextClasDataBunch.load(path, bs=32)"
   ]
  },
  {
   "cell_type": "code",
   "execution_count": 16,
   "metadata": {
    "ExecuteTime": {
     "end_time": "2019-08-28T15:05:35.071109Z",
     "start_time": "2019-08-28T15:05:35.049586Z"
    }
   },
   "outputs": [
    {
     "data": {
      "text/html": [
       "<table border=\"1\" class=\"dataframe\">\n",
       "  <thead>\n",
       "    <tr style=\"text-align: right;\">\n",
       "      <th>idx</th>\n",
       "      <th>text</th>\n",
       "    </tr>\n",
       "  </thead>\n",
       "  <tbody>\n",
       "    <tr>\n",
       "      <td>0</td>\n",
       "      <td>trust . # semst xxbos xxup rt @abhinav_khanal : 700 people dead in xxmaj pakistan due to heatwave . # semst xxbos xxmaj if you need me i 'll be screaming like a little baby from now until about ten minutes after @hillaryclinton arrives in # ptown . # semst xxbos @reformedbroker \" to da honies gittin money playing # bleep words like dummies \" # xxup poppa # semst</td>\n",
       "    </tr>\n",
       "    <tr>\n",
       "      <td>1</td>\n",
       "      <td>could have been xxmaj george xxmaj michael circa 1989 . # flashbackfuck # semst xxbos xxmaj so we 're to believe that \" xxmaj santa \" is a hairstylist ? xxmaj um ... okay . xxmaj you often need code for that . # xxmaj lies # semst xxbos xxmaj was asked by @hillaryclinton to help with her campaign . xxmaj gladly ( excitedly ) accepted ! # semst xxbos</td>\n",
       "    </tr>\n",
       "    <tr>\n",
       "      <td>2</td>\n",
       "      <td>. # feministsarebeautiful # semst xxbos xxmaj we are what we are . xxmaj nothing more , nothing less . # spirituality # semst xxbos xxmaj it looks like very soon homosexuality will only be illegal in xxmaj islamic states . # semst xxbos # xxup scotus blocking part of our xxmaj texas xxmaj anti - xxmaj abortion law . xxmaj maybe we should call them the xxmaj supreme xxmaj</td>\n",
       "    </tr>\n",
       "    <tr>\n",
       "      <td>3</td>\n",
       "      <td>only 17 % of xxmaj congress . xxmaj the # waronwomen is absolutely a real thing . xxmaj wake up , xxmaj america . # semst xxbos xxmaj the only solution i see against the # xxup potus # xxup scotus # xxmaj tyranny is # articlev # federalistpapers # scotuscare # gaymarriage # wtf # semst xxbos xxup dear xxup feminists &amp; sjws i am a proud xxmaj troll</td>\n",
       "    </tr>\n",
       "    <tr>\n",
       "      <td>4</td>\n",
       "      <td>else , even when confronted with the truth . # freeallfour # semst xxbos @hillaryclinton xxmaj yes ! i am chipping in 5 $ because we have faith in you . # semst xxbos @phxken xxmaj shocked she did n't burst into flames ! # wakeupamerica # makeamericagreatagain # semst xxbos xxmaj headed to xxmaj chester , xxup sc for a big hillary canvass ! xxmaj join me . xxmaj</td>\n",
       "    </tr>\n",
       "  </tbody>\n",
       "</table>"
      ],
      "text/plain": [
       "<IPython.core.display.HTML object>"
      ]
     },
     "metadata": {},
     "output_type": "display_data"
    }
   ],
   "source": [
    "data_lm.show_batch()"
   ]
  },
  {
   "cell_type": "markdown",
   "metadata": {},
   "source": [
    "#### Define learner object for language model finetuning\n",
    "\n",
    "We define a learner object that uses the tokenized language model data, that is organized into batches for the GPU, and __feed it a pre-trained language model.__\n",
    "\n",
    "We use the `wt_103_v1` model that was refined after re-training using the more efficient _fastai v1 library_. The data __(lstm_wt103.pth)__ is downloaded through an __AWS-hosted link__ (accessed through the fastai.datasets interface), and stored locally. All the data in the language model file is numericalized and stored in a way that the learner can efficiently pick up tokens in float form. In addition to the language model, there is also an additional pickle object __itos_wt103.pkl__ that is similar to the torchtext definition of \"integer-to-string\" - this contains the list of unique tokens in word form, so that we can map the tokens back to strings if necessary."
   ]
  },
  {
   "cell_type": "code",
   "execution_count": 17,
   "metadata": {
    "ExecuteTime": {
     "end_time": "2019-08-28T15:11:05.023683Z",
     "start_time": "2019-08-28T15:11:05.018629Z"
    }
   },
   "outputs": [
    {
     "name": "stdout",
     "output_type": "stream",
     "text": [
      "<function language_model_learner at 0x7f572d214510>\n",
      "https://s3.amazonaws.com/fast-ai-modelzoo/wt103-bwd\n"
     ]
    }
   ],
   "source": [
    "print(language_model_learner)\n",
    "print(URLs.WT103_BWD)"
   ]
  },
  {
   "cell_type": "code",
   "execution_count": 18,
   "metadata": {
    "ExecuteTime": {
     "end_time": "2019-08-28T15:11:08.514478Z",
     "start_time": "2019-08-28T15:11:07.895104Z"
    }
   },
   "outputs": [],
   "source": [
    "# I assume you have updated fastai since you last ran succesfully.\n",
    "# The API for language_model_learner has changed. Check the docs 63 but you will need something like:\n",
    "# learn = language_model_learner(data_lm, arch=AWD_LSTM, drop_mult=0.3)\n",
    "# Also, if you take a look at the source you will see that the AWD_LSTM model loads pre-trained weights from URLs.WT103_1 as default.\n",
    "\n",
    "learn = language_model_learner(data_lm, \n",
    "                               arch=AWD_LSTM,\n",
    "                               drop_mult=0.3\n",
    "                               # pretrained_model=URLs.WT103_BWD, \n",
    "                               )"
   ]
  },
  {
   "cell_type": "markdown",
   "metadata": {
    "ExecuteTime": {
     "end_time": "2019-08-10T17:05:38.478259Z",
     "start_time": "2019-08-10T17:05:38.473456Z"
    }
   },
   "source": [
    "\n",
    "#### Print the structure of the language model RNN\n",
    "We can examine the architecture of the 3-layer LSTM used in ULMFit as shown below. For the language model fine-tuning, we define the embeddings based on the the target task vocabulary size. A single linear output layer is defined that updates the weights once we pass the input through the network."
   ]
  },
  {
   "cell_type": "code",
   "execution_count": 18,
   "metadata": {
    "ExecuteTime": {
     "end_time": "2019-08-13T16:09:19.254073Z",
     "start_time": "2019-08-13T16:09:19.226708Z"
    }
   },
   "outputs": [
    {
     "data": {
      "text/plain": [
       "[AWD_LSTM(\n",
       "   (encoder): Embedding(8016, 400, padding_idx=1)\n",
       "   (encoder_dp): EmbeddingDropout(\n",
       "     (emb): Embedding(8016, 400, padding_idx=1)\n",
       "   )\n",
       "   (rnns): ModuleList(\n",
       "     (0): WeightDropout(\n",
       "       (module): LSTM(400, 1152, batch_first=True)\n",
       "     )\n",
       "     (1): WeightDropout(\n",
       "       (module): LSTM(1152, 1152, batch_first=True)\n",
       "     )\n",
       "     (2): WeightDropout(\n",
       "       (module): LSTM(1152, 400, batch_first=True)\n",
       "     )\n",
       "   )\n",
       "   (input_dp): RNNDropout()\n",
       "   (hidden_dps): ModuleList(\n",
       "     (0): RNNDropout()\n",
       "     (1): RNNDropout()\n",
       "     (2): RNNDropout()\n",
       "   )\n",
       " ), LinearDecoder(\n",
       "   (decoder): Linear(in_features=400, out_features=8016, bias=True)\n",
       "   (output_dp): RNNDropout()\n",
       " )]"
      ]
     },
     "execution_count": 18,
     "metadata": {},
     "output_type": "execute_result"
    }
   ],
   "source": [
    "list(learn.model.children())"
   ]
  },
  {
   "cell_type": "markdown",
   "metadata": {},
   "source": [
    "#### Find the optimum learning rate\n",
    "fastai.train <a href=\"https://github.com/fastai/fastai/blob/050080be574cb1260462bbd03e9600e43e7a54b1/fastai/train.py#L23\">[source]</a> provides a convenient utility to search through a range of learning rates to find the optimum one for our dataset.\n",
    "\n",
    "The idea is that our optimization function needs to use a learning rate that is an order of magnitude below the point at which the loss starts to diverge. We can quickly find this as shown below."
   ]
  },
  {
   "cell_type": "code",
   "execution_count": 19,
   "metadata": {
    "ExecuteTime": {
     "end_time": "2019-08-13T16:30:47.424430Z",
     "start_time": "2019-08-13T16:11:11.645455Z"
    }
   },
   "outputs": [
    {
     "data": {
      "text/html": [],
      "text/plain": [
       "<IPython.core.display.HTML object>"
      ]
     },
     "metadata": {},
     "output_type": "display_data"
    },
    {
     "name": "stdout",
     "output_type": "stream",
     "text": [
      "LR Finder is complete, type {learner_name}.recorder.plot() to see the graph.\n"
     ]
    },
    {
     "data": {
      "image/png": "[encoded data removed]",
      "text/plain": [
       "<matplotlib.figure.Figure at 0x7f28f9c97240>"
      ]
     },
     "metadata": {
      "needs_background": "light"
     },
     "output_type": "display_data"
    }
   ],
   "source": [
    "learn.lr_find(start_lr=1e-8, end_lr=1e2)\n",
    "learn.recorder.plot()"
   ]
  },
  {
   "cell_type": "markdown",
   "metadata": {},
   "source": [
    "#### Run the language_model_learner class\n",
    "The pre-trained language model quickly downloads from the fastai's AWS link, so there is no need to download it separately. [drop_mult] is the multiplier applied to the dropout in the language learner. As per the ULMFit paper, we use a custom dropout for each language model layer, and the drop_multjust scales a numpy array of these dropouts which remain in the same relative ratio to one another. These numbers have been obtained through empirical tuning for a range of language tasks, and we took note of this during our extensive reading on this task."
   ]
  },
  {
   "cell_type": "code",
   "execution_count": 19,
   "metadata": {
    "ExecuteTime": {
     "end_time": "2019-08-28T15:12:24.643426Z",
     "start_time": "2019-08-28T15:11:21.224181Z"
    }
   },
   "outputs": [
    {
     "data": {
      "text/html": [
       "<table border=\"1\" class=\"dataframe\">\n",
       "  <thead>\n",
       "    <tr style=\"text-align: left;\">\n",
       "      <th>epoch</th>\n",
       "      <th>train_loss</th>\n",
       "      <th>valid_loss</th>\n",
       "      <th>accuracy</th>\n",
       "      <th>time</th>\n",
       "    </tr>\n",
       "  </thead>\n",
       "  <tbody>\n",
       "    <tr>\n",
       "      <td>0</td>\n",
       "      <td>6.542301</td>\n",
       "      <td>5.558326</td>\n",
       "      <td>0.180022</td>\n",
       "      <td>01:02</td>\n",
       "    </tr>\n",
       "  </tbody>\n",
       "</table>"
      ],
      "text/plain": [
       "<IPython.core.display.HTML object>"
      ]
     },
     "metadata": {},
     "output_type": "display_data"
    }
   ],
   "source": [
    "learn = language_model_learner(data_lm, \n",
    "                               arch=AWD_LSTM,\n",
    "                               drop_mult=0.5)\n",
    "learn.fit_one_cycle(cyc_len=1, max_lr=1e-3, moms=(0.8, 0.7))  # https://docs.fast.ai/basic_train.html#fit_one_cycle\n",
    "# moms代表跟著lr走的momentum大小"
   ]
  },
  {
   "cell_type": "code",
   "execution_count": 31,
   "metadata": {
    "ExecuteTime": {
     "end_time": "2019-08-28T15:14:39.237289Z",
     "start_time": "2019-08-28T15:14:39.046361Z"
    }
   },
   "outputs": [
    {
     "data": {
      "text/plain": [
       "'No! 1 video video game for EM = = The Power ! game was released for the'"
      ]
     },
     "execution_count": 31,
     "metadata": {},
     "output_type": "execute_result"
    }
   ],
   "source": [
    "learn.predict(text=\"No!\", n_words=20)"
   ]
  },
  {
   "cell_type": "markdown",
   "metadata": {},
   "source": [
    "#### Unfreeze the entire model\n",
    "To train the __language model during fine-tuning, we unfreeze all the layers and then perform training for a reasonable time until we obtain a low enough validation loss.__ For a larger target vocabulary, these hyperparameters might need to be modified, and teh training time would be significantly longer, but for this SemEval task, we have a very small additional vocabulary to fine-tune the language model on, so it is really quick."
   ]
  },
  {
   "cell_type": "code",
   "execution_count": 17,
   "metadata": {
    "ExecuteTime": {
     "end_time": "2019-08-11T05:10:11.909118Z",
     "start_time": "2019-08-11T04:12:42.624310Z"
    }
   },
   "outputs": [
    {
     "data": {
      "text/html": [
       "<table border=\"1\" class=\"dataframe\">\n",
       "  <thead>\n",
       "    <tr style=\"text-align: left;\">\n",
       "      <th>epoch</th>\n",
       "      <th>train_loss</th>\n",
       "      <th>valid_loss</th>\n",
       "      <th>accuracy</th>\n",
       "      <th>time</th>\n",
       "    </tr>\n",
       "  </thead>\n",
       "  <tbody>\n",
       "    <tr>\n",
       "      <td>0</td>\n",
       "      <td>5.961316</td>\n",
       "      <td>4.809685</td>\n",
       "      <td>0.231752</td>\n",
       "      <td>02:54</td>\n",
       "    </tr>\n",
       "    <tr>\n",
       "      <td>1</td>\n",
       "      <td>5.596771</td>\n",
       "      <td>4.623609</td>\n",
       "      <td>0.241127</td>\n",
       "      <td>02:54</td>\n",
       "    </tr>\n",
       "    <tr>\n",
       "      <td>2</td>\n",
       "      <td>5.337839</td>\n",
       "      <td>4.555476</td>\n",
       "      <td>0.257143</td>\n",
       "      <td>02:54</td>\n",
       "    </tr>\n",
       "    <tr>\n",
       "      <td>3</td>\n",
       "      <td>5.137047</td>\n",
       "      <td>4.550494</td>\n",
       "      <td>0.265011</td>\n",
       "      <td>02:53</td>\n",
       "    </tr>\n",
       "    <tr>\n",
       "      <td>4</td>\n",
       "      <td>4.942834</td>\n",
       "      <td>4.487796</td>\n",
       "      <td>0.278069</td>\n",
       "      <td>02:52</td>\n",
       "    </tr>\n",
       "    <tr>\n",
       "      <td>5</td>\n",
       "      <td>4.721265</td>\n",
       "      <td>4.320859</td>\n",
       "      <td>0.301674</td>\n",
       "      <td>02:52</td>\n",
       "    </tr>\n",
       "    <tr>\n",
       "      <td>6</td>\n",
       "      <td>4.479461</td>\n",
       "      <td>4.278288</td>\n",
       "      <td>0.309096</td>\n",
       "      <td>02:53</td>\n",
       "    </tr>\n",
       "    <tr>\n",
       "      <td>7</td>\n",
       "      <td>4.236767</td>\n",
       "      <td>4.297715</td>\n",
       "      <td>0.309989</td>\n",
       "      <td>02:51</td>\n",
       "    </tr>\n",
       "    <tr>\n",
       "      <td>8</td>\n",
       "      <td>4.004508</td>\n",
       "      <td>4.325467</td>\n",
       "      <td>0.311496</td>\n",
       "      <td>02:52</td>\n",
       "    </tr>\n",
       "    <tr>\n",
       "      <td>9</td>\n",
       "      <td>3.760086</td>\n",
       "      <td>4.426889</td>\n",
       "      <td>0.313337</td>\n",
       "      <td>02:53</td>\n",
       "    </tr>\n",
       "    <tr>\n",
       "      <td>10</td>\n",
       "      <td>3.568001</td>\n",
       "      <td>4.431482</td>\n",
       "      <td>0.307310</td>\n",
       "      <td>02:52</td>\n",
       "    </tr>\n",
       "    <tr>\n",
       "      <td>11</td>\n",
       "      <td>3.351360</td>\n",
       "      <td>4.537889</td>\n",
       "      <td>0.310603</td>\n",
       "      <td>02:53</td>\n",
       "    </tr>\n",
       "    <tr>\n",
       "      <td>12</td>\n",
       "      <td>3.133353</td>\n",
       "      <td>4.563179</td>\n",
       "      <td>0.309542</td>\n",
       "      <td>02:52</td>\n",
       "    </tr>\n",
       "    <tr>\n",
       "      <td>13</td>\n",
       "      <td>2.932082</td>\n",
       "      <td>4.634488</td>\n",
       "      <td>0.310491</td>\n",
       "      <td>02:51</td>\n",
       "    </tr>\n",
       "    <tr>\n",
       "      <td>14</td>\n",
       "      <td>2.757280</td>\n",
       "      <td>4.646766</td>\n",
       "      <td>0.306920</td>\n",
       "      <td>02:52</td>\n",
       "    </tr>\n",
       "    <tr>\n",
       "      <td>15</td>\n",
       "      <td>2.605685</td>\n",
       "      <td>4.714605</td>\n",
       "      <td>0.307422</td>\n",
       "      <td>02:51</td>\n",
       "    </tr>\n",
       "    <tr>\n",
       "      <td>16</td>\n",
       "      <td>2.474065</td>\n",
       "      <td>4.725869</td>\n",
       "      <td>0.308761</td>\n",
       "      <td>02:50</td>\n",
       "    </tr>\n",
       "    <tr>\n",
       "      <td>17</td>\n",
       "      <td>2.363200</td>\n",
       "      <td>4.742513</td>\n",
       "      <td>0.307924</td>\n",
       "      <td>02:50</td>\n",
       "    </tr>\n",
       "    <tr>\n",
       "      <td>18</td>\n",
       "      <td>2.284636</td>\n",
       "      <td>4.735971</td>\n",
       "      <td>0.306864</td>\n",
       "      <td>02:51</td>\n",
       "    </tr>\n",
       "    <tr>\n",
       "      <td>19</td>\n",
       "      <td>2.217601</td>\n",
       "      <td>4.742401</td>\n",
       "      <td>0.307422</td>\n",
       "      <td>02:49</td>\n",
       "    </tr>\n",
       "  </tbody>\n",
       "</table>"
      ],
      "text/plain": [
       "<IPython.core.display.HTML object>"
      ]
     },
     "metadata": {},
     "output_type": "display_data"
    }
   ],
   "source": [
    "learn.unfreeze()  # Sets every layer group to trainable (i.e. requires_grad=True).\n",
    "learn.fit_one_cycle(cyc_len=20, max_lr=1e-3, moms=(0.8, 0.7))"
   ]
  },
  {
   "cell_type": "code",
   "execution_count": 18,
   "metadata": {
    "ExecuteTime": {
     "end_time": "2019-08-11T05:10:12.311803Z",
     "start_time": "2019-08-11T05:10:12.140544Z"
    }
   },
   "outputs": [],
   "source": [
    "# Save the fine-tuned encoder\n",
    "learn.save_encoder('ft_enc')"
   ]
  },
  {
   "cell_type": "markdown",
   "metadata": {},
   "source": [
    "#### Train the Classifier: SemEval Tweets only\n",
    "For classification, the <a href=\"https://www.aclweb.org/anthology/S16-1074\">winning paper for the SemEval 2016 task (team MITRE)</a> describe in section $5$ of their paper that they achieved their highest average F1 score when they trained 5 distinct classifiers, i.e. a separate training task for each of the 5 topics in the training data.\n",
    "\n",
    "Hence, in this notebook we only perform classification for one topic at a time. Evaluation of the predicted classes is also done on a per-topic basis."
   ]
  },
  {
   "cell_type": "markdown",
   "metadata": {},
   "source": [
    "#### Identify the 5 topics in our training data"
   ]
  },
  {
   "cell_type": "code",
   "execution_count": 19,
   "metadata": {
    "ExecuteTime": {
     "end_time": "2019-08-11T06:24:15.655031Z",
     "start_time": "2019-08-11T06:24:15.646408Z"
    }
   },
   "outputs": [
    {
     "name": "stdout",
     "output_type": "stream",
     "text": [
      "Atheism\n",
      "Climate Change is a Real Concern\n",
      "Feminist Movement\n",
      "Hillary Clinton\n",
      "Legalization of Abortion\n"
     ]
    }
   ],
   "source": [
    "for item in train_orig.Target.unique():\n",
    "    print(item)"
   ]
  },
  {
   "cell_type": "markdown",
   "metadata": {},
   "source": [
    "#### Specify the topic we want to classify for\n",
    "We specify the topic name exactly as the training data does, and use it to subset the Pandas DataFrame."
   ]
  },
  {
   "cell_type": "code",
   "execution_count": 24,
   "metadata": {
    "ExecuteTime": {
     "end_time": "2019-08-11T06:26:29.088034Z",
     "start_time": "2019-08-11T06:26:29.077587Z"
    }
   },
   "outputs": [],
   "source": [
    "topic = \"Feminist Movement\"\n",
    "\n",
    "# Get only those tweets that pertain to a single topic in the training data\n",
    "# train沒有Target和ID\n",
    "train_topic = train.loc[train_orig['Target'] == topic]\n",
    "\n",
    "# Write train to csv\n",
    "train_topic.to_csv(path/'train_topic.csv', index=False, header=False)"
   ]
  },
  {
   "cell_type": "markdown",
   "metadata": {},
   "source": [
    "#### Create classification dataloader\n",
    "For classification, the TextClasDataBunch [source] dataloader used is slightly different. Just like the language model custom data loader described in the previous section, it does a lot under the hood. The classification data loader tokenizes the training data, but batchifies the data differently from the language model data loader - for classification, we perform sorting so as to group all large sentences together, and smaller sentences together - and pad them to have all batches of roughly the same length, followed by randomizing these batches so that we don't introduce additional bias during training.\n",
    "\n",
    "Just like before, we define the learner object used for classification. Note that we feed in the entire vocabulary of the training data to the classifier. We once more specify a minimum word frequency of 1 (i.e. words that appear just once in the data are given the tag '<'unk'>'."
   ]
  },
  {
   "cell_type": "code",
   "execution_count": 44,
   "metadata": {
    "ExecuteTime": {
     "end_time": "2019-08-28T15:25:16.133300Z",
     "start_time": "2019-08-28T15:25:15.279124Z"
    },
    "scrolled": false
   },
   "outputs": [
    {
     "name": "stdout",
     "output_type": "stream",
     "text": [
      "tensor([[246,  13, 530,  ...,   5, 372,  11],\n",
      "        [ 28,  65,  47,  ...,  28, 206, 207],\n",
      "        [ 11,   9,  10,  ...,  30,   9, 384],\n",
      "        ...,\n",
      "        [102, 172, 132,  ...,  29,   5, 445],\n",
      "        [  9,  41,   9,  ...,   0,  27,   5],\n",
      "        [  0,   9,  10,  ...,   2,   5,  12]])\n",
      "<fastai.text.transform.Vocab object at 0x7f571813af98>\n",
      "having a career # semst xxbos xxunk xxunk xxunk xxunk xxunk i have to stop xxunk now cause xxunk wants his xxunk making . # semst xxbos xxmaj it xxunk me how people are so xxunk - minded when it xxunk to feminism . xxup xxunk xxup men xxup is xxup not . # semst xxbos xxmaj today we watch the xxmaj united xxmaj states xxmaj xxunk xxmaj court .\n"
     ]
    }
   ],
   "source": [
    "# path = untar_data(URLs.IMDB_SAMPLE)\n",
    "data = TextLMDataBunch.from_csv(path, 'train_topic.csv')\n",
    "x, y = next(iter(data.train_dl))  # dataloader\n",
    "example = x[:15,:].cpu()\n",
    "print(example)\n",
    "print(data.train_ds.vocab)\n",
    "print(data.train_ds.vocab.textify(example[0]))\n",
    "# texts = pd.DataFrame([data.train_ds.vocab.textify(l).split(' ') for l in example])\n",
    "# texts"
   ]
  },
  {
   "cell_type": "code",
   "execution_count": 45,
   "metadata": {
    "ExecuteTime": {
     "end_time": "2019-08-28T15:42:54.565608Z",
     "start_time": "2019-08-28T15:42:54.558111Z"
    }
   },
   "outputs": [
    {
     "data": {
      "text/plain": [
       "\"xxbos xxunk my will be rt ' in female . xxmaj my of so xxunk\""
      ]
     },
     "execution_count": 45,
     "metadata": {},
     "output_type": "execute_result"
    }
   ],
   "source": [
    "data.train_ds.vocab.textify([2, 0,  45, 121,  34,  79,  85,  29, 115,  11,   5,  45,  18,  53, 0])"
   ]
  },
  {
   "cell_type": "code",
   "execution_count": 39,
   "metadata": {
    "ExecuteTime": {
     "end_time": "2019-08-11T07:09:08.402379Z",
     "start_time": "2019-08-11T07:09:06.861493Z"
    }
   },
   "outputs": [],
   "source": [
    "# Classifier model data\n",
    "data_clas = TextClasDataBunch.from_csv(path=path, \n",
    "                                       csv_name='train_topic.csv', \n",
    "                                       vocab=data_lm.train_ds.vocab,\n",
    "                                       min_freq=1, \n",
    "                                       bs=32)\n",
    "# You can pass a tokenizer to be used to parse the texts into tokens and/or a specific vocab for the numericalization step \n",
    "# (if you are building a classifier from a language model you fine-tuned for instance).\n",
    "\n",
    "data_clas.save()"
   ]
  },
  {
   "cell_type": "code",
   "execution_count": 41,
   "metadata": {
    "ExecuteTime": {
     "end_time": "2019-08-11T07:12:08.558105Z",
     "start_time": "2019-08-11T07:12:07.981211Z"
    }
   },
   "outputs": [],
   "source": [
    "# https://docs.fast.ai/text.learner.html#text_classifier_learner\n",
    "learn = text_classifier_learner(data=data_clas, \n",
    "                                arch=AWD_LSTM,\n",
    "                                drop_mult=0.5)\n",
    "learn.load_encoder('ft_enc')\n",
    "learn.freeze()"
   ]
  },
  {
   "cell_type": "markdown",
   "metadata": {},
   "source": [
    "Note that we begin the training with all the outer layers as frozen. The fine-tuned language model is read in, and we use a dropout multiplier as shown above.\n",
    "\n",
    "For training the classifier, we apply __\"gradual unfreezing\"__, to __avoid \"catastrophic forgetting\"__ as explained in section $3.3$ of Howard and Ruder's paper. In addition to gradual unfreezing,"
   ]
  },
  {
   "cell_type": "markdown",
   "metadata": {},
   "source": [
    "#### Just as before, find optimum learning rate for the classifier¶"
   ]
  },
  {
   "cell_type": "code",
   "execution_count": 42,
   "metadata": {
    "ExecuteTime": {
     "end_time": "2019-08-11T07:14:41.366039Z",
     "start_time": "2019-08-11T07:13:35.585337Z"
    }
   },
   "outputs": [
    {
     "data": {
      "text/html": [],
      "text/plain": [
       "<IPython.core.display.HTML object>"
      ]
     },
     "metadata": {},
     "output_type": "display_data"
    },
    {
     "name": "stdout",
     "output_type": "stream",
     "text": [
      "LR Finder is complete, type {learner_name}.recorder.plot() to see the graph.\n"
     ]
    },
    {
     "data": {
      "image/png": "[encoded data removed]",
      "text/plain": [
       "<matplotlib.figure.Figure at 0x7f45d094fb38>"
      ]
     },
     "metadata": {
      "needs_background": "light"
     },
     "output_type": "display_data"
    }
   ],
   "source": [
    "learn.lr_find(start_lr=1e-8, end_lr=1e2)\n",
    "learn.recorder.plot()"
   ]
  },
  {
   "cell_type": "markdown",
   "metadata": {},
   "source": [
    "##### Carefully train the classifier\n",
    "During classification, we gradually unfreeze layers as shown below. This helps us obtain a better classification accuracy than if we were to aggressively train all the layers at once.\n",
    "```python\n",
    "def freeze_to(self, n:int)->None:\n",
    "    for g in self.layer_groups[:n]: freeze \n",
    "    for g in self.layer_groups[n:]: unfreeze```"
   ]
  },
  {
   "cell_type": "code",
   "execution_count": 43,
   "metadata": {
    "ExecuteTime": {
     "end_time": "2019-08-11T07:15:00.631822Z",
     "start_time": "2019-08-11T07:14:46.040193Z"
    }
   },
   "outputs": [
    {
     "data": {
      "text/html": [
       "<table border=\"1\" class=\"dataframe\">\n",
       "  <thead>\n",
       "    <tr style=\"text-align: left;\">\n",
       "      <th>epoch</th>\n",
       "      <th>train_loss</th>\n",
       "      <th>valid_loss</th>\n",
       "      <th>accuracy</th>\n",
       "      <th>time</th>\n",
       "    </tr>\n",
       "  </thead>\n",
       "  <tbody>\n",
       "    <tr>\n",
       "      <td>0</td>\n",
       "      <td>1.132007</td>\n",
       "      <td>1.082699</td>\n",
       "      <td>0.368421</td>\n",
       "      <td>00:14</td>\n",
       "    </tr>\n",
       "  </tbody>\n",
       "</table>"
      ],
      "text/plain": [
       "<IPython.core.display.HTML object>"
      ]
     },
     "metadata": {},
     "output_type": "display_data"
    }
   ],
   "source": [
    "learn.fit_one_cycle(cyc_len=1, max_lr=1e-3, moms=(0.8, 0.7))"
   ]
  },
  {
   "cell_type": "code",
   "execution_count": 44,
   "metadata": {
    "ExecuteTime": {
     "end_time": "2019-08-11T07:16:59.787256Z",
     "start_time": "2019-08-11T07:16:48.237742Z"
    }
   },
   "outputs": [
    {
     "data": {
      "text/html": [
       "<table border=\"1\" class=\"dataframe\">\n",
       "  <thead>\n",
       "    <tr style=\"text-align: left;\">\n",
       "      <th>epoch</th>\n",
       "      <th>train_loss</th>\n",
       "      <th>valid_loss</th>\n",
       "      <th>accuracy</th>\n",
       "      <th>time</th>\n",
       "    </tr>\n",
       "  </thead>\n",
       "  <tbody>\n",
       "    <tr>\n",
       "      <td>0</td>\n",
       "      <td>1.069412</td>\n",
       "      <td>0.860376</td>\n",
       "      <td>0.586466</td>\n",
       "      <td>00:11</td>\n",
       "    </tr>\n",
       "  </tbody>\n",
       "</table>"
      ],
      "text/plain": [
       "<IPython.core.display.HTML object>"
      ]
     },
     "metadata": {},
     "output_type": "display_data"
    }
   ],
   "source": [
    "learn.freeze_to(-2)\n",
    "learn.fit_one_cycle(cyc_len=1, slice(1e-4,1e-2), moms=(0.8,0.7))"
   ]
  },
  {
   "cell_type": "code",
   "execution_count": 45,
   "metadata": {
    "ExecuteTime": {
     "end_time": "2019-08-11T07:19:59.805693Z",
     "start_time": "2019-08-11T07:19:36.025340Z"
    }
   },
   "outputs": [
    {
     "data": {
      "text/html": [
       "<table border=\"1\" class=\"dataframe\">\n",
       "  <thead>\n",
       "    <tr style=\"text-align: left;\">\n",
       "      <th>epoch</th>\n",
       "      <th>train_loss</th>\n",
       "      <th>valid_loss</th>\n",
       "      <th>accuracy</th>\n",
       "      <th>time</th>\n",
       "    </tr>\n",
       "  </thead>\n",
       "  <tbody>\n",
       "    <tr>\n",
       "      <td>0</td>\n",
       "      <td>0.897396</td>\n",
       "      <td>0.888597</td>\n",
       "      <td>0.556391</td>\n",
       "      <td>00:23</td>\n",
       "    </tr>\n",
       "  </tbody>\n",
       "</table>"
      ],
      "text/plain": [
       "<IPython.core.display.HTML object>"
      ]
     },
     "metadata": {},
     "output_type": "display_data"
    }
   ],
   "source": [
    "learn.freeze_to(-3)\n",
    "learn.fit_one_cycle(cyc_len=1, slice(1e-5,5e-3), moms=(0.8,0.7))"
   ]
  },
  {
   "cell_type": "code",
   "execution_count": 46,
   "metadata": {
    "ExecuteTime": {
     "end_time": "2019-08-11T07:22:20.844244Z",
     "start_time": "2019-08-11T07:20:03.314182Z"
    }
   },
   "outputs": [
    {
     "data": {
      "text/html": [
       "<table border=\"1\" class=\"dataframe\">\n",
       "  <thead>\n",
       "    <tr style=\"text-align: left;\">\n",
       "      <th>epoch</th>\n",
       "      <th>train_loss</th>\n",
       "      <th>valid_loss</th>\n",
       "      <th>accuracy</th>\n",
       "      <th>time</th>\n",
       "    </tr>\n",
       "  </thead>\n",
       "  <tbody>\n",
       "    <tr>\n",
       "      <td>0</td>\n",
       "      <td>0.784233</td>\n",
       "      <td>0.875500</td>\n",
       "      <td>0.571429</td>\n",
       "      <td>00:33</td>\n",
       "    </tr>\n",
       "    <tr>\n",
       "      <td>1</td>\n",
       "      <td>0.767753</td>\n",
       "      <td>0.862938</td>\n",
       "      <td>0.586466</td>\n",
       "      <td>00:34</td>\n",
       "    </tr>\n",
       "    <tr>\n",
       "      <td>2</td>\n",
       "      <td>0.729770</td>\n",
       "      <td>0.858495</td>\n",
       "      <td>0.593985</td>\n",
       "      <td>00:34</td>\n",
       "    </tr>\n",
       "    <tr>\n",
       "      <td>3</td>\n",
       "      <td>0.699578</td>\n",
       "      <td>0.861168</td>\n",
       "      <td>0.601504</td>\n",
       "      <td>00:34</td>\n",
       "    </tr>\n",
       "  </tbody>\n",
       "</table>"
      ],
      "text/plain": [
       "<IPython.core.display.HTML object>"
      ]
     },
     "metadata": {},
     "output_type": "display_data"
    }
   ],
   "source": [
    "# Unfreeze entire model\n",
    "learn.unfreeze()\n",
    "learn.fit_one_cycle(cyc_len=4, slice(1e-5,1e-3), moms=(0.8,0.7))"
   ]
  },
  {
   "cell_type": "markdown",
   "metadata": {
    "ExecuteTime": {
     "end_time": "2019-08-11T07:23:38.417705Z",
     "start_time": "2019-08-11T07:23:38.414188Z"
    }
   },
   "source": [
    "#### Cross-tabulate the predictions for each class\n",
    "The below table shows the predicted classes for the topic in concern. The actual evaluation of the F1 score of the classification result is done at a later step."
   ]
  },
  {
   "cell_type": "code",
   "execution_count": 53,
   "metadata": {
    "ExecuteTime": {
     "end_time": "2019-08-11T07:26:54.869836Z",
     "start_time": "2019-08-11T07:26:53.189906Z"
    }
   },
   "outputs": [
    {
     "data": {
      "text/html": [
       "<div>\n",
       "<style scoped>\n",
       "    .dataframe tbody tr th:only-of-type {\n",
       "        vertical-align: middle;\n",
       "    }\n",
       "\n",
       "    .dataframe tbody tr th {\n",
       "        vertical-align: top;\n",
       "    }\n",
       "\n",
       "    .dataframe thead th {\n",
       "        text-align: right;\n",
       "    }\n",
       "</style>\n",
       "<table border=\"1\" class=\"dataframe\">\n",
       "  <thead>\n",
       "    <tr style=\"text-align: right;\">\n",
       "      <th>col_0</th>\n",
       "      <th>0</th>\n",
       "      <th>1</th>\n",
       "      <th>2</th>\n",
       "    </tr>\n",
       "    <tr>\n",
       "      <th>row_0</th>\n",
       "      <th></th>\n",
       "      <th></th>\n",
       "      <th></th>\n",
       "    </tr>\n",
       "  </thead>\n",
       "  <tbody>\n",
       "    <tr>\n",
       "      <th>0</th>\n",
       "      <td>52</td>\n",
       "      <td>15</td>\n",
       "      <td>9</td>\n",
       "    </tr>\n",
       "    <tr>\n",
       "      <th>1</th>\n",
       "      <td>12</td>\n",
       "      <td>19</td>\n",
       "      <td>6</td>\n",
       "    </tr>\n",
       "    <tr>\n",
       "      <th>2</th>\n",
       "      <td>7</td>\n",
       "      <td>4</td>\n",
       "      <td>9</td>\n",
       "    </tr>\n",
       "  </tbody>\n",
       "</table>\n",
       "</div>"
      ],
      "text/plain": [
       "col_0   0   1  2\n",
       "row_0           \n",
       "0      52  15  9\n",
       "1      12  19  6\n",
       "2       7   4  9"
      ]
     },
     "execution_count": 53,
     "metadata": {},
     "output_type": "execute_result"
    }
   ],
   "source": [
    "# get predictions\n",
    "preds, targets = learn.get_preds()\n",
    "predictions = np.argmax(preds, axis=1)\n",
    "pd.crosstab(predictions, targets)"
   ]
  },
  {
   "cell_type": "markdown",
   "metadata": {
    "ExecuteTime": {
     "end_time": "2019-08-11T07:24:37.400232Z",
     "start_time": "2019-08-11T07:24:37.385872Z"
    }
   },
   "source": [
    "#### Evaluate the predicted results from the classifier (SemEval tweets only)"
   ]
  },
  {
   "cell_type": "code",
   "execution_count": null,
   "metadata": {},
   "outputs": [],
   "source": [
    "test = pd.read_csv(path/testfile, delimiter='\\t', header=0, encoding = \"latin-1\")\n",
    "test = test.drop(['ID'], axis=1)\n",
    "# test['Tweet'] = test['Tweet'].apply(clean_ascii)\n",
    "test.head()"
   ]
  },
  {
   "cell_type": "markdown",
   "metadata": {},
   "source": [
    "#### Filter the test data set based on topic we are classifying for"
   ]
  },
  {
   "cell_type": "code",
   "execution_count": null,
   "metadata": {},
   "outputs": [],
   "source": [
    "test_pred = test[['Target', 'Tweet']]\n",
    "test_pred = test_pred.loc[test_pred['Target'] == topic]\n",
    "test_pred.tail()"
   ]
  },
  {
   "cell_type": "markdown",
   "metadata": {},
   "source": [
    "#### Apply the learner's predict method to produce our prediction"
   ]
  },
  {
   "cell_type": "code",
   "execution_count": 21,
   "metadata": {
    "ExecuteTime": {
     "end_time": "2019-08-13T16:33:43.131186Z",
     "start_time": "2019-08-13T16:33:42.834145Z"
    }
   },
   "outputs": [
    {
     "ename": "NameError",
     "evalue": "name 'test_pred' is not defined",
     "output_type": "error",
     "traceback": [
      "\u001b[0;31m---------------------------------------------------------------------------\u001b[0m",
      "\u001b[0;31mNameError\u001b[0m                                 Traceback (most recent call last)",
      "\u001b[0;32m<ipython-input-21-97a2ce6c18f2>\u001b[0m in \u001b[0;36m<module>\u001b[0;34m\u001b[0m\n\u001b[0;32m----> 1\u001b[0;31m \u001b[0mtest_pred\u001b[0m\u001b[0;34m[\u001b[0m\u001b[0;34m'Stance'\u001b[0m\u001b[0;34m]\u001b[0m \u001b[0;34m=\u001b[0m \u001b[0mtest_pred\u001b[0m\u001b[0;34m[\u001b[0m\u001b[0;34m'Tweet'\u001b[0m\u001b[0;34m]\u001b[0m\u001b[0;34m.\u001b[0m\u001b[0mapply\u001b[0m\u001b[0;34m(\u001b[0m\u001b[0;32mlambda\u001b[0m \u001b[0mrow\u001b[0m\u001b[0;34m:\u001b[0m \u001b[0mstr\u001b[0m\u001b[0;34m(\u001b[0m\u001b[0mlearn\u001b[0m\u001b[0;34m.\u001b[0m\u001b[0mpredict\u001b[0m\u001b[0;34m(\u001b[0m\u001b[0mrow\u001b[0m\u001b[0;34m)\u001b[0m\u001b[0;34m[\u001b[0m\u001b[0;36m0\u001b[0m\u001b[0;34m]\u001b[0m\u001b[0;34m)\u001b[0m\u001b[0;34m)\u001b[0m\u001b[0;34m\u001b[0m\u001b[0m\n\u001b[0m\u001b[1;32m      2\u001b[0m \u001b[0mtest_pred\u001b[0m\u001b[0;34m.\u001b[0m\u001b[0mtail\u001b[0m\u001b[0;34m(\u001b[0m\u001b[0;34m)\u001b[0m\u001b[0;34m\u001b[0m\u001b[0m\n",
      "\u001b[0;31mNameError\u001b[0m: name 'test_pred' is not defined"
     ]
    }
   ],
   "source": [
    "test_pred['Stance'] = test_pred['Tweet'].apply(lambda row: str(learn.predict(row)[0]))\n",
    "test_pred.tail()"
   ]
  },
  {
   "cell_type": "markdown",
   "metadata": {},
   "source": [
    "#### Output the predicted dataset to a text file for comparison with the gold reference"
   ]
  },
  {
   "cell_type": "code",
   "execution_count": null,
   "metadata": {},
   "outputs": [],
   "source": [
    "test_pred.to_csv(path/'eval'/'predicted.txt', sep='\\t', index=True,\n",
    "                 header=['Target', 'Tweet', 'Stance'], index_label='ID')"
   ]
  },
  {
   "cell_type": "code",
   "execution_count": null,
   "metadata": {},
   "outputs": [],
   "source": []
  }
 ],
 "metadata": {
  "kernelspec": {
   "display_name": "Python 3",
   "language": "python",
   "name": "python3"
  },
  "language_info": {
   "codemirror_mode": {
    "name": "ipython",
    "version": 3
   },
   "file_extension": ".py",
   "mimetype": "text/x-python",
   "name": "python",
   "nbconvert_exporter": "python",
   "pygments_lexer": "ipython3",
   "version": "3.6.6"
  },
  "toc": {
   "base_numbering": 1,
   "nav_menu": {},
   "number_sections": true,
   "sideBar": true,
   "skip_h1_title": false,
   "title_cell": "Table of Contents",
   "title_sidebar": "Contents",
   "toc_cell": false,
   "toc_position": {
    "height": "calc(100% - 180px)",
    "left": "10px",
    "top": "150px",
    "width": "305px"
   },
   "toc_section_display": true,
   "toc_window_display": true
  },
  "varInspector": {
   "cols": {
    "lenName": 16,
    "lenType": 16,
    "lenVar": 40
   },
   "kernels_config": {
    "python": {
     "delete_cmd_postfix": "",
     "delete_cmd_prefix": "del ",
     "library": "var_list.py",
     "varRefreshCmd": "print(var_dic_list())"
    },
    "r": {
     "delete_cmd_postfix": ") ",
     "delete_cmd_prefix": "rm(",
     "library": "var_list.r",
     "varRefreshCmd": "cat(var_dic_list()) "
    }
   },
   "types_to_exclude": [
    "module",
    "function",
    "builtin_function_or_method",
    "instance",
    "_Feature"
   ],
   "window_display": false
  }
 },
 "nbformat": 4,
 "nbformat_minor": 2
}
