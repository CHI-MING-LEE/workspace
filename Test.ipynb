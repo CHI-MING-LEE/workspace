{
 "cells": [
  {
   "cell_type": "markdown",
   "metadata": {},
   "source": [
    "### Import"
   ]
  },
  {
   "cell_type": "code",
   "execution_count": 2,
   "metadata": {
    "ExecuteTime": {
     "end_time": "2019-01-23T16:54:01.907828Z",
     "start_time": "2019-01-23T16:54:01.904104Z"
    }
   },
   "outputs": [],
   "source": [
    "import numpy as np\n",
    "import os"
   ]
  },
  {
   "cell_type": "markdown",
   "metadata": {},
   "source": [
    "### Walk"
   ]
  },
  {
   "cell_type": "markdown",
   "metadata": {},
   "source": [
    "#### Implement"
   ]
  },
  {
   "cell_type": "code",
   "execution_count": 3,
   "metadata": {
    "ExecuteTime": {
     "end_time": "2019-01-23T16:54:03.575043Z",
     "start_time": "2019-01-23T16:54:03.556131Z"
    },
    "code_folding": [
     6
    ],
    "hide_input": false,
    "scrolled": true
   },
   "outputs": [
    {
     "name": "stdout",
     "output_type": "stream",
     "text": [
      ".\n",
      "./Environment.ipynb\n",
      "./Test.ipynb\n",
      "./README.md\n",
      "./.gitignore\n",
      "./.ipynb_checkpoints\n",
      "./.ipynb_checkpoints/Environment-checkpoint.ipynb\n",
      "./.ipynb_checkpoints/Test-checkpoint.ipynb\n",
      "./.git\n",
      "./.git/description\n",
      "./.git/HEAD\n",
      "./.git/config\n",
      "./.git/index\n",
      "./.git/COMMIT_EDITMSG\n",
      "./.git/refs\n",
      "./.git/refs/heads\n",
      "./.git/refs/heads/master\n",
      "./.git/refs/tags\n",
      "./.git/refs/remotes\n",
      "./.git/refs/remotes/origin\n",
      "./.git/refs/remotes/origin/master\n",
      "./.git/branches\n",
      "./.git/hooks\n",
      "./.git/hooks/applypatch-msg.sample\n",
      "./.git/hooks/commit-msg.sample\n",
      "./.git/hooks/post-update.sample\n",
      "./.git/hooks/pre-applypatch.sample\n",
      "./.git/hooks/pre-commit.sample\n",
      "./.git/hooks/pre-push.sample\n",
      "./.git/hooks/pre-rebase.sample\n",
      "./.git/hooks/prepare-commit-msg.sample\n",
      "./.git/hooks/update.sample\n",
      "./.git/info\n",
      "./.git/info/exclude\n",
      "./.git/objects\n",
      "./.git/objects/pack\n",
      "./.git/objects/info\n",
      "./.git/objects/8a\n",
      "./.git/objects/8a/e056963b8b4664c9059e30bc8b834151e03950\n",
      "./.git/objects/52\n",
      "./.git/objects/52/e4871b519205ccac838d1dd7b8f9cadacff2b8\n",
      "./.git/objects/76\n",
      "./.git/objects/76/3513e910f7036a1a3cdb21dce8e57da2451891\n",
      "./.git/objects/7c\n",
      "./.git/objects/7c/2fb97cbeffedd08fdf3923fc6fd5d7c4dcf496\n",
      "./.git/objects/f4\n",
      "./.git/objects/f4/c95235bae08d4439622a8cec3b62397ad539e6\n",
      "./.git/logs\n",
      "./.git/logs/HEAD\n",
      "./.git/logs/refs\n",
      "./.git/logs/refs/heads\n",
      "./.git/logs/refs/heads/master\n",
      "./.git/logs/refs/remotes\n",
      "./.git/logs/refs/remotes/origin\n",
      "./.git/logs/refs/remotes/origin/master\n"
     ]
    }
   ],
   "source": [
    "for path, dirs, files in os.walk(\".\"):\n",
    "    print(path)\n",
    "    for file in files:\n",
    "        print(os.path.join(path, file))\n",
    "\n",
    "def test():\n",
    "    print(123)"
   ]
  },
  {
   "cell_type": "code",
   "execution_count": 4,
   "metadata": {
    "ExecuteTime": {
     "end_time": "2019-03-10T15:50:44.950149Z",
     "start_time": "2019-03-10T15:50:44.934176Z"
    }
   },
   "outputs": [],
   "source": [
    "import numpy as np\n",
    "from keras.models import Model, load_model, Sequential\n",
    "from keras.layers import *\n",
    "from keras import backend as K\n",
    "from keras.optimizers import Adam\n",
    "import os\n",
    "from pathlib import Path\n",
    "import cv2\n",
    "import matplotlib.pyplot as plt"
   ]
  },
  {
   "cell_type": "code",
   "execution_count": 16,
   "metadata": {
    "ExecuteTime": {
     "end_time": "2019-03-10T16:28:19.516165Z",
     "start_time": "2019-03-10T16:28:19.011368Z"
    }
   },
   "outputs": [
    {
     "name": "stdout",
     "output_type": "stream",
     "text": [
      "_________________________________________________________________\n",
      "Layer (type)                 Output Shape              Param #   \n",
      "=================================================================\n",
      "dense_21 (Dense)             (None, 2)                 4         \n",
      "_________________________________________________________________\n",
      "dense_22 (Dense)             (None, 2)                 6         \n",
      "=================================================================\n",
      "Total params: 10\n",
      "Trainable params: 10\n",
      "Non-trainable params: 0\n",
      "_________________________________________________________________\n",
      "[array([[ 1., -1.]], dtype=float32), array([0., 0.], dtype=float32)]\n",
      "[array([[-0.03125215,  0.72131395],\n",
      "       [-0.5836193 ,  0.30078363]], dtype=float32), array([0., 0.], dtype=float32)]\n"
     ]
    }
   ],
   "source": [
    "model = Sequential()\n",
    "model.add(Dense(2, input_shape=(1, )))\n",
    "model.add(Dense(2))\n",
    "model.summary()\n",
    "\n",
    "for l in model.layers:\n",
    "    weights = l.get_weights()\n",
    "    weights = [np.clip(w, -1, 1) for w in weights]\n",
    "    l.set_weights(weights)\n",
    "    print(weights)\n"
   ]
  },
  {
   "cell_type": "markdown",
   "metadata": {},
   "source": [
    "# numexpr"
   ]
  },
  {
   "cell_type": "code",
   "execution_count": 5,
   "metadata": {
    "ExecuteTime": {
     "end_time": "2019-04-01T16:35:38.135610Z",
     "start_time": "2019-04-01T16:35:38.130567Z"
    }
   },
   "outputs": [
    {
     "data": {
      "text/plain": [
       "array(False)"
      ]
     },
     "execution_count": 5,
     "metadata": {},
     "output_type": "execute_result"
    }
   ],
   "source": [
    "import numexpr as ne\n",
    "ne.evaluate(\"1 > 2\")"
   ]
  },
  {
   "cell_type": "code",
   "execution_count": null,
   "metadata": {},
   "outputs": [],
   "source": [
    "import pandas as pd "
   ]
  }
 ],
 "metadata": {
  "kernelspec": {
   "display_name": "Python 3",
   "language": "python",
   "name": "python3"
  },
  "language_info": {
   "codemirror_mode": {
    "name": "ipython",
    "version": 3
   },
   "file_extension": ".py",
   "mimetype": "text/x-python",
   "name": "python",
   "nbconvert_exporter": "python",
   "pygments_lexer": "ipython3",
   "version": "3.6.6"
  },
  "toc": {
   "base_numbering": 1,
   "nav_menu": {},
   "number_sections": true,
   "sideBar": true,
   "skip_h1_title": false,
   "title_cell": "Table of Contents",
   "title_sidebar": "Contents",
   "toc_cell": false,
   "toc_position": {},
   "toc_section_display": true,
   "toc_window_display": true
  },
  "varInspector": {
   "cols": {
    "lenName": 16,
    "lenType": 16,
    "lenVar": 40
   },
   "kernels_config": {
    "python": {
     "delete_cmd_postfix": "",
     "delete_cmd_prefix": "del ",
     "library": "var_list.py",
     "varRefreshCmd": "print(var_dic_list())"
    },
    "r": {
     "delete_cmd_postfix": ") ",
     "delete_cmd_prefix": "rm(",
     "library": "var_list.r",
     "varRefreshCmd": "cat(var_dic_list()) "
    }
   },
   "position": {
    "height": "286px",
    "left": "1166px",
    "right": "20px",
    "top": "106px",
    "width": "350px"
   },
   "types_to_exclude": [
    "module",
    "function",
    "builtin_function_or_method",
    "instance",
    "_Feature"
   ],
   "window_display": true
  }
 },
 "nbformat": 4,
 "nbformat_minor": 2
}
