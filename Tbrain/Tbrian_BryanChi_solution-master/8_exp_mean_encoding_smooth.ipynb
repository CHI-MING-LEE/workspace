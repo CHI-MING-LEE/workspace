{
 "cells": [
  {
   "cell_type": "code",
   "execution_count": 1,
   "metadata": {
    "collapsed": true
   },
   "outputs": [],
   "source": [
    "import numpy as np\n",
    "import pandas as pd\n",
    "import matplotlib.pyplot as plt\n",
    "import gc\n",
    "\n",
    "%matplotlib inline"
   ]
  },
  {
   "cell_type": "code",
   "execution_count": 2,
   "metadata": {},
   "outputs": [
    {
     "data": {
      "text/html": [
       "<div>\n",
       "<table border=\"1\" class=\"dataframe\">\n",
       "  <thead>\n",
       "    <tr style=\"text-align: right;\">\n",
       "      <th></th>\n",
       "      <th>file_id</th>\n",
       "      <th>customer_id</th>\n",
       "    </tr>\n",
       "  </thead>\n",
       "  <tbody>\n",
       "    <tr>\n",
       "      <th>0</th>\n",
       "      <td>00008c73ee43c15b16c26b26398c1577</td>\n",
       "      <td>033e91e730e176cd2ac81dc48a8f5088</td>\n",
       "    </tr>\n",
       "    <tr>\n",
       "      <th>1</th>\n",
       "      <td>00008c73ee43c15b16c26b26398c1577</td>\n",
       "      <td>06bea9f9c1d72c4d3151efa6bcd5ba83</td>\n",
       "    </tr>\n",
       "    <tr>\n",
       "      <th>2</th>\n",
       "      <td>00008c73ee43c15b16c26b26398c1577</td>\n",
       "      <td>113597f904c023f44d1a01babb780f58</td>\n",
       "    </tr>\n",
       "  </tbody>\n",
       "</table>\n",
       "</div>"
      ],
      "text/plain": [
       "                            file_id                       customer_id\n",
       "0  00008c73ee43c15b16c26b26398c1577  033e91e730e176cd2ac81dc48a8f5088\n",
       "1  00008c73ee43c15b16c26b26398c1577  06bea9f9c1d72c4d3151efa6bcd5ba83\n",
       "2  00008c73ee43c15b16c26b26398c1577  113597f904c023f44d1a01babb780f58"
      ]
     },
     "execution_count": 2,
     "metadata": {},
     "output_type": "execute_result"
    }
   ],
   "source": [
    "# create long representation for file and cust\n",
    "#march = pd.read_hdf('./march.h5', 'df')\n",
    "#march = march.groupby(['file_id','customer_id']).count().reset_index()[['file_id','customer_id','timestamp']]\n",
    "\n",
    "#april = pd.read_hdf('./april.h5', 'df')\n",
    "#april = april.groupby(['file_id','customer_id']).count().reset_index()[['file_id','customer_id','timestamp']]\n",
    "\n",
    "#may = pd.read_hdf('./may.h5', 'df')\n",
    "#may = may.groupby(['file_id','customer_id']).count().reset_index()[['file_id','customer_id','timestamp']]\n",
    "\n",
    "#data = pd.concat([march,april,may],axis=0)\n",
    "\n",
    "#data = data.groupby(['file_id','customer_id']).count().reset_index()[['file_id','customer_id']]\n",
    "#data.head(3)"
   ]
  },
  {
   "cell_type": "code",
   "execution_count": 3,
   "metadata": {},
   "outputs": [
    {
     "data": {
      "text/html": [
       "<div>\n",
       "<table border=\"1\" class=\"dataframe\">\n",
       "  <thead>\n",
       "    <tr style=\"text-align: right;\">\n",
       "      <th></th>\n",
       "      <th>file_id</th>\n",
       "      <th>customer_id</th>\n",
       "    </tr>\n",
       "  </thead>\n",
       "  <tbody>\n",
       "    <tr>\n",
       "      <th>0</th>\n",
       "      <td>00008c73ee43c15b16c26b26398c1577</td>\n",
       "      <td>033e91e730e176cd2ac81dc48a8f5088</td>\n",
       "    </tr>\n",
       "    <tr>\n",
       "      <th>1</th>\n",
       "      <td>00008c73ee43c15b16c26b26398c1577</td>\n",
       "      <td>06bea9f9c1d72c4d3151efa6bcd5ba83</td>\n",
       "    </tr>\n",
       "    <tr>\n",
       "      <th>2</th>\n",
       "      <td>00008c73ee43c15b16c26b26398c1577</td>\n",
       "      <td>113597f904c023f44d1a01babb780f58</td>\n",
       "    </tr>\n",
       "  </tbody>\n",
       "</table>\n",
       "</div>"
      ],
      "text/plain": [
       "                            file_id                       customer_id\n",
       "0  00008c73ee43c15b16c26b26398c1577  033e91e730e176cd2ac81dc48a8f5088\n",
       "1  00008c73ee43c15b16c26b26398c1577  06bea9f9c1d72c4d3151efa6bcd5ba83\n",
       "2  00008c73ee43c15b16c26b26398c1577  113597f904c023f44d1a01babb780f58"
      ]
     },
     "execution_count": 3,
     "metadata": {},
     "output_type": "execute_result"
    }
   ],
   "source": [
    "data.to_hdf('file_cust_longrep.h5','df')\n",
    "data = pd.read_hdf('file_cust_longrep.h5', 'df')\n",
    "data.head(3)"
   ]
  },
  {
   "cell_type": "code",
   "execution_count": 4,
   "metadata": {},
   "outputs": [
    {
     "data": {
      "text/html": [
       "<div>\n",
       "<table border=\"1\" class=\"dataframe\">\n",
       "  <thead>\n",
       "    <tr style=\"text-align: right;\">\n",
       "      <th></th>\n",
       "      <th>file_id</th>\n",
       "      <th>customer_id</th>\n",
       "      <th>first_day</th>\n",
       "      <th>target</th>\n",
       "    </tr>\n",
       "  </thead>\n",
       "  <tbody>\n",
       "    <tr>\n",
       "      <th>0</th>\n",
       "      <td>00008c73ee43c15b16c26b26398c1577</td>\n",
       "      <td>033e91e730e176cd2ac81dc48a8f5088</td>\n",
       "      <td>76</td>\n",
       "      <td>NaN</td>\n",
       "    </tr>\n",
       "    <tr>\n",
       "      <th>1</th>\n",
       "      <td>00008c73ee43c15b16c26b26398c1577</td>\n",
       "      <td>06bea9f9c1d72c4d3151efa6bcd5ba83</td>\n",
       "      <td>76</td>\n",
       "      <td>NaN</td>\n",
       "    </tr>\n",
       "    <tr>\n",
       "      <th>2</th>\n",
       "      <td>00008c73ee43c15b16c26b26398c1577</td>\n",
       "      <td>113597f904c023f44d1a01babb780f58</td>\n",
       "      <td>76</td>\n",
       "      <td>NaN</td>\n",
       "    </tr>\n",
       "  </tbody>\n",
       "</table>\n",
       "</div>"
      ],
      "text/plain": [
       "                            file_id                       customer_id  \\\n",
       "0  00008c73ee43c15b16c26b26398c1577  033e91e730e176cd2ac81dc48a8f5088   \n",
       "1  00008c73ee43c15b16c26b26398c1577  06bea9f9c1d72c4d3151efa6bcd5ba83   \n",
       "2  00008c73ee43c15b16c26b26398c1577  113597f904c023f44d1a01babb780f58   \n",
       "\n",
       "   first_day  target  \n",
       "0         76     NaN  \n",
       "1         76     NaN  \n",
       "2         76     NaN  "
      ]
     },
     "execution_count": 4,
     "metadata": {},
     "output_type": "execute_result"
    }
   ],
   "source": [
    "file_df = pd.read_csv('file_df.csv')\n",
    "file_df = file_df[['file_id','first_day']]\n",
    "\n",
    "data = pd.merge(data,file_df,on='file_id',how='left')\n",
    "\n",
    "train = pd.read_csv('training-set.csv',header=None)\n",
    "test = pd.read_csv('testing-set.csv',header=None)\n",
    "train.columns = ['file_id','target']\n",
    "test.columns = ['file_id','target']\n",
    "\n",
    "### full mean code\n",
    "#fullmeancode = pd.read_csv('final/forfullmeancode.csv')\n",
    "#train = pd.concat([train,fullmeancode],axis=0)\n",
    "### full mean code\n",
    "\n",
    "data = pd.merge(data,train,how='left',on='file_id')\n",
    "data.head(3)"
   ]
  },
  {
   "cell_type": "code",
   "execution_count": 5,
   "metadata": {},
   "outputs": [
    {
     "data": {
      "text/html": [
       "<div>\n",
       "<table border=\"1\" class=\"dataframe\">\n",
       "  <thead>\n",
       "    <tr style=\"text-align: right;\">\n",
       "      <th></th>\n",
       "      <th>file_id</th>\n",
       "      <th>customer_id</th>\n",
       "      <th>first_day</th>\n",
       "      <th>target</th>\n",
       "    </tr>\n",
       "  </thead>\n",
       "  <tbody>\n",
       "    <tr>\n",
       "      <th>0</th>\n",
       "      <td>0087304d5bee451f0d82c7407b0fa7d1</td>\n",
       "      <td>282396145a3df4452761bacf8049f6db</td>\n",
       "      <td>1</td>\n",
       "      <td>0.0</td>\n",
       "    </tr>\n",
       "    <tr>\n",
       "      <th>1</th>\n",
       "      <td>0087304d5bee451f0d82c7407b0fa7d1</td>\n",
       "      <td>501782bb051c5368f641f5299e550f32</td>\n",
       "      <td>1</td>\n",
       "      <td>0.0</td>\n",
       "    </tr>\n",
       "    <tr>\n",
       "      <th>2</th>\n",
       "      <td>0087304d5bee451f0d82c7407b0fa7d1</td>\n",
       "      <td>54a57555a85251b45a9de37ba95a4cf3</td>\n",
       "      <td>1</td>\n",
       "      <td>0.0</td>\n",
       "    </tr>\n",
       "  </tbody>\n",
       "</table>\n",
       "</div>"
      ],
      "text/plain": [
       "                            file_id                       customer_id  \\\n",
       "0  0087304d5bee451f0d82c7407b0fa7d1  282396145a3df4452761bacf8049f6db   \n",
       "1  0087304d5bee451f0d82c7407b0fa7d1  501782bb051c5368f641f5299e550f32   \n",
       "2  0087304d5bee451f0d82c7407b0fa7d1  54a57555a85251b45a9de37ba95a4cf3   \n",
       "\n",
       "   first_day  target  \n",
       "0          1     0.0  \n",
       "1          1     0.0  \n",
       "2          1     0.0  "
      ]
     },
     "execution_count": 5,
     "metadata": {},
     "output_type": "execute_result"
    }
   ],
   "source": [
    "data = data.sort_values(by=['first_day','file_id']).reset_index(drop=True)\n",
    "data.head(3)"
   ]
  },
  {
   "cell_type": "code",
   "execution_count": 6,
   "metadata": {},
   "outputs": [
    {
     "data": {
      "text/html": [
       "<div>\n",
       "<table border=\"1\" class=\"dataframe\">\n",
       "  <thead>\n",
       "    <tr style=\"text-align: right;\">\n",
       "      <th></th>\n",
       "      <th>file_id</th>\n",
       "      <th>customer_id</th>\n",
       "      <th>target</th>\n",
       "    </tr>\n",
       "  </thead>\n",
       "  <tbody>\n",
       "    <tr>\n",
       "      <th>0</th>\n",
       "      <td>0087304d5bee451f0d82c7407b0fa7d1</td>\n",
       "      <td>282396145a3df4452761bacf8049f6db</td>\n",
       "      <td>0.0</td>\n",
       "    </tr>\n",
       "    <tr>\n",
       "      <th>1</th>\n",
       "      <td>0087304d5bee451f0d82c7407b0fa7d1</td>\n",
       "      <td>501782bb051c5368f641f5299e550f32</td>\n",
       "      <td>0.0</td>\n",
       "    </tr>\n",
       "    <tr>\n",
       "      <th>2</th>\n",
       "      <td>0087304d5bee451f0d82c7407b0fa7d1</td>\n",
       "      <td>54a57555a85251b45a9de37ba95a4cf3</td>\n",
       "      <td>0.0</td>\n",
       "    </tr>\n",
       "  </tbody>\n",
       "</table>\n",
       "</div>"
      ],
      "text/plain": [
       "                            file_id                       customer_id  target\n",
       "0  0087304d5bee451f0d82c7407b0fa7d1  282396145a3df4452761bacf8049f6db     0.0\n",
       "1  0087304d5bee451f0d82c7407b0fa7d1  501782bb051c5368f641f5299e550f32     0.0\n",
       "2  0087304d5bee451f0d82c7407b0fa7d1  54a57555a85251b45a9de37ba95a4cf3     0.0"
      ]
     },
     "execution_count": 6,
     "metadata": {},
     "output_type": "execute_result"
    }
   ],
   "source": [
    "tr_data = data[data['first_day']<50] # 62 for predict, 50 for val\n",
    "tr_data = tr_data[['file_id','customer_id','target']]\n",
    "tr_data.head(3)"
   ]
  },
  {
   "cell_type": "code",
   "execution_count": 7,
   "metadata": {
    "collapsed": true
   },
   "outputs": [],
   "source": [
    "cumsum = tr_data.groupby('customer_id').cumsum().target - tr_data['target']\n",
    "cumcnt = tr_data.groupby('customer_id').cumcount()\n",
    "tr_data['mean_score'] = cumsum / cumcnt"
   ]
  },
  {
   "cell_type": "code",
   "execution_count": 8,
   "metadata": {},
   "outputs": [
    {
     "data": {
      "text/plain": [
       "0.005896548369626853"
      ]
     },
     "execution_count": 8,
     "metadata": {},
     "output_type": "execute_result"
    }
   ],
   "source": [
    "tr_data['mean_score'].mean()"
   ]
  },
  {
   "cell_type": "code",
   "execution_count": 9,
   "metadata": {},
   "outputs": [],
   "source": [
    "alpha = 20\n",
    "gbmean = 0.006764493003441334\n",
    "\n",
    "tr_data['mean_score'] = ((tr_data['mean_score']*cumcnt)+(gbmean*alpha))/(cumcnt+alpha)"
   ]
  },
  {
   "cell_type": "code",
   "execution_count": 10,
   "metadata": {},
   "outputs": [
    {
     "data": {
      "text/html": [
       "<div>\n",
       "<table border=\"1\" class=\"dataframe\">\n",
       "  <thead>\n",
       "    <tr style=\"text-align: right;\">\n",
       "      <th></th>\n",
       "      <th>customer_id</th>\n",
       "      <th>mean_score</th>\n",
       "    </tr>\n",
       "  </thead>\n",
       "  <tbody>\n",
       "    <tr>\n",
       "      <th>0</th>\n",
       "      <td>00000145d9062eada528bace5fb4864e</td>\n",
       "      <td>NaN</td>\n",
       "    </tr>\n",
       "    <tr>\n",
       "      <th>1</th>\n",
       "      <td>000003d77bee692d83b7b83fdba60d3d</td>\n",
       "      <td>0.003146</td>\n",
       "    </tr>\n",
       "    <tr>\n",
       "      <th>2</th>\n",
       "      <td>00000aea7887eaf96dbd022025e426fd</td>\n",
       "      <td>NaN</td>\n",
       "    </tr>\n",
       "  </tbody>\n",
       "</table>\n",
       "</div>"
      ],
      "text/plain": [
       "                        customer_id  mean_score\n",
       "0  00000145d9062eada528bace5fb4864e         NaN\n",
       "1  000003d77bee692d83b7b83fdba60d3d    0.003146\n",
       "2  00000aea7887eaf96dbd022025e426fd         NaN"
      ]
     },
     "execution_count": 10,
     "metadata": {},
     "output_type": "execute_result"
    }
   ],
   "source": [
    "customer_score = tr_data.groupby('customer_id').last().reset_index()[['customer_id','mean_score']]\n",
    "customer_score.head(3)"
   ]
  },
  {
   "cell_type": "code",
   "execution_count": 11,
   "metadata": {},
   "outputs": [
    {
     "data": {
      "text/html": [
       "<div>\n",
       "<table border=\"1\" class=\"dataframe\">\n",
       "  <thead>\n",
       "    <tr style=\"text-align: right;\">\n",
       "      <th></th>\n",
       "      <th>customer_id</th>\n",
       "      <th>mean_score</th>\n",
       "    </tr>\n",
       "  </thead>\n",
       "  <tbody>\n",
       "    <tr>\n",
       "      <th>0</th>\n",
       "      <td>0000006fa286976bf35ea17f1f19bc7a</td>\n",
       "      <td>NaN</td>\n",
       "    </tr>\n",
       "    <tr>\n",
       "      <th>1</th>\n",
       "      <td>00000145d9062eada528bace5fb4864e</td>\n",
       "      <td>NaN</td>\n",
       "    </tr>\n",
       "    <tr>\n",
       "      <th>2</th>\n",
       "      <td>000003d77bee692d83b7b83fdba60d3d</td>\n",
       "      <td>0.003146</td>\n",
       "    </tr>\n",
       "  </tbody>\n",
       "</table>\n",
       "</div>"
      ],
      "text/plain": [
       "                        customer_id  mean_score\n",
       "0  0000006fa286976bf35ea17f1f19bc7a         NaN\n",
       "1  00000145d9062eada528bace5fb4864e         NaN\n",
       "2  000003d77bee692d83b7b83fdba60d3d    0.003146"
      ]
     },
     "execution_count": 11,
     "metadata": {},
     "output_type": "execute_result"
    }
   ],
   "source": [
    "customer_df = pd.read_csv('customer_df.csv')\n",
    "customer_df = pd.merge(customer_df,customer_score,how='left',on='customer_id')\n",
    "customer_df = customer_df[['customer_id','mean_score']]\n",
    "customer_df.head(3)"
   ]
  },
  {
   "cell_type": "code",
   "execution_count": 12,
   "metadata": {},
   "outputs": [
    {
     "data": {
      "text/plain": [
       "(2529080, 2)"
      ]
     },
     "execution_count": 12,
     "metadata": {},
     "output_type": "execute_result"
    }
   ],
   "source": [
    "#customer_df.loc[pd.isnull(customer_df).mean_score,'mean_score']=0.012656403967587571\n",
    "customer_df = customer_df[customer_df['mean_score']>-1]\n",
    "customer_df.shape"
   ]
  },
  {
   "cell_type": "code",
   "execution_count": 13,
   "metadata": {},
   "outputs": [
    {
     "data": {
      "text/html": [
       "<div>\n",
       "<table border=\"1\" class=\"dataframe\">\n",
       "  <thead>\n",
       "    <tr style=\"text-align: right;\">\n",
       "      <th></th>\n",
       "      <th>file_id</th>\n",
       "      <th>customer_id</th>\n",
       "      <th>first_day</th>\n",
       "      <th>target</th>\n",
       "    </tr>\n",
       "  </thead>\n",
       "  <tbody>\n",
       "    <tr>\n",
       "      <th>35808811</th>\n",
       "      <td>0021c7f072ad0e8068ab8c611700bfe1</td>\n",
       "      <td>00546d10281534af9f1bcbb14dca53d6</td>\n",
       "      <td>50</td>\n",
       "      <td>0.0</td>\n",
       "    </tr>\n",
       "    <tr>\n",
       "      <th>35808812</th>\n",
       "      <td>0021c7f072ad0e8068ab8c611700bfe1</td>\n",
       "      <td>04a890cd36f3cface3faeea2fc06967b</td>\n",
       "      <td>50</td>\n",
       "      <td>0.0</td>\n",
       "    </tr>\n",
       "    <tr>\n",
       "      <th>35808813</th>\n",
       "      <td>0021c7f072ad0e8068ab8c611700bfe1</td>\n",
       "      <td>052c7bc0c271b8f1accb80ca2bda46db</td>\n",
       "      <td>50</td>\n",
       "      <td>0.0</td>\n",
       "    </tr>\n",
       "  </tbody>\n",
       "</table>\n",
       "</div>"
      ],
      "text/plain": [
       "                                   file_id                       customer_id  \\\n",
       "35808811  0021c7f072ad0e8068ab8c611700bfe1  00546d10281534af9f1bcbb14dca53d6   \n",
       "35808812  0021c7f072ad0e8068ab8c611700bfe1  04a890cd36f3cface3faeea2fc06967b   \n",
       "35808813  0021c7f072ad0e8068ab8c611700bfe1  052c7bc0c271b8f1accb80ca2bda46db   \n",
       "\n",
       "          first_day  target  \n",
       "35808811         50     0.0  \n",
       "35808812         50     0.0  \n",
       "35808813         50     0.0  "
      ]
     },
     "execution_count": 13,
     "metadata": {},
     "output_type": "execute_result"
    }
   ],
   "source": [
    "te_data = data[data['first_day']>49]\n",
    "te_data.head(3)"
   ]
  },
  {
   "cell_type": "code",
   "execution_count": 14,
   "metadata": {},
   "outputs": [
    {
     "data": {
      "text/html": [
       "<div>\n",
       "<table border=\"1\" class=\"dataframe\">\n",
       "  <thead>\n",
       "    <tr style=\"text-align: right;\">\n",
       "      <th></th>\n",
       "      <th>file_id</th>\n",
       "      <th>customer_id</th>\n",
       "      <th>mean_score</th>\n",
       "    </tr>\n",
       "  </thead>\n",
       "  <tbody>\n",
       "    <tr>\n",
       "      <th>0</th>\n",
       "      <td>0021c7f072ad0e8068ab8c611700bfe1</td>\n",
       "      <td>00546d10281534af9f1bcbb14dca53d6</td>\n",
       "      <td>NaN</td>\n",
       "    </tr>\n",
       "    <tr>\n",
       "      <th>1</th>\n",
       "      <td>0021c7f072ad0e8068ab8c611700bfe1</td>\n",
       "      <td>04a890cd36f3cface3faeea2fc06967b</td>\n",
       "      <td>0.004665</td>\n",
       "    </tr>\n",
       "    <tr>\n",
       "      <th>2</th>\n",
       "      <td>0021c7f072ad0e8068ab8c611700bfe1</td>\n",
       "      <td>052c7bc0c271b8f1accb80ca2bda46db</td>\n",
       "      <td>0.005203</td>\n",
       "    </tr>\n",
       "  </tbody>\n",
       "</table>\n",
       "</div>"
      ],
      "text/plain": [
       "                            file_id                       customer_id  \\\n",
       "0  0021c7f072ad0e8068ab8c611700bfe1  00546d10281534af9f1bcbb14dca53d6   \n",
       "1  0021c7f072ad0e8068ab8c611700bfe1  04a890cd36f3cface3faeea2fc06967b   \n",
       "2  0021c7f072ad0e8068ab8c611700bfe1  052c7bc0c271b8f1accb80ca2bda46db   \n",
       "\n",
       "   mean_score  \n",
       "0         NaN  \n",
       "1    0.004665  \n",
       "2    0.005203  "
      ]
     },
     "execution_count": 14,
     "metadata": {},
     "output_type": "execute_result"
    }
   ],
   "source": [
    "te_data = te_data.sort_values(by=['first_day','file_id']).reset_index(drop=True)\n",
    "te_data = te_data[['file_id','customer_id']]\n",
    "te_data = pd.merge(te_data,customer_df,how='left',on='customer_id')\n",
    "te_data.head(3)"
   ]
  },
  {
   "cell_type": "code",
   "execution_count": 15,
   "metadata": {},
   "outputs": [
    {
     "data": {
      "text/html": [
       "<div>\n",
       "<table border=\"1\" class=\"dataframe\">\n",
       "  <thead>\n",
       "    <tr style=\"text-align: right;\">\n",
       "      <th></th>\n",
       "      <th>customer_id</th>\n",
       "      <th>file_id</th>\n",
       "      <th>mean_score</th>\n",
       "      <th>target</th>\n",
       "    </tr>\n",
       "  </thead>\n",
       "  <tbody>\n",
       "    <tr>\n",
       "      <th>0</th>\n",
       "      <td>282396145a3df4452761bacf8049f6db</td>\n",
       "      <td>0087304d5bee451f0d82c7407b0fa7d1</td>\n",
       "      <td>NaN</td>\n",
       "      <td>0.0</td>\n",
       "    </tr>\n",
       "    <tr>\n",
       "      <th>1</th>\n",
       "      <td>501782bb051c5368f641f5299e550f32</td>\n",
       "      <td>0087304d5bee451f0d82c7407b0fa7d1</td>\n",
       "      <td>NaN</td>\n",
       "      <td>0.0</td>\n",
       "    </tr>\n",
       "    <tr>\n",
       "      <th>2</th>\n",
       "      <td>54a57555a85251b45a9de37ba95a4cf3</td>\n",
       "      <td>0087304d5bee451f0d82c7407b0fa7d1</td>\n",
       "      <td>NaN</td>\n",
       "      <td>0.0</td>\n",
       "    </tr>\n",
       "  </tbody>\n",
       "</table>\n",
       "</div>"
      ],
      "text/plain": [
       "                        customer_id                           file_id  \\\n",
       "0  282396145a3df4452761bacf8049f6db  0087304d5bee451f0d82c7407b0fa7d1   \n",
       "1  501782bb051c5368f641f5299e550f32  0087304d5bee451f0d82c7407b0fa7d1   \n",
       "2  54a57555a85251b45a9de37ba95a4cf3  0087304d5bee451f0d82c7407b0fa7d1   \n",
       "\n",
       "   mean_score  target  \n",
       "0         NaN     0.0  \n",
       "1         NaN     0.0  \n",
       "2         NaN     0.0  "
      ]
     },
     "execution_count": 15,
     "metadata": {},
     "output_type": "execute_result"
    }
   ],
   "source": [
    "data = pd.concat([tr_data,te_data],ignore_index=True)\n",
    "data.head(3)"
   ]
  },
  {
   "cell_type": "code",
   "execution_count": 16,
   "metadata": {},
   "outputs": [
    {
     "data": {
      "text/html": [
       "<div>\n",
       "<table border=\"1\" class=\"dataframe\">\n",
       "  <thead>\n",
       "    <tr style=\"text-align: right;\">\n",
       "      <th></th>\n",
       "      <th>customer_id</th>\n",
       "      <th>file_id</th>\n",
       "      <th>mean_score</th>\n",
       "      <th>target</th>\n",
       "    </tr>\n",
       "  </thead>\n",
       "  <tbody>\n",
       "    <tr>\n",
       "      <th>455</th>\n",
       "      <td>282396145a3df4452761bacf8049f6db</td>\n",
       "      <td>00a0fadf6f4b4d244459b3bc8f6ee7fa</td>\n",
       "      <td>0.006442</td>\n",
       "      <td>0.0</td>\n",
       "    </tr>\n",
       "    <tr>\n",
       "      <th>467</th>\n",
       "      <td>282396145a3df4452761bacf8049f6db</td>\n",
       "      <td>00a885e87beb6fb1f6ca6ee9eb783779</td>\n",
       "      <td>0.006150</td>\n",
       "      <td>0.0</td>\n",
       "    </tr>\n",
       "    <tr>\n",
       "      <th>528</th>\n",
       "      <td>282396145a3df4452761bacf8049f6db</td>\n",
       "      <td>00a92b584bfcf58b70d5e965e91da03c</td>\n",
       "      <td>0.005882</td>\n",
       "      <td>0.0</td>\n",
       "    </tr>\n",
       "  </tbody>\n",
       "</table>\n",
       "</div>"
      ],
      "text/plain": [
       "                          customer_id                           file_id  \\\n",
       "455  282396145a3df4452761bacf8049f6db  00a0fadf6f4b4d244459b3bc8f6ee7fa   \n",
       "467  282396145a3df4452761bacf8049f6db  00a885e87beb6fb1f6ca6ee9eb783779   \n",
       "528  282396145a3df4452761bacf8049f6db  00a92b584bfcf58b70d5e965e91da03c   \n",
       "\n",
       "     mean_score  target  \n",
       "455    0.006442     0.0  \n",
       "467    0.006150     0.0  \n",
       "528    0.005882     0.0  "
      ]
     },
     "execution_count": 16,
     "metadata": {},
     "output_type": "execute_result"
    }
   ],
   "source": [
    "#data.loc[pd.isnull(data).mean_score,'mean_score']=0.012656403967587571\n",
    "data = data[data['mean_score']>-1]\n",
    "data.head(3)"
   ]
  },
  {
   "cell_type": "code",
   "execution_count": 17,
   "metadata": {},
   "outputs": [
    {
     "data": {
      "text/html": [
       "<div>\n",
       "<table border=\"1\" class=\"dataframe\">\n",
       "  <thead>\n",
       "    <tr style=\"text-align: right;\">\n",
       "      <th></th>\n",
       "      <th>file_id</th>\n",
       "      <th>mean_score</th>\n",
       "    </tr>\n",
       "  </thead>\n",
       "  <tbody>\n",
       "    <tr>\n",
       "      <th>0</th>\n",
       "      <td>00008c73ee43c15b16c26b26398c1577</td>\n",
       "      <td>0.010983</td>\n",
       "    </tr>\n",
       "    <tr>\n",
       "      <th>1</th>\n",
       "      <td>0000e2398b12121a85166fed5fe2a3da</td>\n",
       "      <td>0.006150</td>\n",
       "    </tr>\n",
       "    <tr>\n",
       "      <th>2</th>\n",
       "      <td>0001fe8dce14ce099aa6ca8ea5026ea7</td>\n",
       "      <td>0.005141</td>\n",
       "    </tr>\n",
       "  </tbody>\n",
       "</table>\n",
       "</div>"
      ],
      "text/plain": [
       "                            file_id  mean_score\n",
       "0  00008c73ee43c15b16c26b26398c1577    0.010983\n",
       "1  0000e2398b12121a85166fed5fe2a3da    0.006150\n",
       "2  0001fe8dce14ce099aa6ca8ea5026ea7    0.005141"
      ]
     },
     "execution_count": 17,
     "metadata": {},
     "output_type": "execute_result"
    }
   ],
   "source": [
    "data = data[['file_id','mean_score']]\n",
    "exp_menc_cust = data.groupby('file_id').mean().reset_index()\n",
    "exp_menc_cust.head(3)"
   ]
  },
  {
   "cell_type": "code",
   "execution_count": 18,
   "metadata": {},
   "outputs": [
    {
     "data": {
      "text/html": [
       "<div>\n",
       "<table border=\"1\" class=\"dataframe\">\n",
       "  <thead>\n",
       "    <tr style=\"text-align: right;\">\n",
       "      <th></th>\n",
       "      <th>file_id</th>\n",
       "      <th>mean_score</th>\n",
       "    </tr>\n",
       "  </thead>\n",
       "  <tbody>\n",
       "    <tr>\n",
       "      <th>0</th>\n",
       "      <td>0000e2398b12121a85166fed5fe2a3da</td>\n",
       "      <td>0.006150</td>\n",
       "    </tr>\n",
       "    <tr>\n",
       "      <th>1</th>\n",
       "      <td>0001fe8dce14ce099aa6ca8ea5026ea7</td>\n",
       "      <td>0.005141</td>\n",
       "    </tr>\n",
       "    <tr>\n",
       "      <th>2</th>\n",
       "      <td>00027f50019000accc492e5684efc818</td>\n",
       "      <td>0.019314</td>\n",
       "    </tr>\n",
       "  </tbody>\n",
       "</table>\n",
       "</div>"
      ],
      "text/plain": [
       "                            file_id  mean_score\n",
       "0  0000e2398b12121a85166fed5fe2a3da    0.006150\n",
       "1  0001fe8dce14ce099aa6ca8ea5026ea7    0.005141\n",
       "2  00027f50019000accc492e5684efc818    0.019314"
      ]
     },
     "execution_count": 18,
     "metadata": {},
     "output_type": "execute_result"
    }
   ],
   "source": [
    "train = pd.read_csv('training-set.csv',header=None)\n",
    "test = pd.read_csv('testing-set.csv',header=None)\n",
    "train.columns = ['file_id','target']\n",
    "test.columns = ['file_id','target']\n",
    "trte = pd.concat([train,test],axis=0)\n",
    "trte = pd.merge(trte,exp_menc_cust,how='left',on='file_id')\n",
    "trte = trte[['file_id','mean_score']]\n",
    "trte.head(3)"
   ]
  },
  {
   "cell_type": "code",
   "execution_count": 19,
   "metadata": {
    "collapsed": true
   },
   "outputs": [],
   "source": [
    "trte.columns = ['file_id','cust_mean']"
   ]
  },
  {
   "cell_type": "code",
   "execution_count": 20,
   "metadata": {},
   "outputs": [
    {
     "data": {
      "text/plain": [
       "0.03514704668048272"
      ]
     },
     "execution_count": 20,
     "metadata": {},
     "output_type": "execute_result"
    }
   ],
   "source": [
    "trte['cust_mean'].mean()"
   ]
  },
  {
   "cell_type": "code",
   "execution_count": 21,
   "metadata": {
    "collapsed": true
   },
   "outputs": [],
   "source": [
    "trte.loc[pd.isnull(trte)['cust_mean'],'cust_mean']=0.03535477004433718"
   ]
  },
  {
   "cell_type": "code",
   "execution_count": 22,
   "metadata": {},
   "outputs": [
    {
     "data": {
      "text/plain": [
       "(81894, 2)"
      ]
     },
     "execution_count": 22,
     "metadata": {},
     "output_type": "execute_result"
    }
   ],
   "source": [
    "trte.to_csv('cust_expsmo_meancode_val.csv',index=False)\n",
    "trte.shape"
   ]
  },
  {
   "cell_type": "code",
   "execution_count": null,
   "metadata": {
    "collapsed": true
   },
   "outputs": [],
   "source": []
  }
 ],
 "metadata": {
  "kernelspec": {
   "display_name": "Python 3",
   "language": "python",
   "name": "python3"
  },
  "language_info": {
   "codemirror_mode": {
    "name": "ipython",
    "version": 3
   },
   "file_extension": ".py",
   "mimetype": "text/x-python",
   "name": "python",
   "nbconvert_exporter": "python",
   "pygments_lexer": "ipython3",
   "version": "3.6.6"
  },
  "toc": {
   "base_numbering": 1,
   "nav_menu": {},
   "number_sections": true,
   "sideBar": true,
   "skip_h1_title": false,
   "title_cell": "Table of Contents",
   "title_sidebar": "Contents",
   "toc_cell": false,
   "toc_position": {},
   "toc_section_display": true,
   "toc_window_display": false
  },
  "varInspector": {
   "cols": {
    "lenName": 16,
    "lenType": 16,
    "lenVar": 40
   },
   "kernels_config": {
    "python": {
     "delete_cmd_postfix": "",
     "delete_cmd_prefix": "del ",
     "library": "var_list.py",
     "varRefreshCmd": "print(var_dic_list())"
    },
    "r": {
     "delete_cmd_postfix": ") ",
     "delete_cmd_prefix": "rm(",
     "library": "var_list.r",
     "varRefreshCmd": "cat(var_dic_list()) "
    }
   },
   "types_to_exclude": [
    "module",
    "function",
    "builtin_function_or_method",
    "instance",
    "_Feature"
   ],
   "window_display": false
  }
 },
 "nbformat": 4,
 "nbformat_minor": 2
}
