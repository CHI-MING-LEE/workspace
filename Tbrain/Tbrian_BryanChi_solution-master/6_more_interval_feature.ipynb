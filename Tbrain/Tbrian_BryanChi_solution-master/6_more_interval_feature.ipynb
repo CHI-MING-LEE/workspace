{
 "cells": [
  {
   "cell_type": "code",
   "execution_count": 1,
   "metadata": {
    "collapsed": true
   },
   "outputs": [],
   "source": [
    "import numpy as np\n",
    "import pandas as pd\n",
    "import matplotlib.pyplot as plt\n",
    "import gc\n",
    "\n",
    "%matplotlib inline"
   ]
  },
  {
   "cell_type": "markdown",
   "metadata": {},
   "source": [
    "# hrinte_cust"
   ]
  },
  {
   "cell_type": "code",
   "execution_count": 2,
   "metadata": {
    "collapsed": true
   },
   "outputs": [],
   "source": [
    "# 把小時切成 0~6, 6~12, 12~18, 18~24\n",
    "#  21~ 23 + 0~3 , 3~9, 9~15, 15~21\n",
    "time_interval_dict = dict()\n",
    "for i in range(24):\n",
    "    j = i//6 \n",
    "    #j=(i-3)//6\n",
    "    if j<0:\n",
    "        j=3\n",
    "    time_interval_dict[i]=j"
   ]
  },
  {
   "cell_type": "code",
   "execution_count": 3,
   "metadata": {
    "collapsed": false
   },
   "outputs": [
    {
     "data": {
      "text/html": [
       "<div>\n",
       "<table border=\"1\" class=\"dataframe\">\n",
       "  <thead>\n",
       "    <tr style=\"text-align: right;\">\n",
       "      <th></th>\n",
       "      <th>file_id</th>\n",
       "      <th>customer_id</th>\n",
       "      <th>hour_cat</th>\n",
       "      <th>timestamp</th>\n",
       "    </tr>\n",
       "  </thead>\n",
       "  <tbody>\n",
       "    <tr>\n",
       "      <th>0</th>\n",
       "      <td>0000e2398b12121a85166fed5fe2a3da</td>\n",
       "      <td>40664c284a10689448522bbae43c3d6f</td>\n",
       "      <td>2</td>\n",
       "      <td>4</td>\n",
       "    </tr>\n",
       "    <tr>\n",
       "      <th>1</th>\n",
       "      <td>0000e2398b12121a85166fed5fe2a3da</td>\n",
       "      <td>40664c284a10689448522bbae43c3d6f</td>\n",
       "      <td>3</td>\n",
       "      <td>1</td>\n",
       "    </tr>\n",
       "    <tr>\n",
       "      <th>2</th>\n",
       "      <td>0000e2398b12121a85166fed5fe2a3da</td>\n",
       "      <td>8f8608546208bf793af086666c6853db</td>\n",
       "      <td>2</td>\n",
       "      <td>3</td>\n",
       "    </tr>\n",
       "  </tbody>\n",
       "</table>\n",
       "</div>"
      ],
      "text/plain": [
       "                            file_id                       customer_id  \\\n",
       "0  0000e2398b12121a85166fed5fe2a3da  40664c284a10689448522bbae43c3d6f   \n",
       "1  0000e2398b12121a85166fed5fe2a3da  40664c284a10689448522bbae43c3d6f   \n",
       "2  0000e2398b12121a85166fed5fe2a3da  8f8608546208bf793af086666c6853db   \n",
       "\n",
       "   hour_cat  timestamp  \n",
       "0         2          4  \n",
       "1         3          1  \n",
       "2         2          3  "
      ]
     },
     "execution_count": 3,
     "metadata": {},
     "output_type": "execute_result"
    }
   ],
   "source": [
    "march = pd.read_hdf('march.h5', 'df')\n",
    "\n",
    "march['hour_cat'] = march['tm_hour'].map(time_interval_dict)\n",
    "\n",
    "march = march.groupby(['file_id','customer_id','hour_cat']).count().reset_index()[['file_id','customer_id','hour_cat','timestamp']]\n",
    "march['hour_cat'] = march['hour_cat']+1\n",
    "march.head(3)"
   ]
  },
  {
   "cell_type": "code",
   "execution_count": 4,
   "metadata": {
    "collapsed": false
   },
   "outputs": [
    {
     "data": {
      "text/html": [
       "<div>\n",
       "<table border=\"1\" class=\"dataframe\">\n",
       "  <thead>\n",
       "    <tr style=\"text-align: right;\">\n",
       "      <th></th>\n",
       "      <th>file_id</th>\n",
       "      <th>customer_id</th>\n",
       "      <th>hour_cat</th>\n",
       "      <th>timestamp</th>\n",
       "    </tr>\n",
       "  </thead>\n",
       "  <tbody>\n",
       "    <tr>\n",
       "      <th>0</th>\n",
       "      <td>00027f50019000accc492e5684efc818</td>\n",
       "      <td>01e2a49cab4e3b9e9b4d49f9370cb5f8</td>\n",
       "      <td>4</td>\n",
       "      <td>2</td>\n",
       "    </tr>\n",
       "    <tr>\n",
       "      <th>1</th>\n",
       "      <td>00027f50019000accc492e5684efc818</td>\n",
       "      <td>0f45759c53530348f56979dc59fc6c8f</td>\n",
       "      <td>3</td>\n",
       "      <td>5</td>\n",
       "    </tr>\n",
       "    <tr>\n",
       "      <th>2</th>\n",
       "      <td>00027f50019000accc492e5684efc818</td>\n",
       "      <td>0f45759c53530348f56979dc59fc6c8f</td>\n",
       "      <td>4</td>\n",
       "      <td>3</td>\n",
       "    </tr>\n",
       "  </tbody>\n",
       "</table>\n",
       "</div>"
      ],
      "text/plain": [
       "                            file_id                       customer_id  \\\n",
       "0  00027f50019000accc492e5684efc818  01e2a49cab4e3b9e9b4d49f9370cb5f8   \n",
       "1  00027f50019000accc492e5684efc818  0f45759c53530348f56979dc59fc6c8f   \n",
       "2  00027f50019000accc492e5684efc818  0f45759c53530348f56979dc59fc6c8f   \n",
       "\n",
       "   hour_cat  timestamp  \n",
       "0         4          2  \n",
       "1         3          5  \n",
       "2         4          3  "
      ]
     },
     "execution_count": 4,
     "metadata": {},
     "output_type": "execute_result"
    }
   ],
   "source": [
    "april = pd.read_hdf('april.h5', 'df')\n",
    "\n",
    "april['hour_cat'] = april['tm_hour'].map(time_interval_dict)\n",
    "\n",
    "april = april.groupby(['file_id','customer_id','hour_cat']).count().reset_index()[['file_id','customer_id','hour_cat','timestamp']]\n",
    "april['hour_cat'] = april['hour_cat']+1\n",
    "april.head(3)"
   ]
  },
  {
   "cell_type": "code",
   "execution_count": 5,
   "metadata": {
    "collapsed": false
   },
   "outputs": [
    {
     "data": {
      "text/html": [
       "<div>\n",
       "<table border=\"1\" class=\"dataframe\">\n",
       "  <thead>\n",
       "    <tr style=\"text-align: right;\">\n",
       "      <th></th>\n",
       "      <th>file_id</th>\n",
       "      <th>customer_id</th>\n",
       "      <th>hour_cat</th>\n",
       "      <th>timestamp</th>\n",
       "    </tr>\n",
       "  </thead>\n",
       "  <tbody>\n",
       "    <tr>\n",
       "      <th>0</th>\n",
       "      <td>00008c73ee43c15b16c26b26398c1577</td>\n",
       "      <td>033e91e730e176cd2ac81dc48a8f5088</td>\n",
       "      <td>2</td>\n",
       "      <td>1</td>\n",
       "    </tr>\n",
       "    <tr>\n",
       "      <th>1</th>\n",
       "      <td>00008c73ee43c15b16c26b26398c1577</td>\n",
       "      <td>033e91e730e176cd2ac81dc48a8f5088</td>\n",
       "      <td>3</td>\n",
       "      <td>2</td>\n",
       "    </tr>\n",
       "    <tr>\n",
       "      <th>2</th>\n",
       "      <td>00008c73ee43c15b16c26b26398c1577</td>\n",
       "      <td>06bea9f9c1d72c4d3151efa6bcd5ba83</td>\n",
       "      <td>2</td>\n",
       "      <td>2</td>\n",
       "    </tr>\n",
       "  </tbody>\n",
       "</table>\n",
       "</div>"
      ],
      "text/plain": [
       "                            file_id                       customer_id  \\\n",
       "0  00008c73ee43c15b16c26b26398c1577  033e91e730e176cd2ac81dc48a8f5088   \n",
       "1  00008c73ee43c15b16c26b26398c1577  033e91e730e176cd2ac81dc48a8f5088   \n",
       "2  00008c73ee43c15b16c26b26398c1577  06bea9f9c1d72c4d3151efa6bcd5ba83   \n",
       "\n",
       "   hour_cat  timestamp  \n",
       "0         2          1  \n",
       "1         3          2  \n",
       "2         2          2  "
      ]
     },
     "execution_count": 5,
     "metadata": {},
     "output_type": "execute_result"
    }
   ],
   "source": [
    "may = pd.read_hdf('may.h5', 'df')\n",
    "\n",
    "may['hour_cat'] = may['tm_hour'].map(time_interval_dict)\n",
    "\n",
    "may = may.groupby(['file_id','customer_id','hour_cat']).count().reset_index()[['file_id','customer_id','hour_cat','timestamp']]\n",
    "may['hour_cat'] = may['hour_cat']+1\n",
    "may.head(3)"
   ]
  },
  {
   "cell_type": "code",
   "execution_count": 6,
   "metadata": {
    "collapsed": false
   },
   "outputs": [
    {
     "data": {
      "text/html": [
       "<div>\n",
       "<table border=\"1\" class=\"dataframe\">\n",
       "  <thead>\n",
       "    <tr style=\"text-align: right;\">\n",
       "      <th></th>\n",
       "      <th>file_id</th>\n",
       "      <th>customer_id</th>\n",
       "      <th>hour_cat</th>\n",
       "      <th>timestamp</th>\n",
       "    </tr>\n",
       "  </thead>\n",
       "  <tbody>\n",
       "    <tr>\n",
       "      <th>0</th>\n",
       "      <td>0000e2398b12121a85166fed5fe2a3da</td>\n",
       "      <td>40664c284a10689448522bbae43c3d6f</td>\n",
       "      <td>2</td>\n",
       "      <td>4</td>\n",
       "    </tr>\n",
       "    <tr>\n",
       "      <th>1</th>\n",
       "      <td>0000e2398b12121a85166fed5fe2a3da</td>\n",
       "      <td>40664c284a10689448522bbae43c3d6f</td>\n",
       "      <td>3</td>\n",
       "      <td>1</td>\n",
       "    </tr>\n",
       "    <tr>\n",
       "      <th>2</th>\n",
       "      <td>0000e2398b12121a85166fed5fe2a3da</td>\n",
       "      <td>8f8608546208bf793af086666c6853db</td>\n",
       "      <td>2</td>\n",
       "      <td>3</td>\n",
       "    </tr>\n",
       "  </tbody>\n",
       "</table>\n",
       "</div>"
      ],
      "text/plain": [
       "                            file_id                       customer_id  \\\n",
       "0  0000e2398b12121a85166fed5fe2a3da  40664c284a10689448522bbae43c3d6f   \n",
       "1  0000e2398b12121a85166fed5fe2a3da  40664c284a10689448522bbae43c3d6f   \n",
       "2  0000e2398b12121a85166fed5fe2a3da  8f8608546208bf793af086666c6853db   \n",
       "\n",
       "   hour_cat  timestamp  \n",
       "0         2          4  \n",
       "1         3          1  \n",
       "2         2          3  "
      ]
     },
     "execution_count": 6,
     "metadata": {},
     "output_type": "execute_result"
    }
   ],
   "source": [
    "data = pd.concat([march,april,may],axis=0)\n",
    "data.head(3)"
   ]
  },
  {
   "cell_type": "code",
   "execution_count": 7,
   "metadata": {
    "collapsed": false
   },
   "outputs": [
    {
     "data": {
      "text/html": [
       "<div>\n",
       "<table border=\"1\" class=\"dataframe\">\n",
       "  <thead>\n",
       "    <tr style=\"text-align: right;\">\n",
       "      <th></th>\n",
       "      <th>file_id</th>\n",
       "      <th>customer_id</th>\n",
       "      <th>hour_cat</th>\n",
       "      <th>timestamp</th>\n",
       "    </tr>\n",
       "  </thead>\n",
       "  <tbody>\n",
       "    <tr>\n",
       "      <th>0</th>\n",
       "      <td>00008c73ee43c15b16c26b26398c1577</td>\n",
       "      <td>033e91e730e176cd2ac81dc48a8f5088</td>\n",
       "      <td>2</td>\n",
       "      <td>1</td>\n",
       "    </tr>\n",
       "    <tr>\n",
       "      <th>1</th>\n",
       "      <td>00008c73ee43c15b16c26b26398c1577</td>\n",
       "      <td>033e91e730e176cd2ac81dc48a8f5088</td>\n",
       "      <td>3</td>\n",
       "      <td>2</td>\n",
       "    </tr>\n",
       "    <tr>\n",
       "      <th>2</th>\n",
       "      <td>00008c73ee43c15b16c26b26398c1577</td>\n",
       "      <td>06bea9f9c1d72c4d3151efa6bcd5ba83</td>\n",
       "      <td>2</td>\n",
       "      <td>2</td>\n",
       "    </tr>\n",
       "  </tbody>\n",
       "</table>\n",
       "</div>"
      ],
      "text/plain": [
       "                            file_id                       customer_id  \\\n",
       "0  00008c73ee43c15b16c26b26398c1577  033e91e730e176cd2ac81dc48a8f5088   \n",
       "1  00008c73ee43c15b16c26b26398c1577  033e91e730e176cd2ac81dc48a8f5088   \n",
       "2  00008c73ee43c15b16c26b26398c1577  06bea9f9c1d72c4d3151efa6bcd5ba83   \n",
       "\n",
       "   hour_cat  timestamp  \n",
       "0         2          1  \n",
       "1         3          2  \n",
       "2         2          2  "
      ]
     },
     "execution_count": 7,
     "metadata": {},
     "output_type": "execute_result"
    }
   ],
   "source": [
    "data = data.groupby(['file_id','customer_id','hour_cat']).sum().reset_index()\n",
    "data.head(3)"
   ]
  },
  {
   "cell_type": "code",
   "execution_count": 8,
   "metadata": {
    "collapsed": false
   },
   "outputs": [
    {
     "data": {
      "text/html": [
       "<div>\n",
       "<table border=\"1\" class=\"dataframe\">\n",
       "  <thead>\n",
       "    <tr style=\"text-align: right;\">\n",
       "      <th></th>\n",
       "      <th>file_id</th>\n",
       "      <th>hour_cat</th>\n",
       "      <th>timestamp</th>\n",
       "    </tr>\n",
       "  </thead>\n",
       "  <tbody>\n",
       "    <tr>\n",
       "      <th>0</th>\n",
       "      <td>00008c73ee43c15b16c26b26398c1577</td>\n",
       "      <td>1</td>\n",
       "      <td>2</td>\n",
       "    </tr>\n",
       "    <tr>\n",
       "      <th>1</th>\n",
       "      <td>00008c73ee43c15b16c26b26398c1577</td>\n",
       "      <td>2</td>\n",
       "      <td>71</td>\n",
       "    </tr>\n",
       "    <tr>\n",
       "      <th>2</th>\n",
       "      <td>00008c73ee43c15b16c26b26398c1577</td>\n",
       "      <td>3</td>\n",
       "      <td>27</td>\n",
       "    </tr>\n",
       "  </tbody>\n",
       "</table>\n",
       "</div>"
      ],
      "text/plain": [
       "                            file_id  hour_cat  timestamp\n",
       "0  00008c73ee43c15b16c26b26398c1577         1          2\n",
       "1  00008c73ee43c15b16c26b26398c1577         2         71\n",
       "2  00008c73ee43c15b16c26b26398c1577         3         27"
      ]
     },
     "execution_count": 8,
     "metadata": {},
     "output_type": "execute_result"
    }
   ],
   "source": [
    "data = data.groupby(['file_id','hour_cat']).count().reset_index()[['file_id','hour_cat','timestamp']]\n",
    "data.head(3)"
   ]
  },
  {
   "cell_type": "code",
   "execution_count": 9,
   "metadata": {
    "collapsed": false
   },
   "outputs": [
    {
     "data": {
      "text/html": [
       "<div>\n",
       "<table border=\"1\" class=\"dataframe\">\n",
       "  <thead>\n",
       "    <tr style=\"text-align: right;\">\n",
       "      <th></th>\n",
       "      <th>file_id</th>\n",
       "      <th>cchrinte1</th>\n",
       "      <th>cchrinte2</th>\n",
       "      <th>cchrinte3</th>\n",
       "      <th>cchrinte4</th>\n",
       "    </tr>\n",
       "  </thead>\n",
       "  <tbody>\n",
       "    <tr>\n",
       "      <th>0</th>\n",
       "      <td>00008c73ee43c15b16c26b26398c1577</td>\n",
       "      <td>2.0</td>\n",
       "      <td>71.0</td>\n",
       "      <td>27.0</td>\n",
       "      <td>1.0</td>\n",
       "    </tr>\n",
       "    <tr>\n",
       "      <th>1</th>\n",
       "      <td>0000e2398b12121a85166fed5fe2a3da</td>\n",
       "      <td>0.0</td>\n",
       "      <td>3.0</td>\n",
       "      <td>2.0</td>\n",
       "      <td>0.0</td>\n",
       "    </tr>\n",
       "    <tr>\n",
       "      <th>2</th>\n",
       "      <td>0001fe8dce14ce099aa6ca8ea5026ea7</td>\n",
       "      <td>62.0</td>\n",
       "      <td>70.0</td>\n",
       "      <td>53.0</td>\n",
       "      <td>49.0</td>\n",
       "    </tr>\n",
       "  </tbody>\n",
       "</table>\n",
       "</div>"
      ],
      "text/plain": [
       "                            file_id  cchrinte1  cchrinte2  cchrinte3  \\\n",
       "0  00008c73ee43c15b16c26b26398c1577        2.0       71.0       27.0   \n",
       "1  0000e2398b12121a85166fed5fe2a3da        0.0        3.0        2.0   \n",
       "2  0001fe8dce14ce099aa6ca8ea5026ea7       62.0       70.0       53.0   \n",
       "\n",
       "   cchrinte4  \n",
       "0        1.0  \n",
       "1        0.0  \n",
       "2       49.0  "
      ]
     },
     "execution_count": 9,
     "metadata": {},
     "output_type": "execute_result"
    }
   ],
   "source": [
    "data = data.pivot_table(values='timestamp',index=['file_id'],columns='hour_cat',aggfunc='sum').reset_index()\n",
    "data = data.fillna(0)\n",
    "data.columns = ['file_id', 'cchrinte1', 'cchrinte2', 'cchrinte3', 'cchrinte4']\n",
    "data.head(3)"
   ]
  },
  {
   "cell_type": "code",
   "execution_count": 10,
   "metadata": {
    "collapsed": false
   },
   "outputs": [],
   "source": [
    "data.to_csv('hour_interval_cust_cnt.csv',index=False)"
   ]
  },
  {
   "cell_type": "markdown",
   "metadata": {},
   "source": [
    "# mininte_cust"
   ]
  },
  {
   "cell_type": "code",
   "execution_count": 11,
   "metadata": {
    "collapsed": true
   },
   "outputs": [],
   "source": [
    "# 把分鐘切成 0~15, 15~30, 30~45, 45~60\n",
    "time_interval_dict = dict()\n",
    "for i in range(60):\n",
    "    #j = i//6 \n",
    "    j=(i)//15\n",
    "    time_interval_dict[i]=j"
   ]
  },
  {
   "cell_type": "code",
   "execution_count": 12,
   "metadata": {
    "collapsed": false
   },
   "outputs": [
    {
     "data": {
      "text/html": [
       "<div>\n",
       "<table border=\"1\" class=\"dataframe\">\n",
       "  <thead>\n",
       "    <tr style=\"text-align: right;\">\n",
       "      <th></th>\n",
       "      <th>file_id</th>\n",
       "      <th>customer_id</th>\n",
       "      <th>min_cat</th>\n",
       "      <th>timestamp</th>\n",
       "    </tr>\n",
       "  </thead>\n",
       "  <tbody>\n",
       "    <tr>\n",
       "      <th>0</th>\n",
       "      <td>0000e2398b12121a85166fed5fe2a3da</td>\n",
       "      <td>40664c284a10689448522bbae43c3d6f</td>\n",
       "      <td>2</td>\n",
       "      <td>2</td>\n",
       "    </tr>\n",
       "    <tr>\n",
       "      <th>1</th>\n",
       "      <td>0000e2398b12121a85166fed5fe2a3da</td>\n",
       "      <td>40664c284a10689448522bbae43c3d6f</td>\n",
       "      <td>3</td>\n",
       "      <td>1</td>\n",
       "    </tr>\n",
       "    <tr>\n",
       "      <th>2</th>\n",
       "      <td>0000e2398b12121a85166fed5fe2a3da</td>\n",
       "      <td>40664c284a10689448522bbae43c3d6f</td>\n",
       "      <td>4</td>\n",
       "      <td>2</td>\n",
       "    </tr>\n",
       "  </tbody>\n",
       "</table>\n",
       "</div>"
      ],
      "text/plain": [
       "                            file_id                       customer_id  \\\n",
       "0  0000e2398b12121a85166fed5fe2a3da  40664c284a10689448522bbae43c3d6f   \n",
       "1  0000e2398b12121a85166fed5fe2a3da  40664c284a10689448522bbae43c3d6f   \n",
       "2  0000e2398b12121a85166fed5fe2a3da  40664c284a10689448522bbae43c3d6f   \n",
       "\n",
       "   min_cat  timestamp  \n",
       "0        2          2  \n",
       "1        3          1  \n",
       "2        4          2  "
      ]
     },
     "execution_count": 12,
     "metadata": {},
     "output_type": "execute_result"
    }
   ],
   "source": [
    "march = pd.read_hdf('march.h5', 'df')\n",
    "\n",
    "march['min_cat'] = march['tm_min'].map(time_interval_dict)\n",
    "\n",
    "march = march.groupby(['file_id','customer_id','min_cat']).count().reset_index()[['file_id','customer_id','min_cat','timestamp']]\n",
    "march['min_cat'] = march['min_cat']+1\n",
    "march.head(3)\n"
   ]
  },
  {
   "cell_type": "code",
   "execution_count": 13,
   "metadata": {
    "collapsed": false
   },
   "outputs": [
    {
     "data": {
      "text/html": [
       "<div>\n",
       "<table border=\"1\" class=\"dataframe\">\n",
       "  <thead>\n",
       "    <tr style=\"text-align: right;\">\n",
       "      <th></th>\n",
       "      <th>file_id</th>\n",
       "      <th>customer_id</th>\n",
       "      <th>min_cat</th>\n",
       "      <th>timestamp</th>\n",
       "    </tr>\n",
       "  </thead>\n",
       "  <tbody>\n",
       "    <tr>\n",
       "      <th>0</th>\n",
       "      <td>00027f50019000accc492e5684efc818</td>\n",
       "      <td>01e2a49cab4e3b9e9b4d49f9370cb5f8</td>\n",
       "      <td>3</td>\n",
       "      <td>2</td>\n",
       "    </tr>\n",
       "    <tr>\n",
       "      <th>1</th>\n",
       "      <td>00027f50019000accc492e5684efc818</td>\n",
       "      <td>0f45759c53530348f56979dc59fc6c8f</td>\n",
       "      <td>2</td>\n",
       "      <td>6</td>\n",
       "    </tr>\n",
       "    <tr>\n",
       "      <th>2</th>\n",
       "      <td>00027f50019000accc492e5684efc818</td>\n",
       "      <td>0f45759c53530348f56979dc59fc6c8f</td>\n",
       "      <td>4</td>\n",
       "      <td>2</td>\n",
       "    </tr>\n",
       "  </tbody>\n",
       "</table>\n",
       "</div>"
      ],
      "text/plain": [
       "                            file_id                       customer_id  \\\n",
       "0  00027f50019000accc492e5684efc818  01e2a49cab4e3b9e9b4d49f9370cb5f8   \n",
       "1  00027f50019000accc492e5684efc818  0f45759c53530348f56979dc59fc6c8f   \n",
       "2  00027f50019000accc492e5684efc818  0f45759c53530348f56979dc59fc6c8f   \n",
       "\n",
       "   min_cat  timestamp  \n",
       "0        3          2  \n",
       "1        2          6  \n",
       "2        4          2  "
      ]
     },
     "execution_count": 13,
     "metadata": {},
     "output_type": "execute_result"
    }
   ],
   "source": [
    "april = pd.read_hdf('april.h5', 'df')\n",
    "\n",
    "april['min_cat'] = april['tm_min'].map(time_interval_dict)\n",
    "\n",
    "april = april.groupby(['file_id','customer_id','min_cat']).count().reset_index()[['file_id','customer_id','min_cat','timestamp']]\n",
    "april['min_cat'] = april['min_cat']+1\n",
    "april.head(3)"
   ]
  },
  {
   "cell_type": "code",
   "execution_count": 14,
   "metadata": {
    "collapsed": false
   },
   "outputs": [
    {
     "data": {
      "text/html": [
       "<div>\n",
       "<table border=\"1\" class=\"dataframe\">\n",
       "  <thead>\n",
       "    <tr style=\"text-align: right;\">\n",
       "      <th></th>\n",
       "      <th>file_id</th>\n",
       "      <th>customer_id</th>\n",
       "      <th>min_cat</th>\n",
       "      <th>timestamp</th>\n",
       "    </tr>\n",
       "  </thead>\n",
       "  <tbody>\n",
       "    <tr>\n",
       "      <th>0</th>\n",
       "      <td>00008c73ee43c15b16c26b26398c1577</td>\n",
       "      <td>033e91e730e176cd2ac81dc48a8f5088</td>\n",
       "      <td>1</td>\n",
       "      <td>3</td>\n",
       "    </tr>\n",
       "    <tr>\n",
       "      <th>1</th>\n",
       "      <td>00008c73ee43c15b16c26b26398c1577</td>\n",
       "      <td>06bea9f9c1d72c4d3151efa6bcd5ba83</td>\n",
       "      <td>1</td>\n",
       "      <td>1</td>\n",
       "    </tr>\n",
       "    <tr>\n",
       "      <th>2</th>\n",
       "      <td>00008c73ee43c15b16c26b26398c1577</td>\n",
       "      <td>06bea9f9c1d72c4d3151efa6bcd5ba83</td>\n",
       "      <td>3</td>\n",
       "      <td>2</td>\n",
       "    </tr>\n",
       "  </tbody>\n",
       "</table>\n",
       "</div>"
      ],
      "text/plain": [
       "                            file_id                       customer_id  \\\n",
       "0  00008c73ee43c15b16c26b26398c1577  033e91e730e176cd2ac81dc48a8f5088   \n",
       "1  00008c73ee43c15b16c26b26398c1577  06bea9f9c1d72c4d3151efa6bcd5ba83   \n",
       "2  00008c73ee43c15b16c26b26398c1577  06bea9f9c1d72c4d3151efa6bcd5ba83   \n",
       "\n",
       "   min_cat  timestamp  \n",
       "0        1          3  \n",
       "1        1          1  \n",
       "2        3          2  "
      ]
     },
     "execution_count": 14,
     "metadata": {},
     "output_type": "execute_result"
    }
   ],
   "source": [
    "may = pd.read_hdf('may.h5', 'df')\n",
    "\n",
    "may['min_cat'] = may['tm_min'].map(time_interval_dict)\n",
    "\n",
    "may = may.groupby(['file_id','customer_id','min_cat']).count().reset_index()[['file_id','customer_id','min_cat','timestamp']]\n",
    "may['min_cat'] = may['min_cat']+1\n",
    "may.head(3)"
   ]
  },
  {
   "cell_type": "code",
   "execution_count": 15,
   "metadata": {
    "collapsed": false
   },
   "outputs": [
    {
     "data": {
      "text/html": [
       "<div>\n",
       "<table border=\"1\" class=\"dataframe\">\n",
       "  <thead>\n",
       "    <tr style=\"text-align: right;\">\n",
       "      <th></th>\n",
       "      <th>file_id</th>\n",
       "      <th>customer_id</th>\n",
       "      <th>min_cat</th>\n",
       "      <th>timestamp</th>\n",
       "    </tr>\n",
       "  </thead>\n",
       "  <tbody>\n",
       "    <tr>\n",
       "      <th>0</th>\n",
       "      <td>0000e2398b12121a85166fed5fe2a3da</td>\n",
       "      <td>40664c284a10689448522bbae43c3d6f</td>\n",
       "      <td>2</td>\n",
       "      <td>2</td>\n",
       "    </tr>\n",
       "    <tr>\n",
       "      <th>1</th>\n",
       "      <td>0000e2398b12121a85166fed5fe2a3da</td>\n",
       "      <td>40664c284a10689448522bbae43c3d6f</td>\n",
       "      <td>3</td>\n",
       "      <td>1</td>\n",
       "    </tr>\n",
       "    <tr>\n",
       "      <th>2</th>\n",
       "      <td>0000e2398b12121a85166fed5fe2a3da</td>\n",
       "      <td>40664c284a10689448522bbae43c3d6f</td>\n",
       "      <td>4</td>\n",
       "      <td>2</td>\n",
       "    </tr>\n",
       "  </tbody>\n",
       "</table>\n",
       "</div>"
      ],
      "text/plain": [
       "                            file_id                       customer_id  \\\n",
       "0  0000e2398b12121a85166fed5fe2a3da  40664c284a10689448522bbae43c3d6f   \n",
       "1  0000e2398b12121a85166fed5fe2a3da  40664c284a10689448522bbae43c3d6f   \n",
       "2  0000e2398b12121a85166fed5fe2a3da  40664c284a10689448522bbae43c3d6f   \n",
       "\n",
       "   min_cat  timestamp  \n",
       "0        2          2  \n",
       "1        3          1  \n",
       "2        4          2  "
      ]
     },
     "execution_count": 15,
     "metadata": {},
     "output_type": "execute_result"
    }
   ],
   "source": [
    "data = pd.concat([march,april,may],axis=0)\n",
    "data.head(3)"
   ]
  },
  {
   "cell_type": "code",
   "execution_count": 16,
   "metadata": {
    "collapsed": false
   },
   "outputs": [
    {
     "data": {
      "text/html": [
       "<div>\n",
       "<table border=\"1\" class=\"dataframe\">\n",
       "  <thead>\n",
       "    <tr style=\"text-align: right;\">\n",
       "      <th></th>\n",
       "      <th>file_id</th>\n",
       "      <th>customer_id</th>\n",
       "      <th>min_cat</th>\n",
       "      <th>timestamp</th>\n",
       "    </tr>\n",
       "  </thead>\n",
       "  <tbody>\n",
       "    <tr>\n",
       "      <th>0</th>\n",
       "      <td>00008c73ee43c15b16c26b26398c1577</td>\n",
       "      <td>033e91e730e176cd2ac81dc48a8f5088</td>\n",
       "      <td>1</td>\n",
       "      <td>3</td>\n",
       "    </tr>\n",
       "    <tr>\n",
       "      <th>1</th>\n",
       "      <td>00008c73ee43c15b16c26b26398c1577</td>\n",
       "      <td>06bea9f9c1d72c4d3151efa6bcd5ba83</td>\n",
       "      <td>1</td>\n",
       "      <td>1</td>\n",
       "    </tr>\n",
       "    <tr>\n",
       "      <th>2</th>\n",
       "      <td>00008c73ee43c15b16c26b26398c1577</td>\n",
       "      <td>06bea9f9c1d72c4d3151efa6bcd5ba83</td>\n",
       "      <td>3</td>\n",
       "      <td>2</td>\n",
       "    </tr>\n",
       "  </tbody>\n",
       "</table>\n",
       "</div>"
      ],
      "text/plain": [
       "                            file_id                       customer_id  \\\n",
       "0  00008c73ee43c15b16c26b26398c1577  033e91e730e176cd2ac81dc48a8f5088   \n",
       "1  00008c73ee43c15b16c26b26398c1577  06bea9f9c1d72c4d3151efa6bcd5ba83   \n",
       "2  00008c73ee43c15b16c26b26398c1577  06bea9f9c1d72c4d3151efa6bcd5ba83   \n",
       "\n",
       "   min_cat  timestamp  \n",
       "0        1          3  \n",
       "1        1          1  \n",
       "2        3          2  "
      ]
     },
     "execution_count": 16,
     "metadata": {},
     "output_type": "execute_result"
    }
   ],
   "source": [
    "data = data.groupby(['file_id','customer_id','min_cat']).sum().reset_index()\n",
    "data.head(3)"
   ]
  },
  {
   "cell_type": "code",
   "execution_count": 17,
   "metadata": {
    "collapsed": false
   },
   "outputs": [
    {
     "data": {
      "text/html": [
       "<div>\n",
       "<table border=\"1\" class=\"dataframe\">\n",
       "  <thead>\n",
       "    <tr style=\"text-align: right;\">\n",
       "      <th></th>\n",
       "      <th>file_id</th>\n",
       "      <th>min_cat</th>\n",
       "      <th>timestamp</th>\n",
       "    </tr>\n",
       "  </thead>\n",
       "  <tbody>\n",
       "    <tr>\n",
       "      <th>0</th>\n",
       "      <td>00008c73ee43c15b16c26b26398c1577</td>\n",
       "      <td>1</td>\n",
       "      <td>26</td>\n",
       "    </tr>\n",
       "    <tr>\n",
       "      <th>1</th>\n",
       "      <td>00008c73ee43c15b16c26b26398c1577</td>\n",
       "      <td>2</td>\n",
       "      <td>29</td>\n",
       "    </tr>\n",
       "    <tr>\n",
       "      <th>2</th>\n",
       "      <td>00008c73ee43c15b16c26b26398c1577</td>\n",
       "      <td>3</td>\n",
       "      <td>27</td>\n",
       "    </tr>\n",
       "  </tbody>\n",
       "</table>\n",
       "</div>"
      ],
      "text/plain": [
       "                            file_id  min_cat  timestamp\n",
       "0  00008c73ee43c15b16c26b26398c1577        1         26\n",
       "1  00008c73ee43c15b16c26b26398c1577        2         29\n",
       "2  00008c73ee43c15b16c26b26398c1577        3         27"
      ]
     },
     "execution_count": 17,
     "metadata": {},
     "output_type": "execute_result"
    }
   ],
   "source": [
    "data = data.groupby(['file_id','min_cat']).count().reset_index()[['file_id','min_cat','timestamp']]\n",
    "data.head(3)"
   ]
  },
  {
   "cell_type": "code",
   "execution_count": 18,
   "metadata": {
    "collapsed": false
   },
   "outputs": [
    {
     "data": {
      "text/html": [
       "<div>\n",
       "<table border=\"1\" class=\"dataframe\">\n",
       "  <thead>\n",
       "    <tr style=\"text-align: right;\">\n",
       "      <th></th>\n",
       "      <th>file_id</th>\n",
       "      <th>ccmininte1</th>\n",
       "      <th>ccmininte2</th>\n",
       "      <th>ccmininte3</th>\n",
       "      <th>ccmininte4</th>\n",
       "    </tr>\n",
       "  </thead>\n",
       "  <tbody>\n",
       "    <tr>\n",
       "      <th>0</th>\n",
       "      <td>00008c73ee43c15b16c26b26398c1577</td>\n",
       "      <td>26.0</td>\n",
       "      <td>29.0</td>\n",
       "      <td>27.0</td>\n",
       "      <td>27.0</td>\n",
       "    </tr>\n",
       "    <tr>\n",
       "      <th>1</th>\n",
       "      <td>0000e2398b12121a85166fed5fe2a3da</td>\n",
       "      <td>2.0</td>\n",
       "      <td>1.0</td>\n",
       "      <td>1.0</td>\n",
       "      <td>1.0</td>\n",
       "    </tr>\n",
       "    <tr>\n",
       "      <th>2</th>\n",
       "      <td>0001fe8dce14ce099aa6ca8ea5026ea7</td>\n",
       "      <td>48.0</td>\n",
       "      <td>52.0</td>\n",
       "      <td>72.0</td>\n",
       "      <td>62.0</td>\n",
       "    </tr>\n",
       "  </tbody>\n",
       "</table>\n",
       "</div>"
      ],
      "text/plain": [
       "                            file_id  ccmininte1  ccmininte2  ccmininte3  \\\n",
       "0  00008c73ee43c15b16c26b26398c1577        26.0        29.0        27.0   \n",
       "1  0000e2398b12121a85166fed5fe2a3da         2.0         1.0         1.0   \n",
       "2  0001fe8dce14ce099aa6ca8ea5026ea7        48.0        52.0        72.0   \n",
       "\n",
       "   ccmininte4  \n",
       "0        27.0  \n",
       "1         1.0  \n",
       "2        62.0  "
      ]
     },
     "execution_count": 18,
     "metadata": {},
     "output_type": "execute_result"
    }
   ],
   "source": [
    "data = data.pivot_table(values='timestamp',index=['file_id'],columns='min_cat',aggfunc='sum').reset_index()\n",
    "data = data.fillna(0)\n",
    "data.columns = ['file_id', 'ccmininte1', 'ccmininte2', 'ccmininte3', 'ccmininte4']\n",
    "data.head(3)"
   ]
  },
  {
   "cell_type": "code",
   "execution_count": 19,
   "metadata": {
    "collapsed": true
   },
   "outputs": [],
   "source": [
    "data.to_csv('min_interval_cust_cnt.csv',index=False)"
   ]
  },
  {
   "cell_type": "markdown",
   "metadata": {},
   "source": [
    "# sec_cust"
   ]
  },
  {
   "cell_type": "code",
   "execution_count": 20,
   "metadata": {
    "collapsed": true
   },
   "outputs": [],
   "source": [
    "# 把秒切成 0~15, 15~30, 30~45, 45~60\n",
    "time_interval_dict = dict()\n",
    "for i in range(60):\n",
    "    #j = i//6 \n",
    "    j=(i)//15\n",
    "    time_interval_dict[i]=j"
   ]
  },
  {
   "cell_type": "code",
   "execution_count": 21,
   "metadata": {
    "collapsed": false
   },
   "outputs": [
    {
     "data": {
      "text/html": [
       "<div>\n",
       "<table border=\"1\" class=\"dataframe\">\n",
       "  <thead>\n",
       "    <tr style=\"text-align: right;\">\n",
       "      <th></th>\n",
       "      <th>file_id</th>\n",
       "      <th>customer_id</th>\n",
       "      <th>sec_cat</th>\n",
       "      <th>timestamp</th>\n",
       "    </tr>\n",
       "  </thead>\n",
       "  <tbody>\n",
       "    <tr>\n",
       "      <th>0</th>\n",
       "      <td>0000e2398b12121a85166fed5fe2a3da</td>\n",
       "      <td>40664c284a10689448522bbae43c3d6f</td>\n",
       "      <td>1</td>\n",
       "      <td>1</td>\n",
       "    </tr>\n",
       "    <tr>\n",
       "      <th>1</th>\n",
       "      <td>0000e2398b12121a85166fed5fe2a3da</td>\n",
       "      <td>40664c284a10689448522bbae43c3d6f</td>\n",
       "      <td>2</td>\n",
       "      <td>3</td>\n",
       "    </tr>\n",
       "    <tr>\n",
       "      <th>2</th>\n",
       "      <td>0000e2398b12121a85166fed5fe2a3da</td>\n",
       "      <td>40664c284a10689448522bbae43c3d6f</td>\n",
       "      <td>3</td>\n",
       "      <td>1</td>\n",
       "    </tr>\n",
       "  </tbody>\n",
       "</table>\n",
       "</div>"
      ],
      "text/plain": [
       "                            file_id                       customer_id  \\\n",
       "0  0000e2398b12121a85166fed5fe2a3da  40664c284a10689448522bbae43c3d6f   \n",
       "1  0000e2398b12121a85166fed5fe2a3da  40664c284a10689448522bbae43c3d6f   \n",
       "2  0000e2398b12121a85166fed5fe2a3da  40664c284a10689448522bbae43c3d6f   \n",
       "\n",
       "   sec_cat  timestamp  \n",
       "0        1          1  \n",
       "1        2          3  \n",
       "2        3          1  "
      ]
     },
     "execution_count": 21,
     "metadata": {},
     "output_type": "execute_result"
    }
   ],
   "source": [
    "march = pd.read_hdf('march.h5', 'df')\n",
    "\n",
    "march['sec_cat'] = march['tm_sec'].map(time_interval_dict)\n",
    "\n",
    "march = march.groupby(['file_id','customer_id','sec_cat']).count().reset_index()[['file_id','customer_id','sec_cat','timestamp']]\n",
    "march['sec_cat'] = march['sec_cat']+1\n",
    "march.head(3)"
   ]
  },
  {
   "cell_type": "code",
   "execution_count": 22,
   "metadata": {
    "collapsed": false
   },
   "outputs": [
    {
     "data": {
      "text/html": [
       "<div>\n",
       "<table border=\"1\" class=\"dataframe\">\n",
       "  <thead>\n",
       "    <tr style=\"text-align: right;\">\n",
       "      <th></th>\n",
       "      <th>file_id</th>\n",
       "      <th>customer_id</th>\n",
       "      <th>sec_cat</th>\n",
       "      <th>timestamp</th>\n",
       "    </tr>\n",
       "  </thead>\n",
       "  <tbody>\n",
       "    <tr>\n",
       "      <th>0</th>\n",
       "      <td>00027f50019000accc492e5684efc818</td>\n",
       "      <td>01e2a49cab4e3b9e9b4d49f9370cb5f8</td>\n",
       "      <td>1</td>\n",
       "      <td>2</td>\n",
       "    </tr>\n",
       "    <tr>\n",
       "      <th>1</th>\n",
       "      <td>00027f50019000accc492e5684efc818</td>\n",
       "      <td>0f45759c53530348f56979dc59fc6c8f</td>\n",
       "      <td>2</td>\n",
       "      <td>3</td>\n",
       "    </tr>\n",
       "    <tr>\n",
       "      <th>2</th>\n",
       "      <td>00027f50019000accc492e5684efc818</td>\n",
       "      <td>0f45759c53530348f56979dc59fc6c8f</td>\n",
       "      <td>3</td>\n",
       "      <td>5</td>\n",
       "    </tr>\n",
       "  </tbody>\n",
       "</table>\n",
       "</div>"
      ],
      "text/plain": [
       "                            file_id                       customer_id  \\\n",
       "0  00027f50019000accc492e5684efc818  01e2a49cab4e3b9e9b4d49f9370cb5f8   \n",
       "1  00027f50019000accc492e5684efc818  0f45759c53530348f56979dc59fc6c8f   \n",
       "2  00027f50019000accc492e5684efc818  0f45759c53530348f56979dc59fc6c8f   \n",
       "\n",
       "   sec_cat  timestamp  \n",
       "0        1          2  \n",
       "1        2          3  \n",
       "2        3          5  "
      ]
     },
     "execution_count": 22,
     "metadata": {},
     "output_type": "execute_result"
    }
   ],
   "source": [
    "april = pd.read_hdf('april.h5', 'df')\n",
    "\n",
    "april['sec_cat'] = april['tm_sec'].map(time_interval_dict)\n",
    "\n",
    "april = april.groupby(['file_id','customer_id','sec_cat']).count().reset_index()[['file_id','customer_id','sec_cat','timestamp']]\n",
    "april['sec_cat'] = april['sec_cat']+1\n",
    "april.head(3)"
   ]
  },
  {
   "cell_type": "code",
   "execution_count": 23,
   "metadata": {
    "collapsed": false
   },
   "outputs": [
    {
     "data": {
      "text/html": [
       "<div>\n",
       "<table border=\"1\" class=\"dataframe\">\n",
       "  <thead>\n",
       "    <tr style=\"text-align: right;\">\n",
       "      <th></th>\n",
       "      <th>file_id</th>\n",
       "      <th>customer_id</th>\n",
       "      <th>sec_cat</th>\n",
       "      <th>timestamp</th>\n",
       "    </tr>\n",
       "  </thead>\n",
       "  <tbody>\n",
       "    <tr>\n",
       "      <th>0</th>\n",
       "      <td>00008c73ee43c15b16c26b26398c1577</td>\n",
       "      <td>033e91e730e176cd2ac81dc48a8f5088</td>\n",
       "      <td>1</td>\n",
       "      <td>2</td>\n",
       "    </tr>\n",
       "    <tr>\n",
       "      <th>1</th>\n",
       "      <td>00008c73ee43c15b16c26b26398c1577</td>\n",
       "      <td>033e91e730e176cd2ac81dc48a8f5088</td>\n",
       "      <td>4</td>\n",
       "      <td>1</td>\n",
       "    </tr>\n",
       "    <tr>\n",
       "      <th>2</th>\n",
       "      <td>00008c73ee43c15b16c26b26398c1577</td>\n",
       "      <td>06bea9f9c1d72c4d3151efa6bcd5ba83</td>\n",
       "      <td>1</td>\n",
       "      <td>1</td>\n",
       "    </tr>\n",
       "  </tbody>\n",
       "</table>\n",
       "</div>"
      ],
      "text/plain": [
       "                            file_id                       customer_id  \\\n",
       "0  00008c73ee43c15b16c26b26398c1577  033e91e730e176cd2ac81dc48a8f5088   \n",
       "1  00008c73ee43c15b16c26b26398c1577  033e91e730e176cd2ac81dc48a8f5088   \n",
       "2  00008c73ee43c15b16c26b26398c1577  06bea9f9c1d72c4d3151efa6bcd5ba83   \n",
       "\n",
       "   sec_cat  timestamp  \n",
       "0        1          2  \n",
       "1        4          1  \n",
       "2        1          1  "
      ]
     },
     "execution_count": 23,
     "metadata": {},
     "output_type": "execute_result"
    }
   ],
   "source": [
    "may = pd.read_hdf('may.h5', 'df')\n",
    "\n",
    "may['sec_cat'] = may['tm_sec'].map(time_interval_dict)\n",
    "\n",
    "may = may.groupby(['file_id','customer_id','sec_cat']).count().reset_index()[['file_id','customer_id','sec_cat','timestamp']]\n",
    "may['sec_cat'] = may['sec_cat']+1\n",
    "may.head(3)"
   ]
  },
  {
   "cell_type": "code",
   "execution_count": 24,
   "metadata": {
    "collapsed": false
   },
   "outputs": [
    {
     "data": {
      "text/html": [
       "<div>\n",
       "<table border=\"1\" class=\"dataframe\">\n",
       "  <thead>\n",
       "    <tr style=\"text-align: right;\">\n",
       "      <th></th>\n",
       "      <th>file_id</th>\n",
       "      <th>customer_id</th>\n",
       "      <th>sec_cat</th>\n",
       "      <th>timestamp</th>\n",
       "    </tr>\n",
       "  </thead>\n",
       "  <tbody>\n",
       "    <tr>\n",
       "      <th>0</th>\n",
       "      <td>0000e2398b12121a85166fed5fe2a3da</td>\n",
       "      <td>40664c284a10689448522bbae43c3d6f</td>\n",
       "      <td>1</td>\n",
       "      <td>1</td>\n",
       "    </tr>\n",
       "    <tr>\n",
       "      <th>1</th>\n",
       "      <td>0000e2398b12121a85166fed5fe2a3da</td>\n",
       "      <td>40664c284a10689448522bbae43c3d6f</td>\n",
       "      <td>2</td>\n",
       "      <td>3</td>\n",
       "    </tr>\n",
       "    <tr>\n",
       "      <th>2</th>\n",
       "      <td>0000e2398b12121a85166fed5fe2a3da</td>\n",
       "      <td>40664c284a10689448522bbae43c3d6f</td>\n",
       "      <td>3</td>\n",
       "      <td>1</td>\n",
       "    </tr>\n",
       "  </tbody>\n",
       "</table>\n",
       "</div>"
      ],
      "text/plain": [
       "                            file_id                       customer_id  \\\n",
       "0  0000e2398b12121a85166fed5fe2a3da  40664c284a10689448522bbae43c3d6f   \n",
       "1  0000e2398b12121a85166fed5fe2a3da  40664c284a10689448522bbae43c3d6f   \n",
       "2  0000e2398b12121a85166fed5fe2a3da  40664c284a10689448522bbae43c3d6f   \n",
       "\n",
       "   sec_cat  timestamp  \n",
       "0        1          1  \n",
       "1        2          3  \n",
       "2        3          1  "
      ]
     },
     "execution_count": 24,
     "metadata": {},
     "output_type": "execute_result"
    }
   ],
   "source": [
    "data = pd.concat([march,april,may],axis=0)\n",
    "data.head(3)"
   ]
  },
  {
   "cell_type": "code",
   "execution_count": 25,
   "metadata": {
    "collapsed": false
   },
   "outputs": [
    {
     "data": {
      "text/html": [
       "<div>\n",
       "<table border=\"1\" class=\"dataframe\">\n",
       "  <thead>\n",
       "    <tr style=\"text-align: right;\">\n",
       "      <th></th>\n",
       "      <th>file_id</th>\n",
       "      <th>customer_id</th>\n",
       "      <th>sec_cat</th>\n",
       "      <th>timestamp</th>\n",
       "    </tr>\n",
       "  </thead>\n",
       "  <tbody>\n",
       "    <tr>\n",
       "      <th>0</th>\n",
       "      <td>00008c73ee43c15b16c26b26398c1577</td>\n",
       "      <td>033e91e730e176cd2ac81dc48a8f5088</td>\n",
       "      <td>1</td>\n",
       "      <td>2</td>\n",
       "    </tr>\n",
       "    <tr>\n",
       "      <th>1</th>\n",
       "      <td>00008c73ee43c15b16c26b26398c1577</td>\n",
       "      <td>033e91e730e176cd2ac81dc48a8f5088</td>\n",
       "      <td>4</td>\n",
       "      <td>1</td>\n",
       "    </tr>\n",
       "    <tr>\n",
       "      <th>2</th>\n",
       "      <td>00008c73ee43c15b16c26b26398c1577</td>\n",
       "      <td>06bea9f9c1d72c4d3151efa6bcd5ba83</td>\n",
       "      <td>1</td>\n",
       "      <td>1</td>\n",
       "    </tr>\n",
       "  </tbody>\n",
       "</table>\n",
       "</div>"
      ],
      "text/plain": [
       "                            file_id                       customer_id  \\\n",
       "0  00008c73ee43c15b16c26b26398c1577  033e91e730e176cd2ac81dc48a8f5088   \n",
       "1  00008c73ee43c15b16c26b26398c1577  033e91e730e176cd2ac81dc48a8f5088   \n",
       "2  00008c73ee43c15b16c26b26398c1577  06bea9f9c1d72c4d3151efa6bcd5ba83   \n",
       "\n",
       "   sec_cat  timestamp  \n",
       "0        1          2  \n",
       "1        4          1  \n",
       "2        1          1  "
      ]
     },
     "execution_count": 25,
     "metadata": {},
     "output_type": "execute_result"
    }
   ],
   "source": [
    "data = data.groupby(['file_id','customer_id','sec_cat']).sum().reset_index()\n",
    "data.head(3)"
   ]
  },
  {
   "cell_type": "code",
   "execution_count": 26,
   "metadata": {
    "collapsed": false
   },
   "outputs": [
    {
     "data": {
      "text/html": [
       "<div>\n",
       "<table border=\"1\" class=\"dataframe\">\n",
       "  <thead>\n",
       "    <tr style=\"text-align: right;\">\n",
       "      <th></th>\n",
       "      <th>file_id</th>\n",
       "      <th>sec_cat</th>\n",
       "      <th>timestamp</th>\n",
       "    </tr>\n",
       "  </thead>\n",
       "  <tbody>\n",
       "    <tr>\n",
       "      <th>0</th>\n",
       "      <td>00008c73ee43c15b16c26b26398c1577</td>\n",
       "      <td>1</td>\n",
       "      <td>23</td>\n",
       "    </tr>\n",
       "    <tr>\n",
       "      <th>1</th>\n",
       "      <td>00008c73ee43c15b16c26b26398c1577</td>\n",
       "      <td>2</td>\n",
       "      <td>31</td>\n",
       "    </tr>\n",
       "    <tr>\n",
       "      <th>2</th>\n",
       "      <td>00008c73ee43c15b16c26b26398c1577</td>\n",
       "      <td>3</td>\n",
       "      <td>27</td>\n",
       "    </tr>\n",
       "  </tbody>\n",
       "</table>\n",
       "</div>"
      ],
      "text/plain": [
       "                            file_id  sec_cat  timestamp\n",
       "0  00008c73ee43c15b16c26b26398c1577        1         23\n",
       "1  00008c73ee43c15b16c26b26398c1577        2         31\n",
       "2  00008c73ee43c15b16c26b26398c1577        3         27"
      ]
     },
     "execution_count": 26,
     "metadata": {},
     "output_type": "execute_result"
    }
   ],
   "source": [
    "data = data.groupby(['file_id','sec_cat']).count().reset_index()[['file_id','sec_cat','timestamp']]\n",
    "data.head(3)"
   ]
  },
  {
   "cell_type": "code",
   "execution_count": 27,
   "metadata": {
    "collapsed": false
   },
   "outputs": [
    {
     "data": {
      "text/html": [
       "<div>\n",
       "<table border=\"1\" class=\"dataframe\">\n",
       "  <thead>\n",
       "    <tr style=\"text-align: right;\">\n",
       "      <th></th>\n",
       "      <th>file_id</th>\n",
       "      <th>ccsecinte1</th>\n",
       "      <th>ccsecinte2</th>\n",
       "      <th>ccsecinte3</th>\n",
       "      <th>ccsecinte4</th>\n",
       "    </tr>\n",
       "  </thead>\n",
       "  <tbody>\n",
       "    <tr>\n",
       "      <th>0</th>\n",
       "      <td>00008c73ee43c15b16c26b26398c1577</td>\n",
       "      <td>23.0</td>\n",
       "      <td>31.0</td>\n",
       "      <td>27.0</td>\n",
       "      <td>33.0</td>\n",
       "    </tr>\n",
       "    <tr>\n",
       "      <th>1</th>\n",
       "      <td>0000e2398b12121a85166fed5fe2a3da</td>\n",
       "      <td>3.0</td>\n",
       "      <td>3.0</td>\n",
       "      <td>3.0</td>\n",
       "      <td>1.0</td>\n",
       "    </tr>\n",
       "    <tr>\n",
       "      <th>2</th>\n",
       "      <td>0001fe8dce14ce099aa6ca8ea5026ea7</td>\n",
       "      <td>61.0</td>\n",
       "      <td>49.0</td>\n",
       "      <td>53.0</td>\n",
       "      <td>71.0</td>\n",
       "    </tr>\n",
       "  </tbody>\n",
       "</table>\n",
       "</div>"
      ],
      "text/plain": [
       "                            file_id  ccsecinte1  ccsecinte2  ccsecinte3  \\\n",
       "0  00008c73ee43c15b16c26b26398c1577        23.0        31.0        27.0   \n",
       "1  0000e2398b12121a85166fed5fe2a3da         3.0         3.0         3.0   \n",
       "2  0001fe8dce14ce099aa6ca8ea5026ea7        61.0        49.0        53.0   \n",
       "\n",
       "   ccsecinte4  \n",
       "0        33.0  \n",
       "1         1.0  \n",
       "2        71.0  "
      ]
     },
     "execution_count": 27,
     "metadata": {},
     "output_type": "execute_result"
    }
   ],
   "source": [
    "data = data.pivot_table(values='timestamp',index=['file_id'],columns='sec_cat',aggfunc='sum').reset_index()\n",
    "data = data.fillna(0)\n",
    "data.columns = ['file_id', 'ccsecinte1', 'ccsecinte2', 'ccsecinte3', 'ccsecinte4']\n",
    "data.head(3)"
   ]
  },
  {
   "cell_type": "code",
   "execution_count": 28,
   "metadata": {
    "collapsed": true
   },
   "outputs": [],
   "source": [
    "data.to_csv('sec_interval_cust_cnt.csv',index=False)"
   ]
  }
 ],
 "metadata": {
  "kernelspec": {
   "display_name": "Python 3",
   "language": "python",
   "name": "python3"
  },
  "language_info": {
   "codemirror_mode": {
    "name": "ipython",
    "version": 3
   },
   "file_extension": ".py",
   "mimetype": "text/x-python",
   "name": "python",
   "nbconvert_exporter": "python",
   "pygments_lexer": "ipython3",
   "version": "3.6.0"
  }
 },
 "nbformat": 4,
 "nbformat_minor": 2
}
