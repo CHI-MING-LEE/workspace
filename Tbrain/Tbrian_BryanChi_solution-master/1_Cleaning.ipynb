{
 "cells": [
  {
   "cell_type": "code",
   "execution_count": null,
   "metadata": {
    "collapsed": true
   },
   "outputs": [],
   "source": [
    "### This notebook read all query-log data\n",
    "# 1. convert timestamp to tm_mon tm_day tm_hour tm_min tm_sec tm_wday(ith week)\n",
    "# 2. output is march, april, may, contain each month data"
   ]
  },
  {
   "cell_type": "code",
   "execution_count": 1,
   "metadata": {
    "collapsed": true
   },
   "outputs": [],
   "source": [
    "import numpy as np\n",
    "import pandas as pd\n",
    "import matplotlib.pyplot as plt\n",
    "import gc\n",
    "import time\n",
    "from itertools import product\n",
    "\n",
    "%matplotlib inline"
   ]
  },
  {
   "cell_type": "code",
   "execution_count": 2,
   "metadata": {
    "collapsed": true
   },
   "outputs": [],
   "source": [
    "#first let's create daily df\n",
    "daily = list(np.arange(31)+1)\n",
    "daily = [str(0)+str(k) if k<10 else str(k) for k in daily]\n",
    "month = ['03','04','05']"
   ]
  },
  {
   "cell_type": "code",
   "execution_count": 3,
   "metadata": {},
   "outputs": [
    {
     "name": "stdout",
     "output_type": "stream",
     "text": [
      " day 01 day 02 day 03 day 04 day 05 day 06 day 07 day 08 day 09 day 10 day 11 day 12 day 13 day 14 day 15 day 16 day 17 day 18 day 19 day 20 day 21 day 22 day 23 day 24 day 25 day 26 day 27 day 28 day 29 day 30 day 31"
     ]
    }
   ],
   "source": [
    "March = pd.DataFrame()\n",
    "month = '03'\n",
    "for day in daily:\n",
    "    print(' day '+str(day),end='')\n",
    "    curquery = pd.read_csv('query_log/'+month+day+'.csv',header=None,dtype={0:str,1:str,2:int,3:str})\n",
    "    curquery.columns = ['file_id','customer_id','timestamp','product_id']\n",
    "    March = pd.concat([March,curquery],axis=0)"
   ]
  },
  {
   "cell_type": "code",
   "execution_count": 4,
   "metadata": {},
   "outputs": [
    {
     "data": {
      "text/plain": [
       "(25798471, 4)"
      ]
     },
     "execution_count": 4,
     "metadata": {},
     "output_type": "execute_result"
    }
   ],
   "source": [
    "March.shape"
   ]
  },
  {
   "cell_type": "code",
   "execution_count": 5,
   "metadata": {
    "collapsed": true
   },
   "outputs": [],
   "source": [
    "March.to_hdf('march.h5','df')\n",
    "#pd.read_hdf('march.h5', 'df')"
   ]
  },
  {
   "cell_type": "code",
   "execution_count": 6,
   "metadata": {},
   "outputs": [
    {
     "name": "stdout",
     "output_type": "stream",
     "text": [
      " day 01 day 02 day 03 day 04 day 05 day 06 day 07 day 08 day 09 day 10 day 11 day 12 day 13 day 14 day 15 day 16 day 17 day 18 day 19 day 20 day 21 day 22 day 23 day 24 day 25 day 26 day 27 day 28 day 29 day 30"
     ]
    }
   ],
   "source": [
    "April = pd.DataFrame()\n",
    "month = '04'\n",
    "for day in daily[:-1]:\n",
    "    print(' day '+str(day),end='')\n",
    "    curquery = pd.read_csv('query_log/'+month+day+'.csv',header=None,dtype={0:str,1:str,2:int,3:str})\n",
    "    curquery.columns = ['file_id','customer_id','timestamp','product_id']\n",
    "    April = pd.concat([April,curquery],axis=0)"
   ]
  },
  {
   "cell_type": "code",
   "execution_count": 7,
   "metadata": {},
   "outputs": [],
   "source": [
    "April.to_hdf('april.h5','df')"
   ]
  },
  {
   "cell_type": "code",
   "execution_count": 8,
   "metadata": {},
   "outputs": [
    {
     "data": {
      "text/plain": [
       "(27666072, 4)"
      ]
     },
     "execution_count": 8,
     "metadata": {},
     "output_type": "execute_result"
    }
   ],
   "source": [
    "April.shape"
   ]
  },
  {
   "cell_type": "code",
   "execution_count": 9,
   "metadata": {},
   "outputs": [
    {
     "name": "stdout",
     "output_type": "stream",
     "text": [
      " day 01 day 02 day 03 day 04 day 05 day 06 day 07 day 08 day 09 day 10 day 11 day 12 day 13 day 14 day 15 day 16 day 17 day 18 day 19 day 20 day 21 day 22 day 23 day 24 day 25 day 26 day 27 day 28 day 29 day 30 day 31"
     ]
    }
   ],
   "source": [
    "May = pd.DataFrame()\n",
    "month = '05'\n",
    "for day in daily:\n",
    "    print(' day '+str(day),end='')\n",
    "    curquery = pd.read_csv('query_log/'+month+day+'.csv',header=None,dtype={0:str,1:str,2:int,3:str})\n",
    "    curquery.columns = ['file_id','customer_id','timestamp','product_id']\n",
    "    May = pd.concat([May,curquery],axis=0)"
   ]
  },
  {
   "cell_type": "code",
   "execution_count": 10,
   "metadata": {},
   "outputs": [
    {
     "data": {
      "text/plain": [
       "(29808567, 4)"
      ]
     },
     "execution_count": 10,
     "metadata": {},
     "output_type": "execute_result"
    }
   ],
   "source": [
    "May.shape"
   ]
  },
  {
   "cell_type": "code",
   "execution_count": 11,
   "metadata": {
    "collapsed": true
   },
   "outputs": [],
   "source": [
    "May.to_hdf('may.h5','df')"
   ]
  },
  {
   "cell_type": "code",
   "execution_count": 12,
   "metadata": {},
   "outputs": [],
   "source": [
    "March = pd.read_hdf('March.h5', 'df')\n",
    "March = March.reset_index(drop=True)"
   ]
  },
  {
   "cell_type": "code",
   "execution_count": 13,
   "metadata": {},
   "outputs": [],
   "source": [
    "def convertime(x):\n",
    "    return time.gmtime(x)\n",
    "def to_tm_mon(x):\n",
    "    return x.tm_mon\n",
    "def to_tm_day(x):\n",
    "    return x.tm_mday\n",
    "def to_tm_hour(x):\n",
    "    return x.tm_hour\n",
    "def to_tm_min(x):\n",
    "    return x.tm_min\n",
    "def to_tm_sec(x):\n",
    "    return x.tm_sec\n",
    "def to_tm_wday(x):\n",
    "    return x.tm_wday\n",
    "\n",
    "March['strtime']=March['timestamp'].apply(convertime)\n",
    "March['tm_mon']=March['strtime'].apply(to_tm_mon)\n",
    "March['tm_day']=March['strtime'].apply(to_tm_day)\n",
    "March['tm_hour']=March['strtime'].apply(to_tm_hour)\n",
    "March['tm_min']=March['strtime'].apply(to_tm_min)\n",
    "March['tm_sec']=March['strtime'].apply(to_tm_sec)\n",
    "March['tm_wday']=March['strtime'].apply(to_tm_wday)"
   ]
  },
  {
   "cell_type": "code",
   "execution_count": 14,
   "metadata": {},
   "outputs": [
    {
     "data": {
      "text/html": [
       "<div>\n",
       "<table border=\"1\" class=\"dataframe\">\n",
       "  <thead>\n",
       "    <tr style=\"text-align: right;\">\n",
       "      <th></th>\n",
       "      <th>file_id</th>\n",
       "      <th>customer_id</th>\n",
       "      <th>timestamp</th>\n",
       "      <th>product_id</th>\n",
       "      <th>tm_mon</th>\n",
       "      <th>tm_day</th>\n",
       "      <th>tm_hour</th>\n",
       "      <th>tm_min</th>\n",
       "      <th>tm_sec</th>\n",
       "      <th>tm_wday</th>\n",
       "    </tr>\n",
       "  </thead>\n",
       "  <tbody>\n",
       "    <tr>\n",
       "      <th>0</th>\n",
       "      <td>dfccd8e23f0b03ec4db7a9a745ad7399</td>\n",
       "      <td>64573086fcfee53e8fa6d8f1f44101bb</td>\n",
       "      <td>1488326402</td>\n",
       "      <td>c105a0</td>\n",
       "      <td>3</td>\n",
       "      <td>1</td>\n",
       "      <td>0</td>\n",
       "      <td>0</td>\n",
       "      <td>2</td>\n",
       "      <td>2</td>\n",
       "    </tr>\n",
       "    <tr>\n",
       "      <th>1</th>\n",
       "      <td>29962f9102502ee76bb3cddb8cf8c9ad</td>\n",
       "      <td>597df153a25e8e548cbe35f6e4da9cbb</td>\n",
       "      <td>1488326403</td>\n",
       "      <td>c105a0</td>\n",
       "      <td>3</td>\n",
       "      <td>1</td>\n",
       "      <td>0</td>\n",
       "      <td>0</td>\n",
       "      <td>3</td>\n",
       "      <td>2</td>\n",
       "    </tr>\n",
       "    <tr>\n",
       "      <th>2</th>\n",
       "      <td>fa3fa642378b9d98c0e2770611b92eb3</td>\n",
       "      <td>1db24b8cc0a7ce59634629e7f292520f</td>\n",
       "      <td>1488326405</td>\n",
       "      <td>c105a0</td>\n",
       "      <td>3</td>\n",
       "      <td>1</td>\n",
       "      <td>0</td>\n",
       "      <td>0</td>\n",
       "      <td>5</td>\n",
       "      <td>2</td>\n",
       "    </tr>\n",
       "  </tbody>\n",
       "</table>\n",
       "</div>"
      ],
      "text/plain": [
       "                            file_id                       customer_id  \\\n",
       "0  dfccd8e23f0b03ec4db7a9a745ad7399  64573086fcfee53e8fa6d8f1f44101bb   \n",
       "1  29962f9102502ee76bb3cddb8cf8c9ad  597df153a25e8e548cbe35f6e4da9cbb   \n",
       "2  fa3fa642378b9d98c0e2770611b92eb3  1db24b8cc0a7ce59634629e7f292520f   \n",
       "\n",
       "    timestamp product_id  tm_mon  tm_day  tm_hour  tm_min  tm_sec  tm_wday  \n",
       "0  1488326402     c105a0       3       1        0       0       2        2  \n",
       "1  1488326403     c105a0       3       1        0       0       3        2  \n",
       "2  1488326405     c105a0       3       1        0       0       5        2  "
      ]
     },
     "execution_count": 14,
     "metadata": {},
     "output_type": "execute_result"
    }
   ],
   "source": [
    "March.drop('strtime',axis=1,inplace=True)\n",
    "March.head(3)"
   ]
  },
  {
   "cell_type": "code",
   "execution_count": 15,
   "metadata": {
    "collapsed": true
   },
   "outputs": [],
   "source": [
    "March.to_hdf('march.h5','df')"
   ]
  },
  {
   "cell_type": "code",
   "execution_count": 16,
   "metadata": {
    "collapsed": true
   },
   "outputs": [],
   "source": [
    "April = pd.read_hdf('april.h5', 'df')"
   ]
  },
  {
   "cell_type": "code",
   "execution_count": 17,
   "metadata": {
    "collapsed": true
   },
   "outputs": [],
   "source": [
    "April = April.reset_index(drop=True)\n",
    "April['strtime']=April['timestamp'].apply(convertime)\n",
    "April['tm_mon']=April['strtime'].apply(to_tm_mon)\n",
    "April['tm_day']=April['strtime'].apply(to_tm_day)\n",
    "April['tm_hour']=April['strtime'].apply(to_tm_hour)\n",
    "April['tm_min']=April['strtime'].apply(to_tm_min)\n",
    "April['tm_sec']=April['strtime'].apply(to_tm_sec)\n",
    "April['tm_wday']=April['strtime'].apply(to_tm_wday)\n",
    "April.drop('strtime',axis=1,inplace=True)\n",
    "April.to_hdf('april.h5','df')"
   ]
  },
  {
   "cell_type": "code",
   "execution_count": 18,
   "metadata": {
    "collapsed": true
   },
   "outputs": [],
   "source": [
    "May = pd.read_hdf('may.h5', 'df')\n",
    "May = May.reset_index(drop=True)\n",
    "May['strtime']=May['timestamp'].apply(convertime)\n",
    "May['tm_mon']=May['strtime'].apply(to_tm_mon)\n",
    "May['tm_day']=May['strtime'].apply(to_tm_day)\n",
    "May['tm_hour']=May['strtime'].apply(to_tm_hour)\n",
    "May['tm_min']=May['strtime'].apply(to_tm_min)\n",
    "May['tm_sec']=May['strtime'].apply(to_tm_sec)\n",
    "May['tm_wday']=May['strtime'].apply(to_tm_wday)\n",
    "May.drop('strtime',axis=1,inplace=True)\n",
    "May.to_hdf('may.h5','df')"
   ]
  },
  {
   "cell_type": "code",
   "execution_count": null,
   "metadata": {
    "collapsed": true
   },
   "outputs": [],
   "source": []
  }
 ],
 "metadata": {
  "kernelspec": {
   "display_name": "Python 3",
   "language": "python",
   "name": "python3"
  },
  "language_info": {
   "codemirror_mode": {
    "name": "ipython",
    "version": 3
   },
   "file_extension": ".py",
   "mimetype": "text/x-python",
   "name": "python",
   "nbconvert_exporter": "python",
   "pygments_lexer": "ipython3",
   "version": "3.6.6"
  },
  "toc": {
   "base_numbering": 1,
   "nav_menu": {},
   "number_sections": true,
   "sideBar": true,
   "skip_h1_title": false,
   "title_cell": "Table of Contents",
   "title_sidebar": "Contents",
   "toc_cell": false,
   "toc_position": {},
   "toc_section_display": true,
   "toc_window_display": false
  },
  "varInspector": {
   "cols": {
    "lenName": 16,
    "lenType": 16,
    "lenVar": 40
   },
   "kernels_config": {
    "python": {
     "delete_cmd_postfix": "",
     "delete_cmd_prefix": "del ",
     "library": "var_list.py",
     "varRefreshCmd": "print(var_dic_list())"
    },
    "r": {
     "delete_cmd_postfix": ") ",
     "delete_cmd_prefix": "rm(",
     "library": "var_list.r",
     "varRefreshCmd": "cat(var_dic_list()) "
    }
   },
   "types_to_exclude": [
    "module",
    "function",
    "builtin_function_or_method",
    "instance",
    "_Feature"
   ],
   "window_display": false
  }
 },
 "nbformat": 4,
 "nbformat_minor": 2
}
