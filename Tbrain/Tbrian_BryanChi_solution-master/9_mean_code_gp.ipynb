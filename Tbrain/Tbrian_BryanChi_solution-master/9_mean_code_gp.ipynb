{
 "cells": [
  {
   "cell_type": "code",
   "execution_count": 1,
   "metadata": {
    "collapsed": true
   },
   "outputs": [],
   "source": [
    "import numpy as np\n",
    "import pandas as pd\n",
    "import matplotlib.pyplot as plt\n",
    "import gc\n",
    "\n",
    "%matplotlib inline"
   ]
  },
  {
   "cell_type": "code",
   "execution_count": 2,
   "metadata": {
    "collapsed": true
   },
   "outputs": [],
   "source": [
    "# create long representation for file and cust\n",
    "#march = pd.read_hdf('../march.h5', 'df')\n",
    "#march = march.groupby(['file_id','customer_id']).count().reset_index()[['file_id','customer_id','timestamp']]\n",
    "\n",
    "#april = pd.read_hdf('../april.h5', 'df')\n",
    "#april = april.groupby(['file_id','customer_id']).count().reset_index()[['file_id','customer_id','timestamp']]\n",
    "\n",
    "#may = pd.read_hdf('../may.h5', 'df')\n",
    "#may = may.groupby(['file_id','customer_id']).count().reset_index()[['file_id','customer_id','timestamp']]\n",
    "\n",
    "#data = pd.concat([march,april,may],axis=0)\n",
    "\n",
    "#data = data.groupby(['file_id','customer_id']).count().reset_index()[['file_id','customer_id']]\n",
    "#data.head(3)"
   ]
  },
  {
   "cell_type": "code",
   "execution_count": 2,
   "metadata": {
    "collapsed": false
   },
   "outputs": [
    {
     "data": {
      "text/html": [
       "<div>\n",
       "<table border=\"1\" class=\"dataframe\">\n",
       "  <thead>\n",
       "    <tr style=\"text-align: right;\">\n",
       "      <th></th>\n",
       "      <th>file_id</th>\n",
       "      <th>customer_id</th>\n",
       "    </tr>\n",
       "  </thead>\n",
       "  <tbody>\n",
       "    <tr>\n",
       "      <th>0</th>\n",
       "      <td>00008c73ee43c15b16c26b26398c1577</td>\n",
       "      <td>033e91e730e176cd2ac81dc48a8f5088</td>\n",
       "    </tr>\n",
       "    <tr>\n",
       "      <th>1</th>\n",
       "      <td>00008c73ee43c15b16c26b26398c1577</td>\n",
       "      <td>06bea9f9c1d72c4d3151efa6bcd5ba83</td>\n",
       "    </tr>\n",
       "    <tr>\n",
       "      <th>2</th>\n",
       "      <td>00008c73ee43c15b16c26b26398c1577</td>\n",
       "      <td>113597f904c023f44d1a01babb780f58</td>\n",
       "    </tr>\n",
       "  </tbody>\n",
       "</table>\n",
       "</div>"
      ],
      "text/plain": [
       "                            file_id                       customer_id\n",
       "0  00008c73ee43c15b16c26b26398c1577  033e91e730e176cd2ac81dc48a8f5088\n",
       "1  00008c73ee43c15b16c26b26398c1577  06bea9f9c1d72c4d3151efa6bcd5ba83\n",
       "2  00008c73ee43c15b16c26b26398c1577  113597f904c023f44d1a01babb780f58"
      ]
     },
     "execution_count": 2,
     "metadata": {},
     "output_type": "execute_result"
    }
   ],
   "source": [
    "#data.to_hdf('file_cust_longrep.h5','df')\n",
    "data = pd.read_hdf('file_cust_longrep.h5', 'df')\n",
    "data.head(3)"
   ]
  },
  {
   "cell_type": "code",
   "execution_count": 3,
   "metadata": {
    "collapsed": false
   },
   "outputs": [
    {
     "data": {
      "text/html": [
       "<div>\n",
       "<table border=\"1\" class=\"dataframe\">\n",
       "  <thead>\n",
       "    <tr style=\"text-align: right;\">\n",
       "      <th></th>\n",
       "      <th>file_id</th>\n",
       "      <th>customer_id</th>\n",
       "      <th>first_day</th>\n",
       "      <th>target</th>\n",
       "    </tr>\n",
       "  </thead>\n",
       "  <tbody>\n",
       "    <tr>\n",
       "      <th>0</th>\n",
       "      <td>0087304d5bee451f0d82c7407b0fa7d1</td>\n",
       "      <td>282396145a3df4452761bacf8049f6db</td>\n",
       "      <td>1</td>\n",
       "      <td>0.0</td>\n",
       "    </tr>\n",
       "    <tr>\n",
       "      <th>1</th>\n",
       "      <td>0087304d5bee451f0d82c7407b0fa7d1</td>\n",
       "      <td>501782bb051c5368f641f5299e550f32</td>\n",
       "      <td>1</td>\n",
       "      <td>0.0</td>\n",
       "    </tr>\n",
       "    <tr>\n",
       "      <th>2</th>\n",
       "      <td>0087304d5bee451f0d82c7407b0fa7d1</td>\n",
       "      <td>54a57555a85251b45a9de37ba95a4cf3</td>\n",
       "      <td>1</td>\n",
       "      <td>0.0</td>\n",
       "    </tr>\n",
       "  </tbody>\n",
       "</table>\n",
       "</div>"
      ],
      "text/plain": [
       "                            file_id                       customer_id  \\\n",
       "0  0087304d5bee451f0d82c7407b0fa7d1  282396145a3df4452761bacf8049f6db   \n",
       "1  0087304d5bee451f0d82c7407b0fa7d1  501782bb051c5368f641f5299e550f32   \n",
       "2  0087304d5bee451f0d82c7407b0fa7d1  54a57555a85251b45a9de37ba95a4cf3   \n",
       "\n",
       "   first_day  target  \n",
       "0          1     0.0  \n",
       "1          1     0.0  \n",
       "2          1     0.0  "
      ]
     },
     "execution_count": 3,
     "metadata": {},
     "output_type": "execute_result"
    }
   ],
   "source": [
    "file_df = pd.read_csv('file_df.csv')\n",
    "file_df = file_df[['file_id','first_day']]\n",
    "\n",
    "data = pd.merge(data,file_df,on='file_id',how='left')\n",
    "\n",
    "train = pd.read_csv('training-set.csv',header=None)\n",
    "test = pd.read_csv('testing-set.csv',header=None)\n",
    "train.columns = ['file_id','target']\n",
    "test.columns = ['file_id','target']\n",
    "\n",
    "# full mean code\n",
    "#fullmeancode = pd.read_csv('final/forfullmeancode.csv')\n",
    "#train = pd.concat([train,fullmeancode],axis=0)\n",
    "# full mean code\n",
    "\n",
    "data = pd.merge(data,train,how='left',on='file_id')\n",
    "data = data.sort_values(by=['first_day','file_id']).reset_index(drop=True)\n",
    "data.head(3)"
   ]
  },
  {
   "cell_type": "code",
   "execution_count": 4,
   "metadata": {
    "collapsed": false
   },
   "outputs": [
    {
     "data": {
      "text/html": [
       "<div>\n",
       "<table border=\"1\" class=\"dataframe\">\n",
       "  <thead>\n",
       "    <tr style=\"text-align: right;\">\n",
       "      <th></th>\n",
       "      <th>file_id</th>\n",
       "      <th>customer_id</th>\n",
       "      <th>target</th>\n",
       "    </tr>\n",
       "  </thead>\n",
       "  <tbody>\n",
       "    <tr>\n",
       "      <th>0</th>\n",
       "      <td>0087304d5bee451f0d82c7407b0fa7d1</td>\n",
       "      <td>282396145a3df4452761bacf8049f6db</td>\n",
       "      <td>0.0</td>\n",
       "    </tr>\n",
       "    <tr>\n",
       "      <th>1</th>\n",
       "      <td>0087304d5bee451f0d82c7407b0fa7d1</td>\n",
       "      <td>501782bb051c5368f641f5299e550f32</td>\n",
       "      <td>0.0</td>\n",
       "    </tr>\n",
       "    <tr>\n",
       "      <th>2</th>\n",
       "      <td>0087304d5bee451f0d82c7407b0fa7d1</td>\n",
       "      <td>54a57555a85251b45a9de37ba95a4cf3</td>\n",
       "      <td>0.0</td>\n",
       "    </tr>\n",
       "  </tbody>\n",
       "</table>\n",
       "</div>"
      ],
      "text/plain": [
       "                            file_id                       customer_id  target\n",
       "0  0087304d5bee451f0d82c7407b0fa7d1  282396145a3df4452761bacf8049f6db     0.0\n",
       "1  0087304d5bee451f0d82c7407b0fa7d1  501782bb051c5368f641f5299e550f32     0.0\n",
       "2  0087304d5bee451f0d82c7407b0fa7d1  54a57555a85251b45a9de37ba95a4cf3     0.0"
      ]
     },
     "execution_count": 4,
     "metadata": {},
     "output_type": "execute_result"
    }
   ],
   "source": [
    "tr_data = data[data['first_day']<62] # 62 for predict, 50 for val\n",
    "tr_data = tr_data[['file_id','customer_id','target']]\n",
    "tr_data.head(3)"
   ]
  },
  {
   "cell_type": "code",
   "execution_count": 5,
   "metadata": {
    "collapsed": true
   },
   "outputs": [],
   "source": [
    "cumsum = tr_data.groupby('customer_id').cumsum().target - tr_data['target']\n",
    "cumcnt = tr_data.groupby('customer_id').cumcount()\n",
    "tr_data['mean_score'] = cumsum / cumcnt"
   ]
  },
  {
   "cell_type": "code",
   "execution_count": 6,
   "metadata": {
    "collapsed": false
   },
   "outputs": [
    {
     "data": {
      "text/plain": [
       "0.006771791991959975"
      ]
     },
     "execution_count": 6,
     "metadata": {},
     "output_type": "execute_result"
    }
   ],
   "source": [
    "tr_data['mean_score'].mean()"
   ]
  },
  {
   "cell_type": "code",
   "execution_count": 7,
   "metadata": {
    "collapsed": true
   },
   "outputs": [],
   "source": [
    "alpha = 20\n",
    "gbmean = 0.006764493003441334\n",
    "\n",
    "tr_data['mean_score'] = ((tr_data['mean_score']*cumcnt)+(gbmean*alpha))/(cumcnt+alpha)"
   ]
  },
  {
   "cell_type": "code",
   "execution_count": 9,
   "metadata": {
    "collapsed": false
   },
   "outputs": [
    {
     "data": {
      "text/html": [
       "<div>\n",
       "<table border=\"1\" class=\"dataframe\">\n",
       "  <thead>\n",
       "    <tr style=\"text-align: right;\">\n",
       "      <th></th>\n",
       "      <th>customer_id</th>\n",
       "      <th>mean_score</th>\n",
       "    </tr>\n",
       "  </thead>\n",
       "  <tbody>\n",
       "    <tr>\n",
       "      <th>0</th>\n",
       "      <td>00000145d9062eada528bace5fb4864e</td>\n",
       "      <td>NaN</td>\n",
       "    </tr>\n",
       "    <tr>\n",
       "      <th>1</th>\n",
       "      <td>000003d77bee692d83b7b83fdba60d3d</td>\n",
       "      <td>0.003146</td>\n",
       "    </tr>\n",
       "    <tr>\n",
       "      <th>2</th>\n",
       "      <td>00000aea7887eaf96dbd022025e426fd</td>\n",
       "      <td>NaN</td>\n",
       "    </tr>\n",
       "  </tbody>\n",
       "</table>\n",
       "</div>"
      ],
      "text/plain": [
       "                        customer_id  mean_score\n",
       "0  00000145d9062eada528bace5fb4864e         NaN\n",
       "1  000003d77bee692d83b7b83fdba60d3d    0.003146\n",
       "2  00000aea7887eaf96dbd022025e426fd         NaN"
      ]
     },
     "execution_count": 9,
     "metadata": {},
     "output_type": "execute_result"
    }
   ],
   "source": [
    "customer_score = tr_data.groupby('customer_id').last().reset_index()[['customer_id','mean_score']]\n",
    "customer_score.head(3)"
   ]
  },
  {
   "cell_type": "code",
   "execution_count": 10,
   "metadata": {
    "collapsed": false
   },
   "outputs": [
    {
     "data": {
      "text/html": [
       "<div>\n",
       "<table border=\"1\" class=\"dataframe\">\n",
       "  <thead>\n",
       "    <tr style=\"text-align: right;\">\n",
       "      <th></th>\n",
       "      <th>customer_id</th>\n",
       "      <th>mean_score</th>\n",
       "    </tr>\n",
       "  </thead>\n",
       "  <tbody>\n",
       "    <tr>\n",
       "      <th>0</th>\n",
       "      <td>0000006fa286976bf35ea17f1f19bc7a</td>\n",
       "      <td>NaN</td>\n",
       "    </tr>\n",
       "    <tr>\n",
       "      <th>1</th>\n",
       "      <td>00000145d9062eada528bace5fb4864e</td>\n",
       "      <td>NaN</td>\n",
       "    </tr>\n",
       "    <tr>\n",
       "      <th>2</th>\n",
       "      <td>000003d77bee692d83b7b83fdba60d3d</td>\n",
       "      <td>0.003146</td>\n",
       "    </tr>\n",
       "  </tbody>\n",
       "</table>\n",
       "</div>"
      ],
      "text/plain": [
       "                        customer_id  mean_score\n",
       "0  0000006fa286976bf35ea17f1f19bc7a         NaN\n",
       "1  00000145d9062eada528bace5fb4864e         NaN\n",
       "2  000003d77bee692d83b7b83fdba60d3d    0.003146"
      ]
     },
     "execution_count": 10,
     "metadata": {},
     "output_type": "execute_result"
    }
   ],
   "source": [
    "customer_df = pd.read_csv('rs_customer_df.csv')\n",
    "customer_df = pd.merge(customer_df,customer_score,how='left',on='customer_id')\n",
    "customer_df = customer_df[['customer_id','mean_score']]\n",
    "customer_df.head(3)"
   ]
  },
  {
   "cell_type": "code",
   "execution_count": 11,
   "metadata": {
    "collapsed": false
   },
   "outputs": [
    {
     "data": {
      "text/plain": [
       "(2529078, 2)"
      ]
     },
     "execution_count": 11,
     "metadata": {},
     "output_type": "execute_result"
    }
   ],
   "source": [
    "#customer_df.loc[pd.isnull(customer_df).mean_score,'mean_score']=0.012656403967587571\n",
    "customer_df = customer_df[customer_df['mean_score']>-1]\n",
    "customer_df.shape"
   ]
  },
  {
   "cell_type": "code",
   "execution_count": 12,
   "metadata": {
    "collapsed": false
   },
   "outputs": [
    {
     "data": {
      "text/html": [
       "<div>\n",
       "<table border=\"1\" class=\"dataframe\">\n",
       "  <thead>\n",
       "    <tr style=\"text-align: right;\">\n",
       "      <th></th>\n",
       "      <th>file_id</th>\n",
       "      <th>customer_id</th>\n",
       "      <th>day_cnt</th>\n",
       "      <th>first_day</th>\n",
       "      <th>target</th>\n",
       "    </tr>\n",
       "  </thead>\n",
       "  <tbody>\n",
       "    <tr>\n",
       "      <th>35808799</th>\n",
       "      <td>0021c7f072ad0e8068ab8c611700bfe1</td>\n",
       "      <td>00546d10281534af9f1bcbb14dca53d6</td>\n",
       "      <td>1</td>\n",
       "      <td>50</td>\n",
       "      <td>0.0</td>\n",
       "    </tr>\n",
       "    <tr>\n",
       "      <th>35808800</th>\n",
       "      <td>0021c7f072ad0e8068ab8c611700bfe1</td>\n",
       "      <td>04a890cd36f3cface3faeea2fc06967b</td>\n",
       "      <td>1</td>\n",
       "      <td>50</td>\n",
       "      <td>0.0</td>\n",
       "    </tr>\n",
       "    <tr>\n",
       "      <th>35808801</th>\n",
       "      <td>0021c7f072ad0e8068ab8c611700bfe1</td>\n",
       "      <td>052c7bc0c271b8f1accb80ca2bda46db</td>\n",
       "      <td>1</td>\n",
       "      <td>50</td>\n",
       "      <td>0.0</td>\n",
       "    </tr>\n",
       "  </tbody>\n",
       "</table>\n",
       "</div>"
      ],
      "text/plain": [
       "                                   file_id                       customer_id  \\\n",
       "35808799  0021c7f072ad0e8068ab8c611700bfe1  00546d10281534af9f1bcbb14dca53d6   \n",
       "35808800  0021c7f072ad0e8068ab8c611700bfe1  04a890cd36f3cface3faeea2fc06967b   \n",
       "35808801  0021c7f072ad0e8068ab8c611700bfe1  052c7bc0c271b8f1accb80ca2bda46db   \n",
       "\n",
       "          day_cnt  first_day  target  \n",
       "35808799        1         50     0.0  \n",
       "35808800        1         50     0.0  \n",
       "35808801        1         50     0.0  "
      ]
     },
     "execution_count": 12,
     "metadata": {},
     "output_type": "execute_result"
    }
   ],
   "source": [
    "te_data = data[data['first_day']>49]\n",
    "te_data.head(3)"
   ]
  },
  {
   "cell_type": "code",
   "execution_count": 13,
   "metadata": {
    "collapsed": false
   },
   "outputs": [
    {
     "data": {
      "text/html": [
       "<div>\n",
       "<table border=\"1\" class=\"dataframe\">\n",
       "  <thead>\n",
       "    <tr style=\"text-align: right;\">\n",
       "      <th></th>\n",
       "      <th>file_id</th>\n",
       "      <th>customer_id</th>\n",
       "      <th>mean_score</th>\n",
       "    </tr>\n",
       "  </thead>\n",
       "  <tbody>\n",
       "    <tr>\n",
       "      <th>0</th>\n",
       "      <td>0021c7f072ad0e8068ab8c611700bfe1</td>\n",
       "      <td>00546d10281534af9f1bcbb14dca53d6</td>\n",
       "      <td>NaN</td>\n",
       "    </tr>\n",
       "    <tr>\n",
       "      <th>1</th>\n",
       "      <td>0021c7f072ad0e8068ab8c611700bfe1</td>\n",
       "      <td>04a890cd36f3cface3faeea2fc06967b</td>\n",
       "      <td>0.004665</td>\n",
       "    </tr>\n",
       "    <tr>\n",
       "      <th>2</th>\n",
       "      <td>0021c7f072ad0e8068ab8c611700bfe1</td>\n",
       "      <td>052c7bc0c271b8f1accb80ca2bda46db</td>\n",
       "      <td>0.005203</td>\n",
       "    </tr>\n",
       "  </tbody>\n",
       "</table>\n",
       "</div>"
      ],
      "text/plain": [
       "                            file_id                       customer_id  \\\n",
       "0  0021c7f072ad0e8068ab8c611700bfe1  00546d10281534af9f1bcbb14dca53d6   \n",
       "1  0021c7f072ad0e8068ab8c611700bfe1  04a890cd36f3cface3faeea2fc06967b   \n",
       "2  0021c7f072ad0e8068ab8c611700bfe1  052c7bc0c271b8f1accb80ca2bda46db   \n",
       "\n",
       "   mean_score  \n",
       "0         NaN  \n",
       "1    0.004665  \n",
       "2    0.005203  "
      ]
     },
     "execution_count": 13,
     "metadata": {},
     "output_type": "execute_result"
    }
   ],
   "source": [
    "te_data = te_data.sort_values(by=['first_day','file_id']).reset_index(drop=True)\n",
    "te_data = te_data[['file_id','customer_id']]\n",
    "te_data = pd.merge(te_data,customer_df,how='left',on='customer_id')\n",
    "te_data.head(3)"
   ]
  },
  {
   "cell_type": "code",
   "execution_count": 14,
   "metadata": {
    "collapsed": false
   },
   "outputs": [
    {
     "data": {
      "text/html": [
       "<div>\n",
       "<table border=\"1\" class=\"dataframe\">\n",
       "  <thead>\n",
       "    <tr style=\"text-align: right;\">\n",
       "      <th></th>\n",
       "      <th>customer_id</th>\n",
       "      <th>file_id</th>\n",
       "      <th>mean_score</th>\n",
       "      <th>target</th>\n",
       "    </tr>\n",
       "  </thead>\n",
       "  <tbody>\n",
       "    <tr>\n",
       "      <th>455</th>\n",
       "      <td>282396145a3df4452761bacf8049f6db</td>\n",
       "      <td>00a0fadf6f4b4d244459b3bc8f6ee7fa</td>\n",
       "      <td>0.006442</td>\n",
       "      <td>0.0</td>\n",
       "    </tr>\n",
       "    <tr>\n",
       "      <th>467</th>\n",
       "      <td>282396145a3df4452761bacf8049f6db</td>\n",
       "      <td>00a885e87beb6fb1f6ca6ee9eb783779</td>\n",
       "      <td>0.006150</td>\n",
       "      <td>0.0</td>\n",
       "    </tr>\n",
       "    <tr>\n",
       "      <th>528</th>\n",
       "      <td>282396145a3df4452761bacf8049f6db</td>\n",
       "      <td>00a92b584bfcf58b70d5e965e91da03c</td>\n",
       "      <td>0.005882</td>\n",
       "      <td>0.0</td>\n",
       "    </tr>\n",
       "  </tbody>\n",
       "</table>\n",
       "</div>"
      ],
      "text/plain": [
       "                          customer_id                           file_id  \\\n",
       "455  282396145a3df4452761bacf8049f6db  00a0fadf6f4b4d244459b3bc8f6ee7fa   \n",
       "467  282396145a3df4452761bacf8049f6db  00a885e87beb6fb1f6ca6ee9eb783779   \n",
       "528  282396145a3df4452761bacf8049f6db  00a92b584bfcf58b70d5e965e91da03c   \n",
       "\n",
       "     mean_score  target  \n",
       "455    0.006442     0.0  \n",
       "467    0.006150     0.0  \n",
       "528    0.005882     0.0  "
      ]
     },
     "execution_count": 14,
     "metadata": {},
     "output_type": "execute_result"
    }
   ],
   "source": [
    "data = pd.concat([tr_data,te_data],ignore_index=True)\n",
    "data = data[data['mean_score']>-1]\n",
    "data.head(3)"
   ]
  },
  {
   "cell_type": "code",
   "execution_count": 15,
   "metadata": {
    "collapsed": false
   },
   "outputs": [
    {
     "data": {
      "text/html": [
       "<div>\n",
       "<table border=\"1\" class=\"dataframe\">\n",
       "  <thead>\n",
       "    <tr style=\"text-align: right;\">\n",
       "      <th></th>\n",
       "      <th>file_id</th>\n",
       "      <th>mean_score</th>\n",
       "    </tr>\n",
       "  </thead>\n",
       "  <tbody>\n",
       "    <tr>\n",
       "      <th>455</th>\n",
       "      <td>00a0fadf6f4b4d244459b3bc8f6ee7fa</td>\n",
       "      <td>0.006442</td>\n",
       "    </tr>\n",
       "    <tr>\n",
       "      <th>467</th>\n",
       "      <td>00a885e87beb6fb1f6ca6ee9eb783779</td>\n",
       "      <td>0.006150</td>\n",
       "    </tr>\n",
       "    <tr>\n",
       "      <th>528</th>\n",
       "      <td>00a92b584bfcf58b70d5e965e91da03c</td>\n",
       "      <td>0.005882</td>\n",
       "    </tr>\n",
       "  </tbody>\n",
       "</table>\n",
       "</div>"
      ],
      "text/plain": [
       "                              file_id  mean_score\n",
       "455  00a0fadf6f4b4d244459b3bc8f6ee7fa    0.006442\n",
       "467  00a885e87beb6fb1f6ca6ee9eb783779    0.006150\n",
       "528  00a92b584bfcf58b70d5e965e91da03c    0.005882"
      ]
     },
     "execution_count": 15,
     "metadata": {},
     "output_type": "execute_result"
    }
   ],
   "source": [
    "data = data[['file_id','mean_score']]\n",
    "data.head(3)"
   ]
  },
  {
   "cell_type": "code",
   "execution_count": 16,
   "metadata": {
    "collapsed": true
   },
   "outputs": [],
   "source": [
    "data['lgms'] = np.log(data['mean_score'])"
   ]
  },
  {
   "cell_type": "code",
   "execution_count": 17,
   "metadata": {
    "collapsed": false
   },
   "outputs": [
    {
     "data": {
      "text/plain": [
       "(array([   325945.,   3055299.,   9000149.,  20461295.,  16288895.,\n",
       "           176044.,    305008.,    171824.,    119113.,    155312.]),\n",
       " array([-8.82796493, -7.95308883, -7.07821274, -6.20333665, -5.32846056,\n",
       "        -4.45358447, -3.57870838, -2.70383229, -1.8289562 , -0.95408011,\n",
       "        -0.07920402]),\n",
       " <a list of 10 Patch objects>)"
      ]
     },
     "execution_count": 17,
     "metadata": {},
     "output_type": "execute_result"
    },
    {
     "data": {
      "image/png": "[encoded data removed]",
      "text/plain": [
       "<matplotlib.figure.Figure at 0x260ee9fc710>"
      ]
     },
     "metadata": {},
     "output_type": "display_data"
    }
   ],
   "source": [
    "plt.hist(data['lgms'] )"
   ]
  },
  {
   "cell_type": "code",
   "execution_count": 18,
   "metadata": {
    "collapsed": true
   },
   "outputs": [],
   "source": [
    "data.loc[ (data['lgms']<-8.03148033), 'lgms_cat']=0\n",
    "data.loc[ (data['lgms']>=-8.03148033)&(data['lgms']<-7.14789407), 'lgms_cat']=1\n",
    "data.loc[ (data['lgms']>=-7.14789407)&(data['lgms']<-6.26430781), 'lgms_cat']=2\n",
    "data.loc[ (data['lgms']>=-6.26430781)&(data['lgms']<-5.38072156), 'lgms_cat']=3\n",
    "data.loc[ (data['lgms']>=-5.38072156)&(data['lgms']<-4.4971353), 'lgms_cat']=4\n",
    "data.loc[ (data['lgms']>=-4.4971353), 'lgms_cat']=5"
   ]
  },
  {
   "cell_type": "code",
   "execution_count": 19,
   "metadata": {
    "collapsed": false
   },
   "outputs": [],
   "source": [
    "data = data[['file_id','lgms_cat']]"
   ]
  },
  {
   "cell_type": "code",
   "execution_count": 20,
   "metadata": {
    "collapsed": false
   },
   "outputs": [],
   "source": [
    "cat0 = data[data['lgms_cat']==0].groupby('file_id').count().reset_index()\n",
    "cat0.columns = ['file_id','cat0cnt']\n",
    "\n",
    "cat1 = data[data['lgms_cat']==1].groupby('file_id').count().reset_index()\n",
    "cat1.columns = ['file_id','cat1cnt']\n",
    "\n",
    "cat2 = data[data['lgms_cat']==2].groupby('file_id').count().reset_index()\n",
    "cat2.columns = ['file_id','cat2cnt']\n",
    "\n",
    "cat3 = data[data['lgms_cat']==3].groupby('file_id').count().reset_index()\n",
    "cat3.columns = ['file_id','cat3cnt']\n",
    "\n",
    "cat4 = data[data['lgms_cat']==4].groupby('file_id').count().reset_index()\n",
    "cat4.columns = ['file_id','cat4cnt']\n",
    "\n",
    "cat5 = data[data['lgms_cat']==5].groupby('file_id').count().reset_index()\n",
    "cat5.columns = ['file_id','cat5cnt']"
   ]
  },
  {
   "cell_type": "code",
   "execution_count": 21,
   "metadata": {
    "collapsed": false
   },
   "outputs": [
    {
     "data": {
      "text/html": [
       "<div>\n",
       "<table border=\"1\" class=\"dataframe\">\n",
       "  <thead>\n",
       "    <tr style=\"text-align: right;\">\n",
       "      <th></th>\n",
       "      <th>file_id</th>\n",
       "      <th>cust_cnt</th>\n",
       "      <th>cat0cnt</th>\n",
       "      <th>cat1cnt</th>\n",
       "      <th>cat2cnt</th>\n",
       "      <th>cat3cnt</th>\n",
       "      <th>cat4cnt</th>\n",
       "      <th>cat5cnt</th>\n",
       "    </tr>\n",
       "  </thead>\n",
       "  <tbody>\n",
       "    <tr>\n",
       "      <th>0</th>\n",
       "      <td>00008c73ee43c15b16c26b26398c1577</td>\n",
       "      <td>33</td>\n",
       "      <td>NaN</td>\n",
       "      <td>NaN</td>\n",
       "      <td>NaN</td>\n",
       "      <td>NaN</td>\n",
       "      <td>32.0</td>\n",
       "      <td>1.0</td>\n",
       "    </tr>\n",
       "    <tr>\n",
       "      <th>1</th>\n",
       "      <td>0000e2398b12121a85166fed5fe2a3da</td>\n",
       "      <td>1</td>\n",
       "      <td>NaN</td>\n",
       "      <td>NaN</td>\n",
       "      <td>NaN</td>\n",
       "      <td>NaN</td>\n",
       "      <td>1.0</td>\n",
       "      <td>NaN</td>\n",
       "    </tr>\n",
       "    <tr>\n",
       "      <th>2</th>\n",
       "      <td>0001fe8dce14ce099aa6ca8ea5026ea7</td>\n",
       "      <td>154</td>\n",
       "      <td>NaN</td>\n",
       "      <td>4.0</td>\n",
       "      <td>4.0</td>\n",
       "      <td>35.0</td>\n",
       "      <td>111.0</td>\n",
       "      <td>NaN</td>\n",
       "    </tr>\n",
       "  </tbody>\n",
       "</table>\n",
       "</div>"
      ],
      "text/plain": [
       "                            file_id  cust_cnt  cat0cnt  cat1cnt  cat2cnt  \\\n",
       "0  00008c73ee43c15b16c26b26398c1577        33      NaN      NaN      NaN   \n",
       "1  0000e2398b12121a85166fed5fe2a3da         1      NaN      NaN      NaN   \n",
       "2  0001fe8dce14ce099aa6ca8ea5026ea7       154      NaN      4.0      4.0   \n",
       "\n",
       "   cat3cnt  cat4cnt  cat5cnt  \n",
       "0      NaN     32.0      1.0  \n",
       "1      NaN      1.0      NaN  \n",
       "2     35.0    111.0      NaN  "
      ]
     },
     "execution_count": 21,
     "metadata": {},
     "output_type": "execute_result"
    }
   ],
   "source": [
    "data = data.groupby('file_id').count().reset_index()\n",
    "data.columns = ['file_id','cust_cnt']\n",
    "data=pd.merge(data,cat0,how='left',on='file_id')\n",
    "data=pd.merge(data,cat1,how='left',on='file_id')\n",
    "data=pd.merge(data,cat2,how='left',on='file_id')\n",
    "data=pd.merge(data,cat3,how='left',on='file_id')\n",
    "data=pd.merge(data,cat4,how='left',on='file_id')\n",
    "data=pd.merge(data,cat5,how='left',on='file_id')\n",
    "data.head(3)"
   ]
  },
  {
   "cell_type": "code",
   "execution_count": 22,
   "metadata": {
    "collapsed": false
   },
   "outputs": [
    {
     "data": {
      "text/html": [
       "<div>\n",
       "<table border=\"1\" class=\"dataframe\">\n",
       "  <thead>\n",
       "    <tr style=\"text-align: right;\">\n",
       "      <th></th>\n",
       "      <th>file_id</th>\n",
       "      <th>cust_cnt</th>\n",
       "      <th>cat0cnt</th>\n",
       "      <th>cat1cnt</th>\n",
       "      <th>cat2cnt</th>\n",
       "      <th>cat3cnt</th>\n",
       "      <th>cat4cnt</th>\n",
       "      <th>cat5cnt</th>\n",
       "    </tr>\n",
       "  </thead>\n",
       "  <tbody>\n",
       "    <tr>\n",
       "      <th>0</th>\n",
       "      <td>00008c73ee43c15b16c26b26398c1577</td>\n",
       "      <td>33</td>\n",
       "      <td>0.0</td>\n",
       "      <td>0.0</td>\n",
       "      <td>0.0</td>\n",
       "      <td>0.0</td>\n",
       "      <td>32.0</td>\n",
       "      <td>1.0</td>\n",
       "    </tr>\n",
       "    <tr>\n",
       "      <th>1</th>\n",
       "      <td>0000e2398b12121a85166fed5fe2a3da</td>\n",
       "      <td>1</td>\n",
       "      <td>0.0</td>\n",
       "      <td>0.0</td>\n",
       "      <td>0.0</td>\n",
       "      <td>0.0</td>\n",
       "      <td>1.0</td>\n",
       "      <td>0.0</td>\n",
       "    </tr>\n",
       "    <tr>\n",
       "      <th>2</th>\n",
       "      <td>0001fe8dce14ce099aa6ca8ea5026ea7</td>\n",
       "      <td>154</td>\n",
       "      <td>0.0</td>\n",
       "      <td>4.0</td>\n",
       "      <td>4.0</td>\n",
       "      <td>35.0</td>\n",
       "      <td>111.0</td>\n",
       "      <td>0.0</td>\n",
       "    </tr>\n",
       "  </tbody>\n",
       "</table>\n",
       "</div>"
      ],
      "text/plain": [
       "                            file_id  cust_cnt  cat0cnt  cat1cnt  cat2cnt  \\\n",
       "0  00008c73ee43c15b16c26b26398c1577        33      0.0      0.0      0.0   \n",
       "1  0000e2398b12121a85166fed5fe2a3da         1      0.0      0.0      0.0   \n",
       "2  0001fe8dce14ce099aa6ca8ea5026ea7       154      0.0      4.0      4.0   \n",
       "\n",
       "   cat3cnt  cat4cnt  cat5cnt  \n",
       "0      0.0     32.0      1.0  \n",
       "1      0.0      1.0      0.0  \n",
       "2     35.0    111.0      0.0  "
      ]
     },
     "execution_count": 22,
     "metadata": {},
     "output_type": "execute_result"
    }
   ],
   "source": [
    "data.fillna(0,inplace=True)\n",
    "data.head(3)"
   ]
  },
  {
   "cell_type": "code",
   "execution_count": 23,
   "metadata": {
    "collapsed": true
   },
   "outputs": [],
   "source": [
    "data['cat0cnt'] = (data['cat0cnt']/data['cust_cnt'])*100\n",
    "data['cat1cnt'] = (data['cat1cnt']/data['cust_cnt'])*100\n",
    "data['cat2cnt'] = (data['cat2cnt']/data['cust_cnt'])*100\n",
    "data['cat3cnt'] = (data['cat3cnt']/data['cust_cnt'])*100\n",
    "data['cat4cnt'] = (data['cat4cnt']/data['cust_cnt'])*100\n",
    "data['cat5cnt'] = (data['cat5cnt']/data['cust_cnt'])*100\n",
    "data.drop('cust_cnt',axis=1,inplace=True)"
   ]
  },
  {
   "cell_type": "code",
   "execution_count": 24,
   "metadata": {
    "collapsed": false
   },
   "outputs": [
    {
     "data": {
      "text/plain": [
       "(79077, 7)"
      ]
     },
     "execution_count": 24,
     "metadata": {},
     "output_type": "execute_result"
    }
   ],
   "source": [
    "data.shape"
   ]
  },
  {
   "cell_type": "code",
   "execution_count": 25,
   "metadata": {
    "collapsed": true
   },
   "outputs": [],
   "source": [
    "data.to_csv('caticnt_val.csv',index=False)"
   ]
  },
  {
   "cell_type": "code",
   "execution_count": null,
   "metadata": {
    "collapsed": true
   },
   "outputs": [],
   "source": []
  }
 ],
 "metadata": {
  "kernelspec": {
   "display_name": "Python 3",
   "language": "python",
   "name": "python3"
  },
  "language_info": {
   "codemirror_mode": {
    "name": "ipython",
    "version": 3
   },
   "file_extension": ".py",
   "mimetype": "text/x-python",
   "name": "python",
   "nbconvert_exporter": "python",
   "pygments_lexer": "ipython3",
   "version": "3.6.0"
  }
 },
 "nbformat": 4,
 "nbformat_minor": 2
}
