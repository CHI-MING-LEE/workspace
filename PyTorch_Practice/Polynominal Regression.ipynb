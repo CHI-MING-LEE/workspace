{
 "cells": [
  {
   "cell_type": "code",
   "execution_count": 48,
   "metadata": {
    "ExecuteTime": {
     "end_time": "2019-04-09T16:30:09.988391Z",
     "start_time": "2019-04-09T16:30:09.813093Z"
    }
   },
   "outputs": [],
   "source": [
    "# https://blog.csdn.net/out_of_memory_error/article/details/81266231\n",
    "\"\"\"\n",
    "from itertools import count\n",
    "x = count(0, 1)\n",
    "next(x)\n",
    "\"\"\"\n",
    "from itertools import count\n",
    "import torch\n",
    "import torch.autograd\n",
    "import torch.nn.functional as F\n",
    " \n",
    "POLY_DEGREE = 3"
   ]
  },
  {
   "cell_type": "markdown",
   "metadata": {
    "ExecuteTime": {
     "end_time": "2019-04-09T16:29:40.268830Z",
     "start_time": "2019-04-09T16:29:40.265618Z"
    }
   },
   "source": [
    "![title](poly.PNG)\n",
    "在PyTorch里面使用torch.cat()函数来实现Tensor的拼接：\n",
    "对于输入的n个数据，我们将其扩展成上面矩阵所示的样子。"
   ]
  },
  {
   "cell_type": "code",
   "execution_count": 49,
   "metadata": {
    "ExecuteTime": {
     "end_time": "2019-04-09T16:30:53.475003Z",
     "start_time": "2019-04-09T16:30:53.468410Z"
    }
   },
   "outputs": [],
   "source": [
    "def make_features(x):\n",
    "    \"\"\"Builds features i.e. a matrix with columns [x, x^2, x^3, x^4].\"\"\"\n",
    "    x = x.unsqueeze(1)\n",
    "    return torch.cat([x ** i for i in range(1, POLY_DEGREE+1)], dim=1)"
   ]
  },
  {
   "cell_type": "markdown",
   "metadata": {},
   "source": [
    "然后定义出我们需要拟合的多项式，可以随机抽取一个多项式来作为我们的目标多项式。当然，系数w和偏置b确定了，多项式也就确定了："
   ]
  },
  {
   "cell_type": "code",
   "execution_count": 65,
   "metadata": {
    "ExecuteTime": {
     "end_time": "2019-04-09T16:44:13.658662Z",
     "start_time": "2019-04-09T16:44:13.651340Z"
    }
   },
   "outputs": [
    {
     "name": "stdout",
     "output_type": "stream",
     "text": [
      "torch.Size([3, 1])\n"
     ]
    },
    {
     "data": {
      "text/plain": [
       "'\\nx = torch.tensor([[1., -1.], [1., -1.]])\\ny = torch.tensor([[2, 2], [2, 2]], dtype=torch.float32)\\nprint(x.mm(y))\\n'"
      ]
     },
     "execution_count": 65,
     "metadata": {},
     "output_type": "execute_result"
    }
   ],
   "source": [
    "W_target = torch.randn(POLY_DEGREE, 1)\n",
    "b_target = torch.randn(1)\n",
    "print(W_target.shape)\n",
    "def f(x):\n",
    "    \"\"\"Approximated function.\"\"\"\n",
    "    return x.mm(W_target) + b_target.item()\n",
    "\n",
    "\"\"\"\n",
    "x = torch.tensor([[1., -1.], [1., -1.]])\n",
    "y = torch.tensor([[2, 2], [2, 2]], dtype=torch.float32)\n",
    "print(x.mm(y))\n",
    "\"\"\""
   ]
  },
  {
   "cell_type": "markdown",
   "metadata": {
    "ExecuteTime": {
     "end_time": "2019-04-09T16:44:01.509158Z",
     "start_time": "2019-04-09T16:44:01.503759Z"
    }
   },
   "source": [
    "这里的权重已经定义好了，x.mm(W_target)表示做矩阵乘法，就是每次输入一个得到一个的真实函数。\n",
    "\n",
    "在训练的时候我们需要采样一些点，可以随机生成一批数据来得到训练集。下面的函数可以让我们每次取batch_size这么多个数据，然后将其转化为矩阵形式，再把这个值通过函数之后的结果也返回作为真实的输出值：\n"
   ]
  },
  {
   "cell_type": "code",
   "execution_count": 66,
   "metadata": {
    "ExecuteTime": {
     "end_time": "2019-04-09T16:45:14.229247Z",
     "start_time": "2019-04-09T16:45:14.225493Z"
    }
   },
   "outputs": [],
   "source": [
    "def get_batch(batch_size=32):\n",
    "    \"\"\"Builds a batch i.e. (x, f(x)) pair.\"\"\"\n",
    "    random = torch.randn(batch_size)\n",
    "    x = make_features(random)\n",
    "    y = f(x)\n",
    "    return x, y"
   ]
  },
  {
   "cell_type": "markdown",
   "metadata": {
    "ExecuteTime": {
     "end_time": "2019-04-09T16:48:27.515180Z",
     "start_time": "2019-04-09T16:48:27.509412Z"
    }
   },
   "source": [
    "接下来我们需要定义模型，这里采用一种简写的方式定义模型，torch.nn.Linear()表示定义一个线性模型，这里定义了是输入值和目标参数w的行数一致（和POLY_DEGREE一致，本次实验中为3），输出值为1的模型。"
   ]
  },
  {
   "cell_type": "code",
   "execution_count": 80,
   "metadata": {
    "ExecuteTime": {
     "end_time": "2019-04-09T16:54:26.185697Z",
     "start_time": "2019-04-09T16:54:26.182046Z"
    }
   },
   "outputs": [],
   "source": [
    "# Define model\n",
    "fc = torch.nn.Linear(W_target.size(0), 1)  # w1*x1 + w2*x2 + w3*x3 + b = y 一顆neural就是一個線性迴歸"
   ]
  },
  {
   "cell_type": "code",
   "execution_count": 81,
   "metadata": {
    "ExecuteTime": {
     "end_time": "2019-04-09T16:54:29.447039Z",
     "start_time": "2019-04-09T16:54:29.419239Z"
    }
   },
   "outputs": [],
   "source": [
    "# 下面开始训练模型，训练的过程让其不断优化，直到随机取出的batch_size个点中计算出来的均方误差小于0.001为止。\n",
    "for batch_idx in count(1):\n",
    "    # Get data\n",
    "    batch_x, batch_y = get_batch()\n",
    "\n",
    "    # Reset gradients\n",
    "    fc.zero_grad()\n",
    "    \n",
    "    # Forward pass\n",
    "    output = F.smooth_l1_loss(fc(batch_x), batch_y)\n",
    "    loss = output.item()  # Use torch.Tensor.item() to get a Python number from a tensor containing a single value:\n",
    "\n",
    "    # Backward pass\n",
    "    output.backward()\n",
    "    \n",
    "    # Apply gradients (no optimizer)\n",
    "    for param in fc.parameters():\n",
    "        param.data.add_(-0.1 * param.grad.data)\n",
    "\n",
    "    # Stop criterion\n",
    "    if loss < 1e-3:\n",
    "        break"
   ]
  },
  {
   "cell_type": "code",
   "execution_count": 82,
   "metadata": {
    "ExecuteTime": {
     "end_time": "2019-04-09T16:54:48.582027Z",
     "start_time": "2019-04-09T16:54:48.575454Z"
    }
   },
   "outputs": [
    {
     "name": "stdout",
     "output_type": "stream",
     "text": [
      "Loss: 0.000957 after 70 batches\n",
      "==> Learned function:\ty = +0.47 x^3 -1.38 x^2 -0.58 x^1 +1.03\n",
      "==> Actual function:\ty = +0.48 x^3 -1.39 x^2 -0.59 x^1 +1.08\n"
     ]
    }
   ],
   "source": [
    "\n",
    "def poly_desc(W, b):\n",
    "    \"\"\"Creates a string description of a polynomial.\"\"\"\n",
    "    result = 'y = '\n",
    "    for i, w in enumerate(W):\n",
    "        result += '{:+.2f} x^{} '.format(w, len(W) - i)\n",
    "    result += '{:+.2f}'.format(b[0])\n",
    "    return result\n",
    " \n",
    "print('Loss: {:.6f} after {} batches'.format(loss, batch_idx))\n",
    "print('==> Learned function:\\t' + poly_desc(fc.weight.view(-1), fc.bias))\n",
    "print('==> Actual function:\\t' + poly_desc(W_target.view(-1), b_target))\n"
   ]
  },
  {
   "cell_type": "code",
   "execution_count": 84,
   "metadata": {
    "ExecuteTime": {
     "end_time": "2019-04-09T16:55:53.089272Z",
     "start_time": "2019-04-09T16:55:53.084558Z"
    }
   },
   "outputs": [
    {
     "name": "stdout",
     "output_type": "stream",
     "text": [
      "tensor([ 0.4744, -1.3772, -0.5847], grad_fn=<ViewBackward>)\n",
      "Parameter containing:\n",
      "tensor([1.0346], requires_grad=True)\n"
     ]
    }
   ],
   "source": [
    "print(fc.weight.view(-1))\n",
    "print(fc.bias)"
   ]
  },
  {
   "cell_type": "code",
   "execution_count": 90,
   "metadata": {
    "ExecuteTime": {
     "end_time": "2019-04-09T16:57:37.825994Z",
     "start_time": "2019-04-09T16:57:37.820600Z"
    }
   },
   "outputs": [
    {
     "data": {
      "text/plain": [
       "tensor([[ 0.4744],\n",
       "        [-1.3772],\n",
       "        [-0.5847]], grad_fn=<ViewBackward>)"
      ]
     },
     "execution_count": 90,
     "metadata": {},
     "output_type": "execute_result"
    }
   ],
   "source": [
    "fc.weight.view((3, 1)) # reshape"
   ]
  },
  {
   "cell_type": "code",
   "execution_count": null,
   "metadata": {},
   "outputs": [],
   "source": []
  },
  {
   "cell_type": "code",
   "execution_count": null,
   "metadata": {},
   "outputs": [],
   "source": []
  },
  {
   "cell_type": "code",
   "execution_count": null,
   "metadata": {},
   "outputs": [],
   "source": []
  },
  {
   "cell_type": "code",
   "execution_count": null,
   "metadata": {},
   "outputs": [],
   "source": []
  },
  {
   "cell_type": "code",
   "execution_count": null,
   "metadata": {},
   "outputs": [],
   "source": []
  }
 ],
 "metadata": {
  "kernelspec": {
   "display_name": "Python 3",
   "language": "python",
   "name": "python3"
  },
  "language_info": {
   "codemirror_mode": {
    "name": "ipython",
    "version": 3
   },
   "file_extension": ".py",
   "mimetype": "text/x-python",
   "name": "python",
   "nbconvert_exporter": "python",
   "pygments_lexer": "ipython3",
   "version": "3.6.6"
  },
  "toc": {
   "base_numbering": 1,
   "nav_menu": {},
   "number_sections": true,
   "sideBar": true,
   "skip_h1_title": false,
   "title_cell": "Table of Contents",
   "title_sidebar": "Contents",
   "toc_cell": false,
   "toc_position": {},
   "toc_section_display": true,
   "toc_window_display": false
  },
  "varInspector": {
   "cols": {
    "lenName": 16,
    "lenType": 16,
    "lenVar": 40
   },
   "kernels_config": {
    "python": {
     "delete_cmd_postfix": "",
     "delete_cmd_prefix": "del ",
     "library": "var_list.py",
     "varRefreshCmd": "print(var_dic_list())"
    },
    "r": {
     "delete_cmd_postfix": ") ",
     "delete_cmd_prefix": "rm(",
     "library": "var_list.r",
     "varRefreshCmd": "cat(var_dic_list()) "
    }
   },
   "types_to_exclude": [
    "module",
    "function",
    "builtin_function_or_method",
    "instance",
    "_Feature"
   ],
   "window_display": false
  }
 },
 "nbformat": 4,
 "nbformat_minor": 2
}
