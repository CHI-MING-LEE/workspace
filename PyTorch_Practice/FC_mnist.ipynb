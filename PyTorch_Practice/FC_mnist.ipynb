{
 "cells": [
  {
   "cell_type": "code",
   "execution_count": 1,
   "metadata": {
    "ExecuteTime": {
     "end_time": "2019-04-21T15:50:41.192228Z",
     "start_time": "2019-04-21T15:50:40.984259Z"
    }
   },
   "outputs": [],
   "source": [
    "from torch import nn\n",
    " \n",
    "class simpleNet(nn.Module):\n",
    "    \"\"\"\n",
    "    定义了一个简单的三层全连接神经网络，每一层都是线性的\n",
    "    \"\"\"\n",
    "    def __init__(self, in_dim, n_hidden_1, n_hidden_2, out_dim):\n",
    "        super(simpleNet, self).__init__()\n",
    "        self.layer1 = nn.Linear(in_dim, n_hidden_1)\n",
    "        self.layer2 = nn.Linear(n_hidden_1, n_hidden_2)\n",
    "        self.layer3 = nn.Linear(n_hidden_2, out_dim)\n",
    "\n",
    "    def forward(self, x):\n",
    "        x = self.layer1(x)\n",
    "        x = self.layer2(x)\n",
    "        x = self.layer3(x)\n",
    "        return x\n",
    "\n",
    "class Activation_Net(nn.Module):\n",
    "    \"\"\"\n",
    "    在上面的simpleNet的基础上，在每层的输出部分添加了激活函数\n",
    "    \"\"\"\n",
    "    def __init__(self, in_dim, n_hidden_1, n_hidden_2, out_dim):\n",
    "        super(Activation_Net, self).__init__()\n",
    "        self.layer1 = nn.Sequential(nn.Linear(in_dim, n_hidden_1),\n",
    "                                    nn.ReLU(True))\n",
    "        self.layer2 = nn.Sequential(nn.Linear(n_hidden_1, n_hidden_2), \n",
    "                                    nn.ReLU(True))\n",
    "        self.layer3 = nn.Sequential(nn.Linear(n_hidden_2, out_dim))\n",
    "        \"\"\"\n",
    "        这里的Sequential()函数的功能是将网络的层组合到一起。\n",
    "        \"\"\"\n",
    "\n",
    "    def forward(self, x):\n",
    "        x = self.layer1(x)\n",
    "        x = self.layer2(x)\n",
    "        x = self.layer3(x)\n",
    "        return x\n",
    "\n",
    "class Batch_Net(nn.Module):\n",
    "    \"\"\"\n",
    "    在上面的Activation_Net的基础上，增加了一个加快收敛速度的方法——批标准化\n",
    "    \"\"\"\n",
    "    def __init__(self, in_dim, n_hidden_1, n_hidden_2, out_dim):\n",
    "        super(Batch_Net, self).__init__()\n",
    "        self.layer1 = nn.Sequential(nn.Linear(in_dim, n_hidden_1), \n",
    "                                    nn.BatchNorm1d(n_hidden_1), \n",
    "                                    nn.ReLU(True))\n",
    "        self.layer2 = nn.Sequential(nn.Linear(n_hidden_1, n_hidden_2), \n",
    "                                    nn.BatchNorm1d(n_hidden_2), \n",
    "                                    nn.ReLU(True))\n",
    "        self.layer3 = nn.Sequential(nn.Linear(n_hidden_2, out_dim))\n",
    "\n",
    "    def forward(self, x):\n",
    "        x = self.layer1(x)\n",
    "        x = self.layer2(x)\n",
    "        x = self.layer3(x)\n",
    "        return x\n",
    "# --------------------- \n",
    "# 作者：Liam Coder \n",
    "# 来源：CSDN \n",
    "# 原文：https://blog.csdn.net/out_of_memory_error/article/details/81414986 \n",
    "# 版权声明：本文为博主原创文章，转载请附上博文链接！"
   ]
  },
  {
   "cell_type": "code",
   "execution_count": 2,
   "metadata": {
    "ExecuteTime": {
     "end_time": "2019-04-21T15:52:46.592704Z",
     "start_time": "2019-04-21T15:52:46.510586Z"
    }
   },
   "outputs": [],
   "source": [
    "import torch\n",
    "from torch import nn, optim\n",
    "from torch.autograd import Variable\n",
    "from torch.utils.data import DataLoader\n",
    "from torchvision import datasets, transforms"
   ]
  },
  {
   "cell_type": "code",
   "execution_count": 3,
   "metadata": {
    "ExecuteTime": {
     "end_time": "2019-04-21T15:52:58.605108Z",
     "start_time": "2019-04-21T15:52:58.599537Z"
    }
   },
   "outputs": [],
   "source": [
    "# 定义一些超参数\n",
    "batch_size = 64\n",
    "learning_rate = 0.02\n",
    "num_epoches = 20"
   ]
  },
  {
   "cell_type": "code",
   "execution_count": 4,
   "metadata": {
    "ExecuteTime": {
     "end_time": "2019-04-21T15:53:50.789195Z",
     "start_time": "2019-04-21T15:53:50.785413Z"
    }
   },
   "outputs": [],
   "source": [
    "# 数据预处理。transforms.ToTensor()将图片转换成PyTorch中处理的对象Tensor,并且进行标准化（数据在0~1之间）\n",
    "# transforms.Normalize()做归一化。它进行了减均值，再除以标准差。两个参数分别是均值和标准差\n",
    "# transforms.Compose()函数则是将各种预处理的操作组合到了一起\n",
    "data_tf = transforms.Compose(\n",
    "    [transforms.ToTensor(),\n",
    "     transforms.Normalize([0.5], [0.5])])"
   ]
  },
  {
   "cell_type": "code",
   "execution_count": 5,
   "metadata": {
    "ExecuteTime": {
     "end_time": "2019-04-21T15:58:12.923774Z",
     "start_time": "2019-04-21T15:58:06.338069Z"
    }
   },
   "outputs": [
    {
     "name": "stdout",
     "output_type": "stream",
     "text": [
      "Downloading http://yann.lecun.com/exdb/mnist/train-images-idx3-ubyte.gz\n",
      "Downloading http://yann.lecun.com/exdb/mnist/train-labels-idx1-ubyte.gz\n",
      "Downloading http://yann.lecun.com/exdb/mnist/t10k-images-idx3-ubyte.gz\n",
      "Downloading http://yann.lecun.com/exdb/mnist/t10k-labels-idx1-ubyte.gz\n",
      "Processing...\n",
      "Done!\n"
     ]
    }
   ],
   "source": [
    "# 数据集的下载器\n",
    "train_dataset = datasets.MNIST(\n",
    "    root='./data', train=True, transform=data_tf, download=True)\n",
    "test_dataset = datasets.MNIST(root='./data', train=False, transform=data_tf)\n",
    "\n",
    "train_loader = DataLoader(train_dataset, batch_size=batch_size, shuffle=True)\n",
    "test_loader = DataLoader(test_dataset, batch_size=batch_size, shuffle=False)"
   ]
  },
  {
   "cell_type": "code",
   "execution_count": 7,
   "metadata": {
    "ExecuteTime": {
     "end_time": "2019-04-21T15:58:30.261545Z",
     "start_time": "2019-04-21T15:58:30.253455Z"
    }
   },
   "outputs": [],
   "source": [
    "# 选择模型\n",
    "model = simpleNet(28 * 28, 300, 100, 10)\n",
    "# model = net.Activation_Net(28 * 28, 300, 100, 10)\n",
    "# model = net.Batch_Net(28 * 28, 300, 100, 10)\n",
    "if torch.cuda.is_available():\n",
    "    model = model.cuda()\n",
    "\n",
    "# 定义损失函数和优化器\n",
    "criterion = nn.CrossEntropyLoss()\n",
    "optimizer = optim.SGD(model.parameters(), lr=learning_rate)"
   ]
  },
  {
   "cell_type": "code",
   "execution_count": 8,
   "metadata": {
    "ExecuteTime": {
     "end_time": "2019-04-21T16:00:31.103034Z",
     "start_time": "2019-04-21T16:00:18.939249Z"
    }
   },
   "outputs": [
    {
     "name": "stdout",
     "output_type": "stream",
     "text": [
      "epoch: 0, loss: 2.296\n",
      "epoch: 50, loss: 1.525\n",
      "epoch: 100, loss: 1.0\n",
      "epoch: 150, loss: 0.6817\n",
      "epoch: 200, loss: 0.5239\n",
      "epoch: 250, loss: 0.5025\n",
      "epoch: 300, loss: 0.633\n",
      "epoch: 350, loss: 0.3317\n",
      "epoch: 400, loss: 0.5275\n",
      "epoch: 450, loss: 0.5476\n",
      "epoch: 500, loss: 0.5442\n",
      "epoch: 550, loss: 0.37\n",
      "epoch: 600, loss: 0.2345\n",
      "epoch: 650, loss: 0.5784\n",
      "epoch: 700, loss: 0.3879\n",
      "epoch: 750, loss: 0.4729\n",
      "epoch: 800, loss: 0.3095\n",
      "epoch: 850, loss: 0.2001\n",
      "epoch: 900, loss: 0.1933\n"
     ]
    }
   ],
   "source": [
    "# 训练模型\n",
    "for epoch, data in enumerate(train_loader):\n",
    "    img, label = data\n",
    "    img = img.view(img.size(0), -1)  # flatten()\n",
    "    if torch.cuda.is_available():\n",
    "        img = img.cuda()\n",
    "        label = label.cuda()\n",
    "    else:\n",
    "        img = Variable(img)\n",
    "        label = Variable(label)\n",
    "    out = model(img)\n",
    "    loss = criterion(out, label)\n",
    "    print_loss = loss.data.item()\n",
    "\n",
    "    optimizer.zero_grad()\n",
    "    loss.backward()\n",
    "    optimizer.step()\n",
    "\n",
    "    if epoch % 50 == 0:\n",
    "        print('epoch: {}, loss: {:.4}'.format(epoch, loss.data.item()))"
   ]
  },
  {
   "cell_type": "code",
   "execution_count": 13,
   "metadata": {
    "ExecuteTime": {
     "end_time": "2019-04-21T16:15:35.437483Z",
     "start_time": "2019-04-21T16:15:33.644416Z"
    }
   },
   "outputs": [
    {
     "name": "stdout",
     "output_type": "stream",
     "text": [
      "Test Loss: 0.332307, Acc: 0.906600\n"
     ]
    }
   ],
   "source": [
    "# 模型评估\n",
    "model.eval()\n",
    "eval_loss = 0\n",
    "eval_acc = 0\n",
    "for data in test_loader:\n",
    "    img, label = data\n",
    "    img = img.view(img.size(0), -1)\n",
    "    if torch.cuda.is_available():\n",
    "        img = img.cuda()\n",
    "        label = label.cuda()\n",
    "\n",
    "    out = model(img)\n",
    "    loss = criterion(out, label)\n",
    "    eval_loss += loss.data.item() * label.size(0)\n",
    "    # print(out.shape)  # (64, 10)\n",
    "    _, pred = torch.max(out, dim=1) # dim = 1 (by 每一個instance)\n",
    "    # print(pred)\n",
    "    # print(torch.max(out, 1)) # 回傳值跟index\n",
    "    # break\n",
    "    num_correct = (pred == label).sum()\n",
    "    eval_acc += num_correct.item()\n",
    "# 加起來平均\n",
    "print('Test Loss: {:.6f}, Acc: {:.6f}'.format(\n",
    "    eval_loss / (len(test_dataset)),\n",
    "    eval_acc / (len(test_dataset))\n",
    "))"
   ]
  },
  {
   "cell_type": "code",
   "execution_count": null,
   "metadata": {},
   "outputs": [],
   "source": []
  },
  {
   "cell_type": "code",
   "execution_count": null,
   "metadata": {},
   "outputs": [],
   "source": []
  },
  {
   "cell_type": "code",
   "execution_count": null,
   "metadata": {},
   "outputs": [],
   "source": []
  },
  {
   "cell_type": "code",
   "execution_count": null,
   "metadata": {},
   "outputs": [],
   "source": []
  }
 ],
 "metadata": {
  "kernelspec": {
   "display_name": "Python 3",
   "language": "python",
   "name": "python3"
  },
  "language_info": {
   "codemirror_mode": {
    "name": "ipython",
    "version": 3
   },
   "file_extension": ".py",
   "mimetype": "text/x-python",
   "name": "python",
   "nbconvert_exporter": "python",
   "pygments_lexer": "ipython3",
   "version": "3.6.6"
  },
  "toc": {
   "base_numbering": 1,
   "nav_menu": {},
   "number_sections": true,
   "sideBar": true,
   "skip_h1_title": false,
   "title_cell": "Table of Contents",
   "title_sidebar": "Contents",
   "toc_cell": false,
   "toc_position": {},
   "toc_section_display": true,
   "toc_window_display": false
  },
  "varInspector": {
   "cols": {
    "lenName": 16,
    "lenType": 16,
    "lenVar": 40
   },
   "kernels_config": {
    "python": {
     "delete_cmd_postfix": "",
     "delete_cmd_prefix": "del ",
     "library": "var_list.py",
     "varRefreshCmd": "print(var_dic_list())"
    },
    "r": {
     "delete_cmd_postfix": ") ",
     "delete_cmd_prefix": "rm(",
     "library": "var_list.r",
     "varRefreshCmd": "cat(var_dic_list()) "
    }
   },
   "types_to_exclude": [
    "module",
    "function",
    "builtin_function_or_method",
    "instance",
    "_Feature"
   ],
   "window_display": false
  }
 },
 "nbformat": 4,
 "nbformat_minor": 2
}
