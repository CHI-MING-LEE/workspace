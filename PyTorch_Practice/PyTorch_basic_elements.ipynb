{
 "cells": [
  {
   "cell_type": "code",
   "execution_count": null,
   "metadata": {},
   "outputs": [],
   "source": [
    "\"\"\"\n",
    "Created on 20190213\n",
    "\n",
    "Practice of PyTorch basics\n",
    "\n",
    "Ref: https://fgc.stpi.narl.org.tw/activity/videoDetail/4b1141305d9cd231015d9d0992ef0030\n",
    "\"\"\"\n"
   ]
  },
  {
   "cell_type": "markdown",
   "metadata": {},
   "source": [
    "# Import"
   ]
  },
  {
   "cell_type": "code",
   "execution_count": 1,
   "metadata": {
    "ExecuteTime": {
     "end_time": "2019-02-19T17:10:17.389394Z",
     "start_time": "2019-02-19T17:10:17.225694Z"
    }
   },
   "outputs": [],
   "source": [
    "import torch\n",
    "import numpy as np"
   ]
  },
  {
   "cell_type": "markdown",
   "metadata": {},
   "source": [
    "# Basics Operations"
   ]
  },
  {
   "cell_type": "markdown",
   "metadata": {},
   "source": [
    "## Create matrix"
   ]
  },
  {
   "cell_type": "code",
   "execution_count": 6,
   "metadata": {
    "ExecuteTime": {
     "end_time": "2019-02-12T16:39:01.766275Z",
     "start_time": "2019-02-12T16:39:01.756349Z"
    }
   },
   "outputs": [
    {
     "name": "stdout",
     "output_type": "stream",
     "text": [
      "tensor([[1., 1., 1., 1., 1.],\n",
      "        [1., 1., 1., 1., 1.],\n",
      "        [1., 1., 1., 1., 1.]])\n",
      "tensor([[0., 0., 0., 0., 0.],\n",
      "        [0., 0., 0., 0., 0.],\n",
      "        [0., 0., 0., 0., 0.]])\n",
      "tensor([[1., 0., 0., 0.],\n",
      "        [0., 1., 0., 0.],\n",
      "        [0., 0., 1., 0.],\n",
      "        [0., 0., 0., 1.]])\n",
      "tensor([[0.4323, 0.0942, 0.1160, 0.3262, 0.9966],\n",
      "        [0.5292, 0.0091, 0.6374, 0.6664, 0.0096],\n",
      "        [0.1855, 0.5773, 0.9703, 0.2999, 0.5155]])\n",
      "tensor([[ 0.9469,  0.8299,  0.5800,  0.5513,  1.8442],\n",
      "        [-2.0218, -0.1729,  2.6649, -0.7844,  1.0886],\n",
      "        [ 0.0938, -0.2456, -0.3907,  0.6719, -1.8747]])\n"
     ]
    }
   ],
   "source": [
    "print(torch.ones(3, 5))\n",
    "print(torch.zeros(3, 5))\n",
    "print(torch.eye(4))\n",
    "print(torch.rand(3, 5))  # random sample from [0, 1)\n",
    "print(torch.randn(3, 5))  # from normal distribution"
   ]
  },
  {
   "cell_type": "markdown",
   "metadata": {},
   "source": [
    "## Matrix operation"
   ]
  },
  {
   "cell_type": "code",
   "execution_count": 10,
   "metadata": {
    "ExecuteTime": {
     "end_time": "2019-02-12T16:45:04.788567Z",
     "start_time": "2019-02-12T16:45:04.780096Z"
    }
   },
   "outputs": [
    {
     "name": "stdout",
     "output_type": "stream",
     "text": [
      "torch.Size([3, 2])\n",
      "torch.Size([3, 2, 1])\n",
      "torch.Size([3])\n",
      "torch.Size([3, 1, 1])\n",
      "tensor([[1.0286],\n",
      "        [1.0063],\n",
      "        [0.6752]])\n"
     ]
    }
   ],
   "source": [
    "m1 = torch.rand((3, 1))\n",
    "m2 = torch.rand((3, 1))\n",
    "\n",
    "print(torch.cat((m1, m2), 1).shape)  # 將m1和m2兩個矩陣在第一個維度合併起來\n",
    "print(torch.stack((m1, m2), 1).shape)  # 將m1和m2兩個矩陣在新的維度（第一維）疊起來\n",
    "\n",
    "print(m1.squeeze(1).shape)  # 如果m的第一維的長度是1，則合併這個維度，即(A, 1, B) -> (A, B)\n",
    "\n",
    "print(m1.unsqueeze(1).shape)  # m的第一維多一個維度，即(A, B) -> (A, 1, B)\n",
    "\n",
    "print(m1 + m2)  # 矩陣element-wise相加，其他基本運算是一樣的"
   ]
  },
  {
   "cell_type": "markdown",
   "metadata": {},
   "source": [
    "## Other important operation"
   ]
  },
  {
   "cell_type": "code",
   "execution_count": 22,
   "metadata": {
    "ExecuteTime": {
     "end_time": "2019-02-12T16:52:35.524201Z",
     "start_time": "2019-02-12T16:52:35.513948Z"
    }
   },
   "outputs": [
    {
     "name": "stdout",
     "output_type": "stream",
     "text": [
      "torch.Size([5, 3, 2])\n",
      "tensor([[0.0756],\n",
      "        [0.4699],\n",
      "        [0.0918],\n",
      "        [0.7922],\n",
      "        [0.9655]])\n",
      "tensor([[0.0756, 0.0756, 0.0756],\n",
      "        [0.4699, 0.4699, 0.4699],\n",
      "        [0.0918, 0.0918, 0.0918],\n",
      "        [0.7922, 0.7922, 0.7922],\n",
      "        [0.9655, 0.9655, 0.9655]])\n",
      "tensor([[0, 8, 8],\n",
      "        [4, 1, 9],\n",
      "        [5, 9, 2]])\n",
      "[[0.07558203]\n",
      " [0.4698925 ]\n",
      " [0.09182632]\n",
      " [0.79217863]\n",
      " [0.96547   ]]\n"
     ]
    }
   ],
   "source": [
    "m = torch.randint(10, (6, 5))\n",
    "m2 = torch.rand((5, 1))\n",
    "m3 = np.random.randint(10, size=(3, 3))\n",
    "\n",
    "print(m.view(5, 3, -1).shape)  # 如果m的元素個數是15的倍數，回傳一個大小為(5, 3, ?)的\n",
    "                               # tensor，問號會自動推算。tensor的資料是連動的。等同reshape\n",
    "print(m2)\n",
    "print(m2.expand(5, 3))  # 將m擴展到(5, 3)的大小，RepeatVector的感覺。\n",
    "\n",
    "# m.cuda()            # 將m搬移到GPU來運算\n",
    "# m.cpu()             # 將m搬移到CPU來運算\n",
    "\n",
    "print(torch.from_numpy(m3)) # 回傳一個tensor，其資料和numpy變數是連動的。numpt2tensor\n",
    "print(m2.numpy())           # 回傳一個numpy變數，其資料和tensor是連動的。tensor2numpy"
   ]
  },
  {
   "cell_type": "markdown",
   "metadata": {
    "ExecuteTime": {
     "end_time": "2019-02-12T16:47:25.029656Z",
     "start_time": "2019-02-12T16:47:25.023421Z"
    }
   },
   "source": [
    "## Variable\n",
    "一個Variable最重要的屬性（attribute）是data，它是一個Tensor物件，儲存這個變數現在的值。一個Variable的創建與使用方式長這個樣子："
   ]
  },
  {
   "cell_type": "code",
   "execution_count": 4,
   "metadata": {
    "ExecuteTime": {
     "end_time": "2019-02-13T16:40:23.968736Z",
     "start_time": "2019-02-13T16:40:23.960826Z"
    }
   },
   "outputs": [
    {
     "name": "stdout",
     "output_type": "stream",
     "text": [
      "tensor([[1., 1., 1.],\n",
      "        [1., 1., 1.],\n",
      "        [1., 1., 1.],\n",
      "        [1., 1., 1.],\n",
      "        [1., 1., 1.]])\n",
      "<class 'torch.Tensor'>\n",
      "<class 'torch.Tensor'>\n"
     ]
    }
   ],
   "source": [
    "import torch\n",
    "from torch.autograd import Variable\n",
    "\n",
    "m1 = torch.ones(5, 3)\n",
    "m2 = torch.ones(5, 3)\n",
    "a = Variable(m1)\n",
    "b = Variable(m2)\n",
    "c = a + b\n",
    "print(a)\n",
    "print(type(b))\n",
    "print(type(c))"
   ]
  },
  {
   "cell_type": "markdown",
   "metadata": {
    "ExecuteTime": {
     "end_time": "2019-02-13T16:41:16.609799Z",
     "start_time": "2019-02-13T16:41:16.604273Z"
    }
   },
   "source": [
    "- `如果把c（或c.data）印出來，你會發現他是一個元素都是2的5x3矩陣。`\n",
    "\n",
    "`PyTorch做的非常好的一件事就是：幾乎所有前面介紹對Tensor的操作都可以用在Variable上！所以我們使用者只需要熟悉一種語法。然而，搭配前面對於有向圖的說明，大家必須了解到其背後所做的事情是不一樣的！Tensor的操作是單純的資料修改，沒有紀錄；而Variable的操作除了data的資料會有改動，所有的操作也會記錄下來變成一個有向圖，藉由creator這個屬性儲存起來。`\n",
    "\n",
    "Variable還有兩個重要的屬性。\n",
    "\n",
    "**requires_grad**指定要不要更新這個變數，對於不需要更新的變數可以把他設定成False，可以加快運算。\n",
    "\n",
    "**volatile**指定需不需要保留紀錄用的變數。指定變數為True代表運算不需要記錄，可以加快運算。如果一個變數的volatile是True，則它的requires_grad一定是False。簡單來說，對於需要更新的Variable記得將requires_grad設成True，當只需要得到結果而不需要更新的Variable可以將volatile設成True加快運算速度。"
   ]
  },
  {
   "cell_type": "markdown",
   "metadata": {},
   "source": [
    "## Autograd\n",
    "    如同上面所說的，反向傳播是我們現在廣泛使用的更新模型方式。當我們定義了誤差如何計算的同時，其實也隱含定義了反向傳播的傳遞方向。這正是Autograd的運作原理：藉由前面所說的有向圖，PyTorch可以自動幫我們計算梯度。我們只要對於誤差的Variable物件呼叫backward函數，就可以把沿途所用到參數的gradient都計算出來，儲存在各個參數的grad屬性裡。最後，更新每個參數的data值。通常，我們使用優化器（optimizer）來更新它們。\n",
    "\n",
    "    優化器的使用方法也非常簡單。首先在初始化優化器時提供被更新參數的清單。在每一次更新前，先呼叫優化器的zero_grad把上一次更新時用到的梯度歸零（這一步很容易忘記。如果沒有做，backward得到的梯度會被累加）。接著，呼叫backward將參數的grad算出來後，再呼叫step利用儲存的grad和data來計算新的data的值。\n",
    "\n",
    "    就讓我們延續上面的範例來解釋使用原理。"
   ]
  },
  {
   "cell_type": "code",
   "execution_count": 7,
   "metadata": {
    "ExecuteTime": {
     "end_time": "2019-02-13T16:47:51.354437Z",
     "start_time": "2019-02-13T16:47:51.342438Z"
    }
   },
   "outputs": [
    {
     "name": "stdout",
     "output_type": "stream",
     "text": [
      "tensor([[-7.4506e-08, -7.4506e-08, -7.4506e-08],\n",
      "        [-7.4506e-08, -7.4506e-08, -7.4506e-08],\n",
      "        [-7.4506e-08, -7.4506e-08, -7.4506e-08],\n",
      "        [-7.4506e-08, -7.4506e-08, -7.4506e-08],\n",
      "        [-7.4506e-08, -7.4506e-08, -7.4506e-08]], requires_grad=True)\n",
      "tensor([[-7.4506e-08, -7.4506e-08, -7.4506e-08],\n",
      "        [-7.4506e-08, -7.4506e-08, -7.4506e-08],\n",
      "        [-7.4506e-08, -7.4506e-08, -7.4506e-08],\n",
      "        [-7.4506e-08, -7.4506e-08, -7.4506e-08],\n",
      "        [-7.4506e-08, -7.4506e-08, -7.4506e-08]], requires_grad=True)\n"
     ]
    }
   ],
   "source": [
    "import torch\n",
    "from torch.autograd import Variable\n",
    "from torch.optim import SGD\n",
    "\n",
    "m1 = torch.ones(5, 3)\n",
    "m2 = torch.ones(5, 3)\n",
    "\n",
    "# 記得要將requires_grad設成True\n",
    "a = Variable(m1, requires_grad=True)\n",
    "b = Variable(m2, requires_grad=True)\n",
    "\n",
    "# 初始化優化器，使用SGD這個更新方式來更新a和b\n",
    "optimizer = SGD([a, b], lr=0.1)\n",
    "\n",
    "for _ in range(10):        # 我們示範更新10次\n",
    "    loss = (a + b).sum()   # 假設a + b就是我們的loss\n",
    "\n",
    "    optimizer.zero_grad()\n",
    "    loss.backward()\n",
    "    optimizer.step()       # 更新\n",
    "\n",
    "print(a)\n",
    "print(b)"
   ]
  },
  {
   "cell_type": "markdown",
   "metadata": {},
   "source": [
    "    常用的優化器有非常多種：SGD、RMSprop、Adagrad、Adam等等，其中最基本的是SGD，代表Stochastic Gradient Descent。感謝PyTorch良好的架構，選擇不一樣的優化器不會對我們的模型有任何改變。事實上，我們只要將上面程式碼初始化優化器的SGD改變成其他優化器就可以了。不過，不同的優化器可能會因為不同的更新方式而造成最後得到的正確率不同，\n",
    "\n",
    "    最後讓我們簡單重述更新的步驟：\n",
    "\n",
    "    操作現有的參數與輸入的變數，得到預測。利用預測和正確答案定義我們的誤差。\n",
    "    呼叫優化器的zero_grad將上次更新的梯度歸零。\n",
    "    呼叫誤差的backward算出所有參數的梯度。\n",
    "    呼叫優化器的step更新參數。\n",
    "    從上面的例子可以看到，我們通常將這些步驟放在一個for迴圈裡，在訓練時更新數千萬次。"
   ]
  },
  {
   "cell_type": "markdown",
   "metadata": {},
   "source": [
    "## Module\n",
    "    Variable只不過是PyTorch裡建立模型的最小元件。深度學習的模型常常用一層一層的layer來作為變數操作的單位。Layer又是五花八門，常用的有Full-connected layer，Convolutional layer、Recurrent layer等等。每一種layer通常包含不只一個Variable的操作。Pytorch的模組可以把這些操作群組在一起。模組甚至可以包含其他模組，組成一個樹狀結構。如此一來，變數的建立與管理變得十分方便。事實上，我們通常把整個模型包裝成一個模組，這麼做尤其在儲存和載入模型的時候非常有用。"
   ]
  },
  {
   "cell_type": "code",
   "execution_count": 11,
   "metadata": {
    "ExecuteTime": {
     "end_time": "2019-02-13T16:53:39.840660Z",
     "start_time": "2019-02-13T16:53:39.830852Z"
    }
   },
   "outputs": [
    {
     "name": "stdout",
     "output_type": "stream",
     "text": [
      "torch.Size([20, 1, 5, 5])\n",
      "torch.Size([20])\n",
      "torch.Size([20, 20, 5, 5])\n",
      "torch.Size([20])\n",
      "<generator object Module.parameters at 0x7f91155f3410>\n"
     ]
    }
   ],
   "source": [
    "import torch.nn as nn\n",
    "import torch.nn.functional as F\n",
    "\n",
    "class Model(nn.Module):\n",
    "    def __init__(self):\n",
    "        super().__init__()\n",
    "        self.conv1 = nn.Conv2d(1, 20, 5)    # 註冊了conv1這個名字\n",
    "        self.conv2 = nn.Conv2d(20, 20, 5)   # 註冊了conv2這個名字\n",
    "\n",
    "    def forward(self, x):\n",
    "        x = F.relu(self.conv1(x))\n",
    "        return F.relu(self.conv2(x))\n",
    "# 會印出4個參數'conv1.weight', 'conv1.bias', 'conv2.weight', 'conv2.bias'的值\n",
    "print(Model().parameters())  \n",
    "for p in Model().parameters():\n",
    "    print(p.shape) \n",
    "     # 20個Feature Map, 5x5 filters參數, 只有1個input channel\n",
    "     # 20個Feature Map, 5x5 filters參數, input有20個input channels\n",
    "    "
   ]
  },
  {
   "cell_type": "markdown",
   "metadata": {},
   "source": [
    "## More APIs"
   ]
  },
  {
   "cell_type": "markdown",
   "metadata": {},
   "source": [
    "`https://pytorch.org/docs/stable/torch.html`"
   ]
  },
  {
   "cell_type": "markdown",
   "metadata": {},
   "source": [
    "# Activation\n",
    "`https://morvanzhou.github.io/tutorials/machine-learning/torch/2-03-activation/`"
   ]
  },
  {
   "cell_type": "code",
   "execution_count": 6,
   "metadata": {
    "ExecuteTime": {
     "end_time": "2019-02-16T03:15:10.396515Z",
     "start_time": "2019-02-16T03:15:10.393236Z"
    }
   },
   "outputs": [],
   "source": [
    "import torch\n",
    "import torch.nn.functional as F\n",
    "from torch.autograd import Variable\n",
    "import matplotlib.pyplot as plt"
   ]
  },
  {
   "cell_type": "code",
   "execution_count": 20,
   "metadata": {
    "ExecuteTime": {
     "end_time": "2019-02-16T03:20:35.366626Z",
     "start_time": "2019-02-16T03:20:35.356995Z"
    },
    "scrolled": true
   },
   "outputs": [
    {
     "name": "stdout",
     "output_type": "stream",
     "text": [
      "[0.00671535 0.00706021 0.00742271 0.00780375 0.00820427 0.00862527\n",
      " 0.00906776 0.00953285 0.01002167 0.01053544 0.01107538 0.01164285\n",
      " 0.01223921 0.01286592 0.0135245  0.01421656 0.01494376 0.01570788\n",
      " 0.01651074 0.01735429 0.01824053 0.01917161 0.02014974 0.02117724\n",
      " 0.02225655 0.02339024 0.02458096 0.02583152 0.02714485 0.028524\n",
      " 0.02997218 0.03149272 0.03308915 0.03476509 0.03652439 0.03837101\n",
      " 0.04030914 0.04234309 0.04447743 0.04671685 0.04906628 0.05153086\n",
      " 0.0541159  0.05682698 0.05966987 0.06265058 0.06577535 0.06905065\n",
      " 0.07248322 0.07608002 0.07984827 0.08379547 0.08792935 0.09225792\n",
      " 0.09678947 0.10153248 0.10649578 0.11168843 0.11711974 0.12279933\n",
      " 0.12873702 0.13494292 0.14142737 0.14820093 0.15527444 0.1626589\n",
      " 0.17036554 0.17840579 0.18679126 0.19553366 0.20464492 0.214137\n",
      " 0.22402205 0.23431218 0.24501958 0.25615656 0.26773518 0.2797676\n",
      " 0.29226586 0.30524188 0.3187074  0.33267394 0.34715295 0.3621552\n",
      " 0.37769172 0.39377248 0.41040775 0.42760688 0.44537872 0.4637321\n",
      " 0.4826745  0.5022138  0.5223561  0.543108   0.56447434 0.58646023\n",
      " 0.60906917 0.63230467 0.65616876 0.68066335 0.70578885 0.73154575\n",
      " 0.75793266 0.78494865 0.8125907  0.8408563  0.86974096 0.89924055\n",
      " 0.9293495  0.9600615  0.9913703  1.0232682  1.0557476  1.0887997\n",
      " 1.1224159  1.1565862  1.1913011  1.2265499  1.2623223  1.2986069\n",
      " 1.3353927  1.3726678  1.4104209  1.4486395  1.4873124  1.5264266\n",
      " 1.5659705  1.6059314  1.6462978  1.6870573  1.728197   1.769706\n",
      " 1.8115716  1.8537828  1.8963273  1.9391942  1.9823718  2.0258496\n",
      " 2.0696163  2.1136618  2.1579752  2.202547   2.2473667  2.2924256\n",
      " 2.3377132  2.3832216  2.4289412  2.474864   2.5209813  2.5672855\n",
      " 2.6137688  2.660423   2.7072418  2.7542176  2.8013444  2.8486147\n",
      " 2.8960233  2.9435632  2.9912295  3.039016   3.086918   3.1349297\n",
      " 3.1830463  3.2312644  3.2795773  3.3279815  3.3764732  3.4250493\n",
      " 3.4737039  3.5224342  3.571237   3.62011    3.6690476  3.718048\n",
      " 3.7671094  3.8162267  3.8653984  3.9146218  3.9638958  4.0132155\n",
      " 4.0625806  4.111988   4.161437   4.2109237  4.2604475  4.3100066\n",
      " 4.3596     4.409224   4.458879   4.5085626  4.5582743  4.6080117\n",
      " 4.657774   4.7075605  4.757369   4.8071995  4.85705    4.906921\n",
      " 4.956809   5.0067153 ]\n"
     ]
    }
   ],
   "source": [
    "# fake data\n",
    "\n",
    "x = torch.linspace(-5, 5, 200)\n",
    "x = Variable(x)\n",
    "x_np = x.data.numpy() # Variable.data -> tensor -> numpy\n",
    "\n",
    "# 幾個常用的Activation function\n",
    "y_relu = torch.relu(x).data.numpy()\n",
    "y_sigmoid = torch.sigmoid(x).data.numpy()\n",
    "y_tanh = torch.tanh(x).data.numpy()\n",
    "y_softplus = F.softplus(x).data.numpy()\n",
    "# y_softmax = F.softmax(x)  softmax 比较特殊, 不能直接显示, 不过他是关于概率的, 用于分类\n",
    "print(y_softplus)"
   ]
  },
  {
   "cell_type": "code",
   "execution_count": 11,
   "metadata": {
    "ExecuteTime": {
     "end_time": "2019-02-16T03:16:47.172482Z",
     "start_time": "2019-02-16T03:16:46.590624Z"
    }
   },
   "outputs": [
    {
     "data": {
      "image/png": "[encoded data removed]",
      "text/plain": [
       "<Figure size 576x432 with 4 Axes>"
      ]
     },
     "metadata": {},
     "output_type": "display_data"
    }
   ],
   "source": [
    "plt.style.use(\"seaborn\")\n",
    "\n",
    "plt.figure(1, figsize=(8, 6))\n",
    "plt.subplot(221)\n",
    "plt.plot(x_np, y_relu, c='red', label='relu')\n",
    "plt.ylim((-1, 5))\n",
    "plt.legend(loc='best')\n",
    "\n",
    "plt.subplot(222)\n",
    "plt.plot(x_np, y_sigmoid, c='red', label='sigmoid')\n",
    "plt.ylim((-0.2, 1.2))\n",
    "plt.legend(loc='best')\n",
    "\n",
    "plt.subplot(223)\n",
    "plt.plot(x_np, y_tanh, c='red', label='tanh')\n",
    "plt.ylim((-1.2, 1.2))\n",
    "plt.legend(loc='best')\n",
    "\n",
    "plt.subplot(224)\n",
    "plt.plot(x_np, y_softplus, c='red', label='softplus')\n",
    "plt.ylim((-0.2, 6))\n",
    "plt.legend(loc='best')\n",
    "\n",
    "plt.show()"
   ]
  },
  {
   "cell_type": "markdown",
   "metadata": {},
   "source": [
    "# Loss Function"
   ]
  },
  {
   "cell_type": "code",
   "execution_count": 14,
   "metadata": {
    "ExecuteTime": {
     "end_time": "2019-02-19T17:17:40.858614Z",
     "start_time": "2019-02-19T17:17:40.848832Z"
    }
   },
   "outputs": [
    {
     "name": "stdout",
     "output_type": "stream",
     "text": [
      "tensor([2, 0, 1])\n"
     ]
    },
    {
     "data": {
      "text/plain": [
       "tensor(1.5514)"
      ]
     },
     "execution_count": 14,
     "metadata": {},
     "output_type": "execute_result"
    }
   ],
   "source": [
    "y1 = torch.FloatTensor([[0, 1, 0], [0, 0, 1], [1, 0, 0]])\n",
    "_, targets = y1.max(dim=0)\n",
    "print(targets)\n",
    "\n",
    "# loss_val = nn.CrossEntropyLoss()(out, y) -> 感覺是個__call__的class\n",
    "# input是softmax,output是labrls(不用one-hot)\n",
    "torch.nn.CrossEntropyLoss()(torch.FloatTensor([[1, 0, 0], [0, 0, 1], [1, 0, 0]]), \n",
    "                            targets) "
   ]
  },
  {
   "cell_type": "code",
   "execution_count": 13,
   "metadata": {
    "ExecuteTime": {
     "end_time": "2019-02-19T17:16:47.177709Z",
     "start_time": "2019-02-19T17:16:47.170773Z"
    }
   },
   "outputs": [
    {
     "name": "stdout",
     "output_type": "stream",
     "text": [
      "tensor([[-0.0772, -1.8505, -0.8207, -0.0742, -0.2334],\n",
      "        [-1.2161,  1.7458, -0.5375,  0.8728,  0.7215],\n",
      "        [ 0.0274,  0.5122, -1.4962, -1.1980,  0.1231]], requires_grad=True)\n",
      "tensor([2, 4, 4])\n"
     ]
    }
   ],
   "source": [
    "print(torch.randn(3, 5, requires_grad=True))\n",
    "print(torch.empty(3, dtype=torch.long).random_(5))"
   ]
  }
 ],
 "metadata": {
  "kernelspec": {
   "display_name": "Python 3",
   "language": "python",
   "name": "python3"
  },
  "language_info": {
   "codemirror_mode": {
    "name": "ipython",
    "version": 3
   },
   "file_extension": ".py",
   "mimetype": "text/x-python",
   "name": "python",
   "nbconvert_exporter": "python",
   "pygments_lexer": "ipython3",
   "version": "3.6.6"
  },
  "toc": {
   "base_numbering": 1,
   "nav_menu": {},
   "number_sections": true,
   "sideBar": true,
   "skip_h1_title": false,
   "title_cell": "Table of Contents",
   "title_sidebar": "Contents",
   "toc_cell": false,
   "toc_position": {},
   "toc_section_display": true,
   "toc_window_display": true
  },
  "varInspector": {
   "cols": {
    "lenName": 16,
    "lenType": 16,
    "lenVar": 40
   },
   "kernels_config": {
    "python": {
     "delete_cmd_postfix": "",
     "delete_cmd_prefix": "del ",
     "library": "var_list.py",
     "varRefreshCmd": "print(var_dic_list())"
    },
    "r": {
     "delete_cmd_postfix": ") ",
     "delete_cmd_prefix": "rm(",
     "library": "var_list.r",
     "varRefreshCmd": "cat(var_dic_list()) "
    }
   },
   "types_to_exclude": [
    "module",
    "function",
    "builtin_function_or_method",
    "instance",
    "_Feature"
   ],
   "window_display": false
  }
 },
 "nbformat": 4,
 "nbformat_minor": 2
}
