{
 "cells": [
  {
   "cell_type": "markdown",
   "metadata": {},
   "source": [
    "# Import"
   ]
  },
  {
   "cell_type": "code",
   "execution_count": 18,
   "metadata": {
    "ExecuteTime": {
     "end_time": "2019-04-08T16:49:08.575435Z",
     "start_time": "2019-04-08T16:49:08.443594Z"
    }
   },
   "outputs": [
    {
     "data": {
      "image/png": "[encoded data removed]",
      "text/plain": [
       "<matplotlib.figure.Figure at 0x7fc5e81d3278>"
      ]
     },
     "metadata": {
      "needs_background": "light"
     },
     "output_type": "display_data"
    }
   ],
   "source": [
    "import torch\n",
    "from torch.autograd import Variable\n",
    "import numpy as np\n",
    "import random\n",
    "import matplotlib.pyplot as plt\n",
    "from torch import nn\n",
    "\n",
    "x = torch.unsqueeze(torch.linspace(-1, 1, 100), dim=1)  # expand_dims\n",
    "y = 3 * x + 10 + torch.rand(x.size())\n",
    "# 上面这行代码是制造出接近y=3x+10的数据集，后面加上torch.rand()函数制造噪音\n",
    "\n",
    "# 画图\n",
    "plt.scatter(x.data.numpy(), y.data.numpy())\n",
    "plt.show()\n",
    "# ---------------------\n",
    "# 作者：Liam Coder\n",
    "# 来源：CSDN\n",
    "# 原文：https://blog.csdn.net/out_of_memory_error/article/details/81262309\n",
    "# 版权声明：本文为博主原创文章，转载请附上博文链接！"
   ]
  },
  {
   "cell_type": "code",
   "execution_count": 12,
   "metadata": {
    "ExecuteTime": {
     "end_time": "2019-04-08T16:44:42.442672Z",
     "start_time": "2019-04-08T16:44:42.438243Z"
    }
   },
   "outputs": [],
   "source": [
    "class LinearRegression(nn.Module):\n",
    "    def __init__(self):\n",
    "        super().__init__()\n",
    "        self.linear = nn.Linear(1, 1) # 输入和输出的维度都是1\n",
    "        \n",
    "    def forward(self, x):\n",
    "        out = self.linear(x)\n",
    "        return out"
   ]
  },
  {
   "cell_type": "code",
   "execution_count": 13,
   "metadata": {
    "ExecuteTime": {
     "end_time": "2019-04-08T16:44:55.084211Z",
     "start_time": "2019-04-08T16:44:55.080137Z"
    }
   },
   "outputs": [],
   "source": [
    "if torch.cuda.is_available():\n",
    "    model = LinearRegression().cuda()\n",
    "else:\n",
    "    model = LinearRegression()"
   ]
  },
  {
   "cell_type": "code",
   "execution_count": 15,
   "metadata": {
    "ExecuteTime": {
     "end_time": "2019-04-08T16:45:40.184811Z",
     "start_time": "2019-04-08T16:45:40.181177Z"
    }
   },
   "outputs": [],
   "source": [
    "# Loss & Optimizer\n",
    "criterion = nn.MSELoss()\n",
    "optimizer = torch.optim.SGD(model.parameters(), lr=1e-2)  # model's weights"
   ]
  },
  {
   "cell_type": "markdown",
   "metadata": {
    "ExecuteTime": {
     "end_time": "2019-04-08T16:45:42.959068Z",
     "start_time": "2019-04-08T16:45:42.954528Z"
    }
   },
   "source": [
    "# Training"
   ]
  },
  {
   "cell_type": "code",
   "execution_count": 29,
   "metadata": {
    "ExecuteTime": {
     "end_time": "2019-04-08T16:52:12.765579Z",
     "start_time": "2019-04-08T16:52:12.563623Z"
    }
   },
   "outputs": [
    {
     "name": "stdout",
     "output_type": "stream",
     "text": [
      "Epoch[20/1000], loss:0.5260727405548096\n",
      "Epoch[40/1000], loss:0.39098823070526123\n",
      "Epoch[60/1000], loss:0.3040233254432678\n",
      "Epoch[80/1000], loss:0.24489738047122955\n",
      "Epoch[100/1000], loss:0.20304438471794128\n",
      "Epoch[120/1000], loss:0.1725931018590927\n",
      "Epoch[140/1000], loss:0.1500418335199356\n",
      "Epoch[160/1000], loss:0.13315661251544952\n",
      "Epoch[180/1000], loss:0.12042947113513947\n",
      "Epoch[200/1000], loss:0.11079821735620499\n",
      "Epoch[220/1000], loss:0.10349252820014954\n",
      "Epoch[240/1000], loss:0.09794309735298157\n",
      "Epoch[260/1000], loss:0.09372436255216599\n",
      "Epoch[280/1000], loss:0.0905156061053276\n",
      "Epoch[300/1000], loss:0.08807437121868134\n",
      "Epoch[320/1000], loss:0.08621678501367569\n",
      "Epoch[340/1000], loss:0.08480312675237656\n",
      "Epoch[360/1000], loss:0.08372734487056732\n",
      "Epoch[380/1000], loss:0.0829085186123848\n",
      "Epoch[400/1000], loss:0.0822853296995163\n",
      "Epoch[420/1000], loss:0.08181101083755493\n",
      "Epoch[440/1000], loss:0.08145003765821457\n",
      "Epoch[460/1000], loss:0.08117534220218658\n",
      "Epoch[480/1000], loss:0.08096626400947571\n",
      "Epoch[500/1000], loss:0.08080707490444183\n",
      "Epoch[520/1000], loss:0.08068597316741943\n",
      "Epoch[540/1000], loss:0.08059373497962952\n",
      "Epoch[560/1000], loss:0.08052358776330948\n",
      "Epoch[580/1000], loss:0.08047017455101013\n",
      "Epoch[600/1000], loss:0.0804295539855957\n",
      "Epoch[620/1000], loss:0.08039861917495728\n",
      "Epoch[640/1000], loss:0.0803750529885292\n",
      "Epoch[660/1000], loss:0.0803571566939354\n",
      "Epoch[680/1000], loss:0.08034349977970123\n",
      "Epoch[700/1000], loss:0.08033312857151031\n",
      "Epoch[720/1000], loss:0.08032521605491638\n",
      "Epoch[740/1000], loss:0.08031915873289108\n",
      "Epoch[760/1000], loss:0.08031460642814636\n",
      "Epoch[780/1000], loss:0.08031114190816879\n",
      "Epoch[800/1000], loss:0.08030851930379868\n",
      "Epoch[820/1000], loss:0.08030647784471512\n",
      "Epoch[840/1000], loss:0.08030494302511215\n",
      "Epoch[860/1000], loss:0.08030378073453903\n",
      "Epoch[880/1000], loss:0.080302894115448\n",
      "Epoch[900/1000], loss:0.08030219376087189\n",
      "Epoch[920/1000], loss:0.0803016796708107\n",
      "Epoch[940/1000], loss:0.08030126988887787\n",
      "Epoch[960/1000], loss:0.08030100166797638\n",
      "Epoch[980/1000], loss:0.08030075579881668\n",
      "Epoch[1000/1000], loss:0.08030058443546295\n"
     ]
    }
   ],
   "source": [
    "num_epochs = 1000\n",
    "for epoch in range(num_epochs):\n",
    "    if torch.cuda.is_available():\n",
    "        inputs = Variable(x).cuda()\n",
    "        target = Variable(y).cuda()\n",
    "    else:\n",
    "        inputs = Variable(x)\n",
    "        target = Variable(y)\n",
    "\n",
    "    # 向前传播\n",
    "    out = model(inputs)\n",
    "    loss = criterion(out, target)\n",
    "\n",
    "    # 向后传播\n",
    "    optimizer.zero_grad() # 注意每次迭代都需要清零\n",
    "    loss.backward()\n",
    "    optimizer.step()\n",
    "    \n",
    "    if (epoch + 1) % 20 == 0:\n",
    "        print('Epoch[{0}/{1}], loss:{2}'.format(epoch + 1, num_epochs, loss.data))"
   ]
  },
  {
   "cell_type": "code",
   "execution_count": 36,
   "metadata": {
    "ExecuteTime": {
     "end_time": "2019-04-08T16:54:37.347998Z",
     "start_time": "2019-04-08T16:54:37.210594Z"
    }
   },
   "outputs": [
    {
     "data": {
      "image/png": "[encoded data removed]",
      "text/plain": [
       "<matplotlib.figure.Figure at 0x7fc5e7819be0>"
      ]
     },
     "metadata": {
      "needs_background": "light"
     },
     "output_type": "display_data"
    }
   ],
   "source": [
    "\"\"\"\n",
    "特别注意的是需要用 model.eval()，让model变成测试模式，\n",
    "这主要是对dropout和batch normalization的操作在训练和测试的时候是不一样的\n",
    "\"\"\"\n",
    "model.eval() # eval mode\n",
    "model.train() # train mode\n",
    "if torch.cuda.is_available():\n",
    "    predict = model(Variable(x).cuda())\n",
    "    predict = predict.data.cpu().numpy()\n",
    "else:\n",
    "    predict = model(Variable(x))\n",
    "    predict = predict.data.numpy()\n",
    "plt.plot(x.numpy(), y.numpy(), 'ro', label='Original Data')\n",
    "plt.plot(x.numpy(), predict, label='Fitting Line')\n",
    "plt.show()"
   ]
  },
  {
   "cell_type": "code",
   "execution_count": null,
   "metadata": {},
   "outputs": [],
   "source": []
  }
 ],
 "metadata": {
  "kernelspec": {
   "display_name": "Python 3",
   "language": "python",
   "name": "python3"
  },
  "language_info": {
   "codemirror_mode": {
    "name": "ipython",
    "version": 3
   },
   "file_extension": ".py",
   "mimetype": "text/x-python",
   "name": "python",
   "nbconvert_exporter": "python",
   "pygments_lexer": "ipython3",
   "version": "3.6.6"
  },
  "toc": {
   "base_numbering": 1,
   "nav_menu": {},
   "number_sections": true,
   "sideBar": true,
   "skip_h1_title": false,
   "title_cell": "Table of Contents",
   "title_sidebar": "Contents",
   "toc_cell": false,
   "toc_position": {},
   "toc_section_display": true,
   "toc_window_display": true
  },
  "varInspector": {
   "cols": {
    "lenName": 16,
    "lenType": 16,
    "lenVar": 40
   },
   "kernels_config": {
    "python": {
     "delete_cmd_postfix": "",
     "delete_cmd_prefix": "del ",
     "library": "var_list.py",
     "varRefreshCmd": "print(var_dic_list())"
    },
    "r": {
     "delete_cmd_postfix": ") ",
     "delete_cmd_prefix": "rm(",
     "library": "var_list.r",
     "varRefreshCmd": "cat(var_dic_list()) "
    }
   },
   "types_to_exclude": [
    "module",
    "function",
    "builtin_function_or_method",
    "instance",
    "_Feature"
   ],
   "window_display": false
  }
 },
 "nbformat": 4,
 "nbformat_minor": 2
}
