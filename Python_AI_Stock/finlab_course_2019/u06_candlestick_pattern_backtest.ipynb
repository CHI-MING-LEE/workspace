{
 "cells": [
  {
   "cell_type": "markdown",
   "metadata": {},
   "source": [
    "# 蠟燭線回測\n",
    "### 初始資料拿取"
   ]
  },
  {
   "cell_type": "code",
   "execution_count": 3,
   "metadata": {
    "ExecuteTime": {
     "end_time": "2020-02-02T07:00:49.163925Z",
     "start_time": "2020-02-02T07:00:44.004694Z"
    }
   },
   "outputs": [],
   "source": [
    "import numpy as np\n",
    "import pandas as pd\n",
    "from talib import abstract\n",
    "from finlab.data import Data\n",
    "\n",
    "%matplotlib inline\n",
    "\n",
    "data = Data()\n",
    "\n",
    "signal = data.talib('CDLTRISTAR')\n",
    "\n",
    "close = data.get_adj('收盤價')\n",
    "open_ = data.get_adj('開盤價')"
   ]
  },
  {
   "cell_type": "code",
   "execution_count": 4,
   "metadata": {
    "ExecuteTime": {
     "end_time": "2020-02-02T07:00:50.902172Z",
     "start_time": "2020-02-02T07:00:50.288633Z"
    },
    "scrolled": true
   },
   "outputs": [
    {
     "data": {
      "text/plain": [
       "      date      \n",
       "0015  2012-03-12   -100\n",
       "      2012-05-21    100\n",
       "      2012-11-01    100\n",
       "0050  2012-11-19    100\n",
       "      2015-04-01   -100\n",
       "0051  2015-04-13    100\n",
       "0052  2009-02-26   -100\n",
       "      2009-12-10    100\n",
       "      2010-04-21    100\n",
       "      2010-07-30   -100\n",
       "      2011-01-12    100\n",
       "      2011-06-28    100\n",
       "      2012-05-11    100\n",
       "      2012-10-24   -100\n",
       "      2013-09-18   -100\n",
       "      2013-10-28   -100\n",
       "      2013-12-17    100\n",
       "      2014-05-12    100\n",
       "      2014-12-10    100\n",
       "      2014-12-11   -100\n",
       "      2014-12-12    100\n",
       "      2014-12-15   -100\n",
       "      2016-01-30   -100\n",
       "      2016-02-01    100\n",
       "      2016-03-25    100\n",
       "      2016-09-01   -100\n",
       "      2016-09-02    100\n",
       "      2016-10-12   -100\n",
       "      2016-12-08    100\n",
       "      2017-01-06   -100\n",
       "                   ... \n",
       "9949  2013-10-11   -100\n",
       "      2016-05-18   -100\n",
       "      2016-11-10    100\n",
       "      2018-03-05    100\n",
       "      2018-08-08    100\n",
       "      2019-01-23    100\n",
       "9950  2008-09-03    100\n",
       "      2013-10-28   -100\n",
       "      2016-05-11   -100\n",
       "      2016-12-29   -100\n",
       "      2019-06-06   -100\n",
       "9951  2007-12-21   -100\n",
       "      2007-12-24    100\n",
       "      2009-07-22   -100\n",
       "      2011-05-18    100\n",
       "      2011-10-19    100\n",
       "9955  2010-06-02    100\n",
       "9958  2008-09-30   -100\n",
       "      2010-11-03   -100\n",
       "      2010-11-23   -100\n",
       "      2012-06-21   -100\n",
       "      2017-06-22    100\n",
       "      2017-06-26    100\n",
       "9960  2008-06-04    100\n",
       "      2008-10-22   -100\n",
       "      2015-11-11   -100\n",
       "      2017-03-20   -100\n",
       "      2018-12-21   -100\n",
       "      2019-01-15   -100\n",
       "9962  2016-05-24   -100\n",
       "Length: 7737, dtype: int32"
      ]
     },
     "execution_count": 4,
     "metadata": {},
     "output_type": "execute_result"
    }
   ],
   "source": [
    "signal.unstack()[signal.unstack() != 0]"
   ]
  },
  {
   "cell_type": "markdown",
   "metadata": {},
   "source": [
    "### 取得ETF股票資訊"
   ]
  },
  {
   "cell_type": "code",
   "execution_count": 5,
   "metadata": {
    "ExecuteTime": {
     "end_time": "2020-02-02T07:00:51.707049Z",
     "start_time": "2020-02-02T07:00:51.702654Z"
    }
   },
   "outputs": [
    {
     "data": {
      "text/plain": [
       "Index(['0015', '0050', '0051', '0052', '0053', '0054', '0055', '0056', '0057',\n",
       "       '0058',\n",
       "       ...\n",
       "       '9944', '9945', '9946', '9949', '9950', '9951', '9955', '9958', '9960',\n",
       "       '9962'],\n",
       "      dtype='object', name='stock_id', length=1893)"
      ]
     },
     "execution_count": 5,
     "metadata": {},
     "output_type": "execute_result"
    }
   ],
   "source": [
    "# 看股票名稱，挑ETF股(005..開頭)\n",
    "close.columns"
   ]
  },
  {
   "cell_type": "code",
   "execution_count": 6,
   "metadata": {
    "ExecuteTime": {
     "end_time": "2020-02-02T07:00:52.536273Z",
     "start_time": "2020-02-02T07:00:52.512748Z"
    }
   },
   "outputs": [
    {
     "data": {
      "text/html": [
       "<div>\n",
       "<style scoped>\n",
       "    .dataframe tbody tr th:only-of-type {\n",
       "        vertical-align: middle;\n",
       "    }\n",
       "\n",
       "    .dataframe tbody tr th {\n",
       "        vertical-align: top;\n",
       "    }\n",
       "\n",
       "    .dataframe thead th {\n",
       "        text-align: right;\n",
       "    }\n",
       "</style>\n",
       "<table border=\"1\" class=\"dataframe\">\n",
       "  <thead>\n",
       "    <tr style=\"text-align: right;\">\n",
       "      <th></th>\n",
       "      <th>0050</th>\n",
       "      <th>0051</th>\n",
       "      <th>0052</th>\n",
       "      <th>0053</th>\n",
       "      <th>0054</th>\n",
       "      <th>0055</th>\n",
       "      <th>0056</th>\n",
       "      <th>0057</th>\n",
       "      <th>0058</th>\n",
       "      <th>0059</th>\n",
       "    </tr>\n",
       "    <tr>\n",
       "      <th>date</th>\n",
       "      <th></th>\n",
       "      <th></th>\n",
       "      <th></th>\n",
       "      <th></th>\n",
       "      <th></th>\n",
       "      <th></th>\n",
       "      <th></th>\n",
       "      <th></th>\n",
       "      <th></th>\n",
       "      <th></th>\n",
       "    </tr>\n",
       "  </thead>\n",
       "  <tbody>\n",
       "    <tr>\n",
       "      <th>2007-04-23</th>\n",
       "      <td>0</td>\n",
       "      <td>0</td>\n",
       "      <td>0</td>\n",
       "      <td>0</td>\n",
       "      <td>0</td>\n",
       "      <td>0</td>\n",
       "      <td>0</td>\n",
       "      <td>0</td>\n",
       "      <td>0</td>\n",
       "      <td>0</td>\n",
       "    </tr>\n",
       "    <tr>\n",
       "      <th>2007-04-24</th>\n",
       "      <td>0</td>\n",
       "      <td>0</td>\n",
       "      <td>0</td>\n",
       "      <td>0</td>\n",
       "      <td>0</td>\n",
       "      <td>0</td>\n",
       "      <td>0</td>\n",
       "      <td>0</td>\n",
       "      <td>0</td>\n",
       "      <td>0</td>\n",
       "    </tr>\n",
       "    <tr>\n",
       "      <th>2007-04-25</th>\n",
       "      <td>0</td>\n",
       "      <td>0</td>\n",
       "      <td>0</td>\n",
       "      <td>0</td>\n",
       "      <td>0</td>\n",
       "      <td>0</td>\n",
       "      <td>0</td>\n",
       "      <td>0</td>\n",
       "      <td>0</td>\n",
       "      <td>0</td>\n",
       "    </tr>\n",
       "    <tr>\n",
       "      <th>2007-04-26</th>\n",
       "      <td>0</td>\n",
       "      <td>0</td>\n",
       "      <td>0</td>\n",
       "      <td>0</td>\n",
       "      <td>0</td>\n",
       "      <td>0</td>\n",
       "      <td>0</td>\n",
       "      <td>0</td>\n",
       "      <td>0</td>\n",
       "      <td>0</td>\n",
       "    </tr>\n",
       "    <tr>\n",
       "      <th>2007-04-27</th>\n",
       "      <td>0</td>\n",
       "      <td>0</td>\n",
       "      <td>0</td>\n",
       "      <td>0</td>\n",
       "      <td>0</td>\n",
       "      <td>0</td>\n",
       "      <td>0</td>\n",
       "      <td>0</td>\n",
       "      <td>0</td>\n",
       "      <td>0</td>\n",
       "    </tr>\n",
       "  </tbody>\n",
       "</table>\n",
       "</div>"
      ],
      "text/plain": [
       "            0050  0051  0052  0053  0054  0055  0056  0057  0058  0059\n",
       "date                                                                  \n",
       "2007-04-23     0     0     0     0     0     0     0     0     0     0\n",
       "2007-04-24     0     0     0     0     0     0     0     0     0     0\n",
       "2007-04-25     0     0     0     0     0     0     0     0     0     0\n",
       "2007-04-26     0     0     0     0     0     0     0     0     0     0\n",
       "2007-04-27     0     0     0     0     0     0     0     0     0     0"
      ]
     },
     "execution_count": 6,
     "metadata": {},
     "output_type": "execute_result"
    }
   ],
   "source": [
    "sids = close.columns[1:11]\n",
    "\n",
    "# only select wanted stock ids\n",
    "signal = signal[sids]\n",
    "close = close[sids]\n",
    "open_ = open_[sids]\n",
    "\n",
    "signal.head()"
   ]
  },
  {
   "cell_type": "markdown",
   "metadata": {},
   "source": [
    "### 計算買入時間"
   ]
  },
  {
   "cell_type": "code",
   "execution_count": 7,
   "metadata": {
    "ExecuteTime": {
     "end_time": "2020-02-02T07:00:53.105618Z",
     "start_time": "2020-02-02T07:00:52.679692Z"
    }
   },
   "outputs": [
    {
     "data": {
      "text/plain": [
       "<matplotlib.axes._subplots.AxesSubplot at 0x7f7978497908>"
      ]
     },
     "execution_count": 7,
     "metadata": {},
     "output_type": "execute_result"
    },
    {
     "data": {
      "image/png": "[encoded data removed]",
      "text/plain": [
       "<matplotlib.figure.Figure at 0x7f7978497080>"
      ]
     },
     "metadata": {},
     "output_type": "display_data"
    }
   ],
   "source": [
    "# 決定策略(買賣時間點)\n",
    "buy = (signal > 0)  # 訊號出現就買\n",
    "sell = close < close.rolling(20).mean()  # 股價小於最近20天的平均，賣出\n",
    "    \n",
    "# 持有的時間\n",
    "hold = pd.DataFrame(np.nan, index=close.index, columns=close.columns)\n",
    "hold[buy] = 1\n",
    "hold[sell] = 0\n",
    "hold.ffill(inplace=True)  # 針對每一條series\n",
    "hold.fillna(0, inplace=True)\n",
    "# 對hold做調整，因為candlestick pattern必須等收盤才能看到，發現訊號後隔天才能做買入的動作\n",
    "# 因此往後推一格代表隔一天買入\n",
    "hold = hold.shift()\n",
    "\n",
    "import matplotlib.pyplot as plt\n",
    "plt.style.use('ggplot')\n",
    "plt.rcParams['figure.figsize'] = (10, 6)\n",
    "hold.plot()"
   ]
  },
  {
   "cell_type": "markdown",
   "metadata": {},
   "source": [
    "### 計算報酬率"
   ]
  },
  {
   "cell_type": "markdown",
   "metadata": {},
   "source": [
    "#### 假設每天都rebalance(不合理)且不考慮手續費\n",
    "假設有三檔股票，則每天都會把資產分三等份重下"
   ]
  },
  {
   "cell_type": "code",
   "execution_count": 8,
   "metadata": {
    "ExecuteTime": {
     "end_time": "2020-02-02T07:00:57.500359Z",
     "start_time": "2020-02-02T07:00:57.284019Z"
    },
    "scrolled": true
   },
   "outputs": [
    {
     "data": {
      "text/plain": [
       "<matplotlib.axes._subplots.AxesSubplot at 0x7f7978b3d128>"
      ]
     },
     "execution_count": 8,
     "metadata": {},
     "output_type": "execute_result"
    },
    {
     "data": {
      "image/png": "[encoded data removed]",
      "text/plain": [
       "<matplotlib.figure.Figure at 0x7f7978b3d9b0>"
      ]
     },
     "metadata": {},
     "output_type": "display_data"
    }
   ],
   "source": [
    "# Daily return\n",
    "# 明天開盤價 除以 今天的開盤價\n",
    "ret = open_.shift(-1) / open_\n",
    "# 如果NaN，填入1代表不漲不跌\n",
    "ret = ret.fillna(1)\n",
    "# 只看持有部分\n",
    "ret[hold != 1] = np.nan\n",
    "ret.mean(axis=1).fillna(1).cumprod().plot() # 累積的績效表\n",
    "\n",
    "# ret.mean(axis=1)[~np.isnan(ret.mean(axis=1).values)]"
   ]
  },
  {
   "cell_type": "code",
   "execution_count": 9,
   "metadata": {
    "ExecuteTime": {
     "end_time": "2020-02-02T07:01:02.107482Z",
     "start_time": "2020-02-02T07:01:01.710707Z"
    }
   },
   "outputs": [
    {
     "data": {
      "text/plain": [
       "<matplotlib.axes._subplots.AxesSubplot at 0x7f79788a2780>"
      ]
     },
     "execution_count": 9,
     "metadata": {},
     "output_type": "execute_result"
    },
    {
     "data": {
      "image/png": "[encoded data removed]",
      "text/plain": [
       "<matplotlib.figure.Figure at 0x7f7978ad3ac8>"
      ]
     },
     "metadata": {},
     "output_type": "display_data"
    }
   ],
   "source": [
    "import matplotlib.pyplot as plt\n",
    "\n",
    "# 明天的開盤價 除以 今天的開盤價 (用ffill是因為可能有NaN)\n",
    "gain = open_.shift(-1).ffill()[sids] / open_.ffill()[sids]\n",
    "eq = (gain[hold == 1].mean(axis=1)).fillna(1).cumprod()  # 看一下買賣策略的整體績效\n",
    "\n",
    "# \n",
    "draw_df = hold.copy()\n",
    "draw_df['eq'] = eq\n",
    "\n",
    "draw_df.plot()"
   ]
  },
  {
   "cell_type": "markdown",
   "metadata": {},
   "source": [
    "### 不要每天都rebalance (回測更精準)\n",
    "當股票有增減的時候再去做權益平衡"
   ]
  },
  {
   "cell_type": "markdown",
   "metadata": {},
   "source": [
    "#### 無考慮手續費的版本"
   ]
  },
  {
   "cell_type": "code",
   "execution_count": 10,
   "metadata": {
    "ExecuteTime": {
     "end_time": "2020-02-02T07:01:06.425948Z",
     "start_time": "2020-02-02T07:01:06.204397Z"
    },
    "scrolled": true
   },
   "outputs": [
    {
     "data": {
      "text/plain": [
       "<matplotlib.axes._subplots.AxesSubplot at 0x7f797875ab00>"
      ]
     },
     "execution_count": 10,
     "metadata": {},
     "output_type": "execute_result"
    },
    {
     "data": {
      "image/png": "[encoded data removed]",
      "text/plain": [
       "<matplotlib.figure.Figure at 0x7f7978778048>"
      ]
     },
     "metadata": {},
     "output_type": "display_data"
    }
   ],
   "source": [
    "(hold.fillna(0).diff().abs().sum(axis=1) != 0).astype(int).plot() # 持有數量有發生變化的訊號"
   ]
  },
  {
   "cell_type": "code",
   "execution_count": 13,
   "metadata": {
    "ExecuteTime": {
     "end_time": "2020-02-02T07:05:42.125385Z",
     "start_time": "2020-02-02T07:05:41.850670Z"
    },
    "scrolled": true
   },
   "outputs": [
    {
     "name": "stdout",
     "output_type": "stream",
     "text": [
      "stock_id    0050  0051  0052  0053  0054  0055  0056  0057  0058  0059\n",
      "date                                                                  \n",
      "2007-04-23   NaN   NaN   NaN   NaN   NaN   NaN   NaN   NaN   NaN   NaN\n",
      "2009-04-27   0.0   0.0   0.0   0.0   0.0   0.0   0.0   0.0   1.0   0.0\n",
      "2009-04-28   0.0   0.0   0.0   0.0   0.0   0.0   0.0   0.0   0.0   0.0\n",
      "2009-07-08   0.0   0.0   0.0   0.0   0.0   0.0   0.0   0.0   1.0   0.0\n",
      "2009-08-13   0.0   0.0   0.0   0.0   0.0   0.0   0.0   0.0   0.0   0.0\n",
      "stock_id        0050      0051      0052      0053      0054      0055  \\\n",
      "date                                                                     \n",
      "2007-04-23  0.773114  0.668026  0.729829  0.615789  0.580870  0.580224   \n",
      "2009-04-27  0.981481  0.972558  1.026942  0.970620  0.976471  0.959271   \n",
      "2009-04-28  1.151447  1.223338  1.040590  1.128233  1.179305  1.319553   \n",
      "2009-07-08  1.059646  1.050821  1.099291  1.100000  1.078125  0.957663   \n",
      "2009-08-13  1.113519  1.067873  1.090323  1.124612  1.181159  1.072502   \n",
      "\n",
      "stock_id        0056      0057      0058      0059  \n",
      "date                                                \n",
      "2007-04-23  0.717131  0.699359  0.724026  0.654947  \n",
      "2009-04-27  0.972222  0.971127  0.969058  0.973684  \n",
      "2009-04-28  1.157714  1.161869  1.144378  1.316757  \n",
      "2009-07-08  1.074531  1.062957  1.091791  0.969212  \n",
      "2009-08-13  1.098988  1.092854  1.135185  1.072850  \n"
     ]
    },
    {
     "data": {
      "text/plain": [
       "<matplotlib.axes._subplots.AxesSubplot at 0x7f79736f5630>"
      ]
     },
     "execution_count": 13,
     "metadata": {},
     "output_type": "execute_result"
    },
    {
     "data": {
      "image/png": "[encoded data removed]",
      "text/plain": [
       "<matplotlib.figure.Figure at 0x7f797896ea20>"
      ]
     },
     "metadata": {},
     "output_type": "display_data"
    }
   ],
   "source": [
    "# Note: 股票清單有變化 != 每檔股票都持有\n",
    "\n",
    "# 找出每個有增減股票的時間段\n",
    "rebalance = (hold.fillna(0).diff().abs().sum(axis=1) != 0).cumsum()\n",
    "rebalance_hold = hold[rebalance.diff() != 0] # 只取股票清單有變化的那一瞬間的列\n",
    "print(rebalance_hold.head())\n",
    "gain = open_.shift(-1).ffill()[sids] / open_.ffill()[sids]\n",
    "\n",
    "# 每個時間段的累乘報酬\n",
    "rebalance_gain = gain.groupby(rebalance.values).apply(lambda s: s.cumprod().iloc[-1])  # groupby每個時間段的累乘報酬，取最後一個\n",
    "rebalance_gain.index = rebalance_hold.index  # index是hold的日期點\n",
    "print(rebalance_gain.head())\n",
    "\n",
    "rebalance_gain[rebalance_hold == 1].mean(axis=1).fillna(1).cumprod().plot() # 只看有持有的股票報酬 整體績效(mean起來)"
   ]
  },
  {
   "cell_type": "markdown",
   "metadata": {},
   "source": [
    "#### 有考慮手續費的版本\n",
    "對股票的資產分配也考慮在內"
   ]
  },
  {
   "cell_type": "code",
   "execution_count": 29,
   "metadata": {
    "ExecuteTime": {
     "end_time": "2020-02-02T07:24:58.332248Z",
     "start_time": "2020-02-02T07:24:58.301955Z"
    },
    "scrolled": true
   },
   "outputs": [
    {
     "name": "stdout",
     "output_type": "stream",
     "text": [
      "stock_id    0050  0051  0052  0053  0054  0055  0056      0057      0058  \\\n",
      "date                                                                       \n",
      "2018-04-10   0.0   0.0   0.0   0.0   0.0   0.0   0.0  0.333333  0.333333   \n",
      "2018-05-31   0.0   0.0   0.0   0.0   0.0   0.0   0.0  0.000000  1.000000   \n",
      "2018-06-20   0.0   0.0   0.0   0.0   0.0   0.0   0.0  0.000000  0.000000   \n",
      "2018-09-17   0.0   0.0   0.0   0.0   0.0   0.0   0.0  0.000000  0.000000   \n",
      "2019-03-27   0.0   0.0   0.0   0.0   0.0   0.0   0.0  0.000000  0.000000   \n",
      "\n",
      "stock_id        0059  \n",
      "date                  \n",
      "2018-04-10  0.333333  \n",
      "2018-05-31  0.000000  \n",
      "2018-06-20  0.000000  \n",
      "2018-09-17  1.000000  \n",
      "2019-03-27  0.000000  \n",
      "stock_id    0050  0051  0052  0053  0054  0055  0056      0057      0058  \\\n",
      "date                                                                       \n",
      "2018-04-10   NaN   NaN   NaN   NaN   NaN   NaN   NaN       NaN       NaN   \n",
      "2018-05-31   0.0   0.0   0.0   0.0   0.0   0.0   0.0 -0.333333  0.666667   \n",
      "2018-06-20   0.0   0.0   0.0   0.0   0.0   0.0   0.0  0.000000 -1.000000   \n",
      "2018-09-17   0.0   0.0   0.0   0.0   0.0   0.0   0.0  0.000000  0.000000   \n",
      "2019-03-27   0.0   0.0   0.0   0.0   0.0   0.0   0.0  0.000000  0.000000   \n",
      "\n",
      "stock_id        0059  \n",
      "date                  \n",
      "2018-04-10       NaN  \n",
      "2018-05-31 -0.333333  \n",
      "2018-06-20  0.000000  \n",
      "2018-09-17  1.000000  \n",
      "2019-03-27 -1.000000  \n",
      "stock_id    0050  0051  0052  0053  0054  0055  0056  0057  0058  0059\n",
      "date                                                                  \n",
      "2018-04-10   0.0   0.0   0.0   0.0   0.0   0.0   0.0   1.0   1.0   1.0\n",
      "2018-05-31   0.0   0.0   0.0   0.0   0.0   0.0   0.0   0.0   1.0   0.0\n",
      "2018-06-20   0.0   0.0   0.0   0.0   0.0   0.0   0.0   0.0   0.0   0.0\n",
      "2018-09-17   0.0   0.0   0.0   0.0   0.0   0.0   0.0   0.0   0.0   1.0\n",
      "2019-03-27   0.0   0.0   0.0   0.0   0.0   0.0   0.0   0.0   0.0   0.0\n"
     ]
    }
   ],
   "source": [
    "print(rebalance_hold.div(rebalance_hold.sum(axis=1), axis=0).tail().fillna(0))\n",
    "print(rebalance_hold.div(rebalance_hold.sum(axis=1), axis=0).tail().fillna(0).diff())\n",
    "print(rebalance_hold.tail())"
   ]
  },
  {
   "cell_type": "code",
   "execution_count": 42,
   "metadata": {
    "ExecuteTime": {
     "end_time": "2020-02-02T08:31:45.982092Z",
     "start_time": "2020-02-02T08:31:45.958863Z"
    }
   },
   "outputs": [
    {
     "data": {
      "text/html": [
       "<div>\n",
       "<style scoped>\n",
       "    .dataframe tbody tr th:only-of-type {\n",
       "        vertical-align: middle;\n",
       "    }\n",
       "\n",
       "    .dataframe tbody tr th {\n",
       "        vertical-align: top;\n",
       "    }\n",
       "\n",
       "    .dataframe thead th {\n",
       "        text-align: right;\n",
       "    }\n",
       "</style>\n",
       "<table border=\"1\" class=\"dataframe\">\n",
       "  <thead>\n",
       "    <tr style=\"text-align: right;\">\n",
       "      <th>stock_id</th>\n",
       "      <th>0050</th>\n",
       "      <th>0051</th>\n",
       "      <th>0052</th>\n",
       "      <th>0053</th>\n",
       "      <th>0054</th>\n",
       "      <th>0055</th>\n",
       "      <th>0056</th>\n",
       "      <th>0057</th>\n",
       "      <th>0058</th>\n",
       "      <th>0059</th>\n",
       "    </tr>\n",
       "    <tr>\n",
       "      <th>date</th>\n",
       "      <th></th>\n",
       "      <th></th>\n",
       "      <th></th>\n",
       "      <th></th>\n",
       "      <th></th>\n",
       "      <th></th>\n",
       "      <th></th>\n",
       "      <th></th>\n",
       "      <th></th>\n",
       "      <th></th>\n",
       "    </tr>\n",
       "  </thead>\n",
       "  <tbody>\n",
       "    <tr>\n",
       "      <th>2018-04-10</th>\n",
       "      <td>0.0</td>\n",
       "      <td>0.0</td>\n",
       "      <td>0.0</td>\n",
       "      <td>0.0</td>\n",
       "      <td>0.0</td>\n",
       "      <td>0.0</td>\n",
       "      <td>0.0</td>\n",
       "      <td>0.333333</td>\n",
       "      <td>0.333333</td>\n",
       "      <td>0.333333</td>\n",
       "    </tr>\n",
       "    <tr>\n",
       "      <th>2018-05-31</th>\n",
       "      <td>0.0</td>\n",
       "      <td>0.0</td>\n",
       "      <td>0.0</td>\n",
       "      <td>0.0</td>\n",
       "      <td>0.0</td>\n",
       "      <td>0.0</td>\n",
       "      <td>0.0</td>\n",
       "      <td>0.000000</td>\n",
       "      <td>1.000000</td>\n",
       "      <td>0.000000</td>\n",
       "    </tr>\n",
       "    <tr>\n",
       "      <th>2018-06-20</th>\n",
       "      <td>NaN</td>\n",
       "      <td>NaN</td>\n",
       "      <td>NaN</td>\n",
       "      <td>NaN</td>\n",
       "      <td>NaN</td>\n",
       "      <td>NaN</td>\n",
       "      <td>NaN</td>\n",
       "      <td>NaN</td>\n",
       "      <td>NaN</td>\n",
       "      <td>NaN</td>\n",
       "    </tr>\n",
       "    <tr>\n",
       "      <th>2018-09-17</th>\n",
       "      <td>0.0</td>\n",
       "      <td>0.0</td>\n",
       "      <td>0.0</td>\n",
       "      <td>0.0</td>\n",
       "      <td>0.0</td>\n",
       "      <td>0.0</td>\n",
       "      <td>0.0</td>\n",
       "      <td>0.000000</td>\n",
       "      <td>0.000000</td>\n",
       "      <td>1.000000</td>\n",
       "    </tr>\n",
       "    <tr>\n",
       "      <th>2019-03-27</th>\n",
       "      <td>NaN</td>\n",
       "      <td>NaN</td>\n",
       "      <td>NaN</td>\n",
       "      <td>NaN</td>\n",
       "      <td>NaN</td>\n",
       "      <td>NaN</td>\n",
       "      <td>NaN</td>\n",
       "      <td>NaN</td>\n",
       "      <td>NaN</td>\n",
       "      <td>NaN</td>\n",
       "    </tr>\n",
       "  </tbody>\n",
       "</table>\n",
       "</div>"
      ],
      "text/plain": [
       "stock_id    0050  0051  0052  0053  0054  0055  0056      0057      0058  \\\n",
       "date                                                                       \n",
       "2018-04-10   0.0   0.0   0.0   0.0   0.0   0.0   0.0  0.333333  0.333333   \n",
       "2018-05-31   0.0   0.0   0.0   0.0   0.0   0.0   0.0  0.000000  1.000000   \n",
       "2018-06-20   NaN   NaN   NaN   NaN   NaN   NaN   NaN       NaN       NaN   \n",
       "2018-09-17   0.0   0.0   0.0   0.0   0.0   0.0   0.0  0.000000  0.000000   \n",
       "2019-03-27   NaN   NaN   NaN   NaN   NaN   NaN   NaN       NaN       NaN   \n",
       "\n",
       "stock_id        0059  \n",
       "date                  \n",
       "2018-04-10  0.333333  \n",
       "2018-05-31  0.000000  \n",
       "2018-06-20       NaN  \n",
       "2018-09-17  1.000000  \n",
       "2019-03-27       NaN  "
      ]
     },
     "execution_count": 42,
     "metadata": {},
     "output_type": "execute_result"
    }
   ],
   "source": [
    "rebalance_hold.tail().div(rebalance_hold.tail().sum(axis=1), axis=0)"
   ]
  },
  {
   "cell_type": "code",
   "execution_count": 48,
   "metadata": {
    "ExecuteTime": {
     "end_time": "2020-02-02T08:44:36.784294Z",
     "start_time": "2020-02-02T08:44:36.480392Z"
    }
   },
   "outputs": [
    {
     "data": {
      "text/plain": [
       "2.585168974922036"
      ]
     },
     "execution_count": 48,
     "metadata": {},
     "output_type": "execute_result"
    },
    {
     "data": {
      "image/png": "[encoded data removed]",
      "text/plain": [
       "<matplotlib.figure.Figure at 0x7f7978d18be0>"
      ]
     },
     "metadata": {},
     "output_type": "display_data"
    }
   ],
   "source": [
    "rebalance_signal = (hold.diff().abs().sum(axis=1) != 0).cumsum()  # 持有數量有發生變化的訊號，把它累加起來(沒變化就是一個時間段)\n",
    "rebalance_hold = hold[rebalance_signal.diff() != 0]  # 找出持有數量前後有變化的時間點\n",
    "rebalance_gain = gain.groupby(rebalance_signal.values).apply(lambda s:s.cumprod().iloc[-1])  # 每個時間段的累乘報酬，取最後一個\n",
    "# 因為是用rebalance去groupby，所以index會留下第一個持有的日期\n",
    "# 從持有到賣出第一個日期代表的就是這檔股票的報酬\n",
    "rebalance_gain.index = rebalance_hold.index  # index是hold的日期點\n",
    "\n",
    "# 手續費(對股票的資產分配也考慮在內)\n",
    "# 下列等同於 rebalance_hold / rebalance_hold.sum(axis=1); 表中的數字代表的意義是\"股票佔資產的比例\"\n",
    "# 找出有增減股票的訊號，分母為0的會自動變nan\n",
    "position_diff = rebalance_hold.div(rebalance_hold.sum(axis=1), axis=0).fillna(0).diff() # 除上股票總數，代表資產分配情形 (3檔就每人分到0.33)\n",
    "tax_ratio = position_diff.copy()\n",
    "tax_ratio[tax_ratio < 0] *= (1.425/1000 + 3/1000)  # 賣出(對每檔股票with資產分配比例)\n",
    "tax_ratio[tax_ratio > 0] *= (1.425/1000)\n",
    "# 把這些ratio by 欄 sum起來當作整體績效\n",
    "tax_ratio = tax_ratio.abs().sum(axis=1)\n",
    "\n",
    "# (1 - tax_ratio) --> cost of transactions\n",
    "# 一樣，算gain(報酬)的時候都是每檔都算，但持不持有是另一回事~下列就是只算有持有的話累積報酬是多少\n",
    "eq2 = (rebalance_gain[rebalance_hold == 1].mean(axis=1).fillna(1) * (1 - tax_ratio)).cumprod()  # 只算有持有的\n",
    "eq2.plot()\n",
    "eq2.iloc[-1]"
   ]
  },
  {
   "cell_type": "markdown",
   "metadata": {},
   "source": [
    "## 考慮手續費"
   ]
  },
  {
   "cell_type": "code",
   "execution_count": 49,
   "metadata": {
    "ExecuteTime": {
     "end_time": "2020-02-02T08:45:11.534286Z",
     "start_time": "2020-02-02T08:45:11.522265Z"
    }
   },
   "outputs": [],
   "source": [
    "history = {\n",
    "    'ret':eq,\n",
    "    'position':hold == 1,\n",
    "}\n",
    "\n",
    "import pickle\n",
    "pickle.dump(history, open('20200202_考慮手續費的蠟燭線回測績效.pkl', 'wb'))"
   ]
  },
  {
   "cell_type": "code",
   "execution_count": 50,
   "metadata": {
    "ExecuteTime": {
     "end_time": "2020-02-02T08:45:25.063083Z",
     "start_time": "2020-02-02T08:45:25.036918Z"
    }
   },
   "outputs": [
    {
     "data": {
      "text/plain": [
       "{'ret': date\n",
       " 2007-04-23    1.000000\n",
       " 2007-04-24    1.000000\n",
       " 2007-04-25    1.000000\n",
       " 2007-04-26    1.000000\n",
       " 2007-04-27    1.000000\n",
       " 2007-04-30    1.000000\n",
       " 2007-05-02    1.000000\n",
       " 2007-05-03    1.000000\n",
       " 2007-05-04    1.000000\n",
       " 2007-05-07    1.000000\n",
       " 2007-05-08    1.000000\n",
       " 2007-05-09    1.000000\n",
       " 2007-05-10    1.000000\n",
       " 2007-05-11    1.000000\n",
       " 2007-05-14    1.000000\n",
       " 2007-05-15    1.000000\n",
       " 2007-05-16    1.000000\n",
       " 2007-05-17    1.000000\n",
       " 2007-05-18    1.000000\n",
       " 2007-05-21    1.000000\n",
       " 2007-05-22    1.000000\n",
       " 2007-05-23    1.000000\n",
       " 2007-05-24    1.000000\n",
       " 2007-05-25    1.000000\n",
       " 2007-05-28    1.000000\n",
       " 2007-05-29    1.000000\n",
       " 2007-05-30    1.000000\n",
       " 2007-05-31    1.000000\n",
       " 2007-06-01    1.000000\n",
       " 2007-06-04    1.000000\n",
       "                 ...   \n",
       " 2019-06-10    2.996423\n",
       " 2019-06-11    2.996423\n",
       " 2019-06-12    2.996423\n",
       " 2019-06-13    2.996423\n",
       " 2019-06-14    2.996423\n",
       " 2019-06-17    2.996423\n",
       " 2019-06-18    2.996423\n",
       " 2019-06-19    2.996423\n",
       " 2019-06-20    2.996423\n",
       " 2019-06-21    2.996423\n",
       " 2019-06-24    2.996423\n",
       " 2019-06-25    2.996423\n",
       " 2019-06-26    2.996423\n",
       " 2019-06-27    2.996423\n",
       " 2019-06-28    2.996423\n",
       " 2019-07-01    2.996423\n",
       " 2019-07-02    2.996423\n",
       " 2019-07-03    2.996423\n",
       " 2019-07-04    2.996423\n",
       " 2019-07-05    2.996423\n",
       " 2019-07-08    2.996423\n",
       " 2019-07-09    2.996423\n",
       " 2019-07-10    2.996423\n",
       " 2019-07-11    2.996423\n",
       " 2019-07-12    2.996423\n",
       " 2019-07-15    2.996423\n",
       " 2019-07-16    2.996423\n",
       " 2019-07-17    2.996423\n",
       " 2019-07-18    2.996423\n",
       " 2019-07-19    2.996423\n",
       " Length: 3029, dtype: float64,\n",
       " 'position': stock_id     0050   0051   0052   0053   0054   0055   0056   0057   0058  \\\n",
       " date                                                                        \n",
       " 2007-04-23  False  False  False  False  False  False  False  False  False   \n",
       " 2007-04-24  False  False  False  False  False  False  False  False  False   \n",
       " 2007-04-25  False  False  False  False  False  False  False  False  False   \n",
       " 2007-04-26  False  False  False  False  False  False  False  False  False   \n",
       " 2007-04-27  False  False  False  False  False  False  False  False  False   \n",
       " 2007-04-30  False  False  False  False  False  False  False  False  False   \n",
       " 2007-05-02  False  False  False  False  False  False  False  False  False   \n",
       " 2007-05-03  False  False  False  False  False  False  False  False  False   \n",
       " 2007-05-04  False  False  False  False  False  False  False  False  False   \n",
       " 2007-05-07  False  False  False  False  False  False  False  False  False   \n",
       " 2007-05-08  False  False  False  False  False  False  False  False  False   \n",
       " 2007-05-09  False  False  False  False  False  False  False  False  False   \n",
       " 2007-05-10  False  False  False  False  False  False  False  False  False   \n",
       " 2007-05-11  False  False  False  False  False  False  False  False  False   \n",
       " 2007-05-14  False  False  False  False  False  False  False  False  False   \n",
       " 2007-05-15  False  False  False  False  False  False  False  False  False   \n",
       " 2007-05-16  False  False  False  False  False  False  False  False  False   \n",
       " 2007-05-17  False  False  False  False  False  False  False  False  False   \n",
       " 2007-05-18  False  False  False  False  False  False  False  False  False   \n",
       " 2007-05-21  False  False  False  False  False  False  False  False  False   \n",
       " 2007-05-22  False  False  False  False  False  False  False  False  False   \n",
       " 2007-05-23  False  False  False  False  False  False  False  False  False   \n",
       " 2007-05-24  False  False  False  False  False  False  False  False  False   \n",
       " 2007-05-25  False  False  False  False  False  False  False  False  False   \n",
       " 2007-05-28  False  False  False  False  False  False  False  False  False   \n",
       " 2007-05-29  False  False  False  False  False  False  False  False  False   \n",
       " 2007-05-30  False  False  False  False  False  False  False  False  False   \n",
       " 2007-05-31  False  False  False  False  False  False  False  False  False   \n",
       " 2007-06-01  False  False  False  False  False  False  False  False  False   \n",
       " 2007-06-04  False  False  False  False  False  False  False  False  False   \n",
       " ...           ...    ...    ...    ...    ...    ...    ...    ...    ...   \n",
       " 2019-06-10  False  False  False  False  False  False  False  False  False   \n",
       " 2019-06-11  False  False  False  False  False  False  False  False  False   \n",
       " 2019-06-12  False  False  False  False  False  False  False  False  False   \n",
       " 2019-06-13  False  False  False  False  False  False  False  False  False   \n",
       " 2019-06-14  False  False  False  False  False  False  False  False  False   \n",
       " 2019-06-17  False  False  False  False  False  False  False  False  False   \n",
       " 2019-06-18  False  False  False  False  False  False  False  False  False   \n",
       " 2019-06-19  False  False  False  False  False  False  False  False  False   \n",
       " 2019-06-20  False  False  False  False  False  False  False  False  False   \n",
       " 2019-06-21  False  False  False  False  False  False  False  False  False   \n",
       " 2019-06-24  False  False  False  False  False  False  False  False  False   \n",
       " 2019-06-25  False  False  False  False  False  False  False  False  False   \n",
       " 2019-06-26  False  False  False  False  False  False  False  False  False   \n",
       " 2019-06-27  False  False  False  False  False  False  False  False  False   \n",
       " 2019-06-28  False  False  False  False  False  False  False  False  False   \n",
       " 2019-07-01  False  False  False  False  False  False  False  False  False   \n",
       " 2019-07-02  False  False  False  False  False  False  False  False  False   \n",
       " 2019-07-03  False  False  False  False  False  False  False  False  False   \n",
       " 2019-07-04  False  False  False  False  False  False  False  False  False   \n",
       " 2019-07-05  False  False  False  False  False  False  False  False  False   \n",
       " 2019-07-08  False  False  False  False  False  False  False  False  False   \n",
       " 2019-07-09  False  False  False  False  False  False  False  False  False   \n",
       " 2019-07-10  False  False  False  False  False  False  False  False  False   \n",
       " 2019-07-11  False  False  False  False  False  False  False  False  False   \n",
       " 2019-07-12  False  False  False  False  False  False  False  False  False   \n",
       " 2019-07-15  False  False  False  False  False  False  False  False  False   \n",
       " 2019-07-16  False  False  False  False  False  False  False  False  False   \n",
       " 2019-07-17  False  False  False  False  False  False  False  False  False   \n",
       " 2019-07-18  False  False  False  False  False  False  False  False  False   \n",
       " 2019-07-19  False  False  False  False  False  False  False  False  False   \n",
       " \n",
       " stock_id     0059  \n",
       " date               \n",
       " 2007-04-23  False  \n",
       " 2007-04-24  False  \n",
       " 2007-04-25  False  \n",
       " 2007-04-26  False  \n",
       " 2007-04-27  False  \n",
       " 2007-04-30  False  \n",
       " 2007-05-02  False  \n",
       " 2007-05-03  False  \n",
       " 2007-05-04  False  \n",
       " 2007-05-07  False  \n",
       " 2007-05-08  False  \n",
       " 2007-05-09  False  \n",
       " 2007-05-10  False  \n",
       " 2007-05-11  False  \n",
       " 2007-05-14  False  \n",
       " 2007-05-15  False  \n",
       " 2007-05-16  False  \n",
       " 2007-05-17  False  \n",
       " 2007-05-18  False  \n",
       " 2007-05-21  False  \n",
       " 2007-05-22  False  \n",
       " 2007-05-23  False  \n",
       " 2007-05-24  False  \n",
       " 2007-05-25  False  \n",
       " 2007-05-28  False  \n",
       " 2007-05-29  False  \n",
       " 2007-05-30  False  \n",
       " 2007-05-31  False  \n",
       " 2007-06-01  False  \n",
       " 2007-06-04  False  \n",
       " ...           ...  \n",
       " 2019-06-10  False  \n",
       " 2019-06-11  False  \n",
       " 2019-06-12  False  \n",
       " 2019-06-13  False  \n",
       " 2019-06-14  False  \n",
       " 2019-06-17  False  \n",
       " 2019-06-18  False  \n",
       " 2019-06-19  False  \n",
       " 2019-06-20  False  \n",
       " 2019-06-21  False  \n",
       " 2019-06-24  False  \n",
       " 2019-06-25  False  \n",
       " 2019-06-26  False  \n",
       " 2019-06-27  False  \n",
       " 2019-06-28  False  \n",
       " 2019-07-01  False  \n",
       " 2019-07-02  False  \n",
       " 2019-07-03  False  \n",
       " 2019-07-04  False  \n",
       " 2019-07-05  False  \n",
       " 2019-07-08  False  \n",
       " 2019-07-09  False  \n",
       " 2019-07-10  False  \n",
       " 2019-07-11  False  \n",
       " 2019-07-12  False  \n",
       " 2019-07-15  False  \n",
       " 2019-07-16  False  \n",
       " 2019-07-17  False  \n",
       " 2019-07-18  False  \n",
       " 2019-07-19  False  \n",
       " \n",
       " [3029 rows x 10 columns]}"
      ]
     },
     "execution_count": 50,
     "metadata": {},
     "output_type": "execute_result"
    }
   ],
   "source": [
    "history"
   ]
  }
 ],
 "metadata": {
  "kernelspec": {
   "display_name": "Python 3",
   "language": "python",
   "name": "python3"
  },
  "language_info": {
   "codemirror_mode": {
    "name": "ipython",
    "version": 3
   },
   "file_extension": ".py",
   "mimetype": "text/x-python",
   "name": "python",
   "nbconvert_exporter": "python",
   "pygments_lexer": "ipython3",
   "version": "3.6.6"
  },
  "toc": {
   "base_numbering": 1,
   "nav_menu": {},
   "number_sections": true,
   "sideBar": true,
   "skip_h1_title": false,
   "title_cell": "Table of Contents",
   "title_sidebar": "Contents",
   "toc_cell": false,
   "toc_position": {
    "height": "calc(100% - 180px)",
    "left": "10px",
    "top": "150px",
    "width": "239.238px"
   },
   "toc_section_display": true,
   "toc_window_display": false
  },
  "varInspector": {
   "cols": {
    "lenName": 16,
    "lenType": 16,
    "lenVar": 40
   },
   "kernels_config": {
    "python": {
     "delete_cmd_postfix": "",
     "delete_cmd_prefix": "del ",
     "library": "var_list.py",
     "varRefreshCmd": "print(var_dic_list())"
    },
    "r": {
     "delete_cmd_postfix": ") ",
     "delete_cmd_prefix": "rm(",
     "library": "var_list.r",
     "varRefreshCmd": "cat(var_dic_list()) "
    }
   },
   "types_to_exclude": [
    "module",
    "function",
    "builtin_function_or_method",
    "instance",
    "_Feature"
   ],
   "window_display": false
  }
 },
 "nbformat": 4,
 "nbformat_minor": 2
}
