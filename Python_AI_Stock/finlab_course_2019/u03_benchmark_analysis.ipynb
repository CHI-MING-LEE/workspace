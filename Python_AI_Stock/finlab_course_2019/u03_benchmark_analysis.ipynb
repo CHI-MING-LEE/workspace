{
 "cells": [
  {
   "cell_type": "markdown",
   "metadata": {},
   "source": [
    "### 讀取大盤資料"
   ]
  },
  {
   "cell_type": "code",
   "execution_count": 1,
   "metadata": {
    "ExecuteTime": {
     "end_time": "2020-01-27T06:18:46.258869Z",
     "start_time": "2020-01-27T06:18:45.232179Z"
    }
   },
   "outputs": [
    {
     "data": {
      "text/plain": [
       "date\n",
       "2019-01-02 09:00:00    9727.41\n",
       "2019-01-02 09:00:05    9725.27\n",
       "2019-01-02 09:00:10    9730.34\n",
       "2019-01-02 09:00:15    9724.78\n",
       "2019-01-02 09:00:20    9730.49\n",
       "Name: 台股指數, dtype: float64"
      ]
     },
     "execution_count": 1,
     "metadata": {},
     "output_type": "execute_result"
    }
   ],
   "source": [
    "from finlab.data import Data\n",
    "\n",
    "data = Data()\n",
    "\n",
    "twii = data.get(\"發行量加權股價指數\")\n",
    "\n",
    "twii = twii['台股指數']\n",
    "\n",
    "twii.head()"
   ]
  },
  {
   "cell_type": "markdown",
   "metadata": {},
   "source": [
    "### 整理加權指數 1分k"
   ]
  },
  {
   "cell_type": "code",
   "execution_count": 2,
   "metadata": {
    "ExecuteTime": {
     "end_time": "2020-01-27T06:18:51.161497Z",
     "start_time": "2020-01-27T06:18:51.135729Z"
    }
   },
   "outputs": [
    {
     "data": {
      "text/plain": [
       "Int64Index([ 0,  5, 10, 15, 20, 25, 30, 35, 40, 45,\n",
       "            ...\n",
       "            15, 20, 25, 30, 35, 40, 45, 50, 55,  0],\n",
       "           dtype='int64', name='date', length=531524)"
      ]
     },
     "execution_count": 2,
     "metadata": {},
     "output_type": "execute_result"
    }
   ],
   "source": [
    "twii.index.second # 找到index的date秒針等於0的資料 --> 統一每分鐘"
   ]
  },
  {
   "cell_type": "code",
   "execution_count": 3,
   "metadata": {
    "ExecuteTime": {
     "end_time": "2020-01-27T06:18:51.917761Z",
     "start_time": "2020-01-27T06:18:51.891831Z"
    }
   },
   "outputs": [],
   "source": [
    "twii = twii[twii.index.second == 0]"
   ]
  },
  {
   "cell_type": "markdown",
   "metadata": {},
   "source": [
    "### 畫的更美一點"
   ]
  },
  {
   "cell_type": "code",
   "execution_count": 5,
   "metadata": {
    "ExecuteTime": {
     "end_time": "2020-01-27T06:22:05.709487Z",
     "start_time": "2020-01-27T06:22:03.840204Z"
    }
   },
   "outputs": [
    {
     "data": {
      "text/plain": [
       "<matplotlib.axes._subplots.AxesSubplot at 0x7fd9048b3da0>"
      ]
     },
     "execution_count": 5,
     "metadata": {},
     "output_type": "execute_result"
    },
    {
     "data": {
      "image/png": "[encoded data removed]",
      "text/plain": [
       "<matplotlib.figure.Figure at 0x7fd904d63dd8>"
      ]
     },
     "metadata": {},
     "output_type": "display_data"
    }
   ],
   "source": [
    "%matplotlib inline\n",
    "import matplotlib.pyplot as plt\n",
    "import seaborn as sns\n",
    "\n",
    "sns.set()\n",
    "\n",
    "plt.style.use('ggplot')\n",
    "\n",
    "twii.hist()\n",
    "# twii.plot()"
   ]
  },
  {
   "cell_type": "markdown",
   "metadata": {},
   "source": [
    "### DataFrame 小教室：groupby"
   ]
  },
  {
   "cell_type": "code",
   "execution_count": 6,
   "metadata": {
    "ExecuteTime": {
     "end_time": "2020-01-27T06:22:49.342744Z",
     "start_time": "2020-01-27T06:22:49.332022Z"
    }
   },
   "outputs": [
    {
     "data": {
      "text/plain": [
       "0    15\n",
       "1    48\n",
       "dtype: int64"
      ]
     },
     "execution_count": 6,
     "metadata": {},
     "output_type": "execute_result"
    }
   ],
   "source": [
    "import pandas as pd\n",
    "\n",
    "s = pd.Series([1,2,3,4,5,6])\n",
    "s.groupby([0,1,0,1,0,1]).prod()"
   ]
  },
  {
   "cell_type": "code",
   "execution_count": 7,
   "metadata": {
    "ExecuteTime": {
     "end_time": "2020-01-27T06:22:53.002370Z",
     "start_time": "2020-01-27T06:22:52.967766Z"
    }
   },
   "outputs": [
    {
     "data": {
      "text/html": [
       "<div>\n",
       "<style scoped>\n",
       "    .dataframe tbody tr th:only-of-type {\n",
       "        vertical-align: middle;\n",
       "    }\n",
       "\n",
       "    .dataframe tbody tr th {\n",
       "        vertical-align: top;\n",
       "    }\n",
       "\n",
       "    .dataframe thead th {\n",
       "        text-align: right;\n",
       "    }\n",
       "</style>\n",
       "<table border=\"1\" class=\"dataframe\">\n",
       "  <thead>\n",
       "    <tr style=\"text-align: right;\">\n",
       "      <th></th>\n",
       "      <th>a</th>\n",
       "      <th>b</th>\n",
       "    </tr>\n",
       "  </thead>\n",
       "  <tbody>\n",
       "    <tr>\n",
       "      <th>1</th>\n",
       "      <td>15</td>\n",
       "      <td>15</td>\n",
       "    </tr>\n",
       "    <tr>\n",
       "      <th>2</th>\n",
       "      <td>48</td>\n",
       "      <td>48</td>\n",
       "    </tr>\n",
       "  </tbody>\n",
       "</table>\n",
       "</div>"
      ],
      "text/plain": [
       "    a   b\n",
       "1  15  15\n",
       "2  48  48"
      ]
     },
     "execution_count": 7,
     "metadata": {},
     "output_type": "execute_result"
    }
   ],
   "source": [
    "df = pd.DataFrame({'a':s, 'b':s})\n",
    "df\n",
    "df.groupby([1,2,1,2,1,2]).prod()"
   ]
  },
  {
   "cell_type": "code",
   "execution_count": 8,
   "metadata": {
    "ExecuteTime": {
     "end_time": "2020-01-27T06:22:55.327323Z",
     "start_time": "2020-01-27T06:22:55.320067Z"
    }
   },
   "outputs": [
    {
     "data": {
      "text/plain": [
       "date\n",
       "2019-01-02 09:00:00    9727.41\n",
       "2019-01-02 09:01:00    9737.68\n",
       "2019-01-02 09:02:00    9731.54\n",
       "2019-01-02 09:03:00    9727.67\n",
       "2019-01-02 09:04:00    9729.62\n",
       "Name: 台股指數, dtype: float64"
      ]
     },
     "execution_count": 8,
     "metadata": {},
     "output_type": "execute_result"
    }
   ],
   "source": [
    "twii.head()"
   ]
  },
  {
   "cell_type": "markdown",
   "metadata": {},
   "source": [
    "### 每月漲跌"
   ]
  },
  {
   "cell_type": "code",
   "execution_count": 9,
   "metadata": {
    "ExecuteTime": {
     "end_time": "2020-01-27T06:23:02.503473Z",
     "start_time": "2020-01-27T06:23:02.411748Z"
    }
   },
   "outputs": [
    {
     "data": {
      "text/plain": [
       "date  date\n",
       "2019  1       1.021059\n",
       "      2       1.046003\n",
       "      3       1.024244\n",
       "      4       1.030701\n",
       "      5       0.957216\n",
       "      6       1.022131\n",
       "      7       1.008665\n",
       "      8       0.980990\n",
       "      9       1.015313\n",
       "Name: 台股指數, dtype: float64"
      ]
     },
     "execution_count": 9,
     "metadata": {},
     "output_type": "execute_result"
    }
   ],
   "source": [
    "# 會by index去group\n",
    "# by年月的\"起始價格\"\n",
    "first_price = twii.groupby([twii.index.year, twii.index.month]).first()\n",
    "# 月末價格\n",
    "last_price = twii.groupby([twii.index.year, twii.index.month]).last()\n",
    "# 除起來大於1 --> 漲；反之為跌\n",
    "profit = last_price/ first_price\n",
    "profit"
   ]
  },
  {
   "cell_type": "code",
   "execution_count": 10,
   "metadata": {
    "ExecuteTime": {
     "end_time": "2020-01-27T06:23:19.122488Z",
     "start_time": "2020-01-27T06:23:19.107961Z"
    },
    "scrolled": true
   },
   "outputs": [
    {
     "name": "stdout",
     "output_type": "stream",
     "text": [
      "year  month\n",
      "2019  1        1.021059\n",
      "      2        1.046003\n",
      "      3        1.024244\n",
      "      4        1.030701\n",
      "      5        0.957216\n",
      "      6        1.022131\n",
      "      7        1.008665\n",
      "      8        0.980990\n",
      "      9        1.015313\n",
      "Name: 台股指數, dtype: float64\n",
      "   year  month      台股指數\n",
      "0  2019      1  1.021059\n",
      "1  2019      2  1.046003\n",
      "2  2019      3  1.024244\n",
      "3  2019      4  1.030701\n",
      "4  2019      5  0.957216\n",
      "5  2019      6  1.022131\n",
      "6  2019      7  1.008665\n",
      "7  2019      8  0.980990\n",
      "8  2019      9  1.015313\n"
     ]
    }
   ],
   "source": [
    "# pivot成寬資料\n",
    "# 直接把index的level取出來命名\n",
    "profit.index.levels[0].name = \"year\"\n",
    "profit.index.levels[1].name = \"month\"\n",
    "print(profit)\n",
    "profit = profit.reset_index()\n",
    "print(profit)"
   ]
  },
  {
   "cell_type": "code",
   "execution_count": 11,
   "metadata": {
    "ExecuteTime": {
     "end_time": "2020-01-27T06:23:22.900143Z",
     "start_time": "2020-01-27T06:23:22.875688Z"
    }
   },
   "outputs": [
    {
     "data": {
      "text/html": [
       "<div>\n",
       "<style scoped>\n",
       "    .dataframe tbody tr th:only-of-type {\n",
       "        vertical-align: middle;\n",
       "    }\n",
       "\n",
       "    .dataframe tbody tr th {\n",
       "        vertical-align: top;\n",
       "    }\n",
       "\n",
       "    .dataframe thead th {\n",
       "        text-align: right;\n",
       "    }\n",
       "</style>\n",
       "<table border=\"1\" class=\"dataframe\">\n",
       "  <thead>\n",
       "    <tr style=\"text-align: right;\">\n",
       "      <th>month</th>\n",
       "      <th>1</th>\n",
       "      <th>2</th>\n",
       "      <th>3</th>\n",
       "      <th>4</th>\n",
       "      <th>5</th>\n",
       "      <th>6</th>\n",
       "      <th>7</th>\n",
       "      <th>8</th>\n",
       "      <th>9</th>\n",
       "    </tr>\n",
       "    <tr>\n",
       "      <th>year</th>\n",
       "      <th></th>\n",
       "      <th></th>\n",
       "      <th></th>\n",
       "      <th></th>\n",
       "      <th></th>\n",
       "      <th></th>\n",
       "      <th></th>\n",
       "      <th></th>\n",
       "      <th></th>\n",
       "    </tr>\n",
       "  </thead>\n",
       "  <tbody>\n",
       "    <tr>\n",
       "      <th>2019</th>\n",
       "      <td>1.021059</td>\n",
       "      <td>1.046003</td>\n",
       "      <td>1.024244</td>\n",
       "      <td>1.030701</td>\n",
       "      <td>0.957216</td>\n",
       "      <td>1.022131</td>\n",
       "      <td>1.008665</td>\n",
       "      <td>0.98099</td>\n",
       "      <td>1.015313</td>\n",
       "    </tr>\n",
       "  </tbody>\n",
       "</table>\n",
       "</div>"
      ],
      "text/plain": [
       "month         1         2         3         4         5         6         7  \\\n",
       "year                                                                          \n",
       "2019   1.021059  1.046003  1.024244  1.030701  0.957216  1.022131  1.008665   \n",
       "\n",
       "month        8         9  \n",
       "year                      \n",
       "2019   0.98099  1.015313  "
      ]
     },
     "execution_count": 11,
     "metadata": {},
     "output_type": "execute_result"
    }
   ],
   "source": [
    "profit.pivot(\"year\",\"month\")[\"台股指數\"] # 再去一層level"
   ]
  },
  {
   "cell_type": "code",
   "execution_count": 12,
   "metadata": {
    "ExecuteTime": {
     "end_time": "2020-01-27T06:23:24.367625Z",
     "start_time": "2020-01-27T06:23:24.315917Z"
    }
   },
   "outputs": [
    {
     "name": "stdout",
     "output_type": "stream",
     "text": [
      "year  month\n",
      "2019  1        1.021059\n",
      "      2        1.046003\n",
      "      3        1.024244\n",
      "      4        1.030701\n",
      "      5        0.957216\n",
      "      6        1.022131\n",
      "      7        1.008665\n",
      "      8        0.980990\n",
      "      9        1.015313\n",
      "Name: 台股指數, dtype: float64\n"
     ]
    },
    {
     "data": {
      "text/html": [
       "<div>\n",
       "<style scoped>\n",
       "    .dataframe tbody tr th:only-of-type {\n",
       "        vertical-align: middle;\n",
       "    }\n",
       "\n",
       "    .dataframe tbody tr th {\n",
       "        vertical-align: top;\n",
       "    }\n",
       "\n",
       "    .dataframe thead tr th {\n",
       "        text-align: left;\n",
       "    }\n",
       "\n",
       "    .dataframe thead tr:last-of-type th {\n",
       "        text-align: right;\n",
       "    }\n",
       "</style>\n",
       "<table border=\"1\" class=\"dataframe\">\n",
       "  <thead>\n",
       "    <tr>\n",
       "      <th></th>\n",
       "      <th colspan=\"9\" halign=\"left\">台股指數</th>\n",
       "    </tr>\n",
       "    <tr>\n",
       "      <th>month</th>\n",
       "      <th>1</th>\n",
       "      <th>2</th>\n",
       "      <th>3</th>\n",
       "      <th>4</th>\n",
       "      <th>5</th>\n",
       "      <th>6</th>\n",
       "      <th>7</th>\n",
       "      <th>8</th>\n",
       "      <th>9</th>\n",
       "    </tr>\n",
       "    <tr>\n",
       "      <th>year</th>\n",
       "      <th></th>\n",
       "      <th></th>\n",
       "      <th></th>\n",
       "      <th></th>\n",
       "      <th></th>\n",
       "      <th></th>\n",
       "      <th></th>\n",
       "      <th></th>\n",
       "      <th></th>\n",
       "    </tr>\n",
       "  </thead>\n",
       "  <tbody>\n",
       "    <tr>\n",
       "      <th>2019</th>\n",
       "      <td>1.021059</td>\n",
       "      <td>1.046003</td>\n",
       "      <td>1.024244</td>\n",
       "      <td>1.030701</td>\n",
       "      <td>0.957216</td>\n",
       "      <td>1.022131</td>\n",
       "      <td>1.008665</td>\n",
       "      <td>0.98099</td>\n",
       "      <td>1.015313</td>\n",
       "    </tr>\n",
       "  </tbody>\n",
       "</table>\n",
       "</div>"
      ],
      "text/plain": [
       "           台股指數                                                              \\\n",
       "month         1         2         3         4         5         6         7   \n",
       "year                                                                          \n",
       "2019   1.021059  1.046003  1.024244  1.030701  0.957216  1.022131  1.008665   \n",
       "\n",
       "                          \n",
       "month        8         9  \n",
       "year                      \n",
       "2019   0.98099  1.015313  "
      ]
     },
     "execution_count": 12,
     "metadata": {},
     "output_type": "execute_result"
    }
   ],
   "source": [
    "start_price = twii.groupby([twii.index.year, twii.index.month]).first()\n",
    "last_price = twii.groupby([twii.index.year, twii.index.month]).last()\n",
    "profit = (last_price/start_price)\n",
    "\n",
    "profit.index.levels[0].name = 'year'\n",
    "profit.index.levels[1].name = 'month'\n",
    "print(profit)\n",
    "profit = profit.reset_index()\n",
    "profit = profit.pivot(\"year\",\"month\")#['台股指數']\n",
    "profit\n",
    "#profit"
   ]
  },
  {
   "cell_type": "markdown",
   "metadata": {},
   "source": [
    "### 每月漲跌色溫圖"
   ]
  },
  {
   "cell_type": "code",
   "execution_count": 13,
   "metadata": {
    "ExecuteTime": {
     "end_time": "2020-01-27T06:23:26.490400Z",
     "start_time": "2020-01-27T06:23:26.219605Z"
    }
   },
   "outputs": [
    {
     "data": {
      "text/plain": [
       "<matplotlib.axes._subplots.AxesSubplot at 0x7fd90206e9b0>"
      ]
     },
     "execution_count": 13,
     "metadata": {},
     "output_type": "execute_result"
    },
    {
     "data": {
      "image/png": "[encoded data removed]",
      "text/plain": [
       "<matplotlib.figure.Figure at 0x7fd902053da0>"
      ]
     },
     "metadata": {
      "needs_background": "light"
     },
     "output_type": "display_data"
    }
   ],
   "source": [
    "import seaborn as sns\n",
    "import matplotlib.pyplot as plt\n",
    "\n",
    "plt.rcParams['figure.figsize'] = (10, 10)\n",
    "\n",
    "sns.heatmap(profit)"
   ]
  },
  {
   "cell_type": "markdown",
   "metadata": {},
   "source": [
    "### 均線分析"
   ]
  },
  {
   "cell_type": "code",
   "execution_count": 15,
   "metadata": {
    "ExecuteTime": {
     "end_time": "2020-01-27T06:23:41.419168Z",
     "start_time": "2020-01-27T06:23:41.391609Z"
    },
    "scrolled": true
   },
   "outputs": [
    {
     "data": {
      "text/plain": [
       "2019-01-02     9727.41\n",
       "2019-01-03     9554.14\n",
       "2019-01-04     9492.42\n",
       "2019-01-07     9382.51\n",
       "2019-01-08     9590.30\n",
       "2019-01-09     9563.60\n",
       "2019-01-10     9738.31\n",
       "2019-01-11     9720.69\n",
       "2019-01-14     9759.40\n",
       "2019-01-15     9708.22\n",
       "2019-01-16     9806.04\n",
       "2019-01-17     9763.81\n",
       "2019-01-18     9789.15\n",
       "2019-01-21     9836.06\n",
       "2019-01-22     9889.40\n",
       "2019-01-23     9894.66\n",
       "2019-01-24     9846.40\n",
       "2019-01-25     9877.12\n",
       "2019-01-28     9969.61\n",
       "2019-01-29    10013.33\n",
       "2019-01-30     9931.59\n",
       "2019-02-11     9932.26\n",
       "2019-02-12    10004.25\n",
       "2019-02-13    10097.74\n",
       "2019-02-14    10090.58\n",
       "2019-02-15    10089.01\n",
       "2019-02-18    10064.78\n",
       "2019-02-19    10145.28\n",
       "2019-02-20    10152.26\n",
       "2019-02-21    10272.46\n",
       "                ...   \n",
       "2019-07-26    10941.41\n",
       "2019-07-29    10891.98\n",
       "2019-07-30    10885.73\n",
       "2019-07-31    10830.90\n",
       "2019-08-01    10823.81\n",
       "2019-08-02    10731.75\n",
       "2019-08-05    10549.04\n",
       "2019-08-06    10423.41\n",
       "2019-08-07    10394.75\n",
       "2019-08-08    10386.18\n",
       "2019-08-12    10494.49\n",
       "2019-08-13    10472.36\n",
       "2019-08-14    10362.66\n",
       "2019-08-15    10427.73\n",
       "2019-08-16    10327.13\n",
       "2019-08-19    10420.89\n",
       "2019-08-20    10488.75\n",
       "2019-08-21    10522.50\n",
       "2019-08-22    10525.80\n",
       "2019-08-23    10529.78\n",
       "2019-08-26    10538.11\n",
       "2019-08-27    10354.57\n",
       "2019-08-28    10387.23\n",
       "2019-08-29    10434.29\n",
       "2019-08-30    10462.43\n",
       "2019-09-02    10618.05\n",
       "2019-09-03    10634.85\n",
       "2019-09-04    10558.21\n",
       "2019-09-05    10657.31\n",
       "2019-09-06    10756.93\n",
       "Name: 台股指數, Length: 164, dtype: float64"
      ]
     },
     "execution_count": 15,
     "metadata": {},
     "output_type": "execute_result"
    }
   ],
   "source": [
    "import pandas as pd\n",
    "\n",
    "# 每日開盤價\n",
    "twii_daily = twii.groupby(twii.index.date).first()\n",
    "twii_daily.index = pd.to_datetime(twii_daily.index)\n",
    "\n",
    "twii_daily"
   ]
  },
  {
   "cell_type": "code",
   "execution_count": 16,
   "metadata": {
    "ExecuteTime": {
     "end_time": "2020-01-27T06:23:45.017821Z",
     "start_time": "2020-01-27T06:23:44.695597Z"
    }
   },
   "outputs": [
    {
     "data": {
      "text/plain": [
       "<matplotlib.axes._subplots.AxesSubplot at 0x7fd8ffdd3ef0>"
      ]
     },
     "execution_count": 16,
     "metadata": {},
     "output_type": "execute_result"
    },
    {
     "data": {
      "image/png": "[encoded data removed]",
      "text/plain": [
       "<matplotlib.figure.Figure at 0x7fd902105278>"
      ]
     },
     "metadata": {
      "needs_background": "light"
     },
     "output_type": "display_data"
    }
   ],
   "source": [
    "# 60日平均 (往前取60)\n",
    "twii_average = twii_daily.rolling(60).mean()\n",
    "twii_average['2019'].plot()\n",
    "twii['2019'].plot()"
   ]
  },
  {
   "cell_type": "code",
   "execution_count": 64,
   "metadata": {
    "ExecuteTime": {
     "end_time": "2019-09-08T07:01:41.391223Z",
     "start_time": "2019-09-08T07:01:41.214765Z"
    }
   },
   "outputs": [
    {
     "data": {
      "text/plain": [
       "<matplotlib.axes._subplots.AxesSubplot at 0x7f4b05dbe5f8>"
      ]
     },
     "execution_count": 64,
     "metadata": {},
     "output_type": "execute_result"
    },
    {
     "data": {
      "image/png": "[encoded data removed]",
      "text/plain": [
       "<matplotlib.figure.Figure at 0x7f4b05e5a7b8>"
      ]
     },
     "metadata": {},
     "output_type": "display_data"
    }
   ],
   "source": [
    "# 乖離率\n",
    "twii_bias = twii_daily / twii_average\n",
    "twii_bias.plot()"
   ]
  },
  {
   "cell_type": "code",
   "execution_count": 67,
   "metadata": {
    "ExecuteTime": {
     "end_time": "2019-09-08T07:03:51.516519Z",
     "start_time": "2019-09-08T07:03:51.508651Z"
    },
    "scrolled": true
   },
   "outputs": [
    {
     "data": {
      "text/plain": [
       "2019-01-02    1.117270\n",
       "2019-01-03    1.131318\n",
       "2019-01-04    1.138308\n",
       "2019-01-07    1.159135\n",
       "2019-01-08    1.139469\n",
       "2019-01-09    1.149908\n",
       "2019-01-10    1.125659\n",
       "2019-01-11    1.128366\n",
       "2019-01-14    1.125859\n",
       "2019-01-15    1.135706\n",
       "2019-01-16    1.124576\n",
       "2019-01-17    1.130692\n",
       "2019-01-18    1.118838\n",
       "2019-01-21    1.112138\n",
       "2019-01-22    1.109039\n",
       "2019-01-23    1.112165\n",
       "2019-01-24    1.126940\n",
       "2019-01-25    1.103269\n",
       "2019-01-28    1.102063\n",
       "2019-01-29    1.090917\n",
       "2019-01-30    1.080760\n",
       "2019-02-11    1.078605\n",
       "2019-02-12    1.055380\n",
       "2019-02-13    1.041743\n",
       "2019-02-14    1.046591\n",
       "2019-02-15    1.038220\n",
       "2019-02-18    1.031727\n",
       "2019-02-19    1.024951\n",
       "2019-02-20    1.030756\n",
       "2019-02-21    1.017986\n",
       "                ...   \n",
       "2019-07-26         NaN\n",
       "2019-07-29         NaN\n",
       "2019-07-30         NaN\n",
       "2019-07-31         NaN\n",
       "2019-08-01         NaN\n",
       "2019-08-02         NaN\n",
       "2019-08-05         NaN\n",
       "2019-08-06         NaN\n",
       "2019-08-07         NaN\n",
       "2019-08-08         NaN\n",
       "2019-08-12         NaN\n",
       "2019-08-13         NaN\n",
       "2019-08-14         NaN\n",
       "2019-08-15         NaN\n",
       "2019-08-16         NaN\n",
       "2019-08-19         NaN\n",
       "2019-08-20         NaN\n",
       "2019-08-21         NaN\n",
       "2019-08-22         NaN\n",
       "2019-08-23         NaN\n",
       "2019-08-26         NaN\n",
       "2019-08-27         NaN\n",
       "2019-08-28         NaN\n",
       "2019-08-29         NaN\n",
       "2019-08-30         NaN\n",
       "2019-09-02         NaN\n",
       "2019-09-03         NaN\n",
       "2019-09-04         NaN\n",
       "2019-09-05         NaN\n",
       "2019-09-06         NaN\n",
       "Name: 台股指數, Length: 164, dtype: float64"
      ]
     },
     "execution_count": 67,
     "metadata": {},
     "output_type": "execute_result"
    }
   ],
   "source": [
    "# 後60日漲跌\n",
    "twii_profit = twii_daily.shift(-60) / twii_daily\n",
    "twii_profit"
   ]
  },
  {
   "cell_type": "code",
   "execution_count": 68,
   "metadata": {
    "ExecuteTime": {
     "end_time": "2019-09-08T07:05:48.817187Z",
     "start_time": "2019-09-08T07:05:48.774542Z"
    }
   },
   "outputs": [
    {
     "data": {
      "text/html": [
       "<div>\n",
       "<style scoped>\n",
       "    .dataframe tbody tr th:only-of-type {\n",
       "        vertical-align: middle;\n",
       "    }\n",
       "\n",
       "    .dataframe tbody tr th {\n",
       "        vertical-align: top;\n",
       "    }\n",
       "\n",
       "    .dataframe thead th {\n",
       "        text-align: right;\n",
       "    }\n",
       "</style>\n",
       "<table border=\"1\" class=\"dataframe\">\n",
       "  <thead>\n",
       "    <tr style=\"text-align: right;\">\n",
       "      <th></th>\n",
       "      <th>price</th>\n",
       "      <th>sma</th>\n",
       "      <th>bias</th>\n",
       "      <th>profit</th>\n",
       "      <th>year</th>\n",
       "    </tr>\n",
       "  </thead>\n",
       "  <tbody>\n",
       "    <tr>\n",
       "      <th>2019-04-10</th>\n",
       "      <td>10851.60</td>\n",
       "      <td>10168.513167</td>\n",
       "      <td>1.067177</td>\n",
       "      <td>0.993024</td>\n",
       "      <td>2019</td>\n",
       "    </tr>\n",
       "    <tr>\n",
       "      <th>2019-04-11</th>\n",
       "      <td>10868.14</td>\n",
       "      <td>10187.525333</td>\n",
       "      <td>1.066809</td>\n",
       "      <td>0.992417</td>\n",
       "      <td>2019</td>\n",
       "    </tr>\n",
       "    <tr>\n",
       "      <th>2019-04-12</th>\n",
       "      <td>10808.77</td>\n",
       "      <td>10208.435833</td>\n",
       "      <td>1.058808</td>\n",
       "      <td>0.994676</td>\n",
       "      <td>2019</td>\n",
       "    </tr>\n",
       "    <tr>\n",
       "      <th>2019-04-15</th>\n",
       "      <td>10805.30</td>\n",
       "      <td>10230.317167</td>\n",
       "      <td>1.056204</td>\n",
       "      <td>0.990512</td>\n",
       "      <td>2019</td>\n",
       "    </tr>\n",
       "    <tr>\n",
       "      <th>2019-04-16</th>\n",
       "      <td>10875.60</td>\n",
       "      <td>10255.202000</td>\n",
       "      <td>1.060496</td>\n",
       "      <td>0.992909</td>\n",
       "      <td>2019</td>\n",
       "    </tr>\n",
       "  </tbody>\n",
       "</table>\n",
       "</div>"
      ],
      "text/plain": [
       "               price           sma      bias    profit  year\n",
       "2019-04-10  10851.60  10168.513167  1.067177  0.993024  2019\n",
       "2019-04-11  10868.14  10187.525333  1.066809  0.992417  2019\n",
       "2019-04-12  10808.77  10208.435833  1.058808  0.994676  2019\n",
       "2019-04-15  10805.30  10230.317167  1.056204  0.990512  2019\n",
       "2019-04-16  10875.60  10255.202000  1.060496  0.992909  2019"
      ]
     },
     "execution_count": 68,
     "metadata": {},
     "output_type": "execute_result"
    }
   ],
   "source": [
    "# 每日開盤價\n",
    "twii_daily = twii.groupby(twii.index.date).first()\n",
    "twii_daily.index = pd.to_datetime(twii_daily.index)\n",
    "\n",
    "# 60日平均\n",
    "twii_average = twii_daily.rolling(60).mean()\n",
    "\n",
    "# 乖離率\n",
    "twii_bias = twii_daily / twii_average\n",
    "\n",
    "# 後60日漲跌\n",
    "twii_profit = twii_daily.shift(-60) / twii_daily\n",
    "\n",
    "# 將資料合併（方便之後做圖）\n",
    "df = pd.DataFrame({\n",
    "    'price': twii_daily,\n",
    "    'sma': twii_average,\n",
    "    'bias': twii_bias,\n",
    "    'profit': twii_profit,\n",
    "    'year': twii_daily.index.year,\n",
    "})\n",
    "\n",
    "# 刪除NaN\n",
    "df = df.dropna(how='any')\n",
    "df.head()"
   ]
  },
  {
   "cell_type": "code",
   "execution_count": null,
   "metadata": {},
   "outputs": [],
   "source": []
  },
  {
   "cell_type": "markdown",
   "metadata": {},
   "source": [
    "### 乖離率做圖"
   ]
  },
  {
   "cell_type": "code",
   "execution_count": 76,
   "metadata": {
    "ExecuteTime": {
     "end_time": "2019-09-08T07:12:22.814497Z",
     "start_time": "2019-09-08T07:12:22.505546Z"
    },
    "scrolled": true
   },
   "outputs": [
    {
     "data": {
      "text/plain": [
       "<matplotlib.lines.Line2D at 0x7f4b059bcfd0>"
      ]
     },
     "execution_count": 76,
     "metadata": {},
     "output_type": "execute_result"
    },
    {
     "data": {
      "image/png": "[encoded data removed]",
      "text/plain": [
       "<matplotlib.figure.Figure at 0x7f4b059bc908>"
      ]
     },
     "metadata": {},
     "output_type": "display_data"
    }
   ],
   "source": [
    "fig, ax = plt.subplots(figsize=(11, 8.5))\n",
    "sns.scatterplot(x=\"bias\", y=\"profit\", data=df.tail(200), hue=\"year\", palette=\"Dark2\", legend=\"full\")\n",
    "ax.axhline(y=1.0, color='k', linewidth=1)\n",
    "\n",
    "# 乖離率越高 --> 股價越可能往下走 (收盤價 < 開盤價)\n",
    "\n",
    "# 乖離率1.04: 比均線高4%的時候，股價加權指數傾向於下跌\n",
    "# 乖離率0.98: 比均線低2%的時候，股價加權指數傾向於上漲"
   ]
  },
  {
   "cell_type": "markdown",
   "metadata": {},
   "source": [
    "### 查看當前的乖離率"
   ]
  },
  {
   "cell_type": "code",
   "execution_count": 77,
   "metadata": {
    "ExecuteTime": {
     "end_time": "2019-09-08T07:17:11.185246Z",
     "start_time": "2019-09-08T07:17:11.177247Z"
    }
   },
   "outputs": [
    {
     "data": {
      "text/plain": [
       "2019-09-02    0.995921\n",
       "2019-09-03    0.997145\n",
       "2019-09-04    0.989971\n",
       "2019-09-05    0.999186\n",
       "2019-09-06    1.008303\n",
       "Name: 台股指數, dtype: float64"
      ]
     },
     "execution_count": 77,
     "metadata": {},
     "output_type": "execute_result"
    }
   ],
   "source": [
    "twii_bias.tail()"
   ]
  }
 ],
 "metadata": {
  "kernelspec": {
   "display_name": "Python 3",
   "language": "python",
   "name": "python3"
  },
  "language_info": {
   "codemirror_mode": {
    "name": "ipython",
    "version": 3
   },
   "file_extension": ".py",
   "mimetype": "text/x-python",
   "name": "python",
   "nbconvert_exporter": "python",
   "pygments_lexer": "ipython3",
   "version": "3.6.6"
  },
  "toc": {
   "base_numbering": 1,
   "nav_menu": {},
   "number_sections": true,
   "sideBar": true,
   "skip_h1_title": false,
   "title_cell": "Table of Contents",
   "title_sidebar": "Contents",
   "toc_cell": false,
   "toc_position": {
    "height": "calc(100% - 180px)",
    "left": "10px",
    "top": "150px",
    "width": "257px"
   },
   "toc_section_display": true,
   "toc_window_display": false
  },
  "varInspector": {
   "cols": {
    "lenName": 16,
    "lenType": 16,
    "lenVar": 40
   },
   "kernels_config": {
    "python": {
     "delete_cmd_postfix": "",
     "delete_cmd_prefix": "del ",
     "library": "var_list.py",
     "varRefreshCmd": "print(var_dic_list())"
    },
    "r": {
     "delete_cmd_postfix": ") ",
     "delete_cmd_prefix": "rm(",
     "library": "var_list.r",
     "varRefreshCmd": "cat(var_dic_list()) "
    }
   },
   "types_to_exclude": [
    "module",
    "function",
    "builtin_function_or_method",
    "instance",
    "_Feature"
   ],
   "window_display": false
  }
 },
 "nbformat": 4,
 "nbformat_minor": 2
}
