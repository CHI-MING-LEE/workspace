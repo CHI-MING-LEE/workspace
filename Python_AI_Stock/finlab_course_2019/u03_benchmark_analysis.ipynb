{
 "cells": [
  {
   "cell_type": "markdown",
   "metadata": {},
   "source": [
    "### 讀取大盤資料"
   ]
  },
  {
   "cell_type": "code",
   "execution_count": 2,
   "metadata": {},
   "outputs": [
    {
     "data": {
      "text/plain": [
       "date\n",
       "2006-01-02 09:00:00    6548.34\n",
       "2006-01-02 09:01:00    6457.61\n",
       "2006-01-02 09:02:00    6452.82\n",
       "2006-01-02 09:03:00    6452.39\n",
       "2006-01-02 09:04:00    6451.61\n",
       "Name: 台股指數, dtype: float64"
      ]
     },
     "execution_count": 2,
     "metadata": {},
     "output_type": "execute_result"
    }
   ],
   "source": [
    "from finlab.data import Data\n",
    "\n",
    "data = Data()\n",
    "\n",
    "twii = data.get(\"發行量加權股價指數\")\n",
    "\n",
    "twii = twii['台股指數']\n",
    "\n",
    "twii.head()"
   ]
  },
  {
   "cell_type": "markdown",
   "metadata": {},
   "source": [
    "### 整理加權指數 1分k"
   ]
  },
  {
   "cell_type": "code",
   "execution_count": 3,
   "metadata": {},
   "outputs": [],
   "source": [
    "twii = twii[twii.index.second == 0]"
   ]
  },
  {
   "cell_type": "markdown",
   "metadata": {},
   "source": [
    "### 畫的更美一點"
   ]
  },
  {
   "cell_type": "code",
   "execution_count": 4,
   "metadata": {},
   "outputs": [
    {
     "data": {
      "text/plain": [
       "<matplotlib.axes._subplots.AxesSubplot at 0x9ffc400>"
      ]
     },
     "execution_count": 4,
     "metadata": {},
     "output_type": "execute_result"
    },
    {
     "data": {
      "image/png": "[encoded data removed]",
      "text/plain": [
       "<Figure size 432x288 with 1 Axes>"
      ]
     },
     "metadata": {
      "needs_background": "light"
     },
     "output_type": "display_data"
    }
   ],
   "source": [
    "import matplotlib.pyplot as plt\n",
    "plt.style.use\n",
    "%matplotlib inline\n",
    "twii.hist()"
   ]
  },
  {
   "cell_type": "markdown",
   "metadata": {},
   "source": [
    "### DataFrame 小教室：groupby"
   ]
  },
  {
   "cell_type": "code",
   "execution_count": 5,
   "metadata": {},
   "outputs": [
    {
     "data": {
      "text/plain": [
       "0    15\n",
       "1    48\n",
       "dtype: int64"
      ]
     },
     "execution_count": 5,
     "metadata": {},
     "output_type": "execute_result"
    }
   ],
   "source": [
    "import pandas as pd\n",
    "\n",
    "s = pd.Series([1,2,3,4,5,6])\n",
    "s.groupby([0,1,0,1,0,1]).prod()"
   ]
  },
  {
   "cell_type": "code",
   "execution_count": 6,
   "metadata": {},
   "outputs": [
    {
     "data": {
      "text/html": [
       "<div>\n",
       "<style scoped>\n",
       "    .dataframe tbody tr th:only-of-type {\n",
       "        vertical-align: middle;\n",
       "    }\n",
       "\n",
       "    .dataframe tbody tr th {\n",
       "        vertical-align: top;\n",
       "    }\n",
       "\n",
       "    .dataframe thead th {\n",
       "        text-align: right;\n",
       "    }\n",
       "</style>\n",
       "<table border=\"1\" class=\"dataframe\">\n",
       "  <thead>\n",
       "    <tr style=\"text-align: right;\">\n",
       "      <th></th>\n",
       "      <th>a</th>\n",
       "      <th>b</th>\n",
       "    </tr>\n",
       "  </thead>\n",
       "  <tbody>\n",
       "    <tr>\n",
       "      <th>1</th>\n",
       "      <td>15</td>\n",
       "      <td>15</td>\n",
       "    </tr>\n",
       "    <tr>\n",
       "      <th>2</th>\n",
       "      <td>48</td>\n",
       "      <td>48</td>\n",
       "    </tr>\n",
       "  </tbody>\n",
       "</table>\n",
       "</div>"
      ],
      "text/plain": [
       "    a   b\n",
       "1  15  15\n",
       "2  48  48"
      ]
     },
     "execution_count": 6,
     "metadata": {},
     "output_type": "execute_result"
    }
   ],
   "source": [
    "df = pd.DataFrame({'a':s, 'b':s})\n",
    "df\n",
    "df.groupby([1,2,1,2,1,2]).prod()"
   ]
  },
  {
   "cell_type": "code",
   "execution_count": 25,
   "metadata": {},
   "outputs": [
    {
     "data": {
      "text/plain": [
       "時間\n",
       "2005-01-03 09:00:00   NaN\n",
       "2005-01-03 09:01:00   NaN\n",
       "2005-01-03 09:02:00   NaN\n",
       "2005-01-03 09:03:00   NaN\n",
       "2005-01-03 09:04:00   NaN\n",
       "Name: 發行量加權股價指數, dtype: float64"
      ]
     },
     "execution_count": 25,
     "metadata": {},
     "output_type": "execute_result"
    }
   ],
   "source": [
    "twii.head()"
   ]
  },
  {
   "cell_type": "markdown",
   "metadata": {},
   "source": [
    "### 每月漲跌"
   ]
  },
  {
   "cell_type": "code",
   "execution_count": 44,
   "metadata": {},
   "outputs": [
    {
     "data": {
      "text/html": [
       "<div>\n",
       "<style scoped>\n",
       "    .dataframe tbody tr th:only-of-type {\n",
       "        vertical-align: middle;\n",
       "    }\n",
       "\n",
       "    .dataframe tbody tr th {\n",
       "        vertical-align: top;\n",
       "    }\n",
       "\n",
       "    .dataframe thead tr th {\n",
       "        text-align: left;\n",
       "    }\n",
       "\n",
       "    .dataframe thead tr:last-of-type th {\n",
       "        text-align: right;\n",
       "    }\n",
       "</style>\n",
       "<table border=\"1\" class=\"dataframe\">\n",
       "  <thead>\n",
       "    <tr>\n",
       "      <th></th>\n",
       "      <th colspan=\"12\" halign=\"left\">發行量加權股價指數</th>\n",
       "    </tr>\n",
       "    <tr>\n",
       "      <th>month</th>\n",
       "      <th>1</th>\n",
       "      <th>2</th>\n",
       "      <th>3</th>\n",
       "      <th>4</th>\n",
       "      <th>5</th>\n",
       "      <th>6</th>\n",
       "      <th>7</th>\n",
       "      <th>8</th>\n",
       "      <th>9</th>\n",
       "      <th>10</th>\n",
       "      <th>11</th>\n",
       "      <th>12</th>\n",
       "    </tr>\n",
       "    <tr>\n",
       "      <th>year</th>\n",
       "      <th></th>\n",
       "      <th></th>\n",
       "      <th></th>\n",
       "      <th></th>\n",
       "      <th></th>\n",
       "      <th></th>\n",
       "      <th></th>\n",
       "      <th></th>\n",
       "      <th></th>\n",
       "      <th></th>\n",
       "      <th></th>\n",
       "      <th></th>\n",
       "    </tr>\n",
       "  </thead>\n",
       "  <tbody>\n",
       "    <tr>\n",
       "      <th>2005</th>\n",
       "      <td>NaN</td>\n",
       "      <td>NaN</td>\n",
       "      <td>NaN</td>\n",
       "      <td>NaN</td>\n",
       "      <td>NaN</td>\n",
       "      <td>NaN</td>\n",
       "      <td>NaN</td>\n",
       "      <td>NaN</td>\n",
       "      <td>NaN</td>\n",
       "      <td>NaN</td>\n",
       "      <td>NaN</td>\n",
       "      <td>NaN</td>\n",
       "    </tr>\n",
       "    <tr>\n",
       "      <th>2006</th>\n",
       "      <td>0.997532</td>\n",
       "      <td>1.004508</td>\n",
       "      <td>1.007977</td>\n",
       "      <td>1.084337</td>\n",
       "      <td>0.954709</td>\n",
       "      <td>0.979182</td>\n",
       "      <td>0.962736</td>\n",
       "      <td>1.024353</td>\n",
       "      <td>1.041030</td>\n",
       "      <td>1.020088</td>\n",
       "      <td>1.077820</td>\n",
       "      <td>1.033828</td>\n",
       "    </tr>\n",
       "    <tr>\n",
       "      <th>2007</th>\n",
       "      <td>0.984141</td>\n",
       "      <td>1.026277</td>\n",
       "      <td>0.997779</td>\n",
       "      <td>0.998860</td>\n",
       "      <td>1.034224</td>\n",
       "      <td>1.090640</td>\n",
       "      <td>1.045484</td>\n",
       "      <td>0.967150</td>\n",
       "      <td>1.055038</td>\n",
       "      <td>1.024782</td>\n",
       "      <td>0.884159</td>\n",
       "      <td>0.990669</td>\n",
       "    </tr>\n",
       "    <tr>\n",
       "      <th>2008</th>\n",
       "      <td>0.884186</td>\n",
       "      <td>1.118550</td>\n",
       "      <td>1.018999</td>\n",
       "      <td>1.040516</td>\n",
       "      <td>0.966273</td>\n",
       "      <td>0.872894</td>\n",
       "      <td>0.933611</td>\n",
       "      <td>1.003139</td>\n",
       "      <td>0.811693</td>\n",
       "      <td>0.851621</td>\n",
       "      <td>0.915788</td>\n",
       "      <td>1.029308</td>\n",
       "    </tr>\n",
       "    <tr>\n",
       "      <th>2009</th>\n",
       "      <td>0.925238</td>\n",
       "      <td>1.072783</td>\n",
       "      <td>1.143443</td>\n",
       "      <td>1.150020</td>\n",
       "      <td>1.149831</td>\n",
       "      <td>0.933490</td>\n",
       "      <td>1.100363</td>\n",
       "      <td>0.964429</td>\n",
       "      <td>1.100092</td>\n",
       "      <td>0.977482</td>\n",
       "      <td>1.032987</td>\n",
       "      <td>1.079911</td>\n",
       "    </tr>\n",
       "    <tr>\n",
       "      <th>2010</th>\n",
       "      <td>0.933114</td>\n",
       "      <td>0.973255</td>\n",
       "      <td>1.065083</td>\n",
       "      <td>1.010630</td>\n",
       "      <td>0.921258</td>\n",
       "      <td>0.993950</td>\n",
       "      <td>1.058840</td>\n",
       "      <td>0.981400</td>\n",
       "      <td>1.081602</td>\n",
       "      <td>1.005986</td>\n",
       "      <td>1.010304</td>\n",
       "      <td>1.071666</td>\n",
       "    </tr>\n",
       "    <tr>\n",
       "      <th>2011</th>\n",
       "      <td>1.019264</td>\n",
       "      <td>0.940330</td>\n",
       "      <td>1.009727</td>\n",
       "      <td>1.037379</td>\n",
       "      <td>0.997887</td>\n",
       "      <td>0.962593</td>\n",
       "      <td>0.999028</td>\n",
       "      <td>0.895557</td>\n",
       "      <td>0.933348</td>\n",
       "      <td>1.050144</td>\n",
       "      <td>0.909911</td>\n",
       "      <td>1.024328</td>\n",
       "    </tr>\n",
       "    <tr>\n",
       "      <th>2012</th>\n",
       "      <td>1.062923</td>\n",
       "      <td>1.080398</td>\n",
       "      <td>0.976797</td>\n",
       "      <td>0.945635</td>\n",
       "      <td>0.973310</td>\n",
       "      <td>0.999285</td>\n",
       "      <td>0.996465</td>\n",
       "      <td>1.017409</td>\n",
       "      <td>1.043004</td>\n",
       "      <td>0.928827</td>\n",
       "      <td>1.057789</td>\n",
       "      <td>1.015742</td>\n",
       "    </tr>\n",
       "    <tr>\n",
       "      <th>2013</th>\n",
       "      <td>1.019549</td>\n",
       "      <td>1.006110</td>\n",
       "      <td>1.002612</td>\n",
       "      <td>1.022106</td>\n",
       "      <td>1.019909</td>\n",
       "      <td>0.976669</td>\n",
       "      <td>1.005672</td>\n",
       "      <td>0.989387</td>\n",
       "      <td>1.018946</td>\n",
       "      <td>1.033789</td>\n",
       "      <td>0.994884</td>\n",
       "      <td>1.024347</td>\n",
       "    </tr>\n",
       "    <tr>\n",
       "      <th>2014</th>\n",
       "      <td>0.982705</td>\n",
       "      <td>1.020917</td>\n",
       "      <td>1.024272</td>\n",
       "      <td>0.993464</td>\n",
       "      <td>1.032358</td>\n",
       "      <td>1.034945</td>\n",
       "      <td>0.991779</td>\n",
       "      <td>1.012926</td>\n",
       "      <td>0.950261</td>\n",
       "      <td>1.000874</td>\n",
       "      <td>1.023665</td>\n",
       "      <td>1.013074</td>\n",
       "    </tr>\n",
       "    <tr>\n",
       "      <th>2015</th>\n",
       "      <td>1.005872</td>\n",
       "      <td>1.027792</td>\n",
       "      <td>0.996294</td>\n",
       "      <td>1.024369</td>\n",
       "      <td>0.987884</td>\n",
       "      <td>0.961030</td>\n",
       "      <td>0.929456</td>\n",
       "      <td>0.943404</td>\n",
       "      <td>1.000773</td>\n",
       "      <td>1.045601</td>\n",
       "      <td>0.972680</td>\n",
       "      <td>1.002097</td>\n",
       "    </tr>\n",
       "    <tr>\n",
       "      <th>2016</th>\n",
       "      <td>0.976871</td>\n",
       "      <td>1.032651</td>\n",
       "      <td>1.039670</td>\n",
       "      <td>0.958040</td>\n",
       "      <td>1.018822</td>\n",
       "      <td>1.015346</td>\n",
       "      <td>1.036673</td>\n",
       "      <td>1.009399</td>\n",
       "      <td>1.010806</td>\n",
       "      <td>1.013447</td>\n",
       "      <td>0.994681</td>\n",
       "      <td>1.001384</td>\n",
       "    </tr>\n",
       "    <tr>\n",
       "      <th>2017</th>\n",
       "      <td>1.021014</td>\n",
       "      <td>1.032020</td>\n",
       "      <td>1.006261</td>\n",
       "      <td>1.006164</td>\n",
       "      <td>1.017091</td>\n",
       "      <td>1.035291</td>\n",
       "      <td>1.003103</td>\n",
       "      <td>1.015196</td>\n",
       "      <td>0.980933</td>\n",
       "      <td>1.039471</td>\n",
       "      <td>0.978380</td>\n",
       "      <td>1.007805</td>\n",
       "    </tr>\n",
       "    <tr>\n",
       "      <th>2018</th>\n",
       "      <td>1.043309</td>\n",
       "      <td>0.974034</td>\n",
       "      <td>1.009618</td>\n",
       "      <td>0.976042</td>\n",
       "      <td>1.020368</td>\n",
       "      <td>0.996501</td>\n",
       "      <td>1.020356</td>\n",
       "      <td>1.000582</td>\n",
       "      <td>0.994794</td>\n",
       "      <td>0.890589</td>\n",
       "      <td>1.008763</td>\n",
       "      <td>0.983756</td>\n",
       "    </tr>\n",
       "    <tr>\n",
       "      <th>2019</th>\n",
       "      <td>1.021059</td>\n",
       "      <td>1.046003</td>\n",
       "      <td>0.985810</td>\n",
       "      <td>NaN</td>\n",
       "      <td>NaN</td>\n",
       "      <td>NaN</td>\n",
       "      <td>NaN</td>\n",
       "      <td>NaN</td>\n",
       "      <td>NaN</td>\n",
       "      <td>NaN</td>\n",
       "      <td>NaN</td>\n",
       "      <td>NaN</td>\n",
       "    </tr>\n",
       "  </tbody>\n",
       "</table>\n",
       "</div>"
      ],
      "text/plain": [
       "      發行量加權股價指數                                                              \\\n",
       "month        1         2         3         4         5         6         7    \n",
       "year                                                                          \n",
       "2005        NaN       NaN       NaN       NaN       NaN       NaN       NaN   \n",
       "2006   0.997532  1.004508  1.007977  1.084337  0.954709  0.979182  0.962736   \n",
       "2007   0.984141  1.026277  0.997779  0.998860  1.034224  1.090640  1.045484   \n",
       "2008   0.884186  1.118550  1.018999  1.040516  0.966273  0.872894  0.933611   \n",
       "2009   0.925238  1.072783  1.143443  1.150020  1.149831  0.933490  1.100363   \n",
       "2010   0.933114  0.973255  1.065083  1.010630  0.921258  0.993950  1.058840   \n",
       "2011   1.019264  0.940330  1.009727  1.037379  0.997887  0.962593  0.999028   \n",
       "2012   1.062923  1.080398  0.976797  0.945635  0.973310  0.999285  0.996465   \n",
       "2013   1.019549  1.006110  1.002612  1.022106  1.019909  0.976669  1.005672   \n",
       "2014   0.982705  1.020917  1.024272  0.993464  1.032358  1.034945  0.991779   \n",
       "2015   1.005872  1.027792  0.996294  1.024369  0.987884  0.961030  0.929456   \n",
       "2016   0.976871  1.032651  1.039670  0.958040  1.018822  1.015346  1.036673   \n",
       "2017   1.021014  1.032020  1.006261  1.006164  1.017091  1.035291  1.003103   \n",
       "2018   1.043309  0.974034  1.009618  0.976042  1.020368  0.996501  1.020356   \n",
       "2019   1.021059  1.046003  0.985810       NaN       NaN       NaN       NaN   \n",
       "\n",
       "                                                         \n",
       "month        8         9         10        11        12  \n",
       "year                                                     \n",
       "2005        NaN       NaN       NaN       NaN       NaN  \n",
       "2006   1.024353  1.041030  1.020088  1.077820  1.033828  \n",
       "2007   0.967150  1.055038  1.024782  0.884159  0.990669  \n",
       "2008   1.003139  0.811693  0.851621  0.915788  1.029308  \n",
       "2009   0.964429  1.100092  0.977482  1.032987  1.079911  \n",
       "2010   0.981400  1.081602  1.005986  1.010304  1.071666  \n",
       "2011   0.895557  0.933348  1.050144  0.909911  1.024328  \n",
       "2012   1.017409  1.043004  0.928827  1.057789  1.015742  \n",
       "2013   0.989387  1.018946  1.033789  0.994884  1.024347  \n",
       "2014   1.012926  0.950261  1.000874  1.023665  1.013074  \n",
       "2015   0.943404  1.000773  1.045601  0.972680  1.002097  \n",
       "2016   1.009399  1.010806  1.013447  0.994681  1.001384  \n",
       "2017   1.015196  0.980933  1.039471  0.978380  1.007805  \n",
       "2018   1.000582  0.994794  0.890589  1.008763  0.983756  \n",
       "2019        NaN       NaN       NaN       NaN       NaN  "
      ]
     },
     "execution_count": 44,
     "metadata": {},
     "output_type": "execute_result"
    }
   ],
   "source": [
    "start_price = twii.groupby([twii.index.year, twii.index.month]).first()\n",
    "last_price = twii.groupby([twii.index.year, twii.index.month]).last()\n",
    "profit = (last_price/start_price)\n",
    "\n",
    "profit.index.levels[0].name = 'year'\n",
    "profit.index.levels[1].name = 'month'\n",
    "profit\n",
    "profit = profit.reset_index()\n",
    "profit = profit.pivot(\"year\",\"month\")#['台股指數']\n",
    "profit\n",
    "#profit"
   ]
  },
  {
   "cell_type": "markdown",
   "metadata": {},
   "source": [
    "### 每月漲跌色溫圖"
   ]
  },
  {
   "cell_type": "code",
   "execution_count": 32,
   "metadata": {},
   "outputs": [
    {
     "data": {
      "text/plain": [
       "<matplotlib.axes._subplots.AxesSubplot at 0x1a331a90b8>"
      ]
     },
     "execution_count": 32,
     "metadata": {},
     "output_type": "execute_result"
    },
    {
     "data": {
      "image/png": "[encoded data removed]",
      "text/plain": [
       "<Figure size 720x720 with 2 Axes>"
      ]
     },
     "metadata": {},
     "output_type": "display_data"
    }
   ],
   "source": [
    "import seaborn as sns\n",
    "import matplotlib.pyplot as plt\n",
    "\n",
    "plt.rcParams['figure.figsize'] = (10, 10)\n",
    "\n",
    "sns.heatmap(profit)"
   ]
  },
  {
   "cell_type": "markdown",
   "metadata": {},
   "source": [
    "### 均線分析"
   ]
  },
  {
   "cell_type": "code",
   "execution_count": 47,
   "metadata": {},
   "outputs": [
    {
     "data": {
      "text/html": [
       "<div>\n",
       "<style scoped>\n",
       "    .dataframe tbody tr th:only-of-type {\n",
       "        vertical-align: middle;\n",
       "    }\n",
       "\n",
       "    .dataframe tbody tr th {\n",
       "        vertical-align: top;\n",
       "    }\n",
       "\n",
       "    .dataframe thead th {\n",
       "        text-align: right;\n",
       "    }\n",
       "</style>\n",
       "<table border=\"1\" class=\"dataframe\">\n",
       "  <thead>\n",
       "    <tr style=\"text-align: right;\">\n",
       "      <th></th>\n",
       "      <th>price</th>\n",
       "      <th>sma</th>\n",
       "      <th>bias</th>\n",
       "      <th>profit</th>\n",
       "      <th>year</th>\n",
       "    </tr>\n",
       "  </thead>\n",
       "  <tbody>\n",
       "    <tr>\n",
       "      <th>2006-04-04</th>\n",
       "      <td>6679.82</td>\n",
       "      <td>6579.448500</td>\n",
       "      <td>1.015255</td>\n",
       "      <td>1.007672</td>\n",
       "      <td>2006</td>\n",
       "    </tr>\n",
       "    <tr>\n",
       "      <th>2006-04-06</th>\n",
       "      <td>6724.97</td>\n",
       "      <td>6582.392333</td>\n",
       "      <td>1.021660</td>\n",
       "      <td>1.000336</td>\n",
       "      <td>2006</td>\n",
       "    </tr>\n",
       "    <tr>\n",
       "      <th>2006-04-07</th>\n",
       "      <td>6758.82</td>\n",
       "      <td>6587.102667</td>\n",
       "      <td>1.026069</td>\n",
       "      <td>0.998469</td>\n",
       "      <td>2006</td>\n",
       "    </tr>\n",
       "    <tr>\n",
       "      <th>2006-04-10</th>\n",
       "      <td>6759.38</td>\n",
       "      <td>6588.787000</td>\n",
       "      <td>1.025891</td>\n",
       "      <td>0.992578</td>\n",
       "      <td>2006</td>\n",
       "    </tr>\n",
       "    <tr>\n",
       "      <th>2006-04-11</th>\n",
       "      <td>6772.96</td>\n",
       "      <td>6591.395667</td>\n",
       "      <td>1.027546</td>\n",
       "      <td>0.978898</td>\n",
       "      <td>2006</td>\n",
       "    </tr>\n",
       "  </tbody>\n",
       "</table>\n",
       "</div>"
      ],
      "text/plain": [
       "              price          sma      bias    profit  year\n",
       "2006-04-04  6679.82  6579.448500  1.015255  1.007672  2006\n",
       "2006-04-06  6724.97  6582.392333  1.021660  1.000336  2006\n",
       "2006-04-07  6758.82  6587.102667  1.026069  0.998469  2006\n",
       "2006-04-10  6759.38  6588.787000  1.025891  0.992578  2006\n",
       "2006-04-11  6772.96  6591.395667  1.027546  0.978898  2006"
      ]
     },
     "execution_count": 47,
     "metadata": {},
     "output_type": "execute_result"
    }
   ],
   "source": [
    "# 每日開盤價\n",
    "twii_daily = twii.groupby(twii.index.date).first()\n",
    "twii_daily.index = pd.to_datetime(twii_daily.index)\n",
    "\n",
    "# 60日平均\n",
    "twii_average = twii_daily.rolling(60).mean()\n",
    "\n",
    "# 乖離率\n",
    "twii_bias = twii_daily / twii_average\n",
    "\n",
    "# 後60日漲跌\n",
    "twii_profit = twii_daily.shift(-60) / twii_daily\n",
    "\n",
    "# 將資料合併（方便之後做圖）\n",
    "df = pd.DataFrame({\n",
    "    'price': twii_daily,\n",
    "    'sma': twii_average,\n",
    "    'bias': twii_bias,\n",
    "    'profit': twii_profit,\n",
    "    'year': twii_daily.index.year,\n",
    "})\n",
    "\n",
    "# 刪除NaN\n",
    "df = df.dropna(how='any')\n",
    "df.head()"
   ]
  },
  {
   "cell_type": "markdown",
   "metadata": {},
   "source": [
    "### 乖離率做圖"
   ]
  },
  {
   "cell_type": "code",
   "execution_count": 59,
   "metadata": {},
   "outputs": [
    {
     "data": {
      "text/plain": [
       "<matplotlib.axes._subplots.AxesSubplot at 0x1a34afb2e8>"
      ]
     },
     "execution_count": 59,
     "metadata": {},
     "output_type": "execute_result"
    },
    {
     "data": {
      "image/png": "[encoded data removed]",
      "text/plain": [
       "<Figure size 720x720 with 1 Axes>"
      ]
     },
     "metadata": {},
     "output_type": "display_data"
    }
   ],
   "source": [
    "sns.scatterplot(x=\"bias\", y=\"profit\", data=df.tail(200), hue=\"year\", palette=\"Accent\", legend=\"full\")"
   ]
  },
  {
   "cell_type": "markdown",
   "metadata": {},
   "source": [
    "### 查看當前的乖離率"
   ]
  },
  {
   "cell_type": "code",
   "execution_count": 60,
   "metadata": {},
   "outputs": [
    {
     "data": {
      "text/plain": [
       "2019-03-08    1.041675\n",
       "2019-03-11    1.034278\n",
       "2019-03-12    1.034884\n",
       "2019-03-13    1.043519\n",
       "2019-03-14    1.045589\n",
       "Name: 台股指數, dtype: float64"
      ]
     },
     "execution_count": 60,
     "metadata": {},
     "output_type": "execute_result"
    }
   ],
   "source": [
    "twii_bias.tail()"
   ]
  }
 ],
 "metadata": {
  "kernelspec": {
   "display_name": "finlab",
   "language": "python",
   "name": "finlab"
  },
  "language_info": {
   "codemirror_mode": {
    "name": "ipython",
    "version": 3
   },
   "file_extension": ".py",
   "mimetype": "text/x-python",
   "name": "python",
   "nbconvert_exporter": "python",
   "pygments_lexer": "ipython3",
   "version": "3.7.2"
  }
 },
 "nbformat": 4,
 "nbformat_minor": 2
}
