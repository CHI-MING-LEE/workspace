{
 "cells": [
  {
   "cell_type": "markdown",
   "metadata": {},
   "source": [
    "# Final Project"
   ]
  },
  {
   "cell_type": "markdown",
   "metadata": {},
   "source": [
    "### 獲取歷史資料"
   ]
  },
  {
   "cell_type": "code",
   "execution_count": 45,
   "metadata": {},
   "outputs": [],
   "source": [
    "from finlab.data import Data\n",
    "\n",
    "data = Data()\n",
    "\n",
    "#這個final project非常特別，也是外面的課程不會教你的一些方法，都會納入其中！\n",
    "#首先，我們跟之前的每個單元一樣，使用data這個interface來抓取訓練資料\n",
    "\n",
    "# 獲取當月營收、收盤價\n",
    "rev      = data.get(\"當月營收\")\n",
    "close    = data.get(\"收盤價\")\n",
    "\n",
    "# 將當月營收改成15號才出來\n",
    "rev.index = rev.index.shift(5, 'd')\n",
    "\n",
    "#我們會設計一個模型，它只需要收盤價跟月營收，就可以判斷股價的漲跌！\n",
    "#我們會讓這個模型每個月的15號進行股票的調整，並且每次持有30檔以內的股票，看看效果如何～"
   ]
  },
  {
   "cell_type": "markdown",
   "metadata": {},
   "source": [
    "### 計算features"
   ]
  },
  {
   "cell_type": "code",
   "execution_count": 46,
   "metadata": {},
   "outputs": [],
   "source": [
    "# 有了歷史資料，也就是「月營收」跟「收盤價」後，我們就可以來設計feature了！\n",
    "# 我們首先要設計一些製作feature的function，方便我們重複使用\n",
    "# 首先我們設計第四個單元中，學過的bias，\n",
    "\n",
    "# 再來，我們來使用一種加速度指標！這種加速度指標的公式和原理，我們都曾經放在finlab的部落格上，假如有興趣可以去研究一下\n",
    "# 這邊我們就不額外節外生枝，方便大家有一個整體的概念\n",
    "# 最後，是小資族選股策略中的rsv指標，這個指標可以幫我們找出股票近期的相對位置，相較於歷史位置是高還是低\n",
    "# 另外呢，除了股價的指標，我們也可以使用mom\n",
    "# 也就是，當前月營收除以前一個月營收，這個指標，將月營收的狀況當成features\n",
    "\n",
    "\n",
    "import numpy as np\n",
    "\n",
    "avg = lambda n: close / close.rolling(n, min_periods=int(n/2)).mean()\n",
    "acc = lambda n: close.shift(n) / (close.shift(2*n) + close) * 2\n",
    "\n",
    "def rsv(n):\n",
    "    l = close.rolling(n, min_periods=1).min()\n",
    "    h = close.rolling(n, min_periods=1).max()\n",
    "    return (close - l) / (h - l)\n",
    "\n",
    "mom = rev / rev.shift()\n",
    "\n",
    "# 最後我們可以將features 結合起來，變成一張很大的table叫做features\n",
    "\n",
    "features = {\n",
    "    'mom1': mom,\n",
    "    'mom2': mom.shift(1),\n",
    "    'mom3': mom.shift(2),\n",
    "    'mom4': mom.shift(3),\n",
    "    'mom5': mom.shift(4),\n",
    "    'mom6': mom.shift(5),\n",
    "    'mom7': mom.shift(6),\n",
    "    'mom8': mom.shift(7),\n",
    "    'mom9': mom.shift(8),\n",
    "    \n",
    "    'avg5': avg(5),\n",
    "    'avg10': avg(10),\n",
    "    'avg20': avg(20),\n",
    "    'avg60': avg(60),\n",
    "    'avg120': avg(120),\n",
    "    'avg240': avg(240),\n",
    "    \n",
    "    'acc5': acc(5),\n",
    "    'acc10': acc(10),\n",
    "    'acc20': acc(20),\n",
    "    'acc60': acc(60),\n",
    "    'acc120': acc(120),\n",
    "    'acc240': acc(240),\n",
    "    \n",
    "    'rsv5': rsv(5),\n",
    "    'rsv10': rsv(10),\n",
    "    'rsv20': rsv(20),\n",
    "    'rsv60': rsv(60),\n",
    "    'rsv120': rsv(120),\n",
    "    'rsv240': rsv(240),\n",
    "} \n"
   ]
  },
  {
   "cell_type": "markdown",
   "metadata": {},
   "source": [
    "### 製作dataset\n",
    "\n",
    "##### 設定買賣頻率"
   ]
  },
  {
   "cell_type": "code",
   "execution_count": 82,
   "metadata": {},
   "outputs": [],
   "source": [
    "# 接下來我們要訣定取樣的頻率，\n",
    "# 我們可以設定每個月買入，這樣的話，我們的取樣頻率就是每個月，我們可以看revenue這個dataframe，\n",
    "# 它的index剛好就是每個月的日期，所以我們將它額外存起來，叫做every_month\n",
    "\n",
    "#every_week = close.index[close.index.weekday == 1]\n",
    "every_month = rev.index"
   ]
  },
  {
   "cell_type": "markdown",
   "metadata": {},
   "source": [
    "##### 將dataframe 組裝起來"
   ]
  },
  {
   "cell_type": "code",
   "execution_count": 66,
   "metadata": {},
   "outputs": [],
   "source": [
    "# 接下來我們就可以將剛剛的features這個dictionary，每個月取樣，並轉換成dataset，\n",
    "# 首先我們先來看單一個feature要怎麼轉換型態：\n",
    "# 首先我們可以取bias 20，我們可以看到它是一張dataframe，但是它的頻率是「每天」，所以我們可以先用reindex\n",
    "# 將每天的頻率變成每個月\n",
    "# 然後呢，我們也希望這張dataframe進一步轉換成machine learning可以學習的格式，\n",
    "# 所以使用unstack來將dataframe變成series，之後我們對於每個feature都如此，將每個feature都變成一條series，最後再將所有的series合併起來\n",
    "# 就可以產生出machine learning讀的懂得dataframe囉！\n",
    "# 那要怎麼將d所有的feature都做上述的操作呢？我們可以用for迴圈，去將所有的feature都做一次剛剛的動作，\n",
    "# 這邊的name就是feature名稱，而df就是原feature最原始的dataframe\n",
    "# 如此一來我們就可以對所有的features都做一樣的操作，並且將一個個結果都存到dataset裡面\n",
    "# 最後呢，我們再將dataset從dictionary轉換成dataframe就可以完成囉！\n",
    "# 我們可以額外將feature_names給存起來，這樣之後就可以輕易的增刪feature，而不需要直接改dataframe\n",
    "\n",
    "import pandas as pd\n",
    "\n",
    "\n",
    "dataset = {}\n",
    "\n",
    "for n,s in features.items():\n",
    "    dataset[n] = s.reindex(every_month, method='ffill').unstack() \n",
    "\n",
    "dataset = pd.DataFrame(dataset)\n",
    "\n",
    "#dates = sorted(list(set(dataset.reset_index()['date'])))\n",
    "feature_names = dataset.columns\n"
   ]
  },
  {
   "cell_type": "markdown",
   "metadata": {},
   "source": [
    "### 新增 label"
   ]
  },
  {
   "cell_type": "code",
   "execution_count": 67,
   "metadata": {},
   "outputs": [],
   "source": [
    "# 雖然我們有很多的feature了，但是沒有label，所以呢，我們接下來就要製作一些label讓機器學習模型來預測囉！\n",
    "# 我們可以用finlab.ml裡面已經寫好的function，幫我們快速的來加入label，這個function叫做add_profit_prediction\n",
    "# 它會將dataset新增一個新的column叫做return，也就是報酬率的意思！\n",
    "\n",
    "# 在最後的解鎖內容，我們將教大家如何讓神經網路的訓練效果變得更好，\n",
    "# 以往我們訓練神經網路，都是用來預測報酬率，或是夏普值，\n",
    "# 但在我們的實驗中，我們發現報酬率非常容易受大盤的影響，\n",
    "# 也就是當大盤不好的時候，報酬率普遍都不好，當大盤很好的時候，報酬率普遍都很好\n",
    "# 受到大盤的影響，預測報酬率非常的困難，所以我們可以預測另一種東西，來選出好的股票，也就是「股票的排名」\n",
    "# \n",
    "# 另外，我們也會特別計算股票的排名，rank，假如某檔股票在同個月份中，有最高的報酬率，它的rank會是1，假如報酬率最低\n",
    "# 則是0，將報酬率從小到大排列，這個就是訓練神經網路非常重要的一個方法，我們不是預測報酬率，\n",
    "#\n",
    "# 預測股票的排名會比直接預測股票的漲跌還要有意義，就算大盤大跌，還是可以選出跌幅比較小的股票，大盤漲的時候，也可以\n",
    "# 選出漲幅比較高的股票，簡而言之，我們選的股票在所有的股票裡面，比較容易抗跌、比較容易上漲，的股票！\n",
    "# 這也是本門課中，我覺得非常有價值的選股小撇步，讓模型的預測能力可以大躍進。\n",
    "\n",
    "import finlab.ml as ml\n",
    "\n",
    "def add_profit_prediction(dataset):\n",
    "    \n",
    "    dates = sorted(list(set(dataset.reset_index()['date'])))\n",
    "    \n",
    "    adj_open = data.get_adj('開盤價')\n",
    "    \n",
    "    tomorrow_adj_open = adj_open.shift(-1)\n",
    "    tomorrow_adj_open = tomorrow_adj_open.reindex(dates, method='bfill')\n",
    "    \n",
    "    \n",
    "    p = (tomorrow_adj_open.shift(-1) / tomorrow_adj_open)\n",
    "    dataset['return'] = p.unstack()\n",
    "    \n",
    "def add_rank_prediction(dataset):\n",
    "    \n",
    "    dates = sorted(list(set(dataset.reset_index()['date'])))\n",
    "    \n",
    "    adj_open = data.get_adj('開盤價')\n",
    "    \n",
    "    tomorrow_adj_open = adj_open.shift(-1)\n",
    "    tomorrow_adj_open = tomorrow_adj_open.reindex(dates, method='bfill')\n",
    "    \n",
    "    \n",
    "    p = (tomorrow_adj_open.shift(-1) / tomorrow_adj_open).rank(axis=1, pct=True)\n",
    "    dataset['rank'] = p.unstack()\n",
    "    \n",
    "add_profit_prediction(dataset)\n",
    "add_rank_prediction(dataset)"
   ]
  },
  {
   "cell_type": "code",
   "execution_count": 35,
   "metadata": {},
   "outputs": [],
   "source": [
    "#%matplotlib inline\n",
    "#\n",
    "#def add_prediction(dataset):\n",
    "#    \n",
    "#    dates = sorted(list(set(dataset.reset_index()['date'])))\n",
    "#    \n",
    "#    data = Data()\n",
    "#    adj_open = data.get_adj('開盤價')\n",
    "#    \n",
    "#    tomorrow_adj_open = adj_open.shift(-1)\n",
    "#    tomorrow_adj_open = tomorrow_adj_open.reindex(dates, method='bfill')\n",
    "#    \n",
    "#    \n",
    "#    p = (tomorrow_adj_open.shift(-1) / tomorrow_adj_open)\n",
    "#    dataset['rank'] = p.rank(axis=1, pct=True).unstack()\n",
    "#    dataset['rank'] = p.unstack()\n",
    "#    \n",
    "#add_prediction(dataset)\n",
    "#"
   ]
  },
  {
   "cell_type": "code",
   "execution_count": 68,
   "metadata": {},
   "outputs": [
    {
     "data": {
      "text/plain": [
       "['acc10',\n",
       " 'acc20',\n",
       " 'acc5',\n",
       " 'acc60',\n",
       " 'avg10',\n",
       " 'avg120',\n",
       " 'avg20',\n",
       " 'avg240',\n",
       " 'avg5',\n",
       " 'avg60',\n",
       " 'mom1',\n",
       " 'mom2',\n",
       " 'mom3',\n",
       " 'mom4',\n",
       " 'mom5',\n",
       " 'mom6',\n",
       " 'mom7',\n",
       " 'mom8',\n",
       " 'mom9',\n",
       " 'rsv10',\n",
       " 'rsv120',\n",
       " 'rsv20',\n",
       " 'rsv240',\n",
       " 'rsv5',\n",
       " 'rsv60']"
      ]
     },
     "execution_count": 68,
     "metadata": {},
     "output_type": "execute_result"
    }
   ],
   "source": [
    "# 我們剛剛也有說，可以用任意刪減feature_names來決定說我們要用哪些feature\n",
    "# 用越多的feature不一定越好，例如我們把擲銅板的資料也讓機器學習預測，那反而會造成預測的結果不好喔！\n",
    "# 所以我們可以移除一些feature，以除的方法如下：\n",
    "# 我們可以產生一個set這個元素，set這個元素以面就是包含了所有的feature名稱\n",
    "# 我們可以將不想要的feature名稱給刪除，只要將他們從原本的set中減掉即可\n",
    "# 最後我們可以將這個feature_names還原成原本的list\n",
    "# 最後我們可以用sorted讓list的順序比較整齊\n",
    "\n",
    "feature_names = sorted(list(set(feature_names) - {'acc120', 'acc240', 'prediction'}))\n",
    "feature_names"
   ]
  },
  {
   "cell_type": "code",
   "execution_count": 70,
   "metadata": {},
   "outputs": [],
   "source": [
    "# 神經網路最怕的就是outlier，outlier就是那些過大或過小的testcase，會造成神經網路訓練結果不好\n",
    "# 所以我們可以寫一個drop_extreme_case這個function來將dataset中比較極端的testcase刪除，\n",
    "# 也就是我們要將一些row刪除，要刪除哪些rows呢？就是當指定的feature_names太大或太小的時候，\n",
    "# 而什麼時候太大或太小呢？我們可以定義thresh，來將百分之1的極端值給刪除\n",
    "\n",
    "# 這邊我將function直接貼過來，我們用drop_cases來檢查是否某條row包含極端數值，剛開始這條series的長度會等於dataset的row的數量\n",
    "# 然後對於每個feature，去檢查是否rows是否為極值，這行有很多的不林運算，其中「|」代表或的意思，\n",
    "# 也就是只要「|」的左邊跟右邊，任何一個為True，則這個運算就是True\n",
    "# 而這邊的extreme_cases是向量運算，也就是extreme_cases是一個series，裡面的每個Boolearn都會對應到每條row是否被刪除\n",
    "# 等式右邊的含意就是：假如extreme_cases是True，或是當feature的數值的大小過小，當feature的數值的大小太大，\n",
    "# 都會讓extreme_cases變成True\n",
    "# 最後我們就可以將extreme_cases為True的部分給刪除，也就是保留不是extreme_cases的rows，\n",
    "# 所以我們需要選取extreme_cases不為True的這些rows\n",
    "\n",
    "def drop_extreme_case(dataset, feature_names, thresh=0.01):\n",
    "    \n",
    "    extreme_cases = pd.Series(False, index=dataset.index)\n",
    "    for f in feature_names:\n",
    "        tf = dataset[f]\n",
    "        extreme_cases = drop_cases | (tf < tf.quantile(thresh)) | (tf > tf.quantile(1-thresh))\n",
    "    dataset = dataset[~extreme_cases]\n",
    "    return dataset\n",
    "\n",
    "# 接下來我們就可以來使用這個function，\n",
    "# 我們希望新的dataset可以變成，將所選的features的前後百分之1％都刪除，有哪些feature呢？\n",
    "# 有 avg60、120、240、mom1～5，因為這些極值會影響到訓練的結果\n",
    "    \n",
    "dataset = drop_extreme_case(dataset, [\n",
    "    'avg60', 'avg120', 'avg240','mom1', 'mom2', 'mom3', 'mom4', 'mom5'\n",
    "])"
   ]
  },
  {
   "cell_type": "code",
   "execution_count": 71,
   "metadata": {},
   "outputs": [],
   "source": [
    "# 最後一步驟，就是將dataset當中有NaN的row給刪除\n",
    "# 並且將日期設定為index\n",
    "\n",
    "dataset = dataset.dropna(how='any')\n",
    "dataset = dataset.reset_index().set_index('date')\n",
    "\n",
    "# 然後將資料分成訓練用的data跟回測用的data\n",
    "\n",
    "dataset_train = dataset[:'2015']\n",
    "dataset_test = dataset['2016':]"
   ]
  },
  {
   "cell_type": "markdown",
   "metadata": {},
   "source": [
    "### 神經網路模型"
   ]
  },
  {
   "cell_type": "code",
   "execution_count": 73,
   "metadata": {},
   "outputs": [
    {
     "name": "stdout",
     "output_type": "stream",
     "text": [
      "_________________________________________________________________\n",
      "Layer (type)                 Output Shape              Param #   \n",
      "=================================================================\n",
      "dense_13 (Dense)             (None, 100)               2600      \n",
      "_________________________________________________________________\n",
      "dense_14 (Dense)             (None, 100)               10100     \n",
      "_________________________________________________________________\n",
      "dropout_5 (Dropout)          (None, 100)               0         \n",
      "_________________________________________________________________\n",
      "dense_15 (Dense)             (None, 1)                 101       \n",
      "=================================================================\n",
      "Total params: 12,801\n",
      "Trainable params: 12,801\n",
      "Non-trainable params: 0\n",
      "_________________________________________________________________\n",
      "start fitting\n"
     ]
    }
   ],
   "source": [
    "import os\n",
    "import keras\n",
    "\n",
    "\n",
    "# 接下來我們可以建造一個神經網路\n",
    "# 首先我們可以先import keras\n",
    "# 然後再設定兩層dense layers，每層layers有100個神經原\n",
    "# 這兩層layers的activation function都是relu且數值\n",
    "# 最後一層使用dropout，這層dropout可以讓weight每次調整的時候，input有一定百分支70％的機率不會被更新，\n",
    "# 用來預防overfitting用的\n",
    "# 我們可以使用compile函數，建立好我們的模型\n",
    "# 最後我們可以使用fit函數，開始神經網路的訓練\n",
    "\n",
    "#os.environ['KMP_DUPLICATE_LIB_OK']='True'\n",
    "\n",
    "\n",
    "model = keras.models.Sequential()\n",
    "model.add(keras.layers.Dense(100, activation='relu',\n",
    "                      input_shape=(len(feature_names),),\n",
    "                      kernel_initializer=he_normal(seed=0)))\n",
    "model.add(keras.layers.Dense(100, activation='relu',\n",
    "                      kernel_initializer=he_normal(seed=0)))\n",
    "model.add(keras.layers.Dropout(0.7))\n",
    "model.add(keras.layers.Dense(1, activation='sigmoid'))\n",
    "\n",
    "\n",
    "model.summary()\n",
    "\n",
    "model.compile(loss='mean_squared_error',\n",
    "              optimizer=\"adam\",)\n",
    "\n",
    "print('start fitting')\n",
    "history = model.fit(dataset_train[feature_names], dataset_train['rank'],\n",
    "                    batch_size=1000,\n",
    "                    epochs=225,\n",
    "                    verbose=0,\n",
    "                    validation_split=0.1, )\n",
    "\n"
   ]
  },
  {
   "cell_type": "markdown",
   "metadata": {},
   "source": [
    "### 結果"
   ]
  },
  {
   "cell_type": "code",
   "execution_count": 74,
   "metadata": {},
   "outputs": [
    {
     "data": {
      "text/plain": [
       "[<matplotlib.lines.Line2D at 0x1664092b0>]"
      ]
     },
     "execution_count": 74,
     "metadata": {},
     "output_type": "execute_result"
    },
    {
     "data": {
      "image/png": "[encoded data removed]",
      "text/plain": [
       "<Figure size 720x432 with 1 Axes>"
      ]
     },
     "metadata": {},
     "output_type": "display_data"
    }
   ],
   "source": [
    "# 我們可以將結果給印出來，可以發現loss，也就是error，隨著訓練Epoch的次數不斷的\n",
    "# 而val_loss則是優化到一個程度後，就沒辦法再優化了\n",
    "\n",
    "import matplotlib.pyplot as plt\n",
    "plt.plot(history.history['val_loss'][1:])\n",
    "plt.plot(history.history['loss'][1:])"
   ]
  },
  {
   "cell_type": "markdown",
   "metadata": {},
   "source": [
    "### lightgbm Model"
   ]
  },
  {
   "cell_type": "code",
   "execution_count": 75,
   "metadata": {},
   "outputs": [
    {
     "data": {
      "text/plain": [
       "LGBMRegressor(boosting_type='gbdt', class_weight=None, colsample_bytree=1.0,\n",
       "       importance_type='split', learning_rate=0.1, max_depth=-1,\n",
       "       min_child_samples=20, min_child_weight=0.001, min_split_gain=0.0,\n",
       "       n_estimators=500, n_jobs=-1, num_leaves=31, objective=None,\n",
       "       random_state=None, reg_alpha=0.0, reg_lambda=0.0, silent=True,\n",
       "       subsample=1.0, subsample_for_bin=200000, subsample_freq=0)"
      ]
     },
     "execution_count": 75,
     "metadata": {},
     "output_type": "execute_result"
    }
   ],
   "source": [
    "# 這邊我們同時可以使用之前交過的lightgbm跟random forest來訓練額外的模型\n",
    "\n",
    "import lightgbm as lgb\n",
    "cf = lgb.LGBMRegressor(n_estimators=500)\n",
    "cf.fit(dataset_train[feature_names].astype(float), dataset_train['rank'])"
   ]
  },
  {
   "cell_type": "markdown",
   "metadata": {},
   "source": [
    "### Random Forest Model"
   ]
  },
  {
   "cell_type": "code",
   "execution_count": 76,
   "metadata": {},
   "outputs": [
    {
     "data": {
      "text/plain": [
       "RandomForestRegressor(bootstrap=True, criterion='mse', max_depth=None,\n",
       "           max_features='auto', max_leaf_nodes=None,\n",
       "           min_impurity_decrease=0.0, min_impurity_split=None,\n",
       "           min_samples_leaf=1, min_samples_split=2,\n",
       "           min_weight_fraction_leaf=0.0, n_estimators=100, n_jobs=None,\n",
       "           oob_score=False, random_state=None, verbose=0, warm_start=False)"
      ]
     },
     "execution_count": 76,
     "metadata": {},
     "output_type": "execute_result"
    }
   ],
   "source": [
    "from sklearn.ensemble import RandomForestRegressor\n",
    "\n",
    "cf2 = RandomForestRegressor(n_estimators=100)\n",
    "cf2.fit(dataset_train[feature_names].astype(float), dataset_train['rank'])"
   ]
  },
  {
   "cell_type": "code",
   "execution_count": 77,
   "metadata": {},
   "outputs": [
    {
     "data": {
      "text/plain": [
       "<matplotlib.axes._subplots.AxesSubplot at 0x1662b9940>"
      ]
     },
     "execution_count": 77,
     "metadata": {},
     "output_type": "execute_result"
    },
    {
     "data": {
      "image/png": "[encoded data removed]",
      "text/plain": [
       "<Figure size 432x288 with 1 Axes>"
      ]
     },
     "metadata": {
      "needs_background": "dark"
     },
     "output_type": "display_data"
    }
   ],
   "source": [
    "# 另外我們也可以畫出哪些feature是比較重要的，做一個比較，\n",
    "# 大家可以根據feature重要程度，來新增或刪除features，可以調整到最好的效果\n",
    "\n",
    "feature_imp = pd.DataFrame(zip(cf.feature_importances_, feature_names), \n",
    "                           columns=['Value','Feature']).sort_values('Value', ascending=False)\n",
    "feature_imp\n",
    "\n",
    "%matplotlib inline\n",
    "import seaborn as sns\n",
    "sns.barplot(x=\"Value\", y=\"Feature\", data=feature_imp)"
   ]
  },
  {
   "cell_type": "markdown",
   "metadata": {},
   "source": [
    "### Ensemble learning"
   ]
  },
  {
   "cell_type": "code",
   "execution_count": 78,
   "metadata": {},
   "outputs": [
    {
     "name": "stderr",
     "output_type": "stream",
     "text": [
      "/Users/cheng-yuhan/miniconda3/envs/finlab/lib/python3.7/site-packages/ipykernel_launcher.py:2: SettingWithCopyWarning: \n",
      "A value is trying to be set on a copy of a slice from a DataFrame.\n",
      "Try using .loc[row_indexer,col_indexer] = value instead\n",
      "\n",
      "See the caveats in the documentation: http://pandas.pydata.org/pandas-docs/stable/indexing.html#indexing-view-versus-copy\n",
      "  \n",
      "/Users/cheng-yuhan/miniconda3/envs/finlab/lib/python3.7/site-packages/ipykernel_launcher.py:6: SettingWithCopyWarning: \n",
      "A value is trying to be set on a copy of a slice from a DataFrame.\n",
      "Try using .loc[row_indexer,col_indexer] = value instead\n",
      "\n",
      "See the caveats in the documentation: http://pandas.pydata.org/pandas-docs/stable/indexing.html#indexing-view-versus-copy\n",
      "  \n",
      "/Users/cheng-yuhan/miniconda3/envs/finlab/lib/python3.7/site-packages/ipykernel_launcher.py:9: SettingWithCopyWarning: \n",
      "A value is trying to be set on a copy of a slice from a DataFrame.\n",
      "Try using .loc[row_indexer,col_indexer] = value instead\n",
      "\n",
      "See the caveats in the documentation: http://pandas.pydata.org/pandas-docs/stable/indexing.html#indexing-view-versus-copy\n",
      "  if __name__ == '__main__':\n"
     ]
    }
   ],
   "source": [
    "# 剛剛訓練的資料，我們使用dataset_train，所以模型都是用這些資料進行訓練的\n",
    "# 而我們也可以來看dataset_test，這個是機器學習模型沒有看過的資料\n",
    "# 對於dataset_test，我們就可以來回測看看，是否機器學習模型已經學會了如何選股票的標的\n",
    "# 我們可以用model.predict、cf.predict、cf2.predict將預測的結果給存起來\n",
    "# 分別存放在dataset_test之中，所以可以看到dataset_test多了三個column分別是result、result2、result3\n",
    "# 方便我們等會拿來回測時使用\n",
    "\n",
    "vals = model.predict(dataset_test[feature_names].astype(float))\n",
    "dataset_test['result'] = pd.Series(vals.swapaxes(0,1)[0], dataset_test.index)\n",
    "\n",
    "\n",
    "vals = cf.predict(dataset_test[feature_names].astype(float))\n",
    "dataset_test['result2'] = pd.Series(vals, dataset_test.index)\n",
    "\n",
    "vals = cf2.predict(dataset_test[feature_names].astype(float))\n",
    "dataset_test['result3'] = pd.Series(vals, dataset_test.index)"
   ]
  },
  {
   "cell_type": "code",
   "execution_count": 88,
   "metadata": {},
   "outputs": [
    {
     "data": {
      "text/plain": [
       "<matplotlib.axes._subplots.AxesSubplot at 0x1287777f0>"
      ]
     },
     "execution_count": 88,
     "metadata": {},
     "output_type": "execute_result"
    },
    {
     "data": {
      "image/png": "[encoded data removed]",
      "text/plain": [
       "<Figure size 720x432 with 1 Axes>"
      ]
     },
     "metadata": {},
     "output_type": "display_data"
    }
   ],
   "source": [
    "# 接下來我們就可以來進行回測了\n",
    "# 首先我們將所有的日期給取出來，並且從小牌到大\n",
    "# 下來我們創造一個return來存每個月的報酬率\n",
    "# 然後就可以來進行報酬率的計算\n",
    "# 對於每個月15號，我們將該時段的dataset_test給拿出來，也就是當月的股票清單\n",
    "# 並且我們將「神經網路」、「lightgbm」和「random forest」的結果進行加總當作是rank，也就是總分\n",
    "# 並且選出總分最大的30檔股票\n",
    "# 並且將資產平均買入這30檔股票，所以平均報酬率將會是這30檔股票的平均\n",
    "# 最後將算出來的平均報酬率放入returns中存起來\n",
    "\n",
    "import math\n",
    "\n",
    "\n",
    "dates = sorted(list(set(dataset_test.index)))\n",
    "\n",
    "\n",
    "rs = []\n",
    "for d in dates:\n",
    "    dataset_time = dataset_test.loc[d]\n",
    "    rank = dataset_time['result']+dataset_time['result2'] +dataset_time['result3'] \n",
    "    \n",
    "    condition = (rank > rank.nlargest(30).iloc[-1]) \n",
    "    \n",
    "    r = dataset_time['return'][condition].mean()\n",
    "    \n",
    "    if math.isnan(r):\n",
    "        r = 1\n",
    "        \n",
    "    rs.append(r * (1-3/1000-1.425/1000*2*0.6))\n",
    "\n",
    "# 接下來我們將0050的結果與策略的結果作一個比較，首先，我們先將原本的returns報酬率轉換成series，\n",
    "# 接下來我們將0050的數值拿出來，跟策略的報酬率一起繪製出來\n",
    "# 最後我們可以加上每次換股票的摩擦成本，以易又是考慮手續費跟證交稅\n",
    "\n",
    "rs = pd.Series(rs, index=dates).cumprod()\n",
    "\n",
    "s0050 = close['0050']['2016':]\n",
    "\n",
    "pd.DataFrame({'nn strategy return':rs.reindex(s.index, method='ffill'), '0050 return':s0050/s0050[0]}).plot()"
   ]
  }
 ],
 "metadata": {
  "kernelspec": {
   "display_name": "finlab",
   "language": "python",
   "name": "finlab"
  },
  "language_info": {
   "codemirror_mode": {
    "name": "ipython",
    "version": 3
   },
   "file_extension": ".py",
   "mimetype": "text/x-python",
   "name": "python",
   "nbconvert_exporter": "python",
   "pygments_lexer": "ipython3",
   "version": "3.7.2"
  }
 },
 "nbformat": 4,
 "nbformat_minor": 2
}
