{
 "cells": [
  {
   "cell_type": "markdown",
   "metadata": {},
   "source": [
    "# Support Vector Machine (SVM)"
   ]
  },
  {
   "cell_type": "markdown",
   "metadata": {},
   "source": [
    "## features"
   ]
  },
  {
   "cell_type": "code",
   "execution_count": 1,
   "metadata": {},
   "outputs": [
    {
     "data": {
      "text/html": [
       "<div>\n",
       "<style scoped>\n",
       "    .dataframe tbody tr th:only-of-type {\n",
       "        vertical-align: middle;\n",
       "    }\n",
       "\n",
       "    .dataframe tbody tr th {\n",
       "        vertical-align: top;\n",
       "    }\n",
       "\n",
       "    .dataframe thead th {\n",
       "        text-align: right;\n",
       "    }\n",
       "</style>\n",
       "<table border=\"1\" class=\"dataframe\">\n",
       "  <thead>\n",
       "    <tr style=\"text-align: right;\">\n",
       "      <th></th>\n",
       "      <th></th>\n",
       "      <th>R101_ROA稅後息前</th>\n",
       "      <th>R11V_ROA綜合損益</th>\n",
       "      <th>R103_ROE稅後</th>\n",
       "      <th>R11U_ROE綜合損益</th>\n",
       "      <th>R145_稅前息前折舊前淨利率</th>\n",
       "      <th>R105_營業毛利率</th>\n",
       "      <th>R106_營業利益率</th>\n",
       "      <th>R107_稅前淨利率</th>\n",
       "      <th>R108_稅後淨利率</th>\n",
       "      <th>R112_業外收支營收率</th>\n",
       "      <th>...</th>\n",
       "      <th>R409_淨值成長率</th>\n",
       "      <th>R501_流動比率</th>\n",
       "      <th>R502_速動比率</th>\n",
       "      <th>R503_利息支出率</th>\n",
       "      <th>R678_營運資金</th>\n",
       "      <th>R607_總資產週轉次數</th>\n",
       "      <th>R610_存貨週轉率</th>\n",
       "      <th>R612_固定資產週轉次數</th>\n",
       "      <th>R613_淨值週轉率次</th>\n",
       "      <th>R69B_自由現金流量</th>\n",
       "    </tr>\n",
       "    <tr>\n",
       "      <th>stock_id</th>\n",
       "      <th>date</th>\n",
       "      <th></th>\n",
       "      <th></th>\n",
       "      <th></th>\n",
       "      <th></th>\n",
       "      <th></th>\n",
       "      <th></th>\n",
       "      <th></th>\n",
       "      <th></th>\n",
       "      <th></th>\n",
       "      <th></th>\n",
       "      <th></th>\n",
       "      <th></th>\n",
       "      <th></th>\n",
       "      <th></th>\n",
       "      <th></th>\n",
       "      <th></th>\n",
       "      <th></th>\n",
       "      <th></th>\n",
       "      <th></th>\n",
       "      <th></th>\n",
       "      <th></th>\n",
       "    </tr>\n",
       "  </thead>\n",
       "  <tbody>\n",
       "    <tr>\n",
       "      <th rowspan=\"5\" valign=\"top\">000116</th>\n",
       "      <th>2013-05-15</th>\n",
       "      <td>NaN</td>\n",
       "      <td>NaN</td>\n",
       "      <td>NaN</td>\n",
       "      <td>NaN</td>\n",
       "      <td>NaN</td>\n",
       "      <td>NaN</td>\n",
       "      <td>NaN</td>\n",
       "      <td>NaN</td>\n",
       "      <td>NaN</td>\n",
       "      <td>NaN</td>\n",
       "      <td>...</td>\n",
       "      <td>NaN</td>\n",
       "      <td>NaN</td>\n",
       "      <td>NaN</td>\n",
       "      <td>NaN</td>\n",
       "      <td>NaN</td>\n",
       "      <td>NaN</td>\n",
       "      <td>NaN</td>\n",
       "      <td>NaN</td>\n",
       "      <td>NaN</td>\n",
       "      <td>NaN</td>\n",
       "    </tr>\n",
       "    <tr>\n",
       "      <th>2013-08-14</th>\n",
       "      <td>NaN</td>\n",
       "      <td>NaN</td>\n",
       "      <td>NaN</td>\n",
       "      <td>NaN</td>\n",
       "      <td>NaN</td>\n",
       "      <td>NaN</td>\n",
       "      <td>NaN</td>\n",
       "      <td>NaN</td>\n",
       "      <td>NaN</td>\n",
       "      <td>NaN</td>\n",
       "      <td>...</td>\n",
       "      <td>NaN</td>\n",
       "      <td>NaN</td>\n",
       "      <td>NaN</td>\n",
       "      <td>NaN</td>\n",
       "      <td>NaN</td>\n",
       "      <td>NaN</td>\n",
       "      <td>NaN</td>\n",
       "      <td>NaN</td>\n",
       "      <td>NaN</td>\n",
       "      <td>NaN</td>\n",
       "    </tr>\n",
       "    <tr>\n",
       "      <th>2013-11-14</th>\n",
       "      <td>NaN</td>\n",
       "      <td>NaN</td>\n",
       "      <td>NaN</td>\n",
       "      <td>NaN</td>\n",
       "      <td>NaN</td>\n",
       "      <td>NaN</td>\n",
       "      <td>NaN</td>\n",
       "      <td>NaN</td>\n",
       "      <td>NaN</td>\n",
       "      <td>NaN</td>\n",
       "      <td>...</td>\n",
       "      <td>NaN</td>\n",
       "      <td>NaN</td>\n",
       "      <td>NaN</td>\n",
       "      <td>NaN</td>\n",
       "      <td>NaN</td>\n",
       "      <td>NaN</td>\n",
       "      <td>NaN</td>\n",
       "      <td>NaN</td>\n",
       "      <td>NaN</td>\n",
       "      <td>NaN</td>\n",
       "    </tr>\n",
       "    <tr>\n",
       "      <th>2014-03-31</th>\n",
       "      <td>NaN</td>\n",
       "      <td>NaN</td>\n",
       "      <td>NaN</td>\n",
       "      <td>NaN</td>\n",
       "      <td>NaN</td>\n",
       "      <td>NaN</td>\n",
       "      <td>NaN</td>\n",
       "      <td>NaN</td>\n",
       "      <td>NaN</td>\n",
       "      <td>NaN</td>\n",
       "      <td>...</td>\n",
       "      <td>NaN</td>\n",
       "      <td>NaN</td>\n",
       "      <td>NaN</td>\n",
       "      <td>NaN</td>\n",
       "      <td>NaN</td>\n",
       "      <td>NaN</td>\n",
       "      <td>NaN</td>\n",
       "      <td>NaN</td>\n",
       "      <td>NaN</td>\n",
       "      <td>NaN</td>\n",
       "    </tr>\n",
       "    <tr>\n",
       "      <th>2014-05-15</th>\n",
       "      <td>NaN</td>\n",
       "      <td>NaN</td>\n",
       "      <td>NaN</td>\n",
       "      <td>NaN</td>\n",
       "      <td>NaN</td>\n",
       "      <td>NaN</td>\n",
       "      <td>NaN</td>\n",
       "      <td>NaN</td>\n",
       "      <td>NaN</td>\n",
       "      <td>NaN</td>\n",
       "      <td>...</td>\n",
       "      <td>NaN</td>\n",
       "      <td>NaN</td>\n",
       "      <td>NaN</td>\n",
       "      <td>NaN</td>\n",
       "      <td>NaN</td>\n",
       "      <td>NaN</td>\n",
       "      <td>NaN</td>\n",
       "      <td>NaN</td>\n",
       "      <td>NaN</td>\n",
       "      <td>NaN</td>\n",
       "    </tr>\n",
       "  </tbody>\n",
       "</table>\n",
       "<p>5 rows × 41 columns</p>\n",
       "</div>"
      ],
      "text/plain": [
       "                     R101_ROA稅後息前  R11V_ROA綜合損益  R103_ROE稅後  R11U_ROE綜合損益  \\\n",
       "stock_id date                                                               \n",
       "000116   2013-05-15           NaN           NaN         NaN           NaN   \n",
       "         2013-08-14           NaN           NaN         NaN           NaN   \n",
       "         2013-11-14           NaN           NaN         NaN           NaN   \n",
       "         2014-03-31           NaN           NaN         NaN           NaN   \n",
       "         2014-05-15           NaN           NaN         NaN           NaN   \n",
       "\n",
       "                     R145_稅前息前折舊前淨利率  R105_營業毛利率  R106_營業利益率  R107_稅前淨利率  \\\n",
       "stock_id date                                                              \n",
       "000116   2013-05-15              NaN         NaN         NaN         NaN   \n",
       "         2013-08-14              NaN         NaN         NaN         NaN   \n",
       "         2013-11-14              NaN         NaN         NaN         NaN   \n",
       "         2014-03-31              NaN         NaN         NaN         NaN   \n",
       "         2014-05-15              NaN         NaN         NaN         NaN   \n",
       "\n",
       "                     R108_稅後淨利率  R112_業外收支營收率  ...  R409_淨值成長率  R501_流動比率  \\\n",
       "stock_id date                                  ...                          \n",
       "000116   2013-05-15         NaN           NaN  ...         NaN        NaN   \n",
       "         2013-08-14         NaN           NaN  ...         NaN        NaN   \n",
       "         2013-11-14         NaN           NaN  ...         NaN        NaN   \n",
       "         2014-03-31         NaN           NaN  ...         NaN        NaN   \n",
       "         2014-05-15         NaN           NaN  ...         NaN        NaN   \n",
       "\n",
       "                     R502_速動比率  R503_利息支出率  R678_營運資金  R607_總資產週轉次數  \\\n",
       "stock_id date                                                         \n",
       "000116   2013-05-15        NaN         NaN        NaN           NaN   \n",
       "         2013-08-14        NaN         NaN        NaN           NaN   \n",
       "         2013-11-14        NaN         NaN        NaN           NaN   \n",
       "         2014-03-31        NaN         NaN        NaN           NaN   \n",
       "         2014-05-15        NaN         NaN        NaN           NaN   \n",
       "\n",
       "                     R610_存貨週轉率  R612_固定資產週轉次數  R613_淨值週轉率次  R69B_自由現金流量  \n",
       "stock_id date                                                             \n",
       "000116   2013-05-15         NaN            NaN          NaN          NaN  \n",
       "         2013-08-14         NaN            NaN          NaN          NaN  \n",
       "         2013-11-14         NaN            NaN          NaN          NaN  \n",
       "         2014-03-31         NaN            NaN          NaN          NaN  \n",
       "         2014-05-15         NaN            NaN          NaN          NaN  \n",
       "\n",
       "[5 rows x 41 columns]"
      ]
     },
     "execution_count": 1,
     "metadata": {},
     "output_type": "execute_result"
    }
   ],
   "source": [
    "import finlab.ml as ml\n",
    "\n",
    "dataset = ml.fundamental_features()\n",
    "dataset.head()"
   ]
  },
  {
   "cell_type": "code",
   "execution_count": 2,
   "metadata": {},
   "outputs": [
    {
     "data": {
      "text/html": [
       "<div>\n",
       "<style scoped>\n",
       "    .dataframe tbody tr th:only-of-type {\n",
       "        vertical-align: middle;\n",
       "    }\n",
       "\n",
       "    .dataframe tbody tr th {\n",
       "        vertical-align: top;\n",
       "    }\n",
       "\n",
       "    .dataframe thead th {\n",
       "        text-align: right;\n",
       "    }\n",
       "</style>\n",
       "<table border=\"1\" class=\"dataframe\">\n",
       "  <thead>\n",
       "    <tr style=\"text-align: right;\">\n",
       "      <th></th>\n",
       "      <th></th>\n",
       "      <th>R103_ROE稅後</th>\n",
       "      <th>R402_營業毛利成長率</th>\n",
       "    </tr>\n",
       "    <tr>\n",
       "      <th>stock_id</th>\n",
       "      <th>date</th>\n",
       "      <th></th>\n",
       "      <th></th>\n",
       "    </tr>\n",
       "  </thead>\n",
       "  <tbody>\n",
       "    <tr>\n",
       "      <th rowspan=\"5\" valign=\"top\">1101</th>\n",
       "      <th>2014-05-15</th>\n",
       "      <td>1.789978</td>\n",
       "      <td>55.708493</td>\n",
       "    </tr>\n",
       "    <tr>\n",
       "      <th>2014-08-14</th>\n",
       "      <td>5.481276</td>\n",
       "      <td>27.022920</td>\n",
       "    </tr>\n",
       "    <tr>\n",
       "      <th>2014-11-14</th>\n",
       "      <td>9.817990</td>\n",
       "      <td>-5.396195</td>\n",
       "    </tr>\n",
       "    <tr>\n",
       "      <th>2015-03-31</th>\n",
       "      <td>12.657647</td>\n",
       "      <td>-11.807846</td>\n",
       "    </tr>\n",
       "    <tr>\n",
       "      <th>2015-05-15</th>\n",
       "      <td>0.601114</td>\n",
       "      <td>-41.181555</td>\n",
       "    </tr>\n",
       "  </tbody>\n",
       "</table>\n",
       "</div>"
      ],
      "text/plain": [
       "                     R103_ROE稅後  R402_營業毛利成長率\n",
       "stock_id date                                \n",
       "1101     2014-05-15    1.789978     55.708493\n",
       "         2014-08-14    5.481276     27.022920\n",
       "         2014-11-14    9.817990     -5.396195\n",
       "         2015-03-31   12.657647    -11.807846\n",
       "         2015-05-15    0.601114    -41.181555"
      ]
     },
     "execution_count": 2,
     "metadata": {},
     "output_type": "execute_result"
    }
   ],
   "source": [
    "dataset.columns\n",
    "features = ['R103_ROE稅後', 'R402_營業毛利成長率']\n",
    "dataset = dataset[features].dropna(how='any')\n",
    "dataset.head()"
   ]
  },
  {
   "cell_type": "markdown",
   "metadata": {},
   "source": [
    "## add prediction"
   ]
  },
  {
   "cell_type": "code",
   "execution_count": 3,
   "metadata": {},
   "outputs": [
    {
     "data": {
      "text/html": [
       "<div>\n",
       "<style scoped>\n",
       "    .dataframe tbody tr th:only-of-type {\n",
       "        vertical-align: middle;\n",
       "    }\n",
       "\n",
       "    .dataframe tbody tr th {\n",
       "        vertical-align: top;\n",
       "    }\n",
       "\n",
       "    .dataframe thead th {\n",
       "        text-align: right;\n",
       "    }\n",
       "</style>\n",
       "<table border=\"1\" class=\"dataframe\">\n",
       "  <thead>\n",
       "    <tr style=\"text-align: right;\">\n",
       "      <th></th>\n",
       "      <th></th>\n",
       "      <th>R103_ROE稅後</th>\n",
       "      <th>R402_營業毛利成長率</th>\n",
       "      <th>return</th>\n",
       "    </tr>\n",
       "    <tr>\n",
       "      <th>stock_id</th>\n",
       "      <th>date</th>\n",
       "      <th></th>\n",
       "      <th></th>\n",
       "      <th></th>\n",
       "    </tr>\n",
       "  </thead>\n",
       "  <tbody>\n",
       "    <tr>\n",
       "      <th rowspan=\"5\" valign=\"top\">1101</th>\n",
       "      <th>2014-05-15</th>\n",
       "      <td>1.789978</td>\n",
       "      <td>55.708493</td>\n",
       "      <td>1.073347</td>\n",
       "    </tr>\n",
       "    <tr>\n",
       "      <th>2014-08-14</th>\n",
       "      <td>5.481276</td>\n",
       "      <td>27.022920</td>\n",
       "      <td>0.984816</td>\n",
       "    </tr>\n",
       "    <tr>\n",
       "      <th>2014-11-14</th>\n",
       "      <td>9.817990</td>\n",
       "      <td>-5.396195</td>\n",
       "      <td>0.969163</td>\n",
       "    </tr>\n",
       "    <tr>\n",
       "      <th>2015-03-31</th>\n",
       "      <td>12.657647</td>\n",
       "      <td>-11.807846</td>\n",
       "      <td>0.956818</td>\n",
       "    </tr>\n",
       "    <tr>\n",
       "      <th>2015-05-15</th>\n",
       "      <td>0.601114</td>\n",
       "      <td>-41.181555</td>\n",
       "      <td>0.850077</td>\n",
       "    </tr>\n",
       "  </tbody>\n",
       "</table>\n",
       "</div>"
      ],
      "text/plain": [
       "                     R103_ROE稅後  R402_營業毛利成長率    return\n",
       "stock_id date                                          \n",
       "1101     2014-05-15    1.789978     55.708493  1.073347\n",
       "         2014-08-14    5.481276     27.022920  0.984816\n",
       "         2014-11-14    9.817990     -5.396195  0.969163\n",
       "         2015-03-31   12.657647    -11.807846  0.956818\n",
       "         2015-05-15    0.601114    -41.181555  0.850077"
      ]
     },
     "execution_count": 3,
     "metadata": {},
     "output_type": "execute_result"
    }
   ],
   "source": [
    "ml.add_profit_prediction(dataset)\n",
    "dataset.head()"
   ]
  },
  {
   "cell_type": "code",
   "execution_count": 4,
   "metadata": {},
   "outputs": [
    {
     "data": {
      "text/plain": [
       "<matplotlib.axes._subplots.AxesSubplot at 0xc209f98>"
      ]
     },
     "execution_count": 4,
     "metadata": {},
     "output_type": "execute_result"
    },
    {
     "data": {
      "image/png": "[encoded data removed]",
      "text/plain": [
       "<Figure size 432x288 with 1 Axes>"
      ]
     },
     "metadata": {
      "needs_background": "light"
     },
     "output_type": "display_data"
    }
   ],
   "source": [
    "%matplotlib inline\n",
    "dataset.plot.scatter(features[0], features[1])"
   ]
  },
  {
   "cell_type": "markdown",
   "metadata": {},
   "source": [
    "## remove outliers"
   ]
  },
  {
   "cell_type": "code",
   "execution_count": 5,
   "metadata": {},
   "outputs": [
    {
     "data": {
      "text/plain": [
       "<matplotlib.axes._subplots.AxesSubplot at 0x95ce710>"
      ]
     },
     "execution_count": 5,
     "metadata": {},
     "output_type": "execute_result"
    },
    {
     "data": {
      "image/png": "[encoded data removed]",
      "text/plain": [
       "<Figure size 432x288 with 1 Axes>"
      ]
     },
     "metadata": {
      "needs_background": "light"
     },
     "output_type": "display_data"
    }
   ],
   "source": [
    "def is_valid(feature, nstd):\n",
    "    ub = feature.mean() + nstd * feature.std()\n",
    "    lb = feature.mean() - nstd * feature.std()\n",
    "\n",
    "    return (feature > lb) & (feature <ub)\n",
    "\n",
    "valid = is_valid(dataset['R103_ROE稅後'], 2) & is_valid(dataset['R402_營業毛利成長率'], 0.05)\n",
    "dataset_rmoutliers = dataset[valid].dropna()\n",
    "\n",
    "dataset_rmoutliers['R103_ROE稅後'].hist(bins=100)\n",
    "#dataset_rmoutliers['R402_營業毛利成長率'].hist(bins=100)"
   ]
  },
  {
   "cell_type": "markdown",
   "metadata": {},
   "source": [
    "## Scale features"
   ]
  },
  {
   "cell_type": "code",
   "execution_count": 7,
   "metadata": {},
   "outputs": [
    {
     "data": {
      "image/png": "[encoded data removed]",
      "text/plain": [
       "<Figure size 432x288 with 1 Axes>"
      ]
     },
     "metadata": {
      "needs_background": "light"
     },
     "output_type": "display_data"
    }
   ],
   "source": [
    "import pandas as pd\n",
    "import sklearn.preprocessing as preprocessing\n",
    "\n",
    "dataset_scaled = pd.DataFrame(preprocessing.scale(dataset_rmoutliers), index=dataset_rmoutliers.index, columns=dataset_rmoutliers.columns)\n",
    "dataset_scaled.head()\n",
    "\n",
    "dataset_scaled['R103_ROE稅後'].hist(bins=100)\n",
    "dataset_scaled['R402_營業毛利成長率'].hist(bins=100, alpha=0.5)\n",
    "dataset_scaled['return'] = dataset_rmoutliers['return']\n"
   ]
  },
  {
   "cell_type": "markdown",
   "metadata": {},
   "source": [
    "## Training"
   ]
  },
  {
   "cell_type": "code",
   "execution_count": 8,
   "metadata": {},
   "outputs": [
    {
     "data": {
      "text/plain": [
       "SVC(C=1.0, cache_size=200, class_weight=None, coef0=0.0,\n",
       "  decision_function_shape='ovr', degree=3, gamma='auto_deprecated',\n",
       "  kernel='linear', max_iter=-1, probability=False, random_state=None,\n",
       "  shrinking=True, tol=0.001, verbose=False)"
      ]
     },
     "execution_count": 8,
     "metadata": {},
     "output_type": "execute_result"
    }
   ],
   "source": [
    "from sklearn.model_selection import train_test_split\n",
    "\n",
    "dataset_train, dataset_test = train_test_split(dataset_scaled, test_size=0.1, random_state=0)\n",
    "\n",
    "from sklearn.svm import SVC\n",
    "\n",
    "cf = SVC(C=1.0, cache_size=200, class_weight=None, coef0=0.0,\n",
    "  decision_function_shape='ovr', degree=3, gamma='auto_deprecated',\n",
    "  kernel='linear', max_iter=-1, probability=False, random_state=None,\n",
    "  shrinking=True, tol=0.001, verbose=False)\n",
    "\n",
    "cf.fit(dataset_train[features], dataset_train['return'] > dataset_train['return'].quantile(0.5))"
   ]
  },
  {
   "cell_type": "code",
   "execution_count": 10,
   "metadata": {},
   "outputs": [
    {
     "data": {
      "text/plain": [
       "<matplotlib.axes._subplots.AxesSubplot at 0x5271470>"
      ]
     },
     "execution_count": 10,
     "metadata": {},
     "output_type": "execute_result"
    },
    {
     "data": {
      "image/png": "[encoded data removed]",
      "text/plain": [
       "<Figure size 432x288 with 1 Axes>"
      ]
     },
     "metadata": {
      "needs_background": "light"
     },
     "output_type": "display_data"
    }
   ],
   "source": [
    "from mlxtend.plotting import plot_decision_regions\n",
    "\n",
    "features_plot = dataset_test[features].values\n",
    "labels_plot = (dataset_test['return'] > dataset_test['return'].quantile(0.5)).astype(int).values\n",
    "\n",
    "plot_decision_regions(features_plot, labels_plot, cf)"
   ]
  },
  {
   "cell_type": "markdown",
   "metadata": {},
   "source": [
    "## backtest"
   ]
  },
  {
   "cell_type": "code",
   "execution_count": 12,
   "metadata": {},
   "outputs": [
    {
     "data": {
      "text/plain": [
       "<matplotlib.axes._subplots.AxesSubplot at 0x538bfd0>"
      ]
     },
     "execution_count": 12,
     "metadata": {},
     "output_type": "execute_result"
    },
    {
     "data": {
      "image/png": "[encoded data removed]",
      "text/plain": [
       "<Figure size 432x288 with 1 Axes>"
      ]
     },
     "metadata": {},
     "output_type": "display_data"
    }
   ],
   "source": [
    "history = dataset_test.copy()\n",
    "history['svm prediction'] = cf.predict(dataset_test[features])\n",
    "history = history.reset_index()\n",
    "\n",
    "dates = sorted(list(set(history['date'])))\n",
    "\n",
    "seasonal_returns1 = []\n",
    "seasonal_returns2 = []\n",
    "for date in dates:\n",
    "    current_stocks = history[history['date'] == date]\n",
    "    buy_stocks = current_stocks[current_stocks['svm prediction'] == True]\n",
    "    sell_stocks = current_stocks[current_stocks['svm prediction'] == False]\n",
    "    \n",
    "    seasonal_return1 = buy_stocks['return'].mean()\n",
    "    seasonal_returns1.append(seasonal_return1)\n",
    "    \n",
    "    seasonal_return2 = sell_stocks['return'].mean()\n",
    "    seasonal_returns2.append(seasonal_return2)\n",
    "\n",
    "import matplotlib.pyplot as plt\n",
    "plt.style.use(\"ggplot\")\n",
    "\n",
    "pd.Series(seasonal_returns1, index=dates).cumprod().plot(color='red')\n",
    "pd.Series(seasonal_returns2, index=dates).cumprod().plot(color='blue')"
   ]
  }
 ],
 "metadata": {
  "kernelspec": {
   "display_name": "finlab",
   "language": "python",
   "name": "finlab"
  },
  "language_info": {
   "codemirror_mode": {
    "name": "ipython",
    "version": 3
   },
   "file_extension": ".py",
   "mimetype": "text/x-python",
   "name": "python",
   "nbconvert_exporter": "python",
   "pygments_lexer": "ipython3",
   "version": "3.6.8"
  }
 },
 "nbformat": 4,
 "nbformat_minor": 2
}
