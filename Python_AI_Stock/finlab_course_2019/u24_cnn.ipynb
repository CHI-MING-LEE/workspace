{
 "cells": [
  {
   "cell_type": "markdown",
   "metadata": {},
   "source": [
    "# Convolutional Neural Network"
   ]
  },
  {
   "cell_type": "code",
   "execution_count": 2,
   "metadata": {},
   "outputs": [],
   "source": [
    "import pandas as pd\n",
    "from finlab.data import Data\n",
    "data = Data()\n",
    "twii = data.get(\"發行量加權股價指數\")\n",
    "twii = twii['台股指數']\n",
    "twii = twii.resample('15T').first().dropna()"
   ]
  },
  {
   "cell_type": "markdown",
   "metadata": {},
   "source": [
    "## 製作features"
   ]
  },
  {
   "cell_type": "code",
   "execution_count": 187,
   "metadata": {},
   "outputs": [
    {
     "data": {
      "application/vnd.jupyter.widget-view+json": {
       "model_id": "9ee639758fe44143af87996e1ac928ec",
       "version_major": 2,
       "version_minor": 0
      },
      "text/plain": [
       "HBox(children=(IntProgress(value=0, max=20665), HTML(value='')))"
      ]
     },
     "metadata": {},
     "output_type": "display_data"
    },
    {
     "name": "stdout",
     "output_type": "stream",
     "text": [
      "\n"
     ]
    }
   ],
   "source": [
    "import numpy as np\n",
    "import tqdm\n",
    "time_period = 200\n",
    "\n",
    "cnn_x = []\n",
    "cnn_y = []\n",
    "indexs = []\n",
    "for i in tqdm.tqdm_notebook(range(0, len(twii) - time_period - 1 - 11, 3)):\n",
    "    s = twii.iloc[i:i+time_period].values\n",
    "    cnn_x.append((s - s.min())/(s.max() - s.min()))\n",
    "    r = twii.iloc[i+time_period+10] / twii.iloc[i+time_period-1]\n",
    "    cnn_y.append(r)\n",
    "    indexs.append(twii.index[i+time_period-1])\n",
    "\n",
    "cnn_x = np.array(cnn_x)\n",
    "cnn_y = np.array(cnn_y)\n",
    "indexes = np.array(indexs)\n",
    "\n",
    "\n"
   ]
  },
  {
   "cell_type": "markdown",
   "metadata": {},
   "source": [
    "## Reshape features and labels"
   ]
  },
  {
   "cell_type": "code",
   "execution_count": 146,
   "metadata": {},
   "outputs": [],
   "source": [
    "cnn_x = cnn_x.reshape(len(cnn_x), time_period, 1)\n",
    "cnn_y = cnn_y.reshape(len(cnn_y), 1)"
   ]
  },
  {
   "cell_type": "markdown",
   "metadata": {},
   "source": [
    "## Split traning and testing data"
   ]
  },
  {
   "cell_type": "code",
   "execution_count": 147,
   "metadata": {},
   "outputs": [],
   "source": [
    "import datetime\n",
    "cnn_x_train = cnn_x[indexes < datetime.datetime(2016,1,1)]\n",
    "cnn_y_train = cnn_y[indexes < datetime.datetime(2016,1,1)]"
   ]
  },
  {
   "cell_type": "code",
   "execution_count": 148,
   "metadata": {},
   "outputs": [
    {
     "data": {
      "text/plain": [
       "[<matplotlib.lines.Line2D at 0xb4c602048>]"
      ]
     },
     "execution_count": 148,
     "metadata": {},
     "output_type": "execute_result"
    },
    {
     "data": {
      "image/png": "[encoded data removed]",
      "text/plain": [
       "<Figure size 432x288 with 1 Axes>"
      ]
     },
     "metadata": {
      "needs_background": "light"
     },
     "output_type": "display_data"
    }
   ],
   "source": [
    "import matplotlib.pyplot as plt\n",
    "%matplotlib inline\n",
    "plt.plot(cnn_x[0].reshape(1, len(cnn_x[0]))[0])\n"
   ]
  },
  {
   "cell_type": "markdown",
   "metadata": {},
   "source": [
    "## CNN"
   ]
  },
  {
   "cell_type": "code",
   "execution_count": 178,
   "metadata": {},
   "outputs": [
    {
     "name": "stdout",
     "output_type": "stream",
     "text": [
      "_________________________________________________________________\n",
      "Layer (type)                 Output Shape              Param #   \n",
      "=================================================================\n",
      "conv1d_112 (Conv1D)          (None, 181, 20)           420       \n",
      "_________________________________________________________________\n",
      "average_pooling1d_51 (Averag (None, 36, 20)            0         \n",
      "_________________________________________________________________\n",
      "conv1d_113 (Conv1D)          (None, 17, 20)            8020      \n",
      "_________________________________________________________________\n",
      "average_pooling1d_52 (Averag (None, 3, 20)             0         \n",
      "_________________________________________________________________\n",
      "flatten_26 (Flatten)         (None, 60)                0         \n",
      "_________________________________________________________________\n",
      "dense_86 (Dense)             (None, 120)               7320      \n",
      "_________________________________________________________________\n",
      "dense_87 (Dense)             (None, 84)                10164     \n",
      "_________________________________________________________________\n",
      "dense_88 (Dense)             (None, 1)                 85        \n",
      "=================================================================\n",
      "Total params: 26,009\n",
      "Trainable params: 26,009\n",
      "Non-trainable params: 0\n",
      "_________________________________________________________________\n",
      "None\n",
      "Train on 14082 samples, validate on 1565 samples\n",
      "Epoch 1/50\n",
      "14082/14082 [==============================] - 3s 188us/step - loss: 0.1865 - acc: 0.0000e+00 - val_loss: 0.0207 - val_acc: 0.0000e+00\n",
      "Epoch 2/50\n",
      "14082/14082 [==============================] - 1s 54us/step - loss: 0.0110 - acc: 0.0000e+00 - val_loss: 0.0077 - val_acc: 0.0000e+00\n",
      "Epoch 3/50\n",
      "14082/14082 [==============================] - 1s 55us/step - loss: 0.0042 - acc: 0.0000e+00 - val_loss: 0.0033 - val_acc: 0.0000e+00\n",
      "Epoch 4/50\n",
      "14082/14082 [==============================] - 1s 57us/step - loss: 0.0017 - acc: 0.0000e+00 - val_loss: 0.0015 - val_acc: 0.0000e+00\n",
      "Epoch 5/50\n",
      "14082/14082 [==============================] - 1s 56us/step - loss: 8.2416e-04 - acc: 0.0000e+00 - val_loss: 9.0285e-04 - val_acc: 0.0000e+00\n",
      "Epoch 6/50\n",
      "14082/14082 [==============================] - 1s 60us/step - loss: 4.9203e-04 - acc: 0.0000e+00 - val_loss: 5.5195e-04 - val_acc: 0.0000e+00\n",
      "Epoch 7/50\n",
      "14082/14082 [==============================] - 1s 56us/step - loss: 3.4071e-04 - acc: 0.0000e+00 - val_loss: 3.6047e-04 - val_acc: 0.0000e+00\n",
      "Epoch 8/50\n",
      "14082/14082 [==============================] - 1s 56us/step - loss: 2.3845e-04 - acc: 0.0000e+00 - val_loss: 2.7020e-04 - val_acc: 0.0000e+00\n",
      "Epoch 9/50\n",
      "14082/14082 [==============================] - 1s 59us/step - loss: 1.8782e-04 - acc: 0.0000e+00 - val_loss: 1.9128e-04 - val_acc: 0.0000e+00\n",
      "Epoch 10/50\n",
      "14082/14082 [==============================] - 1s 56us/step - loss: 1.6176e-04 - acc: 0.0000e+00 - val_loss: 1.6311e-04 - val_acc: 0.0000e+00\n",
      "Epoch 11/50\n",
      "14082/14082 [==============================] - 1s 56us/step - loss: 1.5179e-04 - acc: 0.0000e+00 - val_loss: 1.3800e-04 - val_acc: 0.0000e+00\n",
      "Epoch 12/50\n",
      "14082/14082 [==============================] - 1s 55us/step - loss: 1.3637e-04 - acc: 0.0000e+00 - val_loss: 1.2350e-04 - val_acc: 0.0000e+00\n",
      "Epoch 13/50\n",
      "14082/14082 [==============================] - 1s 53us/step - loss: 1.3078e-04 - acc: 0.0000e+00 - val_loss: 1.1353e-04 - val_acc: 0.0000e+00\n",
      "Epoch 14/50\n",
      "14082/14082 [==============================] - 1s 59us/step - loss: 1.2601e-04 - acc: 0.0000e+00 - val_loss: 1.1323e-04 - val_acc: 0.0000e+00\n",
      "Epoch 15/50\n",
      "14082/14082 [==============================] - 1s 58us/step - loss: 1.2269e-04 - acc: 0.0000e+00 - val_loss: 1.0860e-04 - val_acc: 0.0000e+00\n",
      "Epoch 16/50\n",
      "14082/14082 [==============================] - 1s 57us/step - loss: 1.2341e-04 - acc: 0.0000e+00 - val_loss: 9.9551e-05 - val_acc: 0.0000e+00\n",
      "Epoch 17/50\n",
      "14082/14082 [==============================] - 1s 58us/step - loss: 1.1893e-04 - acc: 0.0000e+00 - val_loss: 1.0006e-04 - val_acc: 0.0000e+00\n",
      "Epoch 18/50\n",
      "14082/14082 [==============================] - 1s 56us/step - loss: 1.1655e-04 - acc: 0.0000e+00 - val_loss: 9.4896e-05 - val_acc: 0.0000e+00\n",
      "Epoch 19/50\n",
      "14082/14082 [==============================] - 1s 56us/step - loss: 1.1406e-04 - acc: 0.0000e+00 - val_loss: 9.2404e-05 - val_acc: 0.0000e+00\n",
      "Epoch 20/50\n",
      "14082/14082 [==============================] - 1s 56us/step - loss: 1.1766e-04 - acc: 0.0000e+00 - val_loss: 1.0584e-04 - val_acc: 0.0000e+00\n",
      "Epoch 21/50\n",
      "14082/14082 [==============================] - 1s 55us/step - loss: 1.1359e-04 - acc: 0.0000e+00 - val_loss: 9.0365e-05 - val_acc: 0.0000e+00\n",
      "Epoch 22/50\n",
      "14082/14082 [==============================] - 1s 54us/step - loss: 1.1128e-04 - acc: 0.0000e+00 - val_loss: 8.8437e-05 - val_acc: 0.0000e+00\n",
      "Epoch 23/50\n",
      "14082/14082 [==============================] - 1s 57us/step - loss: 1.1240e-04 - acc: 0.0000e+00 - val_loss: 8.6114e-05 - val_acc: 0.0000e+00\n",
      "Epoch 24/50\n",
      "14082/14082 [==============================] - 1s 57us/step - loss: 1.1064e-04 - acc: 0.0000e+00 - val_loss: 8.4201e-05 - val_acc: 0.0000e+00\n",
      "Epoch 25/50\n",
      "14082/14082 [==============================] - 1s 57us/step - loss: 1.1034e-04 - acc: 0.0000e+00 - val_loss: 1.1183e-04 - val_acc: 0.0000e+00\n",
      "Epoch 26/50\n",
      "14082/14082 [==============================] - 1s 58us/step - loss: 1.0917e-04 - acc: 0.0000e+00 - val_loss: 1.0948e-04 - val_acc: 0.0000e+00\n",
      "Epoch 27/50\n",
      "14082/14082 [==============================] - 1s 58us/step - loss: 1.0820e-04 - acc: 0.0000e+00 - val_loss: 8.1408e-05 - val_acc: 0.0000e+00\n",
      "Epoch 28/50\n",
      "14082/14082 [==============================] - 1s 56us/step - loss: 1.0821e-04 - acc: 0.0000e+00 - val_loss: 8.2316e-05 - val_acc: 0.0000e+00\n",
      "Epoch 29/50\n",
      "14082/14082 [==============================] - 1s 59us/step - loss: 1.0672e-04 - acc: 0.0000e+00 - val_loss: 9.0693e-05 - val_acc: 0.0000e+00\n",
      "Epoch 30/50\n",
      "14082/14082 [==============================] - 1s 58us/step - loss: 1.0782e-04 - acc: 0.0000e+00 - val_loss: 7.8033e-05 - val_acc: 0.0000e+00\n",
      "Epoch 31/50\n",
      "14082/14082 [==============================] - 1s 56us/step - loss: 1.0904e-04 - acc: 0.0000e+00 - val_loss: 7.9467e-05 - val_acc: 0.0000e+00\n",
      "Epoch 32/50\n",
      "14082/14082 [==============================] - 1s 56us/step - loss: 1.0582e-04 - acc: 0.0000e+00 - val_loss: 9.5568e-05 - val_acc: 0.0000e+00\n",
      "Epoch 33/50\n",
      "14082/14082 [==============================] - 1s 57us/step - loss: 1.0675e-04 - acc: 0.0000e+00 - val_loss: 8.3119e-05 - val_acc: 0.0000e+00\n",
      "Epoch 34/50\n",
      "14082/14082 [==============================] - 1s 56us/step - loss: 1.0537e-04 - acc: 0.0000e+00 - val_loss: 7.7906e-05 - val_acc: 0.0000e+00\n",
      "Epoch 35/50\n",
      "14082/14082 [==============================] - 1s 55us/step - loss: 1.0381e-04 - acc: 0.0000e+00 - val_loss: 7.7967e-05 - val_acc: 0.0000e+00\n",
      "Epoch 36/50\n",
      "14082/14082 [==============================] - 1s 58us/step - loss: 1.0537e-04 - acc: 0.0000e+00 - val_loss: 9.5516e-05 - val_acc: 0.0000e+00\n",
      "Epoch 37/50\n",
      "14082/14082 [==============================] - 1s 59us/step - loss: 1.0498e-04 - acc: 0.0000e+00 - val_loss: 7.5470e-05 - val_acc: 0.0000e+00\n",
      "Epoch 38/50\n",
      "14082/14082 [==============================] - 1s 58us/step - loss: 1.0474e-04 - acc: 0.0000e+00 - val_loss: 8.0342e-05 - val_acc: 0.0000e+00\n",
      "Epoch 39/50\n",
      "14082/14082 [==============================] - 1s 59us/step - loss: 1.0335e-04 - acc: 0.0000e+00 - val_loss: 9.8345e-05 - val_acc: 0.0000e+00\n",
      "Epoch 40/50\n",
      "14082/14082 [==============================] - 1s 58us/step - loss: 1.0543e-04 - acc: 0.0000e+00 - val_loss: 7.4881e-05 - val_acc: 0.0000e+00\n",
      "Epoch 41/50\n",
      "14082/14082 [==============================] - 1s 58us/step - loss: 1.0291e-04 - acc: 0.0000e+00 - val_loss: 7.5525e-05 - val_acc: 0.0000e+00\n",
      "Epoch 42/50\n",
      "14082/14082 [==============================] - 1s 58us/step - loss: 1.0248e-04 - acc: 0.0000e+00 - val_loss: 7.6686e-05 - val_acc: 0.0000e+00\n",
      "Epoch 43/50\n",
      "14082/14082 [==============================] - 1s 60us/step - loss: 1.0295e-04 - acc: 0.0000e+00 - val_loss: 7.7430e-05 - val_acc: 0.0000e+00\n",
      "Epoch 44/50\n",
      "14082/14082 [==============================] - 1s 57us/step - loss: 1.0283e-04 - acc: 0.0000e+00 - val_loss: 7.7517e-05 - val_acc: 0.0000e+00\n",
      "Epoch 45/50\n",
      "14082/14082 [==============================] - 1s 58us/step - loss: 1.0181e-04 - acc: 0.0000e+00 - val_loss: 7.8152e-05 - val_acc: 0.0000e+00\n",
      "Epoch 46/50\n",
      "14082/14082 [==============================] - 1s 59us/step - loss: 1.0569e-04 - acc: 0.0000e+00 - val_loss: 7.4009e-05 - val_acc: 0.0000e+00\n",
      "Epoch 47/50\n",
      "14082/14082 [==============================] - 1s 59us/step - loss: 1.0294e-04 - acc: 0.0000e+00 - val_loss: 9.1184e-05 - val_acc: 0.0000e+00\n",
      "Epoch 48/50\n",
      "14082/14082 [==============================] - 1s 59us/step - loss: 1.0316e-04 - acc: 0.0000e+00 - val_loss: 7.2557e-05 - val_acc: 0.0000e+00\n",
      "Epoch 49/50\n",
      "14082/14082 [==============================] - 1s 59us/step - loss: 1.0235e-04 - acc: 0.0000e+00 - val_loss: 7.6800e-05 - val_acc: 0.0000e+00\n",
      "Epoch 50/50\n",
      "14082/14082 [==============================] - 1s 58us/step - loss: 1.0092e-04 - acc: 0.0000e+00 - val_loss: 7.1972e-05 - val_acc: 0.0000e+00\n"
     ]
    }
   ],
   "source": [
    "import keras.layers as layers\n",
    "from keras.models import Sequential\n",
    "from keras.initializers import he_normal\n",
    "\n",
    "input_shape = cnn_x[0].shape\n",
    "time_period = 200\n",
    "num_classes = 1\n",
    "\n",
    "\n",
    "model_m = Sequential()\n",
    "\n",
    "model = keras.Sequential()\n",
    "\n",
    "model.add(layers.Conv1D(filters=20, kernel_size=20, activation='relu', input_shape=cnn_x[0].shape))\n",
    "model.add(layers.AveragePooling1D(5))\n",
    "\n",
    "model.add(layers.Conv1D(filters=20, kernel_size=20, activation='relu'))\n",
    "model.add(layers.AveragePooling1D(5))\n",
    "model.add(layers.Flatten())\n",
    "model.add(layers.Dense(units=120, activation='relu'))\n",
    "model.add(layers.Dense(units=84, activation='relu'))\n",
    "model.add(layers.Dense(units=1, ))#activation = 'softmax'))\n",
    "\n",
    "adam = keras.optimizers.Adam(lr=0.0005, beta_1=0.9, beta_2=0.99, epsilon=None, decay=0.01, amsgrad=False)\n",
    "\n",
    "model.compile(loss='mse',\n",
    "                optimizer=adam, metrics=['accuracy'])\n",
    "\n",
    "print(model.summary())\n",
    "\n",
    "history = model.fit(cnn_x_train, cnn_y_train,\n",
    "                    batch_size=200,\n",
    "                    epochs=50,\n",
    "                    verbose=1,\n",
    "                    validation_split=0.1, )"
   ]
  },
  {
   "cell_type": "code",
   "execution_count": 179,
   "metadata": {},
   "outputs": [
    {
     "data": {
      "text/plain": [
       "[<matplotlib.lines.Line2D at 0xb4e99cb38>]"
      ]
     },
     "execution_count": 179,
     "metadata": {},
     "output_type": "execute_result"
    },
    {
     "data": {
      "image/png": "[encoded data removed]",
      "text/plain": [
       "<Figure size 432x288 with 1 Axes>"
      ]
     },
     "metadata": {
      "needs_background": "light"
     },
     "output_type": "display_data"
    }
   ],
   "source": [
    "import matplotlib.pyplot as plt\n",
    "%matplotlib inline\n",
    "plt.plot(np.log(history.history['loss'][1:]))\n",
    "plt.plot(np.log(history.history['val_loss']))"
   ]
  },
  {
   "cell_type": "code",
   "execution_count": 180,
   "metadata": {},
   "outputs": [],
   "source": [
    "ey = model.predict(cnn_x)\n",
    "ey = pd.Series(ey.swapaxes(0, 1)[0], index=indexes)"
   ]
  },
  {
   "cell_type": "code",
   "execution_count": 186,
   "metadata": {},
   "outputs": [
    {
     "data": {
      "text/plain": [
       "<matplotlib.axes._subplots.AxesSubplot at 0xb4e3dea90>"
      ]
     },
     "execution_count": 186,
     "metadata": {},
     "output_type": "execute_result"
    },
    {
     "data": {
      "image/png": "[encoded data removed]",
      "text/plain": [
       "<Figure size 432x288 with 1 Axes>"
      ]
     },
     "metadata": {
      "needs_background": "light"
     },
     "output_type": "display_data"
    }
   ],
   "source": [
    "\n",
    "eq = twii[pd.to_datetime(indexes)]\n",
    "gain = (eq.shift(-1) - eq) \n",
    "\n",
    "signal = (ey > ey.quantile(0.93)).rolling(20).sum() > 0\n",
    "eq = (gain[signal])['2016':].cumsum()\n",
    "eq.plot()"
   ]
  },
  {
   "cell_type": "code",
   "execution_count": 183,
   "metadata": {},
   "outputs": [
    {
     "data": {
      "text/plain": [
       "164.0"
      ]
     },
     "execution_count": 183,
     "metadata": {},
     "output_type": "execute_result"
    }
   ],
   "source": [
    "signal['2016':].astype(int).diff().abs().sum()"
   ]
  }
 ],
 "metadata": {
  "kernelspec": {
   "display_name": "finlab",
   "language": "python",
   "name": "finlab"
  },
  "language_info": {
   "codemirror_mode": {
    "name": "ipython",
    "version": 3
   },
   "file_extension": ".py",
   "mimetype": "text/x-python",
   "name": "python",
   "nbconvert_exporter": "python",
   "pygments_lexer": "ipython3",
   "version": "3.7.2"
  }
 },
 "nbformat": 4,
 "nbformat_minor": 2
}
