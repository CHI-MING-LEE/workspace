{
 "cells": [
  {
   "cell_type": "code",
   "execution_count": 1,
   "metadata": {
    "ExecuteTime": {
     "end_time": "2019-01-17T13:29:34.121431Z",
     "start_time": "2019-01-17T13:29:34.008050Z"
    }
   },
   "outputs": [
    {
     "name": "stdout",
     "output_type": "stream",
     "text": [
      "NAME=\"CentOS Linux\"\r\n",
      "VERSION=\"7 (Core)\"\r\n",
      "ID=\"centos\"\r\n",
      "ID_LIKE=\"rhel fedora\"\r\n",
      "VERSION_ID=\"7\"\r\n",
      "PRETTY_NAME=\"CentOS Linux 7 (Core)\"\r\n",
      "ANSI_COLOR=\"0;31\"\r\n",
      "CPE_NAME=\"cpe:/o:centos:centos:7\"\r\n",
      "HOME_URL=\"https://www.centos.org/\"\r\n",
      "BUG_REPORT_URL=\"https://bugs.centos.org/\"\r\n",
      "\r\n",
      "CENTOS_MANTISBT_PROJECT=\"CentOS-7\"\r\n",
      "CENTOS_MANTISBT_PROJECT_VERSION=\"7\"\r\n",
      "REDHAT_SUPPORT_PRODUCT=\"centos\"\r\n",
      "REDHAT_SUPPORT_PRODUCT_VERSION=\"7\"\r\n",
      "\r\n"
     ]
    }
   ],
   "source": [
    "!cat / etc/os-release"
   ]
  },
  {
   "cell_type": "code",
   "execution_count": 3,
   "metadata": {
    "ExecuteTime": {
     "end_time": "2019-01-16T15:15:30.856633Z",
     "start_time": "2019-01-16T15:15:30.740526Z"
    }
   },
   "outputs": [
    {
     "name": "stdout",
     "output_type": "stream",
     "text": [
      "processor\t: 0\r\n",
      "vendor_id\t: GenuineIntel\r\n",
      "cpu family\t: 6\r\n",
      "model\t\t: 63\r\n",
      "model name\t: Intel(R) Xeon(R) CPU E5-2630 v3 @ 2.40GHz\r\n",
      "stepping\t: 2\r\n",
      "microcode\t: 0x2d\r\n",
      "cpu MHz\t\t: 2394.455\r\n",
      "cache size\t: 20480 KB\r\n",
      "physical id\t: 0\r\n",
      "siblings\t: 2\r\n",
      "core id\t\t: 0\r\n",
      "cpu cores\t: 2\r\n",
      "apicid\t\t: 0\r\n",
      "initial apicid\t: 0\r\n",
      "fpu\t\t: yes\r\n",
      "fpu_exception\t: yes\r\n",
      "cpuid level\t: 15\r\n",
      "wp\t\t: yes\r\n",
      "flags\t\t: fpu vme de pse tsc msr pae mce cx8 apic sep mtrr pge mca cmov pat pse36 clflush dts mmx fxsr sse sse2 ss ht syscall nx pdpe1gb rdtscp lm constant_tsc arch_perfmon pebs bts nopl xtopology tsc_reliable nonstop_tsc aperfmperf eagerfpu pni pclmulqdq ssse3 fma cx16 pcid sse4_1 sse4_2 x2apic movbe popcnt tsc_deadline_timer aes xsave avx f16c rdrand hypervisor lahf_lm abm epb fsgsbase tsc_adjust bmi1 avx2 smep bmi2 invpcid xsaveopt dtherm ida arat pln pts\r\n",
      "bogomips\t: 4788.91\r\n",
      "clflush size\t: 64\r\n",
      "cache_alignment\t: 64\r\n",
      "address sizes\t: 42 bits physical, 48 bits virtual\r\n",
      "power management:\r\n",
      "\r\n",
      "processor\t: 1\r\n",
      "vendor_id\t: GenuineIntel\r\n",
      "cpu family\t: 6\r\n",
      "model\t\t: 63\r\n",
      "model name\t: Intel(R) Xeon(R) CPU E5-2630 v3 @ 2.40GHz\r\n",
      "stepping\t: 2\r\n",
      "microcode\t: 0x2d\r\n",
      "cpu MHz\t\t: 2394.455\r\n",
      "cache size\t: 20480 KB\r\n",
      "physical id\t: 0\r\n",
      "siblings\t: 2\r\n",
      "core id\t\t: 1\r\n",
      "cpu cores\t: 2\r\n",
      "apicid\t\t: 1\r\n",
      "initial apicid\t: 1\r\n",
      "fpu\t\t: yes\r\n",
      "fpu_exception\t: yes\r\n",
      "cpuid level\t: 15\r\n",
      "wp\t\t: yes\r\n",
      "flags\t\t: fpu vme de pse tsc msr pae mce cx8 apic sep mtrr pge mca cmov pat pse36 clflush dts mmx fxsr sse sse2 ss ht syscall nx pdpe1gb rdtscp lm constant_tsc arch_perfmon pebs bts nopl xtopology tsc_reliable nonstop_tsc aperfmperf eagerfpu pni pclmulqdq ssse3 fma cx16 pcid sse4_1 sse4_2 x2apic movbe popcnt tsc_deadline_timer aes xsave avx f16c rdrand hypervisor lahf_lm abm epb fsgsbase tsc_adjust bmi1 avx2 smep bmi2 invpcid xsaveopt dtherm ida arat pln pts\r\n",
      "bogomips\t: 4788.91\r\n",
      "clflush size\t: 64\r\n",
      "cache_alignment\t: 64\r\n",
      "address sizes\t: 42 bits physical, 48 bits virtual\r\n",
      "power management:\r\n",
      "\r\n",
      "processor\t: 2\r\n",
      "vendor_id\t: GenuineIntel\r\n",
      "cpu family\t: 6\r\n",
      "model\t\t: 63\r\n",
      "model name\t: Intel(R) Xeon(R) CPU E5-2630 v3 @ 2.40GHz\r\n",
      "stepping\t: 2\r\n",
      "microcode\t: 0x2d\r\n",
      "cpu MHz\t\t: 2394.455\r\n",
      "cache size\t: 20480 KB\r\n",
      "physical id\t: 1\r\n",
      "siblings\t: 2\r\n",
      "core id\t\t: 0\r\n",
      "cpu cores\t: 2\r\n",
      "apicid\t\t: 2\r\n",
      "initial apicid\t: 2\r\n",
      "fpu\t\t: yes\r\n",
      "fpu_exception\t: yes\r\n",
      "cpuid level\t: 15\r\n",
      "wp\t\t: yes\r\n",
      "flags\t\t: fpu vme de pse tsc msr pae mce cx8 apic sep mtrr pge mca cmov pat pse36 clflush dts mmx fxsr sse sse2 ss ht syscall nx pdpe1gb rdtscp lm constant_tsc arch_perfmon pebs bts nopl xtopology tsc_reliable nonstop_tsc aperfmperf eagerfpu pni pclmulqdq ssse3 fma cx16 pcid sse4_1 sse4_2 x2apic movbe popcnt tsc_deadline_timer aes xsave avx f16c rdrand hypervisor lahf_lm abm epb fsgsbase tsc_adjust bmi1 avx2 smep bmi2 invpcid xsaveopt dtherm ida arat pln pts\r\n",
      "bogomips\t: 4788.91\r\n",
      "clflush size\t: 64\r\n",
      "cache_alignment\t: 64\r\n",
      "address sizes\t: 42 bits physical, 48 bits virtual\r\n",
      "power management:\r\n",
      "\r\n",
      "processor\t: 3\r\n",
      "vendor_id\t: GenuineIntel\r\n",
      "cpu family\t: 6\r\n",
      "model\t\t: 63\r\n",
      "model name\t: Intel(R) Xeon(R) CPU E5-2630 v3 @ 2.40GHz\r\n",
      "stepping\t: 2\r\n",
      "microcode\t: 0x2d\r\n",
      "cpu MHz\t\t: 2394.455\r\n",
      "cache size\t: 20480 KB\r\n",
      "physical id\t: 1\r\n",
      "siblings\t: 2\r\n",
      "core id\t\t: 1\r\n",
      "cpu cores\t: 2\r\n",
      "apicid\t\t: 3\r\n",
      "initial apicid\t: 3\r\n",
      "fpu\t\t: yes\r\n",
      "fpu_exception\t: yes\r\n",
      "cpuid level\t: 15\r\n",
      "wp\t\t: yes\r\n",
      "flags\t\t: fpu vme de pse tsc msr pae mce cx8 apic sep mtrr pge mca cmov pat pse36 clflush dts mmx fxsr sse sse2 ss ht syscall nx pdpe1gb rdtscp lm constant_tsc arch_perfmon pebs bts nopl xtopology tsc_reliable nonstop_tsc aperfmperf eagerfpu pni pclmulqdq ssse3 fma cx16 pcid sse4_1 sse4_2 x2apic movbe popcnt tsc_deadline_timer aes xsave avx f16c rdrand hypervisor lahf_lm abm epb fsgsbase tsc_adjust bmi1 avx2 smep bmi2 invpcid xsaveopt dtherm ida arat pln pts\r\n",
      "bogomips\t: 4788.91\r\n",
      "clflush size\t: 64\r\n",
      "cache_alignment\t: 64\r\n",
      "address sizes\t: 42 bits physical, 48 bits virtual\r\n",
      "power management:\r\n",
      "\r\n"
     ]
    }
   ],
   "source": [
    "!cat /proc/cpuinfo"
   ]
  },
  {
   "cell_type": "code",
   "execution_count": 8,
   "metadata": {
    "ExecuteTime": {
     "end_time": "2019-01-16T15:30:07.440014Z",
     "start_time": "2019-01-16T15:30:07.324255Z"
    }
   },
   "outputs": [
    {
     "name": "stdout",
     "output_type": "stream",
     "text": [
      "              total        used        free      shared  buff/cache   available\r\n",
      "Mem:             15           0          14           0           0          14\r\n",
      "Swap:             6           0           6\r\n"
     ]
    }
   ],
   "source": [
    "!free -g"
   ]
  },
  {
   "cell_type": "code",
   "execution_count": 1,
   "metadata": {
    "ExecuteTime": {
     "end_time": "2019-01-21T15:39:38.720666Z",
     "start_time": "2019-01-21T15:39:38.604822Z"
    }
   },
   "outputs": [
    {
     "name": "stdout",
     "output_type": "stream",
     "text": [
      "檔案系統                 容量  已用  可用 已用% 掛載點\r\n",
      "/dev/mapper/centos-root   39G  1.4G   37G    4% /\r\n",
      "devtmpfs                 7.8G     0  7.8G    0% /dev\r\n",
      "tmpfs                    7.8G     0  7.8G    0% /dev/shm\r\n",
      "tmpfs                    7.8G  8.8M  7.8G    1% /run\r\n",
      "tmpfs                    7.8G     0  7.8G    0% /sys/fs/cgroup\r\n",
      "/dev/sda1               1014M  145M  870M   15% /boot\r\n",
      "/dev/mapper/centos-home   19G  925M   18G    5% /home\r\n",
      "tmpfs                    1.6G   20K  1.6G    1% /run/user/1000\r\n"
     ]
    }
   ],
   "source": [
    "!df -h"
   ]
  },
  {
   "cell_type": "code",
   "execution_count": 1,
   "metadata": {
    "ExecuteTime": {
     "end_time": "2019-10-13T15:39:04.920898Z",
     "start_time": "2019-10-13T15:39:03.271176Z"
    }
   },
   "outputs": [
    {
     "name": "stdout",
     "output_type": "stream",
     "text": [
      "Package                           Version              Location                                                                                              \r\n",
      "--------------------------------- -------------------- ------------------------------------------------------------------------------------------------------\r\n",
      "absl-py                           0.7.0                \r\n",
      "astor                             0.7.1                \r\n",
      "attrs                             19.1.0               \r\n",
      "Augmentor                         0.2.3                \r\n",
      "autopep8                          1.4.3                \r\n",
      "backcall                          0.1.0                \r\n",
      "beautifulsoup4                    4.7.1                \r\n",
      "bleach                            3.1.0                \r\n",
      "blis                              0.2.4                \r\n",
      "Bottleneck                        1.2.1                \r\n",
      "catboost                          0.14.2               \r\n",
      "category-encoders                 2.0.0                \r\n",
      "certifi                           2018.11.29           \r\n",
      "chardet                           3.0.4                \r\n",
      "Click                             7.0                  \r\n",
      "cloudpickle                       0.8.1                \r\n",
      "convertdate                       2.1.3                \r\n",
      "cycler                            0.10.0               \r\n",
      "cymem                             2.0.2                \r\n",
      "Cython                            0.29.10              \r\n",
      "dask                              1.1.5                \r\n",
      "dataclasses                       0.6                  \r\n",
      "deap                              1.2.2                \r\n",
      "decorator                         4.3.2                \r\n",
      "defusedxml                        0.5.0                \r\n",
      "distributed                       1.27.1               \r\n",
      "Django                            2.2.5                \r\n",
      "entrypoints                       0.3                  \r\n",
      "enum34                            1.1.6                \r\n",
      "ephem                             3.7.6.0              \r\n",
      "facets                            1.1.0                \r\n",
      "fastai                            1.0.55               \r\n",
      "fastprogress                      0.1.21               \r\n",
      "featuretools                      0.7.1                \r\n",
      "future                            0.17.1               \r\n",
      "gast                              0.2.2                \r\n",
      "gcc7                              0.0.7                \r\n",
      "google-pasta                      0.1.4                \r\n",
      "graphviz                          0.10.1               \r\n",
      "grpcio                            1.18.0               \r\n",
      "gym                               0.10.11              \r\n",
      "h5py                              2.9.0                \r\n",
      "HeapDict                          1.0.0                \r\n",
      "holidays                          0.9.10               \r\n",
      "html5lib                          1.0.1                \r\n",
      "hyperopt                          0.1.2                \r\n",
      "idna                              2.8                  \r\n",
      "imageio                           2.5.0                \r\n",
      "ipykernel                         5.1.0                \r\n",
      "ipython                           7.2.0                \r\n",
      "ipython-genutils                  0.2.0                \r\n",
      "ipywidgets                        7.4.2                \r\n",
      "jedi                              0.13.2               \r\n",
      "Jinja2                            2.10                 \r\n",
      "jsonschema                        2.6.0                \r\n",
      "jupyter                           1.0.0                \r\n",
      "jupyter-client                    5.2.4                \r\n",
      "jupyter-console                   6.0.0                \r\n",
      "jupyter-contrib-core              0.3.3                \r\n",
      "jupyter-contrib-nbextensions      0.5.1                \r\n",
      "jupyter-core                      4.4.0                \r\n",
      "jupyter-highlight-selected-word   0.2.0                \r\n",
      "jupyter-latex-envs                1.4.6                \r\n",
      "jupyter-nbextensions-configurator 0.4.1                \r\n",
      "jupyterthemes                     0.20.0               \r\n",
      "Keras                             2.2.4                \r\n",
      "Keras-Applications                1.0.7                \r\n",
      "Keras-Preprocessing               1.0.8                \r\n",
      "kiwisolver                        1.0.1                \r\n",
      "lesscpy                           0.13.0               \r\n",
      "lightgbm                          2.2.3                \r\n",
      "lime                              0.1.1.33             \r\n",
      "lunardate                         0.2.0                \r\n",
      "lxml                              4.3.0                \r\n",
      "Markdown                          3.0.1                \r\n",
      "MarkupSafe                        1.1.0                \r\n",
      "matplotlib                        2.1.0                \r\n",
      "mistune                           0.8.4                \r\n",
      "msgpack                           0.6.1                \r\n",
      "murmurhash                        1.0.2                \r\n",
      "nbconvert                         5.4.0                \r\n",
      "nbformat                          4.4.0                \r\n",
      "networkx                          2.2                  \r\n",
      "notebook                          5.7.4                \r\n",
      "numexpr                           2.6.9                \r\n",
      "numpy                             1.16.4               \r\n",
      "nvidia-ml-py3                     7.352.0              \r\n",
      "opencv-python                     4.0.0.21             \r\n",
      "packaging                         19.1                 \r\n",
      "pandas                            0.24.0               \r\n",
      "pandocfilters                     1.4.2                \r\n",
      "parso                             0.3.2                \r\n",
      "patsy                             0.5.1                \r\n",
      "pexpect                           4.6.0                \r\n",
      "pickleshare                       0.7.5                \r\n",
      "Pillow                            5.4.1                \r\n",
      "pip                               19.1.1               \r\n",
      "plac                              0.9.6                \r\n",
      "ply                               3.11                 \r\n",
      "preshed                           2.0.1                \r\n",
      "prometheus-client                 0.5.0                \r\n",
      "prompt-toolkit                    2.0.8                \r\n",
      "protobuf                          3.6.1                \r\n",
      "psutil                            5.6.2                \r\n",
      "ptyprocess                        0.6.0                \r\n",
      "pycodestyle                       2.5.0                \r\n",
      "pydot                             1.4.1                \r\n",
      "pygame                            1.9.4                \r\n",
      "pyglet                            1.3.2                \r\n",
      "Pygments                          2.3.1                \r\n",
      "pymongo                           3.9.0                \r\n",
      "pyparsing                         2.3.1                \r\n",
      "pystan                            2.19.0.0             \r\n",
      "python-dateutil                   2.7.5                \r\n",
      "pytz                              2018.9               \r\n",
      "PyWavelets                        1.0.2                \r\n",
      "PyYAML                            3.13                 \r\n",
      "pyzmq                             17.1.2               \r\n",
      "qtconsole                         4.4.3                \r\n",
      "requests                          2.21.0               \r\n",
      "scikit-image                      0.14.2               \r\n",
      "scikit-learn                      0.20.2               \r\n",
      "scipy                             1.2.0                \r\n",
      "seaborn                           0.9.0                \r\n",
      "Send2Trash                        1.5.0                \r\n",
      "setuptools                        39.0.1               \r\n",
      "setuptools-git                    1.2                  \r\n",
      "six                               1.12.0               \r\n",
      "sortedcontainers                  2.1.0                \r\n",
      "soupsieve                         1.9.2                \r\n",
      "spacy                             2.1.7                \r\n",
      "sqlparse                          0.3.0                \r\n",
      "srsly                             0.0.7                \r\n",
      "statsmodels                       0.9.0                \r\n",
      "TA-Lib                            0.4.17               \r\n",
      "tb-nightly                        1.14.0a20190319      \r\n",
      "tblib                             1.4.0                \r\n",
      "tensorboard                       1.12.2               \r\n",
      "tensorflow                        1.12.0               \r\n",
      "termcolor                         1.1.0                \r\n",
      "terminado                         0.8.1                \r\n",
      "testpath                          0.4.2                \r\n",
      "tf-estimator-nightly              1.14.0.dev2019040501 \r\n",
      "tf-nightly                        1.14.1.dev20190405   \r\n",
      "thinc                             7.0.8                \r\n",
      "toolz                             0.9.0                \r\n",
      "torch                             1.0.0                \r\n",
      "torchdiffeq                       0.0.1                /home/rossleecooloh/workspace/Ordinary Differential Equation/Neural_Differential_Equations/torchdiffeq\r\n",
      "torchvision                       0.2.1                \r\n",
      "tornado                           5.1.1                \r\n",
      "tqdm                              4.30.0               \r\n",
      "traitlets                         4.3.2                \r\n",
      "typing                            3.7.4                \r\n",
      "urllib3                           1.24.1               \r\n",
      "wasabi                            0.2.2                \r\n",
      "wcwidth                           0.1.7                \r\n",
      "webencodings                      0.5.1                \r\n",
      "Werkzeug                          0.14.1               \r\n",
      "wheel                             0.32.3               \r\n",
      "widgetsnbextension                3.4.2                \r\n",
      "xgboost                           0.82                 \r\n",
      "xlrd                              1.2.0                \r\n",
      "zict                              0.1.4                \r\n"
     ]
    },
    {
     "name": "stdout",
     "output_type": "stream",
     "text": [
      "\u001b[33mWARNING: You are using pip version 19.1.1, however version 19.2.3 is available.\r\n",
      "You should consider upgrading via the 'pip install --upgrade pip' command.\u001b[0m\r\n"
     ]
    }
   ],
   "source": [
    "!pip3 list"
   ]
  },
  {
   "cell_type": "code",
   "execution_count": 10,
   "metadata": {
    "ExecuteTime": {
     "end_time": "2019-01-16T15:30:18.792780Z",
     "start_time": "2019-01-16T15:30:18.678661Z"
    }
   },
   "outputs": [
    {
     "name": "stdout",
     "output_type": "stream",
     "text": [
      "Python 3.6.1\r\n"
     ]
    }
   ],
   "source": [
    "!python3 -V"
   ]
  }
 ],
 "metadata": {
  "kernelspec": {
   "display_name": "Python 3",
   "language": "python",
   "name": "python3"
  },
  "language_info": {
   "codemirror_mode": {
    "name": "ipython",
    "version": 3
   },
   "file_extension": ".py",
   "mimetype": "text/x-python",
   "name": "python",
   "nbconvert_exporter": "python",
   "pygments_lexer": "ipython3",
   "version": "3.6.6"
  },
  "toc": {
   "base_numbering": 1,
   "nav_menu": {},
   "number_sections": true,
   "sideBar": true,
   "skip_h1_title": false,
   "title_cell": "Table of Contents",
   "title_sidebar": "Contents",
   "toc_cell": false,
   "toc_position": {
    "height": "calc(100% - 180px)",
    "left": "10px",
    "top": "150px",
    "width": "307.2px"
   },
   "toc_section_display": true,
   "toc_window_display": true
  },
  "varInspector": {
   "cols": {
    "lenName": 16,
    "lenType": 16,
    "lenVar": 40
   },
   "kernels_config": {
    "python": {
     "delete_cmd_postfix": "",
     "delete_cmd_prefix": "del ",
     "library": "var_list.py",
     "varRefreshCmd": "print(var_dic_list())"
    },
    "r": {
     "delete_cmd_postfix": ") ",
     "delete_cmd_prefix": "rm(",
     "library": "var_list.r",
     "varRefreshCmd": "cat(var_dic_list()) "
    }
   },
   "oldHeight": 122.4,
   "position": {
    "height": "40px",
    "left": "1170px",
    "right": "20px",
    "top": "85px",
    "width": "350px"
   },
   "types_to_exclude": [
    "module",
    "function",
    "builtin_function_or_method",
    "instance",
    "_Feature"
   ],
   "varInspector_section_display": "none",
   "window_display": true
  }
 },
 "nbformat": 4,
 "nbformat_minor": 2
}
