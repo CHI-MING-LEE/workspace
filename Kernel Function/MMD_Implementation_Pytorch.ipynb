{
 "cells": [
  {
   "cell_type": "markdown",
   "metadata": {},
   "source": [
    "Ref: https://blog.csdn.net/a529975125/article/details/81176029\n",
    "\n",
    "### MMD介紹\n",
    "MMD（最大均值差異）是遷移學習，尤其是Domain adaptation （域適應）中使用最廣泛（目前）的一種損失函數，主要用來度量兩個不同但相關的分佈的距離。\n",
    "\n",
    "### 為什麼要用MMD?\n",
    "Domain adaptation的目的是將源域（Source domain）中學到的知識可以應用到不同但相關的目標域（Target domain）。本質上是要找到一個變換函數，使得變換後的源域數據和目標域數據的距離是最小的。所以這其中就要涉及如何度量兩個域中數據分佈差異的問題，因此也就用到了MMD\n",
    "————————————————\n",
    "版权声明：本文为CSDN博主「Vincent_gc」的原创文章，遵循 CC 4.0 BY-SA 版权协议，转载请附上原文出处链接及本声明。\n",
    "原文链接：https://blog.csdn.net/a529975125/article/details/81176029"
   ]
  },
  {
   "cell_type": "markdown",
   "metadata": {},
   "source": [
    "### Pytorch source code"
   ]
  },
  {
   "cell_type": "code",
   "execution_count": 1,
   "metadata": {
    "ExecuteTime": {
     "end_time": "2020-02-02T14:46:02.142043Z",
     "start_time": "2020-02-02T14:46:00.738228Z"
    }
   },
   "outputs": [],
   "source": [
    "import torch\n",
    "\n",
    "def guassian_kernel(source, target, kernel_mul=2.0, kernel_num=5, fix_sigma=None):\n",
    "    '''\n",
    "    将源域数据和目标域数据转化为核矩阵，即上文中的K\n",
    "    Params: \n",
    "            source: 源域数据（n * len(x))\n",
    "            target: 目标域数据（m * len(y))\n",
    "            kernel_mul: \n",
    "            kernel_num: 取不同高斯核的数量\n",
    "            fix_sigma: 不同高斯核的sigma值\n",
    "        Return:\n",
    "                sum(kernel_val): 多个核矩阵之和\n",
    "    '''\n",
    "    n_samples = int(source.size()[0])+int(target.size()\n",
    "                                          [0])  # 求矩阵的行数，一般source和target的尺度是一样的，这样便于计算\n",
    "    total = torch.cat([source, target], dim=0)  # 将source,target按列方向合并\n",
    "    # 将total复制（n+m）份\n",
    "    total0 = total.unsqueeze(0).expand(\n",
    "        int(total.size(0)), int(total.size(0)), int(total.size(1)))\n",
    "    # 将total的每一行都复制成（n+m）行，即每个数据都扩展成（n+m）份\n",
    "    total1 = total.unsqueeze(1).expand(\n",
    "        int(total.size(0)), int(total.size(0)), int(total.size(1)))\n",
    "    # 求任意两个数据之间的和，得到的矩阵中坐标（i,j）代表total中第i行数据和第j行数据之间的l2 distance(i==j时为0）\n",
    "    L2_distance = ((total0-total1)**2).sum(2)\n",
    "    # 调整高斯核函数的sigma值\n",
    "    if fix_sigma:\n",
    "        bandwidth = fix_sigma\n",
    "    else:\n",
    "        bandwidth = torch.sum(L2_distance.data) / (n_samples**2-n_samples)\n",
    "    # 以fix_sigma为中值，以kernel_mul为倍数取kernel_num个bandwidth值（比如fix_sigma为1时，得到[0.25,0.5,1,2,4]\n",
    "    bandwidth /= kernel_mul ** (kernel_num // 2)\n",
    "    bandwidth_list = [bandwidth * (kernel_mul**i) for i in range(kernel_num)]\n",
    "    # 高斯核函数的数学表达式\n",
    "    kernel_val = [torch.exp(-L2_distance / bandwidth_temp)\n",
    "                  for bandwidth_temp in bandwidth_list]\n",
    "    # 得到最终的核矩阵\n",
    "    return sum(kernel_val)  # /len(kernel_val)\n",
    "\n",
    "\n",
    "def mmd_rbf(source, target, kernel_mul=2.0, kernel_num=5, fix_sigma=None):\n",
    "    '''\n",
    "    计算源域数据和目标域数据的MMD距离\n",
    "    Params: \n",
    "            source: 源域数据（n * len(x))\n",
    "            target: 目标域数据（m * len(y))\n",
    "            kernel_mul: \n",
    "            kernel_num: 取不同高斯核的数量\n",
    "            fix_sigma: 不同高斯核的sigma值\n",
    "        Return:\n",
    "                loss: MMD loss\n",
    "    '''\n",
    "    batch_size = int(source.size()[0])  # 一般默认为源域和目标域的batchsize相同\n",
    "    kernels = guassian_kernel(source, target,\n",
    "                              kernel_mul=kernel_mul, kernel_num=kernel_num, fix_sigma=fix_sigma)\n",
    "    # 根据式（3）将核矩阵分成4部分\n",
    "    XX = kernels[:batch_size, :batch_size]\n",
    "    YY = kernels[batch_size:, batch_size:]\n",
    "    XY = kernels[:batch_size, batch_size:]\n",
    "    YX = kernels[batch_size:, :batch_size]\n",
    "    loss = torch.mean(XX + YY - XY - YX)\n",
    "    return loss  # 因为一般都是n==m，所以L矩阵一般不加入计算"
   ]
  },
  {
   "cell_type": "markdown",
   "metadata": {},
   "source": [
    "### Example\n",
    "为了体现以上代码的有效性，我们参考链接生成了两组不同分布的数据。"
   ]
  },
  {
   "cell_type": "code",
   "execution_count": 6,
   "metadata": {
    "ExecuteTime": {
     "end_time": "2020-02-02T14:46:54.691905Z",
     "start_time": "2020-02-02T14:46:53.942192Z"
    }
   },
   "outputs": [
    {
     "data": {
      "image/png": "[encoded data removed]",
      "text/plain": [
       "<matplotlib.figure.Figure at 0x7f1820185a90>"
      ]
     },
     "metadata": {
      "needs_background": "light"
     },
     "output_type": "display_data"
    }
   ],
   "source": [
    "import random\n",
    "import matplotlib\n",
    "import matplotlib.pyplot as plt\n",
    "\n",
    "SAMPLE_SIZE = 500\n",
    "buckets = 50\n",
    "\n",
    "# 第一种分布：对数正态分布，得到一个中值为mu，标准差为sigma的正态分布。mu可以取任何值，sigma必须大于零。\n",
    "plt.subplot(1, 2, 1)\n",
    "plt.xlabel(\"random.lognormalvariate\")\n",
    "mu = -0.6\n",
    "sigma = 0.15  # 将输出数据限制到0-1之间\n",
    "res1 = [random.lognormvariate(mu, sigma) for _ in range(1, SAMPLE_SIZE)]\n",
    "plt.hist(res1, buckets)\n",
    "\n",
    "# 第二种分布：beta分布。参数的条件是alpha 和 beta 都要大于0， 返回值在0~1之间。\n",
    "plt.subplot(1, 2, 2)\n",
    "plt.xlabel(\"random.betavariate\")\n",
    "alpha = 1\n",
    "beta = 10\n",
    "res2 = [random.betavariate(alpha, beta) for _ in range(1, SAMPLE_SIZE)]\n",
    "plt.hist(res2, buckets)\n",
    "\n",
    "plt.savefig('data.jpg')\n",
    "plt.show()"
   ]
  },
  {
   "cell_type": "markdown",
   "metadata": {
    "ExecuteTime": {
     "end_time": "2020-02-02T14:47:24.957779Z",
     "start_time": "2020-02-02T14:47:24.952601Z"
    }
   },
   "source": [
    "#### 两种分布有明显的差异，下面从两个方面用MMD来量化这种差异：\n",
    "1. 分别从不同分布取两组数据（每组为10*500）"
   ]
  },
  {
   "cell_type": "code",
   "execution_count": 10,
   "metadata": {
    "ExecuteTime": {
     "end_time": "2020-02-02T14:48:50.752254Z",
     "start_time": "2020-02-02T14:48:50.621905Z"
    }
   },
   "outputs": [
    {
     "name": "stdout",
     "output_type": "stream",
     "text": [
      "tensor(6.2293)\n"
     ]
    }
   ],
   "source": [
    "from torch.autograd import Variable\n",
    "\n",
    "#参数值见上段代码\n",
    "#分别从对数正态分布和beta分布取两组数据\n",
    "diff_1 = []\n",
    "for i in range(10):\n",
    "    diff_1.append([random.lognormvariate(mu, sigma) for _ in range(1, SAMPLE_SIZE)])\n",
    "\n",
    "diff_2 = []\n",
    "for i in range(10):\n",
    "    diff_2.append([random.betavariate(alpha, beta) for _ in range(1, SAMPLE_SIZE)])\n",
    "\n",
    "X = torch.Tensor(diff_1) # 10 * 499 (n * features)\n",
    "Y = torch.Tensor(diff_2)\n",
    "X,Y = Variable(X), Variable(Y)\n",
    "print(mmd_rbf(X,Y))"
   ]
  },
  {
   "cell_type": "code",
   "execution_count": 14,
   "metadata": {
    "ExecuteTime": {
     "end_time": "2020-02-02T14:49:15.325748Z",
     "start_time": "2020-02-02T14:49:15.320105Z"
    }
   },
   "outputs": [
    {
     "data": {
      "text/plain": [
       "tensor([[0.5416, 0.5126, 0.3431,  ..., 0.5129, 0.5523, 0.6487],\n",
       "        [0.4704, 0.6318, 0.5515,  ..., 0.5177, 0.4571, 0.5964],\n",
       "        [0.4836, 0.5273, 0.6150,  ..., 0.6772, 0.6179, 0.6177],\n",
       "        ...,\n",
       "        [0.6145, 0.5283, 0.5842,  ..., 0.6647, 0.6265, 0.5328],\n",
       "        [0.5819, 0.6175, 0.5187,  ..., 0.4768, 0.5531, 0.6031],\n",
       "        [0.5450, 0.4969, 0.5824,  ..., 0.6099, 0.5207, 0.5031]])"
      ]
     },
     "execution_count": 14,
     "metadata": {},
     "output_type": "execute_result"
    }
   ],
   "source": [
    "X"
   ]
  },
  {
   "cell_type": "markdown",
   "metadata": {},
   "source": [
    "2. 分别从相同分布取两组数据（每组为10*500）"
   ]
  },
  {
   "cell_type": "code",
   "execution_count": 15,
   "metadata": {
    "ExecuteTime": {
     "end_time": "2020-02-02T14:50:45.548953Z",
     "start_time": "2020-02-02T14:50:45.525681Z"
    }
   },
   "outputs": [
    {
     "name": "stdout",
     "output_type": "stream",
     "text": [
      "tensor(0.6269)\n"
     ]
    }
   ],
   "source": [
    "from torch.autograd import Variable\n",
    "\n",
    "#参数值见以上代码\n",
    "#从对数正态分布取两组数据\n",
    "same_1 = []\n",
    "for i in range(10):\n",
    "    same_1.append([random.lognormvariate(mu, sigma) for _ in range(1, SAMPLE_SIZE)])\n",
    "\n",
    "same_2 = []\n",
    "for i in range(10):\n",
    "    same_2.append([random.lognormvariate(mu, sigma) for _ in range(1, SAMPLE_SIZE)])\n",
    "\n",
    "X = torch.Tensor(same_1)\n",
    "Y = torch.Tensor(same_2)\n",
    "X,Y = Variable(X), Variable(Y)\n",
    "print(mmd_rbf(X,Y))"
   ]
  }
 ],
 "metadata": {
  "kernelspec": {
   "display_name": "Python 3",
   "language": "python",
   "name": "python3"
  },
  "language_info": {
   "codemirror_mode": {
    "name": "ipython",
    "version": 3
   },
   "file_extension": ".py",
   "mimetype": "text/x-python",
   "name": "python",
   "nbconvert_exporter": "python",
   "pygments_lexer": "ipython3",
   "version": "3.6.6"
  },
  "toc": {
   "base_numbering": 1,
   "nav_menu": {},
   "number_sections": true,
   "sideBar": true,
   "skip_h1_title": false,
   "title_cell": "Table of Contents",
   "title_sidebar": "Contents",
   "toc_cell": false,
   "toc_position": {},
   "toc_section_display": true,
   "toc_window_display": false
  },
  "varInspector": {
   "cols": {
    "lenName": 16,
    "lenType": 16,
    "lenVar": 40
   },
   "kernels_config": {
    "python": {
     "delete_cmd_postfix": "",
     "delete_cmd_prefix": "del ",
     "library": "var_list.py",
     "varRefreshCmd": "print(var_dic_list())"
    },
    "r": {
     "delete_cmd_postfix": ") ",
     "delete_cmd_prefix": "rm(",
     "library": "var_list.r",
     "varRefreshCmd": "cat(var_dic_list()) "
    }
   },
   "types_to_exclude": [
    "module",
    "function",
    "builtin_function_or_method",
    "instance",
    "_Feature"
   ],
   "window_display": false
  }
 },
 "nbformat": 4,
 "nbformat_minor": 2
}
