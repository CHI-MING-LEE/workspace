{
 "cells": [
  {
   "cell_type": "markdown",
   "metadata": {},
   "source": [
    "### sklearn example\n",
    "Ref: https://scikit-learn.org/stable/modules/metrics.html\n",
    "Chinese: https://www.studyai.cn/modules/metrics.html"
   ]
  },
  {
   "cell_type": "code",
   "execution_count": 6,
   "metadata": {
    "ExecuteTime": {
     "end_time": "2020-02-02T15:14:05.705263Z",
     "start_time": "2020-02-02T15:14:05.697345Z"
    }
   },
   "outputs": [
    {
     "data": {
      "text/plain": [
       "array([[ 2.,  7., 13.],\n",
       "       [ 3., 11., 21.],\n",
       "       [ 5., 18., 34.]])"
      ]
     },
     "execution_count": 6,
     "metadata": {},
     "output_type": "execute_result"
    }
   ],
   "source": [
    "import numpy as np\n",
    "from sklearn.metrics import pairwise_distances\n",
    "from sklearn.metrics.pairwise import pairwise_kernels\n",
    "X = np.array([[2, 3], [3, 5], [5, 8]])\n",
    "Y = np.array([[1, 0], [2, 1], [2, 3]])\n",
    "pairwise_distances(X, Y, metric='manhattan')\n",
    "pairwise_distances(X, metric='manhattan')\n",
    "pairwise_kernels(X, Y, metric='linear')"
   ]
  },
  {
   "cell_type": "markdown",
   "metadata": {},
   "source": [
    "#### RBF"
   ]
  },
  {
   "cell_type": "code",
   "execution_count": 7,
   "metadata": {
    "ExecuteTime": {
     "end_time": "2020-02-02T15:14:09.408494Z",
     "start_time": "2020-02-02T15:14:09.403554Z"
    }
   },
   "outputs": [
    {
     "data": {
      "text/plain": [
       "array([[6.73794700e-03, 1.35335283e-01, 1.00000000e+00],\n",
       "       [5.04347663e-07, 2.03468369e-04, 8.20849986e-02],\n",
       "       [4.24835426e-18, 2.54366565e-13, 4.13993772e-08]])"
      ]
     },
     "execution_count": 7,
     "metadata": {},
     "output_type": "execute_result"
    }
   ],
   "source": [
    "\"\"\"\n",
    "gamma : float, default None\n",
    "\n",
    "If None, defaults to 1.0 / n_features\n",
    "\"\"\"\n",
    "\n",
    "pairwise_kernels(X, Y, 'rbf') "
   ]
  },
  {
   "cell_type": "code",
   "execution_count": 5,
   "metadata": {
    "ExecuteTime": {
     "end_time": "2020-02-02T15:12:20.841745Z",
     "start_time": "2020-02-02T15:12:20.834498Z"
    }
   },
   "outputs": [
    {
     "data": {
      "text/plain": [
       "array([[6.73794700e-03, 1.35335283e-01],\n",
       "       [5.04347663e-07, 2.03468369e-04],\n",
       "       [4.24835426e-18, 2.54366565e-13]])"
      ]
     },
     "execution_count": 5,
     "metadata": {},
     "output_type": "execute_result"
    }
   ],
   "source": [
    "from sklearn.metrics.pairwise import rbf_kernel\n",
    "rbf_kernel(X, Y)"
   ]
  },
  {
   "cell_type": "code",
   "execution_count": 12,
   "metadata": {
    "ExecuteTime": {
     "end_time": "2020-02-02T15:19:15.806847Z",
     "start_time": "2020-02-02T15:19:15.800623Z"
    }
   },
   "outputs": [
    {
     "data": {
      "text/plain": [
       "0.006737946999085467"
      ]
     },
     "execution_count": 12,
     "metadata": {},
     "output_type": "execute_result"
    }
   ],
   "source": [
    "# K(x, y) = exp(-gamma ||x - y||^2)\n",
    "np.exp(-(1 / 2) * (np.sum((X[0] - Y[0]) ** 2)))"
   ]
  },
  {
   "cell_type": "markdown",
   "metadata": {
    "ExecuteTime": {
     "end_time": "2020-02-02T15:11:03.526446Z",
     "start_time": "2020-02-02T15:11:03.522928Z"
    }
   },
   "source": [
    "#### Polynomial"
   ]
  },
  {
   "cell_type": "code",
   "execution_count": 16,
   "metadata": {
    "ExecuteTime": {
     "end_time": "2020-02-02T15:27:31.316251Z",
     "start_time": "2020-02-02T15:27:31.310953Z"
    }
   },
   "outputs": [
    {
     "data": {
      "text/plain": [
       "array([[   8.   ,   91.125,  421.875],\n",
       "       [  15.625,  274.625, 1520.875],\n",
       "       [  42.875, 1000.   , 5832.   ]])"
      ]
     },
     "execution_count": 16,
     "metadata": {},
     "output_type": "execute_result"
    }
   ],
   "source": [
    "pairwise_kernels(X, Y, 'polynomial', degree=3) # drgree default 3 "
   ]
  },
  {
   "cell_type": "markdown",
   "metadata": {},
   "source": [
    "#### Laplacian"
   ]
  },
  {
   "cell_type": "code",
   "execution_count": 17,
   "metadata": {
    "ExecuteTime": {
     "end_time": "2020-02-02T15:27:48.959702Z",
     "start_time": "2020-02-02T15:27:48.953032Z"
    }
   },
   "outputs": [
    {
     "data": {
      "text/plain": [
       "array([[0.13533528, 0.36787944, 1.        ],\n",
       "       [0.03019738, 0.082085  , 0.22313016],\n",
       "       [0.00247875, 0.00673795, 0.01831564]])"
      ]
     },
     "execution_count": 17,
     "metadata": {},
     "output_type": "execute_result"
    }
   ],
   "source": [
    "pairwise_kernels(X, Y, 'laplacian')"
   ]
  },
  {
   "cell_type": "markdown",
   "metadata": {
    "ExecuteTime": {
     "end_time": "2020-02-02T15:29:30.952245Z",
     "start_time": "2020-02-02T15:29:30.948823Z"
    }
   },
   "source": [
    "### Implement MMD and Kernel-Two-Sample-Test (KTST)"
   ]
  },
  {
   "cell_type": "markdown",
   "metadata": {},
   "source": [
    "##### MMD statistics\n",
    "paper: http://www.jmlr.org/papers/volume13/gretton12a/gretton12a.pdf\n",
    "![MMD2U](MMD_2_unbiased.PNG)"
   ]
  },
  {
   "cell_type": "code",
   "execution_count": 19,
   "metadata": {
    "ExecuteTime": {
     "end_time": "2020-02-02T15:43:04.304640Z",
     "start_time": "2020-02-02T15:43:04.298319Z"
    }
   },
   "outputs": [],
   "source": [
    "def MMD2u(K, m, n):\n",
    "    \"\"\"The MMD^2_u unbiased statistic.\n",
    "    m: length of sample 1 matrix\n",
    "    n: length of sample 2 matrix\n",
    "    K: pairwise distance (maybe RBF or some) matrix\n",
    "    \"\"\"\n",
    "    Kx = K[:m, :m]\n",
    "    Ky = K[m:, m:]\n",
    "    Kxy = K[:m, m:]\n",
    "    return 1.0 / (m * (m - 1.0)) * (Kx.sum() - Kx.diagonal().sum()) + \\\n",
    "           1.0 / (n * (n - 1.0)) * (Ky.sum() - Ky.diagonal().sum()) - \\\n",
    "           2.0 / (m * n) * Kxy.sum()"
   ]
  },
  {
   "cell_type": "markdown",
   "metadata": {},
   "source": [
    "##### KTST\n",
    "Ref: https://github.com/emanuele/kernel_two_sample_test/blob/master/kernel_two_sample_test.py"
   ]
  },
  {
   "cell_type": "code",
   "execution_count": 38,
   "metadata": {
    "ExecuteTime": {
     "end_time": "2020-02-02T16:41:49.332211Z",
     "start_time": "2020-02-02T16:41:49.321013Z"
    }
   },
   "outputs": [],
   "source": [
    "def kernel_two_sample_test(X, Y, kernel_function='rbf', iterations=10000,\n",
    "                           verbose=False, random_state=None, **kwargs):\n",
    "    \"\"\"Compute MMD^2_u, its null distribution and the p-value of the\n",
    "    kernel two-sample test.\n",
    "    Note that extra parameters captured by **kwargs will be passed to\n",
    "    pairwise_kernels() as kernel parameters. E.g. if\n",
    "    kernel_two_sample_test(..., kernel_function='rbf', gamma=0.1),\n",
    "    then this will result in getting the kernel through\n",
    "    kernel_function(metric='rbf', gamma=0.1).\n",
    "    \"\"\"\n",
    "    m = len(X)\n",
    "    n = len(Y)\n",
    "    XY = np.vstack([X, Y])\n",
    "    K = pairwise_kernels(XY, metric=kernel_function, **kwargs)\n",
    "    mmd2u = MMD2u(K, m, n)\n",
    "    if verbose:\n",
    "        print(\"MMD^2_u = %s\" % mmd2u)\n",
    "        print(\"Computing the null distribution.\")\n",
    "\n",
    "    mmd2u_null = compute_null_distribution(K, m, n, iterations,\n",
    "                                           verbose=verbose,\n",
    "                                           random_state=random_state)\n",
    "    p_value = max(1.0/iterations, (mmd2u_null > mmd2u).sum() /\n",
    "                  float(iterations))\n",
    "    if verbose:\n",
    "        print(\"p-value ~= %s \\t (resolution : %s)\" % (p_value, 1.0/iterations))\n",
    "\n",
    "    return mmd2u, mmd2u_null, p_value\n",
    "\n",
    "def compute_null_distribution(K, m, n, iterations=10000, verbose=False,\n",
    "                              random_state=None, marker_interval=1000):\n",
    "    \"\"\"Compute the bootstrap null-distribution of MMD2u.\n",
    "    \"\"\"\n",
    "    if type(random_state) == type(np.random.RandomState()):\n",
    "        rng = random_state\n",
    "    else:\n",
    "        rng = np.random.RandomState(random_state)\n",
    "\n",
    "    mmd2u_null = np.zeros(iterations)\n",
    "    for i in range(iterations):\n",
    "        if verbose and (i % marker_interval) == 0:\n",
    "            print(i),\n",
    "            stdout.flush()\n",
    "        idx = rng.permutation(m+n)\n",
    "        K_i = K[idx, idx[:, None]]\n",
    "        mmd2u_null[i] = MMD2u(K_i, m, n)\n",
    "\n",
    "    if verbose:\n",
    "        print(\"\")\n",
    "\n",
    "    return mmd2u_null"
   ]
  },
  {
   "cell_type": "markdown",
   "metadata": {},
   "source": [
    "### Example\n",
    "Ref: https://blog.csdn.net/a529975125/article/details/81176029\n",
    "Data preparation"
   ]
  },
  {
   "cell_type": "code",
   "execution_count": 23,
   "metadata": {
    "ExecuteTime": {
     "end_time": "2020-02-02T15:45:48.156349Z",
     "start_time": "2020-02-02T15:45:47.740859Z"
    }
   },
   "outputs": [
    {
     "data": {
      "image/png": "[encoded data removed]",
      "text/plain": [
       "<matplotlib.figure.Figure at 0x7fde15b63320>"
      ]
     },
     "metadata": {
      "needs_background": "light"
     },
     "output_type": "display_data"
    },
    {
     "name": "stdout",
     "output_type": "stream",
     "text": [
      "499\n"
     ]
    }
   ],
   "source": [
    "import random\n",
    "import matplotlib\n",
    "import matplotlib.pyplot as plt\n",
    "\n",
    "SAMPLE_SIZE = 500\n",
    "buckets = 50\n",
    "\n",
    "#第一种分布：对数正态分布，得到一个中值为mu，标准差为sigma的正态分布。mu可以取任何值，sigma必须大于零。\n",
    "plt.subplot(1,2,1)\n",
    "plt.xlabel(\"random.lognormalvariate\")\n",
    "mu = -0.6\n",
    "sigma = 0.15#将输出数据限制到0-1之间\n",
    "res1 = [random.lognormvariate(mu, sigma) for _ in range(1, SAMPLE_SIZE)]\n",
    "plt.hist(res1, buckets)\n",
    "\n",
    "#第二种分布：beta分布。参数的条件是alpha 和 beta 都要大于0， 返回值在0~1之间。\n",
    "plt.subplot(1,2,2)\n",
    "plt.xlabel(\"random.betavariate\")\n",
    "alpha = 1\n",
    "beta = 10\n",
    "res2 = [random.betavariate(alpha, beta) for _ in range(1, SAMPLE_SIZE)]\n",
    "plt.hist(res2, buckets)\n",
    "\n",
    "plt.show()"
   ]
  },
  {
   "cell_type": "markdown",
   "metadata": {},
   "source": [
    "1. 分别从不同分布取两组数据（每组为10*500）"
   ]
  },
  {
   "cell_type": "code",
   "execution_count": 37,
   "metadata": {
    "ExecuteTime": {
     "end_time": "2020-02-02T16:35:50.305670Z",
     "start_time": "2020-02-02T16:35:50.274994Z"
    }
   },
   "outputs": [
    {
     "name": "stdout",
     "output_type": "stream",
     "text": [
      "0.38281568739149296\n"
     ]
    }
   ],
   "source": [
    "import torch\n",
    "from torch.autograd import Variable\n",
    "\n",
    "#参数值见上段代码\n",
    "#分别从对数正态分布和beta分布取两组数据\n",
    "diff_1 = []\n",
    "for i in range(10):\n",
    "    diff_1.append([random.lognormvariate(mu, sigma) for _ in range(1, SAMPLE_SIZE)])\n",
    "\n",
    "diff_2 = []\n",
    "for i in range(10):\n",
    "    diff_2.append([random.betavariate(alpha, beta) for _ in range(1, SAMPLE_SIZE)])\n",
    "\n",
    "X = torch.Tensor(diff_1)\n",
    "Y = torch.Tensor(diff_2)\n",
    "X,Y = Variable(X), Variable(Y)\n",
    "\n",
    "###\n",
    "kernel_function = 'rbf'\n",
    "m = len(X)\n",
    "n = len(Y)\n",
    "XY = np.vstack([X, Y])\n",
    "K = pairwise_kernels(XY, metric=kernel_function)\n",
    "mmd2u = MMD2u(K, m, n)\n",
    "\n",
    "print(mmd2u)"
   ]
  },
  {
   "cell_type": "markdown",
   "metadata": {},
   "source": [
    "2. 分别从相同分布取两组数据（每组为10*500）"
   ]
  },
  {
   "cell_type": "code",
   "execution_count": 41,
   "metadata": {
    "ExecuteTime": {
     "end_time": "2020-02-02T16:43:23.545225Z",
     "start_time": "2020-02-02T16:43:23.522820Z"
    }
   },
   "outputs": [
    {
     "name": "stdout",
     "output_type": "stream",
     "text": [
      "-0.00014370388454865157\n"
     ]
    }
   ],
   "source": [
    "from torch.autograd import Variable\n",
    "\n",
    "#参数值见以上代码\n",
    "#从对数正态分布取两组数据\n",
    "same_1 = []\n",
    "for i in range(10):\n",
    "    same_1.append([random.lognormvariate(mu, sigma) for _ in range(1, SAMPLE_SIZE)])\n",
    "\n",
    "same_2 = []\n",
    "for i in range(10):\n",
    "    same_2.append([random.lognormvariate(mu, sigma) for _ in range(1, SAMPLE_SIZE)])\n",
    "\n",
    "X = torch.Tensor(same_1)\n",
    "Y = torch.Tensor(same_2)\n",
    "X,Y = Variable(X), Variable(Y)\n",
    "\n",
    "###\n",
    "kernel_function = 'rbf'\n",
    "m = len(X)\n",
    "n = len(Y)\n",
    "XY = np.vstack([X, Y])\n",
    "K = pairwise_kernels(XY, metric=kernel_function)\n",
    "mmd2u = MMD2u(K, m, n)\n",
    "\n",
    "print(mmd2u)"
   ]
  }
 ],
 "metadata": {
  "kernelspec": {
   "display_name": "Python 3",
   "language": "python",
   "name": "python3"
  },
  "language_info": {
   "codemirror_mode": {
    "name": "ipython",
    "version": 3
   },
   "file_extension": ".py",
   "mimetype": "text/x-python",
   "name": "python",
   "nbconvert_exporter": "python",
   "pygments_lexer": "ipython3",
   "version": "3.6.6"
  },
  "toc": {
   "base_numbering": 1,
   "nav_menu": {},
   "number_sections": true,
   "sideBar": true,
   "skip_h1_title": false,
   "title_cell": "Table of Contents",
   "title_sidebar": "Contents",
   "toc_cell": false,
   "toc_position": {},
   "toc_section_display": true,
   "toc_window_display": false
  },
  "varInspector": {
   "cols": {
    "lenName": 16,
    "lenType": 16,
    "lenVar": 40
   },
   "kernels_config": {
    "python": {
     "delete_cmd_postfix": "",
     "delete_cmd_prefix": "del ",
     "library": "var_list.py",
     "varRefreshCmd": "print(var_dic_list())"
    },
    "r": {
     "delete_cmd_postfix": ") ",
     "delete_cmd_prefix": "rm(",
     "library": "var_list.r",
     "varRefreshCmd": "cat(var_dic_list()) "
    }
   },
   "types_to_exclude": [
    "module",
    "function",
    "builtin_function_or_method",
    "instance",
    "_Feature"
   ],
   "window_display": false
  }
 },
 "nbformat": 4,
 "nbformat_minor": 2
}
