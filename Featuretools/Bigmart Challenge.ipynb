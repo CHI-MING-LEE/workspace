{
 "cells": [
  {
   "cell_type": "code",
   "execution_count": 4,
   "metadata": {
    "ExecuteTime": {
     "end_time": "2019-05-05T07:34:50.344577Z",
     "start_time": "2019-05-05T07:34:50.341070Z"
    }
   },
   "outputs": [],
   "source": [
    "\"\"\"\n",
    "Topic: Implementation of Featuretools\n",
    "\n",
    "Main source of this notebook: https://www.analyticsvidhya.com/blog/2018/08/guide-automated-feature-engineering-featuretools-python/\n",
    "\n",
    "Featuretools Ref:\n",
    "     1. https://towardsdatascience.com/why-automated-feature-engineering-will-change-the-way-you-do-machine-learning-5c15bf188b96?fbclid=IwAR1JvwK-wsJEQQ1k5gGPvjzj4rkLCwSqut9V0smclJpb-GlwFyZmv-d__eU\n",
    "     2. https://github.com/Featuretools/Automated-Manual-Comparison/blob/master/Loan%20Repayment/notebooks/Automated%20Loan%20Repayment.ipynb\n",
    "     # 說明relationship和feature primitives(參數意義例如max_depth)\n",
    "     3. https://towardsdatascience.com/automated-feature-engineering-in-python-99baf11cc219\n",
    "\"\"\""
   ]
  },
  {
   "cell_type": "markdown",
   "metadata": {},
   "source": [
    "# Loading required Libraries and Data"
   ]
  },
  {
   "cell_type": "code",
   "execution_count": 1,
   "metadata": {
    "ExecuteTime": {
     "end_time": "2019-05-16T14:43:44.807764Z",
     "start_time": "2019-05-16T14:43:44.062709Z"
    }
   },
   "outputs": [],
   "source": [
    "import featuretools as ft\n",
    "import numpy as np\n",
    "import pandas as pd\n",
    "from catboost import CatBoostRegressor\n",
    "\n",
    "train = pd.read_csv(\"Train.csv\")\n",
    "test = pd.read_csv(\"Test.csv\")"
   ]
  },
  {
   "cell_type": "code",
   "execution_count": 2,
   "metadata": {
    "ExecuteTime": {
     "end_time": "2019-05-16T14:43:46.002297Z",
     "start_time": "2019-05-16T14:43:45.978945Z"
    }
   },
   "outputs": [
    {
     "name": "stdout",
     "output_type": "stream",
     "text": [
      "  Item_Identifier  Item_Weight Item_Fat_Content  Item_Visibility  \\\n",
      "0           FDA15         9.30          Low Fat         0.016047   \n",
      "1           DRC01         5.92          Regular         0.019278   \n",
      "2           FDN15        17.50          Low Fat         0.016760   \n",
      "3           FDX07        19.20          Regular         0.000000   \n",
      "4           NCD19         8.93          Low Fat         0.000000   \n",
      "\n",
      "               Item_Type  Item_MRP Outlet_Identifier  \\\n",
      "0                  Dairy  249.8092            OUT049   \n",
      "1            Soft Drinks   48.2692            OUT018   \n",
      "2                   Meat  141.6180            OUT049   \n",
      "3  Fruits and Vegetables  182.0950            OUT010   \n",
      "4              Household   53.8614            OUT013   \n",
      "\n",
      "   Outlet_Establishment_Year Outlet_Size Outlet_Location_Type  \\\n",
      "0                       1999      Medium               Tier 1   \n",
      "1                       2009      Medium               Tier 3   \n",
      "2                       1999      Medium               Tier 1   \n",
      "3                       1998         NaN               Tier 3   \n",
      "4                       1987        High               Tier 3   \n",
      "\n",
      "         Outlet_Type  Item_Outlet_Sales  \n",
      "0  Supermarket Type1          3735.1380  \n",
      "1  Supermarket Type2           443.4228  \n",
      "2  Supermarket Type1          2097.2700  \n",
      "3      Grocery Store           732.3800  \n",
      "4  Supermarket Type1           994.7052  \n",
      "  Item_Identifier  Item_Weight Item_Fat_Content  Item_Visibility    Item_Type  \\\n",
      "0           FDW58       20.750          Low Fat         0.007565  Snack Foods   \n",
      "1           FDW14        8.300              reg         0.038428        Dairy   \n",
      "2           NCN55       14.600          Low Fat         0.099575       Others   \n",
      "3           FDQ58        7.315          Low Fat         0.015388  Snack Foods   \n",
      "4           FDY38          NaN          Regular         0.118599        Dairy   \n",
      "\n",
      "   Item_MRP Outlet_Identifier  Outlet_Establishment_Year Outlet_Size  \\\n",
      "0  107.8622            OUT049                       1999      Medium   \n",
      "1   87.3198            OUT017                       2007         NaN   \n",
      "2  241.7538            OUT010                       1998         NaN   \n",
      "3  155.0340            OUT017                       2007         NaN   \n",
      "4  234.2300            OUT027                       1985      Medium   \n",
      "\n",
      "  Outlet_Location_Type        Outlet_Type  \n",
      "0               Tier 1  Supermarket Type1  \n",
      "1               Tier 2  Supermarket Type1  \n",
      "2               Tier 3      Grocery Store  \n",
      "3               Tier 2  Supermarket Type1  \n",
      "4               Tier 3  Supermarket Type3  \n"
     ]
    }
   ],
   "source": [
    "print(train.head())\n",
    "print(test.head())"
   ]
  },
  {
   "cell_type": "markdown",
   "metadata": {},
   "source": [
    "# Data Preparation"
   ]
  },
  {
   "cell_type": "code",
   "execution_count": 3,
   "metadata": {
    "ExecuteTime": {
     "end_time": "2019-05-16T14:43:49.194249Z",
     "start_time": "2019-05-16T14:43:49.186861Z"
    }
   },
   "outputs": [],
   "source": [
    "# saving identifiers\n",
    "test_Item_Identifier = test['Item_Identifier']\n",
    "test_Outlet_Identifier = test['Outlet_Identifier']\n",
    "sales = train['Item_Outlet_Sales']\n",
    "train.drop(['Item_Outlet_Sales'], axis=1, inplace=True)"
   ]
  },
  {
   "cell_type": "markdown",
   "metadata": {},
   "source": [
    "Then we will combine the train and test set as it saves us the trouble of performing the same step(s) twice."
   ]
  },
  {
   "cell_type": "code",
   "execution_count": 4,
   "metadata": {
    "ExecuteTime": {
     "end_time": "2019-05-16T14:43:50.278775Z",
     "start_time": "2019-05-16T14:43:50.266567Z"
    }
   },
   "outputs": [],
   "source": [
    "combi = train.append(test, ignore_index=True)"
   ]
  },
  {
   "cell_type": "code",
   "execution_count": 18,
   "metadata": {
    "ExecuteTime": {
     "end_time": "2019-05-05T08:17:06.002066Z",
     "start_time": "2019-05-05T08:17:05.980919Z"
    }
   },
   "outputs": [
    {
     "data": {
      "text/plain": [
       "Item_Identifier                 0\n",
       "Item_Weight                  2439\n",
       "Item_Fat_Content                0\n",
       "Item_Visibility                 0\n",
       "Item_Type                       0\n",
       "Item_MRP                        0\n",
       "Outlet_Identifier               0\n",
       "Outlet_Establishment_Year       0\n",
       "Outlet_Size                  4016\n",
       "Outlet_Location_Type            0\n",
       "Outlet_Type                     0\n",
       "dtype: int64"
      ]
     },
     "execution_count": 18,
     "metadata": {},
     "output_type": "execute_result"
    }
   ],
   "source": [
    "combi.isnull().sum()"
   ]
  },
  {
   "cell_type": "markdown",
   "metadata": {},
   "source": [
    "Quite a lot of missing values in the Item_Weight and Outlet_size variables. Let’s quickly deal with them:"
   ]
  },
  {
   "cell_type": "code",
   "execution_count": 19,
   "metadata": {
    "ExecuteTime": {
     "end_time": "2019-05-05T08:18:32.539534Z",
     "start_time": "2019-05-05T08:18:32.529176Z"
    }
   },
   "outputs": [],
   "source": [
    "# imputing missing data\n",
    "combi['Item_Weight'].fillna(combi['Item_Weight'].mean(), inplace = True)\n",
    "combi['Outlet_Size'].fillna(\"missing\", inplace = True)"
   ]
  },
  {
   "cell_type": "markdown",
   "metadata": {},
   "source": [
    "# Data Preprocessing"
   ]
  },
  {
   "cell_type": "code",
   "execution_count": 5,
   "metadata": {
    "ExecuteTime": {
     "end_time": "2019-05-16T14:43:53.732496Z",
     "start_time": "2019-05-16T14:43:53.714547Z"
    }
   },
   "outputs": [
    {
     "data": {
      "text/plain": [
       "Low Fat    8485\n",
       "Regular    4824\n",
       "LF          522\n",
       "reg         195\n",
       "low fat     178\n",
       "Name: Item_Fat_Content, dtype: int64"
      ]
     },
     "execution_count": 5,
     "metadata": {},
     "output_type": "execute_result"
    }
   ],
   "source": [
    "combi['Item_Fat_Content'].value_counts()"
   ]
  },
  {
   "cell_type": "markdown",
   "metadata": {},
   "source": [
    "It seems Item_Fat_Content contains only two categories, i.e., “Low Fat” and “Regular” – the rest of them we will consider redundant. So, let’s convert it into a binary variable."
   ]
  },
  {
   "cell_type": "code",
   "execution_count": 6,
   "metadata": {
    "ExecuteTime": {
     "end_time": "2019-05-16T14:43:55.503649Z",
     "start_time": "2019-05-16T14:43:55.382015Z"
    }
   },
   "outputs": [],
   "source": [
    "# dictionary to replace the categories\n",
    "fat_content_dict = {'Low Fat':0, 'Regular':1, 'LF':0, 'reg':1, 'low fat':0}\n",
    "\n",
    "combi['Item_Fat_Content'] = combi['Item_Fat_Content'].replace(fat_content_dict, regex=True)"
   ]
  },
  {
   "cell_type": "markdown",
   "metadata": {
    "ExecuteTime": {
     "end_time": "2019-05-05T08:21:45.873488Z",
     "start_time": "2019-05-05T08:21:45.862583Z"
    }
   },
   "source": [
    "#  Feature Engineering using Featuretools"
   ]
  },
  {
   "cell_type": "markdown",
   "metadata": {},
   "source": [
    "- Now we can start using Featuretools to perform automated feature engineering! It is necessary to have a unique identifier feature in the dataset (our dataset doesn’t have any right now). So, we will create one unique ID for our combined dataset. If you notice, we have two IDs in our data—one for the item and another for the outlet. So, simply concatenating both will give us a unique ID."
   ]
  },
  {
   "cell_type": "code",
   "execution_count": 7,
   "metadata": {
    "ExecuteTime": {
     "end_time": "2019-05-16T14:43:58.885154Z",
     "start_time": "2019-05-16T14:43:58.762691Z"
    }
   },
   "outputs": [],
   "source": [
    "combi['id'] = combi['Item_Identifier'] + combi['Outlet_Identifier']\n",
    "combi.drop(['Item_Identifier'], axis=1, inplace=True)"
   ]
  },
  {
   "cell_type": "markdown",
   "metadata": {
    "ExecuteTime": {
     "end_time": "2019-05-05T08:27:03.798062Z",
     "start_time": "2019-05-05T08:27:03.789608Z"
    }
   },
   "source": [
    "- Please note that I have dropped the feature Item_Identifier as it is no longer required. However, I have retained the feature Outlet_Identifier because I plan to use it later.\n",
    "\n",
    "- Now before proceeding, we will have to create an **EntitySet**. An EntitySet is a structure that contains multiple dataframes and relationships between them. So, let’s create an EntitySet and add the dataframe combination to it."
   ]
  },
  {
   "cell_type": "code",
   "execution_count": 36,
   "metadata": {
    "ExecuteTime": {
     "end_time": "2019-05-05T09:27:50.055398Z",
     "start_time": "2019-05-05T09:27:49.982386Z"
    }
   },
   "outputs": [
    {
     "data": {
      "text/plain": [
       "Entityset: sales\n",
       "  Entities:\n",
       "    bigmart [Rows: 14204, Columns: 11]\n",
       "  Relationships:\n",
       "    No relationships"
      ]
     },
     "execution_count": 36,
     "metadata": {},
     "output_type": "execute_result"
    }
   ],
   "source": [
    "# creating and entity set 'es'\n",
    "es = ft.EntitySet(id = 'sales')\n",
    "\n",
    "# adding a dataframe \n",
    "es.entity_from_dataframe(entity_id = 'bigmart', dataframe = combi, index = 'id')"
   ]
  },
  {
   "cell_type": "markdown",
   "metadata": {},
   "source": [
    "Our data contains information at two levels— *item level* and *outlet level*. Featuretools offers a functionality to split a dataset into multiple tables. We have created a new table **‘outlet’** from the BigMart table based on the outlet ID **Outlet_Identifier**."
   ]
  },
  {
   "cell_type": "code",
   "execution_count": 37,
   "metadata": {
    "ExecuteTime": {
     "end_time": "2019-05-05T09:27:52.674237Z",
     "start_time": "2019-05-05T09:27:52.639020Z"
    }
   },
   "outputs": [
    {
     "data": {
      "text/html": [
       "<div>\n",
       "<style scoped>\n",
       "    .dataframe tbody tr th:only-of-type {\n",
       "        vertical-align: middle;\n",
       "    }\n",
       "\n",
       "    .dataframe tbody tr th {\n",
       "        vertical-align: top;\n",
       "    }\n",
       "\n",
       "    .dataframe thead th {\n",
       "        text-align: right;\n",
       "    }\n",
       "</style>\n",
       "<table border=\"1\" class=\"dataframe\">\n",
       "  <thead>\n",
       "    <tr style=\"text-align: right;\">\n",
       "      <th></th>\n",
       "      <th>Item_Weight</th>\n",
       "      <th>Item_Fat_Content</th>\n",
       "      <th>Item_Visibility</th>\n",
       "      <th>Item_Type</th>\n",
       "      <th>Item_MRP</th>\n",
       "      <th>Outlet_Identifier</th>\n",
       "      <th>Outlet_Establishment_Year</th>\n",
       "      <th>Outlet_Size</th>\n",
       "      <th>Outlet_Location_Type</th>\n",
       "      <th>Outlet_Type</th>\n",
       "      <th>id</th>\n",
       "    </tr>\n",
       "  </thead>\n",
       "  <tbody>\n",
       "    <tr>\n",
       "      <th>0</th>\n",
       "      <td>9.30</td>\n",
       "      <td>0</td>\n",
       "      <td>0.016047</td>\n",
       "      <td>Dairy</td>\n",
       "      <td>249.8092</td>\n",
       "      <td>OUT049</td>\n",
       "      <td>1999</td>\n",
       "      <td>Medium</td>\n",
       "      <td>Tier 1</td>\n",
       "      <td>Supermarket Type1</td>\n",
       "      <td>FDA15OUT049</td>\n",
       "    </tr>\n",
       "    <tr>\n",
       "      <th>1</th>\n",
       "      <td>5.92</td>\n",
       "      <td>1</td>\n",
       "      <td>0.019278</td>\n",
       "      <td>Soft Drinks</td>\n",
       "      <td>48.2692</td>\n",
       "      <td>OUT018</td>\n",
       "      <td>2009</td>\n",
       "      <td>Medium</td>\n",
       "      <td>Tier 3</td>\n",
       "      <td>Supermarket Type2</td>\n",
       "      <td>DRC01OUT018</td>\n",
       "    </tr>\n",
       "    <tr>\n",
       "      <th>2</th>\n",
       "      <td>17.50</td>\n",
       "      <td>0</td>\n",
       "      <td>0.016760</td>\n",
       "      <td>Meat</td>\n",
       "      <td>141.6180</td>\n",
       "      <td>OUT049</td>\n",
       "      <td>1999</td>\n",
       "      <td>Medium</td>\n",
       "      <td>Tier 1</td>\n",
       "      <td>Supermarket Type1</td>\n",
       "      <td>FDN15OUT049</td>\n",
       "    </tr>\n",
       "    <tr>\n",
       "      <th>3</th>\n",
       "      <td>19.20</td>\n",
       "      <td>1</td>\n",
       "      <td>0.000000</td>\n",
       "      <td>Fruits and Vegetables</td>\n",
       "      <td>182.0950</td>\n",
       "      <td>OUT010</td>\n",
       "      <td>1998</td>\n",
       "      <td>missing</td>\n",
       "      <td>Tier 3</td>\n",
       "      <td>Grocery Store</td>\n",
       "      <td>FDX07OUT010</td>\n",
       "    </tr>\n",
       "    <tr>\n",
       "      <th>4</th>\n",
       "      <td>8.93</td>\n",
       "      <td>0</td>\n",
       "      <td>0.000000</td>\n",
       "      <td>Household</td>\n",
       "      <td>53.8614</td>\n",
       "      <td>OUT013</td>\n",
       "      <td>1987</td>\n",
       "      <td>High</td>\n",
       "      <td>Tier 3</td>\n",
       "      <td>Supermarket Type1</td>\n",
       "      <td>NCD19OUT013</td>\n",
       "    </tr>\n",
       "  </tbody>\n",
       "</table>\n",
       "</div>"
      ],
      "text/plain": [
       "   Item_Weight  Item_Fat_Content  Item_Visibility              Item_Type  \\\n",
       "0         9.30                 0         0.016047                  Dairy   \n",
       "1         5.92                 1         0.019278            Soft Drinks   \n",
       "2        17.50                 0         0.016760                   Meat   \n",
       "3        19.20                 1         0.000000  Fruits and Vegetables   \n",
       "4         8.93                 0         0.000000              Household   \n",
       "\n",
       "   Item_MRP Outlet_Identifier  Outlet_Establishment_Year Outlet_Size  \\\n",
       "0  249.8092            OUT049                       1999      Medium   \n",
       "1   48.2692            OUT018                       2009      Medium   \n",
       "2  141.6180            OUT049                       1999      Medium   \n",
       "3  182.0950            OUT010                       1998     missing   \n",
       "4   53.8614            OUT013                       1987        High   \n",
       "\n",
       "  Outlet_Location_Type        Outlet_Type           id  \n",
       "0               Tier 1  Supermarket Type1  FDA15OUT049  \n",
       "1               Tier 3  Supermarket Type2  DRC01OUT018  \n",
       "2               Tier 1  Supermarket Type1  FDN15OUT049  \n",
       "3               Tier 3      Grocery Store  FDX07OUT010  \n",
       "4               Tier 3  Supermarket Type1  NCD19OUT013  "
      ]
     },
     "execution_count": 37,
     "metadata": {},
     "output_type": "execute_result"
    }
   ],
   "source": [
    "combi.head()"
   ]
  },
  {
   "cell_type": "code",
   "execution_count": 38,
   "metadata": {
    "ExecuteTime": {
     "end_time": "2019-05-05T09:27:54.795563Z",
     "start_time": "2019-05-05T09:27:54.765525Z"
    }
   },
   "outputs": [
    {
     "data": {
      "text/plain": [
       "Entityset: sales\n",
       "  Entities:\n",
       "    bigmart [Rows: 14204, Columns: 7]\n",
       "    outlet [Rows: 10, Columns: 5]\n",
       "  Relationships:\n",
       "    bigmart.Outlet_Identifier -> outlet.Outlet_Identifier"
      ]
     },
     "execution_count": 38,
     "metadata": {},
     "output_type": "execute_result"
    }
   ],
   "source": [
    "es.normalize_entity(base_entity_id='bigmart', new_entity_id='outlet', index = 'Outlet_Identifier', \n",
    "additional_variables = ['Outlet_Establishment_Year', 'Outlet_Size', 'Outtlet_Location_Type', 'Outlet_Type'])"
   ]
  },
  {
   "cell_type": "code",
   "execution_count": 42,
   "metadata": {
    "ExecuteTime": {
     "end_time": "2019-05-05T09:28:46.991217Z",
     "start_time": "2019-05-05T09:28:46.968574Z"
    }
   },
   "outputs": [
    {
     "data": {
      "text/html": [
       "<div>\n",
       "<style scoped>\n",
       "    .dataframe tbody tr th:only-of-type {\n",
       "        vertical-align: middle;\n",
       "    }\n",
       "\n",
       "    .dataframe tbody tr th {\n",
       "        vertical-align: top;\n",
       "    }\n",
       "\n",
       "    .dataframe thead th {\n",
       "        text-align: right;\n",
       "    }\n",
       "</style>\n",
       "<table border=\"1\" class=\"dataframe\">\n",
       "  <thead>\n",
       "    <tr style=\"text-align: right;\">\n",
       "      <th></th>\n",
       "      <th>Outlet_Establishment_Year</th>\n",
       "      <th>Outlet_Size</th>\n",
       "      <th>Outlet_Location_Type</th>\n",
       "      <th>Outlet_Type</th>\n",
       "    </tr>\n",
       "  </thead>\n",
       "  <tbody>\n",
       "    <tr>\n",
       "      <th>0</th>\n",
       "      <td>1999</td>\n",
       "      <td>Medium</td>\n",
       "      <td>Tier 1</td>\n",
       "      <td>Supermarket Type1</td>\n",
       "    </tr>\n",
       "    <tr>\n",
       "      <th>1</th>\n",
       "      <td>2009</td>\n",
       "      <td>Medium</td>\n",
       "      <td>Tier 3</td>\n",
       "      <td>Supermarket Type2</td>\n",
       "    </tr>\n",
       "    <tr>\n",
       "      <th>3</th>\n",
       "      <td>1998</td>\n",
       "      <td>missing</td>\n",
       "      <td>Tier 3</td>\n",
       "      <td>Grocery Store</td>\n",
       "    </tr>\n",
       "    <tr>\n",
       "      <th>4</th>\n",
       "      <td>1987</td>\n",
       "      <td>High</td>\n",
       "      <td>Tier 3</td>\n",
       "      <td>Supermarket Type1</td>\n",
       "    </tr>\n",
       "    <tr>\n",
       "      <th>7</th>\n",
       "      <td>1985</td>\n",
       "      <td>Medium</td>\n",
       "      <td>Tier 3</td>\n",
       "      <td>Supermarket Type3</td>\n",
       "    </tr>\n",
       "    <tr>\n",
       "      <th>8</th>\n",
       "      <td>2002</td>\n",
       "      <td>missing</td>\n",
       "      <td>Tier 2</td>\n",
       "      <td>Supermarket Type1</td>\n",
       "    </tr>\n",
       "    <tr>\n",
       "      <th>9</th>\n",
       "      <td>2007</td>\n",
       "      <td>missing</td>\n",
       "      <td>Tier 2</td>\n",
       "      <td>Supermarket Type1</td>\n",
       "    </tr>\n",
       "    <tr>\n",
       "      <th>11</th>\n",
       "      <td>1997</td>\n",
       "      <td>Small</td>\n",
       "      <td>Tier 1</td>\n",
       "      <td>Supermarket Type1</td>\n",
       "    </tr>\n",
       "    <tr>\n",
       "      <th>19</th>\n",
       "      <td>2004</td>\n",
       "      <td>Small</td>\n",
       "      <td>Tier 2</td>\n",
       "      <td>Supermarket Type1</td>\n",
       "    </tr>\n",
       "    <tr>\n",
       "      <th>23</th>\n",
       "      <td>1985</td>\n",
       "      <td>Small</td>\n",
       "      <td>Tier 1</td>\n",
       "      <td>Grocery Store</td>\n",
       "    </tr>\n",
       "  </tbody>\n",
       "</table>\n",
       "</div>"
      ],
      "text/plain": [
       "    Outlet_Establishment_Year Outlet_Size Outlet_Location_Type  \\\n",
       "0                        1999      Medium               Tier 1   \n",
       "1                        2009      Medium               Tier 3   \n",
       "3                        1998     missing               Tier 3   \n",
       "4                        1987        High               Tier 3   \n",
       "7                        1985      Medium               Tier 3   \n",
       "8                        2002     missing               Tier 2   \n",
       "9                        2007     missing               Tier 2   \n",
       "11                       1997       Small               Tier 1   \n",
       "19                       2004       Small               Tier 2   \n",
       "23                       1985       Small               Tier 1   \n",
       "\n",
       "          Outlet_Type  \n",
       "0   Supermarket Type1  \n",
       "1   Supermarket Type2  \n",
       "3       Grocery Store  \n",
       "4   Supermarket Type1  \n",
       "7   Supermarket Type3  \n",
       "8   Supermarket Type1  \n",
       "9   Supermarket Type1  \n",
       "11  Supermarket Type1  \n",
       "19  Supermarket Type1  \n",
       "23      Grocery Store  "
      ]
     },
     "execution_count": 42,
     "metadata": {},
     "output_type": "execute_result"
    }
   ],
   "source": [
    "additional_variables = ['Outlet_Establishment_Year', 'Outlet_Size', 'Outlet_Location_Type', 'Outlet_Type']\n",
    "combi.loc[:, additional_variables].drop_duplicates()"
   ]
  },
  {
   "cell_type": "code",
   "execution_count": 44,
   "metadata": {
    "ExecuteTime": {
     "end_time": "2019-05-05T09:29:26.631590Z",
     "start_time": "2019-05-05T09:29:26.628334Z"
    }
   },
   "outputs": [
    {
     "name": "stdout",
     "output_type": "stream",
     "text": [
      "Entityset: sales\n",
      "  Entities:\n",
      "    bigmart [Rows: 14204, Columns: 7]\n",
      "    outlet [Rows: 10, Columns: 5]\n",
      "  Relationships:\n",
      "    bigmart.Outlet_Identifier -> outlet.Outlet_Identifier\n"
     ]
    }
   ],
   "source": [
    "# Let’s check the summary of our EntitySet.\n",
    "print(es)"
   ]
  },
  {
   "cell_type": "markdown",
   "metadata": {},
   "source": [
    "- As you can see above, it contains two entities – *bigmart* and *outlet*. There is also a relationship formed between the two tables, connected by **Outlet_Identifier**. **This relationship will play a key role in the generation of new features.**\n",
    "\n",
    "- Now we will use **Deep Feature Synthesis(DFS)** to create new features automatically. Recall that DFS uses ***Feature Primitives*** to create features using multiple tables present in the EntitySet."
   ]
  },
  {
   "cell_type": "code",
   "execution_count": 61,
   "metadata": {
    "ExecuteTime": {
     "end_time": "2019-05-05T10:27:36.755413Z",
     "start_time": "2019-05-05T10:27:32.622818Z"
    }
   },
   "outputs": [
    {
     "name": "stdout",
     "output_type": "stream",
     "text": [
      "Built 37 features\n",
      "EntitySet scattered to workers in 2.185 seconds\n",
      "Elapsed: 00:01 | Remaining: 00:00 | Progress: 100%|██████████| Calculated: 11/11 chunks\n"
     ]
    },
    {
     "data": {
      "text/plain": [
       "'\\n>> Deep Feature Synthesis <<\\n\\nWe now have all the pieces in place to understand deep feature synthesis (dfs). \\n    In fact, we already performed dfs in the previous function call! \\n    A deep feature is simply a feature made of stacking multiple primitives and dfs is \\n    the name of process that makes these features. \\nThe depth of a deep feature is the number of primitives required to make the feature.\\n\\nFor example, the MEAN(payments.payment_amount) column is a deep feature with a depth of 1 \\n    because it was created using a single aggregation. A feature with a depth of two is \\n    LAST(loans(MEAN(payments.payment_amount)) This is made by stacking two aggregations: \\n    LAST (most recent) on top of MEAN. This represents the average payment size of the \\n    most recent loan for each client.\\n'"
      ]
     },
     "execution_count": 61,
     "metadata": {},
     "output_type": "execute_result"
    }
   ],
   "source": [
    "# agg_primitives Default: [\"sum\", \"std\", \"max\", \"skew\", \"min\", \"mean\", \"count\", \"percent_true\", \"n_unique\", \"mode\"]\n",
    "# trans_primitives Default: [\"day\", \"year\", \"month\", \"weekday\", \"haversine\", \"num_words\", \"num_characters\"]\n",
    "feature_matrix, feature_names = ft.dfs(entityset=es,\n",
    "                                       target_entity='bigmart',\n",
    "                                       max_depth=2, # 代表疊了幾個basic feature\n",
    "                                       verbose=1,\n",
    "                                       n_jobs=3)\n",
    "\n",
    "# feature_names可能還是要存下來，未來遇到類似的資料也是一樣要重新生一次\n",
    "\"\"\"\n",
    ">> Deep Feature Synthesis <<\n",
    "\n",
    "We now have all the pieces in place to understand deep feature synthesis (dfs). \n",
    "    In fact, we already performed dfs in the previous function call! \n",
    "    A deep feature is simply a feature made of stacking multiple primitives and dfs is \n",
    "    the name of process that makes these features. \n",
    "The depth of a deep feature is the number of primitives required to make the feature.\n",
    "\n",
    "For example, the MEAN(payments.payment_amount) column is a deep feature with a depth of 1 \n",
    "    because it was created using a single aggregation. A feature with a depth of two is \n",
    "    LAST(loans(MEAN(payments.payment_amount)) This is made by stacking two aggregations: \n",
    "    LAST (most recent) on top of MEAN. This represents the average payment size of the \n",
    "    most recent loan for each client.\n",
    "\"\"\""
   ]
  },
  {
   "cell_type": "code",
   "execution_count": 53,
   "metadata": {
    "ExecuteTime": {
     "end_time": "2019-05-05T10:21:09.557220Z",
     "start_time": "2019-05-05T10:21:09.547415Z"
    }
   },
   "outputs": [
    {
     "data": {
      "text/plain": [
       "Index(['Item_Weight', 'Item_Fat_Content', 'Item_Visibility', 'Item_Type',\n",
       "       'Item_MRP', 'Outlet_Identifier', 'outlet.Outlet_Establishment_Year',\n",
       "       'outlet.Outlet_Size', 'outlet.Outlet_Location_Type',\n",
       "       'outlet.Outlet_Type', 'outlet.SUM(bigmart.Item_Weight)',\n",
       "       'outlet.SUM(bigmart.Item_Fat_Content)',\n",
       "       'outlet.SUM(bigmart.Item_Visibility)', 'outlet.SUM(bigmart.Item_MRP)',\n",
       "       'outlet.STD(bigmart.Item_Weight)',\n",
       "       'outlet.STD(bigmart.Item_Fat_Content)',\n",
       "       'outlet.STD(bigmart.Item_Visibility)', 'outlet.STD(bigmart.Item_MRP)',\n",
       "       'outlet.MAX(bigmart.Item_Weight)',\n",
       "       'outlet.MAX(bigmart.Item_Fat_Content)',\n",
       "       'outlet.MAX(bigmart.Item_Visibility)', 'outlet.MAX(bigmart.Item_MRP)',\n",
       "       'outlet.SKEW(bigmart.Item_Weight)',\n",
       "       'outlet.SKEW(bigmart.Item_Fat_Content)',\n",
       "       'outlet.SKEW(bigmart.Item_Visibility)', 'outlet.SKEW(bigmart.Item_MRP)',\n",
       "       'outlet.MIN(bigmart.Item_Weight)',\n",
       "       'outlet.MIN(bigmart.Item_Fat_Content)',\n",
       "       'outlet.MIN(bigmart.Item_Visibility)', 'outlet.MIN(bigmart.Item_MRP)',\n",
       "       'outlet.MEAN(bigmart.Item_Weight)',\n",
       "       'outlet.MEAN(bigmart.Item_Fat_Content)',\n",
       "       'outlet.MEAN(bigmart.Item_Visibility)', 'outlet.MEAN(bigmart.Item_MRP)',\n",
       "       'outlet.COUNT(bigmart)', 'outlet.NUM_UNIQUE(bigmart.Item_Type)',\n",
       "       'outlet.MODE(bigmart.Item_Type)'],\n",
       "      dtype='object')"
      ]
     },
     "execution_count": 53,
     "metadata": {},
     "output_type": "execute_result"
    }
   ],
   "source": [
    "feature_matrix.columns"
   ]
  },
  {
   "cell_type": "code",
   "execution_count": 57,
   "metadata": {
    "ExecuteTime": {
     "end_time": "2019-05-05T10:23:35.297882Z",
     "start_time": "2019-05-05T10:23:35.254719Z"
    }
   },
   "outputs": [
    {
     "data": {
      "text/html": [
       "<div>\n",
       "<style scoped>\n",
       "    .dataframe tbody tr th:only-of-type {\n",
       "        vertical-align: middle;\n",
       "    }\n",
       "\n",
       "    .dataframe tbody tr th {\n",
       "        vertical-align: top;\n",
       "    }\n",
       "\n",
       "    .dataframe thead th {\n",
       "        text-align: right;\n",
       "    }\n",
       "</style>\n",
       "<table border=\"1\" class=\"dataframe\">\n",
       "  <thead>\n",
       "    <tr style=\"text-align: right;\">\n",
       "      <th></th>\n",
       "      <th>Item_Weight</th>\n",
       "      <th>Item_Fat_Content</th>\n",
       "      <th>Item_Visibility</th>\n",
       "      <th>Item_Type</th>\n",
       "      <th>Item_MRP</th>\n",
       "      <th>Outlet_Identifier</th>\n",
       "      <th>outlet.Outlet_Establishment_Year</th>\n",
       "      <th>outlet.Outlet_Size</th>\n",
       "      <th>outlet.Outlet_Location_Type</th>\n",
       "      <th>outlet.Outlet_Type</th>\n",
       "      <th>...</th>\n",
       "      <th>outlet.MIN(bigmart.Item_Fat_Content)</th>\n",
       "      <th>outlet.MIN(bigmart.Item_Visibility)</th>\n",
       "      <th>outlet.MIN(bigmart.Item_MRP)</th>\n",
       "      <th>outlet.MEAN(bigmart.Item_Weight)</th>\n",
       "      <th>outlet.MEAN(bigmart.Item_Fat_Content)</th>\n",
       "      <th>outlet.MEAN(bigmart.Item_Visibility)</th>\n",
       "      <th>outlet.MEAN(bigmart.Item_MRP)</th>\n",
       "      <th>outlet.COUNT(bigmart)</th>\n",
       "      <th>outlet.NUM_UNIQUE(bigmart.Item_Type)</th>\n",
       "      <th>outlet.MODE(bigmart.Item_Type)</th>\n",
       "    </tr>\n",
       "    <tr>\n",
       "      <th>id</th>\n",
       "      <th></th>\n",
       "      <th></th>\n",
       "      <th></th>\n",
       "      <th></th>\n",
       "      <th></th>\n",
       "      <th></th>\n",
       "      <th></th>\n",
       "      <th></th>\n",
       "      <th></th>\n",
       "      <th></th>\n",
       "      <th></th>\n",
       "      <th></th>\n",
       "      <th></th>\n",
       "      <th></th>\n",
       "      <th></th>\n",
       "      <th></th>\n",
       "      <th></th>\n",
       "      <th></th>\n",
       "      <th></th>\n",
       "      <th></th>\n",
       "      <th></th>\n",
       "    </tr>\n",
       "  </thead>\n",
       "  <tbody>\n",
       "    <tr>\n",
       "      <th>DRA12OUT010</th>\n",
       "      <td>11.600000</td>\n",
       "      <td>0</td>\n",
       "      <td>0.068535</td>\n",
       "      <td>Soft Drinks</td>\n",
       "      <td>143.0154</td>\n",
       "      <td>OUT010</td>\n",
       "      <td>1998</td>\n",
       "      <td>missing</td>\n",
       "      <td>Tier 3</td>\n",
       "      <td>Grocery Store</td>\n",
       "      <td>...</td>\n",
       "      <td>0</td>\n",
       "      <td>0.0</td>\n",
       "      <td>32.6558</td>\n",
       "      <td>12.722870</td>\n",
       "      <td>0.356757</td>\n",
       "      <td>0.101939</td>\n",
       "      <td>141.159742</td>\n",
       "      <td>925</td>\n",
       "      <td>16</td>\n",
       "      <td>Fruits and Vegetables</td>\n",
       "    </tr>\n",
       "    <tr>\n",
       "      <th>DRA12OUT013</th>\n",
       "      <td>11.600000</td>\n",
       "      <td>0</td>\n",
       "      <td>0.040912</td>\n",
       "      <td>Soft Drinks</td>\n",
       "      <td>142.3154</td>\n",
       "      <td>OUT013</td>\n",
       "      <td>1987</td>\n",
       "      <td>High</td>\n",
       "      <td>Tier 3</td>\n",
       "      <td>Supermarket Type1</td>\n",
       "      <td>...</td>\n",
       "      <td>0</td>\n",
       "      <td>0.0</td>\n",
       "      <td>31.4900</td>\n",
       "      <td>12.788139</td>\n",
       "      <td>0.353509</td>\n",
       "      <td>0.060242</td>\n",
       "      <td>141.128428</td>\n",
       "      <td>1553</td>\n",
       "      <td>16</td>\n",
       "      <td>Fruits and Vegetables</td>\n",
       "    </tr>\n",
       "    <tr>\n",
       "      <th>DRA12OUT017</th>\n",
       "      <td>11.600000</td>\n",
       "      <td>0</td>\n",
       "      <td>0.041178</td>\n",
       "      <td>Soft Drinks</td>\n",
       "      <td>140.3154</td>\n",
       "      <td>OUT017</td>\n",
       "      <td>2007</td>\n",
       "      <td>missing</td>\n",
       "      <td>Tier 2</td>\n",
       "      <td>Supermarket Type1</td>\n",
       "      <td>...</td>\n",
       "      <td>0</td>\n",
       "      <td>0.0</td>\n",
       "      <td>32.0900</td>\n",
       "      <td>12.782080</td>\n",
       "      <td>0.352560</td>\n",
       "      <td>0.061142</td>\n",
       "      <td>140.998931</td>\n",
       "      <td>1543</td>\n",
       "      <td>16</td>\n",
       "      <td>Snack Foods</td>\n",
       "    </tr>\n",
       "    <tr>\n",
       "      <th>DRA12OUT018</th>\n",
       "      <td>11.600000</td>\n",
       "      <td>0</td>\n",
       "      <td>0.041113</td>\n",
       "      <td>Soft Drinks</td>\n",
       "      <td>142.0154</td>\n",
       "      <td>OUT018</td>\n",
       "      <td>2009</td>\n",
       "      <td>Medium</td>\n",
       "      <td>Tier 3</td>\n",
       "      <td>Supermarket Type2</td>\n",
       "      <td>...</td>\n",
       "      <td>0</td>\n",
       "      <td>0.0</td>\n",
       "      <td>31.8900</td>\n",
       "      <td>12.803638</td>\n",
       "      <td>0.353816</td>\n",
       "      <td>0.059976</td>\n",
       "      <td>141.000899</td>\n",
       "      <td>1546</td>\n",
       "      <td>16</td>\n",
       "      <td>Fruits and Vegetables</td>\n",
       "    </tr>\n",
       "    <tr>\n",
       "      <th>DRA12OUT027</th>\n",
       "      <td>12.792854</td>\n",
       "      <td>0</td>\n",
       "      <td>0.040748</td>\n",
       "      <td>Soft Drinks</td>\n",
       "      <td>140.0154</td>\n",
       "      <td>OUT027</td>\n",
       "      <td>1985</td>\n",
       "      <td>Medium</td>\n",
       "      <td>Tier 3</td>\n",
       "      <td>Supermarket Type3</td>\n",
       "      <td>...</td>\n",
       "      <td>0</td>\n",
       "      <td>0.0</td>\n",
       "      <td>31.2900</td>\n",
       "      <td>12.792854</td>\n",
       "      <td>0.353432</td>\n",
       "      <td>0.060344</td>\n",
       "      <td>141.012347</td>\n",
       "      <td>1559</td>\n",
       "      <td>16</td>\n",
       "      <td>Fruits and Vegetables</td>\n",
       "    </tr>\n",
       "  </tbody>\n",
       "</table>\n",
       "<p>5 rows × 37 columns</p>\n",
       "</div>"
      ],
      "text/plain": [
       "             Item_Weight  Item_Fat_Content  Item_Visibility    Item_Type  \\\n",
       "id                                                                         \n",
       "DRA12OUT010    11.600000                 0         0.068535  Soft Drinks   \n",
       "DRA12OUT013    11.600000                 0         0.040912  Soft Drinks   \n",
       "DRA12OUT017    11.600000                 0         0.041178  Soft Drinks   \n",
       "DRA12OUT018    11.600000                 0         0.041113  Soft Drinks   \n",
       "DRA12OUT027    12.792854                 0         0.040748  Soft Drinks   \n",
       "\n",
       "             Item_MRP Outlet_Identifier  outlet.Outlet_Establishment_Year  \\\n",
       "id                                                                          \n",
       "DRA12OUT010  143.0154            OUT010                              1998   \n",
       "DRA12OUT013  142.3154            OUT013                              1987   \n",
       "DRA12OUT017  140.3154            OUT017                              2007   \n",
       "DRA12OUT018  142.0154            OUT018                              2009   \n",
       "DRA12OUT027  140.0154            OUT027                              1985   \n",
       "\n",
       "            outlet.Outlet_Size outlet.Outlet_Location_Type outlet.Outlet_Type  \\\n",
       "id                                                                              \n",
       "DRA12OUT010            missing                      Tier 3      Grocery Store   \n",
       "DRA12OUT013               High                      Tier 3  Supermarket Type1   \n",
       "DRA12OUT017            missing                      Tier 2  Supermarket Type1   \n",
       "DRA12OUT018             Medium                      Tier 3  Supermarket Type2   \n",
       "DRA12OUT027             Medium                      Tier 3  Supermarket Type3   \n",
       "\n",
       "             ...  outlet.MIN(bigmart.Item_Fat_Content)  \\\n",
       "id           ...                                         \n",
       "DRA12OUT010  ...                                     0   \n",
       "DRA12OUT013  ...                                     0   \n",
       "DRA12OUT017  ...                                     0   \n",
       "DRA12OUT018  ...                                     0   \n",
       "DRA12OUT027  ...                                     0   \n",
       "\n",
       "             outlet.MIN(bigmart.Item_Visibility)  \\\n",
       "id                                                 \n",
       "DRA12OUT010                                  0.0   \n",
       "DRA12OUT013                                  0.0   \n",
       "DRA12OUT017                                  0.0   \n",
       "DRA12OUT018                                  0.0   \n",
       "DRA12OUT027                                  0.0   \n",
       "\n",
       "             outlet.MIN(bigmart.Item_MRP)  outlet.MEAN(bigmart.Item_Weight)  \\\n",
       "id                                                                            \n",
       "DRA12OUT010                       32.6558                         12.722870   \n",
       "DRA12OUT013                       31.4900                         12.788139   \n",
       "DRA12OUT017                       32.0900                         12.782080   \n",
       "DRA12OUT018                       31.8900                         12.803638   \n",
       "DRA12OUT027                       31.2900                         12.792854   \n",
       "\n",
       "             outlet.MEAN(bigmart.Item_Fat_Content)  \\\n",
       "id                                                   \n",
       "DRA12OUT010                               0.356757   \n",
       "DRA12OUT013                               0.353509   \n",
       "DRA12OUT017                               0.352560   \n",
       "DRA12OUT018                               0.353816   \n",
       "DRA12OUT027                               0.353432   \n",
       "\n",
       "             outlet.MEAN(bigmart.Item_Visibility)  \\\n",
       "id                                                  \n",
       "DRA12OUT010                              0.101939   \n",
       "DRA12OUT013                              0.060242   \n",
       "DRA12OUT017                              0.061142   \n",
       "DRA12OUT018                              0.059976   \n",
       "DRA12OUT027                              0.060344   \n",
       "\n",
       "             outlet.MEAN(bigmart.Item_MRP)  outlet.COUNT(bigmart)  \\\n",
       "id                                                                  \n",
       "DRA12OUT010                     141.159742                    925   \n",
       "DRA12OUT013                     141.128428                   1553   \n",
       "DRA12OUT017                     140.998931                   1543   \n",
       "DRA12OUT018                     141.000899                   1546   \n",
       "DRA12OUT027                     141.012347                   1559   \n",
       "\n",
       "             outlet.NUM_UNIQUE(bigmart.Item_Type)  \\\n",
       "id                                                  \n",
       "DRA12OUT010                                    16   \n",
       "DRA12OUT013                                    16   \n",
       "DRA12OUT017                                    16   \n",
       "DRA12OUT018                                    16   \n",
       "DRA12OUT027                                    16   \n",
       "\n",
       "             outlet.MODE(bigmart.Item_Type)  \n",
       "id                                           \n",
       "DRA12OUT010           Fruits and Vegetables  \n",
       "DRA12OUT013           Fruits and Vegetables  \n",
       "DRA12OUT017                     Snack Foods  \n",
       "DRA12OUT018           Fruits and Vegetables  \n",
       "DRA12OUT027           Fruits and Vegetables  \n",
       "\n",
       "[5 rows x 37 columns]"
      ]
     },
     "execution_count": 57,
     "metadata": {},
     "output_type": "execute_result"
    }
   ],
   "source": [
    "feature_matrix.head()"
   ]
  },
  {
   "cell_type": "markdown",
   "metadata": {},
   "source": [
    "- There is one issue with this dataframe – it is not sorted properly. We will have to sort it based on the id variable from the combi dataframe."
   ]
  },
  {
   "cell_type": "code",
   "execution_count": 62,
   "metadata": {
    "ExecuteTime": {
     "end_time": "2019-05-05T10:27:41.036168Z",
     "start_time": "2019-05-05T10:27:40.971496Z"
    }
   },
   "outputs": [
    {
     "data": {
      "text/html": [
       "<div>\n",
       "<style scoped>\n",
       "    .dataframe tbody tr th:only-of-type {\n",
       "        vertical-align: middle;\n",
       "    }\n",
       "\n",
       "    .dataframe tbody tr th {\n",
       "        vertical-align: top;\n",
       "    }\n",
       "\n",
       "    .dataframe thead th {\n",
       "        text-align: right;\n",
       "    }\n",
       "</style>\n",
       "<table border=\"1\" class=\"dataframe\">\n",
       "  <thead>\n",
       "    <tr style=\"text-align: right;\">\n",
       "      <th></th>\n",
       "      <th>id</th>\n",
       "      <th>Item_Weight</th>\n",
       "      <th>Item_Fat_Content</th>\n",
       "      <th>Item_Visibility</th>\n",
       "      <th>Item_Type</th>\n",
       "      <th>Item_MRP</th>\n",
       "      <th>Outlet_Identifier</th>\n",
       "      <th>outlet.Outlet_Establishment_Year</th>\n",
       "      <th>outlet.Outlet_Size</th>\n",
       "      <th>outlet.Outlet_Location_Type</th>\n",
       "      <th>...</th>\n",
       "      <th>outlet.MIN(bigmart.Item_Fat_Content)</th>\n",
       "      <th>outlet.MIN(bigmart.Item_Visibility)</th>\n",
       "      <th>outlet.MIN(bigmart.Item_MRP)</th>\n",
       "      <th>outlet.MEAN(bigmart.Item_Weight)</th>\n",
       "      <th>outlet.MEAN(bigmart.Item_Fat_Content)</th>\n",
       "      <th>outlet.MEAN(bigmart.Item_Visibility)</th>\n",
       "      <th>outlet.MEAN(bigmart.Item_MRP)</th>\n",
       "      <th>outlet.COUNT(bigmart)</th>\n",
       "      <th>outlet.NUM_UNIQUE(bigmart.Item_Type)</th>\n",
       "      <th>outlet.MODE(bigmart.Item_Type)</th>\n",
       "    </tr>\n",
       "  </thead>\n",
       "  <tbody>\n",
       "    <tr>\n",
       "      <th>0</th>\n",
       "      <td>FDA15OUT049</td>\n",
       "      <td>9.30</td>\n",
       "      <td>0</td>\n",
       "      <td>0.016047</td>\n",
       "      <td>Dairy</td>\n",
       "      <td>249.8092</td>\n",
       "      <td>OUT049</td>\n",
       "      <td>1999</td>\n",
       "      <td>Medium</td>\n",
       "      <td>Tier 1</td>\n",
       "      <td>...</td>\n",
       "      <td>0</td>\n",
       "      <td>0.0</td>\n",
       "      <td>32.4558</td>\n",
       "      <td>12.803003</td>\n",
       "      <td>0.352903</td>\n",
       "      <td>0.059000</td>\n",
       "      <td>141.163199</td>\n",
       "      <td>1550</td>\n",
       "      <td>16</td>\n",
       "      <td>Fruits and Vegetables</td>\n",
       "    </tr>\n",
       "    <tr>\n",
       "      <th>1</th>\n",
       "      <td>DRC01OUT018</td>\n",
       "      <td>5.92</td>\n",
       "      <td>1</td>\n",
       "      <td>0.019278</td>\n",
       "      <td>Soft Drinks</td>\n",
       "      <td>48.2692</td>\n",
       "      <td>OUT018</td>\n",
       "      <td>2009</td>\n",
       "      <td>Medium</td>\n",
       "      <td>Tier 3</td>\n",
       "      <td>...</td>\n",
       "      <td>0</td>\n",
       "      <td>0.0</td>\n",
       "      <td>31.8900</td>\n",
       "      <td>12.803638</td>\n",
       "      <td>0.353816</td>\n",
       "      <td>0.059976</td>\n",
       "      <td>141.000899</td>\n",
       "      <td>1546</td>\n",
       "      <td>16</td>\n",
       "      <td>Fruits and Vegetables</td>\n",
       "    </tr>\n",
       "    <tr>\n",
       "      <th>2</th>\n",
       "      <td>FDN15OUT049</td>\n",
       "      <td>17.50</td>\n",
       "      <td>0</td>\n",
       "      <td>0.016760</td>\n",
       "      <td>Meat</td>\n",
       "      <td>141.6180</td>\n",
       "      <td>OUT049</td>\n",
       "      <td>1999</td>\n",
       "      <td>Medium</td>\n",
       "      <td>Tier 1</td>\n",
       "      <td>...</td>\n",
       "      <td>0</td>\n",
       "      <td>0.0</td>\n",
       "      <td>32.4558</td>\n",
       "      <td>12.803003</td>\n",
       "      <td>0.352903</td>\n",
       "      <td>0.059000</td>\n",
       "      <td>141.163199</td>\n",
       "      <td>1550</td>\n",
       "      <td>16</td>\n",
       "      <td>Fruits and Vegetables</td>\n",
       "    </tr>\n",
       "    <tr>\n",
       "      <th>3</th>\n",
       "      <td>FDX07OUT010</td>\n",
       "      <td>19.20</td>\n",
       "      <td>1</td>\n",
       "      <td>0.000000</td>\n",
       "      <td>Fruits and Vegetables</td>\n",
       "      <td>182.0950</td>\n",
       "      <td>OUT010</td>\n",
       "      <td>1998</td>\n",
       "      <td>missing</td>\n",
       "      <td>Tier 3</td>\n",
       "      <td>...</td>\n",
       "      <td>0</td>\n",
       "      <td>0.0</td>\n",
       "      <td>32.6558</td>\n",
       "      <td>12.722870</td>\n",
       "      <td>0.356757</td>\n",
       "      <td>0.101939</td>\n",
       "      <td>141.159742</td>\n",
       "      <td>925</td>\n",
       "      <td>16</td>\n",
       "      <td>Fruits and Vegetables</td>\n",
       "    </tr>\n",
       "    <tr>\n",
       "      <th>4</th>\n",
       "      <td>NCD19OUT013</td>\n",
       "      <td>8.93</td>\n",
       "      <td>0</td>\n",
       "      <td>0.000000</td>\n",
       "      <td>Household</td>\n",
       "      <td>53.8614</td>\n",
       "      <td>OUT013</td>\n",
       "      <td>1987</td>\n",
       "      <td>High</td>\n",
       "      <td>Tier 3</td>\n",
       "      <td>...</td>\n",
       "      <td>0</td>\n",
       "      <td>0.0</td>\n",
       "      <td>31.4900</td>\n",
       "      <td>12.788139</td>\n",
       "      <td>0.353509</td>\n",
       "      <td>0.060242</td>\n",
       "      <td>141.128428</td>\n",
       "      <td>1553</td>\n",
       "      <td>16</td>\n",
       "      <td>Fruits and Vegetables</td>\n",
       "    </tr>\n",
       "  </tbody>\n",
       "</table>\n",
       "<p>5 rows × 38 columns</p>\n",
       "</div>"
      ],
      "text/plain": [
       "            id  Item_Weight  Item_Fat_Content  Item_Visibility  \\\n",
       "0  FDA15OUT049         9.30                 0         0.016047   \n",
       "1  DRC01OUT018         5.92                 1         0.019278   \n",
       "2  FDN15OUT049        17.50                 0         0.016760   \n",
       "3  FDX07OUT010        19.20                 1         0.000000   \n",
       "4  NCD19OUT013         8.93                 0         0.000000   \n",
       "\n",
       "               Item_Type  Item_MRP Outlet_Identifier  \\\n",
       "0                  Dairy  249.8092            OUT049   \n",
       "1            Soft Drinks   48.2692            OUT018   \n",
       "2                   Meat  141.6180            OUT049   \n",
       "3  Fruits and Vegetables  182.0950            OUT010   \n",
       "4              Household   53.8614            OUT013   \n",
       "\n",
       "   outlet.Outlet_Establishment_Year outlet.Outlet_Size  \\\n",
       "0                              1999             Medium   \n",
       "1                              2009             Medium   \n",
       "2                              1999             Medium   \n",
       "3                              1998            missing   \n",
       "4                              1987               High   \n",
       "\n",
       "  outlet.Outlet_Location_Type  ... outlet.MIN(bigmart.Item_Fat_Content)  \\\n",
       "0                      Tier 1  ...                                    0   \n",
       "1                      Tier 3  ...                                    0   \n",
       "2                      Tier 1  ...                                    0   \n",
       "3                      Tier 3  ...                                    0   \n",
       "4                      Tier 3  ...                                    0   \n",
       "\n",
       "   outlet.MIN(bigmart.Item_Visibility)  outlet.MIN(bigmart.Item_MRP)  \\\n",
       "0                                  0.0                       32.4558   \n",
       "1                                  0.0                       31.8900   \n",
       "2                                  0.0                       32.4558   \n",
       "3                                  0.0                       32.6558   \n",
       "4                                  0.0                       31.4900   \n",
       "\n",
       "   outlet.MEAN(bigmart.Item_Weight)  outlet.MEAN(bigmart.Item_Fat_Content)  \\\n",
       "0                         12.803003                               0.352903   \n",
       "1                         12.803638                               0.353816   \n",
       "2                         12.803003                               0.352903   \n",
       "3                         12.722870                               0.356757   \n",
       "4                         12.788139                               0.353509   \n",
       "\n",
       "   outlet.MEAN(bigmart.Item_Visibility)  outlet.MEAN(bigmart.Item_MRP)  \\\n",
       "0                              0.059000                     141.163199   \n",
       "1                              0.059976                     141.000899   \n",
       "2                              0.059000                     141.163199   \n",
       "3                              0.101939                     141.159742   \n",
       "4                              0.060242                     141.128428   \n",
       "\n",
       "   outlet.COUNT(bigmart)  outlet.NUM_UNIQUE(bigmart.Item_Type)  \\\n",
       "0                   1550                                    16   \n",
       "1                   1546                                    16   \n",
       "2                   1550                                    16   \n",
       "3                    925                                    16   \n",
       "4                   1553                                    16   \n",
       "\n",
       "   outlet.MODE(bigmart.Item_Type)  \n",
       "0           Fruits and Vegetables  \n",
       "1           Fruits and Vegetables  \n",
       "2           Fruits and Vegetables  \n",
       "3           Fruits and Vegetables  \n",
       "4           Fruits and Vegetables  \n",
       "\n",
       "[5 rows x 38 columns]"
      ]
     },
     "execution_count": 62,
     "metadata": {},
     "output_type": "execute_result"
    }
   ],
   "source": [
    "feature_matrix = feature_matrix.reindex(index=combi['id'])\n",
    "feature_matrix = feature_matrix.reset_index()\n",
    "feature_matrix.head()"
   ]
  },
  {
   "cell_type": "markdown",
   "metadata": {},
   "source": [
    "# Model Building\n",
    "- It is time to check how useful these generated features actually are. We will use them to build a model and predict Item_Outlet_Sales. Since our final data (feature_matrix) has many categorical features, I decided to use the **CatBoost** algorithm. __It can use categorical features directly and is scalable in nature.__ You can refer to this article to read more about CatBoost."
   ]
  },
  {
   "cell_type": "markdown",
   "metadata": {
    "ExecuteTime": {
     "end_time": "2019-05-05T10:28:59.327290Z",
     "start_time": "2019-05-05T10:28:53.608588Z"
    }
   },
   "source": [
    "CatBoost requires all the categorical variables to be in the string format. So, we will convert the categorical variables in our data to string first:"
   ]
  },
  {
   "cell_type": "code",
   "execution_count": 64,
   "metadata": {
    "ExecuteTime": {
     "end_time": "2019-05-05T12:40:22.328825Z",
     "start_time": "2019-05-05T12:40:22.286797Z"
    }
   },
   "outputs": [],
   "source": [
    "categorical_features = np.where(feature_matrix.dtypes == 'object')[0]\n",
    "\n",
    "for i in categorical_features:\n",
    "    feature_matrix.iloc[:,i] = feature_matrix.iloc[:,i].astype('str')"
   ]
  },
  {
   "cell_type": "markdown",
   "metadata": {},
   "source": [
    "Let’s split feature_matrix back into train and test sets."
   ]
  },
  {
   "cell_type": "code",
   "execution_count": 65,
   "metadata": {
    "ExecuteTime": {
     "end_time": "2019-05-05T12:42:57.269945Z",
     "start_time": "2019-05-05T12:42:57.252006Z"
    }
   },
   "outputs": [],
   "source": [
    "feature_matrix.drop(['id'], axis=1, inplace=True)  # unique\n",
    "train = feature_matrix[:8523]\n",
    "test = feature_matrix[8523:]"
   ]
  },
  {
   "cell_type": "code",
   "execution_count": 66,
   "metadata": {
    "ExecuteTime": {
     "end_time": "2019-05-05T12:43:07.851174Z",
     "start_time": "2019-05-05T12:43:07.838804Z"
    }
   },
   "outputs": [],
   "source": [
    "# removing uneccesary variables\n",
    "train.drop(['Outlet_Identifier'], axis=1, inplace=True)\n",
    "test.drop(['Outlet_Identifier'], axis=1, inplace=True)"
   ]
  },
  {
   "cell_type": "code",
   "execution_count": 74,
   "metadata": {
    "ExecuteTime": {
     "end_time": "2019-05-05T14:48:05.832304Z",
     "start_time": "2019-05-05T14:48:05.823962Z"
    }
   },
   "outputs": [
    {
     "name": "stdout",
     "output_type": "stream",
     "text": [
      "[ 0  2  4  6  8  9 10]\n"
     ]
    }
   ],
   "source": [
    "# identifying categorical features\n",
    "categorical_features = np.where(train.dtypes == 'object')[0]\n",
    "print(categorical_features)"
   ]
  },
  {
   "cell_type": "markdown",
   "metadata": {},
   "source": [
    "Split the train data into training and validation set to check the model’s performance locally."
   ]
  },
  {
   "cell_type": "code",
   "execution_count": 68,
   "metadata": {
    "ExecuteTime": {
     "end_time": "2019-05-05T12:43:57.157639Z",
     "start_time": "2019-05-05T12:43:56.670405Z"
    }
   },
   "outputs": [],
   "source": [
    "from sklearn.model_selection import train_test_split\n",
    "\n",
    "# splitting train data into training and validation set\n",
    "xtrain, xvalid, ytrain, yvalid = train_test_split(train, sales, test_size=0.25, random_state=11)"
   ]
  },
  {
   "cell_type": "code",
   "execution_count": 69,
   "metadata": {
    "ExecuteTime": {
     "end_time": "2019-05-05T12:44:22.761086Z",
     "start_time": "2019-05-05T12:44:22.713749Z"
    }
   },
   "outputs": [
    {
     "data": {
      "text/html": [
       "<div>\n",
       "<style scoped>\n",
       "    .dataframe tbody tr th:only-of-type {\n",
       "        vertical-align: middle;\n",
       "    }\n",
       "\n",
       "    .dataframe tbody tr th {\n",
       "        vertical-align: top;\n",
       "    }\n",
       "\n",
       "    .dataframe thead th {\n",
       "        text-align: right;\n",
       "    }\n",
       "</style>\n",
       "<table border=\"1\" class=\"dataframe\">\n",
       "  <thead>\n",
       "    <tr style=\"text-align: right;\">\n",
       "      <th></th>\n",
       "      <th>Item_Weight</th>\n",
       "      <th>Item_Fat_Content</th>\n",
       "      <th>Item_Visibility</th>\n",
       "      <th>Item_Type</th>\n",
       "      <th>Item_MRP</th>\n",
       "      <th>outlet.Outlet_Establishment_Year</th>\n",
       "      <th>outlet.Outlet_Size</th>\n",
       "      <th>outlet.Outlet_Location_Type</th>\n",
       "      <th>outlet.Outlet_Type</th>\n",
       "      <th>outlet.SUM(bigmart.Item_Weight)</th>\n",
       "      <th>...</th>\n",
       "      <th>outlet.MIN(bigmart.Item_Fat_Content)</th>\n",
       "      <th>outlet.MIN(bigmart.Item_Visibility)</th>\n",
       "      <th>outlet.MIN(bigmart.Item_MRP)</th>\n",
       "      <th>outlet.MEAN(bigmart.Item_Weight)</th>\n",
       "      <th>outlet.MEAN(bigmart.Item_Fat_Content)</th>\n",
       "      <th>outlet.MEAN(bigmart.Item_Visibility)</th>\n",
       "      <th>outlet.MEAN(bigmart.Item_MRP)</th>\n",
       "      <th>outlet.COUNT(bigmart)</th>\n",
       "      <th>outlet.NUM_UNIQUE(bigmart.Item_Type)</th>\n",
       "      <th>outlet.MODE(bigmart.Item_Type)</th>\n",
       "    </tr>\n",
       "  </thead>\n",
       "  <tbody>\n",
       "    <tr>\n",
       "      <th>0</th>\n",
       "      <td>9.30</td>\n",
       "      <td>0</td>\n",
       "      <td>0.016047</td>\n",
       "      <td>Dairy</td>\n",
       "      <td>249.8092</td>\n",
       "      <td>1999</td>\n",
       "      <td>Medium</td>\n",
       "      <td>Tier 1</td>\n",
       "      <td>Supermarket Type1</td>\n",
       "      <td>19844.655</td>\n",
       "      <td>...</td>\n",
       "      <td>0</td>\n",
       "      <td>0.0</td>\n",
       "      <td>32.4558</td>\n",
       "      <td>12.803003</td>\n",
       "      <td>0.352903</td>\n",
       "      <td>0.059000</td>\n",
       "      <td>141.163199</td>\n",
       "      <td>1550</td>\n",
       "      <td>16</td>\n",
       "      <td>Fruits and Vegetables</td>\n",
       "    </tr>\n",
       "    <tr>\n",
       "      <th>1</th>\n",
       "      <td>5.92</td>\n",
       "      <td>1</td>\n",
       "      <td>0.019278</td>\n",
       "      <td>Soft Drinks</td>\n",
       "      <td>48.2692</td>\n",
       "      <td>2009</td>\n",
       "      <td>Medium</td>\n",
       "      <td>Tier 3</td>\n",
       "      <td>Supermarket Type2</td>\n",
       "      <td>19794.425</td>\n",
       "      <td>...</td>\n",
       "      <td>0</td>\n",
       "      <td>0.0</td>\n",
       "      <td>31.8900</td>\n",
       "      <td>12.803638</td>\n",
       "      <td>0.353816</td>\n",
       "      <td>0.059976</td>\n",
       "      <td>141.000899</td>\n",
       "      <td>1546</td>\n",
       "      <td>16</td>\n",
       "      <td>Fruits and Vegetables</td>\n",
       "    </tr>\n",
       "    <tr>\n",
       "      <th>2</th>\n",
       "      <td>17.50</td>\n",
       "      <td>0</td>\n",
       "      <td>0.016760</td>\n",
       "      <td>Meat</td>\n",
       "      <td>141.6180</td>\n",
       "      <td>1999</td>\n",
       "      <td>Medium</td>\n",
       "      <td>Tier 1</td>\n",
       "      <td>Supermarket Type1</td>\n",
       "      <td>19844.655</td>\n",
       "      <td>...</td>\n",
       "      <td>0</td>\n",
       "      <td>0.0</td>\n",
       "      <td>32.4558</td>\n",
       "      <td>12.803003</td>\n",
       "      <td>0.352903</td>\n",
       "      <td>0.059000</td>\n",
       "      <td>141.163199</td>\n",
       "      <td>1550</td>\n",
       "      <td>16</td>\n",
       "      <td>Fruits and Vegetables</td>\n",
       "    </tr>\n",
       "    <tr>\n",
       "      <th>3</th>\n",
       "      <td>19.20</td>\n",
       "      <td>1</td>\n",
       "      <td>0.000000</td>\n",
       "      <td>Fruits and Vegetables</td>\n",
       "      <td>182.0950</td>\n",
       "      <td>1998</td>\n",
       "      <td>missing</td>\n",
       "      <td>Tier 3</td>\n",
       "      <td>Grocery Store</td>\n",
       "      <td>11768.655</td>\n",
       "      <td>...</td>\n",
       "      <td>0</td>\n",
       "      <td>0.0</td>\n",
       "      <td>32.6558</td>\n",
       "      <td>12.722870</td>\n",
       "      <td>0.356757</td>\n",
       "      <td>0.101939</td>\n",
       "      <td>141.159742</td>\n",
       "      <td>925</td>\n",
       "      <td>16</td>\n",
       "      <td>Fruits and Vegetables</td>\n",
       "    </tr>\n",
       "    <tr>\n",
       "      <th>4</th>\n",
       "      <td>8.93</td>\n",
       "      <td>0</td>\n",
       "      <td>0.000000</td>\n",
       "      <td>Household</td>\n",
       "      <td>53.8614</td>\n",
       "      <td>1987</td>\n",
       "      <td>High</td>\n",
       "      <td>Tier 3</td>\n",
       "      <td>Supermarket Type1</td>\n",
       "      <td>19859.980</td>\n",
       "      <td>...</td>\n",
       "      <td>0</td>\n",
       "      <td>0.0</td>\n",
       "      <td>31.4900</td>\n",
       "      <td>12.788139</td>\n",
       "      <td>0.353509</td>\n",
       "      <td>0.060242</td>\n",
       "      <td>141.128428</td>\n",
       "      <td>1553</td>\n",
       "      <td>16</td>\n",
       "      <td>Fruits and Vegetables</td>\n",
       "    </tr>\n",
       "  </tbody>\n",
       "</table>\n",
       "<p>5 rows × 36 columns</p>\n",
       "</div>"
      ],
      "text/plain": [
       "   Item_Weight  Item_Fat_Content  Item_Visibility              Item_Type  \\\n",
       "0         9.30                 0         0.016047                  Dairy   \n",
       "1         5.92                 1         0.019278            Soft Drinks   \n",
       "2        17.50                 0         0.016760                   Meat   \n",
       "3        19.20                 1         0.000000  Fruits and Vegetables   \n",
       "4         8.93                 0         0.000000              Household   \n",
       "\n",
       "   Item_MRP  outlet.Outlet_Establishment_Year outlet.Outlet_Size  \\\n",
       "0  249.8092                              1999             Medium   \n",
       "1   48.2692                              2009             Medium   \n",
       "2  141.6180                              1999             Medium   \n",
       "3  182.0950                              1998            missing   \n",
       "4   53.8614                              1987               High   \n",
       "\n",
       "  outlet.Outlet_Location_Type outlet.Outlet_Type  \\\n",
       "0                      Tier 1  Supermarket Type1   \n",
       "1                      Tier 3  Supermarket Type2   \n",
       "2                      Tier 1  Supermarket Type1   \n",
       "3                      Tier 3      Grocery Store   \n",
       "4                      Tier 3  Supermarket Type1   \n",
       "\n",
       "   outlet.SUM(bigmart.Item_Weight)  ...  outlet.MIN(bigmart.Item_Fat_Content)  \\\n",
       "0                        19844.655  ...                                     0   \n",
       "1                        19794.425  ...                                     0   \n",
       "2                        19844.655  ...                                     0   \n",
       "3                        11768.655  ...                                     0   \n",
       "4                        19859.980  ...                                     0   \n",
       "\n",
       "   outlet.MIN(bigmart.Item_Visibility)  outlet.MIN(bigmart.Item_MRP)  \\\n",
       "0                                  0.0                       32.4558   \n",
       "1                                  0.0                       31.8900   \n",
       "2                                  0.0                       32.4558   \n",
       "3                                  0.0                       32.6558   \n",
       "4                                  0.0                       31.4900   \n",
       "\n",
       "   outlet.MEAN(bigmart.Item_Weight)  outlet.MEAN(bigmart.Item_Fat_Content)  \\\n",
       "0                         12.803003                               0.352903   \n",
       "1                         12.803638                               0.353816   \n",
       "2                         12.803003                               0.352903   \n",
       "3                         12.722870                               0.356757   \n",
       "4                         12.788139                               0.353509   \n",
       "\n",
       "   outlet.MEAN(bigmart.Item_Visibility)  outlet.MEAN(bigmart.Item_MRP)  \\\n",
       "0                              0.059000                     141.163199   \n",
       "1                              0.059976                     141.000899   \n",
       "2                              0.059000                     141.163199   \n",
       "3                              0.101939                     141.159742   \n",
       "4                              0.060242                     141.128428   \n",
       "\n",
       "   outlet.COUNT(bigmart)  outlet.NUM_UNIQUE(bigmart.Item_Type)  \\\n",
       "0                   1550                                    16   \n",
       "1                   1546                                    16   \n",
       "2                   1550                                    16   \n",
       "3                    925                                    16   \n",
       "4                   1553                                    16   \n",
       "\n",
       "   outlet.MODE(bigmart.Item_Type)  \n",
       "0           Fruits and Vegetables  \n",
       "1           Fruits and Vegetables  \n",
       "2           Fruits and Vegetables  \n",
       "3           Fruits and Vegetables  \n",
       "4           Fruits and Vegetables  \n",
       "\n",
       "[5 rows x 36 columns]"
      ]
     },
     "execution_count": 69,
     "metadata": {},
     "output_type": "execute_result"
    }
   ],
   "source": [
    "train.head()"
   ]
  },
  {
   "cell_type": "markdown",
   "metadata": {},
   "source": [
    "Finally, we can now train our model. The evaluation metric we will use is RMSE (Root Mean Squared Error)."
   ]
  },
  {
   "cell_type": "code",
   "execution_count": 72,
   "metadata": {
    "ExecuteTime": {
     "end_time": "2019-05-05T12:46:03.448681Z",
     "start_time": "2019-05-05T12:46:01.671743Z"
    }
   },
   "outputs": [
    {
     "name": "stderr",
     "output_type": "stream",
     "text": [
      "You should provide test set for use best model. use_best_model parameter swiched to false value.\n"
     ]
    },
    {
     "name": "stdout",
     "output_type": "stream",
     "text": [
      "0:\tlearn: 2115.6201157\ttotal: 66.3ms\tremaining: 6.56s\n",
      "1:\tlearn: 1703.3104557\ttotal: 83.5ms\tremaining: 4.09s\n",
      "2:\tlearn: 1430.5051247\ttotal: 92.4ms\tremaining: 2.99s\n",
      "3:\tlearn: 1277.7410778\ttotal: 101ms\tremaining: 2.43s\n",
      "4:\tlearn: 1192.4927416\ttotal: 110ms\tremaining: 2.09s\n",
      "5:\tlearn: 1143.3930400\ttotal: 115ms\tremaining: 1.79s\n",
      "6:\tlearn: 1111.4556516\ttotal: 121ms\tremaining: 1.61s\n",
      "7:\tlearn: 1094.5453134\ttotal: 130ms\tremaining: 1.49s\n",
      "8:\tlearn: 1082.9897641\ttotal: 139ms\tremaining: 1.4s\n",
      "9:\tlearn: 1077.0754209\ttotal: 147ms\tremaining: 1.33s\n",
      "10:\tlearn: 1074.5711811\ttotal: 153ms\tremaining: 1.24s\n",
      "11:\tlearn: 1071.5899223\ttotal: 161ms\tremaining: 1.18s\n",
      "12:\tlearn: 1069.9816730\ttotal: 168ms\tremaining: 1.12s\n",
      "13:\tlearn: 1069.5956805\ttotal: 172ms\tremaining: 1.06s\n",
      "14:\tlearn: 1068.7983887\ttotal: 181ms\tremaining: 1.02s\n",
      "15:\tlearn: 1066.4024029\ttotal: 189ms\tremaining: 992ms\n",
      "16:\tlearn: 1065.8685695\ttotal: 198ms\tremaining: 965ms\n",
      "17:\tlearn: 1065.7720438\ttotal: 202ms\tremaining: 920ms\n",
      "18:\tlearn: 1064.4690988\ttotal: 210ms\tremaining: 895ms\n",
      "19:\tlearn: 1064.3721104\ttotal: 217ms\tremaining: 867ms\n",
      "20:\tlearn: 1063.0605599\ttotal: 226ms\tremaining: 851ms\n",
      "21:\tlearn: 1062.3059932\ttotal: 235ms\tremaining: 834ms\n",
      "22:\tlearn: 1062.2603375\ttotal: 244ms\tremaining: 817ms\n",
      "23:\tlearn: 1061.1868419\ttotal: 253ms\tremaining: 802ms\n",
      "24:\tlearn: 1060.9881521\ttotal: 264ms\tremaining: 792ms\n",
      "25:\tlearn: 1059.7754137\ttotal: 271ms\tremaining: 770ms\n",
      "26:\tlearn: 1059.7753861\ttotal: 273ms\tremaining: 738ms\n",
      "27:\tlearn: 1059.6911134\ttotal: 278ms\tremaining: 715ms\n",
      "28:\tlearn: 1059.1107545\ttotal: 286ms\tremaining: 701ms\n",
      "29:\tlearn: 1059.0551664\ttotal: 291ms\tremaining: 680ms\n",
      "30:\tlearn: 1059.0460121\ttotal: 296ms\tremaining: 660ms\n",
      "31:\tlearn: 1059.0415180\ttotal: 301ms\tremaining: 639ms\n",
      "32:\tlearn: 1059.0396328\ttotal: 305ms\tremaining: 619ms\n",
      "33:\tlearn: 1059.0250748\ttotal: 310ms\tremaining: 602ms\n",
      "34:\tlearn: 1058.1176527\ttotal: 319ms\tremaining: 592ms\n",
      "35:\tlearn: 1057.6169692\ttotal: 327ms\tremaining: 582ms\n",
      "36:\tlearn: 1057.0078887\ttotal: 336ms\tremaining: 572ms\n",
      "37:\tlearn: 1056.0176146\ttotal: 345ms\tremaining: 564ms\n",
      "38:\tlearn: 1054.2868349\ttotal: 355ms\tremaining: 556ms\n",
      "39:\tlearn: 1053.4190677\ttotal: 364ms\tremaining: 546ms\n",
      "40:\tlearn: 1051.5174943\ttotal: 373ms\tremaining: 537ms\n",
      "41:\tlearn: 1051.3406976\ttotal: 382ms\tremaining: 528ms\n",
      "42:\tlearn: 1048.5507192\ttotal: 391ms\tremaining: 518ms\n",
      "43:\tlearn: 1048.4924933\ttotal: 400ms\tremaining: 509ms\n",
      "44:\tlearn: 1046.2235385\ttotal: 409ms\tremaining: 499ms\n",
      "45:\tlearn: 1045.1260080\ttotal: 418ms\tremaining: 491ms\n",
      "46:\tlearn: 1043.8818437\ttotal: 426ms\tremaining: 481ms\n",
      "47:\tlearn: 1043.4516215\ttotal: 436ms\tremaining: 473ms\n",
      "48:\tlearn: 1041.9547001\ttotal: 447ms\tremaining: 465ms\n",
      "49:\tlearn: 1041.5366916\ttotal: 456ms\tremaining: 456ms\n",
      "50:\tlearn: 1040.6951831\ttotal: 465ms\tremaining: 447ms\n",
      "51:\tlearn: 1040.6138797\ttotal: 471ms\tremaining: 435ms\n",
      "52:\tlearn: 1039.8034773\ttotal: 479ms\tremaining: 425ms\n",
      "53:\tlearn: 1039.8034456\ttotal: 482ms\tremaining: 411ms\n",
      "54:\tlearn: 1039.8034301\ttotal: 485ms\tremaining: 397ms\n",
      "55:\tlearn: 1038.8898624\ttotal: 493ms\tremaining: 387ms\n",
      "56:\tlearn: 1038.6737999\ttotal: 503ms\tremaining: 379ms\n",
      "57:\tlearn: 1038.5108163\ttotal: 511ms\tremaining: 370ms\n",
      "58:\tlearn: 1037.8933731\ttotal: 519ms\tremaining: 361ms\n",
      "59:\tlearn: 1037.5280106\ttotal: 528ms\tremaining: 352ms\n",
      "60:\tlearn: 1037.3788664\ttotal: 536ms\tremaining: 343ms\n",
      "61:\tlearn: 1037.3719730\ttotal: 541ms\tremaining: 332ms\n",
      "62:\tlearn: 1036.6404132\ttotal: 550ms\tremaining: 323ms\n",
      "63:\tlearn: 1036.6327534\ttotal: 553ms\tremaining: 311ms\n",
      "64:\tlearn: 1036.5847916\ttotal: 556ms\tremaining: 299ms\n",
      "65:\tlearn: 1036.0459083\ttotal: 566ms\tremaining: 291ms\n",
      "66:\tlearn: 1035.5673793\ttotal: 575ms\tremaining: 283ms\n",
      "67:\tlearn: 1035.5469929\ttotal: 580ms\tremaining: 273ms\n",
      "68:\tlearn: 1033.9834042\ttotal: 590ms\tremaining: 265ms\n",
      "69:\tlearn: 1033.4140958\ttotal: 599ms\tremaining: 257ms\n",
      "70:\tlearn: 1032.7632267\ttotal: 608ms\tremaining: 248ms\n",
      "71:\tlearn: 1031.7169983\ttotal: 616ms\tremaining: 240ms\n",
      "72:\tlearn: 1030.0106697\ttotal: 624ms\tremaining: 231ms\n",
      "73:\tlearn: 1029.3770022\ttotal: 634ms\tremaining: 223ms\n",
      "74:\tlearn: 1028.8277450\ttotal: 642ms\tremaining: 214ms\n",
      "75:\tlearn: 1028.7655993\ttotal: 651ms\tremaining: 206ms\n",
      "76:\tlearn: 1028.2978725\ttotal: 662ms\tremaining: 198ms\n",
      "77:\tlearn: 1027.6502181\ttotal: 671ms\tremaining: 189ms\n",
      "78:\tlearn: 1026.8338502\ttotal: 679ms\tremaining: 181ms\n",
      "79:\tlearn: 1026.7495211\ttotal: 687ms\tremaining: 172ms\n",
      "80:\tlearn: 1026.4996198\ttotal: 697ms\tremaining: 163ms\n",
      "81:\tlearn: 1026.0625363\ttotal: 707ms\tremaining: 155ms\n",
      "82:\tlearn: 1025.9273695\ttotal: 715ms\tremaining: 147ms\n",
      "83:\tlearn: 1025.3225451\ttotal: 724ms\tremaining: 138ms\n",
      "84:\tlearn: 1025.2440323\ttotal: 732ms\tremaining: 129ms\n",
      "85:\tlearn: 1025.2104543\ttotal: 742ms\tremaining: 121ms\n",
      "86:\tlearn: 1025.1803853\ttotal: 751ms\tremaining: 112ms\n",
      "87:\tlearn: 1025.1142232\ttotal: 760ms\tremaining: 104ms\n",
      "88:\tlearn: 1025.1087509\ttotal: 765ms\tremaining: 94.5ms\n",
      "89:\tlearn: 1024.5804164\ttotal: 774ms\tremaining: 86ms\n",
      "90:\tlearn: 1023.5419181\ttotal: 783ms\tremaining: 77.5ms\n",
      "91:\tlearn: 1023.4282494\ttotal: 794ms\tremaining: 69ms\n",
      "92:\tlearn: 1022.9592905\ttotal: 803ms\tremaining: 60.4ms\n",
      "93:\tlearn: 1022.7351294\ttotal: 812ms\tremaining: 51.8ms\n",
      "94:\tlearn: 1021.5541589\ttotal: 822ms\tremaining: 43.3ms\n",
      "95:\tlearn: 1021.4470702\ttotal: 831ms\tremaining: 34.6ms\n",
      "96:\tlearn: 1020.9548275\ttotal: 840ms\tremaining: 26ms\n",
      "97:\tlearn: 1019.5710255\ttotal: 848ms\tremaining: 17.3ms\n",
      "98:\tlearn: 1019.4474565\ttotal: 857ms\tremaining: 8.65ms\n",
      "99:\tlearn: 1019.3975042\ttotal: 865ms\tremaining: 0us\n"
     ]
    },
    {
     "data": {
      "text/plain": [
       "<catboost.core.CatBoostRegressor at 0x7f1e341eecc0>"
      ]
     },
     "execution_count": 72,
     "metadata": {},
     "output_type": "execute_result"
    }
   ],
   "source": [
    "model_cat = CatBoostRegressor(iterations=100, learning_rate=0.3, depth=6, eval_metric='RMSE', random_seed=7)\n",
    "\n",
    "# training model\n",
    "model_cat.fit(xtrain, ytrain, cat_features=categorical_features, use_best_model=True)"
   ]
  },
  {
   "cell_type": "code",
   "execution_count": 73,
   "metadata": {
    "ExecuteTime": {
     "end_time": "2019-05-05T12:46:21.612104Z",
     "start_time": "2019-05-05T12:46:21.571164Z"
    }
   },
   "outputs": [
    {
     "data": {
      "text/plain": [
       "1091.4893118858736"
      ]
     },
     "execution_count": 73,
     "metadata": {},
     "output_type": "execute_result"
    }
   ],
   "source": [
    "# validation score\n",
    "model_cat.score(xvalid, yvalid)"
   ]
  },
  {
   "cell_type": "markdown",
   "metadata": {},
   "source": [
    "The same model got a score of 1155.12 on the public leaderboard. Without any feature engineering, the scores were ~1103 and ~1183 on the validation set and the public leaderboard, respectively. Hence, the features created by Featuretools are not just random features, they are valuable and useful. Most importantly, the amount of time it saves in feature engineering is incredible.\n",
    "\n"
   ]
  },
  {
   "cell_type": "markdown",
   "metadata": {},
   "source": [
    "# Featuretools Interpretability"
   ]
  },
  {
   "cell_type": "markdown",
   "metadata": {},
   "source": [
    "- Making our data science solutions interpretable is a very important aspect of performing machine learning. __Features generated by Featuretools can be easily explained__ even to a non-technical person because they are based on the primitives, which are easy to understand.\n",
    "\n",
    "- For example, the features outlet.SUM(bigmart.Item_Weight) and outlet.STD(bigmart.Item_MRP) mean outlet-level sum of weight of the items and standard deviation of the cost of the items, respectively.\n",
    "\n",
    "- This makes it possible for those people who are not machine learning experts, to contribute as well in terms of their domain expertise."
   ]
  },
  {
   "cell_type": "code",
   "execution_count": null,
   "metadata": {},
   "outputs": [],
   "source": []
  },
  {
   "cell_type": "markdown",
   "metadata": {},
   "source": [
    "# Remark\n",
    "## Feature Primitives\n",
    "- A __feature primitive__ is an operation applied to a table or a set of tables to create a feature. These represent simple calculations, many of which we already use in manual feature engineering, that can be stacked on top of each other to create complex deep features. Feature primitives fall into two categories:\n",
    "\n",
    "- **Aggregation**: function that groups together children for each parent and calculates a statistic such as mean, min, max, or standard deviation across the children. An example is the maximum previous loan amount for each client. An aggregation covers multiple tables using relationships between tables.\n",
    "- **Transformation**: an operation applied to one or more columns in a single table. An example would be taking the absolute value of a column, or finding the difference between two columns in one table."
   ]
  },
  {
   "cell_type": "code",
   "execution_count": 56,
   "metadata": {
    "ExecuteTime": {
     "end_time": "2019-05-05T10:22:02.585221Z",
     "start_time": "2019-05-05T10:22:02.562146Z"
    }
   },
   "outputs": [
    {
     "data": {
      "text/html": [
       "<div>\n",
       "<style scoped>\n",
       "    .dataframe tbody tr th:only-of-type {\n",
       "        vertical-align: middle;\n",
       "    }\n",
       "\n",
       "    .dataframe tbody tr th {\n",
       "        vertical-align: top;\n",
       "    }\n",
       "\n",
       "    .dataframe thead th {\n",
       "        text-align: right;\n",
       "    }\n",
       "</style>\n",
       "<table border=\"1\" class=\"dataframe\">\n",
       "  <thead>\n",
       "    <tr style=\"text-align: right;\">\n",
       "      <th></th>\n",
       "      <th>name</th>\n",
       "      <th>type</th>\n",
       "      <th>description</th>\n",
       "    </tr>\n",
       "  </thead>\n",
       "  <tbody>\n",
       "    <tr>\n",
       "      <th>0</th>\n",
       "      <td>median</td>\n",
       "      <td>aggregation</td>\n",
       "      <td>Determines the middlemost number in a list of values.</td>\n",
       "    </tr>\n",
       "    <tr>\n",
       "      <th>1</th>\n",
       "      <td>num_true</td>\n",
       "      <td>aggregation</td>\n",
       "      <td>Counts the number of `True` values.</td>\n",
       "    </tr>\n",
       "    <tr>\n",
       "      <th>2</th>\n",
       "      <td>sum</td>\n",
       "      <td>aggregation</td>\n",
       "      <td>Calculates the total addition, ignoring `NaN`.</td>\n",
       "    </tr>\n",
       "    <tr>\n",
       "      <th>3</th>\n",
       "      <td>time_since_last</td>\n",
       "      <td>aggregation</td>\n",
       "      <td>Calculates the time elapsed since the last datetime (in seconds).</td>\n",
       "    </tr>\n",
       "    <tr>\n",
       "      <th>4</th>\n",
       "      <td>skew</td>\n",
       "      <td>aggregation</td>\n",
       "      <td>Computes the extent to which a distribution differs from a normal distribution.</td>\n",
       "    </tr>\n",
       "  </tbody>\n",
       "</table>\n",
       "</div>"
      ],
      "text/plain": [
       "              name         type  \\\n",
       "0           median  aggregation   \n",
       "1         num_true  aggregation   \n",
       "2              sum  aggregation   \n",
       "3  time_since_last  aggregation   \n",
       "4             skew  aggregation   \n",
       "\n",
       "                                                                       description  \n",
       "0                            Determines the middlemost number in a list of values.  \n",
       "1                                              Counts the number of `True` values.  \n",
       "2                                   Calculates the total addition, ignoring `NaN`.  \n",
       "3                Calculates the time elapsed since the last datetime (in seconds).  \n",
       "4  Computes the extent to which a distribution differs from a normal distribution.  "
      ]
     },
     "execution_count": 56,
     "metadata": {},
     "output_type": "execute_result"
    }
   ],
   "source": [
    "# List the primitives in a dataframe\n",
    "primitives = ft.list_primitives()\n",
    "pd.options.display.max_colwidth = 100\n",
    "\n",
    "primitives[primitives['type'] == 'aggregation'].head()"
   ]
  },
  {
   "cell_type": "code",
   "execution_count": 55,
   "metadata": {
    "ExecuteTime": {
     "end_time": "2019-05-05T10:21:58.008813Z",
     "start_time": "2019-05-05T10:21:57.993728Z"
    }
   },
   "outputs": [
    {
     "data": {
      "text/html": [
       "<div>\n",
       "<style scoped>\n",
       "    .dataframe tbody tr th:only-of-type {\n",
       "        vertical-align: middle;\n",
       "    }\n",
       "\n",
       "    .dataframe tbody tr th {\n",
       "        vertical-align: top;\n",
       "    }\n",
       "\n",
       "    .dataframe thead th {\n",
       "        text-align: right;\n",
       "    }\n",
       "</style>\n",
       "<table border=\"1\" class=\"dataframe\">\n",
       "  <thead>\n",
       "    <tr style=\"text-align: right;\">\n",
       "      <th></th>\n",
       "      <th>name</th>\n",
       "      <th>type</th>\n",
       "      <th>description</th>\n",
       "    </tr>\n",
       "  </thead>\n",
       "  <tbody>\n",
       "    <tr>\n",
       "      <th>20</th>\n",
       "      <td>subtract_numeric_scalar</td>\n",
       "      <td>transform</td>\n",
       "      <td>Subtract a scalar from each element in the list.</td>\n",
       "    </tr>\n",
       "    <tr>\n",
       "      <th>21</th>\n",
       "      <td>year</td>\n",
       "      <td>transform</td>\n",
       "      <td>Determines the year value of a datetime.</td>\n",
       "    </tr>\n",
       "    <tr>\n",
       "      <th>22</th>\n",
       "      <td>num_characters</td>\n",
       "      <td>transform</td>\n",
       "      <td>Calculates the number of characters in a string.</td>\n",
       "    </tr>\n",
       "    <tr>\n",
       "      <th>23</th>\n",
       "      <td>divide_by_feature</td>\n",
       "      <td>transform</td>\n",
       "      <td>Divide a scalar by each value in the list.</td>\n",
       "    </tr>\n",
       "    <tr>\n",
       "      <th>24</th>\n",
       "      <td>modulo_numeric</td>\n",
       "      <td>transform</td>\n",
       "      <td>Element-wise modulo of two lists.</td>\n",
       "    </tr>\n",
       "  </tbody>\n",
       "</table>\n",
       "</div>"
      ],
      "text/plain": [
       "                       name       type  \\\n",
       "20  subtract_numeric_scalar  transform   \n",
       "21                     year  transform   \n",
       "22           num_characters  transform   \n",
       "23        divide_by_feature  transform   \n",
       "24           modulo_numeric  transform   \n",
       "\n",
       "                                         description  \n",
       "20  Subtract a scalar from each element in the list.  \n",
       "21          Determines the year value of a datetime.  \n",
       "22  Calculates the number of characters in a string.  \n",
       "23        Divide a scalar by each value in the list.  \n",
       "24                 Element-wise modulo of two lists.  "
      ]
     },
     "execution_count": 55,
     "metadata": {},
     "output_type": "execute_result"
    }
   ],
   "source": [
    "primitives[primitives['type'] == 'transform'].head()"
   ]
  },
  {
   "cell_type": "code",
   "execution_count": 54,
   "metadata": {
    "ExecuteTime": {
     "end_time": "2019-05-05T10:21:52.801142Z",
     "start_time": "2019-05-05T10:21:52.777178Z"
    }
   },
   "outputs": [
    {
     "data": {
      "text/html": [
       "<div>\n",
       "<style scoped>\n",
       "    .dataframe tbody tr th:only-of-type {\n",
       "        vertical-align: middle;\n",
       "    }\n",
       "\n",
       "    .dataframe tbody tr th {\n",
       "        vertical-align: top;\n",
       "    }\n",
       "\n",
       "    .dataframe thead th {\n",
       "        text-align: right;\n",
       "    }\n",
       "</style>\n",
       "<table border=\"1\" class=\"dataframe\">\n",
       "  <thead>\n",
       "    <tr style=\"text-align: right;\">\n",
       "      <th></th>\n",
       "      <th>name</th>\n",
       "      <th>type</th>\n",
       "      <th>description</th>\n",
       "    </tr>\n",
       "  </thead>\n",
       "  <tbody>\n",
       "    <tr>\n",
       "      <th>0</th>\n",
       "      <td>median</td>\n",
       "      <td>aggregation</td>\n",
       "      <td>Determines the middlemost number in a list of values.</td>\n",
       "    </tr>\n",
       "    <tr>\n",
       "      <th>1</th>\n",
       "      <td>num_true</td>\n",
       "      <td>aggregation</td>\n",
       "      <td>Counts the number of `True` values.</td>\n",
       "    </tr>\n",
       "    <tr>\n",
       "      <th>2</th>\n",
       "      <td>sum</td>\n",
       "      <td>aggregation</td>\n",
       "      <td>Calculates the total addition, ignoring `NaN`.</td>\n",
       "    </tr>\n",
       "    <tr>\n",
       "      <th>3</th>\n",
       "      <td>time_since_last</td>\n",
       "      <td>aggregation</td>\n",
       "      <td>Calculates the time elapsed since the last datetime (in seconds).</td>\n",
       "    </tr>\n",
       "    <tr>\n",
       "      <th>4</th>\n",
       "      <td>skew</td>\n",
       "      <td>aggregation</td>\n",
       "      <td>Computes the extent to which a distribution differs from a normal distribution.</td>\n",
       "    </tr>\n",
       "  </tbody>\n",
       "</table>\n",
       "</div>"
      ],
      "text/plain": [
       "              name         type  \\\n",
       "0           median  aggregation   \n",
       "1         num_true  aggregation   \n",
       "2              sum  aggregation   \n",
       "3  time_since_last  aggregation   \n",
       "4             skew  aggregation   \n",
       "\n",
       "                                                                       description  \n",
       "0                            Determines the middlemost number in a list of values.  \n",
       "1                                              Counts the number of `True` values.  \n",
       "2                                   Calculates the total addition, ignoring `NaN`.  \n",
       "3                Calculates the time elapsed since the last datetime (in seconds).  \n",
       "4  Computes the extent to which a distribution differs from a normal distribution.  "
      ]
     },
     "execution_count": 54,
     "metadata": {},
     "output_type": "execute_result"
    }
   ],
   "source": [
    "ft.list_primitives().head()"
   ]
  },
  {
   "cell_type": "markdown",
   "metadata": {},
   "source": [
    "- ***target_entity*** is nothing but the entity ID for which we wish to create new features (in this case, it is the entity ‘bigmart’). The parameter **max_depth** controls the complexity of the features being generated by stacking the primitives. The parameter n_jobs helps in parallel feature computation by using multiple cores.\n",
    "\n",
    "- That’s all you have to do with Featuretools. It has generated a bunch of new features on its own.\n",
    "\n",
    "- Let’s have a look at these newly created features."
   ]
  },
  {
   "cell_type": "markdown",
   "metadata": {},
   "source": [
    "## Relationships\n",
    "- Relationships are a fundamental concept not only in featuretools, but in any relational database. The most common type of relationship is one-to-many. The best way to think of a one-to-many relationship is with the analogy of parent-to-child. A parent is a single individual, but can have mutliple children. In the context of tables, a parent table will have one row (observation) for every individual while a child table can have many observations for each parent. In a parent table, each individual has a single row and is uniquely identified by an index (also called a key). Each individual in the parent table can have multiple rows in the child table. Things get a little more complicated because children tables can have children of their own, making these grandchildren of the original parent.\n",
    "\n",
    "- As an example of a parent-to-child relationship, the app dataframe has one row for each client (identified by SK_ID_CURR) while the bureau dataframe has multiple previous loans for each client. Therefore, the bureau dataframe is the child of the app dataframe. The  bureau dataframe in turn is the parent of bureau_balance because each loan has one row in bureau (identified by SK_ID_BUREAU) but multiple monthly records in bureau_balance. When we do manual feature engineering, keeping track of all these relationships is a massive time investment (and a potential source of error), but we can add these relationships to our EntitySet and let featuretools worry about keeping the tables straight!\n",
    "\n",
    "### Adding Relationships\n",
    "Defining the relationships is straightforward using the diagram for the data tables. For each relationship, we need to first specify the parent variable and then the child variable. Altogether, there are a total of 6 relationships between the tables (counting the training and testing relationships as one). Below we specify these relationships and then add them to the EntitySet."
   ]
  },
  {
   "cell_type": "code",
   "execution_count": null,
   "metadata": {},
   "outputs": [],
   "source": [
    "# Relationship between app_train and bureau\n",
    "r_app_bureau = ft.Relationship(es['app']['SK_ID_CURR'], es['bureau']['SK_ID_CURR'])\n",
    "\n",
    "# Relationship between bureau and bureau balance\n",
    "r_bureau_balance = ft.Relationship(es['bureau']['SK_ID_BUREAU'], es['bureau_balance']['SK_ID_BUREAU'])\n",
    "\n",
    "# Relationship between current app and previous apps\n",
    "r_app_previous = ft.Relationship(es['app']['SK_ID_CURR'], es['previous']['SK_ID_CURR'])\n",
    "\n",
    "# Relationships between previous apps and cash, installments, and credit\n",
    "r_previous_cash = ft.Relationship(es['previous']['SK_ID_PREV'], es['cash']['SK_ID_PREV'])\n",
    "r_previous_installments = ft.Relationship(es['previous']['SK_ID_PREV'], es['installments']['SK_ID_PREV'])\n",
    "r_previous_credit = ft.Relationship(es['previous']['SK_ID_PREV'], es['credit']['SK_ID_PREV'])"
   ]
  },
  {
   "cell_type": "code",
   "execution_count": null,
   "metadata": {},
   "outputs": [],
   "source": [
    "# Add in the defined relationships\n",
    "es = es.add_relationships([r_app_bureau, r_bureau_balance, r_app_previous,\n",
    "                           r_previous_cash, r_previous_installments, r_previous_credit])\n",
    "# Print out the EntitySet\n",
    "es"
   ]
  },
  {
   "cell_type": "code",
   "execution_count": null,
   "metadata": {},
   "outputs": [],
   "source": []
  }
 ],
 "metadata": {
  "kernelspec": {
   "display_name": "Python 3",
   "language": "python",
   "name": "python3"
  },
  "language_info": {
   "codemirror_mode": {
    "name": "ipython",
    "version": 3
   },
   "file_extension": ".py",
   "mimetype": "text/x-python",
   "name": "python",
   "nbconvert_exporter": "python",
   "pygments_lexer": "ipython3",
   "version": "3.6.6"
  },
  "toc": {
   "base_numbering": 1,
   "nav_menu": {},
   "number_sections": true,
   "sideBar": true,
   "skip_h1_title": false,
   "title_cell": "Table of Contents",
   "title_sidebar": "Contents",
   "toc_cell": false,
   "toc_position": {},
   "toc_section_display": true,
   "toc_window_display": false
  },
  "varInspector": {
   "cols": {
    "lenName": 16,
    "lenType": 16,
    "lenVar": 40
   },
   "kernels_config": {
    "python": {
     "delete_cmd_postfix": "",
     "delete_cmd_prefix": "del ",
     "library": "var_list.py",
     "varRefreshCmd": "print(var_dic_list())"
    },
    "r": {
     "delete_cmd_postfix": ") ",
     "delete_cmd_prefix": "rm(",
     "library": "var_list.r",
     "varRefreshCmd": "cat(var_dic_list()) "
    }
   },
   "oldHeight": 122.4,
   "position": {
    "height": "40px",
    "left": "1266px",
    "right": "20px",
    "top": "120px",
    "width": "250px"
   },
   "types_to_exclude": [
    "module",
    "function",
    "builtin_function_or_method",
    "instance",
    "_Feature"
   ],
   "varInspector_section_display": "none",
   "window_display": true
  }
 },
 "nbformat": 4,
 "nbformat_minor": 2
}
