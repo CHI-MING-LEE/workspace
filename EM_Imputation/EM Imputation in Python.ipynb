{
 "cells": [
  {
   "cell_type": "markdown",
   "metadata": {},
   "source": [
    "### Apply EM Algorithm to impute missing values\n",
    "Ref: https://joon3216.github.io/research_materials/2019/em_imputation_python.html"
   ]
  },
  {
   "cell_type": "code",
   "execution_count": 11,
   "metadata": {
    "ExecuteTime": {
     "end_time": "2020-02-09T16:55:07.896142Z",
     "start_time": "2020-02-09T16:55:07.893028Z"
    }
   },
   "outputs": [],
   "source": [
    "from datetime import datetime as dt\n",
    "import numpy as np\n",
    "from functools import reduce"
   ]
  },
  {
   "cell_type": "markdown",
   "metadata": {},
   "source": [
    "####  Introduction\n",
    "This note is about replicating R functions written in Imputing missing data using EM algorithm under 2019: Methods for Multivariate Data. simulate_na (which will be renamed as simulate_nan here) and impute_em are going to be written in Python, and the computation time of impute_em will be checked in both Python and R."
   ]
  },
  {
   "cell_type": "markdown",
   "metadata": {},
   "source": [
    "#### Functions\n",
    "All the details of how the algorithm works is presented here.\n",
    "\n",
    "According to the following pandas documentation, missing values in Python are denoted as:\n",
    "\n",
    "NaN in numeric arrays\n",
    "None or NaN in object arrays\n",
    "NaT in datetimelike\n",
    "In this note, I will use np.nan to denote missing components since we are dealing with numeric arrays."
   ]
  },
  {
   "cell_type": "code",
   "execution_count": 2,
   "metadata": {
    "ExecuteTime": {
     "end_time": "2020-02-09T16:51:59.480882Z",
     "start_time": "2020-02-09T16:51:59.433742Z"
    }
   },
   "outputs": [],
   "source": [
    "np.random.seed(1024)\n",
    "mu = np.array([1, 2, 6])\n",
    "Sigma = np.array([[118, 62, 44], [62, 49, 17], [44, 17, 21]])\n",
    "n = 400\n",
    "X_truth = np.random.multivariate_normal(mu, Sigma, n)"
   ]
  },
  {
   "cell_type": "markdown",
   "metadata": {},
   "source": [
    "#### Simulating np.nan’s\n",
    "Simulating np.nan’s in a numeric array can be done using the same workflow as in simulate_na:"
   ]
  },
  {
   "cell_type": "code",
   "execution_count": 3,
   "metadata": {
    "ExecuteTime": {
     "end_time": "2020-02-09T16:53:28.695495Z",
     "start_time": "2020-02-09T16:53:28.686900Z"
    }
   },
   "outputs": [],
   "source": [
    "def simulate_nan(X, nan_rate):\n",
    "    '''(np.array, number) -> {str: np.array or number}\n",
    "    \n",
    "    Preconditions:\n",
    "    1. np.isnan(X_complete).any() == False\n",
    "    2. 0 <= nan_rate <= 1\n",
    "    \n",
    "    Return the dictionary with four keys where: \n",
    "    - Key 'X' stores a np.array where some of the entries in X \n",
    "      are replaced with np.nan based on nan_rate specified.\n",
    "    - Key 'C' stores a np.array where each entry is False if the\n",
    "      corresponding entry in the key 'X''s np.array is np.nan, and True\n",
    "      otherwise.\n",
    "    - Key 'nan_rate' stores nan_rate specified.\n",
    "    - Key 'nan_rate_actual' stores the actual proportion of np.nan\n",
    "      in the key 'X''s np.array.\n",
    "    '''\n",
    "    \n",
    "    # Create C matrix; entry is False if missing, and True if observed\n",
    "    X_complete = X.copy()\n",
    "    nr, nc = X_complete.shape\n",
    "    C = np.random.random(nr * nc).reshape(nr, nc) > nan_rate\n",
    "    \n",
    "    # Check for which i's we have all components become missing\n",
    "    checker = np.where(sum(C.T) == 0)[0]\n",
    "    if len(checker) == 0:\n",
    "        # Every X_i has at least one component that is observed,\n",
    "        # which is what we want\n",
    "        X_complete[C == False] = np.nan\n",
    "    else:\n",
    "        # Otherwise, randomly \"revive\" some components in such X_i's\n",
    "        for index in checker:\n",
    "            reviving_components = np.random.choice(\n",
    "                nc, \n",
    "                int(np.ceil(nc * np.random.random())), \n",
    "                replace = False\n",
    "            )\n",
    "            C[index, np.ix_(reviving_components)] = True\n",
    "        X_complete[C == False] = np.nan\n",
    "    \n",
    "    result = {\n",
    "        'X': X_complete,\n",
    "        'C': C,\n",
    "        'nan_rate': nan_rate,\n",
    "        'nan_rate_actual': np.sum(C == False) / (nr * nc)\n",
    "    }\n",
    "    \n",
    "    return result"
   ]
  },
  {
   "cell_type": "code",
   "execution_count": 6,
   "metadata": {
    "ExecuteTime": {
     "end_time": "2020-02-09T16:54:02.088964Z",
     "start_time": "2020-02-09T16:54:02.076907Z"
    }
   },
   "outputs": [
    {
     "data": {
      "text/plain": [
       "array([[-22.51504305, -11.21931542,  -0.31680441],\n",
       "       [ -4.13801604,  -3.3813311 ,          nan],\n",
       "       [         nan,          nan,   1.21653198],\n",
       "       ...,\n",
       "       [         nan,          nan,   3.44262394],\n",
       "       [  1.37769221,          nan,   5.10726117],\n",
       "       [         nan,          nan,  11.05380599]])"
      ]
     },
     "execution_count": 6,
     "metadata": {},
     "output_type": "execute_result"
    }
   ],
   "source": [
    "result = simulate_nan(X_truth, nan_rate = .4)\n",
    "X = result['X'].copy()\n",
    "X"
   ]
  },
  {
   "cell_type": "code",
   "execution_count": 7,
   "metadata": {
    "ExecuteTime": {
     "end_time": "2020-02-09T16:54:12.582542Z",
     "start_time": "2020-02-09T16:54:12.578143Z"
    }
   },
   "outputs": [
    {
     "data": {
      "text/plain": [
       "0.3525"
      ]
     },
     "execution_count": 7,
     "metadata": {},
     "output_type": "execute_result"
    }
   ],
   "source": [
    "result['nan_rate_actual']"
   ]
  },
  {
   "cell_type": "markdown",
   "metadata": {},
   "source": [
    "#### Imputing np.nan’s\n",
    "In Python, impute_em can be written as follows:"
   ]
  },
  {
   "cell_type": "code",
   "execution_count": 10,
   "metadata": {
    "ExecuteTime": {
     "end_time": "2020-02-09T16:54:52.036270Z",
     "start_time": "2020-02-09T16:54:52.017887Z"
    }
   },
   "outputs": [],
   "source": [
    "def impute_em(X, max_iter = 3000, eps = 1e-08):\n",
    "    '''(np.array, int, number) -> {str: np.array or int}\n",
    "    \n",
    "    Precondition: max_iter >= 1 and eps > 0\n",
    "    \n",
    "    Return the dictionary with five keys where:\n",
    "    - Key 'mu' stores the mean estimate of the imputed data.\n",
    "    - Key 'Sigma' stores the variance estimate of the imputed data.\n",
    "    - Key 'X_imputed' stores the imputed data that is mutated from X using \n",
    "      the EM algorithm.\n",
    "    - Key 'C' stores the np.array that specifies the original missing entries\n",
    "      of X.\n",
    "    - Key 'iteration' stores the number of iteration used to compute\n",
    "      'X_imputed' based on max_iter and eps specified.\n",
    "    '''\n",
    "    \n",
    "    nr, nc = X.shape\n",
    "    C = np.isnan(X) == False\n",
    "    \n",
    "    # Collect M_i and O_i's\n",
    "    one_to_nc = np.arange(1, nc + 1, step = 1)\n",
    "    M = one_to_nc * (C == False) - 1\n",
    "    O = one_to_nc * C - 1\n",
    "    \n",
    "    # Generate Mu_0 and Sigma_0\n",
    "    Mu = np.nanmean(X, axis = 0)\n",
    "    observed_rows = np.where(np.isnan(sum(X.T)) == False)[0]\n",
    "    S = np.cov(X[observed_rows, ].T)\n",
    "    if np.isnan(S).any():\n",
    "        S = np.diag(np.nanvar(X, axis = 0))\n",
    "    \n",
    "    # Start updating\n",
    "    Mu_tilde, S_tilde = {}, {}\n",
    "    X_tilde = X.copy()\n",
    "    no_conv = True\n",
    "    iteration = 0\n",
    "    while no_conv and iteration < max_iter:\n",
    "        for i in range(nr):\n",
    "            S_tilde[i] = np.zeros(nc ** 2).reshape(nc, nc)\n",
    "            if set(O[i, ]) != set(one_to_nc - 1): # missing component exists\n",
    "                M_i, O_i = M[i, ][M[i, ] != -1], O[i, ][O[i, ] != -1]\n",
    "                S_MM = S[np.ix_(M_i, M_i)]\n",
    "                S_MO = S[np.ix_(M_i, O_i)]\n",
    "                S_OM = S_MO.T\n",
    "                S_OO = S[np.ix_(O_i, O_i)]\n",
    "                Mu_tilde[i] = Mu[np.ix_(M_i)] +\\\n",
    "                    S_MO @ np.linalg.inv(S_OO) @\\\n",
    "                    (X_tilde[i, O_i] - Mu[np.ix_(O_i)])\n",
    "                X_tilde[i, M_i] = Mu_tilde[i]\n",
    "                S_MM_O = S_MM - S_MO @ np.linalg.inv(S_OO) @ S_OM\n",
    "                S_tilde[i][np.ix_(M_i, M_i)] = S_MM_O\n",
    "        Mu_new = np.mean(X_tilde, axis = 0)\n",
    "        S_new = np.cov(X_tilde.T, bias = 1) +\\\n",
    "            reduce(np.add, S_tilde.values()) / nr\n",
    "        no_conv =\\\n",
    "            np.linalg.norm(Mu - Mu_new) >= eps or\\\n",
    "            np.linalg.norm(S - S_new, ord = 2) >= eps\n",
    "        Mu = Mu_new\n",
    "        S = S_new\n",
    "        iteration += 1\n",
    "    \n",
    "    result = {\n",
    "        'mu': Mu,\n",
    "        'Sigma': S,\n",
    "        'X_imputed': X_tilde,\n",
    "        'C': C,\n",
    "        'iteration': iteration\n",
    "    }\n",
    "    \n",
    "    return result"
   ]
  },
  {
   "cell_type": "code",
   "execution_count": 12,
   "metadata": {
    "ExecuteTime": {
     "end_time": "2020-02-09T16:55:13.862616Z",
     "start_time": "2020-02-09T16:55:11.861811Z"
    }
   },
   "outputs": [],
   "source": [
    "start = dt.now()\n",
    "result_imputed = impute_em(X)\n",
    "end = dt.now()"
   ]
  },
  {
   "cell_type": "code",
   "execution_count": 13,
   "metadata": {
    "ExecuteTime": {
     "end_time": "2020-02-09T16:55:25.669118Z",
     "start_time": "2020-02-09T16:55:25.664367Z"
    }
   },
   "outputs": [
    {
     "data": {
      "text/plain": [
       "array([1.52026248, 1.70293513, 6.36332455])"
      ]
     },
     "execution_count": 13,
     "metadata": {},
     "output_type": "execute_result"
    }
   ],
   "source": [
    "result_imputed['mu'] # estimate using the imputed data"
   ]
  },
  {
   "cell_type": "code",
   "execution_count": 14,
   "metadata": {
    "ExecuteTime": {
     "end_time": "2020-02-09T16:55:46.653725Z",
     "start_time": "2020-02-09T16:55:46.648562Z"
    }
   },
   "outputs": [
    {
     "data": {
      "text/plain": [
       "array([[120.74128223,  68.50401933,  43.91343725],\n",
       "       [ 68.50401933,  54.44391386,  19.22271582],\n",
       "       [ 43.91343725,  19.22271582,  20.2735122 ]])"
      ]
     },
     "execution_count": 14,
     "metadata": {},
     "output_type": "execute_result"
    }
   ],
   "source": [
    "result_imputed['Sigma'] # estimate using the imputed data"
   ]
  },
  {
   "cell_type": "code",
   "execution_count": 15,
   "metadata": {
    "ExecuteTime": {
     "end_time": "2020-02-09T16:55:55.185714Z",
     "start_time": "2020-02-09T16:55:55.178742Z"
    }
   },
   "outputs": [
    {
     "data": {
      "text/plain": [
       "array([[118,  62,  44],\n",
       "       [ 62,  49,  17],\n",
       "       [ 44,  17,  21]])"
      ]
     },
     "execution_count": 15,
     "metadata": {},
     "output_type": "execute_result"
    }
   ],
   "source": [
    "Sigma # truth"
   ]
  },
  {
   "cell_type": "markdown",
   "metadata": {},
   "source": [
    "The imputation is done as follows:"
   ]
  },
  {
   "cell_type": "code",
   "execution_count": 16,
   "metadata": {
    "ExecuteTime": {
     "end_time": "2020-02-09T16:56:16.042583Z",
     "start_time": "2020-02-09T16:56:16.035916Z"
    }
   },
   "outputs": [
    {
     "data": {
      "text/plain": [
       "array([[-22.51504305, -11.21931542,  -0.31680441],\n",
       "       [ -4.13801604,  -3.3813311 ,          nan],\n",
       "       [         nan,          nan,   1.21653198],\n",
       "       [  6.57201047,   6.0520226 ,   8.87408451],\n",
       "       [         nan,   3.46018924,   9.17663177],\n",
       "       [ -2.71777693,   1.51178112,   4.17435875],\n",
       "       [         nan,  -5.44848469,          nan],\n",
       "       [ -4.17891721,  -3.48215875,   4.29849034],\n",
       "       [         nan,   1.28621915,   0.98402706]])"
      ]
     },
     "execution_count": 16,
     "metadata": {},
     "output_type": "execute_result"
    }
   ],
   "source": [
    "X[np.arange(0, 9), ] # data with missing components"
   ]
  },
  {
   "cell_type": "code",
   "execution_count": 17,
   "metadata": {
    "ExecuteTime": {
     "end_time": "2020-02-09T16:56:24.971146Z",
     "start_time": "2020-02-09T16:56:24.964915Z"
    }
   },
   "outputs": [
    {
     "data": {
      "text/plain": [
       "array([[-22.51504305, -11.21931542,  -0.31680441],\n",
       "       [ -4.13801604,  -3.3813311 ,   4.99018376],\n",
       "       [ -9.62794659,  -3.17709404,   1.21653198],\n",
       "       [  6.57201047,   6.0520226 ,   8.87408451],\n",
       "       [  6.9388001 ,   3.46018924,   9.17663177],\n",
       "       [ -2.71777693,   1.51178112,   4.17435875],\n",
       "       [ -7.47800687,  -5.44848469,   3.83834607],\n",
       "       [ -4.17891721,  -3.48215875,   4.29849034],\n",
       "       [ -6.65708132,   1.28621915,   0.98402706]])"
      ]
     },
     "execution_count": 17,
     "metadata": {},
     "output_type": "execute_result"
    }
   ],
   "source": [
    "result_imputed['X_imputed'][np.arange(0, 9), ] # imputed data"
   ]
  },
  {
   "cell_type": "markdown",
   "metadata": {},
   "source": [
    "#### My Data"
   ]
  },
  {
   "cell_type": "code",
   "execution_count": 24,
   "metadata": {
    "ExecuteTime": {
     "end_time": "2020-02-09T16:58:28.834585Z",
     "start_time": "2020-02-09T16:58:28.824301Z"
    }
   },
   "outputs": [
    {
     "data": {
      "text/plain": [
       "array([[nan,  6.,  3.,  4., nan],\n",
       "       [ 1., nan,  4., nan, nan],\n",
       "       [ 3.,  7.,  5.,  6.,  7.],\n",
       "       [ 2.,  8.,  2., nan, nan]])"
      ]
     },
     "execution_count": 24,
     "metadata": {},
     "output_type": "execute_result"
    }
   ],
   "source": [
    "X2 = np.array([[np.nan, 6, 3, 4, np.nan], [1, np.nan, 4, np.nan, np.nan], \n",
    "          [3, 7, 5, 6, 7], [2, 8, 2, np.nan, np.nan]])\n",
    "X2"
   ]
  },
  {
   "cell_type": "code",
   "execution_count": 30,
   "metadata": {
    "ExecuteTime": {
     "end_time": "2020-02-09T17:00:50.578013Z",
     "start_time": "2020-02-09T17:00:50.543136Z"
    }
   },
   "outputs": [
    {
     "name": "stderr",
     "output_type": "stream",
     "text": [
      "/home/rossleecooloh/.pyenv/versions/3.6.6/lib/python3.6/site-packages/ipykernel_launcher.py:28: RuntimeWarning: Degrees of freedom <= 0 for slice\n"
     ]
    }
   ],
   "source": [
    "result_imputed2 = impute_em(X2)"
   ]
  },
  {
   "cell_type": "code",
   "execution_count": 31,
   "metadata": {
    "ExecuteTime": {
     "end_time": "2020-02-09T17:00:53.391481Z",
     "start_time": "2020-02-09T17:00:53.386785Z"
    }
   },
   "outputs": [
    {
     "data": {
      "text/plain": [
       "array([[0.69678127, 6.        , 3.        , 4.        , 7.        ],\n",
       "       [1.        , 5.63599795, 4.        , 4.36635373, 7.        ],\n",
       "       [3.        , 7.        , 5.        , 6.        , 7.        ],\n",
       "       [2.        , 8.        , 2.        , 4.83346284, 7.        ]])"
      ]
     },
     "execution_count": 31,
     "metadata": {},
     "output_type": "execute_result"
    }
   ],
   "source": [
    "result_imputed2['X_imputed']"
   ]
  }
 ],
 "metadata": {
  "kernelspec": {
   "display_name": "Python 3",
   "language": "python",
   "name": "python3"
  },
  "language_info": {
   "codemirror_mode": {
    "name": "ipython",
    "version": 3
   },
   "file_extension": ".py",
   "mimetype": "text/x-python",
   "name": "python",
   "nbconvert_exporter": "python",
   "pygments_lexer": "ipython3",
   "version": "3.6.6"
  },
  "toc": {
   "base_numbering": 1,
   "nav_menu": {},
   "number_sections": true,
   "sideBar": true,
   "skip_h1_title": false,
   "title_cell": "Table of Contents",
   "title_sidebar": "Contents",
   "toc_cell": false,
   "toc_position": {},
   "toc_section_display": true,
   "toc_window_display": true
  },
  "varInspector": {
   "cols": {
    "lenName": 16,
    "lenType": 16,
    "lenVar": 40
   },
   "kernels_config": {
    "python": {
     "delete_cmd_postfix": "",
     "delete_cmd_prefix": "del ",
     "library": "var_list.py",
     "varRefreshCmd": "print(var_dic_list())"
    },
    "r": {
     "delete_cmd_postfix": ") ",
     "delete_cmd_prefix": "rm(",
     "library": "var_list.r",
     "varRefreshCmd": "cat(var_dic_list()) "
    }
   },
   "types_to_exclude": [
    "module",
    "function",
    "builtin_function_or_method",
    "instance",
    "_Feature"
   ],
   "window_display": false
  }
 },
 "nbformat": 4,
 "nbformat_minor": 2
}
