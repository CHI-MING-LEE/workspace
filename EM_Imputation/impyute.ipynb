{
 "cells": [
  {
   "cell_type": "markdown",
   "metadata": {},
   "source": [
    "### Using impyute\n",
    "python package: https://pypi.org/project/impyute/\n",
    "doc: https://impyute.readthedocs.io/en/master/"
   ]
  },
  {
   "cell_type": "code",
   "execution_count": 2,
   "metadata": {
    "ExecuteTime": {
     "end_time": "2020-02-11T15:55:59.237604Z",
     "start_time": "2020-02-11T15:55:57.715094Z"
    }
   },
   "outputs": [
    {
     "name": "stdout",
     "output_type": "stream",
     "text": [
      "Requirement already satisfied: impyute in /home/rossleecooloh/.pyenv/versions/3.6.6/lib/python3.6/site-packages (0.0.8)\n",
      "Requirement already satisfied: scipy in /home/rossleecooloh/.pyenv/versions/3.6.6/lib/python3.6/site-packages (from impyute) (1.2.0)\n",
      "Requirement already satisfied: numpy in /home/rossleecooloh/.pyenv/versions/3.6.6/lib/python3.6/site-packages (from impyute) (1.16.4)\n",
      "Requirement already satisfied: scikit-learn in /home/rossleecooloh/.pyenv/versions/3.6.6/lib/python3.6/site-packages (from impyute) (0.20.2)\n",
      "\u001b[33mWARNING: You are using pip version 19.1.1, however version 20.0.2 is available.\n",
      "You should consider upgrading via the 'pip install --upgrade pip' command.\u001b[0m\n"
     ]
    }
   ],
   "source": [
    "!pip install impyute"
   ]
  },
  {
   "cell_type": "code",
   "execution_count": 4,
   "metadata": {
    "ExecuteTime": {
     "end_time": "2020-02-11T15:56:09.057616Z",
     "start_time": "2020-02-11T15:56:09.053880Z"
    }
   },
   "outputs": [],
   "source": [
    "import impyute as impy"
   ]
  },
  {
   "cell_type": "code",
   "execution_count": 5,
   "metadata": {
    "ExecuteTime": {
     "end_time": "2020-02-11T15:56:11.994209Z",
     "start_time": "2020-02-11T15:56:11.978259Z"
    }
   },
   "outputs": [
    {
     "data": {
      "text/plain": [
       "array([[nan,  6.,  3.,  4., nan],\n",
       "       [ 1., nan,  4., nan, nan],\n",
       "       [ 3.,  7.,  5.,  6.,  7.],\n",
       "       [ 2.,  8.,  2., nan, nan]])"
      ]
     },
     "execution_count": 5,
     "metadata": {},
     "output_type": "execute_result"
    }
   ],
   "source": [
    "data = np.array([[np.nan, 6, 3, 4, np.nan], [1, np.nan, 4, np.nan, np.nan], \n",
    "          [3, 7, 5, 6, 7], [2, 8, 2, np.nan, np.nan]])\n",
    "data"
   ]
  },
  {
   "cell_type": "markdown",
   "metadata": {},
   "source": [
    "#### 找出na的位置"
   ]
  },
  {
   "cell_type": "code",
   "execution_count": 7,
   "metadata": {
    "ExecuteTime": {
     "end_time": "2020-02-10T15:37:31.054625Z",
     "start_time": "2020-02-10T15:37:31.050320Z"
    }
   },
   "outputs": [],
   "source": [
    "def nan_indices(data):\n",
    "    \"\"\" Finds the indices of all missing values.\n",
    "    Parameters\n",
    "    ----------\n",
    "    data: numpy.ndarray\n",
    "    Returns\n",
    "    -------\n",
    "    List of tuples\n",
    "        Indices of all missing values in tuple format; (i, j)\n",
    "    \"\"\"\n",
    "    return np.argwhere(np.isnan(data))"
   ]
  },
  {
   "cell_type": "code",
   "execution_count": 8,
   "metadata": {
    "ExecuteTime": {
     "end_time": "2020-02-10T15:37:36.267236Z",
     "start_time": "2020-02-10T15:37:36.262190Z"
    }
   },
   "outputs": [
    {
     "data": {
      "text/plain": [
       "array([[0, 0],\n",
       "       [0, 4],\n",
       "       [1, 1],\n",
       "       [1, 3],\n",
       "       [1, 4],\n",
       "       [3, 3],\n",
       "       [3, 4]])"
      ]
     },
     "execution_count": 8,
     "metadata": {},
     "output_type": "execute_result"
    }
   ],
   "source": [
    "np.argwhere(np.isnan(data))"
   ]
  },
  {
   "cell_type": "code",
   "execution_count": 10,
   "metadata": {
    "ExecuteTime": {
     "end_time": "2020-02-10T15:37:56.037437Z",
     "start_time": "2020-02-10T15:37:56.031918Z"
    }
   },
   "outputs": [
    {
     "data": {
      "text/plain": [
       "array([[0, 0],\n",
       "       [0, 4],\n",
       "       [1, 1],\n",
       "       [1, 3],\n",
       "       [1, 4],\n",
       "       [3, 3],\n",
       "       [3, 4]])"
      ]
     },
     "execution_count": 10,
     "metadata": {},
     "output_type": "execute_result"
    }
   ],
   "source": [
    "nan_xy"
   ]
  },
  {
   "cell_type": "code",
   "execution_count": 38,
   "metadata": {
    "ExecuteTime": {
     "end_time": "2020-02-09T17:12:51.375661Z",
     "start_time": "2020-02-09T17:12:51.366872Z"
    }
   },
   "outputs": [],
   "source": [
    "def em(data, loops=50):\n",
    "    \"\"\" Imputes given data using expectation maximization.\n",
    "    E-step: Calculates the expected complete data log likelihood ratio.\n",
    "    M-step: Finds the parameters that maximize the log likelihood of the\n",
    "    complete data.\n",
    "    Parameters\n",
    "    ----------\n",
    "    data: numpy.nd.array\n",
    "        Data to impute.\n",
    "    loops: int\n",
    "        Number of em iterations to run before breaking.\n",
    "    inplace: boolean\n",
    "        If True, operate on the numpy array reference\n",
    "    Returns\n",
    "    -------\n",
    "    numpy.nd.array\n",
    "        Imputed data.\n",
    "    \"\"\"\n",
    "    nan_xy = nan_indices(data)\n",
    "    for x_i, y_i in nan_xy:\n",
    "        col = data[:, int(y_i)]\n",
    "        mu = col[~np.isnan(col)].mean()\n",
    "        std = col[~np.isnan(col)].std()\n",
    "        col[x_i] = np.random.normal(loc=mu, scale=std)\n",
    "        previous, i = 1, 1\n",
    "        for i in range(loops):\n",
    "            # Expectation\n",
    "            mu = col[~np.isnan(col)].mean()\n",
    "            std = col[~np.isnan(col)].std()\n",
    "            # Maximization\n",
    "            col[x_i] = np.random.normal(loc=mu, scale=std)\n",
    "            # Break out of loop if likelihood doesn't change at least 10%\n",
    "            # and has run at least 5 times\n",
    "            delta = (col[x_i]-previous)/previous\n",
    "            if i > 5 and delta < 0.1:\n",
    "                data[x_i][y_i] = col[x_i]\n",
    "                break\n",
    "            data[x_i][y_i] = col[x_i]\n",
    "            previous = col[x_i]\n",
    "    return data"
   ]
  },
  {
   "cell_type": "code",
   "execution_count": 5,
   "metadata": {
    "ExecuteTime": {
     "end_time": "2020-02-13T16:35:02.968900Z",
     "start_time": "2020-02-13T16:35:02.951663Z"
    }
   },
   "outputs": [],
   "source": [
    "import numpy as np\n",
    "\n",
    "data = np.array([[np.nan, 6, 3, 4, np.nan], [1, np.nan, 4, np.nan, np.nan], \n",
    "          [3, 7, 5, 6, 7], [2, 8, 2, np.nan, np.nan]])\n",
    "\n",
    "# get NaN position\n",
    "na_position = np.argwhere(np.isnan(data))\n",
    "\n",
    "# get dims\n",
    "nrow = data.shape[0]\n",
    "ncol = data.shape[1]\n",
    "\n",
    "# get whether na matrix\n",
    "C = np.isnan(data).astype(int)\n",
    "O = (np.isnan(data) == False).astype(int)\n",
    "\n",
    "# get row mean\n",
    "row_mean = np.nanmean(data, axis=1)\n",
    "\n",
    "# get col mean after filling NaN with row mean\n",
    "data2 = data.copy()\n",
    "data2[np.isnan(data2)] = 0\n",
    "energy_table = C * np.expand_dims(row_mean, axis=1) + O * data2\n",
    "col_mean = np.nanmean(energy_table, axis=0)\n",
    "\n",
    "# get global mean\n",
    "G = np.sum(energy_table) / np.multiply(*energy_table.shape)\n",
    "\n",
    "# update function\n",
    "def get_new_value(pos, energy_table):\n",
    "    row_part = ncol * (nrow*col_mean[pos[1]]-energy_table[pos[0], pos[1]])\n",
    "    col_part = nrow * (ncol*row_mean[pos[0]]-energy_table[pos[0], pos[1]])\n",
    "    all_part = nrow * ncol * G - energy_table[pos[0], pos[1]]\n",
    "    V = ((row_part + col_part) - all_part) / ((nrow-1) * (ncol-1))\n",
    "    return V\n",
    "\n",
    "# calculate new NA element\n",
    "converge_num = 0\n",
    "energy_table_iter = np.copy(energy_table)\n",
    "for i in range(500):\n",
    "    error = 0\n",
    "    # 每一次更新完table算好一版给下一代用\n",
    "    row_mean = np.nanmean(data, axis=1)\n",
    "    col_mean = np.nanmean(energy_table, axis=0)\n",
    "    G = np.sum(energy_table) / np.multiply(*energy_table.shape)\n",
    "    \n",
    "    for pos in na_position:\n",
    "        V = get_new_value(pos, energy_table_iter)\n",
    "        error += np.abs(V - energy_table_iter[pos[0], pos[1]])\n",
    "        energy_table[pos[0], pos[1]] = V\n",
    "    energy_table_iter = np.copy(energy_table)\n",
    "    break\n",
    "    if error < 0.000001:\n",
    "        converge_num += 1\n",
    "        print(\"Error didn't change for\", converge_num, \"time.\")\n",
    "    if converge_num >= 5:\n",
    "        print(\"Error don't change anymore, converge condition met.\")\n",
    "        break"
   ]
  },
  {
   "cell_type": "code",
   "execution_count": 42,
   "metadata": {
    "ExecuteTime": {
     "end_time": "2020-02-11T16:18:31.651732Z",
     "start_time": "2020-02-11T16:18:31.647027Z"
    }
   },
   "outputs": [
    {
     "data": {
      "text/plain": [
       "array([[2.80833336, 6.        , 3.        , 4.        , 4.68333333],\n",
       "       [1.        , 4.26666664, 4.        , 2.51666667, 2.84999999],\n",
       "       [3.        , 7.        , 5.        , 6.        , 7.        ],\n",
       "       [2.        , 8.        , 2.        , 4.01666667, 4.34999999]])"
      ]
     },
     "execution_count": 42,
     "metadata": {},
     "output_type": "execute_result"
    }
   ],
   "source": [
    "energy_table"
   ]
  },
  {
   "cell_type": "code",
   "execution_count": 4,
   "metadata": {
    "ExecuteTime": {
     "end_time": "2020-02-13T16:34:54.867747Z",
     "start_time": "2020-02-13T16:34:54.861672Z"
    }
   },
   "outputs": [
    {
     "data": {
      "text/plain": [
       "array([[1.79166667, 6.        , 3.        , 4.        , 4.91666667],\n",
       "       [1.        , 5.44444444, 4.        , 2.52777778, 3.08333333],\n",
       "       [3.        , 7.        , 5.        , 6.        , 7.        ],\n",
       "       [2.        , 8.        , 2.        , 4.02777778, 4.58333333]])"
      ]
     },
     "execution_count": 4,
     "metadata": {},
     "output_type": "execute_result"
    }
   ],
   "source": [
    "energy_table"
   ]
  }
 ],
 "metadata": {
  "kernelspec": {
   "display_name": "Python 3",
   "language": "python",
   "name": "python3"
  },
  "language_info": {
   "codemirror_mode": {
    "name": "ipython",
    "version": 3
   },
   "file_extension": ".py",
   "mimetype": "text/x-python",
   "name": "python",
   "nbconvert_exporter": "python",
   "pygments_lexer": "ipython3",
   "version": "3.6.6"
  },
  "toc": {
   "base_numbering": 1,
   "nav_menu": {},
   "number_sections": true,
   "sideBar": true,
   "skip_h1_title": false,
   "title_cell": "Table of Contents",
   "title_sidebar": "Contents",
   "toc_cell": false,
   "toc_position": {},
   "toc_section_display": true,
   "toc_window_display": true
  },
  "varInspector": {
   "cols": {
    "lenName": 16,
    "lenType": 16,
    "lenVar": 40
   },
   "kernels_config": {
    "python": {
     "delete_cmd_postfix": "",
     "delete_cmd_prefix": "del ",
     "library": "var_list.py",
     "varRefreshCmd": "print(var_dic_list())"
    },
    "r": {
     "delete_cmd_postfix": ") ",
     "delete_cmd_prefix": "rm(",
     "library": "var_list.r",
     "varRefreshCmd": "cat(var_dic_list()) "
    }
   },
   "types_to_exclude": [
    "module",
    "function",
    "builtin_function_or_method",
    "instance",
    "_Feature"
   ],
   "window_display": false
  }
 },
 "nbformat": 4,
 "nbformat_minor": 2
}
