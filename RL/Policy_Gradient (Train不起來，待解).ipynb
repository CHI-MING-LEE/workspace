{
 "cells": [
  {
   "cell_type": "code",
   "execution_count": null,
   "metadata": {},
   "outputs": [],
   "source": [
    "# Ref: https://medium.com/@ts1829/policy-gradient-reinforcement-learning-in-pytorch-df1383ea0baf\n",
    "# Ref: https://github.com/pytorch/examples/blob/master/reinforcement_learning/reinforce.py?source=post_page---------------------------\n",
    "# Ref: https://www.youtube.com/watch?v=y8UPGr36ccI (11分開始有說明loss)"
   ]
  },
  {
   "cell_type": "code",
   "execution_count": 1,
   "metadata": {
    "ExecuteTime": {
     "end_time": "2019-07-31T14:40:42.438783Z",
     "start_time": "2019-07-31T14:40:41.860889Z"
    }
   },
   "outputs": [],
   "source": [
    "import gym\n",
    "import numpy as np\n",
    "import matplotlib.pyplot as plt\n",
    "from tqdm import tqdm, trange\n",
    "import pandas as pd\n",
    "import torch\n",
    "import torch.nn as nn\n",
    "import torch.optim as optim\n",
    "import torch.nn.functional as F\n",
    "from torch.autograd import Variable\n",
    "from torch.distributions import Categorical"
   ]
  },
  {
   "cell_type": "code",
   "execution_count": 2,
   "metadata": {
    "ExecuteTime": {
     "end_time": "2019-07-31T14:40:43.560353Z",
     "start_time": "2019-07-31T14:40:43.390661Z"
    }
   },
   "outputs": [
    {
     "data": {
      "text/plain": [
       "<torch._C.Generator at 0x7f10f02b44b0>"
      ]
     },
     "execution_count": 2,
     "metadata": {},
     "output_type": "execute_result"
    }
   ],
   "source": [
    "env = gym.make('CartPole-v1')\n",
    "env.seed(1)\n",
    "torch.manual_seed(1)"
   ]
  },
  {
   "cell_type": "markdown",
   "metadata": {},
   "source": [
    "### Policy Gradients\n",
    "A policy gradient attempts to train an agent without explicitly mapping the value for every state-action pair in an environment by taking small steps and updating the policy based on the reward associated with that step. The agent can receive a reward immediately for an action or the agent can receive the award at a later time such as the end of the episode.  We’ll designate the policy function our agent is trying to learn as \n",
    "\n",
    "$\\pi_\\theta(a,s)$, where $\\theta$ is the parameter vector, $s$ is a particular state, and $a$ is an action.\n",
    "\n",
    "We'll apply a technique called Monte-Carlo Policy Gradient which means we will have the agent run through an entire episode and then update our policy based on the rewards obtained.\n",
    "\n",
    "### Model Construction\n",
    "Create Neural Network Model\n",
    "We will use a simple feed forward neural network with one hidden layer of 128 neurons and a dropout of 0.6. We'll use Adam as our optimizer and a learning rate of 0.01. Using dropout will significantly improve the performance of our policy. I encourage you to compare results with and without dropout and experiment with other hyper-parameter values."
   ]
  },
  {
   "cell_type": "code",
   "execution_count": 12,
   "metadata": {
    "ExecuteTime": {
     "end_time": "2019-07-31T14:41:50.573003Z",
     "start_time": "2019-07-31T14:41:50.569742Z"
    }
   },
   "outputs": [],
   "source": [
    "#Hyperparameters\n",
    "learning_rate = 0.0002\n",
    "gamma = 0.98"
   ]
  },
  {
   "cell_type": "code",
   "execution_count": 13,
   "metadata": {
    "ExecuteTime": {
     "end_time": "2019-07-31T14:41:52.069114Z",
     "start_time": "2019-07-31T14:41:52.061460Z"
    }
   },
   "outputs": [],
   "source": [
    "class Policy(nn.Module):\n",
    "    def __init__(self):\n",
    "        super(Policy, self).__init__()\n",
    "        self.state_space = env.observation_space.shape[0]\n",
    "        self.action_space = env.action_space.n\n",
    "        \n",
    "        self.l1 = nn.Linear(self.state_space, 128, bias=True)\n",
    "        self.l2 = nn.Linear(128, self.action_space, bias=True)\n",
    "        \n",
    "        self.gamma = gamma\n",
    "        \n",
    "        # Episode policy and reward history \n",
    "        self.policy_history = torch.Tensor()\n",
    "        self.reward_episode = []\n",
    "        # Overall reward and loss history\n",
    "        self.reward_history = []\n",
    "        self.loss_history = []\n",
    "\n",
    "    def forward(self, x):    \n",
    "        model = torch.nn.Sequential(\n",
    "            self.l1,\n",
    "            nn.Dropout(p=0.6),\n",
    "            nn.ReLU(),\n",
    "            self.l2,\n",
    "            nn.Softmax(dim=-1)\n",
    "        )\n",
    "        return model(x)"
   ]
  },
  {
   "cell_type": "code",
   "execution_count": 14,
   "metadata": {
    "ExecuteTime": {
     "end_time": "2019-07-31T14:41:55.798240Z",
     "start_time": "2019-07-31T14:41:55.793433Z"
    }
   },
   "outputs": [],
   "source": [
    "policy = Policy()\n",
    "optimizer = optim.Adam(policy.parameters(), lr=learning_rate)"
   ]
  },
  {
   "cell_type": "markdown",
   "metadata": {},
   "source": [
    "### Select Action\n",
    "The select_action function chooses an action based on our policy probability distribution using the PyTorch distributions package. Our policy returns a probability for each possible action in our action space (move left or move right) as an array of length two such as [0.7, 0.3]. We then choose an action based on these probabilities, record our history, and return our action."
   ]
  },
  {
   "cell_type": "markdown",
   "metadata": {},
   "source": [
    "功能：根据概率分布来产生sample，产生的sample是输入tensor的index\n",
    "如：\n",
    "- m = Categorical(torch.tensor([ 0.25, 0.25, 0.25, 0.25 ]))\n",
    "- m.sample() 　　# equal probability of 0, 1, 2, 3\n",
    "- tensor(3)"
   ]
  },
  {
   "cell_type": "code",
   "execution_count": 15,
   "metadata": {
    "ExecuteTime": {
     "end_time": "2019-07-31T14:42:00.142123Z",
     "start_time": "2019-07-31T14:42:00.135380Z"
    }
   },
   "outputs": [],
   "source": [
    "def select_action(state):\n",
    "    # Select an action (0 or 1) by running policy model and choosing based on the probabilities in state\n",
    "    state = torch.from_numpy(state).type(torch.FloatTensor)\n",
    "    state = policy(state)\n",
    "    c = Categorical(state)\n",
    "    # 從機率分布中去抽樣action\n",
    "    action = c.sample()\n",
    "    \n",
    "    # Add log probability of our chosen action to our history\n",
    "    if policy.policy_history.dim() != 0:\n",
    "        # 將機率記錄下來\n",
    "        # print(c.log_prob(action))\n",
    "        # print(torch.tensor([c.log_prob(action)]).dim())\n",
    "        # policy.policy_history = torch.cat([policy.policy_history, torch.tensor([c.log_prob(action)])])\n",
    "#         print(c.log_prob(action))\n",
    "        policy.policy_history = torch.cat([policy.policy_history,  torch.tensor([c.log_prob(action)])])\n",
    "    else:\n",
    "        print(c.log_prob(action))\n",
    "        policy.policy_history = torch.tensor([c.log_prob(action)])\n",
    "    return action"
   ]
  },
  {
   "cell_type": "markdown",
   "metadata": {
    "heading_collapsed": true
   },
   "source": [
    "### Reward $v_t$\n",
    "We update our policy by taking a sample of the action value function $Q^{\\pi_\\theta} (s_t,a_t)$ by playing through episodes of the game.  $Q^{\\pi_\\theta} (s_t,a_t)$ is defined as the expected return by taking action $a$ in state $s$ following policy $\\pi$.\n",
    "\n",
    "We know that for every step the simulation continues we receive a reward of 1. We can use this to calculate the policy gradient at each time step, where $r$ is the reward for a particular state-action pair. Rather than using the instantaneous reward, $r$, we instead use a long term reward $ v_{t} $ where $v_t$ is the discounted sum of all future rewards for the length of the episode. In this way, the longer the episode runs into the future, the greater the reward for a particular state-action pair in the present. $v_{t}$ is then,\n",
    "\n",
    "$$ v_{t} = \\sum_{k=0}^{N} \\gamma^{k}r_{t+k} $$\n",
    "where $\\gamma$ is the discount factor (0.99). For example, if an episode lasts 5 steps, the reward for each step will be [4.90, 3.94, 2.97, 1.99, 1]. Next we scale our reward vector by substracting the mean from each element and scaling to unit variance by dividing by the standard deviation. This practice is common for machine learning applications and the same operation as Scikit Learn's StandardScaler. It also has the effect of compensating for future uncertainty.\n",
    "\n",
    "Update Policy\n",
    "After each episode we apply Monte-Carlo Policy Gradient to improve our policy according to the equation:\n",
    "\n",
    "$$\\Delta\\theta_t = \\alpha\\nabla_\\theta \\, \\log \\pi_\\theta (s_t,a_t)v_t  $$\n",
    "We will then feed our policy history multiplied by our rewards to our optimizer and update the weights of our neural network using stochastic gradent ascent. This should increase the likelihood of actions that got our agent a larger reward."
   ]
  },
  {
   "cell_type": "code",
   "execution_count": 21,
   "metadata": {
    "ExecuteTime": {
     "end_time": "2019-07-31T14:43:24.932683Z",
     "start_time": "2019-07-31T14:43:24.922338Z"
    },
    "hidden": true
   },
   "outputs": [],
   "source": [
    "def update_policy():\n",
    "    R = 0\n",
    "    rewards = []\n",
    "    \n",
    "    # Discount future rewards back to the present using gamma\n",
    "    for r in policy.reward_episode[::-1]:\n",
    "        R = r + policy.gamma * R\n",
    "        rewards.insert(0, R)\n",
    "        \n",
    "    # Scale rewards\n",
    "    rewards = torch.FloatTensor(rewards)\n",
    "    rewards = (rewards - rewards.mean()) / (rewards.std() + np.finfo(np.float32).eps)\n",
    "    \n",
    "    # Calculate loss\n",
    "#     print(policy.policy_history)\n",
    "#     print(policy.reward_episode)\n",
    "    loss = torch.sum(torch.mul(policy.policy_history, rewards).mul(-1), -1) # -log\n",
    "    loss = Variable(loss, requires_grad=True) ## 這個卡很久，loss要給grad，但不是depreciated?\n",
    "    \n",
    "    # Update network weights\n",
    "    optimizer.zero_grad()\n",
    "    loss.backward()\n",
    "    optimizer.step()\n",
    "    \n",
    "    #Save and intialize episode history counters\n",
    "    policy.loss_history.append(loss.item())  ## 不用data[0]\n",
    "    policy.reward_history.append(np.sum(policy.reward_episode))\n",
    "    policy.policy_history = torch.Tensor()\n",
    "    policy.reward_episode = []"
   ]
  },
  {
   "cell_type": "code",
   "execution_count": 22,
   "metadata": {
    "ExecuteTime": {
     "end_time": "2019-07-31T14:43:27.017298Z",
     "start_time": "2019-07-31T14:43:27.010501Z"
    },
    "hidden": true
   },
   "outputs": [
    {
     "name": "stdout",
     "output_type": "stream",
     "text": [
      "tensor([0.2844, 0.0922, 0.0966])\n",
      "tensor([28.4384,  9.2221,  9.6575])\n",
      "tensor([-28.4384,  -9.2221,  -9.6575])\n",
      "tensor(-47.3180)\n"
     ]
    }
   ],
   "source": [
    "a = torch.randn(3)\n",
    "print(a)\n",
    "print(torch.mul(a, 100))\n",
    "print(torch.mul(a, 100).mul(-1))\n",
    "print(torch.sum(torch.mul(a, 100).mul(-1), -1))"
   ]
  },
  {
   "cell_type": "markdown",
   "metadata": {},
   "source": [
    "### Training\n",
    "This is our main policy training loop. For each step in a training episode, we choose an action, take a step through the environment, and record the resulting new state and reward. We call update_policy() at the end of each episode to feed the episode history to our neural network and improve our policy."
   ]
  },
  {
   "cell_type": "code",
   "execution_count": 23,
   "metadata": {
    "ExecuteTime": {
     "end_time": "2019-07-31T14:43:28.613621Z",
     "start_time": "2019-07-31T14:43:28.604382Z"
    }
   },
   "outputs": [],
   "source": [
    "# episode開始 -> 將state丟net，得到機率分布，選action (過程中要記錄action以及prob) -> 實際玩一整場episode，紀錄state、當下reward ->\n",
    "# 將剛剛一整場的R加上discount處理、正規化後，乘上每一輪的action機率，乘上負號加總，當作這episode的loss -> 更新網路 -> 玩下一個episode\n",
    "# 根據step與time制定玩到什麼程度算是訓練完畢\n",
    "\n",
    "def main(episodes):\n",
    "    running_reward = 10\n",
    "    for episode in range(episodes):\n",
    "        state = env.reset() # Reset environment and record the starting state\n",
    "        done = False       \n",
    "    \n",
    "        for time in range(1000):\n",
    "            action = select_action(state)\n",
    "#              print(action.item())\n",
    "            # Step through environment using chosen action\n",
    "            state, reward, done, _ = env.step(action.item())\n",
    "\n",
    "            # Save reward\n",
    "            policy.reward_episode.append(reward)\n",
    "            if done:\n",
    "                break\n",
    "        \n",
    "        # Used to determine when the environment is solved.\n",
    "        running_reward = (running_reward * 0.99) + (time * 0.01)\n",
    "        # https://stackoverflow.com/questions/54737990/how-does-one-determine-when-the-cartpole-environment-has-been-solved\n",
    "\n",
    "        update_policy()\n",
    "\n",
    "        if episode % 50 == 0:\n",
    "            print('Episode {}\\tLast length: {:5d}\\tAverage length: {:.2f}'.format(episode, time, running_reward))\n",
    "\n",
    "        if running_reward > env.spec.reward_threshold:\n",
    "            print(\"Solved! Running reward is now {} and the last episode runs to {} time steps!\".format(running_reward, time))\n",
    "            break"
   ]
  },
  {
   "cell_type": "code",
   "execution_count": 24,
   "metadata": {
    "ExecuteTime": {
     "end_time": "2019-07-31T14:43:30.722843Z",
     "start_time": "2019-07-31T14:43:30.712255Z"
    }
   },
   "outputs": [
    {
     "data": {
      "text/plain": [
       "(array([-0.00259079,  0.21040909,  0.02555058, -0.27808369]), 1.0, False, {})"
      ]
     },
     "execution_count": 24,
     "metadata": {},
     "output_type": "execute_result"
    }
   ],
   "source": [
    "env.reset()\n",
    "env.spec.reward_threshold\n",
    "env.action_space\n",
    "env.step(1)"
   ]
  },
  {
   "cell_type": "markdown",
   "metadata": {},
   "source": [
    "### Run Model"
   ]
  },
  {
   "cell_type": "code",
   "execution_count": null,
   "metadata": {
    "ExecuteTime": {
     "start_time": "2019-07-31T14:43:31.356Z"
    },
    "scrolled": true
   },
   "outputs": [
    {
     "name": "stdout",
     "output_type": "stream",
     "text": [
      "Episode 0\tLast length:    35\tAverage length: 10.25\n",
      "Episode 50\tLast length:    17\tAverage length: 16.03\n",
      "Episode 100\tLast length:    32\tAverage length: 19.37\n",
      "Episode 150\tLast length:    37\tAverage length: 21.29\n",
      "Episode 200\tLast length:    22\tAverage length: 23.41\n",
      "Episode 250\tLast length:    16\tAverage length: 24.76\n",
      "Episode 300\tLast length:    19\tAverage length: 25.46\n",
      "Episode 350\tLast length:    43\tAverage length: 25.54\n",
      "Episode 400\tLast length:    37\tAverage length: 24.37\n",
      "Episode 450\tLast length:    21\tAverage length: 25.11\n",
      "Episode 500\tLast length:    60\tAverage length: 25.91\n",
      "Episode 550\tLast length:    17\tAverage length: 25.75\n",
      "Episode 600\tLast length:    12\tAverage length: 25.77\n",
      "Episode 650\tLast length:    19\tAverage length: 24.47\n",
      "Episode 700\tLast length:    31\tAverage length: 24.20\n",
      "Episode 750\tLast length:    17\tAverage length: 24.36\n",
      "Episode 800\tLast length:    36\tAverage length: 23.60\n",
      "Episode 850\tLast length:    35\tAverage length: 24.00\n",
      "Episode 900\tLast length:    12\tAverage length: 23.61\n",
      "Episode 950\tLast length:    12\tAverage length: 24.53\n",
      "Episode 1000\tLast length:    24\tAverage length: 23.95\n",
      "Episode 1050\tLast length:    15\tAverage length: 24.21\n",
      "Episode 1100\tLast length:    15\tAverage length: 26.58\n",
      "Episode 1150\tLast length:    30\tAverage length: 24.55\n",
      "Episode 1200\tLast length:    22\tAverage length: 24.14\n",
      "Episode 1250\tLast length:    18\tAverage length: 24.11\n",
      "Episode 1300\tLast length:    18\tAverage length: 25.57\n",
      "Episode 1350\tLast length:    19\tAverage length: 25.84\n",
      "Episode 1400\tLast length:    14\tAverage length: 25.08\n",
      "Episode 1450\tLast length:    19\tAverage length: 25.68\n",
      "Episode 1500\tLast length:    23\tAverage length: 25.82\n",
      "Episode 1550\tLast length:    22\tAverage length: 25.83\n",
      "Episode 1600\tLast length:    21\tAverage length: 26.34\n",
      "Episode 1650\tLast length:    19\tAverage length: 26.95\n",
      "Episode 1700\tLast length:    53\tAverage length: 26.14\n",
      "Episode 1750\tLast length:    39\tAverage length: 27.50\n",
      "Episode 1800\tLast length:    13\tAverage length: 25.83\n",
      "Episode 1850\tLast length:    12\tAverage length: 24.62\n"
     ]
    }
   ],
   "source": [
    "episodes = 10000\n",
    "main(episodes)"
   ]
  },
  {
   "cell_type": "code",
   "execution_count": null,
   "metadata": {},
   "outputs": [],
   "source": []
  }
 ],
 "metadata": {
  "kernelspec": {
   "display_name": "Python 3",
   "language": "python",
   "name": "python3"
  },
  "language_info": {
   "codemirror_mode": {
    "name": "ipython",
    "version": 3
   },
   "file_extension": ".py",
   "mimetype": "text/x-python",
   "name": "python",
   "nbconvert_exporter": "python",
   "pygments_lexer": "ipython3",
   "version": "3.6.6"
  },
  "toc": {
   "base_numbering": 1,
   "nav_menu": {},
   "number_sections": true,
   "sideBar": true,
   "skip_h1_title": false,
   "title_cell": "Table of Contents",
   "title_sidebar": "Contents",
   "toc_cell": false,
   "toc_position": {},
   "toc_section_display": true,
   "toc_window_display": true
  },
  "varInspector": {
   "cols": {
    "lenName": 16,
    "lenType": 16,
    "lenVar": 40
   },
   "kernels_config": {
    "python": {
     "delete_cmd_postfix": "",
     "delete_cmd_prefix": "del ",
     "library": "var_list.py",
     "varRefreshCmd": "print(var_dic_list())"
    },
    "r": {
     "delete_cmd_postfix": ") ",
     "delete_cmd_prefix": "rm(",
     "library": "var_list.r",
     "varRefreshCmd": "cat(var_dic_list()) "
    }
   },
   "types_to_exclude": [
    "module",
    "function",
    "builtin_function_or_method",
    "instance",
    "_Feature"
   ],
   "window_display": false
  }
 },
 "nbformat": 4,
 "nbformat_minor": 2
}
