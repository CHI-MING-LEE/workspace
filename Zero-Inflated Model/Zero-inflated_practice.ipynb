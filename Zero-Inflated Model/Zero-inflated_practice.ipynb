{
 "cells": [
  {
   "cell_type": "code",
   "execution_count": 1,
   "metadata": {
    "ExecuteTime": {
     "end_time": "2019-04-22T16:27:18.983618Z",
     "start_time": "2019-04-22T16:27:17.732973Z"
    }
   },
   "outputs": [],
   "source": [
    "from matplotlib import pyplot as plt\n",
    "import numpy as np\n",
    "import math as math\n",
    "import pandas as pd\n",
    "from scipy import stats\n",
    "import statsmodels.discrete.count_model as reg_models\n",
    "#help(reg_mo1dels)"
   ]
  },
  {
   "cell_type": "markdown",
   "metadata": {},
   "source": [
    "### Generate Mock Data\n",
    "The key point here in zero inflated (ZI) processes is that there is TWO ways of generating zeros.   The zero can be generated either through the (ZI) or through another process, usually Poisson (P).   Common examples include assembly line failure, the number of crimes in a neighborhood in a given hour.    Critically here was the challenge of indexing Python appropriately."
   ]
  },
  {
   "cell_type": "code",
   "execution_count": 5,
   "metadata": {
    "ExecuteTime": {
     "end_time": "2019-04-22T16:33:21.939410Z",
     "start_time": "2019-04-22T16:33:13.979304Z"
    }
   },
   "outputs": [
    {
     "name": "stdout",
     "output_type": "stream",
     "text": [
      "          0         1\n",
      "0  7.212902  5.344758\n",
      "1  7.128398  4.654915\n",
      "2  6.841711  4.715646\n",
      "3  5.082382  5.770086\n",
      "4  5.858964  3.736356\n",
      "5  4.173984  3.839683\n",
      "6  6.157271  5.560635\n",
      "7  6.375915  7.051355\n",
      "8  5.943028  4.532561\n",
      "9  5.847871  5.960908\n",
      "[0. 1. 4. 3. 0. 2. 0. 2. 3. 0.]\n",
      "[1. 0. 1. 0. 1. 0. 1. 1. 1. 1.]\n",
      "[0. 0. 4. 0. 0. 0. 0. 2. 3. 0.]\n"
     ]
    }
   ],
   "source": [
    "np.random.seed(123456789)\n",
    "N = 100000\n",
    "x_1 = np.random.normal(5, 1, size=N)\n",
    "x_2 = np.random.normal(5, 1, size=N)\n",
    "x = pd.DataFrame([x_1, x_2]).T\n",
    "poisson_part = np.zeros(N)\n",
    "zi_part = np.zeros(N)\n",
    "\n",
    "for i, item in enumerate(x_1):\n",
    "    # needed to initialize the test object. Note the poisson parameter is of the form e^(Bx), ln(lambda) = Bx\n",
    "    poisson_part[i] = np.random.poisson(math.exp(0.2 * x_1[i] - 0.1 * x_2[i]))\n",
    "for i, item in enumerate(x_1):\n",
    "    # needed to initialize the test object.\n",
    "    zi_part[i] = np.random.logistic(0.3 * x_1[i] - 0.2 * x_2[i]) > 0\n",
    "\n",
    "y = zip_model_data = poisson_part * zi_part\n",
    "\n",
    "print(x.iloc[0:10, :])\n",
    "print(poisson_part[0:10])\n",
    "print(zi_part[0:10, ])\n",
    "print(y[0:10, ])"
   ]
  },
  {
   "cell_type": "markdown",
   "metadata": {
    "ExecuteTime": {
     "end_time": "2019-04-22T16:30:25.132928Z",
     "start_time": "2019-04-22T16:30:25.127496Z"
    }
   },
   "source": [
    "Generate the model-object itself."
   ]
  },
  {
   "cell_type": "code",
   "execution_count": 8,
   "metadata": {
    "ExecuteTime": {
     "end_time": "2019-04-22T16:43:27.293825Z",
     "start_time": "2019-04-22T16:43:27.243755Z"
    }
   },
   "outputs": [
    {
     "data": {
      "text/plain": [
       "<statsmodels.discrete.count_model.ZeroInflatedPoisson at 0x7f4bca1d0128>"
      ]
     },
     "execution_count": 8,
     "metadata": {},
     "output_type": "execute_result"
    }
   ],
   "source": [
    "out = reg_models.ZeroInflatedPoisson(y,x,x, inflation='logit')\n",
    "out"
   ]
  },
  {
   "cell_type": "markdown",
   "metadata": {},
   "source": [
    "Fit it"
   ]
  },
  {
   "cell_type": "code",
   "execution_count": 9,
   "metadata": {
    "ExecuteTime": {
     "end_time": "2019-04-22T16:43:54.517223Z",
     "start_time": "2019-04-22T16:43:50.974498Z"
    }
   },
   "outputs": [
    {
     "name": "stdout",
     "output_type": "stream",
     "text": [
      "Optimization terminated successfully.    (Exit mode 0)\n",
      "            Current function value: 1.479267848993134\n",
      "            Iterations: 10\n",
      "            Function evaluations: 12\n",
      "            Gradient evaluations: 10\n"
     ]
    }
   ],
   "source": [
    "fit_regularized=out.fit_regularized(maxiter = 100) #essentially forces convergence by penalizing. Biases estimates."
   ]
  },
  {
   "cell_type": "code",
   "execution_count": 10,
   "metadata": {
    "ExecuteTime": {
     "end_time": "2019-04-22T16:44:21.629630Z",
     "start_time": "2019-04-22T16:44:21.623349Z"
    }
   },
   "outputs": [
    {
     "data": {
      "text/plain": [
       "inflate_0   -3.339664\n",
       "inflate_1   -3.144663\n",
       "0            0.237893\n",
       "1           -0.232087\n",
       "dtype: float64"
      ]
     },
     "execution_count": 10,
     "metadata": {},
     "output_type": "execute_result"
    }
   ],
   "source": [
    "##notice that these are regularized values, not the true values.  The ordinal scale of the variables \n",
    "fit_regularized.params"
   ]
  },
  {
   "cell_type": "markdown",
   "metadata": {},
   "source": [
    "Let’s try a REAL fit, no regularization, no biasing the estimates."
   ]
  },
  {
   "cell_type": "code",
   "execution_count": 11,
   "metadata": {
    "ExecuteTime": {
     "end_time": "2019-04-22T16:45:07.047813Z",
     "start_time": "2019-04-22T16:45:03.369870Z"
    }
   },
   "outputs": [
    {
     "name": "stderr",
     "output_type": "stream",
     "text": [
      "/home/rossleecooloh/.pyenv/versions/3.6.6/lib/python3.6/site-packages/statsmodels/base/model.py:508: ConvergenceWarning: Maximum Likelihood optimization failed to converge. Check mle_retvals\n",
      "  \"Check mle_retvals\", ConvergenceWarning)\n"
     ]
    },
    {
     "name": "stdout",
     "output_type": "stream",
     "text": [
      "Optimization terminated successfully.\n",
      "         Current function value: 1.374978\n",
      "         Iterations: 13\n",
      "         Function evaluations: 16\n",
      "         Gradient evaluations: 16\n"
     ]
    }
   ],
   "source": [
    "# May need more than the default 35 iterations, very small number!\n",
    "fit = out.fit(method='bfgs', maxiter=1000)"
   ]
  },
  {
   "cell_type": "code",
   "execution_count": 12,
   "metadata": {
    "ExecuteTime": {
     "end_time": "2019-04-22T16:45:27.646106Z",
     "start_time": "2019-04-22T16:45:27.635610Z"
    }
   },
   "outputs": [
    {
     "data": {
      "text/plain": [
       "inflate_0   -0.305607\n",
       "inflate_1    0.208904\n",
       "0            0.197614\n",
       "1           -0.096841\n",
       "dtype: float64"
      ]
     },
     "execution_count": 12,
     "metadata": {},
     "output_type": "execute_result"
    }
   ],
   "source": [
    "fit.params"
   ]
  },
  {
   "cell_type": "markdown",
   "metadata": {
    "ExecuteTime": {
     "end_time": "2019-04-22T16:46:51.193665Z",
     "start_time": "2019-04-22T16:46:51.188473Z"
    }
   },
   "source": [
    "Nailed it! Regularization had had a noticeable effect on the process, \n",
    "but these are the true coefficients I was attempting to recover."
   ]
  },
  {
   "cell_type": "markdown",
   "metadata": {},
   "source": [
    "Note that ZIP in python does not automatically assume the existence of an intercept term. Nor does it automatically calculate the standard errors. I’ll be bootstrapping those soon enough."
   ]
  },
  {
   "cell_type": "code",
   "execution_count": null,
   "metadata": {},
   "outputs": [],
   "source": []
  },
  {
   "cell_type": "code",
   "execution_count": null,
   "metadata": {},
   "outputs": [],
   "source": []
  },
  {
   "cell_type": "code",
   "execution_count": null,
   "metadata": {},
   "outputs": [],
   "source": []
  }
 ],
 "metadata": {
  "kernelspec": {
   "display_name": "Python 3",
   "language": "python",
   "name": "python3"
  },
  "language_info": {
   "codemirror_mode": {
    "name": "ipython",
    "version": 3
   },
   "file_extension": ".py",
   "mimetype": "text/x-python",
   "name": "python",
   "nbconvert_exporter": "python",
   "pygments_lexer": "ipython3",
   "version": "3.6.6"
  },
  "toc": {
   "base_numbering": 1,
   "nav_menu": {},
   "number_sections": true,
   "sideBar": true,
   "skip_h1_title": false,
   "title_cell": "Table of Contents",
   "title_sidebar": "Contents",
   "toc_cell": false,
   "toc_position": {},
   "toc_section_display": true,
   "toc_window_display": false
  },
  "varInspector": {
   "cols": {
    "lenName": 16,
    "lenType": 16,
    "lenVar": 40
   },
   "kernels_config": {
    "python": {
     "delete_cmd_postfix": "",
     "delete_cmd_prefix": "del ",
     "library": "var_list.py",
     "varRefreshCmd": "print(var_dic_list())"
    },
    "r": {
     "delete_cmd_postfix": ") ",
     "delete_cmd_prefix": "rm(",
     "library": "var_list.r",
     "varRefreshCmd": "cat(var_dic_list()) "
    }
   },
   "types_to_exclude": [
    "module",
    "function",
    "builtin_function_or_method",
    "instance",
    "_Feature"
   ],
   "window_display": false
  }
 },
 "nbformat": 4,
 "nbformat_minor": 2
}
