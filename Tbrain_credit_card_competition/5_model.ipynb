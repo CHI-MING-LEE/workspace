{
 "cells": [
  {
   "cell_type": "code",
   "execution_count": 1,
   "metadata": {
    "ExecuteTime": {
     "end_time": "2019-11-18T14:00:42.078359Z",
     "start_time": "2019-11-18T14:00:40.890352Z"
    }
   },
   "outputs": [],
   "source": [
    "import time\n",
    "import numpy as np\n",
    "import pandas as pd\n",
    "import featuretools as ft\n",
    "import catboost\n",
    "from tqdm import tqdm_notebook\n",
    "import scipy.stats as stats\n",
    "import matplotlib.pyplot as plt\n",
    "import seaborn as sns\n",
    "\n",
    "# This Python 3 environment comes with many helpful analytics libraries installed\n",
    "# It is defined by the kaggle/python docker image: https://github.com/kaggle/docker-python\n",
    "# For example, here's several helpful packages to load in \n",
    "\n",
    "# Input data files are available in the \"../input/\" directory.\n",
    "# For example, running this (by clicking run or pressing Shift+Enter) will list the files in the input directory\n",
    "\n",
    "from datetime import datetime\n",
    "from scipy.stats import skew  # for some statistics\n",
    "from scipy.special import boxcox1p\n",
    "from scipy.stats import boxcox_normmax\n",
    "import scipy.optimize\n",
    "from sklearn.linear_model import ElasticNetCV, LassoCV, RidgeCV\n",
    "from sklearn.ensemble import GradientBoostingRegressor\n",
    "from sklearn.svm import SVR\n",
    "from sklearn.pipeline import make_pipeline\n",
    "from sklearn.preprocessing import RobustScaler\n",
    "from sklearn.model_selection import KFold, cross_val_score\n",
    "from sklearn.metrics import mean_squared_error\n",
    "from xgboost import XGBRegressor, XGBClassifier\n",
    "from lightgbm import LGBMRegressor, LGBMClassifier\n",
    "import lightgbm as lgb\n",
    "import matplotlib.pyplot as plt\n",
    "import scipy.stats as stats\n",
    "import sklearn.linear_model as linear_model\n",
    "import seaborn as sns\n",
    "from sklearn.manifold import TSNE\n",
    "from sklearn.cluster import KMeans\n",
    "from sklearn.decomposition import PCA\n",
    "from sklearn.preprocessing import StandardScaler\n",
    "from sklearn import preprocessing\n",
    "from sklearn.model_selection import train_test_split\n",
    "from sklearn.model_selection import StratifiedShuffleSplit, StratifiedKFold\n",
    "from sklearn.metrics import confusion_matrix, precision_recall_fscore_support, f1_score\n",
    "from sklearn.externals import joblib\n",
    "from category_encoders import CatBoostEncoder"
   ]
  },
  {
   "cell_type": "code",
   "execution_count": 2,
   "metadata": {
    "ExecuteTime": {
     "end_time": "2019-11-18T14:01:16.752412Z",
     "start_time": "2019-11-18T14:00:47.968596Z"
    }
   },
   "outputs": [],
   "source": [
    "# Read data\n",
    "train_raw = pd.read_csv(\"train_pre_31.csv\")\n",
    "X_test = pd.read_csv(\"test_pre_31.csv\")\n",
    "\n",
    "# train_raw = pd.read_csv(\"train_pre_13.csv\")\n",
    "# X_test = pd.read_csv(\"test_pre_13.csv\")\n",
    "\n",
    "# train_raw = pd.read_csv(\"train_pre_pure.csv\")\n",
    "# X_test = pd.read_csv(\"test_pre_pure.csv\")\n"
   ]
  },
  {
   "cell_type": "code",
   "execution_count": 3,
   "metadata": {
    "ExecuteTime": {
     "end_time": "2019-11-18T14:01:23.365540Z",
     "start_time": "2019-11-18T14:01:18.859758Z"
    },
    "scrolled": true
   },
   "outputs": [],
   "source": [
    "train_raw = train_raw.drop_duplicates(subset=train_raw.columns[~train_raw.columns.isin([\n",
    "        'acqic', 'bacno', 'cano', 'conam', 'contp', 'csmcu', 'ecfg', 'etymd',\n",
    "       'flbmk', 'flg_3dsmk', 'hcefg', 'insfg', 'iterm', 'locdt', 'mcc',\n",
    "       'mchno', 'ovrlt', 'scity', 'stocn', 'stscd', \"loctm_min\", \n",
    "       'conam_mean_by_loctm_min', \n",
    "       'conam_mean_by_loctm_sec', \n",
    "       'bacno_cano_no_recent_10_conam_pos_trend',\n",
    "       'bacno_cano_no_recent_7_loctm_diff', \n",
    "       'bacno_cano_loctm_uique_count', \n",
    "       'bacno_cano_14_rolling_times_prime_time_fraud_cnt',\n",
    "       'bacno_cano_10_times_sleep_time_cnt',\n",
    "       'bacno_cano_10_sleep_time_conam_lower_3000_cnt',\n",
    "       'bacno_cano_10_prime_time_fraud_conam_lower_3000_cnt', \n",
    "       'bacno_cano_no_recent_10_ecfg_sum', 'fraud_ind', \"locdt\",\n",
    "        'flbmk_value_counts', 'hcefg_value_counts', 'flg_3dsmk_value_counts'\n",
    "         'ecfg_value_counts', 'ovrlt_value_counts', 'insfg_value_counts'\n",
    "        \"conam_mean_by_train_test_acqic\", \"loctm_value_counts\",\n",
    "        \"loctm_hour_value_counts\", 'loctm_sec'])], keep='last')\n",
    "\n",
    "# train_raw = train_raw.drop_duplicates(subset=train_raw.columns[train_raw.columns.isin([\n",
    "#                                     \"acqic\", \"cano\", \n",
    "#                                     \"conam\", \"csmcu\", \"ecfg\", \"etymd\", \n",
    "#                                     \"flbmk\", \"flg_3dsmk\" ,\"hcefg\", \"insfg\", \"iterm\",\n",
    "#                                     \"mcc\", \"mchno\", \"ovrlt\" ,\"scity\", \"stocn\", \"stscd\", \"loctm_hour\"])], keep='last')"
   ]
  },
  {
   "cell_type": "code",
   "execution_count": 5,
   "metadata": {
    "ExecuteTime": {
     "end_time": "2019-11-18T14:03:12.415468Z",
     "start_time": "2019-11-18T14:03:11.252845Z"
    }
   },
   "outputs": [
    {
     "name": "stdout",
     "output_type": "stream",
     "text": [
      "(1461618, 115)\n",
      "(421665, 114)\n",
      "(421665, 22)\n"
     ]
    }
   ],
   "source": [
    "test_raw = pd.read_csv(\"test.csv\")\n",
    "\n",
    "X = train_raw.drop('fraud_ind', axis=1)\n",
    "y = train_raw['fraud_ind']\n",
    "\n",
    "print(train_raw.shape)\n",
    "print(X_test.shape)\n",
    "print(test_raw.shape)"
   ]
  },
  {
   "cell_type": "code",
   "execution_count": 6,
   "metadata": {
    "ExecuteTime": {
     "end_time": "2019-11-18T14:03:17.791983Z",
     "start_time": "2019-11-18T14:03:16.961042Z"
    }
   },
   "outputs": [
    {
     "data": {
      "text/html": [
       "<div>\n",
       "<style scoped>\n",
       "    .dataframe tbody tr th:only-of-type {\n",
       "        vertical-align: middle;\n",
       "    }\n",
       "\n",
       "    .dataframe tbody tr th {\n",
       "        vertical-align: top;\n",
       "    }\n",
       "\n",
       "    .dataframe thead th {\n",
       "        text-align: right;\n",
       "    }\n",
       "</style>\n",
       "<table border=\"1\" class=\"dataframe\">\n",
       "  <thead>\n",
       "    <tr style=\"text-align: right;\">\n",
       "      <th></th>\n",
       "      <th>acqic</th>\n",
       "      <th>bacno</th>\n",
       "      <th>cano</th>\n",
       "      <th>conam</th>\n",
       "      <th>contp</th>\n",
       "      <th>csmcu</th>\n",
       "      <th>ecfg</th>\n",
       "      <th>etymd</th>\n",
       "      <th>flbmk</th>\n",
       "      <th>flg_3dsmk</th>\n",
       "      <th>...</th>\n",
       "      <th>mchno_cnt_by_locdt_loctm_hour</th>\n",
       "      <th>acqic_cnt_by_locdt_loctm_hour</th>\n",
       "      <th>conam_cnt_by_locdt_loctm_hour</th>\n",
       "      <th>mcc_cnt_by_locdt_loctm_hour</th>\n",
       "      <th>scity_cnt_by_locdt_loctm_hour</th>\n",
       "      <th>stscd_cnt_by_locdt_loctm_hour</th>\n",
       "      <th>csmcu_cnt_by_locdt_loctm_hour</th>\n",
       "      <th>conam_is_0_cnt_by_bacno</th>\n",
       "      <th>conam_mean_by_train_test_acqic</th>\n",
       "      <th>acqic_mcc_counts</th>\n",
       "    </tr>\n",
       "  </thead>\n",
       "  <tbody>\n",
       "    <tr>\n",
       "      <th>421660</th>\n",
       "      <td>5975</td>\n",
       "      <td>147326</td>\n",
       "      <td>79511</td>\n",
       "      <td>633.76</td>\n",
       "      <td>5</td>\n",
       "      <td>62</td>\n",
       "      <td>0</td>\n",
       "      <td>2</td>\n",
       "      <td>0</td>\n",
       "      <td>0</td>\n",
       "      <td>...</td>\n",
       "      <td>63</td>\n",
       "      <td>98</td>\n",
       "      <td>2</td>\n",
       "      <td>97</td>\n",
       "      <td>535</td>\n",
       "      <td>907</td>\n",
       "      <td>810</td>\n",
       "      <td>0</td>\n",
       "      <td>627.570710</td>\n",
       "      <td>9005</td>\n",
       "    </tr>\n",
       "    <tr>\n",
       "      <th>421661</th>\n",
       "      <td>6716</td>\n",
       "      <td>14305</td>\n",
       "      <td>136493</td>\n",
       "      <td>952.84</td>\n",
       "      <td>5</td>\n",
       "      <td>62</td>\n",
       "      <td>0</td>\n",
       "      <td>5</td>\n",
       "      <td>0</td>\n",
       "      <td>0</td>\n",
       "      <td>...</td>\n",
       "      <td>1</td>\n",
       "      <td>27</td>\n",
       "      <td>1</td>\n",
       "      <td>3</td>\n",
       "      <td>8</td>\n",
       "      <td>380</td>\n",
       "      <td>306</td>\n",
       "      <td>0</td>\n",
       "      <td>797.537255</td>\n",
       "      <td>6995</td>\n",
       "    </tr>\n",
       "    <tr>\n",
       "      <th>421662</th>\n",
       "      <td>5975</td>\n",
       "      <td>156543</td>\n",
       "      <td>137963</td>\n",
       "      <td>713.42</td>\n",
       "      <td>5</td>\n",
       "      <td>62</td>\n",
       "      <td>0</td>\n",
       "      <td>4</td>\n",
       "      <td>0</td>\n",
       "      <td>0</td>\n",
       "      <td>...</td>\n",
       "      <td>2</td>\n",
       "      <td>110</td>\n",
       "      <td>2</td>\n",
       "      <td>97</td>\n",
       "      <td>459</td>\n",
       "      <td>950</td>\n",
       "      <td>794</td>\n",
       "      <td>0</td>\n",
       "      <td>627.570710</td>\n",
       "      <td>63643</td>\n",
       "    </tr>\n",
       "    <tr>\n",
       "      <th>421663</th>\n",
       "      <td>6231</td>\n",
       "      <td>156543</td>\n",
       "      <td>137964</td>\n",
       "      <td>903.94</td>\n",
       "      <td>5</td>\n",
       "      <td>62</td>\n",
       "      <td>0</td>\n",
       "      <td>5</td>\n",
       "      <td>0</td>\n",
       "      <td>0</td>\n",
       "      <td>...</td>\n",
       "      <td>1</td>\n",
       "      <td>43</td>\n",
       "      <td>1</td>\n",
       "      <td>162</td>\n",
       "      <td>478</td>\n",
       "      <td>1043</td>\n",
       "      <td>913</td>\n",
       "      <td>0</td>\n",
       "      <td>666.248912</td>\n",
       "      <td>10525</td>\n",
       "    </tr>\n",
       "    <tr>\n",
       "      <th>421664</th>\n",
       "      <td>6769</td>\n",
       "      <td>131985</td>\n",
       "      <td>98699</td>\n",
       "      <td>760.09</td>\n",
       "      <td>5</td>\n",
       "      <td>62</td>\n",
       "      <td>0</td>\n",
       "      <td>4</td>\n",
       "      <td>0</td>\n",
       "      <td>0</td>\n",
       "      <td>...</td>\n",
       "      <td>2</td>\n",
       "      <td>154</td>\n",
       "      <td>1</td>\n",
       "      <td>125</td>\n",
       "      <td>5</td>\n",
       "      <td>850</td>\n",
       "      <td>726</td>\n",
       "      <td>0</td>\n",
       "      <td>649.901595</td>\n",
       "      <td>167308</td>\n",
       "    </tr>\n",
       "  </tbody>\n",
       "</table>\n",
       "<p>5 rows × 114 columns</p>\n",
       "</div>"
      ],
      "text/plain": [
       "        acqic   bacno    cano   conam  contp  csmcu  ecfg  etymd  flbmk  \\\n",
       "421660   5975  147326   79511  633.76      5     62     0      2      0   \n",
       "421661   6716   14305  136493  952.84      5     62     0      5      0   \n",
       "421662   5975  156543  137963  713.42      5     62     0      4      0   \n",
       "421663   6231  156543  137964  903.94      5     62     0      5      0   \n",
       "421664   6769  131985   98699  760.09      5     62     0      4      0   \n",
       "\n",
       "        flg_3dsmk  ...  mchno_cnt_by_locdt_loctm_hour  \\\n",
       "421660          0  ...                             63   \n",
       "421661          0  ...                              1   \n",
       "421662          0  ...                              2   \n",
       "421663          0  ...                              1   \n",
       "421664          0  ...                              2   \n",
       "\n",
       "        acqic_cnt_by_locdt_loctm_hour  conam_cnt_by_locdt_loctm_hour  \\\n",
       "421660                             98                              2   \n",
       "421661                             27                              1   \n",
       "421662                            110                              2   \n",
       "421663                             43                              1   \n",
       "421664                            154                              1   \n",
       "\n",
       "        mcc_cnt_by_locdt_loctm_hour  scity_cnt_by_locdt_loctm_hour  \\\n",
       "421660                           97                            535   \n",
       "421661                            3                              8   \n",
       "421662                           97                            459   \n",
       "421663                          162                            478   \n",
       "421664                          125                              5   \n",
       "\n",
       "        stscd_cnt_by_locdt_loctm_hour  csmcu_cnt_by_locdt_loctm_hour  \\\n",
       "421660                            907                            810   \n",
       "421661                            380                            306   \n",
       "421662                            950                            794   \n",
       "421663                           1043                            913   \n",
       "421664                            850                            726   \n",
       "\n",
       "        conam_is_0_cnt_by_bacno  conam_mean_by_train_test_acqic  \\\n",
       "421660                        0                      627.570710   \n",
       "421661                        0                      797.537255   \n",
       "421662                        0                      627.570710   \n",
       "421663                        0                      666.248912   \n",
       "421664                        0                      649.901595   \n",
       "\n",
       "        acqic_mcc_counts  \n",
       "421660              9005  \n",
       "421661              6995  \n",
       "421662             63643  \n",
       "421663             10525  \n",
       "421664            167308  \n",
       "\n",
       "[5 rows x 114 columns]"
      ]
     },
     "execution_count": 6,
     "metadata": {},
     "output_type": "execute_result"
    }
   ],
   "source": [
    "all_features = pd.concat([X, X_test], axis=0)\n",
    "all_features.tail()"
   ]
  },
  {
   "cell_type": "code",
   "execution_count": 12,
   "metadata": {
    "ExecuteTime": {
     "end_time": "2019-11-17T14:53:11.525211Z",
     "start_time": "2019-11-17T14:53:11.518210Z"
    }
   },
   "outputs": [
    {
     "data": {
      "text/plain": [
       "['acqic',\n",
       " 'bacno',\n",
       " 'cano',\n",
       " 'conam',\n",
       " 'contp',\n",
       " 'csmcu',\n",
       " 'ecfg',\n",
       " 'etymd',\n",
       " 'flbmk',\n",
       " 'flg_3dsmk',\n",
       " 'hcefg',\n",
       " 'insfg',\n",
       " 'iterm',\n",
       " 'locdt',\n",
       " 'mcc',\n",
       " 'mchno',\n",
       " 'ovrlt',\n",
       " 'scity',\n",
       " 'stocn',\n",
       " 'stscd',\n",
       " 'loctm_hour',\n",
       " 'loctm_min',\n",
       " 'loctm_sec',\n",
       " 'conam_is_0',\n",
       " 'bacno_u_cnt_by_acqic',\n",
       " 'conam_level',\n",
       " 'loctm_value_counts',\n",
       " 'loctm_hour_value_counts',\n",
       " 'csmcu_cnt_by_stocn',\n",
       " 'csmcu_cnt_by_scity',\n",
       " 'csmcu_ucnt_by_bacno',\n",
       " 'bacno_value_counts',\n",
       " 'cano_value_counts',\n",
       " 'mchno_value_counts',\n",
       " 'acqic_value_counts',\n",
       " 'mcc_value_counts',\n",
       " 'ecfg_value_counts',\n",
       " 'insfg_value_counts',\n",
       " 'contp_value_counts',\n",
       " 'etymd_value_counts',\n",
       " 'stocn_value_counts',\n",
       " 'scity_value_counts',\n",
       " 'stscd_value_counts',\n",
       " 'ovrlt_value_counts',\n",
       " 'flbmk_value_counts',\n",
       " 'hcefg_value_counts',\n",
       " 'csmcu_value_counts',\n",
       " 'flg_3dsmk_value_counts',\n",
       " 'prime_time_normal',\n",
       " 'prime_time_fraud',\n",
       " 'sleep_time',\n",
       " 'sleep_time_conam_lower_3000',\n",
       " 'prime_time_fraud_conam_lower_3000',\n",
       " 'conam_mean_by_bacno',\n",
       " 'conam_mean_by_cano',\n",
       " 'conam_mean_by_mchno',\n",
       " 'conam_mean_by_acqic',\n",
       " 'conam_mean_by_mcc',\n",
       " 'conam_mean_by_contp',\n",
       " 'conam_mean_by_etymd',\n",
       " 'conam_mean_by_iterm',\n",
       " 'conam_mean_by_loctm_hour',\n",
       " 'conam_mean_by_loctm_min',\n",
       " 'conam_mean_by_loctm_sec',\n",
       " 'conam_mean_by_stocn',\n",
       " 'conam_mean_by_scity',\n",
       " 'conam_mean_by_stscd',\n",
       " 'conam_mean_by_csmcu',\n",
       " 'conam_mean_by_locdt',\n",
       " 'mchno_uique_count_by_bacno',\n",
       " 'conam_uique_count_by_bacno',\n",
       " 'acqic_uique_count_by_bacno',\n",
       " 'mcc_uique_count_by_bacno',\n",
       " 'scity_uique_count_by_bacno',\n",
       " 'stscd_uique_count_by_bacno',\n",
       " 'csmcu_uique_count_by_bacno',\n",
       " 'bacno_cano_mcc_acqic_cnt_by_locdt',\n",
       " 'bacon_cano_cnt',\n",
       " 'bacno_cano_loctm_uique_count',\n",
       " 'bacno_cano_14_rolling_times_prime_time_fraud_cnt',\n",
       " 'bacno_cano_10_times_sleep_time_cnt',\n",
       " 'bacno_cano_10_sleep_time_conam_lower_3000_cnt',\n",
       " 'bacno_cano_10_prime_time_fraud_conam_lower_3000_cnt',\n",
       " 'bacno_cano_no_recent_10_conam_pos_trend',\n",
       " 'bacno_cano_no_recent_7_loctm_diff',\n",
       " 'bacno_cano_no_recent_10_ecfg_sum',\n",
       " 'bacno_cnt_by_locdt',\n",
       " 'bacno_cnt_by_locdt_mchno',\n",
       " 'bacno_cnt_by_locdt_conam',\n",
       " 'bacno_cnt_by_locdt_acqic',\n",
       " 'bacno_cnt_by_locdt_mcc',\n",
       " 'bacno_cnt_by_locdt_scity',\n",
       " 'bacno_cnt_by_locdt_stscd',\n",
       " 'bacno_cnt_by_locdt_csmcu',\n",
       " 'bacno_cnt_by_locdt_loctm_hour',\n",
       " 'bacno_cnt_each_hour',\n",
       " 'conam_cnt_each_hour',\n",
       " 'cano_cnt_each_hour',\n",
       " 'mchno_cnt_each_hour',\n",
       " 'acqic_cnt_each_hour',\n",
       " 'mcc_cnt_each_hour',\n",
       " 'scity_cnt_each_hour',\n",
       " 'stscd_cnt_each_hour',\n",
       " 'csmcu_cnt_each_hour',\n",
       " 'mchno_cnt_by_locdt_loctm_hour',\n",
       " 'acqic_cnt_by_locdt_loctm_hour',\n",
       " 'conam_cnt_by_locdt_loctm_hour',\n",
       " 'mcc_cnt_by_locdt_loctm_hour',\n",
       " 'scity_cnt_by_locdt_loctm_hour',\n",
       " 'stscd_cnt_by_locdt_loctm_hour',\n",
       " 'csmcu_cnt_by_locdt_loctm_hour',\n",
       " 'conam_is_0_cnt_by_bacno',\n",
       " 'conam_mean_by_train_test_acqic',\n",
       " 'acqic_mcc_counts']"
      ]
     },
     "execution_count": 12,
     "metadata": {},
     "output_type": "execute_result"
    }
   ],
   "source": [
    "all_features.columns.tolist()"
   ]
  },
  {
   "cell_type": "code",
   "execution_count": 7,
   "metadata": {
    "ExecuteTime": {
     "end_time": "2019-11-17T14:34:58.308088Z",
     "start_time": "2019-11-17T14:34:55.718367Z"
    },
    "scrolled": true
   },
   "outputs": [
    {
     "name": "stdout",
     "output_type": "stream",
     "text": [
      "acqic\n",
      "(6051,) & (6866,)\n",
      "bacno\n",
      "(94767,) & (162739,)\n",
      "cano\n",
      "(128929,) & (211975,)\n",
      "conam\n",
      "(70279,) & (83982,)\n",
      "contp\n",
      "(7,) & (7,)\n",
      "csmcu\n",
      "(72,) & (76,)\n",
      "ecfg\n",
      "(2,) & (2,)\n",
      "etymd\n",
      "(11,) & (11,)\n",
      "flbmk\n",
      "(2,) & (2,)\n",
      "flg_3dsmk\n",
      "(2,) & (2,)\n",
      "hcefg\n",
      "(9,) & (10,)\n",
      "insfg\n",
      "(2,) & (2,)\n",
      "iterm\n",
      "(9,) & (9,)\n",
      "locdt\n",
      "(90,) & (120,)\n",
      "mcc\n",
      "(434,) & (460,)\n",
      "mchno\n",
      "(89299,) & (102766,)\n",
      "ovrlt\n",
      "(2,) & (2,)\n",
      "scity\n",
      "(5697,) & (6646,)\n",
      "stocn\n",
      "(103,) & (109,)\n",
      "stscd\n",
      "(5,) & (5,)\n",
      "loctm_hour\n",
      "(24,) & (24,)\n",
      "loctm_min\n",
      "(60,) & (60,)\n",
      "loctm_sec\n",
      "(60,) & (60,)\n",
      "conam_is_0\n",
      "(2,) & (2,)\n",
      "bacno_u_cnt_by_acqic\n",
      "(259,) & (259,)\n",
      "conam_level\n",
      "(4,) & (4,)\n",
      "loctm_value_counts\n",
      "(80,) & (80,)\n",
      "loctm_hour_value_counts\n",
      "(24,) & (24,)\n",
      "csmcu_cnt_by_stocn\n",
      "(20,) & (20,)\n",
      "csmcu_cnt_by_scity\n",
      "(19,) & (19,)\n",
      "csmcu_ucnt_by_bacno\n",
      "(15,) & (15,)\n",
      "bacno_value_counts\n",
      "(233,) & (236,)\n",
      "cano_value_counts\n",
      "(191,) & (195,)\n",
      "mchno_value_counts\n",
      "(774,) & (774,)\n",
      "acqic_value_counts\n",
      "(310,) & (310,)\n",
      "mcc_value_counts\n",
      "(228,) & (228,)\n",
      "ecfg_value_counts\n",
      "(2,) & (2,)\n",
      "insfg_value_counts\n",
      "(2,) & (2,)\n",
      "contp_value_counts\n",
      "(7,) & (7,)\n",
      "etymd_value_counts\n",
      "(11,) & (11,)\n",
      "stocn_value_counts\n",
      "(73,) & (74,)\n",
      "scity_value_counts\n",
      "(304,) & (304,)\n",
      "stscd_value_counts\n",
      "(5,) & (5,)\n",
      "ovrlt_value_counts\n",
      "(2,) & (2,)\n",
      "flbmk_value_counts\n",
      "(2,) & (2,)\n",
      "hcefg_value_counts\n",
      "(9,) & (10,)\n",
      "csmcu_value_counts\n",
      "(56,) & (56,)\n",
      "flg_3dsmk_value_counts\n",
      "(2,) & (2,)\n",
      "prime_time_normal\n",
      "(2,) & (2,)\n",
      "prime_time_fraud\n",
      "(2,) & (2,)\n",
      "sleep_time\n",
      "(2,) & (2,)\n",
      "sleep_time_conam_lower_3000\n",
      "(2,) & (2,)\n",
      "prime_time_fraud_conam_lower_3000\n",
      "(2,) & (2,)\n",
      "conam_mean_by_bacno\n",
      "(87764,) & (137864,)\n",
      "conam_mean_by_cano\n",
      "(111210,) & (165398,)\n",
      "conam_mean_by_mchno\n",
      "(65715,) & (71301,)\n",
      "conam_mean_by_acqic\n",
      "(2035,) & (2213,)\n",
      "conam_mean_by_mcc\n",
      "(429,) & (455,)\n",
      "conam_mean_by_contp\n",
      "(7,) & (7,)\n",
      "conam_mean_by_etymd\n",
      "(11,) & (11,)\n",
      "conam_mean_by_iterm\n",
      "(9,) & (9,)\n",
      "conam_mean_by_loctm_hour\n",
      "(24,) & (24,)\n",
      "conam_mean_by_loctm_min\n",
      "(60,) & (60,)\n",
      "conam_mean_by_loctm_sec\n",
      "(60,) & (60,)\n",
      "conam_mean_by_stocn\n",
      "(103,) & (109,)\n",
      "conam_mean_by_scity\n",
      "(5524,) & (6404,)\n",
      "conam_mean_by_stscd\n",
      "(5,) & (5,)\n",
      "conam_mean_by_csmcu\n",
      "(72,) & (76,)\n",
      "conam_mean_by_locdt\n",
      "(90,) & (120,)\n",
      "mchno_uique_count_by_bacno\n",
      "(123,) & (123,)\n",
      "conam_uique_count_by_bacno\n",
      "(195,) & (195,)\n",
      "acqic_uique_count_by_bacno\n",
      "(55,) & (55,)\n",
      "mcc_uique_count_by_bacno\n",
      "(55,) & (55,)\n",
      "scity_uique_count_by_bacno\n",
      "(65,) & (65,)\n",
      "stscd_uique_count_by_bacno\n",
      "(3,) & (3,)\n",
      "csmcu_uique_count_by_bacno\n",
      "(15,) & (15,)\n",
      "bacno_cano_mcc_acqic_cnt_by_locdt\n",
      "(24,) & (48,)\n",
      "bacon_cano_cnt\n",
      "(191,) & (195,)\n",
      "bacno_cano_loctm_uique_count\n",
      "(24,) & (24,)\n",
      "bacno_cano_14_rolling_times_prime_time_fraud_cnt\n",
      "(11,) & (11,)\n",
      "bacno_cano_10_times_sleep_time_cnt\n",
      "(11,) & (11,)\n",
      "bacno_cano_10_sleep_time_conam_lower_3000_cnt\n",
      "(11,) & (11,)\n",
      "bacno_cano_10_prime_time_fraud_conam_lower_3000_cnt\n",
      "(11,) & (11,)\n",
      "bacno_cano_no_recent_10_conam_pos_trend\n",
      "(774927,) & (911361,)\n",
      "bacno_cano_no_recent_7_loctm_diff\n",
      "(435901,) & (499362,)\n",
      "bacno_cano_no_recent_10_ecfg_sum\n",
      "(11,) & (11,)\n",
      "bacno_cnt_by_locdt\n",
      "(52,) & (67,)\n",
      "bacno_cnt_by_locdt_mchno\n",
      "(49,) & (50,)\n",
      "bacno_cnt_by_locdt_conam\n",
      "(48,) & (48,)\n",
      "bacno_cnt_by_locdt_acqic\n",
      "(32,) & (32,)\n",
      "bacno_cnt_by_locdt_mcc\n",
      "(33,) & (33,)\n",
      "bacno_cnt_by_locdt_scity\n",
      "(45,) & (45,)\n",
      "bacno_cnt_by_locdt_stscd\n",
      "(3,) & (3,)\n",
      "bacno_cnt_by_locdt_csmcu\n",
      "(14,) & (14,)\n",
      "bacno_cnt_by_locdt_loctm_hour\n",
      "(49,) & (54,)\n",
      "bacno_cnt_each_hour\n",
      "(86,) & (99,)\n",
      "conam_cnt_each_hour\n",
      "(535,) & (535,)\n",
      "cano_cnt_each_hour\n",
      "(86,) & (99,)\n",
      "mchno_cnt_each_hour\n",
      "(668,) & (668,)\n",
      "acqic_cnt_each_hour\n",
      "(835,) & (835,)\n",
      "mcc_cnt_each_hour\n",
      "(943,) & (943,)\n",
      "scity_cnt_each_hour\n",
      "(682,) & (682,)\n",
      "stscd_cnt_each_hour\n",
      "(69,) & (69,)\n",
      "csmcu_cnt_each_hour\n",
      "(274,) & (274,)\n",
      "mchno_cnt_by_locdt_loctm_hour\n",
      "(283,) & (327,)\n",
      "acqic_cnt_by_locdt_loctm_hour\n",
      "(397,) & (421,)\n",
      "conam_cnt_by_locdt_loctm_hour\n",
      "(213,) & (234,)\n",
      "mcc_cnt_by_locdt_loctm_hour\n",
      "(413,) & (438,)\n",
      "scity_cnt_by_locdt_loctm_hour\n",
      "(692,) & (750,)\n",
      "stscd_cnt_by_locdt_loctm_hour\n",
      "(1054,) & (1172,)\n",
      "csmcu_cnt_by_locdt_loctm_hour\n",
      "(992,) & (1080,)\n",
      "conam_is_0_cnt_by_bacno\n",
      "(55,) & (57,)\n",
      "conam_mean_by_train_test_acqic\n",
      "(1960,) & (3203,)\n",
      "acqic_mcc_counts\n",
      "(713,) & (713,)\n"
     ]
    }
   ],
   "source": [
    "for col in X.columns:\n",
    "    print(col)\n",
    "    print(X[col].unique().shape, \"&\", all_features[col].unique().shape)"
   ]
  },
  {
   "cell_type": "markdown",
   "metadata": {},
   "source": [
    "### 將一些基數過高的特徵離散化或移除 & 有時間相關因子就刪掉"
   ]
  },
  {
   "cell_type": "code",
   "execution_count": 7,
   "metadata": {
    "ExecuteTime": {
     "end_time": "2019-11-18T14:05:03.968085Z",
     "start_time": "2019-11-18T14:05:02.286338Z"
    },
    "scrolled": true
   },
   "outputs": [],
   "source": [
    "del all_features[\"locdt\"]\n",
    "del all_features['flg_3dsmk_value_counts']\n",
    "del all_features['flbmk_value_counts']\n",
    "del all_features['hcefg_value_counts']\n",
    "del all_features['ecfg_value_counts']\n",
    "del all_features['ovrlt_value_counts']\n",
    "del all_features['insfg_value_counts']\n",
    "# del all_features['conam_mean_by_loctm_hour']\n",
    "# del all_features['conam_mean_by_loctm_min']\n",
    "# del all_features['conam_mean_by_loctm_sec']\n",
    "# del all_features[\"bacno_cano_10_prime_time_fraud_conam_lower_3000_cnt\"]\n",
    "# del all_features[\"prime_time_fraud_conam_lower_3000\"]\n",
    "# del all_features[\"hcefg\"]\n",
    "# del all_features[\"ovrlt\"]\n",
    "# del all_features[\"insfg\"]\n",
    "# del all_features[\"acqic\"]\n",
    "# del all_features[\"bacno\"]\n",
    "# del all_features[\"cano\"]\n",
    "# del all_features[\"contp\"]\n",
    "# del all_features[\"csmcu\"]\n",
    "# del all_features[\"ecfg\"]\n",
    "# del all_features[\"etymd\"]\n",
    "# del all_features[\"scity\"]\n",
    "# del all_features[\"stocn\"]\n",
    "# del all_features[\"mcc\"]\n",
    "# del all_features[\"mchno\"]\n",
    "\n",
    "# 這裡\n",
    "del all_features[\"conam_mean_by_train_test_acqic\"]\n",
    "\n",
    "del all_features[\"loctm_value_counts\"]\n",
    "del all_features[\"loctm_hour_value_counts\"]\n",
    "del all_features['loctm_sec']\n",
    "\n",
    "\n",
    "## 去掉交叉特徵 --> 沒用\n",
    "# for col in ['bacno_cano','bacno_mchno','bacno_acqic','bacno_mcc','bacno_scity','bacno_stscd','bacno_csmcu','cano_mchno','cano_acqic','cano_mcc',\n",
    "#  'cano_scity','cano_stscd','cano_csmcu','mchno_acqic','mchno_mcc','mchno_scity','mchno_stscd','mchno_csmcu','acqic_mcc','acqic_scity',\n",
    "#  'acqic_stscd','acqic_csmcu','mcc_scity','mcc_stscd','mcc_csmcu','scity_stscd','scity_csmcu','stscd_csmcu']:\n",
    "#     del all_features[col]\n",
    "\n",
    "## 去掉不小心重複放的特徵\n",
    "# del all_features[\"mchno_cnt_by_locdt_loctm_hour_y\"]\n",
    "# del all_features[\"acqic_cnt_by_locdt_loctm_hour_y\"]\n",
    "# del all_features[\"conam_cnt_by_locdt_loctm_hour_y\"]\n",
    "# del all_features[\"mcc_cnt_by_locdt_loctm_hour_y\"]\n",
    "# del all_features[\"scity_cnt_by_locdt_loctm_hour_y\"]\n",
    "# del all_features[\"stscd_cnt_by_locdt_loctm_hour_y\"]\n",
    "# del all_features[\"csmcu_cnt_by_locdt_loctm_hour_y\"]\n",
    "\n",
    "# repeat_cols = [\"mchno_cnt_by_locdt_loctm_hour_x\", \"acqic_cnt_by_locdt_loctm_hour_x\", \"conam_cnt_by_locdt_loctm_hour_x\",\n",
    "#               \"mcc_cnt_by_locdt_loctm_hour_x\", \"scity_cnt_by_locdt_loctm_hour_x\", \"stscd_cnt_by_locdt_loctm_hour_x\",\n",
    "#               \"csmcu_cnt_by_locdt_loctm_hour_x\"]\n",
    "# for col in repeat_cols:\n",
    "#     all_features.rename(columns={col: col[:-2]}, inplace=True)\n",
    "\n",
    "# del all_features[\"bacno_cano_recent_no_5_loctm_acc_min_diff\"]\n",
    "# del all_features[\"bacno_cano_no_mean_loctm_acc_min_diff\"]\n",
    "# del all_features[\"bacno_cano_7_times_conam_max_by_no\"]\n",
    "# rolling系列先不要\n",
    "# del all_features[\"bacno_cano_conam_rolling_3_window_mean\"]\n",
    "# del all_features[\"bacno_cano_conam_rolling_7_window_sum\"]\n",
    "# del all_features[\"bacno_cano_conam_cumsum_mean\"]\n",
    "# del all_features[\"bacno_cano_conam_rolling_14_window_max\"]\n",
    "\n",
    "# # all_features[\"bacno_cano_conam_rolling_3_window_mean\"] = pd.cut(all_features[\"bacno_cano_conam_rolling_3_window_mean\"], 30000, labels=False)\n",
    "# # all_features[\"bacno_cano_conam_rolling_7_window_mean\"] = pd.cut(all_features[\"bacno_cano_conam_rolling_7_window_mean\"], 20000, labels=False)\n",
    "\n",
    "# # all_features[\"bacno_cano_no_recent_7_conam_pos_trend\"] = pd.cut(all_features[\"bacno_cano_no_recent_7_conam_pos_trend\"], 20000, labels=False)\n",
    "# all_features[\"bacno_cano_min_diff_latter\"] = pd.cut(all_features[\"bacno_cano_min_diff_latter\"], 10000, labels=False)\n",
    "# all_features[\"bacno_cano_recent_no_5_loctm_acc_min_diff\"] = pd.cut(all_features[\"bacno_cano_recent_no_5_loctm_acc_min_diff\"], 10000, labels=False)"
   ]
  },
  {
   "cell_type": "code",
   "execution_count": 6,
   "metadata": {
    "ExecuteTime": {
     "end_time": "2019-09-29T17:04:46.840242Z",
     "start_time": "2019-09-29T17:04:46.767927Z"
    },
    "scrolled": true
   },
   "outputs": [],
   "source": [
    "# # bacno_cano_sec_diff_latter & bacno_cano_no_14_loctm_acc_sec_diff --> 可能overfitting\n",
    "# # 去除cumsum系列，感覺會有overfitting嫌疑\n",
    "\n",
    "# # 每個帳戶&卡號消費習慣可能不同 --> 相加起來去比較可能有問題?\n",
    "# del_cols = ['bacno_cano_3_times_conam_sum', 'bacno_cano_7_times_conam_sum', 'bacno_cano_7_times_conam_mean', \n",
    "#             'bacno_cano_7_times_conam_max', 'bacno_cano_14_times_conam_mean'] + \\\n",
    "# [\"bacno_cano_conam_cumsum\", \"bacno_cano_conam_cumsum_mean\"] + \\\n",
    "# [\"bacno_cano_conam_rolling_7_window_sum\", \"bacno_cano_conam_rolling_7_window_mean\",\n",
    "#  \"bacno_cano_conam_rolling_14_window_sum\", \"bacno_cano_sec_diff_latter\"] + \\\n",
    "# [\"bacno_cano_no_all_conam_pos_trend\"] + \\\n",
    "# [\"bacno_cano_14_times_conam_sum_by_no\", \"bacno_cano_7_times_conam_sum_by_no\", \"bacno_cano_7_times_conam_max_by_no\",\n",
    "#  \"bacno_cano_conam_rolling_3_window_sum\", \"bacno_cano_conam_rolling_3_window_mean\"] + \\\n",
    "# [\"bacno_cano_no_14_loctm_acc_sec_diff\"]\n",
    "\n",
    "# for col in del_cols:\n",
    "#     try:\n",
    "#         del all_features[col]\n",
    "#         # del X_test[col]\n",
    "#     except Exception as e:\n",
    "#         print(e)"
   ]
  },
  {
   "cell_type": "code",
   "execution_count": 8,
   "metadata": {
    "ExecuteTime": {
     "end_time": "2019-10-12T18:01:34.225873Z",
     "start_time": "2019-10-12T18:01:34.222648Z"
    }
   },
   "outputs": [],
   "source": [
    "# for col in all_features.columns:\n",
    "#     print(col)\n",
    "#     print(all_features[col].unique().shape)"
   ]
  },
  {
   "cell_type": "code",
   "execution_count": 8,
   "metadata": {
    "ExecuteTime": {
     "end_time": "2019-11-14T13:40:57.036396Z",
     "start_time": "2019-11-14T13:40:57.030883Z"
    }
   },
   "outputs": [
    {
     "data": {
      "text/plain": [
       "['acqic',\n",
       " 'bacno',\n",
       " 'cano',\n",
       " 'conam',\n",
       " 'contp',\n",
       " 'csmcu',\n",
       " 'ecfg',\n",
       " 'etymd',\n",
       " 'flbmk',\n",
       " 'flg_3dsmk',\n",
       " 'hcefg',\n",
       " 'insfg',\n",
       " 'iterm',\n",
       " 'mcc',\n",
       " 'mchno',\n",
       " 'ovrlt',\n",
       " 'scity',\n",
       " 'stocn',\n",
       " 'stscd',\n",
       " 'loctm_hour',\n",
       " 'loctm_min',\n",
       " 'conam_is_0',\n",
       " 'bacno_u_cnt_by_acqic',\n",
       " 'conam_level',\n",
       " 'csmcu_cnt_by_stocn',\n",
       " 'csmcu_cnt_by_scity',\n",
       " 'csmcu_ucnt_by_bacno',\n",
       " 'bacno_value_counts',\n",
       " 'cano_value_counts',\n",
       " 'mchno_value_counts',\n",
       " 'acqic_value_counts',\n",
       " 'mcc_value_counts',\n",
       " 'contp_value_counts',\n",
       " 'etymd_value_counts',\n",
       " 'stocn_value_counts',\n",
       " 'scity_value_counts',\n",
       " 'stscd_value_counts',\n",
       " 'csmcu_value_counts',\n",
       " 'prime_time_normal',\n",
       " 'prime_time_fraud',\n",
       " 'sleep_time',\n",
       " 'sleep_time_conam_lower_3000',\n",
       " 'prime_time_fraud_conam_lower_3000',\n",
       " 'conam_mean_by_bacno',\n",
       " 'conam_mean_by_cano',\n",
       " 'conam_mean_by_mchno',\n",
       " 'conam_mean_by_acqic',\n",
       " 'conam_mean_by_mcc',\n",
       " 'conam_mean_by_contp',\n",
       " 'conam_mean_by_etymd',\n",
       " 'conam_mean_by_iterm',\n",
       " 'conam_mean_by_stocn',\n",
       " 'conam_mean_by_scity',\n",
       " 'conam_mean_by_stscd',\n",
       " 'conam_mean_by_csmcu',\n",
       " 'conam_mean_by_locdt',\n",
       " 'mchno_uique_count_by_bacno',\n",
       " 'conam_uique_count_by_bacno',\n",
       " 'acqic_uique_count_by_bacno',\n",
       " 'mcc_uique_count_by_bacno',\n",
       " 'scity_uique_count_by_bacno',\n",
       " 'stscd_uique_count_by_bacno',\n",
       " 'csmcu_uique_count_by_bacno',\n",
       " 'bacno_cano_mcc_acqic_cnt_by_locdt',\n",
       " 'bacon_cano_cnt',\n",
       " 'bacno_cano_loctm_uique_count',\n",
       " 'bacno_cano_14_rolling_times_prime_time_fraud_cnt',\n",
       " 'bacno_cano_10_times_sleep_time_cnt',\n",
       " 'bacno_cano_10_sleep_time_conam_lower_3000_cnt',\n",
       " 'bacno_cano_no_recent_10_conam_pos_trend',\n",
       " 'bacno_cano_no_recent_7_loctm_diff',\n",
       " 'bacno_cano_no_recent_10_ecfg_sum',\n",
       " 'bacno_cnt_by_locdt',\n",
       " 'bacno_cnt_by_locdt_mchno',\n",
       " 'bacno_cnt_by_locdt_conam',\n",
       " 'bacno_cnt_by_locdt_acqic',\n",
       " 'bacno_cnt_by_locdt_mcc',\n",
       " 'bacno_cnt_by_locdt_scity',\n",
       " 'bacno_cnt_by_locdt_stscd',\n",
       " 'bacno_cnt_by_locdt_csmcu',\n",
       " 'bacno_cnt_by_locdt_loctm_hour',\n",
       " 'bacno_cnt_each_hour',\n",
       " 'conam_cnt_each_hour',\n",
       " 'cano_cnt_each_hour',\n",
       " 'mchno_cnt_each_hour',\n",
       " 'acqic_cnt_each_hour',\n",
       " 'mcc_cnt_each_hour',\n",
       " 'scity_cnt_each_hour',\n",
       " 'stscd_cnt_each_hour',\n",
       " 'csmcu_cnt_each_hour',\n",
       " 'mchno_cnt_by_locdt_loctm_hour',\n",
       " 'acqic_cnt_by_locdt_loctm_hour',\n",
       " 'conam_cnt_by_locdt_loctm_hour',\n",
       " 'mcc_cnt_by_locdt_loctm_hour',\n",
       " 'scity_cnt_by_locdt_loctm_hour',\n",
       " 'stscd_cnt_by_locdt_loctm_hour',\n",
       " 'csmcu_cnt_by_locdt_loctm_hour',\n",
       " 'conam_is_0_cnt_by_bacno',\n",
       " 'acqic_mcc_counts']"
      ]
     },
     "execution_count": 8,
     "metadata": {},
     "output_type": "execute_result"
    }
   ],
   "source": [
    "all_features.columns.values.tolist()"
   ]
  },
  {
   "cell_type": "code",
   "execution_count": 8,
   "metadata": {
    "ExecuteTime": {
     "end_time": "2019-11-18T14:05:13.810472Z",
     "start_time": "2019-11-18T14:05:12.995363Z"
    }
   },
   "outputs": [
    {
     "name": "stdout",
     "output_type": "stream",
     "text": [
      "(1461618, 103)\n",
      "(421665, 103)\n"
     ]
    }
   ],
   "source": [
    "# del all_features[\"bacno_cano_14_rolling_times_prime_time_fraud_cnt\"]\n",
    "# del all_features[\"bacno_cano_min_diff_latter\"]\n",
    "\n",
    "X = all_features[:-len(X_test)]\n",
    "X_test = all_features[-len(X_test):]\n",
    "print(X.shape)\n",
    "print(X_test.shape)"
   ]
  },
  {
   "cell_type": "code",
   "execution_count": 19,
   "metadata": {
    "ExecuteTime": {
     "end_time": "2019-09-30T14:17:40.551025Z",
     "start_time": "2019-09-30T14:17:40.546497Z"
    }
   },
   "outputs": [],
   "source": [
    "# 高基數category\n",
    "# high_cacol = []\n",
    "# for col in [\"bacno_cano_conam_rolling_3_window_mean\",\n",
    "# \"bacno_cano_conam_rolling_7_window_mean\",\n",
    "# \"bacno_cano_no_recent_7_conam_pos_trend\",\n",
    "# \"bacno_cano_min_diff_latter\",\n",
    "# \"bacno_cano_recent_no_5_loctm_acc_min_diff\"]:\n",
    "#     high_cacol.append(col)"
   ]
  },
  {
   "cell_type": "markdown",
   "metadata": {},
   "source": [
    "### Drop bacno, cano"
   ]
  },
  {
   "cell_type": "code",
   "execution_count": 10,
   "metadata": {
    "ExecuteTime": {
     "end_time": "2019-11-14T13:41:00.590352Z",
     "start_time": "2019-11-14T13:41:00.587963Z"
    }
   },
   "outputs": [],
   "source": [
    "# X.drop([\"bacno\", \"cano\"], axis=1, inplace=True)\n",
    "# X_test.drop([\"bacno\", \"cano\"], axis=1, inplace=True)\n",
    "\n",
    "# print(X.shape)\n",
    "# print(X_test.shape)"
   ]
  },
  {
   "cell_type": "markdown",
   "metadata": {
    "ExecuteTime": {
     "end_time": "2019-09-12T14:53:26.970238Z",
     "start_time": "2019-09-12T14:53:26.962456Z"
    }
   },
   "source": [
    "### 盜刷比例"
   ]
  },
  {
   "cell_type": "code",
   "execution_count": 9,
   "metadata": {
    "ExecuteTime": {
     "end_time": "2019-11-18T14:06:00.448956Z",
     "start_time": "2019-11-18T14:06:00.415085Z"
    }
   },
   "outputs": [
    {
     "name": "stdout",
     "output_type": "stream",
     "text": [
      "No Frauds: 98.9 % of the dataset\n",
      "Frauds: 1.1 % of the dataset\n"
     ]
    }
   ],
   "source": [
    "print('No Frauds:', round(train_raw['fraud_ind'].value_counts()[0]/len(train_raw) * 100,2), '% of the dataset')\n",
    "print('Frauds:', round(train_raw['fraud_ind'].value_counts()[1]/len(train_raw) * 100,2), '% of the dataset')"
   ]
  },
  {
   "cell_type": "markdown",
   "metadata": {},
   "source": [
    "### Cross Validation"
   ]
  },
  {
   "cell_type": "code",
   "execution_count": 21,
   "metadata": {
    "ExecuteTime": {
     "end_time": "2019-09-30T14:17:57.021978Z",
     "start_time": "2019-09-30T14:17:57.018639Z"
    }
   },
   "outputs": [
    {
     "name": "stdout",
     "output_type": "stream",
     "text": [
      "dict_keys(['explained_variance', 'r2', 'neg_median_absolute_error', 'neg_mean_absolute_error', 'neg_mean_squared_error', 'neg_mean_squared_log_error', 'accuracy', 'roc_auc', 'balanced_accuracy', 'average_precision', 'neg_log_loss', 'brier_score_loss', 'adjusted_rand_score', 'homogeneity_score', 'completeness_score', 'v_measure_score', 'mutual_info_score', 'adjusted_mutual_info_score', 'normalized_mutual_info_score', 'fowlkes_mallows_score', 'precision', 'precision_macro', 'precision_micro', 'precision_samples', 'precision_weighted', 'recall', 'recall_macro', 'recall_micro', 'recall_samples', 'recall_weighted', 'f1', 'f1_macro', 'f1_micro', 'f1_samples', 'f1_weighted'])\n"
     ]
    }
   ],
   "source": [
    "from sklearn import metrics\n",
    "print(metrics.SCORERS.keys())"
   ]
  },
  {
   "cell_type": "code",
   "execution_count": 8,
   "metadata": {
    "ExecuteTime": {
     "end_time": "2019-10-13T16:09:58.154009Z",
     "start_time": "2019-10-13T16:08:38.016431Z"
    }
   },
   "outputs": [
    {
     "data": {
      "text/plain": [
       "array([0.5813709 , 0.62352537, 0.5988024 , 0.59788479])"
      ]
     },
     "execution_count": 8,
     "metadata": {},
     "output_type": "execute_result"
    }
   ],
   "source": [
    "lgb = LGBMClassifier()\n",
    "scores = cross_val_score(lgb, X, y, cv=4, scoring='f1')\n",
    "\n",
    "# return array of scores of the estimator for each run of the cross validation.\n",
    "scores"
   ]
  },
  {
   "cell_type": "markdown",
   "metadata": {},
   "source": [
    "### Feature Type"
   ]
  },
  {
   "cell_type": "markdown",
   "metadata": {
    "ExecuteTime": {
     "end_time": "2019-10-12T16:30:03.025735Z",
     "start_time": "2019-10-12T16:30:03.016002Z"
    },
    "scrolled": true
   },
   "source": [
    "##### X.columns"
   ]
  },
  {
   "cell_type": "code",
   "execution_count": 10,
   "metadata": {
    "ExecuteTime": {
     "end_time": "2019-11-18T14:06:07.040576Z",
     "start_time": "2019-11-18T14:06:07.035784Z"
    }
   },
   "outputs": [],
   "source": [
    "# \"bacno\", \"cano\", \n",
    "cat_colnames = [\"bacno\", \"cano\", \"mchno\", \"acqic\", \"mcc\", \"ecfg\", \"insfg\", \"contp\", 'etymd',\n",
    "                \"stocn\", \"scity\", \"stscd\", \"ovrlt\", \"flbmk\", \"hcefg\", \"csmcu\", \"flg_3dsmk\"] # + high_cacol\n",
    "numeric_colnames = [\"loctm\", \"conam\", \"iterm\", \"loctm_value_counts\", \"locdt_value_counts\"]\n",
    "bi_gram_cols = ['bacno_cano',\n",
    " 'bacno_mchno', 'bacno_acqic', 'bacno_mcc', 'bacno_scity','bacno_stscd', 'bacno_csmcu', 'cano_mchno', 'cano_acqic',\n",
    " 'cano_mcc', 'cano_scity','cano_stscd','cano_csmcu','mchno_acqic','mchno_mcc','mchno_scity','mchno_stscd','mchno_csmcu',\n",
    "'acqic_mcc','acqic_scity','acqic_stscd','acqic_csmcu','mcc_scity','mcc_stscd','mcc_csmcu','scity_stscd','scity_csmcu',\n",
    "'stscd_csmcu']"
   ]
  },
  {
   "cell_type": "code",
   "execution_count": 11,
   "metadata": {
    "ExecuteTime": {
     "end_time": "2019-11-18T14:06:13.528671Z",
     "start_time": "2019-11-18T14:06:13.519019Z"
    },
    "scrolled": true
   },
   "outputs": [
    {
     "name": "stdout",
     "output_type": "stream",
     "text": [
      "contp\n",
      "etymd\n",
      "hcefg\n",
      "iterm\n",
      "stscd\n"
     ]
    },
    {
     "data": {
      "text/plain": [
       "['bacno',\n",
       " 'cano',\n",
       " 'mchno',\n",
       " 'acqic',\n",
       " 'mcc',\n",
       " 'ecfg',\n",
       " 'insfg',\n",
       " 'contp',\n",
       " 'etymd',\n",
       " 'stocn',\n",
       " 'scity',\n",
       " 'stscd',\n",
       " 'ovrlt',\n",
       " 'flbmk',\n",
       " 'hcefg',\n",
       " 'csmcu',\n",
       " 'flg_3dsmk',\n",
       " 'contp',\n",
       " 'etymd',\n",
       " 'hcefg',\n",
       " 'iterm',\n",
       " 'stscd']"
      ]
     },
     "execution_count": 11,
     "metadata": {},
     "output_type": "execute_result"
    }
   ],
   "source": [
    "for col in X.columns.values.tolist():\n",
    "    if col.split(\"_\")[0] in [\"contp\", \"etymd\", \"iterm\", \"stscd\", \"hcefg\"] and (len(col) < (len(col.split(\"_\")[0]) + 3)):\n",
    "        print(col)\n",
    "        cat_colnames.append(col)\n",
    "    if col in bi_gram_cols:\n",
    "        print(col)\n",
    "        cat_colnames.append(col)\n",
    "cat_colnames"
   ]
  },
  {
   "cell_type": "code",
   "execution_count": 12,
   "metadata": {
    "ExecuteTime": {
     "end_time": "2019-11-18T14:06:25.227397Z",
     "start_time": "2019-11-18T14:06:20.017833Z"
    },
    "scrolled": true
   },
   "outputs": [
    {
     "name": "stdout",
     "output_type": "stream",
     "text": [
      "bacno\n",
      "category\n",
      "cano\n",
      "category\n",
      "mchno\n",
      "category\n",
      "acqic\n",
      "category\n",
      "mcc\n",
      "category\n",
      "ecfg\n",
      "category\n",
      "insfg\n",
      "category\n",
      "contp\n",
      "category\n",
      "etymd\n",
      "category\n",
      "stocn\n",
      "category\n",
      "scity\n",
      "category\n",
      "stscd\n",
      "category\n",
      "ovrlt\n",
      "category\n",
      "flbmk\n",
      "category\n",
      "hcefg\n",
      "category\n",
      "csmcu\n",
      "category\n",
      "flg_3dsmk\n",
      "category\n",
      "contp\n",
      "category\n",
      "etymd\n",
      "category\n",
      "hcefg\n",
      "category\n",
      "iterm\n",
      "category\n",
      "stscd\n",
      "category\n"
     ]
    }
   ],
   "source": [
    "# Your data contains string(?) values. You should set categorical columns in pandas to treat them properly. \n",
    "# After that there is no need to pass them again in categorical_feature param. \n",
    "model_type = 'lgb'\n",
    "for col in cat_colnames:\n",
    "    # for catboost\n",
    "    if model_type == 'cat':\n",
    "        try:\n",
    "            X[col] = X[col].astype('str')\n",
    "            X_test[col] = X_test[col].astype('str')\n",
    "            print(col)\n",
    "            print(X[col].dtype)\n",
    "        except Exception:\n",
    "            print(\"No \", col, \" exists\")\n",
    "    else:\n",
    "        try:\n",
    "            X[col] = X[col].astype('category')\n",
    "            X_test[col] = X_test[col].astype('category')\n",
    "            print(col)\n",
    "            print(X[col].dtype)\n",
    "        except Exception:\n",
    "            print(\"No \", col, \" exists\")\n",
    "# X['city_town'] = X['city_town'].astype('str')"
   ]
  },
  {
   "cell_type": "markdown",
   "metadata": {},
   "source": [
    "### Train Test Split"
   ]
  },
  {
   "cell_type": "code",
   "execution_count": 13,
   "metadata": {
    "ExecuteTime": {
     "end_time": "2019-11-18T14:06:34.381559Z",
     "start_time": "2019-11-18T14:06:32.343183Z"
    }
   },
   "outputs": [
    {
     "name": "stdout",
     "output_type": "stream",
     "text": [
      "Train: [ 361384  361385  361386 ... 1461615 1461616 1461617] Test: [      0       1       2 ... 1449552 1449553 1449554]\n",
      "Train: [      0       1       2 ... 1461615 1461616 1461617] Test: [ 361384  361385  361386 ... 1453573 1453574 1453575]\n",
      "Train: [      0       1       2 ... 1461615 1461616 1461617] Test: [ 722768  722769  722770 ... 1457594 1457595 1457596]\n",
      "Train: [      0       1       2 ... 1457594 1457595 1457596] Test: [1084151 1084152 1084153 ... 1461615 1461616 1461617]\n"
     ]
    }
   ],
   "source": [
    "# shuffle一下\n",
    "# perm = np.random.permutation(len(X)) \n",
    "# X = X.iloc[perm].reset_index(drop=True) \n",
    "# y = y.iloc[perm].reset_index(drop=True)\n",
    "\n",
    "# Seed = 111\n",
    "sss = StratifiedKFold(n_splits=4, random_state=111, shuffle=False)\n",
    "\n",
    "for train_index, test_index in sss.split(X, y):\n",
    "    print(\"Train:\", train_index, \"Test:\", test_index)\n",
    "    X_train, X_val = X.iloc[train_index], X.iloc[test_index]\n",
    "    y_train, y_val = y.iloc[train_index], y.iloc[test_index]"
   ]
  },
  {
   "cell_type": "markdown",
   "metadata": {},
   "source": [
    "### 整個train或切0.75"
   ]
  },
  {
   "cell_type": "code",
   "execution_count": 14,
   "metadata": {
    "ExecuteTime": {
     "end_time": "2019-11-18T14:06:44.432297Z",
     "start_time": "2019-11-18T14:06:44.428219Z"
    }
   },
   "outputs": [
    {
     "name": "stdout",
     "output_type": "stream",
     "text": [
      "(1096214, 103)\n",
      "(1096214,)\n",
      "(365404, 103)\n",
      "(365404,)\n"
     ]
    }
   ],
   "source": [
    "# X_train = X\n",
    "# y_train = y\n",
    "\n",
    "print(X_train.shape)\n",
    "print(y_train.shape)\n",
    "print(X_val.shape)\n",
    "print(y_val.shape)"
   ]
  },
  {
   "cell_type": "markdown",
   "metadata": {},
   "source": [
    "### Less important features"
   ]
  },
  {
   "cell_type": "code",
   "execution_count": 8,
   "metadata": {
    "ExecuteTime": {
     "end_time": "2019-10-10T17:34:02.469263Z",
     "start_time": "2019-10-10T17:34:02.466897Z"
    }
   },
   "outputs": [],
   "source": [
    "# less_important_features = ['hcefg', 'loctm_mean_by_flbmk', 'loctm_mean_by_insfg', 'conam_mean_by_insfg', 'conam_mean_by_flbmk',\n",
    "#  'loctm_mean_by_ecfg', 'conam_mean_by_flg_3dsmk', 'loctm_mean_by_flg_3dsmk', 'conam_mean_by_ovrlt', 'conam_mean_by_contp',\n",
    "#  'flbmk']\n",
    "# imp_ftrs = ~X_train.columns.isin(less_important_features)\n",
    "# imp_ftrs"
   ]
  },
  {
   "cell_type": "markdown",
   "metadata": {},
   "source": [
    "### eval_metric"
   ]
  },
  {
   "cell_type": "code",
   "execution_count": 26,
   "metadata": {
    "ExecuteTime": {
     "end_time": "2019-10-12T16:49:06.681857Z",
     "start_time": "2019-10-12T16:49:06.677099Z"
    }
   },
   "outputs": [],
   "source": [
    "def lgb_f1_score(y_true, y_hat):\n",
    "    # y_true = data  # .get_label()\n",
    "    # y_hat = np.round(y_hat) # scikits f1 doesn't like probabilities\n",
    "    # print(y_true, y_hat)\n",
    "    return 'f1', f1_score(y_true.round(0), y_hat.round(0), labels=np.unique(y_hat), average='binary'), True"
   ]
  },
  {
   "cell_type": "markdown",
   "metadata": {},
   "source": [
    "### Model Fitting"
   ]
  },
  {
   "cell_type": "markdown",
   "metadata": {},
   "source": [
    "##### TODO: scale_pos_weight"
   ]
  },
  {
   "cell_type": "code",
   "execution_count": 15,
   "metadata": {
    "ExecuteTime": {
     "end_time": "2019-11-18T14:06:54.488104Z",
     "start_time": "2019-11-18T14:06:54.482206Z"
    }
   },
   "outputs": [],
   "source": [
    "model_gbdt = LGBMClassifier(objective='binary',\n",
    "                             boosting_type='gbdt',\n",
    "                             num_leaves=31,  # < 2^max_depth\n",
    "                             reg_lambda=1,\n",
    "                             learning_rate=0.003,\n",
    "                             n_estimators=20000,\n",
    "                             # max_bin=200, # default=255\n",
    "                             bagging_fraction=0.8,\n",
    "                             # min_child_weight=200,\n",
    "                             # bagging_freq=5, \n",
    "                             # bagging_seed=7,\n",
    "                             feature_fraction=0.8,\n",
    "                             scale_pos_weight=2,\n",
    "                             random_state=111,\n",
    "                             # scale_pos_weight: for high class imbalance learning task parameters\n",
    "                             # sample_pos_weight = number of negative samples / number of positive samples\n",
    "                             # is_training_metric=True\n",
    "                             # is_unbalance=True\n",
    "                             # early_stopping_rounds=100\n",
    "                             # feature_fraction_seed=7\n",
    "                         )\n",
    "\n",
    "model_dart = LGBMClassifier(objective='binary', \n",
    "                             boosting_type='dart',\n",
    "                             num_leaves=31,  # < 2^max_depth\n",
    "                             reg_lambda=1,\n",
    "                             learning_rate=0.1,\n",
    "                             n_estimators=10000,  # 30000\n",
    "                             # max_bin=200, # default=255\n",
    "                             bagging_fraction=0.8,\n",
    "                             # bagging_freq=5, \n",
    "                             # bagging_seed=7,\n",
    "                             feature_fraction=0.9,\n",
    "                             # drop_rate=0.3,  # default=0.1\n",
    "                             max_drop=10,  # default=50, 每iteration最多丟掉幾顆樹\n",
    "                             skip_drop=0.6,  # default=0.5 每iteration決定dropout的機率\n",
    "                             # xgboost_dart_mode=True,  # default=False, 是否要用xgb的dart模式\n",
    "                             # uniform_drop=True,  # set this to true, if you want to use uniform drop\n",
    "                             # drop_seed=11,  # random seed to choose dropping models\n",
    "                             # early_stopping_rounds=100\n",
    "                             # feature_fraction_seed=7\n",
    "                         )"
   ]
  },
  {
   "cell_type": "code",
   "execution_count": 17,
   "metadata": {
    "ExecuteTime": {
     "end_time": "2019-11-18T15:54:25.541849Z",
     "start_time": "2019-11-18T15:07:19.500482Z"
    },
    "scrolled": true
   },
   "outputs": [
    {
     "name": "stdout",
     "output_type": "stream",
     "text": [
      "[250]\tvalid_0's binary_logloss: 0.0275856\tvalid_0's auc: 0.983113\n",
      "[500]\tvalid_0's binary_logloss: 0.0236569\tvalid_0's auc: 0.986278\n",
      "[750]\tvalid_0's binary_logloss: 0.0219206\tvalid_0's auc: 0.987901\n",
      "[1000]\tvalid_0's binary_logloss: 0.0207307\tvalid_0's auc: 0.988757\n",
      "[1250]\tvalid_0's binary_logloss: 0.019966\tvalid_0's auc: 0.989338\n",
      "[1500]\tvalid_0's binary_logloss: 0.019439\tvalid_0's auc: 0.989817\n",
      "[1750]\tvalid_0's binary_logloss: 0.0190423\tvalid_0's auc: 0.990109\n",
      "[2000]\tvalid_0's binary_logloss: 0.0187453\tvalid_0's auc: 0.990337\n",
      "[2250]\tvalid_0's binary_logloss: 0.0184835\tvalid_0's auc: 0.990515\n",
      "[2500]\tvalid_0's binary_logloss: 0.0182436\tvalid_0's auc: 0.990651\n",
      "[2750]\tvalid_0's binary_logloss: 0.0180478\tvalid_0's auc: 0.990773\n",
      "[3000]\tvalid_0's binary_logloss: 0.0178528\tvalid_0's auc: 0.990902\n",
      "[3250]\tvalid_0's binary_logloss: 0.0176863\tvalid_0's auc: 0.991024\n",
      "[3500]\tvalid_0's binary_logloss: 0.0175447\tvalid_0's auc: 0.991133\n",
      "[3750]\tvalid_0's binary_logloss: 0.0174166\tvalid_0's auc: 0.991224\n",
      "[4000]\tvalid_0's binary_logloss: 0.0172868\tvalid_0's auc: 0.991313\n",
      "[4250]\tvalid_0's binary_logloss: 0.0172017\tvalid_0's auc: 0.991368\n",
      "[4500]\tvalid_0's binary_logloss: 0.0171043\tvalid_0's auc: 0.991441\n",
      "[4750]\tvalid_0's binary_logloss: 0.0170188\tvalid_0's auc: 0.991489\n",
      "[5000]\tvalid_0's binary_logloss: 0.0169481\tvalid_0's auc: 0.991529\n",
      "[5250]\tvalid_0's binary_logloss: 0.016865\tvalid_0's auc: 0.991565\n",
      "[5500]\tvalid_0's binary_logloss: 0.0167993\tvalid_0's auc: 0.991595\n",
      "[5750]\tvalid_0's binary_logloss: 0.016751\tvalid_0's auc: 0.991619\n",
      "[6000]\tvalid_0's binary_logloss: 0.016689\tvalid_0's auc: 0.991653\n",
      "[6250]\tvalid_0's binary_logloss: 0.0166253\tvalid_0's auc: 0.991685\n",
      "[6500]\tvalid_0's binary_logloss: 0.0165697\tvalid_0's auc: 0.991707\n",
      "[6750]\tvalid_0's binary_logloss: 0.0165161\tvalid_0's auc: 0.991738\n",
      "[7000]\tvalid_0's binary_logloss: 0.0164625\tvalid_0's auc: 0.991765\n",
      "[7250]\tvalid_0's binary_logloss: 0.0164194\tvalid_0's auc: 0.991782\n",
      "[7500]\tvalid_0's binary_logloss: 0.0163777\tvalid_0's auc: 0.991797\n",
      "[7750]\tvalid_0's binary_logloss: 0.0163261\tvalid_0's auc: 0.99182\n",
      "[8000]\tvalid_0's binary_logloss: 0.0162847\tvalid_0's auc: 0.991837\n",
      "[8250]\tvalid_0's binary_logloss: 0.0162476\tvalid_0's auc: 0.991849\n",
      "[8500]\tvalid_0's binary_logloss: 0.0162127\tvalid_0's auc: 0.991867\n",
      "[8750]\tvalid_0's binary_logloss: 0.0161689\tvalid_0's auc: 0.991884\n",
      "[9000]\tvalid_0's binary_logloss: 0.0161349\tvalid_0's auc: 0.991902\n",
      "[9250]\tvalid_0's binary_logloss: 0.0161069\tvalid_0's auc: 0.991912\n",
      "[9500]\tvalid_0's binary_logloss: 0.016073\tvalid_0's auc: 0.99193\n",
      "[9750]\tvalid_0's binary_logloss: 0.0160397\tvalid_0's auc: 0.991942\n",
      "[10000]\tvalid_0's binary_logloss: 0.0160071\tvalid_0's auc: 0.991961\n",
      "[10250]\tvalid_0's binary_logloss: 0.0159739\tvalid_0's auc: 0.991973\n"
     ]
    }
   ],
   "source": [
    "import lightgbm as lgb\n",
    "\n",
    "print_callback = lgb.print_evaluation(period=250)\n",
    "\n",
    "result = model_gbdt.fit(X_train, y_train,\n",
    "              # eval_set=[(X_train, y_train)],\n",
    "              eval_set=[(X_val, y_val)],\n",
    "              eval_metric='auc',\n",
    "              # eval_metric=\"poisson\",\n",
    "              # eval_metric=lgb_f1_score,\n",
    "              # categorical_feature=categorical_feature_idx,\n",
    "              early_stopping_rounds=100,\n",
    "              verbose=0,\n",
    "              callbacks=[print_callback]\n",
    "             )\n",
    "# save model\n",
    "# joblib.dump(model_gbdt, 'pre_13_add_more_features.pkl')\n",
    "# load model\n",
    "# gbm_pickle = joblib.load('lgb.pkl')\n",
    "\n",
    "# result = model_dart.fit(X_train, y_train, \n",
    "#               eval_set=[(X_val, y_val)],\n",
    "#               eval_metric='auc',\n",
    "#               # categorical_feature=categorical_feature_idx,\n",
    "#               # early_stopping_rounds=100, # 在dart不能用，因為每一輪整個模型參數都會被更新\n",
    "#               verbose=0,\n",
    "\n",
    "\n",
    "\n",
    "#               callbacks=[print_callback]\n",
    "#              )"
   ]
  },
  {
   "cell_type": "code",
   "execution_count": 14,
   "metadata": {
    "ExecuteTime": {
     "end_time": "2019-10-13T01:13:30.198698Z",
     "start_time": "2019-10-13T01:13:27.550009Z"
    }
   },
   "outputs": [],
   "source": [
    "# model_gbdt = joblib.load('pre_13_add_more_features.pkl')"
   ]
  },
  {
   "cell_type": "code",
   "execution_count": 34,
   "metadata": {
    "ExecuteTime": {
     "end_time": "2019-11-10T02:33:29.799708Z",
     "start_time": "2019-11-10T02:33:29.797208Z"
    }
   },
   "outputs": [],
   "source": [
    "## F1-score\n",
    "pred = model_gbdt.predict(X_train)\n",
    "# label=1的precision, recall, f1-score/\n",
    "precision_recall_fscore_support(y_train, pred, pos_label=1, average='binary')\n",
    "# recall代表真的盜刷 -> 也預測到有盜刷\n",
    "# precision代表預測有盜刷 -> 真的有盜刷"
   ]
  },
  {
   "cell_type": "code",
   "execution_count": null,
   "metadata": {
    "ExecuteTime": {
     "start_time": "2019-09-24T16:53:57.050Z"
    },
    "scrolled": true
   },
   "outputs": [],
   "source": [
    "# pred_data = pd.concat([X_train.reset_index(drop=True), pd.Series(pred, name=\"pred\")], axis=1)\n",
    "# pred_data = pd.concat([pred_data, y_train.reset_index(drop=True)], axis=1)\n",
    "# pred_data\n",
    "# pred_data[\"pred\"] == pred_data[\"fraud_ind\"]\n",
    "\n",
    "# for col in pred_data.columns:\n",
    "#     if col in cat_colnames:\n",
    "#         pred_data[[col, \"pred\", \"fraud_ind\"]].groupby(col)[\"pred\", \"fraud_ind\"]"
   ]
  },
  {
   "cell_type": "code",
   "execution_count": null,
   "metadata": {
    "ExecuteTime": {
     "end_time": "2019-11-18T15:02:32.629720Z",
     "start_time": "2019-11-18T14:06:53.222Z"
    },
    "scrolled": false
   },
   "outputs": [],
   "source": [
    "print('Plotting feature importances...')\n",
    "plt.rcParams['figure.figsize'] = (10, 10)\n",
    "ax = lgb.plot_importance(model_gbdt, \n",
    "                         # figsize=(36, 72), \n",
    "                         max_num_features=30)\n",
    "plt.show()"
   ]
  },
  {
   "cell_type": "markdown",
   "metadata": {},
   "source": [
    "### Save Feature Importance"
   ]
  },
  {
   "cell_type": "code",
   "execution_count": null,
   "metadata": {
    "ExecuteTime": {
     "end_time": "2019-11-18T15:02:32.612999Z",
     "start_time": "2019-11-18T14:06:51.126Z"
    },
    "scrolled": true
   },
   "outputs": [],
   "source": [
    "booster = model_gbdt.booster_\n",
    "importance = booster.feature_importance(importance_type='split')\n",
    "feature_name = booster.feature_name()\n",
    "feature_importance = pd.DataFrame({'feature_name':feature_name,'importance':importance})\n",
    "feature_importance\n",
    "feature_importance.to_csv('importance_model_pre_31_drop_RE.csv',index=False)\n",
    "feature_importance.sort_values(\"importance\")"
   ]
  },
  {
   "cell_type": "markdown",
   "metadata": {},
   "source": [
    "### Delete less important features"
   ]
  },
  {
   "cell_type": "code",
   "execution_count": null,
   "metadata": {
    "ExecuteTime": {
     "start_time": "2019-10-04T05:00:09.201Z"
    },
    "scrolled": true
   },
   "outputs": [],
   "source": [
    "feature_importance = pd.read_csv('importance_model_pre_13_add_18_imp_ftrs.csv', index_col=None)\n",
    "less_important_features = feature_importance.sort_values(\"importance\")\n",
    "less_important_features = less_important_features[less_important_features[\"importance\"] < 500]['feature_name'].values.tolist()\n",
    "less_important_features"
   ]
  },
  {
   "cell_type": "code",
   "execution_count": 17,
   "metadata": {
    "ExecuteTime": {
     "end_time": "2019-09-29T17:06:26.558671Z",
     "start_time": "2019-09-29T17:06:26.554014Z"
    }
   },
   "outputs": [
    {
     "data": {
      "text/plain": [
       "array([ True,  True,  True,  True,  True,  True,  True,  True,  True,\n",
       "        True, False,  True,  True, False, False, False, False,  True,\n",
       "        True, False, False, False,  True,  True,  True, False, False,\n",
       "       False, False, False, False,  True, False, False, False, False,\n",
       "       False, False, False, False,  True,  True, False, False, False,\n",
       "        True,  True,  True, False, False, False, False,  True,  True,\n",
       "       False, False, False,  True,  True, False, False, False, False,\n",
       "       False, False, False,  True,  True,  True,  True, False, False,\n",
       "       False,  True,  True, False, False, False, False, False,  True,\n",
       "        True, False,  True, False,  True,  True,  True,  True,  True,\n",
       "        True,  True, False, False,  True,  True,  True, False, False,\n",
       "        True,  True,  True,  True, False, False,  True])"
      ]
     },
     "execution_count": 17,
     "metadata": {},
     "output_type": "execute_result"
    }
   ],
   "source": [
    "imp_ftrs = ~X_train.columns.isin(less_important_features)\n",
    "imp_ftrs"
   ]
  },
  {
   "cell_type": "code",
   "execution_count": 18,
   "metadata": {
    "ExecuteTime": {
     "end_time": "2019-09-29T17:59:18.452955Z",
     "start_time": "2019-09-29T17:06:34.271928Z"
    },
    "scrolled": true
   },
   "outputs": [
    {
     "name": "stdout",
     "output_type": "stream",
     "text": [
      "[500]\tvalid_0's binary_logloss: 0.0267076\tvalid_0's auc: 0.986897\n",
      "[1000]\tvalid_0's binary_logloss: 0.0227996\tvalid_0's auc: 0.989614\n",
      "[1500]\tvalid_0's binary_logloss: 0.0209376\tvalid_0's auc: 0.990947\n",
      "[2000]\tvalid_0's binary_logloss: 0.019866\tvalid_0's auc: 0.991658\n",
      "[2500]\tvalid_0's binary_logloss: 0.0191663\tvalid_0's auc: 0.992096\n",
      "[3000]\tvalid_0's binary_logloss: 0.0186506\tvalid_0's auc: 0.99241\n",
      "[3500]\tvalid_0's binary_logloss: 0.0182583\tvalid_0's auc: 0.992618\n",
      "[4000]\tvalid_0's binary_logloss: 0.0179256\tvalid_0's auc: 0.992762\n",
      "[4500]\tvalid_0's binary_logloss: 0.017624\tvalid_0's auc: 0.992896\n",
      "[5000]\tvalid_0's binary_logloss: 0.0173916\tvalid_0's auc: 0.992977\n",
      "[5500]\tvalid_0's binary_logloss: 0.0171781\tvalid_0's auc: 0.993062\n",
      "[6000]\tvalid_0's binary_logloss: 0.016994\tvalid_0's auc: 0.993113\n",
      "[6500]\tvalid_0's binary_logloss: 0.0168249\tvalid_0's auc: 0.993172\n",
      "[7000]\tvalid_0's binary_logloss: 0.0166736\tvalid_0's auc: 0.993213\n",
      "[7500]\tvalid_0's binary_logloss: 0.0165306\tvalid_0's auc: 0.993263\n"
     ]
    }
   ],
   "source": [
    "print_callback = lgb.print_evaluation(period=500)\n",
    "\n",
    "result = model_gbdt.fit(X_train.loc[:, imp_ftrs], y_train, \n",
    "              eval_set=[(X_val.loc[:, imp_ftrs], y_val)],\n",
    "              eval_metric='auc',\n",
    "              # categorical_feature=categorical_feature_idx,\n",
    "              early_stopping_rounds=100,\n",
    "              verbose=0,\n",
    "              callbacks=[print_callback]\n",
    "             )"
   ]
  },
  {
   "cell_type": "code",
   "execution_count": null,
   "metadata": {
    "ExecuteTime": {
     "start_time": "2019-09-29T16:31:17.535Z"
    }
   },
   "outputs": [],
   "source": [
    "## F1-score\n",
    "# pred = model_gbdt.predict(X_train)\n",
    "pred = model_gbdt.predict(X_train.loc[:, imp_ftrs])\n",
    "# label=1的precision, recall, f1-score\n",
    "precision_recall_fscore_support(y_train, pred, pos_label=1, average='binary')\n",
    "# recall代表真的盜刷 -> 也預測到有盜刷\n",
    "# precision代表預測有盜刷 -> 真的有盜刷"
   ]
  },
  {
   "cell_type": "markdown",
   "metadata": {},
   "source": [
    "### Predict\n",
    "TODO: 可試試看改thresholding"
   ]
  },
  {
   "cell_type": "code",
   "execution_count": 18,
   "metadata": {
    "ExecuteTime": {
     "end_time": "2019-11-18T16:04:41.343104Z",
     "start_time": "2019-11-18T15:58:09.226095Z"
    }
   },
   "outputs": [
    {
     "data": {
      "text/plain": [
       "6856"
      ]
     },
     "execution_count": 18,
     "metadata": {},
     "output_type": "execute_result"
    }
   ],
   "source": [
    "# test_pred = model_gbdt.predict(X_test.loc[:, imp_ftrs])\n",
    "test_pred = model_gbdt.predict(X_test)\n",
    "test_pred.sum()\n",
    "# model_gbdt = joblib.load(\"pre_14_no_bacno_cano.pkl\")\n",
    "# ans = model_gbdt.predict(X_test)\n",
    "# ans.sum()"
   ]
  },
  {
   "cell_type": "code",
   "execution_count": 19,
   "metadata": {
    "ExecuteTime": {
     "end_time": "2019-11-18T16:04:53.928421Z",
     "start_time": "2019-11-18T16:04:52.357905Z"
    },
    "scrolled": true
   },
   "outputs": [],
   "source": [
    "submission = pd.concat([test_raw[\"txkey\"], pd.Series(test_pred, name='fraud_ind')], axis=1)\n",
    "submission.to_csv(\"submission_71_pre_31_drop_RE.csv\", index=None)"
   ]
  },
  {
   "cell_type": "markdown",
   "metadata": {},
   "source": [
    "### 分析一下預測特別差的類別level"
   ]
  },
  {
   "cell_type": "code",
   "execution_count": 28,
   "metadata": {
    "ExecuteTime": {
     "end_time": "2019-11-12T16:54:21.516533Z",
     "start_time": "2019-11-12T16:54:21.132709Z"
    }
   },
   "outputs": [
    {
     "data": {
      "text/html": [
       "<div>\n",
       "<style scoped>\n",
       "    .dataframe tbody tr th:only-of-type {\n",
       "        vertical-align: middle;\n",
       "    }\n",
       "\n",
       "    .dataframe tbody tr th {\n",
       "        vertical-align: top;\n",
       "    }\n",
       "\n",
       "    .dataframe thead th {\n",
       "        text-align: right;\n",
       "    }\n",
       "</style>\n",
       "<table border=\"1\" class=\"dataframe\">\n",
       "  <thead>\n",
       "    <tr style=\"text-align: right;\">\n",
       "      <th></th>\n",
       "      <th>acqic</th>\n",
       "      <th>bacno</th>\n",
       "      <th>cano</th>\n",
       "      <th>conam</th>\n",
       "      <th>contp</th>\n",
       "      <th>csmcu</th>\n",
       "      <th>ecfg</th>\n",
       "      <th>etymd</th>\n",
       "      <th>flbmk</th>\n",
       "      <th>flg_3dsmk</th>\n",
       "      <th>...</th>\n",
       "      <th>acqic_cnt_by_locdt_loctm_hour</th>\n",
       "      <th>conam_cnt_by_locdt_loctm_hour</th>\n",
       "      <th>mcc_cnt_by_locdt_loctm_hour</th>\n",
       "      <th>scity_cnt_by_locdt_loctm_hour</th>\n",
       "      <th>stscd_cnt_by_locdt_loctm_hour</th>\n",
       "      <th>csmcu_cnt_by_locdt_loctm_hour</th>\n",
       "      <th>conam_is_0_cnt_by_bacno</th>\n",
       "      <th>acqic_mcc_counts</th>\n",
       "      <th>txkey</th>\n",
       "      <th>fraud_ind</th>\n",
       "    </tr>\n",
       "  </thead>\n",
       "  <tbody>\n",
       "    <tr>\n",
       "      <th>0</th>\n",
       "      <td>6881</td>\n",
       "      <td>163188</td>\n",
       "      <td>116799</td>\n",
       "      <td>513.8</td>\n",
       "      <td>5</td>\n",
       "      <td>0</td>\n",
       "      <td>0</td>\n",
       "      <td>0</td>\n",
       "      <td>0</td>\n",
       "      <td>0</td>\n",
       "      <td>...</td>\n",
       "      <td>52</td>\n",
       "      <td>68</td>\n",
       "      <td>54</td>\n",
       "      <td>77</td>\n",
       "      <td>730</td>\n",
       "      <td>68</td>\n",
       "      <td>0</td>\n",
       "      <td>123376</td>\n",
       "      <td>592489</td>\n",
       "      <td>1</td>\n",
       "    </tr>\n",
       "    <tr>\n",
       "      <th>1</th>\n",
       "      <td>6881</td>\n",
       "      <td>163188</td>\n",
       "      <td>116799</td>\n",
       "      <td>513.8</td>\n",
       "      <td>5</td>\n",
       "      <td>0</td>\n",
       "      <td>0</td>\n",
       "      <td>0</td>\n",
       "      <td>0</td>\n",
       "      <td>0</td>\n",
       "      <td>...</td>\n",
       "      <td>31</td>\n",
       "      <td>38</td>\n",
       "      <td>32</td>\n",
       "      <td>47</td>\n",
       "      <td>476</td>\n",
       "      <td>43</td>\n",
       "      <td>0</td>\n",
       "      <td>123376</td>\n",
       "      <td>592452</td>\n",
       "      <td>1</td>\n",
       "    </tr>\n",
       "    <tr>\n",
       "      <th>2</th>\n",
       "      <td>6881</td>\n",
       "      <td>163188</td>\n",
       "      <td>116799</td>\n",
       "      <td>513.8</td>\n",
       "      <td>5</td>\n",
       "      <td>0</td>\n",
       "      <td>0</td>\n",
       "      <td>0</td>\n",
       "      <td>0</td>\n",
       "      <td>0</td>\n",
       "      <td>...</td>\n",
       "      <td>84</td>\n",
       "      <td>103</td>\n",
       "      <td>87</td>\n",
       "      <td>111</td>\n",
       "      <td>1093</td>\n",
       "      <td>112</td>\n",
       "      <td>0</td>\n",
       "      <td>123376</td>\n",
       "      <td>590212</td>\n",
       "      <td>0</td>\n",
       "    </tr>\n",
       "    <tr>\n",
       "      <th>3</th>\n",
       "      <td>6881</td>\n",
       "      <td>163188</td>\n",
       "      <td>116799</td>\n",
       "      <td>513.8</td>\n",
       "      <td>5</td>\n",
       "      <td>0</td>\n",
       "      <td>0</td>\n",
       "      <td>0</td>\n",
       "      <td>0</td>\n",
       "      <td>0</td>\n",
       "      <td>...</td>\n",
       "      <td>72</td>\n",
       "      <td>92</td>\n",
       "      <td>78</td>\n",
       "      <td>100</td>\n",
       "      <td>1020</td>\n",
       "      <td>98</td>\n",
       "      <td>0</td>\n",
       "      <td>123376</td>\n",
       "      <td>590209</td>\n",
       "      <td>0</td>\n",
       "    </tr>\n",
       "    <tr>\n",
       "      <th>4</th>\n",
       "      <td>6881</td>\n",
       "      <td>163188</td>\n",
       "      <td>116799</td>\n",
       "      <td>513.8</td>\n",
       "      <td>5</td>\n",
       "      <td>0</td>\n",
       "      <td>0</td>\n",
       "      <td>0</td>\n",
       "      <td>0</td>\n",
       "      <td>0</td>\n",
       "      <td>...</td>\n",
       "      <td>52</td>\n",
       "      <td>68</td>\n",
       "      <td>54</td>\n",
       "      <td>77</td>\n",
       "      <td>730</td>\n",
       "      <td>68</td>\n",
       "      <td>0</td>\n",
       "      <td>123376</td>\n",
       "      <td>592488</td>\n",
       "      <td>0</td>\n",
       "    </tr>\n",
       "    <tr>\n",
       "      <th>5</th>\n",
       "      <td>6881</td>\n",
       "      <td>163188</td>\n",
       "      <td>116799</td>\n",
       "      <td>513.8</td>\n",
       "      <td>5</td>\n",
       "      <td>0</td>\n",
       "      <td>0</td>\n",
       "      <td>0</td>\n",
       "      <td>0</td>\n",
       "      <td>0</td>\n",
       "      <td>...</td>\n",
       "      <td>31</td>\n",
       "      <td>38</td>\n",
       "      <td>32</td>\n",
       "      <td>47</td>\n",
       "      <td>4</td>\n",
       "      <td>43</td>\n",
       "      <td>0</td>\n",
       "      <td>123376</td>\n",
       "      <td>592460</td>\n",
       "      <td>1</td>\n",
       "    </tr>\n",
       "    <tr>\n",
       "      <th>6</th>\n",
       "      <td>6881</td>\n",
       "      <td>163188</td>\n",
       "      <td>116799</td>\n",
       "      <td>513.8</td>\n",
       "      <td>5</td>\n",
       "      <td>0</td>\n",
       "      <td>0</td>\n",
       "      <td>0</td>\n",
       "      <td>0</td>\n",
       "      <td>0</td>\n",
       "      <td>...</td>\n",
       "      <td>72</td>\n",
       "      <td>92</td>\n",
       "      <td>78</td>\n",
       "      <td>100</td>\n",
       "      <td>1020</td>\n",
       "      <td>98</td>\n",
       "      <td>0</td>\n",
       "      <td>123376</td>\n",
       "      <td>590160</td>\n",
       "      <td>0</td>\n",
       "    </tr>\n",
       "    <tr>\n",
       "      <th>7</th>\n",
       "      <td>6881</td>\n",
       "      <td>163188</td>\n",
       "      <td>116799</td>\n",
       "      <td>513.8</td>\n",
       "      <td>5</td>\n",
       "      <td>0</td>\n",
       "      <td>0</td>\n",
       "      <td>0</td>\n",
       "      <td>0</td>\n",
       "      <td>0</td>\n",
       "      <td>...</td>\n",
       "      <td>31</td>\n",
       "      <td>38</td>\n",
       "      <td>32</td>\n",
       "      <td>47</td>\n",
       "      <td>476</td>\n",
       "      <td>43</td>\n",
       "      <td>0</td>\n",
       "      <td>123376</td>\n",
       "      <td>592453</td>\n",
       "      <td>1</td>\n",
       "    </tr>\n",
       "    <tr>\n",
       "      <th>8</th>\n",
       "      <td>6881</td>\n",
       "      <td>163188</td>\n",
       "      <td>116799</td>\n",
       "      <td>513.8</td>\n",
       "      <td>5</td>\n",
       "      <td>0</td>\n",
       "      <td>0</td>\n",
       "      <td>0</td>\n",
       "      <td>0</td>\n",
       "      <td>0</td>\n",
       "      <td>...</td>\n",
       "      <td>78</td>\n",
       "      <td>108</td>\n",
       "      <td>81</td>\n",
       "      <td>105</td>\n",
       "      <td>876</td>\n",
       "      <td>103</td>\n",
       "      <td>0</td>\n",
       "      <td>123376</td>\n",
       "      <td>585745</td>\n",
       "      <td>0</td>\n",
       "    </tr>\n",
       "    <tr>\n",
       "      <th>9</th>\n",
       "      <td>6881</td>\n",
       "      <td>163188</td>\n",
       "      <td>116799</td>\n",
       "      <td>513.8</td>\n",
       "      <td>5</td>\n",
       "      <td>0</td>\n",
       "      <td>0</td>\n",
       "      <td>0</td>\n",
       "      <td>0</td>\n",
       "      <td>0</td>\n",
       "      <td>...</td>\n",
       "      <td>31</td>\n",
       "      <td>38</td>\n",
       "      <td>32</td>\n",
       "      <td>47</td>\n",
       "      <td>476</td>\n",
       "      <td>43</td>\n",
       "      <td>0</td>\n",
       "      <td>123376</td>\n",
       "      <td>592451</td>\n",
       "      <td>1</td>\n",
       "    </tr>\n",
       "    <tr>\n",
       "      <th>10</th>\n",
       "      <td>6881</td>\n",
       "      <td>163188</td>\n",
       "      <td>116799</td>\n",
       "      <td>513.8</td>\n",
       "      <td>5</td>\n",
       "      <td>0</td>\n",
       "      <td>0</td>\n",
       "      <td>0</td>\n",
       "      <td>0</td>\n",
       "      <td>0</td>\n",
       "      <td>...</td>\n",
       "      <td>31</td>\n",
       "      <td>38</td>\n",
       "      <td>32</td>\n",
       "      <td>47</td>\n",
       "      <td>4</td>\n",
       "      <td>43</td>\n",
       "      <td>0</td>\n",
       "      <td>123376</td>\n",
       "      <td>592456</td>\n",
       "      <td>1</td>\n",
       "    </tr>\n",
       "  </tbody>\n",
       "</table>\n",
       "<p>11 rows × 105 columns</p>\n",
       "</div>"
      ],
      "text/plain": [
       "   acqic   bacno    cano  conam contp csmcu ecfg etymd flbmk flg_3dsmk  ...  \\\n",
       "0   6881  163188  116799  513.8     5     0    0     0     0         0  ...   \n",
       "1   6881  163188  116799  513.8     5     0    0     0     0         0  ...   \n",
       "2   6881  163188  116799  513.8     5     0    0     0     0         0  ...   \n",
       "3   6881  163188  116799  513.8     5     0    0     0     0         0  ...   \n",
       "4   6881  163188  116799  513.8     5     0    0     0     0         0  ...   \n",
       "5   6881  163188  116799  513.8     5     0    0     0     0         0  ...   \n",
       "6   6881  163188  116799  513.8     5     0    0     0     0         0  ...   \n",
       "7   6881  163188  116799  513.8     5     0    0     0     0         0  ...   \n",
       "8   6881  163188  116799  513.8     5     0    0     0     0         0  ...   \n",
       "9   6881  163188  116799  513.8     5     0    0     0     0         0  ...   \n",
       "10  6881  163188  116799  513.8     5     0    0     0     0         0  ...   \n",
       "\n",
       "   acqic_cnt_by_locdt_loctm_hour conam_cnt_by_locdt_loctm_hour  \\\n",
       "0                             52                            68   \n",
       "1                             31                            38   \n",
       "2                             84                           103   \n",
       "3                             72                            92   \n",
       "4                             52                            68   \n",
       "5                             31                            38   \n",
       "6                             72                            92   \n",
       "7                             31                            38   \n",
       "8                             78                           108   \n",
       "9                             31                            38   \n",
       "10                            31                            38   \n",
       "\n",
       "   mcc_cnt_by_locdt_loctm_hour scity_cnt_by_locdt_loctm_hour  \\\n",
       "0                           54                            77   \n",
       "1                           32                            47   \n",
       "2                           87                           111   \n",
       "3                           78                           100   \n",
       "4                           54                            77   \n",
       "5                           32                            47   \n",
       "6                           78                           100   \n",
       "7                           32                            47   \n",
       "8                           81                           105   \n",
       "9                           32                            47   \n",
       "10                          32                            47   \n",
       "\n",
       "   stscd_cnt_by_locdt_loctm_hour csmcu_cnt_by_locdt_loctm_hour  \\\n",
       "0                            730                            68   \n",
       "1                            476                            43   \n",
       "2                           1093                           112   \n",
       "3                           1020                            98   \n",
       "4                            730                            68   \n",
       "5                              4                            43   \n",
       "6                           1020                            98   \n",
       "7                            476                            43   \n",
       "8                            876                           103   \n",
       "9                            476                            43   \n",
       "10                             4                            43   \n",
       "\n",
       "   conam_is_0_cnt_by_bacno acqic_mcc_counts   txkey  fraud_ind  \n",
       "0                        0           123376  592489          1  \n",
       "1                        0           123376  592452          1  \n",
       "2                        0           123376  590212          0  \n",
       "3                        0           123376  590209          0  \n",
       "4                        0           123376  592488          0  \n",
       "5                        0           123376  592460          1  \n",
       "6                        0           123376  590160          0  \n",
       "7                        0           123376  592453          1  \n",
       "8                        0           123376  585745          0  \n",
       "9                        0           123376  592451          1  \n",
       "10                       0           123376  592456          1  \n",
       "\n",
       "[11 rows x 105 columns]"
      ]
     },
     "execution_count": 28,
     "metadata": {},
     "output_type": "execute_result"
    }
   ],
   "source": [
    "result = pd.concat([X_test, submission], axis=1)\n",
    "result[result[\"bacno\"].eq(163188)]"
   ]
  },
  {
   "cell_type": "code",
   "execution_count": 29,
   "metadata": {
    "ExecuteTime": {
     "end_time": "2019-11-12T16:54:52.988204Z",
     "start_time": "2019-11-12T16:54:52.980139Z"
    }
   },
   "outputs": [
    {
     "data": {
      "text/plain": [
       "0     1\n",
       "1     1\n",
       "2     0\n",
       "3     0\n",
       "4     0\n",
       "5     1\n",
       "6     0\n",
       "7     1\n",
       "8     0\n",
       "9     1\n",
       "10    1\n",
       "Name: fraud_ind, dtype: int64"
      ]
     },
     "execution_count": 29,
     "metadata": {},
     "output_type": "execute_result"
    }
   ],
   "source": [
    "result.loc[result[\"bacno\"].eq(163188), \"fraud_ind\"]"
   ]
  },
  {
   "cell_type": "code",
   "execution_count": 30,
   "metadata": {
    "ExecuteTime": {
     "end_time": "2019-11-12T16:56:10.901270Z",
     "start_time": "2019-11-12T16:56:10.868039Z"
    }
   },
   "outputs": [
    {
     "data": {
      "text/html": [
       "<div>\n",
       "<style scoped>\n",
       "    .dataframe tbody tr th:only-of-type {\n",
       "        vertical-align: middle;\n",
       "    }\n",
       "\n",
       "    .dataframe tbody tr th {\n",
       "        vertical-align: top;\n",
       "    }\n",
       "\n",
       "    .dataframe thead th {\n",
       "        text-align: right;\n",
       "    }\n",
       "</style>\n",
       "<table border=\"1\" class=\"dataframe\">\n",
       "  <thead>\n",
       "    <tr style=\"text-align: right;\">\n",
       "      <th></th>\n",
       "      <th>acqic</th>\n",
       "      <th>bacno</th>\n",
       "      <th>cano</th>\n",
       "      <th>conam</th>\n",
       "      <th>contp</th>\n",
       "      <th>csmcu</th>\n",
       "      <th>ecfg</th>\n",
       "      <th>etymd</th>\n",
       "      <th>flbmk</th>\n",
       "      <th>flg_3dsmk</th>\n",
       "      <th>...</th>\n",
       "      <th>csmcu_cnt_each_hour</th>\n",
       "      <th>mchno_cnt_by_locdt_loctm_hour</th>\n",
       "      <th>acqic_cnt_by_locdt_loctm_hour</th>\n",
       "      <th>conam_cnt_by_locdt_loctm_hour</th>\n",
       "      <th>mcc_cnt_by_locdt_loctm_hour</th>\n",
       "      <th>scity_cnt_by_locdt_loctm_hour</th>\n",
       "      <th>stscd_cnt_by_locdt_loctm_hour</th>\n",
       "      <th>csmcu_cnt_by_locdt_loctm_hour</th>\n",
       "      <th>conam_is_0_cnt_by_bacno</th>\n",
       "      <th>acqic_mcc_counts</th>\n",
       "    </tr>\n",
       "  </thead>\n",
       "  <tbody>\n",
       "  </tbody>\n",
       "</table>\n",
       "<p>0 rows × 103 columns</p>\n",
       "</div>"
      ],
      "text/plain": [
       "Empty DataFrame\n",
       "Columns: [acqic, bacno, cano, conam, contp, csmcu, ecfg, etymd, flbmk, flg_3dsmk, hcefg, insfg, iterm, mcc, mchno, ovrlt, scity, stocn, stscd, loctm_hour, loctm_min, conam_is_0, bacno_u_cnt_by_acqic, conam_level, csmcu_cnt_by_stocn, csmcu_cnt_by_scity, csmcu_ucnt_by_bacno, bacno_value_counts, cano_value_counts, mchno_value_counts, acqic_value_counts, mcc_value_counts, contp_value_counts, etymd_value_counts, stocn_value_counts, scity_value_counts, stscd_value_counts, csmcu_value_counts, prime_time_normal, prime_time_fraud, sleep_time, sleep_time_conam_lower_3000, prime_time_fraud_conam_lower_3000, conam_mean_by_bacno, conam_mean_by_cano, conam_mean_by_mchno, conam_mean_by_acqic, conam_mean_by_mcc, conam_mean_by_contp, conam_mean_by_etymd, conam_mean_by_iterm, conam_mean_by_loctm_hour, conam_mean_by_loctm_min, conam_mean_by_loctm_sec, conam_mean_by_stocn, conam_mean_by_scity, conam_mean_by_stscd, conam_mean_by_csmcu, conam_mean_by_locdt, mchno_uique_count_by_bacno, conam_uique_count_by_bacno, acqic_uique_count_by_bacno, mcc_uique_count_by_bacno, scity_uique_count_by_bacno, stscd_uique_count_by_bacno, csmcu_uique_count_by_bacno, bacno_cano_mcc_acqic_cnt_by_locdt, bacon_cano_cnt, bacno_cano_loctm_uique_count, bacno_cano_14_rolling_times_prime_time_fraud_cnt, bacno_cano_10_times_sleep_time_cnt, bacno_cano_10_sleep_time_conam_lower_3000_cnt, bacno_cano_10_prime_time_fraud_conam_lower_3000_cnt, bacno_cano_no_recent_10_conam_pos_trend, bacno_cano_no_recent_7_loctm_diff, bacno_cano_no_recent_10_ecfg_sum, bacno_cnt_by_locdt, bacno_cnt_by_locdt_mchno, bacno_cnt_by_locdt_conam, bacno_cnt_by_locdt_acqic, bacno_cnt_by_locdt_mcc, bacno_cnt_by_locdt_scity, bacno_cnt_by_locdt_stscd, bacno_cnt_by_locdt_csmcu, bacno_cnt_by_locdt_loctm_hour, bacno_cnt_each_hour, conam_cnt_each_hour, cano_cnt_each_hour, mchno_cnt_each_hour, acqic_cnt_each_hour, mcc_cnt_each_hour, scity_cnt_each_hour, stscd_cnt_each_hour, csmcu_cnt_each_hour, mchno_cnt_by_locdt_loctm_hour, acqic_cnt_by_locdt_loctm_hour, conam_cnt_by_locdt_loctm_hour, mcc_cnt_by_locdt_loctm_hour, scity_cnt_by_locdt_loctm_hour, stscd_cnt_by_locdt_loctm_hour, ...]\n",
       "Index: []\n",
       "\n",
       "[0 rows x 103 columns]"
      ]
     },
     "execution_count": 30,
     "metadata": {},
     "output_type": "execute_result"
    }
   ],
   "source": [
    "X[X[\"bacno\"].eq(163188)]"
   ]
  },
  {
   "cell_type": "code",
   "execution_count": 32,
   "metadata": {
    "ExecuteTime": {
     "end_time": "2019-11-12T16:59:11.140685Z",
     "start_time": "2019-11-12T16:58:16.214978Z"
    }
   },
   "outputs": [],
   "source": [
    "result.to_csv(\"pred_67.csv\")"
   ]
  }
 ],
 "metadata": {
  "kernelspec": {
   "display_name": "Python 3",
   "language": "python",
   "name": "python3"
  },
  "language_info": {
   "codemirror_mode": {
    "name": "ipython",
    "version": 3
   },
   "file_extension": ".py",
   "mimetype": "text/x-python",
   "name": "python",
   "nbconvert_exporter": "python",
   "pygments_lexer": "ipython3",
   "version": "3.6.6"
  },
  "toc": {
   "base_numbering": 1,
   "nav_menu": {},
   "number_sections": true,
   "sideBar": true,
   "skip_h1_title": false,
   "title_cell": "Table of Contents",
   "title_sidebar": "Contents",
   "toc_cell": false,
   "toc_position": {
    "height": "calc(100% - 180px)",
    "left": "10px",
    "top": "150px",
    "width": "307.2px"
   },
   "toc_section_display": true,
   "toc_window_display": true
  },
  "varInspector": {
   "cols": {
    "lenName": 16,
    "lenType": 16,
    "lenVar": 40
   },
   "kernels_config": {
    "python": {
     "delete_cmd_postfix": "",
     "delete_cmd_prefix": "del ",
     "library": "var_list.py",
     "varRefreshCmd": "print(var_dic_list())"
    },
    "r": {
     "delete_cmd_postfix": ") ",
     "delete_cmd_prefix": "rm(",
     "library": "var_list.r",
     "varRefreshCmd": "cat(var_dic_list()) "
    }
   },
   "oldHeight": 317,
   "position": {
    "height": "40px",
    "left": "1039px",
    "right": "20px",
    "top": "96px",
    "width": "401.2px"
   },
   "types_to_exclude": [
    "module",
    "function",
    "builtin_function_or_method",
    "instance",
    "_Feature"
   ],
   "varInspector_section_display": "none",
   "window_display": true
  }
 },
 "nbformat": 4,
 "nbformat_minor": 2
}
