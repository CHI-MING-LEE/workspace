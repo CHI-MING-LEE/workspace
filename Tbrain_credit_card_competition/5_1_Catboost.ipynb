{
 "cells": [
  {
   "cell_type": "code",
   "execution_count": 2,
   "metadata": {
    "ExecuteTime": {
     "end_time": "2019-11-20T15:16:28.293637Z",
     "start_time": "2019-11-20T15:16:28.254163Z"
    }
   },
   "outputs": [],
   "source": [
    "import time\n",
    "import numpy as np\n",
    "import pandas as pd\n",
    "import featuretools as ft\n",
    "import catboost\n",
    "from tqdm import tqdm_notebook\n",
    "import scipy.stats as stats\n",
    "import matplotlib.pyplot as plt\n",
    "import seaborn as sns\n",
    "\n",
    "# This Python 3 environment comes with many helpful analytics libraries installed\n",
    "# It is defined by the kaggle/python docker image: https://github.com/kaggle/docker-python\n",
    "# For example, here's several helpful packages to load in \n",
    "\n",
    "# Input data files are available in the \"../input/\" directory.\n",
    "# For example, running this (by clicking run or pressing Shift+Enter) will list the files in the input directory\n",
    "\n",
    "from datetime import datetime\n",
    "from scipy.stats import skew  # for some statistics\n",
    "from scipy.special import boxcox1p\n",
    "from scipy.stats import boxcox_normmax\n",
    "import scipy.optimize\n",
    "from sklearn.linear_model import ElasticNetCV, LassoCV, RidgeCV\n",
    "from sklearn.ensemble import GradientBoostingRegressor\n",
    "from sklearn.svm import SVR\n",
    "from sklearn.pipeline import make_pipeline\n",
    "from sklearn.preprocessing import RobustScaler\n",
    "from sklearn.model_selection import KFold, cross_val_score\n",
    "from sklearn.metrics import mean_squared_error\n",
    "from xgboost import XGBRegressor, XGBClassifier\n",
    "from lightgbm import LGBMRegressor, LGBMClassifier\n",
    "import lightgbm as lgb\n",
    "import matplotlib.pyplot as plt\n",
    "import scipy.stats as stats\n",
    "import sklearn.linear_model as linear_model\n",
    "import seaborn as sns\n",
    "from sklearn.manifold import TSNE\n",
    "from sklearn.cluster import KMeans\n",
    "from sklearn.decomposition import PCA\n",
    "from sklearn.preprocessing import StandardScaler\n",
    "from sklearn import preprocessing\n",
    "from sklearn.model_selection import train_test_split\n",
    "from sklearn.model_selection import StratifiedShuffleSplit, StratifiedKFold\n",
    "from sklearn.metrics import confusion_matrix, precision_recall_fscore_support, f1_score\n",
    "from sklearn.externals import joblib\n",
    "from category_encoders import CatBoostEncoder"
   ]
  },
  {
   "cell_type": "code",
   "execution_count": 3,
   "metadata": {
    "ExecuteTime": {
     "end_time": "2019-11-20T15:17:04.592232Z",
     "start_time": "2019-11-20T15:16:30.005970Z"
    }
   },
   "outputs": [
    {
     "name": "stdout",
     "output_type": "stream",
     "text": [
      "(1461618, 115)\n",
      "(421665, 114)\n",
      "(421665, 22)\n"
     ]
    }
   ],
   "source": [
    "train_raw = pd.read_csv(\"train_pre_31.csv\")\n",
    "X_test = pd.read_csv(\"test_pre_31.csv\")\n",
    "train_raw = train_raw.drop_duplicates(subset=train_raw.columns[~train_raw.columns.isin([\n",
    "        'acqic', 'bacno', 'cano', 'conam', 'contp', 'csmcu', 'ecfg', 'etymd',\n",
    "       'flbmk', 'flg_3dsmk', 'hcefg', 'insfg', 'iterm', 'locdt', 'mcc',\n",
    "       'mchno', 'ovrlt', 'scity', 'stocn', 'stscd', \"loctm_min\", \n",
    "       'conam_mean_by_loctm_min', \n",
    "       'conam_mean_by_loctm_sec', \n",
    "       'bacno_cano_no_recent_10_conam_pos_trend',\n",
    "       'bacno_cano_no_recent_7_loctm_diff', \n",
    "       'bacno_cano_loctm_uique_count', \n",
    "       'bacno_cano_14_rolling_times_prime_time_fraud_cnt',\n",
    "       'bacno_cano_10_times_sleep_time_cnt',\n",
    "       'bacno_cano_10_sleep_time_conam_lower_3000_cnt',\n",
    "       'bacno_cano_10_prime_time_fraud_conam_lower_3000_cnt', \n",
    "       'bacno_cano_no_recent_10_ecfg_sum', 'fraud_ind', \"locdt\",\n",
    "        'flbmk_value_counts', 'hcefg_value_counts', 'flg_3dsmk_value_counts'\n",
    "         'ecfg_value_counts', 'ovrlt_value_counts', 'insfg_value_counts'\n",
    "        \"conam_mean_by_train_test_acqic\", \"loctm_value_counts\",\n",
    "        \"loctm_hour_value_counts\", 'loctm_sec'])], keep='last')\n",
    "test_raw = pd.read_csv(\"test.csv\")\n",
    "\n",
    "X = train_raw.drop('fraud_ind', axis=1)\n",
    "y = train_raw['fraud_ind']\n",
    "\n",
    "print(train_raw.shape)\n",
    "print(X_test.shape)\n",
    "print(test_raw.shape)"
   ]
  },
  {
   "cell_type": "markdown",
   "metadata": {},
   "source": [
    "## 資料處理"
   ]
  },
  {
   "cell_type": "code",
   "execution_count": 4,
   "metadata": {
    "ExecuteTime": {
     "end_time": "2019-11-20T15:17:12.952792Z",
     "start_time": "2019-11-20T15:17:05.490461Z"
    }
   },
   "outputs": [
    {
     "name": "stdout",
     "output_type": "stream",
     "text": [
      "(1461618, 103)\n",
      "(421665, 103)\n"
     ]
    }
   ],
   "source": [
    "all_features = pd.concat([X, X_test], axis=0)\n",
    "all_features.tail()\n",
    "\n",
    "del all_features[\"locdt\"]\n",
    "del all_features['flg_3dsmk_value_counts']\n",
    "del all_features['flbmk_value_counts']\n",
    "del all_features['hcefg_value_counts']\n",
    "del all_features['ecfg_value_counts']\n",
    "del all_features['ovrlt_value_counts']\n",
    "del all_features['insfg_value_counts']\n",
    "del all_features[\"conam_mean_by_train_test_acqic\"]\n",
    "\n",
    "del all_features[\"loctm_value_counts\"]\n",
    "del all_features[\"loctm_hour_value_counts\"]\n",
    "del all_features['loctm_sec']\n",
    "\n",
    "X = all_features[:-len(X_test)]\n",
    "X_test = all_features[-len(X_test):]\n",
    "print(X.shape)\n",
    "print(X_test.shape)"
   ]
  },
  {
   "cell_type": "code",
   "execution_count": 5,
   "metadata": {
    "ExecuteTime": {
     "end_time": "2019-11-20T15:17:14.148559Z",
     "start_time": "2019-11-20T15:17:14.140359Z"
    }
   },
   "outputs": [],
   "source": [
    "cat_colnames = [\"bacno\", \"cano\", \"mchno\", \"acqic\", \"mcc\", \"ecfg\", \"insfg\", \"contp\", 'etymd',\n",
    "                \"stocn\", \"scity\", \"stscd\", \"ovrlt\", \"flbmk\", \"hcefg\", \"csmcu\", \"flg_3dsmk\"] # + high_cacol\n",
    "\n",
    "categorical_feature_idx = [i for i, col in enumerate(X.columns) if col in cat_colnames]"
   ]
  },
  {
   "cell_type": "code",
   "execution_count": 7,
   "metadata": {
    "ExecuteTime": {
     "end_time": "2019-11-20T15:17:52.202725Z",
     "start_time": "2019-11-20T15:17:48.889081Z"
    },
    "scrolled": true
   },
   "outputs": [
    {
     "name": "stdout",
     "output_type": "stream",
     "text": [
      "acqic\n",
      "category\n",
      "bacno\n",
      "category\n",
      "cano\n",
      "category\n",
      "contp\n",
      "category\n",
      "csmcu\n",
      "category\n",
      "ecfg\n",
      "category\n",
      "etymd\n",
      "category\n",
      "flbmk\n",
      "category\n",
      "flg_3dsmk\n",
      "category\n",
      "hcefg\n",
      "category\n",
      "insfg\n",
      "category\n",
      "mcc\n",
      "category\n",
      "mchno\n",
      "category\n",
      "ovrlt\n",
      "category\n",
      "scity\n",
      "category\n",
      "stocn\n",
      "category\n",
      "stscd\n",
      "category\n"
     ]
    }
   ],
   "source": [
    "model_type = 'lgb'\n",
    "for col in X.columns[categorical_feature_idx]:\n",
    "    # for catboost\n",
    "    if model_type == 'cat':\n",
    "        X[col] = X[col].astype('str')\n",
    "        X_test[col] = X_test[col].astype('str')\n",
    "        print(col)\n",
    "        print(X[col].dtype)\n",
    "    else:\n",
    "        X[col] = X[col].astype('category')\n",
    "        X_test[col] = X_test[col].astype('category')\n",
    "        print(col)\n",
    "        print(X[col].dtype)"
   ]
  },
  {
   "cell_type": "code",
   "execution_count": 8,
   "metadata": {
    "ExecuteTime": {
     "end_time": "2019-11-20T15:18:13.075960Z",
     "start_time": "2019-11-20T15:18:10.456858Z"
    }
   },
   "outputs": [
    {
     "name": "stdout",
     "output_type": "stream",
     "text": [
      "Train: [ 361384  361385  361386 ... 1461615 1461616 1461617] Test: [      0       1       2 ... 1449552 1449553 1449554]\n",
      "Train: [      0       1       2 ... 1461615 1461616 1461617] Test: [ 361384  361385  361386 ... 1453573 1453574 1453575]\n",
      "Train: [      0       1       2 ... 1461615 1461616 1461617] Test: [ 722768  722769  722770 ... 1457594 1457595 1457596]\n",
      "Train: [      0       1       2 ... 1457594 1457595 1457596] Test: [1084151 1084152 1084153 ... 1461615 1461616 1461617]\n",
      "(1096214, 103)\n",
      "(1096214,)\n",
      "(365404, 103)\n",
      "(365404,)\n"
     ]
    }
   ],
   "source": [
    "# shuffle一下\n",
    "# perm = np.random.permutation(len(X))\n",
    "# X = X.iloc[perm].reset_index(drop=True) \n",
    "# y = y.iloc[perm].reset_index(drop=True)\n",
    "\n",
    "# Seed = 111\n",
    "sss = StratifiedKFold(n_splits=4, random_state=111, shuffle=False)\n",
    "\n",
    "for train_index, test_index in sss.split(X, y):\n",
    "    print(\"Train:\", train_index, \"Test:\", test_index)\n",
    "    X_train, X_val = X.iloc[train_index], X.iloc[test_index]\n",
    "    y_train, y_val = y.iloc[train_index], y.iloc[test_index]\n",
    "    \n",
    "print(X_train.shape)\n",
    "print(y_train.shape)\n",
    "print(X_val.shape)\n",
    "print(y_val.shape)"
   ]
  },
  {
   "cell_type": "markdown",
   "metadata": {},
   "source": [
    "## Catboost"
   ]
  },
  {
   "cell_type": "code",
   "execution_count": 15,
   "metadata": {
    "ExecuteTime": {
     "end_time": "2019-11-18T14:30:50.924881Z",
     "start_time": "2019-11-18T14:23:56.775959Z"
    }
   },
   "outputs": [
    {
     "name": "stderr",
     "output_type": "stream",
     "text": [
      "Warning: Overfitting detector is active, thus evaluation metric is calculated on every iteration. 'metric_period' is ignored for evaluation metric.\n"
     ]
    },
    {
     "name": "stdout",
     "output_type": "stream",
     "text": [
      "0:\ttest: 0.9641066\tbest: 0.9641066 (0)\ttotal: 5.59s\tremaining: 1d 7h 2m 48s\n"
     ]
    },
    {
     "ename": "KeyboardInterrupt",
     "evalue": "",
     "output_type": "error",
     "traceback": [
      "\u001b[0;31m---------------------------------------------------------------------------\u001b[0m",
      "\u001b[0;31mKeyboardInterrupt\u001b[0m                         Traceback (most recent call last)",
      "\u001b[0;32m<ipython-input-15-16188bd2cfd1>\u001b[0m in \u001b[0;36m<module>\u001b[0;34m\u001b[0m\n\u001b[1;32m     16\u001b[0m model_cat.fit(X_train, y_train, eval_set=(X_val, y_val), \n\u001b[1;32m     17\u001b[0m               \u001b[0mcat_features\u001b[0m\u001b[0;34m=\u001b[0m\u001b[0mcategorical_feature_idx\u001b[0m\u001b[0;34m,\u001b[0m\u001b[0;34m\u001b[0m\u001b[0m\n\u001b[0;32m---> 18\u001b[0;31m               use_best_model=True)\n\u001b[0m\u001b[1;32m     19\u001b[0m \u001b[0mmodel_cat\u001b[0m\u001b[0;34m.\u001b[0m\u001b[0msave_model\u001b[0m\u001b[0;34m(\u001b[0m\u001b[0;34m\"pre_31_final_cat_v1.dump\"\u001b[0m\u001b[0;34m)\u001b[0m\u001b[0;34m\u001b[0m\u001b[0m\n",
      "\u001b[0;32m~/.pyenv/versions/3.6.6/lib/python3.6/site-packages/catboost/core.py\u001b[0m in \u001b[0;36mfit\u001b[0;34m(self, X, y, cat_features, sample_weight, baseline, use_best_model, eval_set, verbose, logging_level, plot, column_description, verbose_eval, metric_period, silent, early_stopping_rounds, save_snapshot, snapshot_file, snapshot_interval)\u001b[0m\n\u001b[1;32m   2452\u001b[0m         self._fit(X, y, cat_features, None, sample_weight, None, None, None, None, baseline, use_best_model,\n\u001b[1;32m   2453\u001b[0m                   \u001b[0meval_set\u001b[0m\u001b[0;34m,\u001b[0m \u001b[0mverbose\u001b[0m\u001b[0;34m,\u001b[0m \u001b[0mlogging_level\u001b[0m\u001b[0;34m,\u001b[0m \u001b[0mplot\u001b[0m\u001b[0;34m,\u001b[0m \u001b[0mcolumn_description\u001b[0m\u001b[0;34m,\u001b[0m \u001b[0mverbose_eval\u001b[0m\u001b[0;34m,\u001b[0m \u001b[0mmetric_period\u001b[0m\u001b[0;34m,\u001b[0m\u001b[0;34m\u001b[0m\u001b[0m\n\u001b[0;32m-> 2454\u001b[0;31m                   silent, early_stopping_rounds, save_snapshot, snapshot_file, snapshot_interval)\n\u001b[0m\u001b[1;32m   2455\u001b[0m         \u001b[0;32mreturn\u001b[0m \u001b[0mself\u001b[0m\u001b[0;34m\u001b[0m\u001b[0m\n\u001b[1;32m   2456\u001b[0m \u001b[0;34m\u001b[0m\u001b[0m\n",
      "\u001b[0;32m~/.pyenv/versions/3.6.6/lib/python3.6/site-packages/catboost/core.py\u001b[0m in \u001b[0;36m_fit\u001b[0;34m(self, X, y, cat_features, pairs, sample_weight, group_id, group_weight, subgroup_id, pairs_weight, baseline, use_best_model, eval_set, verbose, logging_level, plot, column_description, verbose_eval, metric_period, silent, early_stopping_rounds, save_snapshot, snapshot_file, snapshot_interval)\u001b[0m\n\u001b[1;32m   1199\u001b[0m \u001b[0;34m\u001b[0m\u001b[0m\n\u001b[1;32m   1200\u001b[0m         \u001b[0;32mwith\u001b[0m \u001b[0mlog_fixup\u001b[0m\u001b[0;34m(\u001b[0m\u001b[0;34m)\u001b[0m\u001b[0;34m,\u001b[0m \u001b[0mplot_wrapper\u001b[0m\u001b[0;34m(\u001b[0m\u001b[0mplot\u001b[0m\u001b[0;34m,\u001b[0m \u001b[0mself\u001b[0m\u001b[0;34m.\u001b[0m\u001b[0mget_params\u001b[0m\u001b[0;34m(\u001b[0m\u001b[0;34m)\u001b[0m\u001b[0;34m)\u001b[0m\u001b[0;34m:\u001b[0m\u001b[0;34m\u001b[0m\u001b[0m\n\u001b[0;32m-> 1201\u001b[0;31m             \u001b[0mself\u001b[0m\u001b[0;34m.\u001b[0m\u001b[0m_train\u001b[0m\u001b[0;34m(\u001b[0m\u001b[0mtrain_pool\u001b[0m\u001b[0;34m,\u001b[0m \u001b[0meval_sets\u001b[0m\u001b[0;34m,\u001b[0m \u001b[0mparams\u001b[0m\u001b[0;34m,\u001b[0m \u001b[0mallow_clear_pool\u001b[0m\u001b[0;34m)\u001b[0m\u001b[0;34m\u001b[0m\u001b[0m\n\u001b[0m\u001b[1;32m   1202\u001b[0m \u001b[0;34m\u001b[0m\u001b[0m\n\u001b[1;32m   1203\u001b[0m         \u001b[0;32mif\u001b[0m \u001b[0;34m(\u001b[0m\u001b[0;32mnot\u001b[0m \u001b[0mself\u001b[0m\u001b[0;34m.\u001b[0m\u001b[0m_object\u001b[0m\u001b[0;34m.\u001b[0m\u001b[0m_has_leaf_weights_in_model\u001b[0m\u001b[0;34m(\u001b[0m\u001b[0;34m)\u001b[0m\u001b[0;34m)\u001b[0m \u001b[0;32mand\u001b[0m \u001b[0mallow_clear_pool\u001b[0m\u001b[0;34m:\u001b[0m\u001b[0;34m\u001b[0m\u001b[0m\n",
      "\u001b[0;32m~/.pyenv/versions/3.6.6/lib/python3.6/site-packages/catboost/core.py\u001b[0m in \u001b[0;36m_train\u001b[0;34m(self, train_pool, test_pool, params, allow_clear_pool)\u001b[0m\n\u001b[1;32m    892\u001b[0m \u001b[0;34m\u001b[0m\u001b[0m\n\u001b[1;32m    893\u001b[0m     \u001b[0;32mdef\u001b[0m \u001b[0m_train\u001b[0m\u001b[0;34m(\u001b[0m\u001b[0mself\u001b[0m\u001b[0;34m,\u001b[0m \u001b[0mtrain_pool\u001b[0m\u001b[0;34m,\u001b[0m \u001b[0mtest_pool\u001b[0m\u001b[0;34m,\u001b[0m \u001b[0mparams\u001b[0m\u001b[0;34m,\u001b[0m \u001b[0mallow_clear_pool\u001b[0m\u001b[0;34m)\u001b[0m\u001b[0;34m:\u001b[0m\u001b[0;34m\u001b[0m\u001b[0m\n\u001b[0;32m--> 894\u001b[0;31m         \u001b[0mself\u001b[0m\u001b[0;34m.\u001b[0m\u001b[0m_object\u001b[0m\u001b[0;34m.\u001b[0m\u001b[0m_train\u001b[0m\u001b[0;34m(\u001b[0m\u001b[0mtrain_pool\u001b[0m\u001b[0;34m,\u001b[0m \u001b[0mtest_pool\u001b[0m\u001b[0;34m,\u001b[0m \u001b[0mparams\u001b[0m\u001b[0;34m,\u001b[0m \u001b[0mallow_clear_pool\u001b[0m\u001b[0;34m)\u001b[0m\u001b[0;34m\u001b[0m\u001b[0m\n\u001b[0m\u001b[1;32m    895\u001b[0m         \u001b[0mself\u001b[0m\u001b[0;34m.\u001b[0m\u001b[0m_set_trained_model_attributes\u001b[0m\u001b[0;34m(\u001b[0m\u001b[0;34m)\u001b[0m\u001b[0;34m\u001b[0m\u001b[0m\n\u001b[1;32m    896\u001b[0m \u001b[0;34m\u001b[0m\u001b[0m\n",
      "\u001b[0;32m_catboost.pyx\u001b[0m in \u001b[0;36m_catboost._CatBoost._train\u001b[0;34m()\u001b[0m\n",
      "\u001b[0;32m_catboost.pyx\u001b[0m in \u001b[0;36m_catboost._CatBoost._train\u001b[0;34m()\u001b[0m\n",
      "\u001b[0;31mKeyboardInterrupt\u001b[0m: "
     ]
    }
   ],
   "source": [
    "# train不起來可能是因為cat index搞錯或有Na/ Cat對training set size很敏感?? -> 不，是去掉village好很多\n",
    "# Catboost\n",
    "model_cat = catboost.CatBoostClassifier(iterations=20000,\n",
    "                              learning_rate=0.05,\n",
    "                              depth=10,\n",
    "                              eval_metric='AUC',\n",
    "                              scale_pos_weight=2,\n",
    "                              # random_seed=11,\n",
    "                              # l2_leaf_reg=4,\n",
    "                              # one_hot_max_size=100,\n",
    "                              # rsm=0.5,\n",
    "                              metric_period=100,\n",
    "                              # plot=True,\n",
    "                              # subsample=0.5,\n",
    "                              early_stopping_rounds=100)\n",
    "model_cat.fit(X_train, y_train, eval_set=(X_val, y_val), \n",
    "              cat_features=categorical_feature_idx, \n",
    "              use_best_model=True)\n",
    "model_cat.save_model(\"pre_31_final_cat_v1.dump\")"
   ]
  },
  {
   "cell_type": "code",
   "execution_count": null,
   "metadata": {},
   "outputs": [],
   "source": []
  },
  {
   "cell_type": "code",
   "execution_count": null,
   "metadata": {},
   "outputs": [],
   "source": []
  },
  {
   "cell_type": "code",
   "execution_count": null,
   "metadata": {},
   "outputs": [],
   "source": []
  },
  {
   "cell_type": "code",
   "execution_count": null,
   "metadata": {},
   "outputs": [],
   "source": []
  }
 ],
 "metadata": {
  "kernelspec": {
   "display_name": "Python 3",
   "language": "python",
   "name": "python3"
  },
  "language_info": {
   "codemirror_mode": {
    "name": "ipython",
    "version": 3
   },
   "file_extension": ".py",
   "mimetype": "text/x-python",
   "name": "python",
   "nbconvert_exporter": "python",
   "pygments_lexer": "ipython3",
   "version": "3.6.6"
  },
  "toc": {
   "base_numbering": 1,
   "nav_menu": {},
   "number_sections": true,
   "sideBar": true,
   "skip_h1_title": false,
   "title_cell": "Table of Contents",
   "title_sidebar": "Contents",
   "toc_cell": false,
   "toc_position": {},
   "toc_section_display": true,
   "toc_window_display": true
  },
  "varInspector": {
   "cols": {
    "lenName": 16,
    "lenType": 16,
    "lenVar": 40
   },
   "kernels_config": {
    "python": {
     "delete_cmd_postfix": "",
     "delete_cmd_prefix": "del ",
     "library": "var_list.py",
     "varRefreshCmd": "print(var_dic_list())"
    },
    "r": {
     "delete_cmd_postfix": ") ",
     "delete_cmd_prefix": "rm(",
     "library": "var_list.r",
     "varRefreshCmd": "cat(var_dic_list()) "
    }
   },
   "types_to_exclude": [
    "module",
    "function",
    "builtin_function_or_method",
    "instance",
    "_Feature"
   ],
   "window_display": false
  }
 },
 "nbformat": 4,
 "nbformat_minor": 2
}
