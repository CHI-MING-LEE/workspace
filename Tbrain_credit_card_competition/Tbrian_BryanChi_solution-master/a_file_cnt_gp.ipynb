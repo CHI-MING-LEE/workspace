{
 "cells": [
  {
   "cell_type": "code",
   "execution_count": 1,
   "metadata": {
    "collapsed": true
   },
   "outputs": [],
   "source": [
    "import numpy as np\n",
    "import pandas as pd\n",
    "import matplotlib.pyplot as plt\n",
    "import gc\n",
    "\n",
    "%matplotlib inline"
   ]
  },
  {
   "cell_type": "code",
   "execution_count": 2,
   "metadata": {
    "collapsed": false
   },
   "outputs": [],
   "source": [
    "# create long representation for file and cust\n",
    "#march = pd.read_hdf('../march.h5', 'df')\n",
    "#march = march.groupby(['file_id','customer_id']).count().reset_index()[['file_id','customer_id','timestamp']]\n",
    "\n",
    "#april = pd.read_hdf('../april.h5', 'df')\n",
    "#april = april.groupby(['file_id','customer_id']).count().reset_index()[['file_id','customer_id','timestamp']]\n",
    "\n",
    "#may = pd.read_hdf('../may.h5', 'df')\n",
    "#may = may.groupby(['file_id','customer_id']).count().reset_index()[['file_id','customer_id','timestamp']]\n",
    "\n",
    "#data = pd.concat([march,april,may],axis=0)\n",
    "\n",
    "#data = data.groupby(['file_id','customer_id']).count().reset_index()[['file_id','customer_id']]\n",
    "#data.head(3) # take unique (file,cust)"
   ]
  },
  {
   "cell_type": "code",
   "execution_count": 3,
   "metadata": {
    "collapsed": false
   },
   "outputs": [
    {
     "data": {
      "text/html": [
       "<div>\n",
       "<table border=\"1\" class=\"dataframe\">\n",
       "  <thead>\n",
       "    <tr style=\"text-align: right;\">\n",
       "      <th></th>\n",
       "      <th>file_id</th>\n",
       "      <th>customer_id</th>\n",
       "    </tr>\n",
       "  </thead>\n",
       "  <tbody>\n",
       "    <tr>\n",
       "      <th>0</th>\n",
       "      <td>00008c73ee43c15b16c26b26398c1577</td>\n",
       "      <td>033e91e730e176cd2ac81dc48a8f5088</td>\n",
       "    </tr>\n",
       "    <tr>\n",
       "      <th>1</th>\n",
       "      <td>00008c73ee43c15b16c26b26398c1577</td>\n",
       "      <td>06bea9f9c1d72c4d3151efa6bcd5ba83</td>\n",
       "    </tr>\n",
       "    <tr>\n",
       "      <th>2</th>\n",
       "      <td>00008c73ee43c15b16c26b26398c1577</td>\n",
       "      <td>113597f904c023f44d1a01babb780f58</td>\n",
       "    </tr>\n",
       "  </tbody>\n",
       "</table>\n",
       "</div>"
      ],
      "text/plain": [
       "                            file_id                       customer_id\n",
       "0  00008c73ee43c15b16c26b26398c1577  033e91e730e176cd2ac81dc48a8f5088\n",
       "1  00008c73ee43c15b16c26b26398c1577  06bea9f9c1d72c4d3151efa6bcd5ba83\n",
       "2  00008c73ee43c15b16c26b26398c1577  113597f904c023f44d1a01babb780f58"
      ]
     },
     "execution_count": 3,
     "metadata": {},
     "output_type": "execute_result"
    }
   ],
   "source": [
    "#data.to_hdf('long_rep_file_cust.h5','df')\n",
    "data = pd.read_hdf('custgp0.h5', 'df')\n",
    "#data = pd.read_hdf('custgp1.h5', 'df')\n",
    "#data = pd.read_hdf('custgp2.h5', 'df')\n",
    "#data = pd.read_hdf('custgp3.h5', 'df')\n",
    "#data = pd.read_hdf('custgp4.h5', 'df')\n",
    "\n",
    "data.head(3)"
   ]
  },
  {
   "cell_type": "code",
   "execution_count": 4,
   "metadata": {
    "collapsed": false
   },
   "outputs": [
    {
     "data": {
      "text/html": [
       "<div>\n",
       "<table border=\"1\" class=\"dataframe\">\n",
       "  <thead>\n",
       "    <tr style=\"text-align: right;\">\n",
       "      <th></th>\n",
       "      <th>file_id</th>\n",
       "      <th>customer_id</th>\n",
       "      <th>first_day</th>\n",
       "      <th>target</th>\n",
       "    </tr>\n",
       "  </thead>\n",
       "  <tbody>\n",
       "    <tr>\n",
       "      <th>0</th>\n",
       "      <td>00008c73ee43c15b16c26b26398c1577</td>\n",
       "      <td>033e91e730e176cd2ac81dc48a8f5088</td>\n",
       "      <td>76</td>\n",
       "      <td>NaN</td>\n",
       "    </tr>\n",
       "    <tr>\n",
       "      <th>1</th>\n",
       "      <td>00008c73ee43c15b16c26b26398c1577</td>\n",
       "      <td>06bea9f9c1d72c4d3151efa6bcd5ba83</td>\n",
       "      <td>76</td>\n",
       "      <td>NaN</td>\n",
       "    </tr>\n",
       "    <tr>\n",
       "      <th>2</th>\n",
       "      <td>00008c73ee43c15b16c26b26398c1577</td>\n",
       "      <td>113597f904c023f44d1a01babb780f58</td>\n",
       "      <td>76</td>\n",
       "      <td>NaN</td>\n",
       "    </tr>\n",
       "  </tbody>\n",
       "</table>\n",
       "</div>"
      ],
      "text/plain": [
       "                            file_id                       customer_id  \\\n",
       "0  00008c73ee43c15b16c26b26398c1577  033e91e730e176cd2ac81dc48a8f5088   \n",
       "1  00008c73ee43c15b16c26b26398c1577  06bea9f9c1d72c4d3151efa6bcd5ba83   \n",
       "2  00008c73ee43c15b16c26b26398c1577  113597f904c023f44d1a01babb780f58   \n",
       "\n",
       "   first_day  target  \n",
       "0         76     NaN  \n",
       "1         76     NaN  \n",
       "2         76     NaN  "
      ]
     },
     "execution_count": 4,
     "metadata": {},
     "output_type": "execute_result"
    }
   ],
   "source": [
    "file_df = pd.read_csv('file_df.csv')\n",
    "file_df = file_df[['file_id','first_day']]\n",
    "\n",
    "data = pd.merge(data,file_df,on='file_id',how='left')\n",
    "\n",
    "train = pd.read_csv('../training-set.csv',header=None)\n",
    "test = pd.read_csv('../testing-set.csv',header=None)\n",
    "\n",
    "train.columns = ['file_id','target']\n",
    "test.columns = ['file_id','target']\n",
    "\n",
    "# full mean code\n",
    "fullmeancode = pd.read_csv('final/forfullmeancode.csv')\n",
    "train = pd.concat([train,fullmeancode],axis=0)\n",
    "# full mean code\n",
    "\n",
    "\n",
    "data = pd.merge(data,train,how='left',on='file_id')\n",
    "data.head(3)"
   ]
  },
  {
   "cell_type": "code",
   "execution_count": 5,
   "metadata": {
    "collapsed": false
   },
   "outputs": [
    {
     "data": {
      "text/plain": [
       "(53033, 2)"
      ]
     },
     "execution_count": 5,
     "metadata": {},
     "output_type": "execute_result"
    }
   ],
   "source": [
    "train.shape"
   ]
  },
  {
   "cell_type": "code",
   "execution_count": 6,
   "metadata": {
    "collapsed": false
   },
   "outputs": [
    {
     "data": {
      "text/html": [
       "<div>\n",
       "<table border=\"1\" class=\"dataframe\">\n",
       "  <thead>\n",
       "    <tr style=\"text-align: right;\">\n",
       "      <th></th>\n",
       "      <th>file_id</th>\n",
       "      <th>customer_id</th>\n",
       "      <th>first_day</th>\n",
       "      <th>target</th>\n",
       "    </tr>\n",
       "  </thead>\n",
       "  <tbody>\n",
       "    <tr>\n",
       "      <th>0</th>\n",
       "      <td>0087304d5bee451f0d82c7407b0fa7d1</td>\n",
       "      <td>662a1f7c7441bace48defd0f1947bc36</td>\n",
       "      <td>1</td>\n",
       "      <td>0.0</td>\n",
       "    </tr>\n",
       "    <tr>\n",
       "      <th>1</th>\n",
       "      <td>0087304d5bee451f0d82c7407b0fa7d1</td>\n",
       "      <td>71a15fcfe2741879c0d3a4588c011dae</td>\n",
       "      <td>1</td>\n",
       "      <td>0.0</td>\n",
       "    </tr>\n",
       "    <tr>\n",
       "      <th>2</th>\n",
       "      <td>0087e85caf760ff171b1774bafcafcae</td>\n",
       "      <td>00756aef13639abb552bbda410db6aff</td>\n",
       "      <td>1</td>\n",
       "      <td>0.0</td>\n",
       "    </tr>\n",
       "  </tbody>\n",
       "</table>\n",
       "</div>"
      ],
      "text/plain": [
       "                            file_id                       customer_id  \\\n",
       "0  0087304d5bee451f0d82c7407b0fa7d1  662a1f7c7441bace48defd0f1947bc36   \n",
       "1  0087304d5bee451f0d82c7407b0fa7d1  71a15fcfe2741879c0d3a4588c011dae   \n",
       "2  0087e85caf760ff171b1774bafcafcae  00756aef13639abb552bbda410db6aff   \n",
       "\n",
       "   first_day  target  \n",
       "0          1     0.0  \n",
       "1          1     0.0  \n",
       "2          1     0.0  "
      ]
     },
     "execution_count": 6,
     "metadata": {},
     "output_type": "execute_result"
    }
   ],
   "source": [
    "data = data.sort_values(by=['first_day','file_id']).reset_index(drop=True)\n",
    "data.head(3)"
   ]
  },
  {
   "cell_type": "code",
   "execution_count": 7,
   "metadata": {
    "collapsed": false
   },
   "outputs": [
    {
     "data": {
      "text/html": [
       "<div>\n",
       "<table border=\"1\" class=\"dataframe\">\n",
       "  <thead>\n",
       "    <tr style=\"text-align: right;\">\n",
       "      <th></th>\n",
       "      <th>file_id</th>\n",
       "      <th>customer_id</th>\n",
       "      <th>target</th>\n",
       "    </tr>\n",
       "  </thead>\n",
       "  <tbody>\n",
       "    <tr>\n",
       "      <th>0</th>\n",
       "      <td>0087304d5bee451f0d82c7407b0fa7d1</td>\n",
       "      <td>662a1f7c7441bace48defd0f1947bc36</td>\n",
       "      <td>0.0</td>\n",
       "    </tr>\n",
       "    <tr>\n",
       "      <th>1</th>\n",
       "      <td>0087304d5bee451f0d82c7407b0fa7d1</td>\n",
       "      <td>71a15fcfe2741879c0d3a4588c011dae</td>\n",
       "      <td>0.0</td>\n",
       "    </tr>\n",
       "    <tr>\n",
       "      <th>2</th>\n",
       "      <td>0087e85caf760ff171b1774bafcafcae</td>\n",
       "      <td>00756aef13639abb552bbda410db6aff</td>\n",
       "      <td>0.0</td>\n",
       "    </tr>\n",
       "  </tbody>\n",
       "</table>\n",
       "</div>"
      ],
      "text/plain": [
       "                            file_id                       customer_id  target\n",
       "0  0087304d5bee451f0d82c7407b0fa7d1  662a1f7c7441bace48defd0f1947bc36     0.0\n",
       "1  0087304d5bee451f0d82c7407b0fa7d1  71a15fcfe2741879c0d3a4588c011dae     0.0\n",
       "2  0087e85caf760ff171b1774bafcafcae  00756aef13639abb552bbda410db6aff     0.0"
      ]
     },
     "execution_count": 7,
     "metadata": {},
     "output_type": "execute_result"
    }
   ],
   "source": [
    "tr_data = data[data['first_day']<50] # 62 for predict, 50 for val\n",
    "tr_data = tr_data[['file_id','customer_id','target']]\n",
    "tr_data.head(3)"
   ]
  },
  {
   "cell_type": "code",
   "execution_count": 8,
   "metadata": {
    "collapsed": true
   },
   "outputs": [],
   "source": [
    "cumsum = tr_data.groupby(['customer_id']).cumsum().target - tr_data['target']\n",
    "cumcnt = tr_data.groupby(['customer_id']).cumcount()\n",
    "tr_data['mean_score'] = cumsum / cumcnt"
   ]
  },
  {
   "cell_type": "markdown",
   "metadata": {},
   "source": [
    "# smoothing"
   ]
  },
  {
   "cell_type": "code",
   "execution_count": 9,
   "metadata": {
    "collapsed": false
   },
   "outputs": [
    {
     "data": {
      "text/plain": [
       "0.0064495294932422394"
      ]
     },
     "execution_count": 9,
     "metadata": {},
     "output_type": "execute_result"
    }
   ],
   "source": [
    "tr_data['mean_score'].mean()"
   ]
  },
  {
   "cell_type": "code",
   "execution_count": 10,
   "metadata": {
    "collapsed": true
   },
   "outputs": [],
   "source": [
    "alpha = 20\n",
    "gbmean = 0.007788156283522612\n",
    "tr_data['mean_score'] = ((tr_data['mean_score'] * cumcnt)+(gbmean * alpha))/(cumcnt+alpha)"
   ]
  },
  {
   "cell_type": "code",
   "execution_count": 11,
   "metadata": {
    "collapsed": false
   },
   "outputs": [],
   "source": [
    "customer_score = tr_data.groupby(['customer_id']).last().reset_index()[['customer_id','mean_score']]\n",
    "customer_df = pd.read_csv('rs_customer_df.csv')\n",
    "customer_df = pd.merge(customer_df,customer_score,how='left',on='customer_id')\n"
   ]
  },
  {
   "cell_type": "code",
   "execution_count": 12,
   "metadata": {
    "collapsed": false
   },
   "outputs": [
    {
     "data": {
      "text/html": [
       "<div>\n",
       "<table border=\"1\" class=\"dataframe\">\n",
       "  <thead>\n",
       "    <tr style=\"text-align: right;\">\n",
       "      <th></th>\n",
       "      <th>customer_id</th>\n",
       "      <th>mean_score</th>\n",
       "    </tr>\n",
       "  </thead>\n",
       "  <tbody>\n",
       "    <tr>\n",
       "      <th>0</th>\n",
       "      <td>0000006fa286976bf35ea17f1f19bc7a</td>\n",
       "      <td>NaN</td>\n",
       "    </tr>\n",
       "    <tr>\n",
       "      <th>1</th>\n",
       "      <td>00000145d9062eada528bace5fb4864e</td>\n",
       "      <td>NaN</td>\n",
       "    </tr>\n",
       "    <tr>\n",
       "      <th>2</th>\n",
       "      <td>000003d77bee692d83b7b83fdba60d3d</td>\n",
       "      <td>NaN</td>\n",
       "    </tr>\n",
       "  </tbody>\n",
       "</table>\n",
       "</div>"
      ],
      "text/plain": [
       "                        customer_id  mean_score\n",
       "0  0000006fa286976bf35ea17f1f19bc7a         NaN\n",
       "1  00000145d9062eada528bace5fb4864e         NaN\n",
       "2  000003d77bee692d83b7b83fdba60d3d         NaN"
      ]
     },
     "execution_count": 12,
     "metadata": {},
     "output_type": "execute_result"
    }
   ],
   "source": [
    "customer_df = customer_df[['customer_id','mean_score']]\n",
    "customer_df.head(3)"
   ]
  },
  {
   "cell_type": "code",
   "execution_count": 13,
   "metadata": {
    "collapsed": false
   },
   "outputs": [
    {
     "data": {
      "text/plain": [
       "0.007437046950343279"
      ]
     },
     "execution_count": 13,
     "metadata": {},
     "output_type": "execute_result"
    }
   ],
   "source": [
    "customer_df['mean_score'].mean()"
   ]
  },
  {
   "cell_type": "code",
   "execution_count": 14,
   "metadata": {
    "collapsed": false
   },
   "outputs": [
    {
     "data": {
      "text/plain": [
       "(1055175, 2)"
      ]
     },
     "execution_count": 14,
     "metadata": {},
     "output_type": "execute_result"
    }
   ],
   "source": [
    "##customer_df.loc[pd.isnull(customer_df).mean_score,'mean_score']=0.012656403967587571\n",
    "customer_df = customer_df[customer_df['mean_score']>-1]\n",
    "customer_df.shape"
   ]
  },
  {
   "cell_type": "code",
   "execution_count": 15,
   "metadata": {
    "collapsed": true
   },
   "outputs": [],
   "source": [
    "customer_score = customer_score[customer_score['mean_score']>-1]"
   ]
  },
  {
   "cell_type": "code",
   "execution_count": 16,
   "metadata": {
    "collapsed": false
   },
   "outputs": [
    {
     "data": {
      "text/html": [
       "<div>\n",
       "<table border=\"1\" class=\"dataframe\">\n",
       "  <thead>\n",
       "    <tr style=\"text-align: right;\">\n",
       "      <th></th>\n",
       "      <th>file_id</th>\n",
       "      <th>customer_id</th>\n",
       "      <th>first_day</th>\n",
       "      <th>target</th>\n",
       "    </tr>\n",
       "  </thead>\n",
       "  <tbody>\n",
       "    <tr>\n",
       "      <th>12121675</th>\n",
       "      <td>0021c7f072ad0e8068ab8c611700bfe1</td>\n",
       "      <td>04a890cd36f3cface3faeea2fc06967b</td>\n",
       "      <td>50</td>\n",
       "      <td>0.0</td>\n",
       "    </tr>\n",
       "    <tr>\n",
       "      <th>12121676</th>\n",
       "      <td>0021c7f072ad0e8068ab8c611700bfe1</td>\n",
       "      <td>052c7bc0c271b8f1accb80ca2bda46db</td>\n",
       "      <td>50</td>\n",
       "      <td>0.0</td>\n",
       "    </tr>\n",
       "    <tr>\n",
       "      <th>12121677</th>\n",
       "      <td>0021c7f072ad0e8068ab8c611700bfe1</td>\n",
       "      <td>07d2eef90ff6fdcc92092f81a0292d54</td>\n",
       "      <td>50</td>\n",
       "      <td>0.0</td>\n",
       "    </tr>\n",
       "  </tbody>\n",
       "</table>\n",
       "</div>"
      ],
      "text/plain": [
       "                                   file_id                       customer_id  \\\n",
       "12121675  0021c7f072ad0e8068ab8c611700bfe1  04a890cd36f3cface3faeea2fc06967b   \n",
       "12121676  0021c7f072ad0e8068ab8c611700bfe1  052c7bc0c271b8f1accb80ca2bda46db   \n",
       "12121677  0021c7f072ad0e8068ab8c611700bfe1  07d2eef90ff6fdcc92092f81a0292d54   \n",
       "\n",
       "          first_day  target  \n",
       "12121675         50     0.0  \n",
       "12121676         50     0.0  \n",
       "12121677         50     0.0  "
      ]
     },
     "execution_count": 16,
     "metadata": {},
     "output_type": "execute_result"
    }
   ],
   "source": [
    "te_data = data[data['first_day']>49] # 61 for predict, 49 for val\n",
    "te_data.head(3)"
   ]
  },
  {
   "cell_type": "code",
   "execution_count": 17,
   "metadata": {
    "collapsed": false
   },
   "outputs": [
    {
     "data": {
      "text/html": [
       "<div>\n",
       "<table border=\"1\" class=\"dataframe\">\n",
       "  <thead>\n",
       "    <tr style=\"text-align: right;\">\n",
       "      <th></th>\n",
       "      <th>file_id</th>\n",
       "      <th>customer_id</th>\n",
       "      <th>mean_score</th>\n",
       "    </tr>\n",
       "  </thead>\n",
       "  <tbody>\n",
       "    <tr>\n",
       "      <th>0</th>\n",
       "      <td>0021c7f072ad0e8068ab8c611700bfe1</td>\n",
       "      <td>04a890cd36f3cface3faeea2fc06967b</td>\n",
       "      <td>0.005371</td>\n",
       "    </tr>\n",
       "    <tr>\n",
       "      <th>1</th>\n",
       "      <td>0021c7f072ad0e8068ab8c611700bfe1</td>\n",
       "      <td>052c7bc0c271b8f1accb80ca2bda46db</td>\n",
       "      <td>0.005991</td>\n",
       "    </tr>\n",
       "    <tr>\n",
       "      <th>2</th>\n",
       "      <td>0021c7f072ad0e8068ab8c611700bfe1</td>\n",
       "      <td>07d2eef90ff6fdcc92092f81a0292d54</td>\n",
       "      <td>NaN</td>\n",
       "    </tr>\n",
       "  </tbody>\n",
       "</table>\n",
       "</div>"
      ],
      "text/plain": [
       "                            file_id                       customer_id  \\\n",
       "0  0021c7f072ad0e8068ab8c611700bfe1  04a890cd36f3cface3faeea2fc06967b   \n",
       "1  0021c7f072ad0e8068ab8c611700bfe1  052c7bc0c271b8f1accb80ca2bda46db   \n",
       "2  0021c7f072ad0e8068ab8c611700bfe1  07d2eef90ff6fdcc92092f81a0292d54   \n",
       "\n",
       "   mean_score  \n",
       "0    0.005371  \n",
       "1    0.005991  \n",
       "2         NaN  "
      ]
     },
     "execution_count": 17,
     "metadata": {},
     "output_type": "execute_result"
    }
   ],
   "source": [
    "te_data = te_data.sort_values(by=['first_day','file_id']).reset_index(drop=True)\n",
    "te_data = te_data[['file_id','customer_id']]\n",
    "te_data = pd.merge(te_data,customer_score,how='left',on=['customer_id'] )\n",
    "te_data.head(3)"
   ]
  },
  {
   "cell_type": "code",
   "execution_count": 18,
   "metadata": {
    "collapsed": false
   },
   "outputs": [
    {
     "data": {
      "text/html": [
       "<div>\n",
       "<table border=\"1\" class=\"dataframe\">\n",
       "  <thead>\n",
       "    <tr style=\"text-align: right;\">\n",
       "      <th></th>\n",
       "      <th>customer_id</th>\n",
       "      <th>file_id</th>\n",
       "      <th>mean_score</th>\n",
       "      <th>target</th>\n",
       "    </tr>\n",
       "  </thead>\n",
       "  <tbody>\n",
       "    <tr>\n",
       "      <th>0</th>\n",
       "      <td>662a1f7c7441bace48defd0f1947bc36</td>\n",
       "      <td>0087304d5bee451f0d82c7407b0fa7d1</td>\n",
       "      <td>NaN</td>\n",
       "      <td>0.0</td>\n",
       "    </tr>\n",
       "    <tr>\n",
       "      <th>1</th>\n",
       "      <td>71a15fcfe2741879c0d3a4588c011dae</td>\n",
       "      <td>0087304d5bee451f0d82c7407b0fa7d1</td>\n",
       "      <td>NaN</td>\n",
       "      <td>0.0</td>\n",
       "    </tr>\n",
       "    <tr>\n",
       "      <th>2</th>\n",
       "      <td>00756aef13639abb552bbda410db6aff</td>\n",
       "      <td>0087e85caf760ff171b1774bafcafcae</td>\n",
       "      <td>NaN</td>\n",
       "      <td>0.0</td>\n",
       "    </tr>\n",
       "  </tbody>\n",
       "</table>\n",
       "</div>"
      ],
      "text/plain": [
       "                        customer_id                           file_id  \\\n",
       "0  662a1f7c7441bace48defd0f1947bc36  0087304d5bee451f0d82c7407b0fa7d1   \n",
       "1  71a15fcfe2741879c0d3a4588c011dae  0087304d5bee451f0d82c7407b0fa7d1   \n",
       "2  00756aef13639abb552bbda410db6aff  0087e85caf760ff171b1774bafcafcae   \n",
       "\n",
       "   mean_score  target  \n",
       "0         NaN     0.0  \n",
       "1         NaN     0.0  \n",
       "2         NaN     0.0  "
      ]
     },
     "execution_count": 18,
     "metadata": {},
     "output_type": "execute_result"
    }
   ],
   "source": [
    "data = pd.concat([tr_data,te_data],ignore_index=True)\n",
    "data.head(3)"
   ]
  },
  {
   "cell_type": "code",
   "execution_count": 19,
   "metadata": {
    "collapsed": false
   },
   "outputs": [],
   "source": [
    "data = data[data['mean_score']>-1]"
   ]
  },
  {
   "cell_type": "code",
   "execution_count": 20,
   "metadata": {
    "collapsed": false
   },
   "outputs": [],
   "source": [
    "data = data[['file_id','mean_score']]\n",
    "exp_menc_cust = data.groupby('file_id').mean().reset_index()\n",
    "exp_menc_cust.columns = ['file_id','cust_mean']"
   ]
  },
  {
   "cell_type": "code",
   "execution_count": 21,
   "metadata": {
    "collapsed": false
   },
   "outputs": [
    {
     "data": {
      "text/plain": [
       "[<matplotlib.lines.Line2D at 0x211810c72b0>]"
      ]
     },
     "execution_count": 21,
     "metadata": {},
     "output_type": "execute_result"
    },
    {
     "data": {
      "image/png": "[encoded data removed]",
      "text/plain": [
       "<matplotlib.figure.Figure at 0x2119b7408d0>"
      ]
     },
     "metadata": {},
     "output_type": "display_data"
    }
   ],
   "source": [
    "plt.plot(exp_menc_cust.cust_mean,'.')"
   ]
  },
  {
   "cell_type": "code",
   "execution_count": 22,
   "metadata": {
    "collapsed": false
   },
   "outputs": [
    {
     "data": {
      "text/html": [
       "<div>\n",
       "<table border=\"1\" class=\"dataframe\">\n",
       "  <thead>\n",
       "    <tr style=\"text-align: right;\">\n",
       "      <th></th>\n",
       "      <th>file_id</th>\n",
       "      <th>cust_mean</th>\n",
       "    </tr>\n",
       "  </thead>\n",
       "  <tbody>\n",
       "    <tr>\n",
       "      <th>0</th>\n",
       "      <td>0000e2398b12121a85166fed5fe2a3da</td>\n",
       "      <td>NaN</td>\n",
       "    </tr>\n",
       "    <tr>\n",
       "      <th>1</th>\n",
       "      <td>0001fe8dce14ce099aa6ca8ea5026ea7</td>\n",
       "      <td>0.006406</td>\n",
       "    </tr>\n",
       "    <tr>\n",
       "      <th>2</th>\n",
       "      <td>00027f50019000accc492e5684efc818</td>\n",
       "      <td>0.006727</td>\n",
       "    </tr>\n",
       "  </tbody>\n",
       "</table>\n",
       "</div>"
      ],
      "text/plain": [
       "                            file_id  cust_mean\n",
       "0  0000e2398b12121a85166fed5fe2a3da        NaN\n",
       "1  0001fe8dce14ce099aa6ca8ea5026ea7   0.006406\n",
       "2  00027f50019000accc492e5684efc818   0.006727"
      ]
     },
     "execution_count": 22,
     "metadata": {},
     "output_type": "execute_result"
    }
   ],
   "source": [
    "train = pd.read_csv('../training-set.csv',header=None)\n",
    "test = pd.read_csv('../testing-set.csv',header=None)\n",
    "train.columns = ['file_id','target']\n",
    "test.columns = ['file_id','target']\n",
    "trte = pd.concat([train,test],axis=0)\n",
    "trte = pd.merge(trte,exp_menc_cust,how='left',on='file_id')\n",
    "trte = trte[['file_id','cust_mean']]\n",
    "trte.head(3)"
   ]
  },
  {
   "cell_type": "code",
   "execution_count": 23,
   "metadata": {
    "collapsed": false
   },
   "outputs": [
    {
     "data": {
      "text/plain": [
       "0.020254755145884564"
      ]
     },
     "execution_count": 23,
     "metadata": {},
     "output_type": "execute_result"
    }
   ],
   "source": [
    "trte.cust_mean.mean()"
   ]
  },
  {
   "cell_type": "code",
   "execution_count": 24,
   "metadata": {
    "collapsed": true
   },
   "outputs": [],
   "source": [
    "trte.loc[pd.isnull(trte)['cust_mean'],'cust_mean']=0.021799171292379006\n",
    "#0.021799171292379006 for gp0 re use\n",
    "#0.039921794681213485 for gp1 re use\n",
    "#0.0290912169302414 for gp2 re use\n",
    "#0.0031946499630461896 for gp3 re use\n",
    "#0.13124271573596175 for gp4 re use"
   ]
  },
  {
   "cell_type": "code",
   "execution_count": 25,
   "metadata": {
    "collapsed": false
   },
   "outputs": [
    {
     "data": {
      "text/html": [
       "<div>\n",
       "<table border=\"1\" class=\"dataframe\">\n",
       "  <thead>\n",
       "    <tr style=\"text-align: right;\">\n",
       "      <th></th>\n",
       "      <th>file_id</th>\n",
       "      <th>cust_gp0_mean</th>\n",
       "    </tr>\n",
       "  </thead>\n",
       "  <tbody>\n",
       "    <tr>\n",
       "      <th>0</th>\n",
       "      <td>0000e2398b12121a85166fed5fe2a3da</td>\n",
       "      <td>0.021799</td>\n",
       "    </tr>\n",
       "    <tr>\n",
       "      <th>1</th>\n",
       "      <td>0001fe8dce14ce099aa6ca8ea5026ea7</td>\n",
       "      <td>0.006406</td>\n",
       "    </tr>\n",
       "    <tr>\n",
       "      <th>2</th>\n",
       "      <td>00027f50019000accc492e5684efc818</td>\n",
       "      <td>0.006727</td>\n",
       "    </tr>\n",
       "  </tbody>\n",
       "</table>\n",
       "</div>"
      ],
      "text/plain": [
       "                            file_id  cust_gp0_mean\n",
       "0  0000e2398b12121a85166fed5fe2a3da       0.021799\n",
       "1  0001fe8dce14ce099aa6ca8ea5026ea7       0.006406\n",
       "2  00027f50019000accc492e5684efc818       0.006727"
      ]
     },
     "execution_count": 25,
     "metadata": {},
     "output_type": "execute_result"
    }
   ],
   "source": [
    "trte.columns = ['file_id','cust_gp0_mean']\n",
    "trte.head(3)"
   ]
  },
  {
   "cell_type": "code",
   "execution_count": 26,
   "metadata": {
    "collapsed": true
   },
   "outputs": [],
   "source": [
    "trte.to_csv('cust_gp0_val.csv',index=False)"
   ]
  },
  {
   "cell_type": "code",
   "execution_count": 27,
   "metadata": {
    "collapsed": true
   },
   "outputs": [],
   "source": [
    "# merge feature\n",
    "custgp0 = pd.read_csv('cust_gp0_val.csv')\n",
    "custgp1 = pd.read_csv('cust_gp1_val.csv')\n",
    "custgp2 = pd.read_csv('cust_gp2_val.csv')\n",
    "custgp3 = pd.read_csv('cust_gp3_val.csv')\n",
    "custgp4 = pd.read_csv('cust_gp4_val.csv')"
   ]
  },
  {
   "cell_type": "code",
   "execution_count": 31,
   "metadata": {
    "collapsed": false
   },
   "outputs": [],
   "source": [
    "# merge feature\n",
    "custgp0 = pd.read_csv('cust_gp0.csv')\n",
    "custgp1 = pd.read_csv('cust_gp1.csv')\n",
    "custgp2 = pd.read_csv('cust_gp2.csv')\n",
    "custgp3 = pd.read_csv('cust_gp3.csv')\n",
    "custgp4 = pd.read_csv('cust_gp4.csv')"
   ]
  },
  {
   "cell_type": "code",
   "execution_count": 32,
   "metadata": {
    "collapsed": false
   },
   "outputs": [
    {
     "data": {
      "text/plain": [
       "((81894, 2), (81894, 2), (81894, 2), (81894, 2), (81894, 2))"
      ]
     },
     "execution_count": 32,
     "metadata": {},
     "output_type": "execute_result"
    }
   ],
   "source": [
    "custgp0.shape,custgp1.shape, custgp2.shape, custgp3.shape, custgp4.shape"
   ]
  },
  {
   "cell_type": "code",
   "execution_count": 33,
   "metadata": {
    "collapsed": false
   },
   "outputs": [
    {
     "data": {
      "text/html": [
       "<div>\n",
       "<table border=\"1\" class=\"dataframe\">\n",
       "  <thead>\n",
       "    <tr style=\"text-align: right;\">\n",
       "      <th></th>\n",
       "      <th>file_id</th>\n",
       "      <th>cust_gp1_mean</th>\n",
       "      <th>cust_gp2_mean</th>\n",
       "      <th>cust_gp3_mean</th>\n",
       "      <th>cust_gp4_mean</th>\n",
       "      <th>cust_gp0_mean</th>\n",
       "    </tr>\n",
       "  </thead>\n",
       "  <tbody>\n",
       "    <tr>\n",
       "      <th>0</th>\n",
       "      <td>0000e2398b12121a85166fed5fe2a3da</td>\n",
       "      <td>0.039922</td>\n",
       "      <td>0.029091</td>\n",
       "      <td>0.003195</td>\n",
       "      <td>0.131243</td>\n",
       "      <td>0.021799</td>\n",
       "    </tr>\n",
       "    <tr>\n",
       "      <th>1</th>\n",
       "      <td>0001fe8dce14ce099aa6ca8ea5026ea7</td>\n",
       "      <td>0.000000</td>\n",
       "      <td>0.000000</td>\n",
       "      <td>0.000000</td>\n",
       "      <td>0.131243</td>\n",
       "      <td>0.006406</td>\n",
       "    </tr>\n",
       "    <tr>\n",
       "      <th>2</th>\n",
       "      <td>00027f50019000accc492e5684efc818</td>\n",
       "      <td>0.039922</td>\n",
       "      <td>0.029091</td>\n",
       "      <td>0.003195</td>\n",
       "      <td>0.157770</td>\n",
       "      <td>0.006727</td>\n",
       "    </tr>\n",
       "  </tbody>\n",
       "</table>\n",
       "</div>"
      ],
      "text/plain": [
       "                            file_id  cust_gp1_mean  cust_gp2_mean  \\\n",
       "0  0000e2398b12121a85166fed5fe2a3da       0.039922       0.029091   \n",
       "1  0001fe8dce14ce099aa6ca8ea5026ea7       0.000000       0.000000   \n",
       "2  00027f50019000accc492e5684efc818       0.039922       0.029091   \n",
       "\n",
       "   cust_gp3_mean  cust_gp4_mean  cust_gp0_mean  \n",
       "0       0.003195       0.131243       0.021799  \n",
       "1       0.000000       0.131243       0.006406  \n",
       "2       0.003195       0.157770       0.006727  "
      ]
     },
     "execution_count": 33,
     "metadata": {},
     "output_type": "execute_result"
    }
   ],
   "source": [
    "cust = pd.merge(custgp1,custgp2,how='left',on='file_id')\n",
    "cust = pd.merge(cust,custgp3,how='left',on='file_id')\n",
    "cust = pd.merge(cust,custgp4,how='left',on='file_id')\n",
    "cust = pd.merge(cust,custgp0,how='left',on='file_id')\n",
    "cust.head(3)"
   ]
  },
  {
   "cell_type": "code",
   "execution_count": 30,
   "metadata": {
    "collapsed": true
   },
   "outputs": [],
   "source": [
    "cust.to_csv('cust_gpmean_val.csv',index=False)"
   ]
  },
  {
   "cell_type": "code",
   "execution_count": 34,
   "metadata": {
    "collapsed": true
   },
   "outputs": [],
   "source": [
    "cust.to_csv('cust_gpmean.csv',index=False)"
   ]
  },
  {
   "cell_type": "code",
   "execution_count": null,
   "metadata": {
    "collapsed": true
   },
   "outputs": [],
   "source": []
  }
 ],
 "metadata": {
  "kernelspec": {
   "display_name": "Python 3",
   "language": "python",
   "name": "python3"
  },
  "language_info": {
   "codemirror_mode": {
    "name": "ipython",
    "version": 3
   },
   "file_extension": ".py",
   "mimetype": "text/x-python",
   "name": "python",
   "nbconvert_exporter": "python",
   "pygments_lexer": "ipython3",
   "version": "3.6.0"
  }
 },
 "nbformat": 4,
 "nbformat_minor": 2
}
