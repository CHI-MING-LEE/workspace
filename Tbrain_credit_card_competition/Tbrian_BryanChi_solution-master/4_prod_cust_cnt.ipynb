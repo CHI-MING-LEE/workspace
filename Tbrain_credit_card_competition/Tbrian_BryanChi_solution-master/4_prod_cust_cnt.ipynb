{
 "cells": [
  {
   "cell_type": "code",
   "execution_count": 1,
   "metadata": {
    "collapsed": true
   },
   "outputs": [],
   "source": [
    "import numpy as np\n",
    "import pandas as pd\n",
    "import matplotlib.pyplot as plt\n",
    "import gc\n",
    "\n",
    "%matplotlib inline"
   ]
  },
  {
   "cell_type": "code",
   "execution_count": 2,
   "metadata": {
    "collapsed": true
   },
   "outputs": [],
   "source": [
    "product_cnt = pd.read_csv('product_cnt.csv')\n",
    "cust_prod = pd.read_csv('cust_prod.csv')\n",
    "train = pd.read_csv('training-set.csv',header=None)\n",
    "test = pd.read_csv('testing-set.csv',header=None)\n",
    "train.columns = ['file_id','target']\n",
    "test.columns = ['file_id','target']"
   ]
  },
  {
   "cell_type": "code",
   "execution_count": 3,
   "metadata": {},
   "outputs": [
    {
     "data": {
      "text/html": [
       "<div>\n",
       "<table border=\"1\" class=\"dataframe\">\n",
       "  <thead>\n",
       "    <tr style=\"text-align: right;\">\n",
       "      <th></th>\n",
       "      <th>file_id</th>\n",
       "      <th>0374c4</th>\n",
       "      <th>055649</th>\n",
       "      <th>05b409</th>\n",
       "      <th>0cdb7a</th>\n",
       "      <th>20f8a5</th>\n",
       "      <th>218578</th>\n",
       "      <th>262880</th>\n",
       "      <th>26a5d0</th>\n",
       "      <th>3c2be6</th>\n",
       "      <th>...</th>\n",
       "      <th>a310bb</th>\n",
       "      <th>aaa9c8</th>\n",
       "      <th>b93794</th>\n",
       "      <th>c105a0</th>\n",
       "      <th>c76d58</th>\n",
       "      <th>cc3a6a</th>\n",
       "      <th>d465fc</th>\n",
       "      <th>dd8d4a</th>\n",
       "      <th>e47f04</th>\n",
       "      <th>fec24f</th>\n",
       "    </tr>\n",
       "  </thead>\n",
       "  <tbody>\n",
       "    <tr>\n",
       "      <th>0</th>\n",
       "      <td>00008c73ee43c15b16c26b26398c1577</td>\n",
       "      <td>NaN</td>\n",
       "      <td>NaN</td>\n",
       "      <td>NaN</td>\n",
       "      <td>NaN</td>\n",
       "      <td>NaN</td>\n",
       "      <td>NaN</td>\n",
       "      <td>NaN</td>\n",
       "      <td>NaN</td>\n",
       "      <td>NaN</td>\n",
       "      <td>...</td>\n",
       "      <td>NaN</td>\n",
       "      <td>NaN</td>\n",
       "      <td>NaN</td>\n",
       "      <td>0.007463</td>\n",
       "      <td>NaN</td>\n",
       "      <td>NaN</td>\n",
       "      <td>NaN</td>\n",
       "      <td>NaN</td>\n",
       "      <td>0.619403</td>\n",
       "      <td>NaN</td>\n",
       "    </tr>\n",
       "    <tr>\n",
       "      <th>1</th>\n",
       "      <td>0000e2398b12121a85166fed5fe2a3da</td>\n",
       "      <td>NaN</td>\n",
       "      <td>0.808511</td>\n",
       "      <td>NaN</td>\n",
       "      <td>NaN</td>\n",
       "      <td>NaN</td>\n",
       "      <td>NaN</td>\n",
       "      <td>NaN</td>\n",
       "      <td>NaN</td>\n",
       "      <td>NaN</td>\n",
       "      <td>...</td>\n",
       "      <td>NaN</td>\n",
       "      <td>NaN</td>\n",
       "      <td>NaN</td>\n",
       "      <td>NaN</td>\n",
       "      <td>NaN</td>\n",
       "      <td>NaN</td>\n",
       "      <td>NaN</td>\n",
       "      <td>NaN</td>\n",
       "      <td>NaN</td>\n",
       "      <td>NaN</td>\n",
       "    </tr>\n",
       "    <tr>\n",
       "      <th>2</th>\n",
       "      <td>0001fe8dce14ce099aa6ca8ea5026ea7</td>\n",
       "      <td>NaN</td>\n",
       "      <td>0.790598</td>\n",
       "      <td>NaN</td>\n",
       "      <td>NaN</td>\n",
       "      <td>NaN</td>\n",
       "      <td>NaN</td>\n",
       "      <td>NaN</td>\n",
       "      <td>NaN</td>\n",
       "      <td>NaN</td>\n",
       "      <td>...</td>\n",
       "      <td>NaN</td>\n",
       "      <td>NaN</td>\n",
       "      <td>NaN</td>\n",
       "      <td>NaN</td>\n",
       "      <td>0.192308</td>\n",
       "      <td>NaN</td>\n",
       "      <td>NaN</td>\n",
       "      <td>NaN</td>\n",
       "      <td>NaN</td>\n",
       "      <td>NaN</td>\n",
       "    </tr>\n",
       "  </tbody>\n",
       "</table>\n",
       "<p>3 rows × 29 columns</p>\n",
       "</div>"
      ],
      "text/plain": [
       "                            file_id  0374c4    055649  05b409  0cdb7a  20f8a5  \\\n",
       "0  00008c73ee43c15b16c26b26398c1577     NaN       NaN     NaN     NaN     NaN   \n",
       "1  0000e2398b12121a85166fed5fe2a3da     NaN  0.808511     NaN     NaN     NaN   \n",
       "2  0001fe8dce14ce099aa6ca8ea5026ea7     NaN  0.790598     NaN     NaN     NaN   \n",
       "\n",
       "   218578  262880  26a5d0  3c2be6   ...    a310bb  aaa9c8  b93794    c105a0  \\\n",
       "0     NaN     NaN     NaN     NaN   ...       NaN     NaN     NaN  0.007463   \n",
       "1     NaN     NaN     NaN     NaN   ...       NaN     NaN     NaN       NaN   \n",
       "2     NaN     NaN     NaN     NaN   ...       NaN     NaN     NaN       NaN   \n",
       "\n",
       "     c76d58  cc3a6a  d465fc  dd8d4a    e47f04  fec24f  \n",
       "0       NaN     NaN     NaN     NaN  0.619403     NaN  \n",
       "1       NaN     NaN     NaN     NaN       NaN     NaN  \n",
       "2  0.192308     NaN     NaN     NaN       NaN     NaN  \n",
       "\n",
       "[3 rows x 29 columns]"
      ]
     },
     "execution_count": 3,
     "metadata": {},
     "output_type": "execute_result"
    }
   ],
   "source": [
    "product_cnt.head(3)"
   ]
  },
  {
   "cell_type": "code",
   "execution_count": 4,
   "metadata": {},
   "outputs": [
    {
     "data": {
      "text/html": [
       "<div>\n",
       "<table border=\"1\" class=\"dataframe\">\n",
       "  <thead>\n",
       "    <tr style=\"text-align: right;\">\n",
       "      <th></th>\n",
       "      <th>file_id</th>\n",
       "      <th>cust_cnt</th>\n",
       "      <th>prod_cnt</th>\n",
       "    </tr>\n",
       "  </thead>\n",
       "  <tbody>\n",
       "    <tr>\n",
       "      <th>0</th>\n",
       "      <td>00008c73ee43c15b16c26b26398c1577</td>\n",
       "      <td>91</td>\n",
       "      <td>5</td>\n",
       "    </tr>\n",
       "    <tr>\n",
       "      <th>1</th>\n",
       "      <td>0000e2398b12121a85166fed5fe2a3da</td>\n",
       "      <td>3</td>\n",
       "      <td>2</td>\n",
       "    </tr>\n",
       "    <tr>\n",
       "      <th>2</th>\n",
       "      <td>0001fe8dce14ce099aa6ca8ea5026ea7</td>\n",
       "      <td>234</td>\n",
       "      <td>3</td>\n",
       "    </tr>\n",
       "  </tbody>\n",
       "</table>\n",
       "</div>"
      ],
      "text/plain": [
       "                            file_id  cust_cnt  prod_cnt\n",
       "0  00008c73ee43c15b16c26b26398c1577        91         5\n",
       "1  0000e2398b12121a85166fed5fe2a3da         3         2\n",
       "2  0001fe8dce14ce099aa6ca8ea5026ea7       234         3"
      ]
     },
     "execution_count": 4,
     "metadata": {},
     "output_type": "execute_result"
    }
   ],
   "source": [
    "cust_prod.head(3)"
   ]
  },
  {
   "cell_type": "markdown",
   "metadata": {},
   "source": [
    "# cust_freq, prod_freq"
   ]
  },
  {
   "cell_type": "code",
   "execution_count": 7,
   "metadata": {
    "collapsed": true
   },
   "outputs": [],
   "source": [
    "file_df = pd.read_csv('file_df.csv')"
   ]
  },
  {
   "cell_type": "code",
   "execution_count": 8,
   "metadata": {},
   "outputs": [
    {
     "data": {
      "text/html": [
       "<div>\n",
       "<table border=\"1\" class=\"dataframe\">\n",
       "  <thead>\n",
       "    <tr style=\"text-align: right;\">\n",
       "      <th></th>\n",
       "      <th>file_id</th>\n",
       "      <th>first_day</th>\n",
       "      <th>last_day</th>\n",
       "      <th>C1</th>\n",
       "      <th>C2</th>\n",
       "      <th>C3</th>\n",
       "      <th>C4</th>\n",
       "      <th>C5</th>\n",
       "      <th>C6</th>\n",
       "      <th>C_last</th>\n",
       "      <th>...</th>\n",
       "      <th>Cmax_Cmin</th>\n",
       "      <th>Cm1_Cm2</th>\n",
       "      <th>Cmfirst_Cmlast</th>\n",
       "      <th>Cmmax_Cmmin</th>\n",
       "      <th>Cper1_Cper2</th>\n",
       "      <th>Cperfirst_Cperlast</th>\n",
       "      <th>Cpermax_Cpermin</th>\n",
       "      <th>Cmper1_Cmper2</th>\n",
       "      <th>Cmperfirst_Cmperlast</th>\n",
       "      <th>Cmpermax_Cmpermin</th>\n",
       "    </tr>\n",
       "  </thead>\n",
       "  <tbody>\n",
       "    <tr>\n",
       "      <th>0</th>\n",
       "      <td>0000e2398b12121a85166fed5fe2a3da</td>\n",
       "      <td>4</td>\n",
       "      <td>8</td>\n",
       "      <td>43.0</td>\n",
       "      <td>3.0</td>\n",
       "      <td>0.0</td>\n",
       "      <td>0.0</td>\n",
       "      <td>1.0</td>\n",
       "      <td>0.0</td>\n",
       "      <td>1.0</td>\n",
       "      <td>...</td>\n",
       "      <td>42.0</td>\n",
       "      <td>1.161258</td>\n",
       "      <td>1.236928</td>\n",
       "      <td>1.236928</td>\n",
       "      <td>85.106383</td>\n",
       "      <td>89.361702</td>\n",
       "      <td>89.361702</td>\n",
       "      <td>83.188698</td>\n",
       "      <td>88.609485</td>\n",
       "      <td>88.609485</td>\n",
       "    </tr>\n",
       "    <tr>\n",
       "      <th>1</th>\n",
       "      <td>0001fe8dce14ce099aa6ca8ea5026ea7</td>\n",
       "      <td>15</td>\n",
       "      <td>20</td>\n",
       "      <td>3.0</td>\n",
       "      <td>39.0</td>\n",
       "      <td>66.0</td>\n",
       "      <td>33.0</td>\n",
       "      <td>45.0</td>\n",
       "      <td>48.0</td>\n",
       "      <td>48.0</td>\n",
       "      <td>...</td>\n",
       "      <td>63.0</td>\n",
       "      <td>-0.432446</td>\n",
       "      <td>-1.055055</td>\n",
       "      <td>1.055055</td>\n",
       "      <td>-15.384615</td>\n",
       "      <td>-19.230769</td>\n",
       "      <td>26.923077</td>\n",
       "      <td>-12.610274</td>\n",
       "      <td>-30.765725</td>\n",
       "      <td>30.765725</td>\n",
       "    </tr>\n",
       "    <tr>\n",
       "      <th>2</th>\n",
       "      <td>0006ac9aadbdbf2fed5e62b4e463daa1</td>\n",
       "      <td>24</td>\n",
       "      <td>29</td>\n",
       "      <td>25.0</td>\n",
       "      <td>31.0</td>\n",
       "      <td>20.0</td>\n",
       "      <td>11.0</td>\n",
       "      <td>6.0</td>\n",
       "      <td>8.0</td>\n",
       "      <td>8.0</td>\n",
       "      <td>...</td>\n",
       "      <td>25.0</td>\n",
       "      <td>-0.251355</td>\n",
       "      <td>0.289756</td>\n",
       "      <td>0.638889</td>\n",
       "      <td>-5.940594</td>\n",
       "      <td>16.831683</td>\n",
       "      <td>24.752475</td>\n",
       "      <td>-8.835096</td>\n",
       "      <td>10.184889</td>\n",
       "      <td>22.456861</td>\n",
       "    </tr>\n",
       "  </tbody>\n",
       "</table>\n",
       "<p>3 rows × 65 columns</p>\n",
       "</div>"
      ],
      "text/plain": [
       "                            file_id  first_day  last_day    C1    C2    C3  \\\n",
       "0  0000e2398b12121a85166fed5fe2a3da          4         8  43.0   3.0   0.0   \n",
       "1  0001fe8dce14ce099aa6ca8ea5026ea7         15        20   3.0  39.0  66.0   \n",
       "2  0006ac9aadbdbf2fed5e62b4e463daa1         24        29  25.0  31.0  20.0   \n",
       "\n",
       "     C4    C5    C6  C_last        ...          Cmax_Cmin   Cm1_Cm2  \\\n",
       "0   0.0   1.0   0.0     1.0        ...               42.0  1.161258   \n",
       "1  33.0  45.0  48.0    48.0        ...               63.0 -0.432446   \n",
       "2  11.0   6.0   8.0     8.0        ...               25.0 -0.251355   \n",
       "\n",
       "   Cmfirst_Cmlast  Cmmax_Cmmin  Cper1_Cper2  Cperfirst_Cperlast  \\\n",
       "0        1.236928     1.236928    85.106383           89.361702   \n",
       "1       -1.055055     1.055055   -15.384615          -19.230769   \n",
       "2        0.289756     0.638889    -5.940594           16.831683   \n",
       "\n",
       "   Cpermax_Cpermin  Cmper1_Cmper2  Cmperfirst_Cmperlast  Cmpermax_Cmpermin  \n",
       "0        89.361702      83.188698             88.609485          88.609485  \n",
       "1        26.923077     -12.610274            -30.765725          30.765725  \n",
       "2        24.752475      -8.835096             10.184889          22.456861  \n",
       "\n",
       "[3 rows x 65 columns]"
      ]
     },
     "execution_count": 8,
     "metadata": {},
     "output_type": "execute_result"
    }
   ],
   "source": [
    "file_df.head(3)"
   ]
  },
  {
   "cell_type": "code",
   "execution_count": 9,
   "metadata": {},
   "outputs": [
    {
     "data": {
      "text/plain": [
       "Index(['file_id', 'first_day', 'last_day', 'C1', 'C2', 'C3', 'C4', 'C5', 'C6',\n",
       "       'C_last', 'C_sum', 'Cper1', 'Cper2', 'Cper3', 'Cper4', 'Cper5', 'Cper6',\n",
       "       'Cper_last', 'Cm1', 'Cm2', 'Cm3', 'Cm4', 'Cm5', 'Cm6', 'Cm_last',\n",
       "       'Cm_sum', 'Cmper1', 'Cmper2', 'Cmper3', 'Cmper4', 'Cmper5', 'Cmper6',\n",
       "       'Cmper_last', 'C_mean', 'C_median', 'C_std', 'C_min', 'C_max',\n",
       "       'Cm_mean', 'Cm_median', 'Cm_std', 'Cm_min', 'Cm_max', 'Cmper_mean',\n",
       "       'Cmper_median', 'Cmper_std', 'Cmper_min', 'Cmper_max', 'Cper_mean',\n",
       "       'Cper_median', 'Cper_std', 'Cper_min', 'Cper_max', 'C1_C2',\n",
       "       'Cfirst_Clast', 'Cmax_Cmin', 'Cm1_Cm2', 'Cmfirst_Cmlast', 'Cmmax_Cmmin',\n",
       "       'Cper1_Cper2', 'Cperfirst_Cperlast', 'Cpermax_Cpermin', 'Cmper1_Cmper2',\n",
       "       'Cmperfirst_Cmperlast', 'Cmpermax_Cmpermin'],\n",
       "      dtype='object')"
      ]
     },
     "execution_count": 9,
     "metadata": {},
     "output_type": "execute_result"
    }
   ],
   "source": [
    "file_df.columns"
   ]
  },
  {
   "cell_type": "code",
   "execution_count": 10,
   "metadata": {
    "collapsed": true
   },
   "outputs": [],
   "source": [
    "file_df = file_df[['file_id','C_sum']]\n",
    "cust_prod = pd.merge(cust_prod,file_df,how='left',on='file_id')"
   ]
  },
  {
   "cell_type": "code",
   "execution_count": 11,
   "metadata": {},
   "outputs": [
    {
     "data": {
      "text/html": [
       "<div>\n",
       "<table border=\"1\" class=\"dataframe\">\n",
       "  <thead>\n",
       "    <tr style=\"text-align: right;\">\n",
       "      <th></th>\n",
       "      <th>file_id</th>\n",
       "      <th>cust_cnt</th>\n",
       "      <th>prod_cnt</th>\n",
       "      <th>C_sum</th>\n",
       "    </tr>\n",
       "  </thead>\n",
       "  <tbody>\n",
       "    <tr>\n",
       "      <th>0</th>\n",
       "      <td>00008c73ee43c15b16c26b26398c1577</td>\n",
       "      <td>91</td>\n",
       "      <td>5</td>\n",
       "      <td>134.0</td>\n",
       "    </tr>\n",
       "    <tr>\n",
       "      <th>1</th>\n",
       "      <td>0000e2398b12121a85166fed5fe2a3da</td>\n",
       "      <td>3</td>\n",
       "      <td>2</td>\n",
       "      <td>47.0</td>\n",
       "    </tr>\n",
       "    <tr>\n",
       "      <th>2</th>\n",
       "      <td>0001fe8dce14ce099aa6ca8ea5026ea7</td>\n",
       "      <td>234</td>\n",
       "      <td>3</td>\n",
       "      <td>234.0</td>\n",
       "    </tr>\n",
       "  </tbody>\n",
       "</table>\n",
       "</div>"
      ],
      "text/plain": [
       "                            file_id  cust_cnt  prod_cnt  C_sum\n",
       "0  00008c73ee43c15b16c26b26398c1577        91         5  134.0\n",
       "1  0000e2398b12121a85166fed5fe2a3da         3         2   47.0\n",
       "2  0001fe8dce14ce099aa6ca8ea5026ea7       234         3  234.0"
      ]
     },
     "execution_count": 11,
     "metadata": {},
     "output_type": "execute_result"
    }
   ],
   "source": [
    "cust_prod.head(3)"
   ]
  },
  {
   "cell_type": "code",
   "execution_count": 12,
   "metadata": {
    "collapsed": true
   },
   "outputs": [],
   "source": [
    "cust_prod['cust_freq']=cust_prod['cust_cnt']/cust_prod['C_sum']\n",
    "cust_prod['prod_freq']=cust_prod['prod_cnt']/cust_prod['C_sum']"
   ]
  },
  {
   "cell_type": "code",
   "execution_count": 13,
   "metadata": {
    "collapsed": true
   },
   "outputs": [],
   "source": [
    "cust_prod.to_csv('cust_prod.csv',index=False)"
   ]
  },
  {
   "cell_type": "markdown",
   "metadata": {},
   "source": [
    "# custxprod_cnt, custxprod_freq"
   ]
  },
  {
   "cell_type": "code",
   "execution_count": 2,
   "metadata": {},
   "outputs": [],
   "source": [
    "file_df = pd.read_csv('file_df.csv')"
   ]
  },
  {
   "cell_type": "code",
   "execution_count": 3,
   "metadata": {
    "collapsed": true
   },
   "outputs": [],
   "source": [
    "file_df = file_df[['file_id','first_day','last_day']]"
   ]
  },
  {
   "cell_type": "code",
   "execution_count": 4,
   "metadata": {},
   "outputs": [
    {
     "data": {
      "text/html": [
       "<div>\n",
       "<table border=\"1\" class=\"dataframe\">\n",
       "  <thead>\n",
       "    <tr style=\"text-align: right;\">\n",
       "      <th></th>\n",
       "      <th>file_id</th>\n",
       "      <th>cust_cnt</th>\n",
       "      <th>prod_cnt</th>\n",
       "      <th>C_sum</th>\n",
       "      <th>cust_freq</th>\n",
       "      <th>prod_freq</th>\n",
       "    </tr>\n",
       "  </thead>\n",
       "  <tbody>\n",
       "    <tr>\n",
       "      <th>0</th>\n",
       "      <td>00008c73ee43c15b16c26b26398c1577</td>\n",
       "      <td>91</td>\n",
       "      <td>5</td>\n",
       "      <td>134.0</td>\n",
       "      <td>0.679104</td>\n",
       "      <td>0.037313</td>\n",
       "    </tr>\n",
       "    <tr>\n",
       "      <th>1</th>\n",
       "      <td>0000e2398b12121a85166fed5fe2a3da</td>\n",
       "      <td>3</td>\n",
       "      <td>2</td>\n",
       "      <td>47.0</td>\n",
       "      <td>0.063830</td>\n",
       "      <td>0.042553</td>\n",
       "    </tr>\n",
       "    <tr>\n",
       "      <th>2</th>\n",
       "      <td>0001fe8dce14ce099aa6ca8ea5026ea7</td>\n",
       "      <td>234</td>\n",
       "      <td>3</td>\n",
       "      <td>234.0</td>\n",
       "      <td>1.000000</td>\n",
       "      <td>0.012821</td>\n",
       "    </tr>\n",
       "  </tbody>\n",
       "</table>\n",
       "</div>"
      ],
      "text/plain": [
       "                            file_id  cust_cnt  prod_cnt  C_sum  cust_freq  \\\n",
       "0  00008c73ee43c15b16c26b26398c1577        91         5  134.0   0.679104   \n",
       "1  0000e2398b12121a85166fed5fe2a3da         3         2   47.0   0.063830   \n",
       "2  0001fe8dce14ce099aa6ca8ea5026ea7       234         3  234.0   1.000000   \n",
       "\n",
       "   prod_freq  \n",
       "0   0.037313  \n",
       "1   0.042553  \n",
       "2   0.012821  "
      ]
     },
     "execution_count": 4,
     "metadata": {},
     "output_type": "execute_result"
    }
   ],
   "source": [
    "cust_prod = pd.read_csv('cust_prod.csv')\n",
    "cust_prod.head(3)"
   ]
  },
  {
   "cell_type": "code",
   "execution_count": 5,
   "metadata": {
    "collapsed": true
   },
   "outputs": [],
   "source": [
    "march = pd.read_hdf('march.h5', 'df')\n",
    "march['custxprod'] = march['customer_id']+march['product_id']\n",
    "march = march[['file_id','custxprod','timestamp']]\n",
    "march = march.groupby(['file_id','custxprod']).count().reset_index()"
   ]
  },
  {
   "cell_type": "code",
   "execution_count": 6,
   "metadata": {},
   "outputs": [
    {
     "data": {
      "text/html": [
       "<div>\n",
       "<table border=\"1\" class=\"dataframe\">\n",
       "  <thead>\n",
       "    <tr style=\"text-align: right;\">\n",
       "      <th></th>\n",
       "      <th>file_id</th>\n",
       "      <th>custxprod</th>\n",
       "      <th>timestamp</th>\n",
       "    </tr>\n",
       "  </thead>\n",
       "  <tbody>\n",
       "    <tr>\n",
       "      <th>0</th>\n",
       "      <td>0000e2398b12121a85166fed5fe2a3da</td>\n",
       "      <td>40664c284a10689448522bbae43c3d6f7acab3</td>\n",
       "      <td>5</td>\n",
       "    </tr>\n",
       "    <tr>\n",
       "      <th>1</th>\n",
       "      <td>0000e2398b12121a85166fed5fe2a3da</td>\n",
       "      <td>8f8608546208bf793af086666c6853db7acab3</td>\n",
       "      <td>4</td>\n",
       "    </tr>\n",
       "    <tr>\n",
       "      <th>2</th>\n",
       "      <td>0000e2398b12121a85166fed5fe2a3da</td>\n",
       "      <td>b998eaaa42b24e9c8334d6299d935633055649</td>\n",
       "      <td>38</td>\n",
       "    </tr>\n",
       "  </tbody>\n",
       "</table>\n",
       "</div>"
      ],
      "text/plain": [
       "                            file_id                               custxprod  \\\n",
       "0  0000e2398b12121a85166fed5fe2a3da  40664c284a10689448522bbae43c3d6f7acab3   \n",
       "1  0000e2398b12121a85166fed5fe2a3da  8f8608546208bf793af086666c6853db7acab3   \n",
       "2  0000e2398b12121a85166fed5fe2a3da  b998eaaa42b24e9c8334d6299d935633055649   \n",
       "\n",
       "   timestamp  \n",
       "0          5  \n",
       "1          4  \n",
       "2         38  "
      ]
     },
     "execution_count": 6,
     "metadata": {},
     "output_type": "execute_result"
    }
   ],
   "source": [
    "march.head(3)"
   ]
  },
  {
   "cell_type": "code",
   "execution_count": 9,
   "metadata": {},
   "outputs": [],
   "source": [
    "file_list = file_df['file_id'].unique().tolist()\n",
    "marfile = file_df[file_df['last_day']<32].file_id.tolist()\n",
    "aprfile = file_df[(file_df['first_day']>31)&(file_df['last_day']<62)].file_id.tolist()\n",
    "mayfile = file_df[(file_df['first_day']>61)&(file_df['last_day']<93)].file_id.tolist()\n",
    "otherfile = list(set(file_list)-set(marfile)-set(aprfile)-set(mayfile))"
   ]
  },
  {
   "cell_type": "code",
   "execution_count": 10,
   "metadata": {},
   "outputs": [
    {
     "data": {
      "text/plain": [
       "(24437, 22627, 28873, 5957)"
      ]
     },
     "execution_count": 10,
     "metadata": {},
     "output_type": "execute_result"
    }
   ],
   "source": [
    "len(marfile), len(aprfile), len(mayfile), len(otherfile)"
   ]
  },
  {
   "cell_type": "code",
   "execution_count": 11,
   "metadata": {},
   "outputs": [],
   "source": [
    "march_file_df = march[march.isin(marfile).file_id]\n",
    "march_other_df = march[march.isin(otherfile).file_id]\n",
    "del march\n",
    "gc.collect();"
   ]
  },
  {
   "cell_type": "code",
   "execution_count": 12,
   "metadata": {},
   "outputs": [],
   "source": [
    "march_file_df = march_file_df.groupby('file_id').count().reset_index()"
   ]
  },
  {
   "cell_type": "code",
   "execution_count": 13,
   "metadata": {},
   "outputs": [],
   "source": [
    "march_file_df=march_file_df[['file_id','custxprod']]"
   ]
  },
  {
   "cell_type": "code",
   "execution_count": 14,
   "metadata": {},
   "outputs": [
    {
     "data": {
      "text/plain": [
       "(24437, 2)"
      ]
     },
     "execution_count": 14,
     "metadata": {},
     "output_type": "execute_result"
    }
   ],
   "source": [
    "march_file_df.shape"
   ]
  },
  {
   "cell_type": "code",
   "execution_count": 15,
   "metadata": {
    "collapsed": true
   },
   "outputs": [],
   "source": [
    "april = pd.read_hdf('april.h5', 'df')\n",
    "april['custxprod'] = april['customer_id']+april['product_id']\n",
    "april = april[['file_id','custxprod','timestamp']]\n",
    "april = april.groupby(['file_id','custxprod']).count().reset_index()\n",
    "\n",
    "april_file_df = april[april.isin(aprfile).file_id]\n",
    "april_other_df = april[april.isin(otherfile).file_id]\n",
    "\n",
    "del april\n",
    "gc.collect();\n",
    "\n",
    "april_file_df = april_file_df.groupby('file_id').count().reset_index()\n",
    "april_file_df=april_file_df[['file_id','custxprod']]"
   ]
  },
  {
   "cell_type": "code",
   "execution_count": 16,
   "metadata": {
    "collapsed": true
   },
   "outputs": [],
   "source": [
    "may = pd.read_hdf('may.h5', 'df')\n",
    "may['custxprod'] = may['customer_id']+may['product_id']\n",
    "may = may[['file_id','custxprod','timestamp']]\n",
    "may = may.groupby(['file_id','custxprod']).count().reset_index()\n",
    "\n",
    "may_file_df = may[may.isin(mayfile).file_id]\n",
    "may_other_df = may[may.isin(otherfile).file_id]\n",
    "\n",
    "del may\n",
    "gc.collect();\n",
    "\n",
    "may_file_df = may_file_df.groupby('file_id').count().reset_index()\n",
    "may_file_df=may_file_df[['file_id','custxprod']]\n"
   ]
  },
  {
   "cell_type": "code",
   "execution_count": 17,
   "metadata": {},
   "outputs": [
    {
     "data": {
      "text/html": [
       "<div>\n",
       "<table border=\"1\" class=\"dataframe\">\n",
       "  <thead>\n",
       "    <tr style=\"text-align: right;\">\n",
       "      <th></th>\n",
       "      <th>file_id</th>\n",
       "      <th>custxprod</th>\n",
       "      <th>timestamp</th>\n",
       "    </tr>\n",
       "  </thead>\n",
       "  <tbody>\n",
       "    <tr>\n",
       "      <th>0</th>\n",
       "      <td>000462baadff8a02f7f6fef84d242eed</td>\n",
       "      <td>12</td>\n",
       "      <td>12</td>\n",
       "    </tr>\n",
       "    <tr>\n",
       "      <th>1</th>\n",
       "      <td>0007819a84e047a78fbbd620557104ad</td>\n",
       "      <td>58</td>\n",
       "      <td>58</td>\n",
       "    </tr>\n",
       "    <tr>\n",
       "      <th>2</th>\n",
       "      <td>0011d5f78c56a18dbb60a455c084ecca</td>\n",
       "      <td>67</td>\n",
       "      <td>67</td>\n",
       "    </tr>\n",
       "  </tbody>\n",
       "</table>\n",
       "</div>"
      ],
      "text/plain": [
       "                            file_id  custxprod  timestamp\n",
       "0  000462baadff8a02f7f6fef84d242eed         12         12\n",
       "1  0007819a84e047a78fbbd620557104ad         58         58\n",
       "2  0011d5f78c56a18dbb60a455c084ecca         67         67"
      ]
     },
     "execution_count": 17,
     "metadata": {},
     "output_type": "execute_result"
    }
   ],
   "source": [
    "#deal with other file\n",
    "other_file = pd.concat([march_other_df,april_other_df,may_other_df])\n",
    "del march_other_df, april_other_df, may_other_df\n",
    "gc.collect();\n",
    "\n",
    "other_file = other_file.groupby(['file_id','custxprod']).count().reset_index()\n",
    "other_file = other_file.groupby('file_id').count().reset_index()\n",
    "other_file.head(3)"
   ]
  },
  {
   "cell_type": "code",
   "execution_count": 18,
   "metadata": {},
   "outputs": [],
   "source": [
    "other_file=other_file[['file_id','custxprod']]\n",
    "data = pd.concat([march_file_df,april_file_df,may_file_df,other_file],axis=0)"
   ]
  },
  {
   "cell_type": "code",
   "execution_count": 19,
   "metadata": {},
   "outputs": [
    {
     "data": {
      "text/html": [
       "<div>\n",
       "<table border=\"1\" class=\"dataframe\">\n",
       "  <thead>\n",
       "    <tr style=\"text-align: right;\">\n",
       "      <th></th>\n",
       "      <th>file_id</th>\n",
       "      <th>cust_cnt</th>\n",
       "      <th>prod_cnt</th>\n",
       "      <th>C_sum</th>\n",
       "      <th>cust_freq</th>\n",
       "      <th>prod_freq</th>\n",
       "    </tr>\n",
       "  </thead>\n",
       "  <tbody>\n",
       "    <tr>\n",
       "      <th>0</th>\n",
       "      <td>00008c73ee43c15b16c26b26398c1577</td>\n",
       "      <td>91</td>\n",
       "      <td>5</td>\n",
       "      <td>134.0</td>\n",
       "      <td>0.679104</td>\n",
       "      <td>0.037313</td>\n",
       "    </tr>\n",
       "    <tr>\n",
       "      <th>1</th>\n",
       "      <td>0000e2398b12121a85166fed5fe2a3da</td>\n",
       "      <td>3</td>\n",
       "      <td>2</td>\n",
       "      <td>47.0</td>\n",
       "      <td>0.063830</td>\n",
       "      <td>0.042553</td>\n",
       "    </tr>\n",
       "    <tr>\n",
       "      <th>2</th>\n",
       "      <td>0001fe8dce14ce099aa6ca8ea5026ea7</td>\n",
       "      <td>234</td>\n",
       "      <td>3</td>\n",
       "      <td>234.0</td>\n",
       "      <td>1.000000</td>\n",
       "      <td>0.012821</td>\n",
       "    </tr>\n",
       "  </tbody>\n",
       "</table>\n",
       "</div>"
      ],
      "text/plain": [
       "                            file_id  cust_cnt  prod_cnt  C_sum  cust_freq  \\\n",
       "0  00008c73ee43c15b16c26b26398c1577        91         5  134.0   0.679104   \n",
       "1  0000e2398b12121a85166fed5fe2a3da         3         2   47.0   0.063830   \n",
       "2  0001fe8dce14ce099aa6ca8ea5026ea7       234         3  234.0   1.000000   \n",
       "\n",
       "   prod_freq  \n",
       "0   0.037313  \n",
       "1   0.042553  \n",
       "2   0.012821  "
      ]
     },
     "execution_count": 19,
     "metadata": {},
     "output_type": "execute_result"
    }
   ],
   "source": [
    "data.columns = ['file_id','custxprod_cnt']\n",
    "cust_prod.head(3)"
   ]
  },
  {
   "cell_type": "code",
   "execution_count": 20,
   "metadata": {
    "collapsed": true
   },
   "outputs": [],
   "source": [
    "cust_prod = pd.merge(cust_prod,data,how='left',on='file_id')"
   ]
  },
  {
   "cell_type": "code",
   "execution_count": 27,
   "metadata": {},
   "outputs": [
    {
     "data": {
      "text/html": [
       "<div>\n",
       "<table border=\"1\" class=\"dataframe\">\n",
       "  <thead>\n",
       "    <tr style=\"text-align: right;\">\n",
       "      <th></th>\n",
       "      <th>file_id</th>\n",
       "      <th>cust_cnt</th>\n",
       "      <th>prod_cnt</th>\n",
       "      <th>cust_freq</th>\n",
       "      <th>prod_freq</th>\n",
       "      <th>custxprod_cnt</th>\n",
       "      <th>custxprod_freq</th>\n",
       "    </tr>\n",
       "  </thead>\n",
       "  <tbody>\n",
       "    <tr>\n",
       "      <th>0</th>\n",
       "      <td>00008c73ee43c15b16c26b26398c1577</td>\n",
       "      <td>91</td>\n",
       "      <td>5</td>\n",
       "      <td>0.679104</td>\n",
       "      <td>0.037313</td>\n",
       "      <td>91</td>\n",
       "      <td>0.679104</td>\n",
       "    </tr>\n",
       "    <tr>\n",
       "      <th>1</th>\n",
       "      <td>0000e2398b12121a85166fed5fe2a3da</td>\n",
       "      <td>3</td>\n",
       "      <td>2</td>\n",
       "      <td>0.063830</td>\n",
       "      <td>0.042553</td>\n",
       "      <td>3</td>\n",
       "      <td>0.063830</td>\n",
       "    </tr>\n",
       "    <tr>\n",
       "      <th>2</th>\n",
       "      <td>0001fe8dce14ce099aa6ca8ea5026ea7</td>\n",
       "      <td>234</td>\n",
       "      <td>3</td>\n",
       "      <td>1.000000</td>\n",
       "      <td>0.012821</td>\n",
       "      <td>234</td>\n",
       "      <td>1.000000</td>\n",
       "    </tr>\n",
       "  </tbody>\n",
       "</table>\n",
       "</div>"
      ],
      "text/plain": [
       "                            file_id  cust_cnt  prod_cnt  cust_freq  prod_freq  \\\n",
       "0  00008c73ee43c15b16c26b26398c1577        91         5   0.679104   0.037313   \n",
       "1  0000e2398b12121a85166fed5fe2a3da         3         2   0.063830   0.042553   \n",
       "2  0001fe8dce14ce099aa6ca8ea5026ea7       234         3   1.000000   0.012821   \n",
       "\n",
       "   custxprod_cnt  custxprod_freq  \n",
       "0             91        0.679104  \n",
       "1              3        0.063830  \n",
       "2            234        1.000000  "
      ]
     },
     "execution_count": 27,
     "metadata": {},
     "output_type": "execute_result"
    }
   ],
   "source": [
    "cust_prod.head(3)"
   ]
  },
  {
   "cell_type": "code",
   "execution_count": 23,
   "metadata": {},
   "outputs": [],
   "source": [
    "cust_prod['custxprod_freq']=cust_prod['custxprod_cnt']/cust_prod['C_sum']"
   ]
  },
  {
   "cell_type": "code",
   "execution_count": 25,
   "metadata": {
    "collapsed": true
   },
   "outputs": [],
   "source": [
    "cust_prod.drop('C_sum',axis=1,inplace=True)"
   ]
  },
  {
   "cell_type": "code",
   "execution_count": 26,
   "metadata": {
    "collapsed": true
   },
   "outputs": [],
   "source": [
    "cust_prod.to_csv('cust_prod.csv',index=False)"
   ]
  },
  {
   "cell_type": "code",
   "execution_count": null,
   "metadata": {
    "collapsed": true
   },
   "outputs": [],
   "source": []
  }
 ],
 "metadata": {
  "kernelspec": {
   "display_name": "Python 3",
   "language": "python",
   "name": "python3"
  },
  "language_info": {
   "codemirror_mode": {
    "name": "ipython",
    "version": 3
   },
   "file_extension": ".py",
   "mimetype": "text/x-python",
   "name": "python",
   "nbconvert_exporter": "python",
   "pygments_lexer": "ipython3",
   "version": "3.6.6"
  },
  "toc": {
   "base_numbering": 1,
   "nav_menu": {},
   "number_sections": true,
   "sideBar": true,
   "skip_h1_title": false,
   "title_cell": "Table of Contents",
   "title_sidebar": "Contents",
   "toc_cell": false,
   "toc_position": {},
   "toc_section_display": true,
   "toc_window_display": false
  },
  "varInspector": {
   "cols": {
    "lenName": 16,
    "lenType": 16,
    "lenVar": 40
   },
   "kernels_config": {
    "python": {
     "delete_cmd_postfix": "",
     "delete_cmd_prefix": "del ",
     "library": "var_list.py",
     "varRefreshCmd": "print(var_dic_list())"
    },
    "r": {
     "delete_cmd_postfix": ") ",
     "delete_cmd_prefix": "rm(",
     "library": "var_list.r",
     "varRefreshCmd": "cat(var_dic_list()) "
    }
   },
   "types_to_exclude": [
    "module",
    "function",
    "builtin_function_or_method",
    "instance",
    "_Feature"
   ],
   "window_display": false
  }
 },
 "nbformat": 4,
 "nbformat_minor": 2
}
